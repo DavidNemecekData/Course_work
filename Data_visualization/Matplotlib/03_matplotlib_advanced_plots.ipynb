{
 "cells": [
  {
   "cell_type": "markdown",
   "metadata": {},
   "source": [
    "Read from the file **Population in Poland - projections.xlsx**, from the sheet **natural and migratory movement** the values of the column 'Foreign permanent migration - Balance'. Display it on a bar chart.\n",
    "\n",
    "Under each bar add a label with the year."
   ]
  },
  {
   "cell_type": "code",
   "execution_count": 2,
   "metadata": {},
   "outputs": [],
   "source": [
    "import pandas as pd\n",
    "import matplotlib.pyplot as plt"
   ]
  },
  {
   "cell_type": "code",
   "execution_count": 3,
   "metadata": {},
   "outputs": [],
   "source": [
    "df = pd.read_excel('../01_Data for plots/Population in Poland - projections.xlsx', \n",
    "                        sheet_name='natural and migratory movement')"
   ]
  },
  {
   "cell_type": "code",
   "execution_count": 4,
   "metadata": {},
   "outputs": [
    {
     "data": {
      "text/html": [
       "<div>\n",
       "<style scoped>\n",
       "    .dataframe tbody tr th:only-of-type {\n",
       "        vertical-align: middle;\n",
       "    }\n",
       "\n",
       "    .dataframe tbody tr th {\n",
       "        vertical-align: top;\n",
       "    }\n",
       "\n",
       "    .dataframe thead th {\n",
       "        text-align: right;\n",
       "    }\n",
       "</style>\n",
       "<table border=\"1\" class=\"dataframe\">\n",
       "  <thead>\n",
       "    <tr style=\"text-align: right;\">\n",
       "      <th></th>\n",
       "      <th>Year</th>\n",
       "      <th>Population on Dec 31</th>\n",
       "      <th>Natural increase - Births</th>\n",
       "      <th>Natural decrease - Deaths</th>\n",
       "      <th>Foreign permanent migration - Immigration</th>\n",
       "      <th>Foreign permanent migration - Emigration</th>\n",
       "      <th>Foreign permanent migration - Balance</th>\n",
       "    </tr>\n",
       "  </thead>\n",
       "  <tbody>\n",
       "    <tr>\n",
       "      <th>0</th>\n",
       "      <td>2014</td>\n",
       "      <td>38005614</td>\n",
       "      <td>375160</td>\n",
       "      <td>376467</td>\n",
       "      <td>46129</td>\n",
       "      <td>54960</td>\n",
       "      <td>-8831</td>\n",
       "    </tr>\n",
       "    <tr>\n",
       "      <th>1</th>\n",
       "      <td>2015</td>\n",
       "      <td>38001529</td>\n",
       "      <td>376407</td>\n",
       "      <td>375377</td>\n",
       "      <td>47542</td>\n",
       "      <td>52657</td>\n",
       "      <td>-5115</td>\n",
       "    </tr>\n",
       "    <tr>\n",
       "      <th>2</th>\n",
       "      <td>2016</td>\n",
       "      <td>38001253</td>\n",
       "      <td>375756</td>\n",
       "      <td>379681</td>\n",
       "      <td>56045</td>\n",
       "      <td>52396</td>\n",
       "      <td>3649</td>\n",
       "    </tr>\n",
       "    <tr>\n",
       "      <th>3</th>\n",
       "      <td>2017</td>\n",
       "      <td>37989781</td>\n",
       "      <td>373569</td>\n",
       "      <td>383488</td>\n",
       "      <td>50552</td>\n",
       "      <td>52105</td>\n",
       "      <td>-1553</td>\n",
       "    </tr>\n",
       "    <tr>\n",
       "      <th>4</th>\n",
       "      <td>2018</td>\n",
       "      <td>37973268</td>\n",
       "      <td>370033</td>\n",
       "      <td>386849</td>\n",
       "      <td>52063</td>\n",
       "      <td>51760</td>\n",
       "      <td>303</td>\n",
       "    </tr>\n",
       "  </tbody>\n",
       "</table>\n",
       "</div>"
      ],
      "text/plain": [
       "   Year  Population on Dec 31  Natural increase - Births  \\\n",
       "0  2014              38005614                     375160   \n",
       "1  2015              38001529                     376407   \n",
       "2  2016              38001253                     375756   \n",
       "3  2017              37989781                     373569   \n",
       "4  2018              37973268                     370033   \n",
       "\n",
       "   Natural decrease - Deaths  Foreign permanent migration - Immigration  \\\n",
       "0                     376467                                      46129   \n",
       "1                     375377                                      47542   \n",
       "2                     379681                                      56045   \n",
       "3                     383488                                      50552   \n",
       "4                     386849                                      52063   \n",
       "\n",
       "   Foreign permanent migration - Emigration  \\\n",
       "0                                     54960   \n",
       "1                                     52657   \n",
       "2                                     52396   \n",
       "3                                     52105   \n",
       "4                                     51760   \n",
       "\n",
       "   Foreign permanent migration - Balance  \n",
       "0                                  -8831  \n",
       "1                                  -5115  \n",
       "2                                   3649  \n",
       "3                                  -1553  \n",
       "4                                    303  "
      ]
     },
     "execution_count": 4,
     "metadata": {},
     "output_type": "execute_result"
    }
   ],
   "source": [
    "df.head(5)"
   ]
  },
  {
   "cell_type": "code",
   "execution_count": 5,
   "metadata": {},
   "outputs": [],
   "source": [
    "years = []"
   ]
  },
  {
   "cell_type": "code",
   "execution_count": 6,
   "metadata": {},
   "outputs": [],
   "source": [
    "for year in df['Year']:\n",
    "    years.append(year)"
   ]
  },
  {
   "cell_type": "code",
   "execution_count": 7,
   "metadata": {},
   "outputs": [
    {
     "data": {
      "image/png": "[encoded data removed]",
      "text/plain": [
       "<Figure size 1500x600 with 1 Axes>"
      ]
     },
     "metadata": {},
     "output_type": "display_data"
    }
   ],
   "source": [
    "plt.figure(figsize=(15,6))\n",
    "plt.bar(years, df['Foreign permanent migration - Balance'])\n",
    "plt.title('Foreign permanent migration in Poland')\n",
    "plt.xticks(years, rotation=45)\n",
    "plt.ylabel('Total')\n",
    "plt.xlabel('Year')\n",
    "plt.show()"
   ]
  }
 ],
 "metadata": {
  "kernelspec": {
   "display_name": "base",
   "language": "python",
   "name": "python3"
  },
  "language_info": {
   "codemirror_mode": {
    "name": "ipython",
    "version": 3
   },
   "file_extension": ".py",
   "mimetype": "text/x-python",
   "name": "python",
   "nbconvert_exporter": "python",
   "pygments_lexer": "ipython3",
   "version": "3.12.7"
  }
 },
 "nbformat": 4,
 "nbformat_minor": 4
}
