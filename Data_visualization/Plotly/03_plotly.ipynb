{
  "cells": [
    {
      "cell_type": "code",
      "execution_count": 66,
      "metadata": {
        "id": "Z4Ihdok4A09f"
      },
      "outputs": [],
      "source": [
        "import pandas as pd\n",
        "import seaborn as sns\n",
        "import matplotlib.pyplot as plt\n",
        "from matplotlib.colors import ListedColormap\n",
        "import plotly.express as px"
      ]
    },
    {
      "cell_type": "markdown",
      "metadata": {
        "id": "lmfoUO5JRLk_"
      },
      "source": [
        "## Data breaches"
      ]
    },
    {
      "cell_type": "markdown",
      "metadata": {
        "id": "6OXlgUUqCbly"
      },
      "source": [
        "### Dataset contents"
      ]
    },
    {
      "cell_type": "markdown",
      "metadata": {
        "id": "pbzImPwlRdag"
      },
      "source": [
        "The dataset includes information on:\n",
        "\n",
        "* **Year** - the year of the breach\n",
        "* **Organization type** - industry sector of the organization affected by the breach\n",
        "* **Method** - the event that resulted in the breach.\n",
        "* **Records** - number of items in the breach\n",
        "* **Count of Breaches** - number of breaches that occurred."
      ]
    },
    {
      "cell_type": "code",
      "execution_count": 67,
      "metadata": {
        "id": "AtFURsSICndY"
      },
      "outputs": [
        {
          "data": {
            "text/html": [
              "<div>\n",
              "<style scoped>\n",
              "    .dataframe tbody tr th:only-of-type {\n",
              "        vertical-align: middle;\n",
              "    }\n",
              "\n",
              "    .dataframe tbody tr th {\n",
              "        vertical-align: top;\n",
              "    }\n",
              "\n",
              "    .dataframe thead th {\n",
              "        text-align: right;\n",
              "    }\n",
              "</style>\n",
              "<table border=\"1\" class=\"dataframe\">\n",
              "  <thead>\n",
              "    <tr style=\"text-align: right;\">\n",
              "      <th></th>\n",
              "      <th>Year</th>\n",
              "      <th>Organization type</th>\n",
              "      <th>Method</th>\n",
              "      <th>Total No Records (M)</th>\n",
              "      <th>Count of Breaches</th>\n",
              "    </tr>\n",
              "  </thead>\n",
              "  <tbody>\n",
              "    <tr>\n",
              "      <th>0</th>\n",
              "      <td>2016</td>\n",
              "      <td>healthcare</td>\n",
              "      <td>hacked</td>\n",
              "      <td>2.200000</td>\n",
              "      <td>1</td>\n",
              "    </tr>\n",
              "    <tr>\n",
              "      <th>1</th>\n",
              "      <td>2020</td>\n",
              "      <td>media</td>\n",
              "      <td>hacked</td>\n",
              "      <td>14.870304</td>\n",
              "      <td>1</td>\n",
              "    </tr>\n",
              "    <tr>\n",
              "      <th>2</th>\n",
              "      <td>2020</td>\n",
              "      <td>healthcare</td>\n",
              "      <td>poor security</td>\n",
              "      <td>0.566600</td>\n",
              "      <td>2</td>\n",
              "    </tr>\n",
              "    <tr>\n",
              "      <th>3</th>\n",
              "      <td>2013</td>\n",
              "      <td>tech</td>\n",
              "      <td>hacked</td>\n",
              "      <td>3350.159298</td>\n",
              "      <td>14</td>\n",
              "    </tr>\n",
              "    <tr>\n",
              "      <th>4</th>\n",
              "      <td>2019</td>\n",
              "      <td>tech</td>\n",
              "      <td>poor security</td>\n",
              "      <td>592.500000</td>\n",
              "      <td>4</td>\n",
              "    </tr>\n",
              "    <tr>\n",
              "      <th>...</th>\n",
              "      <td>...</td>\n",
              "      <td>...</td>\n",
              "      <td>...</td>\n",
              "      <td>...</td>\n",
              "      <td>...</td>\n",
              "    </tr>\n",
              "    <tr>\n",
              "      <th>163</th>\n",
              "      <td>2010</td>\n",
              "      <td>academic / educational</td>\n",
              "      <td>accidentally exposed</td>\n",
              "      <td>0.043000</td>\n",
              "      <td>1</td>\n",
              "    </tr>\n",
              "    <tr>\n",
              "      <th>164</th>\n",
              "      <td>2019</td>\n",
              "      <td>media</td>\n",
              "      <td>hacked</td>\n",
              "      <td>173.000000</td>\n",
              "      <td>1</td>\n",
              "    </tr>\n",
              "    <tr>\n",
              "      <th>165</th>\n",
              "      <td>2019</td>\n",
              "      <td>financial</td>\n",
              "      <td>hacked</td>\n",
              "      <td>0.098000</td>\n",
              "      <td>1</td>\n",
              "    </tr>\n",
              "    <tr>\n",
              "      <th>166</th>\n",
              "      <td>2020</td>\n",
              "      <td>financial</td>\n",
              "      <td>accidentally exposed</td>\n",
              "      <td>200.000000</td>\n",
              "      <td>1</td>\n",
              "    </tr>\n",
              "    <tr>\n",
              "      <th>167</th>\n",
              "      <td>2020</td>\n",
              "      <td>media</td>\n",
              "      <td>unknown</td>\n",
              "      <td>0.380000</td>\n",
              "      <td>1</td>\n",
              "    </tr>\n",
              "  </tbody>\n",
              "</table>\n",
              "<p>168 rows × 5 columns</p>\n",
              "</div>"
            ],
            "text/plain": [
              "     Year       Organization type                Method  Total No Records (M)  \\\n",
              "0    2016              healthcare                hacked              2.200000   \n",
              "1    2020                   media                hacked             14.870304   \n",
              "2    2020              healthcare         poor security              0.566600   \n",
              "3    2013                    tech                hacked           3350.159298   \n",
              "4    2019                    tech         poor security            592.500000   \n",
              "..    ...                     ...                   ...                   ...   \n",
              "163  2010  academic / educational  accidentally exposed              0.043000   \n",
              "164  2019                   media                hacked            173.000000   \n",
              "165  2019               financial                hacked              0.098000   \n",
              "166  2020               financial  accidentally exposed            200.000000   \n",
              "167  2020                   media               unknown              0.380000   \n",
              "\n",
              "     Count of Breaches  \n",
              "0                    1  \n",
              "1                    1  \n",
              "2                    2  \n",
              "3                   14  \n",
              "4                    4  \n",
              "..                 ...  \n",
              "163                  1  \n",
              "164                  1  \n",
              "165                  1  \n",
              "166                  1  \n",
              "167                  1  \n",
              "\n",
              "[168 rows x 5 columns]"
            ]
          },
          "execution_count": 67,
          "metadata": {},
          "output_type": "execute_result"
        }
      ],
      "source": [
        "data_breaches = pd.read_csv('./Preparation of the dataset/Data Breaches/data_breaches.csv')\n",
        "data_breaches"
      ]
    },
    {
      "cell_type": "markdown",
      "metadata": {
        "id": "qXtwy86UTE6Q"
      },
      "source": [
        "## Notebook preparation"
      ]
    },
    {
      "cell_type": "markdown",
      "metadata": {
        "id": "KS6QBIH6UQsy"
      },
      "source": [
        "#### Checking data types"
      ]
    },
    {
      "cell_type": "code",
      "execution_count": 68,
      "metadata": {
        "id": "RNrZU9fDUj7M"
      },
      "outputs": [
        {
          "data": {
            "text/plain": [
              "Year                      int64\n",
              "Organization type        object\n",
              "Method                   object\n",
              "Total No Records (M)    float64\n",
              "Count of Breaches         int64\n",
              "dtype: object"
            ]
          },
          "execution_count": 68,
          "metadata": {},
          "output_type": "execute_result"
        }
      ],
      "source": [
        "data_breaches.dtypes"
      ]
    },
    {
      "cell_type": "code",
      "execution_count": 69,
      "metadata": {
        "id": "WL8ioEjUVaw4"
      },
      "outputs": [
        {
          "data": {
            "text/plain": [
              "'complete records: 168; total records: 168'"
            ]
          },
          "execution_count": 69,
          "metadata": {},
          "output_type": "execute_result"
        }
      ],
      "source": [
        "\"complete records: \" + str(len(data_breaches.dropna(how=\"any\"))) + \"; total records: \" + str(len(data_breaches))"
      ]
    },
    {
      "cell_type": "markdown",
      "metadata": {
        "id": "hpzvgionV2eJ"
      },
      "source": [
        "### Converting organization types to categories"
      ]
    },
    {
      "cell_type": "code",
      "execution_count": 70,
      "metadata": {
        "id": "g5JBw3uiWLF_"
      },
      "outputs": [
        {
          "data": {
            "text/plain": [
              "Organization type\n",
              "tech                      30\n",
              "financial                 30\n",
              "government                24\n",
              "healthcare                23\n",
              "telecom                   17\n",
              "retail                    15\n",
              "media                     10\n",
              "other                     10\n",
              "academic / educational     9\n",
              "Name: count, dtype: int64"
            ]
          },
          "execution_count": 70,
          "metadata": {},
          "output_type": "execute_result"
        }
      ],
      "source": [
        "data_breaches[\"Organization type\"].value_counts()"
      ]
    },
    {
      "cell_type": "code",
      "execution_count": 71,
      "metadata": {
        "id": "0Fi5tT4DWb9I"
      },
      "outputs": [],
      "source": [
        "data_breaches[\"Organization type\"] = data_breaches[\"Organization type\"].astype(\"category\")"
      ]
    },
    {
      "cell_type": "markdown",
      "metadata": {
        "id": "ud__K4EuW7ii"
      },
      "source": [
        "### Converting methods to categories"
      ]
    },
    {
      "cell_type": "code",
      "execution_count": 72,
      "metadata": {
        "id": "S8fiH7YnXQNe"
      },
      "outputs": [
        {
          "data": {
            "text/plain": [
              "Method\n",
              "hacked                  76\n",
              "poor security           28\n",
              "lost / stolen media     24\n",
              "inside job              16\n",
              "accidentally exposed    14\n",
              "unknown                  4\n",
              "misconfiguration         4\n",
              "rogue contractor         1\n",
              "social engineering       1\n",
              "Name: count, dtype: int64"
            ]
          },
          "execution_count": 72,
          "metadata": {},
          "output_type": "execute_result"
        }
      ],
      "source": [
        "data_breaches[\"Method\"].value_counts()"
      ]
    },
    {
      "cell_type": "code",
      "execution_count": 73,
      "metadata": {
        "id": "ZCIacTWNXeib"
      },
      "outputs": [
        {
          "data": {
            "text/plain": [
              "Year                       int64\n",
              "Organization type       category\n",
              "Method                  category\n",
              "Total No Records (M)     float64\n",
              "Count of Breaches          int64\n",
              "dtype: object"
            ]
          },
          "execution_count": 73,
          "metadata": {},
          "output_type": "execute_result"
        }
      ],
      "source": [
        "data_breaches[\"Method\"] = data_breaches[\"Method\"].astype(\"category\")\n",
        "data_breaches.dtypes"
      ]
    },
    {
      "cell_type": "markdown",
      "metadata": {
        "id": "xvtdzocWTCkY"
      },
      "source": [
        "## Exercises"
      ]
    },
    {
      "cell_type": "markdown",
      "metadata": {},
      "source": [
        "**Exercise 1**"
      ]
    },
    {
      "cell_type": "code",
      "execution_count": 74,
      "metadata": {},
      "outputs": [
        {
          "data": {
            "application/vnd.plotly.v1+json": {
              "config": {
                "plotlyServerURL": "https://plot.ly"
              },
              "data": [
                {
                  "customdata": [
                    0,
                    1,
                    2,
                    3,
                    4,
                    5,
                    6,
                    7,
                    8,
                    9,
                    10
                  ],
                  "hovertemplate": "%{y}[%{customdata}] = %{marker.color}<extra></extra>",
                  "marker": {
                    "color": [
                      "rgb(229, 134, 6)",
                      "rgb(93, 105, 177)",
                      "rgb(82, 188, 163)",
                      "rgb(153, 201, 69)",
                      "rgb(204, 97, 176)",
                      "rgb(36, 121, 108)",
                      "rgb(218, 165, 27)",
                      "rgb(47, 138, 196)",
                      "rgb(118, 78, 159)",
                      "rgb(237, 100, 90)",
                      "rgb(165, 170, 153)"
                    ]
                  },
                  "orientation": "h",
                  "type": "bar",
                  "x": [
                    1,
                    1,
                    1,
                    1,
                    1,
                    1,
                    1,
                    1,
                    1,
                    1,
                    1
                  ],
                  "y": [
                    "Vivid",
                    "Vivid",
                    "Vivid",
                    "Vivid",
                    "Vivid",
                    "Vivid",
                    "Vivid",
                    "Vivid",
                    "Vivid",
                    "Vivid",
                    "Vivid"
                  ]
                },
                {
                  "customdata": [
                    0,
                    1,
                    2,
                    3,
                    4,
                    5,
                    6,
                    7,
                    8,
                    9,
                    10
                  ],
                  "hovertemplate": "%{y}[%{customdata}] = %{marker.color}<extra></extra>",
                  "marker": {
                    "color": [
                      "rgb(136, 204, 238)",
                      "rgb(204, 102, 119)",
                      "rgb(221, 204, 119)",
                      "rgb(17, 119, 51)",
                      "rgb(51, 34, 136)",
                      "rgb(170, 68, 153)",
                      "rgb(68, 170, 153)",
                      "rgb(153, 153, 51)",
                      "rgb(136, 34, 85)",
                      "rgb(102, 17, 0)",
                      "rgb(136, 136, 136)"
                    ]
                  },
                  "orientation": "h",
                  "type": "bar",
                  "x": [
                    1,
                    1,
                    1,
                    1,
                    1,
                    1,
                    1,
                    1,
                    1,
                    1,
                    1
                  ],
                  "y": [
                    "Safe",
                    "Safe",
                    "Safe",
                    "Safe",
                    "Safe",
                    "Safe",
                    "Safe",
                    "Safe",
                    "Safe",
                    "Safe",
                    "Safe"
                  ]
                },
                {
                  "customdata": [
                    0,
                    1,
                    2,
                    3,
                    4,
                    5,
                    6,
                    7,
                    8,
                    9,
                    10
                  ],
                  "hovertemplate": "%{y}[%{customdata}] = %{marker.color}<extra></extra>",
                  "marker": {
                    "color": [
                      "rgb(95, 70, 144)",
                      "rgb(29, 105, 150)",
                      "rgb(56, 166, 165)",
                      "rgb(15, 133, 84)",
                      "rgb(115, 175, 72)",
                      "rgb(237, 173, 8)",
                      "rgb(225, 124, 5)",
                      "rgb(204, 80, 62)",
                      "rgb(148, 52, 110)",
                      "rgb(111, 64, 112)",
                      "rgb(102, 102, 102)"
                    ]
                  },
                  "orientation": "h",
                  "type": "bar",
                  "x": [
                    1,
                    1,
                    1,
                    1,
                    1,
                    1,
                    1,
                    1,
                    1,
                    1,
                    1
                  ],
                  "y": [
                    "Prism",
                    "Prism",
                    "Prism",
                    "Prism",
                    "Prism",
                    "Prism",
                    "Prism",
                    "Prism",
                    "Prism",
                    "Prism",
                    "Prism"
                  ]
                },
                {
                  "customdata": [
                    0,
                    1,
                    2,
                    3,
                    4,
                    5,
                    6,
                    7,
                    8,
                    9,
                    10
                  ],
                  "hovertemplate": "%{y}[%{customdata}] = %{marker.color}<extra></extra>",
                  "marker": {
                    "color": [
                      "rgb(102, 197, 204)",
                      "rgb(246, 207, 113)",
                      "rgb(248, 156, 116)",
                      "rgb(220, 176, 242)",
                      "rgb(135, 197, 95)",
                      "rgb(158, 185, 243)",
                      "rgb(254, 136, 177)",
                      "rgb(201, 219, 116)",
                      "rgb(139, 224, 164)",
                      "rgb(180, 151, 231)",
                      "rgb(179, 179, 179)"
                    ]
                  },
                  "orientation": "h",
                  "type": "bar",
                  "x": [
                    1,
                    1,
                    1,
                    1,
                    1,
                    1,
                    1,
                    1,
                    1,
                    1,
                    1
                  ],
                  "y": [
                    "Pastel",
                    "Pastel",
                    "Pastel",
                    "Pastel",
                    "Pastel",
                    "Pastel",
                    "Pastel",
                    "Pastel",
                    "Pastel",
                    "Pastel",
                    "Pastel"
                  ]
                },
                {
                  "customdata": [
                    0,
                    1,
                    2,
                    3,
                    4,
                    5,
                    6,
                    7,
                    8,
                    9,
                    10
                  ],
                  "hovertemplate": "%{y}[%{customdata}] = %{marker.color}<extra></extra>",
                  "marker": {
                    "color": [
                      "rgb(127, 60, 141)",
                      "rgb(17, 165, 121)",
                      "rgb(57, 105, 172)",
                      "rgb(242, 183, 1)",
                      "rgb(231, 63, 116)",
                      "rgb(128, 186, 90)",
                      "rgb(230, 131, 16)",
                      "rgb(0, 134, 149)",
                      "rgb(207, 28, 144)",
                      "rgb(249, 123, 114)",
                      "rgb(165, 170, 153)"
                    ]
                  },
                  "orientation": "h",
                  "type": "bar",
                  "x": [
                    1,
                    1,
                    1,
                    1,
                    1,
                    1,
                    1,
                    1,
                    1,
                    1,
                    1
                  ],
                  "y": [
                    "Bold",
                    "Bold",
                    "Bold",
                    "Bold",
                    "Bold",
                    "Bold",
                    "Bold",
                    "Bold",
                    "Bold",
                    "Bold",
                    "Bold"
                  ]
                },
                {
                  "customdata": [
                    0,
                    1,
                    2,
                    3,
                    4,
                    5,
                    6,
                    7,
                    8,
                    9,
                    10
                  ],
                  "hovertemplate": "%{y}[%{customdata}] = %{marker.color}<extra></extra>",
                  "marker": {
                    "color": [
                      "rgb(133, 92, 117)",
                      "rgb(217, 175, 107)",
                      "rgb(175, 100, 88)",
                      "rgb(115, 111, 76)",
                      "rgb(82, 106, 131)",
                      "rgb(98, 83, 119)",
                      "rgb(104, 133, 92)",
                      "rgb(156, 156, 94)",
                      "rgb(160, 97, 119)",
                      "rgb(140, 120, 93)",
                      "rgb(124, 124, 124)"
                    ]
                  },
                  "orientation": "h",
                  "type": "bar",
                  "x": [
                    1,
                    1,
                    1,
                    1,
                    1,
                    1,
                    1,
                    1,
                    1,
                    1,
                    1
                  ],
                  "y": [
                    "Antique",
                    "Antique",
                    "Antique",
                    "Antique",
                    "Antique",
                    "Antique",
                    "Antique",
                    "Antique",
                    "Antique",
                    "Antique",
                    "Antique"
                  ]
                },
                {
                  "customdata": [
                    0,
                    1,
                    2,
                    3,
                    4,
                    5,
                    6,
                    7,
                    8,
                    9,
                    10,
                    11
                  ],
                  "hovertemplate": "%{y}[%{customdata}] = %{marker.color}<extra></extra>",
                  "marker": {
                    "color": [
                      "rgb(141,211,199)",
                      "rgb(255,255,179)",
                      "rgb(190,186,218)",
                      "rgb(251,128,114)",
                      "rgb(128,177,211)",
                      "rgb(253,180,98)",
                      "rgb(179,222,105)",
                      "rgb(252,205,229)",
                      "rgb(217,217,217)",
                      "rgb(188,128,189)",
                      "rgb(204,235,197)",
                      "rgb(255,237,111)"
                    ]
                  },
                  "orientation": "h",
                  "type": "bar",
                  "x": [
                    1,
                    1,
                    1,
                    1,
                    1,
                    1,
                    1,
                    1,
                    1,
                    1,
                    1,
                    1
                  ],
                  "y": [
                    "Set3",
                    "Set3",
                    "Set3",
                    "Set3",
                    "Set3",
                    "Set3",
                    "Set3",
                    "Set3",
                    "Set3",
                    "Set3",
                    "Set3",
                    "Set3"
                  ]
                },
                {
                  "customdata": [
                    0,
                    1,
                    2,
                    3,
                    4,
                    5,
                    6,
                    7
                  ],
                  "hovertemplate": "%{y}[%{customdata}] = %{marker.color}<extra></extra>",
                  "marker": {
                    "color": [
                      "rgb(179,226,205)",
                      "rgb(253,205,172)",
                      "rgb(203,213,232)",
                      "rgb(244,202,228)",
                      "rgb(230,245,201)",
                      "rgb(255,242,174)",
                      "rgb(241,226,204)",
                      "rgb(204,204,204)"
                    ]
                  },
                  "orientation": "h",
                  "type": "bar",
                  "x": [
                    1,
                    1,
                    1,
                    1,
                    1,
                    1,
                    1,
                    1
                  ],
                  "y": [
                    "Pastel2",
                    "Pastel2",
                    "Pastel2",
                    "Pastel2",
                    "Pastel2",
                    "Pastel2",
                    "Pastel2",
                    "Pastel2"
                  ]
                },
                {
                  "customdata": [
                    0,
                    1,
                    2,
                    3,
                    4,
                    5,
                    6,
                    7
                  ],
                  "hovertemplate": "%{y}[%{customdata}] = %{marker.color}<extra></extra>",
                  "marker": {
                    "color": [
                      "rgb(102,194,165)",
                      "rgb(252,141,98)",
                      "rgb(141,160,203)",
                      "rgb(231,138,195)",
                      "rgb(166,216,84)",
                      "rgb(255,217,47)",
                      "rgb(229,196,148)",
                      "rgb(179,179,179)"
                    ]
                  },
                  "orientation": "h",
                  "type": "bar",
                  "x": [
                    1,
                    1,
                    1,
                    1,
                    1,
                    1,
                    1,
                    1
                  ],
                  "y": [
                    "Set2",
                    "Set2",
                    "Set2",
                    "Set2",
                    "Set2",
                    "Set2",
                    "Set2",
                    "Set2"
                  ]
                },
                {
                  "customdata": [
                    0,
                    1,
                    2,
                    3,
                    4,
                    5,
                    6,
                    7
                  ],
                  "hovertemplate": "%{y}[%{customdata}] = %{marker.color}<extra></extra>",
                  "marker": {
                    "color": [
                      "rgb(27,158,119)",
                      "rgb(217,95,2)",
                      "rgb(117,112,179)",
                      "rgb(231,41,138)",
                      "rgb(102,166,30)",
                      "rgb(230,171,2)",
                      "rgb(166,118,29)",
                      "rgb(102,102,102)"
                    ]
                  },
                  "orientation": "h",
                  "type": "bar",
                  "x": [
                    1,
                    1,
                    1,
                    1,
                    1,
                    1,
                    1,
                    1
                  ],
                  "y": [
                    "Dark2",
                    "Dark2",
                    "Dark2",
                    "Dark2",
                    "Dark2",
                    "Dark2",
                    "Dark2",
                    "Dark2"
                  ]
                },
                {
                  "customdata": [
                    0,
                    1,
                    2,
                    3,
                    4,
                    5,
                    6,
                    7,
                    8
                  ],
                  "hovertemplate": "%{y}[%{customdata}] = %{marker.color}<extra></extra>",
                  "marker": {
                    "color": [
                      "rgb(251,180,174)",
                      "rgb(179,205,227)",
                      "rgb(204,235,197)",
                      "rgb(222,203,228)",
                      "rgb(254,217,166)",
                      "rgb(255,255,204)",
                      "rgb(229,216,189)",
                      "rgb(253,218,236)",
                      "rgb(242,242,242)"
                    ]
                  },
                  "orientation": "h",
                  "type": "bar",
                  "x": [
                    1,
                    1,
                    1,
                    1,
                    1,
                    1,
                    1,
                    1,
                    1
                  ],
                  "y": [
                    "Pastel1",
                    "Pastel1",
                    "Pastel1",
                    "Pastel1",
                    "Pastel1",
                    "Pastel1",
                    "Pastel1",
                    "Pastel1",
                    "Pastel1"
                  ]
                },
                {
                  "customdata": [
                    0,
                    1,
                    2,
                    3,
                    4,
                    5,
                    6,
                    7,
                    8
                  ],
                  "hovertemplate": "%{y}[%{customdata}] = %{marker.color}<extra></extra>",
                  "marker": {
                    "color": [
                      "rgb(228,26,28)",
                      "rgb(55,126,184)",
                      "rgb(77,175,74)",
                      "rgb(152,78,163)",
                      "rgb(255,127,0)",
                      "rgb(255,255,51)",
                      "rgb(166,86,40)",
                      "rgb(247,129,191)",
                      "rgb(153,153,153)"
                    ]
                  },
                  "orientation": "h",
                  "type": "bar",
                  "x": [
                    1,
                    1,
                    1,
                    1,
                    1,
                    1,
                    1,
                    1,
                    1
                  ],
                  "y": [
                    "Set1",
                    "Set1",
                    "Set1",
                    "Set1",
                    "Set1",
                    "Set1",
                    "Set1",
                    "Set1",
                    "Set1"
                  ]
                },
                {
                  "customdata": [
                    0,
                    1,
                    2,
                    3,
                    4,
                    5,
                    6,
                    7,
                    8,
                    9,
                    10,
                    11,
                    12,
                    13,
                    14,
                    15,
                    16,
                    17,
                    18,
                    19,
                    20,
                    21,
                    22,
                    23
                  ],
                  "hovertemplate": "%{y}[%{customdata}] = %{marker.color}<extra></extra>",
                  "marker": {
                    "color": [
                      "#FD3216",
                      "#00FE35",
                      "#6A76FC",
                      "#FED4C4",
                      "#FE00CE",
                      "#0DF9FF",
                      "#F6F926",
                      "#FF9616",
                      "#479B55",
                      "#EEA6FB",
                      "#DC587D",
                      "#D626FF",
                      "#6E899C",
                      "#00B5F7",
                      "#B68E00",
                      "#C9FBE5",
                      "#FF0092",
                      "#22FFA7",
                      "#E3EE9E",
                      "#86CE00",
                      "#BC7196",
                      "#7E7DCD",
                      "#FC6955",
                      "#E48F72"
                    ]
                  },
                  "orientation": "h",
                  "type": "bar",
                  "x": [
                    1,
                    1,
                    1,
                    1,
                    1,
                    1,
                    1,
                    1,
                    1,
                    1,
                    1,
                    1,
                    1,
                    1,
                    1,
                    1,
                    1,
                    1,
                    1,
                    1,
                    1,
                    1,
                    1,
                    1
                  ],
                  "y": [
                    "Light24",
                    "Light24",
                    "Light24",
                    "Light24",
                    "Light24",
                    "Light24",
                    "Light24",
                    "Light24",
                    "Light24",
                    "Light24",
                    "Light24",
                    "Light24",
                    "Light24",
                    "Light24",
                    "Light24",
                    "Light24",
                    "Light24",
                    "Light24",
                    "Light24",
                    "Light24",
                    "Light24",
                    "Light24",
                    "Light24",
                    "Light24"
                  ]
                },
                {
                  "customdata": [
                    0,
                    1,
                    2,
                    3,
                    4,
                    5,
                    6,
                    7,
                    8,
                    9,
                    10,
                    11,
                    12,
                    13,
                    14,
                    15,
                    16,
                    17,
                    18,
                    19,
                    20,
                    21,
                    22,
                    23
                  ],
                  "hovertemplate": "%{y}[%{customdata}] = %{marker.color}<extra></extra>",
                  "marker": {
                    "color": [
                      "#2E91E5",
                      "#E15F99",
                      "#1CA71C",
                      "#FB0D0D",
                      "#DA16FF",
                      "#222A2A",
                      "#B68100",
                      "#750D86",
                      "#EB663B",
                      "#511CFB",
                      "#00A08B",
                      "#FB00D1",
                      "#FC0080",
                      "#B2828D",
                      "#6C7C32",
                      "#778AAE",
                      "#862A16",
                      "#A777F1",
                      "#620042",
                      "#1616A7",
                      "#DA60CA",
                      "#6C4516",
                      "#0D2A63",
                      "#AF0038"
                    ]
                  },
                  "orientation": "h",
                  "type": "bar",
                  "x": [
                    1,
                    1,
                    1,
                    1,
                    1,
                    1,
                    1,
                    1,
                    1,
                    1,
                    1,
                    1,
                    1,
                    1,
                    1,
                    1,
                    1,
                    1,
                    1,
                    1,
                    1,
                    1,
                    1,
                    1
                  ],
                  "y": [
                    "Dark24",
                    "Dark24",
                    "Dark24",
                    "Dark24",
                    "Dark24",
                    "Dark24",
                    "Dark24",
                    "Dark24",
                    "Dark24",
                    "Dark24",
                    "Dark24",
                    "Dark24",
                    "Dark24",
                    "Dark24",
                    "Dark24",
                    "Dark24",
                    "Dark24",
                    "Dark24",
                    "Dark24",
                    "Dark24",
                    "Dark24",
                    "Dark24",
                    "Dark24",
                    "Dark24"
                  ]
                },
                {
                  "customdata": [
                    0,
                    1,
                    2,
                    3,
                    4,
                    5,
                    6,
                    7,
                    8,
                    9,
                    10,
                    11,
                    12,
                    13,
                    14,
                    15,
                    16,
                    17,
                    18,
                    19,
                    20,
                    21,
                    22,
                    23,
                    24,
                    25
                  ],
                  "hovertemplate": "%{y}[%{customdata}] = %{marker.color}<extra></extra>",
                  "marker": {
                    "color": [
                      "#AA0DFE",
                      "#3283FE",
                      "#85660D",
                      "#782AB6",
                      "#565656",
                      "#1C8356",
                      "#16FF32",
                      "#F7E1A0",
                      "#E2E2E2",
                      "#1CBE4F",
                      "#C4451C",
                      "#DEA0FD",
                      "#FE00FA",
                      "#325A9B",
                      "#FEAF16",
                      "#F8A19F",
                      "#90AD1C",
                      "#F6222E",
                      "#1CFFCE",
                      "#2ED9FF",
                      "#B10DA1",
                      "#C075A6",
                      "#FC1CBF",
                      "#B00068",
                      "#FBE426",
                      "#FA0087"
                    ]
                  },
                  "orientation": "h",
                  "type": "bar",
                  "x": [
                    1,
                    1,
                    1,
                    1,
                    1,
                    1,
                    1,
                    1,
                    1,
                    1,
                    1,
                    1,
                    1,
                    1,
                    1,
                    1,
                    1,
                    1,
                    1,
                    1,
                    1,
                    1,
                    1,
                    1,
                    1,
                    1
                  ],
                  "y": [
                    "Alphabet",
                    "Alphabet",
                    "Alphabet",
                    "Alphabet",
                    "Alphabet",
                    "Alphabet",
                    "Alphabet",
                    "Alphabet",
                    "Alphabet",
                    "Alphabet",
                    "Alphabet",
                    "Alphabet",
                    "Alphabet",
                    "Alphabet",
                    "Alphabet",
                    "Alphabet",
                    "Alphabet",
                    "Alphabet",
                    "Alphabet",
                    "Alphabet",
                    "Alphabet",
                    "Alphabet",
                    "Alphabet",
                    "Alphabet",
                    "Alphabet",
                    "Alphabet"
                  ]
                },
                {
                  "customdata": [
                    0,
                    1,
                    2,
                    3,
                    4,
                    5,
                    6,
                    7,
                    8,
                    9
                  ],
                  "hovertemplate": "%{y}[%{customdata}] = %{marker.color}<extra></extra>",
                  "marker": {
                    "color": [
                      "#4C78A8",
                      "#F58518",
                      "#E45756",
                      "#72B7B2",
                      "#54A24B",
                      "#EECA3B",
                      "#B279A2",
                      "#FF9DA6",
                      "#9D755D",
                      "#BAB0AC"
                    ]
                  },
                  "orientation": "h",
                  "type": "bar",
                  "x": [
                    1,
                    1,
                    1,
                    1,
                    1,
                    1,
                    1,
                    1,
                    1,
                    1
                  ],
                  "y": [
                    "T10",
                    "T10",
                    "T10",
                    "T10",
                    "T10",
                    "T10",
                    "T10",
                    "T10",
                    "T10",
                    "T10"
                  ]
                },
                {
                  "customdata": [
                    0,
                    1,
                    2,
                    3,
                    4,
                    5,
                    6,
                    7,
                    8,
                    9
                  ],
                  "hovertemplate": "%{y}[%{customdata}] = %{marker.color}<extra></extra>",
                  "marker": {
                    "color": [
                      "#3366CC",
                      "#DC3912",
                      "#FF9900",
                      "#109618",
                      "#990099",
                      "#0099C6",
                      "#DD4477",
                      "#66AA00",
                      "#B82E2E",
                      "#316395"
                    ]
                  },
                  "orientation": "h",
                  "type": "bar",
                  "x": [
                    1,
                    1,
                    1,
                    1,
                    1,
                    1,
                    1,
                    1,
                    1,
                    1
                  ],
                  "y": [
                    "G10",
                    "G10",
                    "G10",
                    "G10",
                    "G10",
                    "G10",
                    "G10",
                    "G10",
                    "G10",
                    "G10"
                  ]
                },
                {
                  "customdata": [
                    0,
                    1,
                    2,
                    3,
                    4,
                    5,
                    6,
                    7,
                    8,
                    9
                  ],
                  "hovertemplate": "%{y}[%{customdata}] = %{marker.color}<extra></extra>",
                  "marker": {
                    "color": [
                      "#1F77B4",
                      "#FF7F0E",
                      "#2CA02C",
                      "#D62728",
                      "#9467BD",
                      "#8C564B",
                      "#E377C2",
                      "#7F7F7F",
                      "#BCBD22",
                      "#17BECF"
                    ]
                  },
                  "orientation": "h",
                  "type": "bar",
                  "x": [
                    1,
                    1,
                    1,
                    1,
                    1,
                    1,
                    1,
                    1,
                    1,
                    1
                  ],
                  "y": [
                    "D3",
                    "D3",
                    "D3",
                    "D3",
                    "D3",
                    "D3",
                    "D3",
                    "D3",
                    "D3",
                    "D3"
                  ]
                },
                {
                  "customdata": [
                    0,
                    1,
                    2,
                    3,
                    4,
                    5,
                    6,
                    7,
                    8,
                    9
                  ],
                  "hovertemplate": "%{y}[%{customdata}] = %{marker.color}<extra></extra>",
                  "marker": {
                    "color": [
                      "#636EFA",
                      "#EF553B",
                      "#00CC96",
                      "#AB63FA",
                      "#FFA15A",
                      "#19D3F3",
                      "#FF6692",
                      "#B6E880",
                      "#FF97FF",
                      "#FECB52"
                    ]
                  },
                  "orientation": "h",
                  "type": "bar",
                  "x": [
                    1,
                    1,
                    1,
                    1,
                    1,
                    1,
                    1,
                    1,
                    1,
                    1
                  ],
                  "y": [
                    "Plotly",
                    "Plotly",
                    "Plotly",
                    "Plotly",
                    "Plotly",
                    "Plotly",
                    "Plotly",
                    "Plotly",
                    "Plotly",
                    "Plotly"
                  ]
                }
              ],
              "layout": {
                "bargap": 0.5,
                "barmode": "stack",
                "barnorm": "fraction",
                "height": 760,
                "margin": {
                  "b": 10
                },
                "showlegend": false,
                "template": {
                  "data": {
                    "bar": [
                      {
                        "error_x": {
                          "color": "#2a3f5f"
                        },
                        "error_y": {
                          "color": "#2a3f5f"
                        },
                        "marker": {
                          "line": {
                            "color": "#E5ECF6",
                            "width": 0.5
                          },
                          "pattern": {
                            "fillmode": "overlay",
                            "size": 10,
                            "solidity": 0.2
                          }
                        },
                        "type": "bar"
                      }
                    ],
                    "barpolar": [
                      {
                        "marker": {
                          "line": {
                            "color": "#E5ECF6",
                            "width": 0.5
                          },
                          "pattern": {
                            "fillmode": "overlay",
                            "size": 10,
                            "solidity": 0.2
                          }
                        },
                        "type": "barpolar"
                      }
                    ],
                    "carpet": [
                      {
                        "aaxis": {
                          "endlinecolor": "#2a3f5f",
                          "gridcolor": "white",
                          "linecolor": "white",
                          "minorgridcolor": "white",
                          "startlinecolor": "#2a3f5f"
                        },
                        "baxis": {
                          "endlinecolor": "#2a3f5f",
                          "gridcolor": "white",
                          "linecolor": "white",
                          "minorgridcolor": "white",
                          "startlinecolor": "#2a3f5f"
                        },
                        "type": "carpet"
                      }
                    ],
                    "choropleth": [
                      {
                        "colorbar": {
                          "outlinewidth": 0,
                          "ticks": ""
                        },
                        "type": "choropleth"
                      }
                    ],
                    "contour": [
                      {
                        "colorbar": {
                          "outlinewidth": 0,
                          "ticks": ""
                        },
                        "colorscale": [
                          [
                            0,
                            "#0d0887"
                          ],
                          [
                            0.1111111111111111,
                            "#46039f"
                          ],
                          [
                            0.2222222222222222,
                            "#7201a8"
                          ],
                          [
                            0.3333333333333333,
                            "#9c179e"
                          ],
                          [
                            0.4444444444444444,
                            "#bd3786"
                          ],
                          [
                            0.5555555555555556,
                            "#d8576b"
                          ],
                          [
                            0.6666666666666666,
                            "#ed7953"
                          ],
                          [
                            0.7777777777777778,
                            "#fb9f3a"
                          ],
                          [
                            0.8888888888888888,
                            "#fdca26"
                          ],
                          [
                            1,
                            "#f0f921"
                          ]
                        ],
                        "type": "contour"
                      }
                    ],
                    "contourcarpet": [
                      {
                        "colorbar": {
                          "outlinewidth": 0,
                          "ticks": ""
                        },
                        "type": "contourcarpet"
                      }
                    ],
                    "heatmap": [
                      {
                        "colorbar": {
                          "outlinewidth": 0,
                          "ticks": ""
                        },
                        "colorscale": [
                          [
                            0,
                            "#0d0887"
                          ],
                          [
                            0.1111111111111111,
                            "#46039f"
                          ],
                          [
                            0.2222222222222222,
                            "#7201a8"
                          ],
                          [
                            0.3333333333333333,
                            "#9c179e"
                          ],
                          [
                            0.4444444444444444,
                            "#bd3786"
                          ],
                          [
                            0.5555555555555556,
                            "#d8576b"
                          ],
                          [
                            0.6666666666666666,
                            "#ed7953"
                          ],
                          [
                            0.7777777777777778,
                            "#fb9f3a"
                          ],
                          [
                            0.8888888888888888,
                            "#fdca26"
                          ],
                          [
                            1,
                            "#f0f921"
                          ]
                        ],
                        "type": "heatmap"
                      }
                    ],
                    "heatmapgl": [
                      {
                        "colorbar": {
                          "outlinewidth": 0,
                          "ticks": ""
                        },
                        "colorscale": [
                          [
                            0,
                            "#0d0887"
                          ],
                          [
                            0.1111111111111111,
                            "#46039f"
                          ],
                          [
                            0.2222222222222222,
                            "#7201a8"
                          ],
                          [
                            0.3333333333333333,
                            "#9c179e"
                          ],
                          [
                            0.4444444444444444,
                            "#bd3786"
                          ],
                          [
                            0.5555555555555556,
                            "#d8576b"
                          ],
                          [
                            0.6666666666666666,
                            "#ed7953"
                          ],
                          [
                            0.7777777777777778,
                            "#fb9f3a"
                          ],
                          [
                            0.8888888888888888,
                            "#fdca26"
                          ],
                          [
                            1,
                            "#f0f921"
                          ]
                        ],
                        "type": "heatmapgl"
                      }
                    ],
                    "histogram": [
                      {
                        "marker": {
                          "pattern": {
                            "fillmode": "overlay",
                            "size": 10,
                            "solidity": 0.2
                          }
                        },
                        "type": "histogram"
                      }
                    ],
                    "histogram2d": [
                      {
                        "colorbar": {
                          "outlinewidth": 0,
                          "ticks": ""
                        },
                        "colorscale": [
                          [
                            0,
                            "#0d0887"
                          ],
                          [
                            0.1111111111111111,
                            "#46039f"
                          ],
                          [
                            0.2222222222222222,
                            "#7201a8"
                          ],
                          [
                            0.3333333333333333,
                            "#9c179e"
                          ],
                          [
                            0.4444444444444444,
                            "#bd3786"
                          ],
                          [
                            0.5555555555555556,
                            "#d8576b"
                          ],
                          [
                            0.6666666666666666,
                            "#ed7953"
                          ],
                          [
                            0.7777777777777778,
                            "#fb9f3a"
                          ],
                          [
                            0.8888888888888888,
                            "#fdca26"
                          ],
                          [
                            1,
                            "#f0f921"
                          ]
                        ],
                        "type": "histogram2d"
                      }
                    ],
                    "histogram2dcontour": [
                      {
                        "colorbar": {
                          "outlinewidth": 0,
                          "ticks": ""
                        },
                        "colorscale": [
                          [
                            0,
                            "#0d0887"
                          ],
                          [
                            0.1111111111111111,
                            "#46039f"
                          ],
                          [
                            0.2222222222222222,
                            "#7201a8"
                          ],
                          [
                            0.3333333333333333,
                            "#9c179e"
                          ],
                          [
                            0.4444444444444444,
                            "#bd3786"
                          ],
                          [
                            0.5555555555555556,
                            "#d8576b"
                          ],
                          [
                            0.6666666666666666,
                            "#ed7953"
                          ],
                          [
                            0.7777777777777778,
                            "#fb9f3a"
                          ],
                          [
                            0.8888888888888888,
                            "#fdca26"
                          ],
                          [
                            1,
                            "#f0f921"
                          ]
                        ],
                        "type": "histogram2dcontour"
                      }
                    ],
                    "mesh3d": [
                      {
                        "colorbar": {
                          "outlinewidth": 0,
                          "ticks": ""
                        },
                        "type": "mesh3d"
                      }
                    ],
                    "parcoords": [
                      {
                        "line": {
                          "colorbar": {
                            "outlinewidth": 0,
                            "ticks": ""
                          }
                        },
                        "type": "parcoords"
                      }
                    ],
                    "pie": [
                      {
                        "automargin": true,
                        "type": "pie"
                      }
                    ],
                    "scatter": [
                      {
                        "fillpattern": {
                          "fillmode": "overlay",
                          "size": 10,
                          "solidity": 0.2
                        },
                        "type": "scatter"
                      }
                    ],
                    "scatter3d": [
                      {
                        "line": {
                          "colorbar": {
                            "outlinewidth": 0,
                            "ticks": ""
                          }
                        },
                        "marker": {
                          "colorbar": {
                            "outlinewidth": 0,
                            "ticks": ""
                          }
                        },
                        "type": "scatter3d"
                      }
                    ],
                    "scattercarpet": [
                      {
                        "marker": {
                          "colorbar": {
                            "outlinewidth": 0,
                            "ticks": ""
                          }
                        },
                        "type": "scattercarpet"
                      }
                    ],
                    "scattergeo": [
                      {
                        "marker": {
                          "colorbar": {
                            "outlinewidth": 0,
                            "ticks": ""
                          }
                        },
                        "type": "scattergeo"
                      }
                    ],
                    "scattergl": [
                      {
                        "marker": {
                          "colorbar": {
                            "outlinewidth": 0,
                            "ticks": ""
                          }
                        },
                        "type": "scattergl"
                      }
                    ],
                    "scattermapbox": [
                      {
                        "marker": {
                          "colorbar": {
                            "outlinewidth": 0,
                            "ticks": ""
                          }
                        },
                        "type": "scattermapbox"
                      }
                    ],
                    "scatterpolar": [
                      {
                        "marker": {
                          "colorbar": {
                            "outlinewidth": 0,
                            "ticks": ""
                          }
                        },
                        "type": "scatterpolar"
                      }
                    ],
                    "scatterpolargl": [
                      {
                        "marker": {
                          "colorbar": {
                            "outlinewidth": 0,
                            "ticks": ""
                          }
                        },
                        "type": "scatterpolargl"
                      }
                    ],
                    "scatterternary": [
                      {
                        "marker": {
                          "colorbar": {
                            "outlinewidth": 0,
                            "ticks": ""
                          }
                        },
                        "type": "scatterternary"
                      }
                    ],
                    "surface": [
                      {
                        "colorbar": {
                          "outlinewidth": 0,
                          "ticks": ""
                        },
                        "colorscale": [
                          [
                            0,
                            "#0d0887"
                          ],
                          [
                            0.1111111111111111,
                            "#46039f"
                          ],
                          [
                            0.2222222222222222,
                            "#7201a8"
                          ],
                          [
                            0.3333333333333333,
                            "#9c179e"
                          ],
                          [
                            0.4444444444444444,
                            "#bd3786"
                          ],
                          [
                            0.5555555555555556,
                            "#d8576b"
                          ],
                          [
                            0.6666666666666666,
                            "#ed7953"
                          ],
                          [
                            0.7777777777777778,
                            "#fb9f3a"
                          ],
                          [
                            0.8888888888888888,
                            "#fdca26"
                          ],
                          [
                            1,
                            "#f0f921"
                          ]
                        ],
                        "type": "surface"
                      }
                    ],
                    "table": [
                      {
                        "cells": {
                          "fill": {
                            "color": "#EBF0F8"
                          },
                          "line": {
                            "color": "white"
                          }
                        },
                        "header": {
                          "fill": {
                            "color": "#C8D4E3"
                          },
                          "line": {
                            "color": "white"
                          }
                        },
                        "type": "table"
                      }
                    ]
                  },
                  "layout": {
                    "annotationdefaults": {
                      "arrowcolor": "#2a3f5f",
                      "arrowhead": 0,
                      "arrowwidth": 1
                    },
                    "autotypenumbers": "strict",
                    "coloraxis": {
                      "colorbar": {
                        "outlinewidth": 0,
                        "ticks": ""
                      }
                    },
                    "colorscale": {
                      "diverging": [
                        [
                          0,
                          "#8e0152"
                        ],
                        [
                          0.1,
                          "#c51b7d"
                        ],
                        [
                          0.2,
                          "#de77ae"
                        ],
                        [
                          0.3,
                          "#f1b6da"
                        ],
                        [
                          0.4,
                          "#fde0ef"
                        ],
                        [
                          0.5,
                          "#f7f7f7"
                        ],
                        [
                          0.6,
                          "#e6f5d0"
                        ],
                        [
                          0.7,
                          "#b8e186"
                        ],
                        [
                          0.8,
                          "#7fbc41"
                        ],
                        [
                          0.9,
                          "#4d9221"
                        ],
                        [
                          1,
                          "#276419"
                        ]
                      ],
                      "sequential": [
                        [
                          0,
                          "#0d0887"
                        ],
                        [
                          0.1111111111111111,
                          "#46039f"
                        ],
                        [
                          0.2222222222222222,
                          "#7201a8"
                        ],
                        [
                          0.3333333333333333,
                          "#9c179e"
                        ],
                        [
                          0.4444444444444444,
                          "#bd3786"
                        ],
                        [
                          0.5555555555555556,
                          "#d8576b"
                        ],
                        [
                          0.6666666666666666,
                          "#ed7953"
                        ],
                        [
                          0.7777777777777778,
                          "#fb9f3a"
                        ],
                        [
                          0.8888888888888888,
                          "#fdca26"
                        ],
                        [
                          1,
                          "#f0f921"
                        ]
                      ],
                      "sequentialminus": [
                        [
                          0,
                          "#0d0887"
                        ],
                        [
                          0.1111111111111111,
                          "#46039f"
                        ],
                        [
                          0.2222222222222222,
                          "#7201a8"
                        ],
                        [
                          0.3333333333333333,
                          "#9c179e"
                        ],
                        [
                          0.4444444444444444,
                          "#bd3786"
                        ],
                        [
                          0.5555555555555556,
                          "#d8576b"
                        ],
                        [
                          0.6666666666666666,
                          "#ed7953"
                        ],
                        [
                          0.7777777777777778,
                          "#fb9f3a"
                        ],
                        [
                          0.8888888888888888,
                          "#fdca26"
                        ],
                        [
                          1,
                          "#f0f921"
                        ]
                      ]
                    },
                    "colorway": [
                      "#636efa",
                      "#EF553B",
                      "#00cc96",
                      "#ab63fa",
                      "#FFA15A",
                      "#19d3f3",
                      "#FF6692",
                      "#B6E880",
                      "#FF97FF",
                      "#FECB52"
                    ],
                    "font": {
                      "color": "#2a3f5f"
                    },
                    "geo": {
                      "bgcolor": "white",
                      "lakecolor": "white",
                      "landcolor": "#E5ECF6",
                      "showlakes": true,
                      "showland": true,
                      "subunitcolor": "white"
                    },
                    "hoverlabel": {
                      "align": "left"
                    },
                    "hovermode": "closest",
                    "mapbox": {
                      "style": "light"
                    },
                    "paper_bgcolor": "white",
                    "plot_bgcolor": "#E5ECF6",
                    "polar": {
                      "angularaxis": {
                        "gridcolor": "white",
                        "linecolor": "white",
                        "ticks": ""
                      },
                      "bgcolor": "#E5ECF6",
                      "radialaxis": {
                        "gridcolor": "white",
                        "linecolor": "white",
                        "ticks": ""
                      }
                    },
                    "scene": {
                      "xaxis": {
                        "backgroundcolor": "#E5ECF6",
                        "gridcolor": "white",
                        "gridwidth": 2,
                        "linecolor": "white",
                        "showbackground": true,
                        "ticks": "",
                        "zerolinecolor": "white"
                      },
                      "yaxis": {
                        "backgroundcolor": "#E5ECF6",
                        "gridcolor": "white",
                        "gridwidth": 2,
                        "linecolor": "white",
                        "showbackground": true,
                        "ticks": "",
                        "zerolinecolor": "white"
                      },
                      "zaxis": {
                        "backgroundcolor": "#E5ECF6",
                        "gridcolor": "white",
                        "gridwidth": 2,
                        "linecolor": "white",
                        "showbackground": true,
                        "ticks": "",
                        "zerolinecolor": "white"
                      }
                    },
                    "shapedefaults": {
                      "line": {
                        "color": "#2a3f5f"
                      }
                    },
                    "ternary": {
                      "aaxis": {
                        "gridcolor": "white",
                        "linecolor": "white",
                        "ticks": ""
                      },
                      "baxis": {
                        "gridcolor": "white",
                        "linecolor": "white",
                        "ticks": ""
                      },
                      "bgcolor": "#E5ECF6",
                      "caxis": {
                        "gridcolor": "white",
                        "linecolor": "white",
                        "ticks": ""
                      }
                    },
                    "title": {
                      "x": 0.05
                    },
                    "xaxis": {
                      "automargin": true,
                      "gridcolor": "white",
                      "linecolor": "white",
                      "ticks": "",
                      "title": {
                        "standoff": 15
                      },
                      "zerolinecolor": "white",
                      "zerolinewidth": 2
                    },
                    "yaxis": {
                      "automargin": true,
                      "gridcolor": "white",
                      "linecolor": "white",
                      "ticks": "",
                      "title": {
                        "standoff": 15
                      },
                      "zerolinecolor": "white",
                      "zerolinewidth": 2
                    }
                  }
                },
                "title": {
                  "text": "plotly.colors.qualitative"
                },
                "xaxis": {
                  "range": [
                    -0.02,
                    1.02
                  ],
                  "showgrid": false,
                  "showticklabels": false
                }
              }
            }
          },
          "metadata": {},
          "output_type": "display_data"
        }
      ],
      "source": [
        "px.colors.qualitative.swatches()"
      ]
    },
    {
      "cell_type": "code",
      "execution_count": 75,
      "metadata": {},
      "outputs": [
        {
          "data": {
            "application/vnd.plotly.v1+json": {
              "config": {
                "plotlyServerURL": "https://plot.ly"
              },
              "data": [
                {
                  "alignmentgroup": "True",
                  "hovertemplate": "Organization type=healthcare<br>Method=%{x}<br>Count of Breaches=%{y}<extra></extra>",
                  "legendgroup": "healthcare",
                  "marker": {
                    "color": "#2E91E5",
                    "pattern": {
                      "shape": ""
                    }
                  },
                  "name": "healthcare",
                  "offsetgroup": "healthcare",
                  "orientation": "v",
                  "showlegend": true,
                  "textposition": "auto",
                  "type": "bar",
                  "x": [
                    "hacked",
                    "poor security",
                    "lost / stolen media",
                    "lost / stolen media",
                    "hacked",
                    "poor security",
                    "lost / stolen media",
                    "hacked",
                    "lost / stolen media",
                    "lost / stolen media",
                    "hacked",
                    "hacked",
                    "lost / stolen media",
                    "poor security",
                    "hacked",
                    "poor security",
                    "inside job",
                    "hacked",
                    "hacked",
                    "inside job",
                    "hacked",
                    "hacked",
                    "hacked"
                  ],
                  "xaxis": "x",
                  "y": [
                    1,
                    2,
                    1,
                    2,
                    2,
                    1,
                    3,
                    5,
                    1,
                    6,
                    1,
                    1,
                    7,
                    1,
                    1,
                    3,
                    1,
                    1,
                    2,
                    1,
                    1,
                    1,
                    1
                  ],
                  "yaxis": "y"
                },
                {
                  "alignmentgroup": "True",
                  "hovertemplate": "Organization type=media<br>Method=%{x}<br>Count of Breaches=%{y}<extra></extra>",
                  "legendgroup": "media",
                  "marker": {
                    "color": "#E15F99",
                    "pattern": {
                      "shape": ""
                    }
                  },
                  "name": "media",
                  "offsetgroup": "media",
                  "orientation": "v",
                  "showlegend": true,
                  "textposition": "auto",
                  "type": "bar",
                  "x": [
                    "hacked",
                    "accidentally exposed",
                    "poor security",
                    "poor security",
                    "accidentally exposed",
                    "poor security",
                    "hacked",
                    "hacked",
                    "hacked",
                    "unknown"
                  ],
                  "xaxis": "x",
                  "y": [
                    1,
                    1,
                    2,
                    2,
                    1,
                    3,
                    1,
                    1,
                    1,
                    1
                  ],
                  "yaxis": "y"
                },
                {
                  "alignmentgroup": "True",
                  "hovertemplate": "Organization type=tech<br>Method=%{x}<br>Count of Breaches=%{y}<extra></extra>",
                  "legendgroup": "tech",
                  "marker": {
                    "color": "#1CA71C",
                    "pattern": {
                      "shape": ""
                    }
                  },
                  "name": "tech",
                  "offsetgroup": "tech",
                  "orientation": "v",
                  "showlegend": true,
                  "textposition": "auto",
                  "type": "bar",
                  "x": [
                    "hacked",
                    "poor security",
                    "poor security",
                    "hacked",
                    "inside job",
                    "accidentally exposed",
                    "hacked",
                    "hacked",
                    "hacked",
                    "hacked",
                    "hacked",
                    "hacked",
                    "hacked",
                    "hacked",
                    "hacked",
                    "poor security",
                    "poor security",
                    "hacked",
                    "accidentally exposed",
                    "lost / stolen media",
                    "accidentally exposed",
                    "misconfiguration",
                    "hacked",
                    "poor security",
                    "unknown",
                    "hacked",
                    "misconfiguration",
                    "poor security",
                    "hacked",
                    "social engineering"
                  ],
                  "xaxis": "x",
                  "y": [
                    14,
                    4,
                    1,
                    4,
                    1,
                    2,
                    7,
                    1,
                    2,
                    1,
                    2,
                    11,
                    3,
                    6,
                    2,
                    1,
                    1,
                    5,
                    3,
                    1,
                    1,
                    1,
                    1,
                    2,
                    1,
                    2,
                    1,
                    1,
                    1,
                    1
                  ],
                  "yaxis": "y"
                },
                {
                  "alignmentgroup": "True",
                  "hovertemplate": "Organization type=other<br>Method=%{x}<br>Count of Breaches=%{y}<extra></extra>",
                  "legendgroup": "other",
                  "marker": {
                    "color": "#FB0D0D",
                    "pattern": {
                      "shape": ""
                    }
                  },
                  "name": "other",
                  "offsetgroup": "other",
                  "orientation": "v",
                  "showlegend": true,
                  "textposition": "auto",
                  "type": "bar",
                  "x": [
                    "hacked",
                    "hacked",
                    "unknown",
                    "inside job",
                    "hacked",
                    "poor security",
                    "inside job",
                    "poor security",
                    "hacked",
                    "accidentally exposed"
                  ],
                  "xaxis": "x",
                  "y": [
                    7,
                    1,
                    1,
                    1,
                    1,
                    2,
                    1,
                    1,
                    1,
                    1
                  ],
                  "yaxis": "y"
                },
                {
                  "alignmentgroup": "True",
                  "hovertemplate": "Organization type=telecom<br>Method=%{x}<br>Count of Breaches=%{y}<extra></extra>",
                  "legendgroup": "telecom",
                  "marker": {
                    "color": "#DA16FF",
                    "pattern": {
                      "shape": ""
                    }
                  },
                  "name": "telecom",
                  "offsetgroup": "telecom",
                  "orientation": "v",
                  "showlegend": true,
                  "textposition": "auto",
                  "type": "bar",
                  "x": [
                    "poor security",
                    "lost / stolen media",
                    "hacked",
                    "poor security",
                    "hacked",
                    "hacked",
                    "hacked",
                    "hacked",
                    "hacked",
                    "misconfiguration",
                    "poor security",
                    "accidentally exposed",
                    "lost / stolen media",
                    "hacked",
                    "unknown",
                    "accidentally exposed",
                    "inside job"
                  ],
                  "xaxis": "x",
                  "y": [
                    1,
                    1,
                    1,
                    1,
                    1,
                    2,
                    1,
                    1,
                    1,
                    1,
                    1,
                    1,
                    1,
                    1,
                    1,
                    1,
                    1
                  ],
                  "yaxis": "y"
                },
                {
                  "alignmentgroup": "True",
                  "hovertemplate": "Organization type=financial<br>Method=%{x}<br>Count of Breaches=%{y}<extra></extra>",
                  "legendgroup": "financial",
                  "marker": {
                    "color": "#222A2A",
                    "pattern": {
                      "shape": ""
                    }
                  },
                  "name": "financial",
                  "offsetgroup": "financial",
                  "orientation": "v",
                  "showlegend": true,
                  "textposition": "auto",
                  "type": "bar",
                  "x": [
                    "lost / stolen media",
                    "poor security",
                    "lost / stolen media",
                    "poor security",
                    "accidentally exposed",
                    "hacked",
                    "hacked",
                    "hacked",
                    "hacked",
                    "poor security",
                    "inside job",
                    "inside job",
                    "inside job",
                    "hacked",
                    "inside job",
                    "lost / stolen media",
                    "poor security",
                    "hacked",
                    "poor security",
                    "hacked",
                    "hacked",
                    "hacked",
                    "inside job",
                    "lost / stolen media",
                    "lost / stolen media",
                    "rogue contractor",
                    "misconfiguration",
                    "hacked",
                    "hacked",
                    "accidentally exposed"
                  ],
                  "xaxis": "x",
                  "y": [
                    3,
                    1,
                    1,
                    1,
                    1,
                    1,
                    1,
                    2,
                    1,
                    1,
                    2,
                    1,
                    1,
                    2,
                    1,
                    2,
                    1,
                    1,
                    1,
                    4,
                    2,
                    1,
                    1,
                    1,
                    1,
                    1,
                    1,
                    1,
                    1,
                    1
                  ],
                  "yaxis": "y"
                },
                {
                  "alignmentgroup": "True",
                  "hovertemplate": "Organization type=retail<br>Method=%{x}<br>Count of Breaches=%{y}<extra></extra>",
                  "legendgroup": "retail",
                  "marker": {
                    "color": "#B68100",
                    "pattern": {
                      "shape": ""
                    }
                  },
                  "name": "retail",
                  "offsetgroup": "retail",
                  "orientation": "v",
                  "showlegend": true,
                  "textposition": "auto",
                  "type": "bar",
                  "x": [
                    "hacked",
                    "inside job",
                    "hacked",
                    "hacked",
                    "lost / stolen media",
                    "hacked",
                    "hacked",
                    "hacked",
                    "poor security",
                    "inside job",
                    "hacked",
                    "lost / stolen media",
                    "hacked",
                    "hacked",
                    "hacked"
                  ],
                  "xaxis": "x",
                  "y": [
                    3,
                    1,
                    1,
                    2,
                    1,
                    2,
                    2,
                    3,
                    1,
                    1,
                    1,
                    1,
                    1,
                    1,
                    1
                  ],
                  "yaxis": "y"
                },
                {
                  "alignmentgroup": "True",
                  "hovertemplate": "Organization type=academic / educational<br>Method=%{x}<br>Count of Breaches=%{y}<extra></extra>",
                  "legendgroup": "academic / educational",
                  "marker": {
                    "color": "#750D86",
                    "pattern": {
                      "shape": ""
                    }
                  },
                  "name": "academic / educational",
                  "offsetgroup": "academic / educational",
                  "orientation": "v",
                  "showlegend": true,
                  "textposition": "auto",
                  "type": "bar",
                  "x": [
                    "hacked",
                    "hacked",
                    "hacked",
                    "lost / stolen media",
                    "hacked",
                    "hacked",
                    "hacked",
                    "hacked",
                    "accidentally exposed"
                  ],
                  "xaxis": "x",
                  "y": [
                    2,
                    1,
                    1,
                    3,
                    1,
                    1,
                    2,
                    1,
                    1
                  ],
                  "yaxis": "y"
                },
                {
                  "alignmentgroup": "True",
                  "hovertemplate": "Organization type=government<br>Method=%{x}<br>Count of Breaches=%{y}<extra></extra>",
                  "legendgroup": "government",
                  "marker": {
                    "color": "#EB663B",
                    "pattern": {
                      "shape": ""
                    }
                  },
                  "name": "government",
                  "offsetgroup": "government",
                  "orientation": "v",
                  "showlegend": true,
                  "textposition": "auto",
                  "type": "bar",
                  "x": [
                    "lost / stolen media",
                    "hacked",
                    "poor security",
                    "lost / stolen media",
                    "inside job",
                    "lost / stolen media",
                    "poor security",
                    "hacked",
                    "accidentally exposed",
                    "poor security",
                    "hacked",
                    "accidentally exposed",
                    "inside job",
                    "hacked",
                    "lost / stolen media",
                    "hacked",
                    "hacked",
                    "accidentally exposed",
                    "inside job",
                    "lost / stolen media",
                    "poor security",
                    "lost / stolen media",
                    "lost / stolen media",
                    "hacked"
                  ],
                  "xaxis": "x",
                  "y": [
                    1,
                    1,
                    1,
                    2,
                    3,
                    1,
                    1,
                    3,
                    3,
                    1,
                    1,
                    1,
                    1,
                    1,
                    3,
                    1,
                    2,
                    4,
                    1,
                    1,
                    1,
                    3,
                    1,
                    1
                  ],
                  "yaxis": "y"
                }
              ],
              "layout": {
                "barmode": "group",
                "font": {
                  "size": 14
                },
                "height": 600,
                "legend": {
                  "font": {
                    "size": 12
                  },
                  "title": {
                    "text": "Organization Type"
                  },
                  "tracegroupgap": 0
                },
                "margin": {
                  "t": 60
                },
                "plot_bgcolor": "rgba(245, 245, 245, 0.9)",
                "template": {
                  "data": {
                    "bar": [
                      {
                        "error_x": {
                          "color": "#2a3f5f"
                        },
                        "error_y": {
                          "color": "#2a3f5f"
                        },
                        "marker": {
                          "line": {
                            "color": "#E5ECF6",
                            "width": 0.5
                          },
                          "pattern": {
                            "fillmode": "overlay",
                            "size": 10,
                            "solidity": 0.2
                          }
                        },
                        "type": "bar"
                      }
                    ],
                    "barpolar": [
                      {
                        "marker": {
                          "line": {
                            "color": "#E5ECF6",
                            "width": 0.5
                          },
                          "pattern": {
                            "fillmode": "overlay",
                            "size": 10,
                            "solidity": 0.2
                          }
                        },
                        "type": "barpolar"
                      }
                    ],
                    "carpet": [
                      {
                        "aaxis": {
                          "endlinecolor": "#2a3f5f",
                          "gridcolor": "white",
                          "linecolor": "white",
                          "minorgridcolor": "white",
                          "startlinecolor": "#2a3f5f"
                        },
                        "baxis": {
                          "endlinecolor": "#2a3f5f",
                          "gridcolor": "white",
                          "linecolor": "white",
                          "minorgridcolor": "white",
                          "startlinecolor": "#2a3f5f"
                        },
                        "type": "carpet"
                      }
                    ],
                    "choropleth": [
                      {
                        "colorbar": {
                          "outlinewidth": 0,
                          "ticks": ""
                        },
                        "type": "choropleth"
                      }
                    ],
                    "contour": [
                      {
                        "colorbar": {
                          "outlinewidth": 0,
                          "ticks": ""
                        },
                        "colorscale": [
                          [
                            0,
                            "#0d0887"
                          ],
                          [
                            0.1111111111111111,
                            "#46039f"
                          ],
                          [
                            0.2222222222222222,
                            "#7201a8"
                          ],
                          [
                            0.3333333333333333,
                            "#9c179e"
                          ],
                          [
                            0.4444444444444444,
                            "#bd3786"
                          ],
                          [
                            0.5555555555555556,
                            "#d8576b"
                          ],
                          [
                            0.6666666666666666,
                            "#ed7953"
                          ],
                          [
                            0.7777777777777778,
                            "#fb9f3a"
                          ],
                          [
                            0.8888888888888888,
                            "#fdca26"
                          ],
                          [
                            1,
                            "#f0f921"
                          ]
                        ],
                        "type": "contour"
                      }
                    ],
                    "contourcarpet": [
                      {
                        "colorbar": {
                          "outlinewidth": 0,
                          "ticks": ""
                        },
                        "type": "contourcarpet"
                      }
                    ],
                    "heatmap": [
                      {
                        "colorbar": {
                          "outlinewidth": 0,
                          "ticks": ""
                        },
                        "colorscale": [
                          [
                            0,
                            "#0d0887"
                          ],
                          [
                            0.1111111111111111,
                            "#46039f"
                          ],
                          [
                            0.2222222222222222,
                            "#7201a8"
                          ],
                          [
                            0.3333333333333333,
                            "#9c179e"
                          ],
                          [
                            0.4444444444444444,
                            "#bd3786"
                          ],
                          [
                            0.5555555555555556,
                            "#d8576b"
                          ],
                          [
                            0.6666666666666666,
                            "#ed7953"
                          ],
                          [
                            0.7777777777777778,
                            "#fb9f3a"
                          ],
                          [
                            0.8888888888888888,
                            "#fdca26"
                          ],
                          [
                            1,
                            "#f0f921"
                          ]
                        ],
                        "type": "heatmap"
                      }
                    ],
                    "heatmapgl": [
                      {
                        "colorbar": {
                          "outlinewidth": 0,
                          "ticks": ""
                        },
                        "colorscale": [
                          [
                            0,
                            "#0d0887"
                          ],
                          [
                            0.1111111111111111,
                            "#46039f"
                          ],
                          [
                            0.2222222222222222,
                            "#7201a8"
                          ],
                          [
                            0.3333333333333333,
                            "#9c179e"
                          ],
                          [
                            0.4444444444444444,
                            "#bd3786"
                          ],
                          [
                            0.5555555555555556,
                            "#d8576b"
                          ],
                          [
                            0.6666666666666666,
                            "#ed7953"
                          ],
                          [
                            0.7777777777777778,
                            "#fb9f3a"
                          ],
                          [
                            0.8888888888888888,
                            "#fdca26"
                          ],
                          [
                            1,
                            "#f0f921"
                          ]
                        ],
                        "type": "heatmapgl"
                      }
                    ],
                    "histogram": [
                      {
                        "marker": {
                          "pattern": {
                            "fillmode": "overlay",
                            "size": 10,
                            "solidity": 0.2
                          }
                        },
                        "type": "histogram"
                      }
                    ],
                    "histogram2d": [
                      {
                        "colorbar": {
                          "outlinewidth": 0,
                          "ticks": ""
                        },
                        "colorscale": [
                          [
                            0,
                            "#0d0887"
                          ],
                          [
                            0.1111111111111111,
                            "#46039f"
                          ],
                          [
                            0.2222222222222222,
                            "#7201a8"
                          ],
                          [
                            0.3333333333333333,
                            "#9c179e"
                          ],
                          [
                            0.4444444444444444,
                            "#bd3786"
                          ],
                          [
                            0.5555555555555556,
                            "#d8576b"
                          ],
                          [
                            0.6666666666666666,
                            "#ed7953"
                          ],
                          [
                            0.7777777777777778,
                            "#fb9f3a"
                          ],
                          [
                            0.8888888888888888,
                            "#fdca26"
                          ],
                          [
                            1,
                            "#f0f921"
                          ]
                        ],
                        "type": "histogram2d"
                      }
                    ],
                    "histogram2dcontour": [
                      {
                        "colorbar": {
                          "outlinewidth": 0,
                          "ticks": ""
                        },
                        "colorscale": [
                          [
                            0,
                            "#0d0887"
                          ],
                          [
                            0.1111111111111111,
                            "#46039f"
                          ],
                          [
                            0.2222222222222222,
                            "#7201a8"
                          ],
                          [
                            0.3333333333333333,
                            "#9c179e"
                          ],
                          [
                            0.4444444444444444,
                            "#bd3786"
                          ],
                          [
                            0.5555555555555556,
                            "#d8576b"
                          ],
                          [
                            0.6666666666666666,
                            "#ed7953"
                          ],
                          [
                            0.7777777777777778,
                            "#fb9f3a"
                          ],
                          [
                            0.8888888888888888,
                            "#fdca26"
                          ],
                          [
                            1,
                            "#f0f921"
                          ]
                        ],
                        "type": "histogram2dcontour"
                      }
                    ],
                    "mesh3d": [
                      {
                        "colorbar": {
                          "outlinewidth": 0,
                          "ticks": ""
                        },
                        "type": "mesh3d"
                      }
                    ],
                    "parcoords": [
                      {
                        "line": {
                          "colorbar": {
                            "outlinewidth": 0,
                            "ticks": ""
                          }
                        },
                        "type": "parcoords"
                      }
                    ],
                    "pie": [
                      {
                        "automargin": true,
                        "type": "pie"
                      }
                    ],
                    "scatter": [
                      {
                        "fillpattern": {
                          "fillmode": "overlay",
                          "size": 10,
                          "solidity": 0.2
                        },
                        "type": "scatter"
                      }
                    ],
                    "scatter3d": [
                      {
                        "line": {
                          "colorbar": {
                            "outlinewidth": 0,
                            "ticks": ""
                          }
                        },
                        "marker": {
                          "colorbar": {
                            "outlinewidth": 0,
                            "ticks": ""
                          }
                        },
                        "type": "scatter3d"
                      }
                    ],
                    "scattercarpet": [
                      {
                        "marker": {
                          "colorbar": {
                            "outlinewidth": 0,
                            "ticks": ""
                          }
                        },
                        "type": "scattercarpet"
                      }
                    ],
                    "scattergeo": [
                      {
                        "marker": {
                          "colorbar": {
                            "outlinewidth": 0,
                            "ticks": ""
                          }
                        },
                        "type": "scattergeo"
                      }
                    ],
                    "scattergl": [
                      {
                        "marker": {
                          "colorbar": {
                            "outlinewidth": 0,
                            "ticks": ""
                          }
                        },
                        "type": "scattergl"
                      }
                    ],
                    "scattermapbox": [
                      {
                        "marker": {
                          "colorbar": {
                            "outlinewidth": 0,
                            "ticks": ""
                          }
                        },
                        "type": "scattermapbox"
                      }
                    ],
                    "scatterpolar": [
                      {
                        "marker": {
                          "colorbar": {
                            "outlinewidth": 0,
                            "ticks": ""
                          }
                        },
                        "type": "scatterpolar"
                      }
                    ],
                    "scatterpolargl": [
                      {
                        "marker": {
                          "colorbar": {
                            "outlinewidth": 0,
                            "ticks": ""
                          }
                        },
                        "type": "scatterpolargl"
                      }
                    ],
                    "scatterternary": [
                      {
                        "marker": {
                          "colorbar": {
                            "outlinewidth": 0,
                            "ticks": ""
                          }
                        },
                        "type": "scatterternary"
                      }
                    ],
                    "surface": [
                      {
                        "colorbar": {
                          "outlinewidth": 0,
                          "ticks": ""
                        },
                        "colorscale": [
                          [
                            0,
                            "#0d0887"
                          ],
                          [
                            0.1111111111111111,
                            "#46039f"
                          ],
                          [
                            0.2222222222222222,
                            "#7201a8"
                          ],
                          [
                            0.3333333333333333,
                            "#9c179e"
                          ],
                          [
                            0.4444444444444444,
                            "#bd3786"
                          ],
                          [
                            0.5555555555555556,
                            "#d8576b"
                          ],
                          [
                            0.6666666666666666,
                            "#ed7953"
                          ],
                          [
                            0.7777777777777778,
                            "#fb9f3a"
                          ],
                          [
                            0.8888888888888888,
                            "#fdca26"
                          ],
                          [
                            1,
                            "#f0f921"
                          ]
                        ],
                        "type": "surface"
                      }
                    ],
                    "table": [
                      {
                        "cells": {
                          "fill": {
                            "color": "#EBF0F8"
                          },
                          "line": {
                            "color": "white"
                          }
                        },
                        "header": {
                          "fill": {
                            "color": "#C8D4E3"
                          },
                          "line": {
                            "color": "white"
                          }
                        },
                        "type": "table"
                      }
                    ]
                  },
                  "layout": {
                    "annotationdefaults": {
                      "arrowcolor": "#2a3f5f",
                      "arrowhead": 0,
                      "arrowwidth": 1
                    },
                    "autotypenumbers": "strict",
                    "coloraxis": {
                      "colorbar": {
                        "outlinewidth": 0,
                        "ticks": ""
                      }
                    },
                    "colorscale": {
                      "diverging": [
                        [
                          0,
                          "#8e0152"
                        ],
                        [
                          0.1,
                          "#c51b7d"
                        ],
                        [
                          0.2,
                          "#de77ae"
                        ],
                        [
                          0.3,
                          "#f1b6da"
                        ],
                        [
                          0.4,
                          "#fde0ef"
                        ],
                        [
                          0.5,
                          "#f7f7f7"
                        ],
                        [
                          0.6,
                          "#e6f5d0"
                        ],
                        [
                          0.7,
                          "#b8e186"
                        ],
                        [
                          0.8,
                          "#7fbc41"
                        ],
                        [
                          0.9,
                          "#4d9221"
                        ],
                        [
                          1,
                          "#276419"
                        ]
                      ],
                      "sequential": [
                        [
                          0,
                          "#0d0887"
                        ],
                        [
                          0.1111111111111111,
                          "#46039f"
                        ],
                        [
                          0.2222222222222222,
                          "#7201a8"
                        ],
                        [
                          0.3333333333333333,
                          "#9c179e"
                        ],
                        [
                          0.4444444444444444,
                          "#bd3786"
                        ],
                        [
                          0.5555555555555556,
                          "#d8576b"
                        ],
                        [
                          0.6666666666666666,
                          "#ed7953"
                        ],
                        [
                          0.7777777777777778,
                          "#fb9f3a"
                        ],
                        [
                          0.8888888888888888,
                          "#fdca26"
                        ],
                        [
                          1,
                          "#f0f921"
                        ]
                      ],
                      "sequentialminus": [
                        [
                          0,
                          "#0d0887"
                        ],
                        [
                          0.1111111111111111,
                          "#46039f"
                        ],
                        [
                          0.2222222222222222,
                          "#7201a8"
                        ],
                        [
                          0.3333333333333333,
                          "#9c179e"
                        ],
                        [
                          0.4444444444444444,
                          "#bd3786"
                        ],
                        [
                          0.5555555555555556,
                          "#d8576b"
                        ],
                        [
                          0.6666666666666666,
                          "#ed7953"
                        ],
                        [
                          0.7777777777777778,
                          "#fb9f3a"
                        ],
                        [
                          0.8888888888888888,
                          "#fdca26"
                        ],
                        [
                          1,
                          "#f0f921"
                        ]
                      ]
                    },
                    "colorway": [
                      "#636efa",
                      "#EF553B",
                      "#00cc96",
                      "#ab63fa",
                      "#FFA15A",
                      "#19d3f3",
                      "#FF6692",
                      "#B6E880",
                      "#FF97FF",
                      "#FECB52"
                    ],
                    "font": {
                      "color": "#2a3f5f"
                    },
                    "geo": {
                      "bgcolor": "white",
                      "lakecolor": "white",
                      "landcolor": "#E5ECF6",
                      "showlakes": true,
                      "showland": true,
                      "subunitcolor": "white"
                    },
                    "hoverlabel": {
                      "align": "left"
                    },
                    "hovermode": "closest",
                    "mapbox": {
                      "style": "light"
                    },
                    "paper_bgcolor": "white",
                    "plot_bgcolor": "#E5ECF6",
                    "polar": {
                      "angularaxis": {
                        "gridcolor": "white",
                        "linecolor": "white",
                        "ticks": ""
                      },
                      "bgcolor": "#E5ECF6",
                      "radialaxis": {
                        "gridcolor": "white",
                        "linecolor": "white",
                        "ticks": ""
                      }
                    },
                    "scene": {
                      "xaxis": {
                        "backgroundcolor": "#E5ECF6",
                        "gridcolor": "white",
                        "gridwidth": 2,
                        "linecolor": "white",
                        "showbackground": true,
                        "ticks": "",
                        "zerolinecolor": "white"
                      },
                      "yaxis": {
                        "backgroundcolor": "#E5ECF6",
                        "gridcolor": "white",
                        "gridwidth": 2,
                        "linecolor": "white",
                        "showbackground": true,
                        "ticks": "",
                        "zerolinecolor": "white"
                      },
                      "zaxis": {
                        "backgroundcolor": "#E5ECF6",
                        "gridcolor": "white",
                        "gridwidth": 2,
                        "linecolor": "white",
                        "showbackground": true,
                        "ticks": "",
                        "zerolinecolor": "white"
                      }
                    },
                    "shapedefaults": {
                      "line": {
                        "color": "#2a3f5f"
                      }
                    },
                    "ternary": {
                      "aaxis": {
                        "gridcolor": "white",
                        "linecolor": "white",
                        "ticks": ""
                      },
                      "baxis": {
                        "gridcolor": "white",
                        "linecolor": "white",
                        "ticks": ""
                      },
                      "bgcolor": "#E5ECF6",
                      "caxis": {
                        "gridcolor": "white",
                        "linecolor": "white",
                        "ticks": ""
                      }
                    },
                    "title": {
                      "x": 0.05
                    },
                    "xaxis": {
                      "automargin": true,
                      "gridcolor": "white",
                      "linecolor": "white",
                      "ticks": "",
                      "title": {
                        "standoff": 15
                      },
                      "zerolinecolor": "white",
                      "zerolinewidth": 2
                    },
                    "yaxis": {
                      "automargin": true,
                      "gridcolor": "white",
                      "linecolor": "white",
                      "ticks": "",
                      "title": {
                        "standoff": 15
                      },
                      "zerolinecolor": "white",
                      "zerolinewidth": 2
                    }
                  }
                },
                "title": {
                  "font": {
                    "family": "Arial",
                    "size": 24
                  },
                  "text": "Number of Data Breaches by Method and Organization Type",
                  "x": 0.5
                },
                "width": 1200,
                "xaxis": {
                  "anchor": "y",
                  "domain": [
                    0,
                    1
                  ],
                  "title": {
                    "text": "Method"
                  }
                },
                "yaxis": {
                  "anchor": "x",
                  "domain": [
                    0,
                    1
                  ],
                  "gridcolor": "LightGray",
                  "gridwidth": 0.5,
                  "showgrid": true,
                  "title": {
                    "text": "Count of Breaches"
                  }
                }
              }
            }
          },
          "metadata": {},
          "output_type": "display_data"
        }
      ],
      "source": [
        "fig = px.bar(\n",
        "    data_breaches,\n",
        "    x=\"Method\",\n",
        "    y=\"Count of Breaches\",\n",
        "    color=\"Organization type\",\n",
        "    color_discrete_sequence=px.colors.qualitative.Dark24,\n",
        "    barmode=\"group\"\n",
        ")\n",
        "\n",
        "fig.update_layout(\n",
        "    title=\"Number of Data Breaches by Method and Organization Type\",\n",
        "    title_font=dict(size=24, family=\"Arial\"),\n",
        "    title_x=0.5,\n",
        "    xaxis_title=\"Method\",\n",
        "    yaxis_title=\"Count of Breaches\",\n",
        "    width=1200,\n",
        "    height=600,\n",
        "    font=dict(size=14),\n",
        "    legend=dict(title=\"Organization Type\", font=dict(size=12)),\n",
        "    plot_bgcolor=\"rgba(245, 245, 245, 0.9)\",\n",
        ")\n",
        "\n",
        "fig.update_yaxes(showgrid=True, gridwidth=0.5, gridcolor=\"LightGray\")\n",
        "\n",
        "fig.show()"
      ]
    },
    {
      "cell_type": "code",
      "execution_count": 76,
      "metadata": {},
      "outputs": [
        {
          "data": {
            "application/vnd.plotly.v1+json": {
              "config": {
                "plotlyServerURL": "https://plot.ly"
              },
              "data": [
                {
                  "alignmentgroup": "True",
                  "hovertemplate": "Organization type=healthcare<br>Method=%{x}<br>Count of Breaches=%{y}<extra></extra>",
                  "legendgroup": "healthcare",
                  "marker": {
                    "color": "#2E91E5",
                    "pattern": {
                      "shape": ""
                    }
                  },
                  "name": "healthcare",
                  "offsetgroup": "healthcare",
                  "orientation": "v",
                  "showlegend": true,
                  "textposition": "auto",
                  "type": "bar",
                  "x": [
                    "hacked",
                    "poor security",
                    "lost / stolen media",
                    "lost / stolen media",
                    "hacked",
                    "poor security",
                    "lost / stolen media",
                    "hacked",
                    "lost / stolen media",
                    "lost / stolen media",
                    "hacked",
                    "hacked",
                    "lost / stolen media",
                    "poor security",
                    "hacked",
                    "poor security",
                    "inside job",
                    "hacked",
                    "hacked",
                    "inside job",
                    "hacked",
                    "hacked",
                    "hacked"
                  ],
                  "xaxis": "x",
                  "y": [
                    1,
                    2,
                    1,
                    2,
                    2,
                    1,
                    3,
                    5,
                    1,
                    6,
                    1,
                    1,
                    7,
                    1,
                    1,
                    3,
                    1,
                    1,
                    2,
                    1,
                    1,
                    1,
                    1
                  ],
                  "yaxis": "y"
                },
                {
                  "alignmentgroup": "True",
                  "hovertemplate": "Organization type=media<br>Method=%{x}<br>Count of Breaches=%{y}<extra></extra>",
                  "legendgroup": "media",
                  "marker": {
                    "color": "#E15F99",
                    "pattern": {
                      "shape": ""
                    }
                  },
                  "name": "media",
                  "offsetgroup": "media",
                  "orientation": "v",
                  "showlegend": true,
                  "textposition": "auto",
                  "type": "bar",
                  "x": [
                    "hacked",
                    "accidentally exposed",
                    "poor security",
                    "poor security",
                    "accidentally exposed",
                    "poor security",
                    "hacked",
                    "hacked",
                    "hacked",
                    "unknown"
                  ],
                  "xaxis": "x",
                  "y": [
                    1,
                    1,
                    2,
                    2,
                    1,
                    3,
                    1,
                    1,
                    1,
                    1
                  ],
                  "yaxis": "y"
                },
                {
                  "alignmentgroup": "True",
                  "hovertemplate": "Organization type=tech<br>Method=%{x}<br>Count of Breaches=%{y}<extra></extra>",
                  "legendgroup": "tech",
                  "marker": {
                    "color": "#1CA71C",
                    "pattern": {
                      "shape": ""
                    }
                  },
                  "name": "tech",
                  "offsetgroup": "tech",
                  "orientation": "v",
                  "showlegend": true,
                  "textposition": "auto",
                  "type": "bar",
                  "x": [
                    "hacked",
                    "poor security",
                    "poor security",
                    "hacked",
                    "inside job",
                    "accidentally exposed",
                    "hacked",
                    "hacked",
                    "hacked",
                    "hacked",
                    "hacked",
                    "hacked",
                    "hacked",
                    "hacked",
                    "hacked",
                    "poor security",
                    "poor security",
                    "hacked",
                    "accidentally exposed",
                    "lost / stolen media",
                    "accidentally exposed",
                    "misconfiguration",
                    "hacked",
                    "poor security",
                    "unknown",
                    "hacked",
                    "misconfiguration",
                    "poor security",
                    "hacked",
                    "social engineering"
                  ],
                  "xaxis": "x",
                  "y": [
                    14,
                    4,
                    1,
                    4,
                    1,
                    2,
                    7,
                    1,
                    2,
                    1,
                    2,
                    11,
                    3,
                    6,
                    2,
                    1,
                    1,
                    5,
                    3,
                    1,
                    1,
                    1,
                    1,
                    2,
                    1,
                    2,
                    1,
                    1,
                    1,
                    1
                  ],
                  "yaxis": "y"
                },
                {
                  "alignmentgroup": "True",
                  "hovertemplate": "Organization type=other<br>Method=%{x}<br>Count of Breaches=%{y}<extra></extra>",
                  "legendgroup": "other",
                  "marker": {
                    "color": "#FB0D0D",
                    "pattern": {
                      "shape": ""
                    }
                  },
                  "name": "other",
                  "offsetgroup": "other",
                  "orientation": "v",
                  "showlegend": true,
                  "textposition": "auto",
                  "type": "bar",
                  "x": [
                    "hacked",
                    "hacked",
                    "unknown",
                    "inside job",
                    "hacked",
                    "poor security",
                    "inside job",
                    "poor security",
                    "hacked",
                    "accidentally exposed"
                  ],
                  "xaxis": "x",
                  "y": [
                    7,
                    1,
                    1,
                    1,
                    1,
                    2,
                    1,
                    1,
                    1,
                    1
                  ],
                  "yaxis": "y"
                },
                {
                  "alignmentgroup": "True",
                  "hovertemplate": "Organization type=telecom<br>Method=%{x}<br>Count of Breaches=%{y}<extra></extra>",
                  "legendgroup": "telecom",
                  "marker": {
                    "color": "#DA16FF",
                    "pattern": {
                      "shape": ""
                    }
                  },
                  "name": "telecom",
                  "offsetgroup": "telecom",
                  "orientation": "v",
                  "showlegend": true,
                  "textposition": "auto",
                  "type": "bar",
                  "x": [
                    "poor security",
                    "lost / stolen media",
                    "hacked",
                    "poor security",
                    "hacked",
                    "hacked",
                    "hacked",
                    "hacked",
                    "hacked",
                    "misconfiguration",
                    "poor security",
                    "accidentally exposed",
                    "lost / stolen media",
                    "hacked",
                    "unknown",
                    "accidentally exposed",
                    "inside job"
                  ],
                  "xaxis": "x",
                  "y": [
                    1,
                    1,
                    1,
                    1,
                    1,
                    2,
                    1,
                    1,
                    1,
                    1,
                    1,
                    1,
                    1,
                    1,
                    1,
                    1,
                    1
                  ],
                  "yaxis": "y"
                },
                {
                  "alignmentgroup": "True",
                  "hovertemplate": "Organization type=financial<br>Method=%{x}<br>Count of Breaches=%{y}<extra></extra>",
                  "legendgroup": "financial",
                  "marker": {
                    "color": "#222A2A",
                    "pattern": {
                      "shape": ""
                    }
                  },
                  "name": "financial",
                  "offsetgroup": "financial",
                  "orientation": "v",
                  "showlegend": true,
                  "textposition": "auto",
                  "type": "bar",
                  "x": [
                    "lost / stolen media",
                    "poor security",
                    "lost / stolen media",
                    "poor security",
                    "accidentally exposed",
                    "hacked",
                    "hacked",
                    "hacked",
                    "hacked",
                    "poor security",
                    "inside job",
                    "inside job",
                    "inside job",
                    "hacked",
                    "inside job",
                    "lost / stolen media",
                    "poor security",
                    "hacked",
                    "poor security",
                    "hacked",
                    "hacked",
                    "hacked",
                    "inside job",
                    "lost / stolen media",
                    "lost / stolen media",
                    "rogue contractor",
                    "misconfiguration",
                    "hacked",
                    "hacked",
                    "accidentally exposed"
                  ],
                  "xaxis": "x",
                  "y": [
                    3,
                    1,
                    1,
                    1,
                    1,
                    1,
                    1,
                    2,
                    1,
                    1,
                    2,
                    1,
                    1,
                    2,
                    1,
                    2,
                    1,
                    1,
                    1,
                    4,
                    2,
                    1,
                    1,
                    1,
                    1,
                    1,
                    1,
                    1,
                    1,
                    1
                  ],
                  "yaxis": "y"
                },
                {
                  "alignmentgroup": "True",
                  "hovertemplate": "Organization type=retail<br>Method=%{x}<br>Count of Breaches=%{y}<extra></extra>",
                  "legendgroup": "retail",
                  "marker": {
                    "color": "#B68100",
                    "pattern": {
                      "shape": ""
                    }
                  },
                  "name": "retail",
                  "offsetgroup": "retail",
                  "orientation": "v",
                  "showlegend": true,
                  "textposition": "auto",
                  "type": "bar",
                  "x": [
                    "hacked",
                    "inside job",
                    "hacked",
                    "hacked",
                    "lost / stolen media",
                    "hacked",
                    "hacked",
                    "hacked",
                    "poor security",
                    "inside job",
                    "hacked",
                    "lost / stolen media",
                    "hacked",
                    "hacked",
                    "hacked"
                  ],
                  "xaxis": "x",
                  "y": [
                    3,
                    1,
                    1,
                    2,
                    1,
                    2,
                    2,
                    3,
                    1,
                    1,
                    1,
                    1,
                    1,
                    1,
                    1
                  ],
                  "yaxis": "y"
                },
                {
                  "alignmentgroup": "True",
                  "hovertemplate": "Organization type=academic / educational<br>Method=%{x}<br>Count of Breaches=%{y}<extra></extra>",
                  "legendgroup": "academic / educational",
                  "marker": {
                    "color": "#750D86",
                    "pattern": {
                      "shape": ""
                    }
                  },
                  "name": "academic / educational",
                  "offsetgroup": "academic / educational",
                  "orientation": "v",
                  "showlegend": true,
                  "textposition": "auto",
                  "type": "bar",
                  "x": [
                    "hacked",
                    "hacked",
                    "hacked",
                    "lost / stolen media",
                    "hacked",
                    "hacked",
                    "hacked",
                    "hacked",
                    "accidentally exposed"
                  ],
                  "xaxis": "x",
                  "y": [
                    2,
                    1,
                    1,
                    3,
                    1,
                    1,
                    2,
                    1,
                    1
                  ],
                  "yaxis": "y"
                },
                {
                  "alignmentgroup": "True",
                  "hovertemplate": "Organization type=government<br>Method=%{x}<br>Count of Breaches=%{y}<extra></extra>",
                  "legendgroup": "government",
                  "marker": {
                    "color": "#EB663B",
                    "pattern": {
                      "shape": ""
                    }
                  },
                  "name": "government",
                  "offsetgroup": "government",
                  "orientation": "v",
                  "showlegend": true,
                  "textposition": "auto",
                  "type": "bar",
                  "x": [
                    "lost / stolen media",
                    "hacked",
                    "poor security",
                    "lost / stolen media",
                    "inside job",
                    "lost / stolen media",
                    "poor security",
                    "hacked",
                    "accidentally exposed",
                    "poor security",
                    "hacked",
                    "accidentally exposed",
                    "inside job",
                    "hacked",
                    "lost / stolen media",
                    "hacked",
                    "hacked",
                    "accidentally exposed",
                    "inside job",
                    "lost / stolen media",
                    "poor security",
                    "lost / stolen media",
                    "lost / stolen media",
                    "hacked"
                  ],
                  "xaxis": "x",
                  "y": [
                    1,
                    1,
                    1,
                    2,
                    3,
                    1,
                    1,
                    3,
                    3,
                    1,
                    1,
                    1,
                    1,
                    1,
                    3,
                    1,
                    2,
                    4,
                    1,
                    1,
                    1,
                    3,
                    1,
                    1
                  ],
                  "yaxis": "y"
                }
              ],
              "layout": {
                "barmode": "relative",
                "font": {
                  "size": 14
                },
                "height": 600,
                "legend": {
                  "font": {
                    "size": 12
                  },
                  "title": {
                    "text": "Organization Type"
                  },
                  "tracegroupgap": 0
                },
                "margin": {
                  "t": 60
                },
                "plot_bgcolor": "rgba(245, 245, 245, 0.9)",
                "template": {
                  "data": {
                    "bar": [
                      {
                        "error_x": {
                          "color": "#2a3f5f"
                        },
                        "error_y": {
                          "color": "#2a3f5f"
                        },
                        "marker": {
                          "line": {
                            "color": "#E5ECF6",
                            "width": 0.5
                          },
                          "pattern": {
                            "fillmode": "overlay",
                            "size": 10,
                            "solidity": 0.2
                          }
                        },
                        "type": "bar"
                      }
                    ],
                    "barpolar": [
                      {
                        "marker": {
                          "line": {
                            "color": "#E5ECF6",
                            "width": 0.5
                          },
                          "pattern": {
                            "fillmode": "overlay",
                            "size": 10,
                            "solidity": 0.2
                          }
                        },
                        "type": "barpolar"
                      }
                    ],
                    "carpet": [
                      {
                        "aaxis": {
                          "endlinecolor": "#2a3f5f",
                          "gridcolor": "white",
                          "linecolor": "white",
                          "minorgridcolor": "white",
                          "startlinecolor": "#2a3f5f"
                        },
                        "baxis": {
                          "endlinecolor": "#2a3f5f",
                          "gridcolor": "white",
                          "linecolor": "white",
                          "minorgridcolor": "white",
                          "startlinecolor": "#2a3f5f"
                        },
                        "type": "carpet"
                      }
                    ],
                    "choropleth": [
                      {
                        "colorbar": {
                          "outlinewidth": 0,
                          "ticks": ""
                        },
                        "type": "choropleth"
                      }
                    ],
                    "contour": [
                      {
                        "colorbar": {
                          "outlinewidth": 0,
                          "ticks": ""
                        },
                        "colorscale": [
                          [
                            0,
                            "#0d0887"
                          ],
                          [
                            0.1111111111111111,
                            "#46039f"
                          ],
                          [
                            0.2222222222222222,
                            "#7201a8"
                          ],
                          [
                            0.3333333333333333,
                            "#9c179e"
                          ],
                          [
                            0.4444444444444444,
                            "#bd3786"
                          ],
                          [
                            0.5555555555555556,
                            "#d8576b"
                          ],
                          [
                            0.6666666666666666,
                            "#ed7953"
                          ],
                          [
                            0.7777777777777778,
                            "#fb9f3a"
                          ],
                          [
                            0.8888888888888888,
                            "#fdca26"
                          ],
                          [
                            1,
                            "#f0f921"
                          ]
                        ],
                        "type": "contour"
                      }
                    ],
                    "contourcarpet": [
                      {
                        "colorbar": {
                          "outlinewidth": 0,
                          "ticks": ""
                        },
                        "type": "contourcarpet"
                      }
                    ],
                    "heatmap": [
                      {
                        "colorbar": {
                          "outlinewidth": 0,
                          "ticks": ""
                        },
                        "colorscale": [
                          [
                            0,
                            "#0d0887"
                          ],
                          [
                            0.1111111111111111,
                            "#46039f"
                          ],
                          [
                            0.2222222222222222,
                            "#7201a8"
                          ],
                          [
                            0.3333333333333333,
                            "#9c179e"
                          ],
                          [
                            0.4444444444444444,
                            "#bd3786"
                          ],
                          [
                            0.5555555555555556,
                            "#d8576b"
                          ],
                          [
                            0.6666666666666666,
                            "#ed7953"
                          ],
                          [
                            0.7777777777777778,
                            "#fb9f3a"
                          ],
                          [
                            0.8888888888888888,
                            "#fdca26"
                          ],
                          [
                            1,
                            "#f0f921"
                          ]
                        ],
                        "type": "heatmap"
                      }
                    ],
                    "heatmapgl": [
                      {
                        "colorbar": {
                          "outlinewidth": 0,
                          "ticks": ""
                        },
                        "colorscale": [
                          [
                            0,
                            "#0d0887"
                          ],
                          [
                            0.1111111111111111,
                            "#46039f"
                          ],
                          [
                            0.2222222222222222,
                            "#7201a8"
                          ],
                          [
                            0.3333333333333333,
                            "#9c179e"
                          ],
                          [
                            0.4444444444444444,
                            "#bd3786"
                          ],
                          [
                            0.5555555555555556,
                            "#d8576b"
                          ],
                          [
                            0.6666666666666666,
                            "#ed7953"
                          ],
                          [
                            0.7777777777777778,
                            "#fb9f3a"
                          ],
                          [
                            0.8888888888888888,
                            "#fdca26"
                          ],
                          [
                            1,
                            "#f0f921"
                          ]
                        ],
                        "type": "heatmapgl"
                      }
                    ],
                    "histogram": [
                      {
                        "marker": {
                          "pattern": {
                            "fillmode": "overlay",
                            "size": 10,
                            "solidity": 0.2
                          }
                        },
                        "type": "histogram"
                      }
                    ],
                    "histogram2d": [
                      {
                        "colorbar": {
                          "outlinewidth": 0,
                          "ticks": ""
                        },
                        "colorscale": [
                          [
                            0,
                            "#0d0887"
                          ],
                          [
                            0.1111111111111111,
                            "#46039f"
                          ],
                          [
                            0.2222222222222222,
                            "#7201a8"
                          ],
                          [
                            0.3333333333333333,
                            "#9c179e"
                          ],
                          [
                            0.4444444444444444,
                            "#bd3786"
                          ],
                          [
                            0.5555555555555556,
                            "#d8576b"
                          ],
                          [
                            0.6666666666666666,
                            "#ed7953"
                          ],
                          [
                            0.7777777777777778,
                            "#fb9f3a"
                          ],
                          [
                            0.8888888888888888,
                            "#fdca26"
                          ],
                          [
                            1,
                            "#f0f921"
                          ]
                        ],
                        "type": "histogram2d"
                      }
                    ],
                    "histogram2dcontour": [
                      {
                        "colorbar": {
                          "outlinewidth": 0,
                          "ticks": ""
                        },
                        "colorscale": [
                          [
                            0,
                            "#0d0887"
                          ],
                          [
                            0.1111111111111111,
                            "#46039f"
                          ],
                          [
                            0.2222222222222222,
                            "#7201a8"
                          ],
                          [
                            0.3333333333333333,
                            "#9c179e"
                          ],
                          [
                            0.4444444444444444,
                            "#bd3786"
                          ],
                          [
                            0.5555555555555556,
                            "#d8576b"
                          ],
                          [
                            0.6666666666666666,
                            "#ed7953"
                          ],
                          [
                            0.7777777777777778,
                            "#fb9f3a"
                          ],
                          [
                            0.8888888888888888,
                            "#fdca26"
                          ],
                          [
                            1,
                            "#f0f921"
                          ]
                        ],
                        "type": "histogram2dcontour"
                      }
                    ],
                    "mesh3d": [
                      {
                        "colorbar": {
                          "outlinewidth": 0,
                          "ticks": ""
                        },
                        "type": "mesh3d"
                      }
                    ],
                    "parcoords": [
                      {
                        "line": {
                          "colorbar": {
                            "outlinewidth": 0,
                            "ticks": ""
                          }
                        },
                        "type": "parcoords"
                      }
                    ],
                    "pie": [
                      {
                        "automargin": true,
                        "type": "pie"
                      }
                    ],
                    "scatter": [
                      {
                        "fillpattern": {
                          "fillmode": "overlay",
                          "size": 10,
                          "solidity": 0.2
                        },
                        "type": "scatter"
                      }
                    ],
                    "scatter3d": [
                      {
                        "line": {
                          "colorbar": {
                            "outlinewidth": 0,
                            "ticks": ""
                          }
                        },
                        "marker": {
                          "colorbar": {
                            "outlinewidth": 0,
                            "ticks": ""
                          }
                        },
                        "type": "scatter3d"
                      }
                    ],
                    "scattercarpet": [
                      {
                        "marker": {
                          "colorbar": {
                            "outlinewidth": 0,
                            "ticks": ""
                          }
                        },
                        "type": "scattercarpet"
                      }
                    ],
                    "scattergeo": [
                      {
                        "marker": {
                          "colorbar": {
                            "outlinewidth": 0,
                            "ticks": ""
                          }
                        },
                        "type": "scattergeo"
                      }
                    ],
                    "scattergl": [
                      {
                        "marker": {
                          "colorbar": {
                            "outlinewidth": 0,
                            "ticks": ""
                          }
                        },
                        "type": "scattergl"
                      }
                    ],
                    "scattermapbox": [
                      {
                        "marker": {
                          "colorbar": {
                            "outlinewidth": 0,
                            "ticks": ""
                          }
                        },
                        "type": "scattermapbox"
                      }
                    ],
                    "scatterpolar": [
                      {
                        "marker": {
                          "colorbar": {
                            "outlinewidth": 0,
                            "ticks": ""
                          }
                        },
                        "type": "scatterpolar"
                      }
                    ],
                    "scatterpolargl": [
                      {
                        "marker": {
                          "colorbar": {
                            "outlinewidth": 0,
                            "ticks": ""
                          }
                        },
                        "type": "scatterpolargl"
                      }
                    ],
                    "scatterternary": [
                      {
                        "marker": {
                          "colorbar": {
                            "outlinewidth": 0,
                            "ticks": ""
                          }
                        },
                        "type": "scatterternary"
                      }
                    ],
                    "surface": [
                      {
                        "colorbar": {
                          "outlinewidth": 0,
                          "ticks": ""
                        },
                        "colorscale": [
                          [
                            0,
                            "#0d0887"
                          ],
                          [
                            0.1111111111111111,
                            "#46039f"
                          ],
                          [
                            0.2222222222222222,
                            "#7201a8"
                          ],
                          [
                            0.3333333333333333,
                            "#9c179e"
                          ],
                          [
                            0.4444444444444444,
                            "#bd3786"
                          ],
                          [
                            0.5555555555555556,
                            "#d8576b"
                          ],
                          [
                            0.6666666666666666,
                            "#ed7953"
                          ],
                          [
                            0.7777777777777778,
                            "#fb9f3a"
                          ],
                          [
                            0.8888888888888888,
                            "#fdca26"
                          ],
                          [
                            1,
                            "#f0f921"
                          ]
                        ],
                        "type": "surface"
                      }
                    ],
                    "table": [
                      {
                        "cells": {
                          "fill": {
                            "color": "#EBF0F8"
                          },
                          "line": {
                            "color": "white"
                          }
                        },
                        "header": {
                          "fill": {
                            "color": "#C8D4E3"
                          },
                          "line": {
                            "color": "white"
                          }
                        },
                        "type": "table"
                      }
                    ]
                  },
                  "layout": {
                    "annotationdefaults": {
                      "arrowcolor": "#2a3f5f",
                      "arrowhead": 0,
                      "arrowwidth": 1
                    },
                    "autotypenumbers": "strict",
                    "coloraxis": {
                      "colorbar": {
                        "outlinewidth": 0,
                        "ticks": ""
                      }
                    },
                    "colorscale": {
                      "diverging": [
                        [
                          0,
                          "#8e0152"
                        ],
                        [
                          0.1,
                          "#c51b7d"
                        ],
                        [
                          0.2,
                          "#de77ae"
                        ],
                        [
                          0.3,
                          "#f1b6da"
                        ],
                        [
                          0.4,
                          "#fde0ef"
                        ],
                        [
                          0.5,
                          "#f7f7f7"
                        ],
                        [
                          0.6,
                          "#e6f5d0"
                        ],
                        [
                          0.7,
                          "#b8e186"
                        ],
                        [
                          0.8,
                          "#7fbc41"
                        ],
                        [
                          0.9,
                          "#4d9221"
                        ],
                        [
                          1,
                          "#276419"
                        ]
                      ],
                      "sequential": [
                        [
                          0,
                          "#0d0887"
                        ],
                        [
                          0.1111111111111111,
                          "#46039f"
                        ],
                        [
                          0.2222222222222222,
                          "#7201a8"
                        ],
                        [
                          0.3333333333333333,
                          "#9c179e"
                        ],
                        [
                          0.4444444444444444,
                          "#bd3786"
                        ],
                        [
                          0.5555555555555556,
                          "#d8576b"
                        ],
                        [
                          0.6666666666666666,
                          "#ed7953"
                        ],
                        [
                          0.7777777777777778,
                          "#fb9f3a"
                        ],
                        [
                          0.8888888888888888,
                          "#fdca26"
                        ],
                        [
                          1,
                          "#f0f921"
                        ]
                      ],
                      "sequentialminus": [
                        [
                          0,
                          "#0d0887"
                        ],
                        [
                          0.1111111111111111,
                          "#46039f"
                        ],
                        [
                          0.2222222222222222,
                          "#7201a8"
                        ],
                        [
                          0.3333333333333333,
                          "#9c179e"
                        ],
                        [
                          0.4444444444444444,
                          "#bd3786"
                        ],
                        [
                          0.5555555555555556,
                          "#d8576b"
                        ],
                        [
                          0.6666666666666666,
                          "#ed7953"
                        ],
                        [
                          0.7777777777777778,
                          "#fb9f3a"
                        ],
                        [
                          0.8888888888888888,
                          "#fdca26"
                        ],
                        [
                          1,
                          "#f0f921"
                        ]
                      ]
                    },
                    "colorway": [
                      "#636efa",
                      "#EF553B",
                      "#00cc96",
                      "#ab63fa",
                      "#FFA15A",
                      "#19d3f3",
                      "#FF6692",
                      "#B6E880",
                      "#FF97FF",
                      "#FECB52"
                    ],
                    "font": {
                      "color": "#2a3f5f"
                    },
                    "geo": {
                      "bgcolor": "white",
                      "lakecolor": "white",
                      "landcolor": "#E5ECF6",
                      "showlakes": true,
                      "showland": true,
                      "subunitcolor": "white"
                    },
                    "hoverlabel": {
                      "align": "left"
                    },
                    "hovermode": "closest",
                    "mapbox": {
                      "style": "light"
                    },
                    "paper_bgcolor": "white",
                    "plot_bgcolor": "#E5ECF6",
                    "polar": {
                      "angularaxis": {
                        "gridcolor": "white",
                        "linecolor": "white",
                        "ticks": ""
                      },
                      "bgcolor": "#E5ECF6",
                      "radialaxis": {
                        "gridcolor": "white",
                        "linecolor": "white",
                        "ticks": ""
                      }
                    },
                    "scene": {
                      "xaxis": {
                        "backgroundcolor": "#E5ECF6",
                        "gridcolor": "white",
                        "gridwidth": 2,
                        "linecolor": "white",
                        "showbackground": true,
                        "ticks": "",
                        "zerolinecolor": "white"
                      },
                      "yaxis": {
                        "backgroundcolor": "#E5ECF6",
                        "gridcolor": "white",
                        "gridwidth": 2,
                        "linecolor": "white",
                        "showbackground": true,
                        "ticks": "",
                        "zerolinecolor": "white"
                      },
                      "zaxis": {
                        "backgroundcolor": "#E5ECF6",
                        "gridcolor": "white",
                        "gridwidth": 2,
                        "linecolor": "white",
                        "showbackground": true,
                        "ticks": "",
                        "zerolinecolor": "white"
                      }
                    },
                    "shapedefaults": {
                      "line": {
                        "color": "#2a3f5f"
                      }
                    },
                    "ternary": {
                      "aaxis": {
                        "gridcolor": "white",
                        "linecolor": "white",
                        "ticks": ""
                      },
                      "baxis": {
                        "gridcolor": "white",
                        "linecolor": "white",
                        "ticks": ""
                      },
                      "bgcolor": "#E5ECF6",
                      "caxis": {
                        "gridcolor": "white",
                        "linecolor": "white",
                        "ticks": ""
                      }
                    },
                    "title": {
                      "x": 0.05
                    },
                    "xaxis": {
                      "automargin": true,
                      "gridcolor": "white",
                      "linecolor": "white",
                      "ticks": "",
                      "title": {
                        "standoff": 15
                      },
                      "zerolinecolor": "white",
                      "zerolinewidth": 2
                    },
                    "yaxis": {
                      "automargin": true,
                      "gridcolor": "white",
                      "linecolor": "white",
                      "ticks": "",
                      "title": {
                        "standoff": 15
                      },
                      "zerolinecolor": "white",
                      "zerolinewidth": 2
                    }
                  }
                },
                "title": {
                  "font": {
                    "family": "Arial",
                    "size": 24
                  },
                  "text": "Number of Data Breaches by Method and Organization Type",
                  "x": 0.5
                },
                "width": 1200,
                "xaxis": {
                  "anchor": "y",
                  "domain": [
                    0,
                    1
                  ],
                  "title": {
                    "text": "Method"
                  }
                },
                "yaxis": {
                  "anchor": "x",
                  "domain": [
                    0,
                    1
                  ],
                  "gridcolor": "LightGray",
                  "gridwidth": 0.5,
                  "showgrid": true,
                  "title": {
                    "text": "Count of Breaches"
                  }
                }
              }
            }
          },
          "metadata": {},
          "output_type": "display_data"
        }
      ],
      "source": [
        "fig = px.bar(\n",
        "    data_breaches,\n",
        "    x=\"Method\",\n",
        "    y=\"Count of Breaches\",\n",
        "    color=\"Organization type\",\n",
        "    color_discrete_sequence=px.colors.qualitative.Dark24,\n",
        ")\n",
        "\n",
        "fig.update_layout(\n",
        "    title=\"Number of Data Breaches by Method and Organization Type\",\n",
        "    title_font=dict(size=24, family=\"Arial\"),\n",
        "    title_x=0.5,\n",
        "    xaxis_title=\"Method\",\n",
        "    yaxis_title=\"Count of Breaches\",\n",
        "    width=1200,\n",
        "    height=600,\n",
        "    font=dict(size=14),\n",
        "    legend=dict(title=\"Organization Type\", font=dict(size=12)),\n",
        "    plot_bgcolor=\"rgba(245, 245, 245, 0.9)\",\n",
        ")\n",
        "\n",
        "fig.update_yaxes(showgrid=True, gridwidth=0.5, gridcolor=\"LightGray\")\n",
        "\n",
        "fig.show()"
      ]
    },
    {
      "cell_type": "markdown",
      "metadata": {},
      "source": [
        "**Exercis 2**"
      ]
    },
    {
      "cell_type": "code",
      "execution_count": 77,
      "metadata": {},
      "outputs": [
        {
          "data": {
            "application/vnd.plotly.v1+json": {
              "config": {
                "plotlyServerURL": "https://plot.ly"
              },
              "data": [
                {
                  "alignmentgroup": "True",
                  "hovertemplate": "Organization type=healthcare<br>Method=%{x}<br>Total No Records (M)=%{y}<extra></extra>",
                  "legendgroup": "healthcare",
                  "marker": {
                    "color": "rgb(127, 60, 141)",
                    "pattern": {
                      "shape": ""
                    }
                  },
                  "name": "healthcare",
                  "offsetgroup": "healthcare",
                  "orientation": "v",
                  "showlegend": true,
                  "textposition": "auto",
                  "type": "bar",
                  "x": [
                    "hacked",
                    "poor security",
                    "lost / stolen media",
                    "lost / stolen media",
                    "hacked",
                    "poor security",
                    "lost / stolen media",
                    "hacked",
                    "lost / stolen media",
                    "lost / stolen media",
                    "hacked",
                    "hacked",
                    "lost / stolen media",
                    "poor security",
                    "hacked",
                    "poor security",
                    "inside job",
                    "hacked",
                    "hacked",
                    "inside job",
                    "hacked",
                    "hacked",
                    "hacked"
                  ],
                  "xaxis": "x",
                  "y": [
                    2.2,
                    0.5666,
                    4,
                    0.444579,
                    80.156,
                    0.091,
                    2.743209,
                    30.5,
                    0.16,
                    3.314076,
                    4.5,
                    0.075,
                    16.515406,
                    0.315,
                    0.025,
                    12.7222,
                    0.0067,
                    15,
                    0.7464,
                    6.4,
                    0.3,
                    0.13,
                    0.5314
                  ],
                  "yaxis": "y"
                },
                {
                  "alignmentgroup": "True",
                  "hovertemplate": "Organization type=media<br>Method=%{x}<br>Total No Records (M)=%{y}<extra></extra>",
                  "legendgroup": "media",
                  "marker": {
                    "color": "rgb(17, 165, 121)",
                    "pattern": {
                      "shape": ""
                    }
                  },
                  "name": "media",
                  "offsetgroup": "media",
                  "orientation": "v",
                  "showlegend": true,
                  "textposition": "auto",
                  "type": "bar",
                  "x": [
                    "hacked",
                    "accidentally exposed",
                    "poor security",
                    "poor security",
                    "accidentally exposed",
                    "poor security",
                    "hacked",
                    "hacked",
                    "hacked",
                    "unknown"
                  ],
                  "xaxis": "x",
                  "y": [
                    14.870304,
                    6,
                    50.5,
                    807,
                    1.5,
                    246,
                    0.43,
                    1.27,
                    173,
                    0.38
                  ],
                  "yaxis": "y"
                },
                {
                  "alignmentgroup": "True",
                  "hovertemplate": "Organization type=tech<br>Method=%{x}<br>Total No Records (M)=%{y}<extra></extra>",
                  "legendgroup": "tech",
                  "marker": {
                    "color": "rgb(57, 105, 172)",
                    "pattern": {
                      "shape": ""
                    }
                  },
                  "name": "tech",
                  "offsetgroup": "tech",
                  "orientation": "v",
                  "showlegend": true,
                  "textposition": "auto",
                  "type": "bar",
                  "x": [
                    "hacked",
                    "poor security",
                    "poor security",
                    "hacked",
                    "inside job",
                    "accidentally exposed",
                    "hacked",
                    "hacked",
                    "hacked",
                    "hacked",
                    "hacked",
                    "hacked",
                    "hacked",
                    "hacked",
                    "hacked",
                    "poor security",
                    "poor security",
                    "hacked",
                    "accidentally exposed",
                    "lost / stolen media",
                    "accidentally exposed",
                    "misconfiguration",
                    "hacked",
                    "poor security",
                    "unknown",
                    "hacked",
                    "misconfiguration",
                    "poor security",
                    "hacked",
                    "social engineering"
                  ],
                  "xaxis": "x",
                  "y": [
                    3350.159298,
                    592.5,
                    0.3,
                    316.51,
                    92,
                    32.367232,
                    654.86,
                    0.275,
                    34.3,
                    18,
                    3.8,
                    196.352755,
                    158.513234,
                    213.265944,
                    144.9,
                    340,
                    412.214295,
                    48.939116,
                    8.583792,
                    0.2,
                    100,
                    250,
                    1.6,
                    0.126,
                    92.283889,
                    32.573,
                    1.381735,
                    0.5,
                    28.722877,
                    6.054459
                  ],
                  "yaxis": "y"
                },
                {
                  "alignmentgroup": "True",
                  "hovertemplate": "Organization type=other<br>Method=%{x}<br>Total No Records (M)=%{y}<extra></extra>",
                  "legendgroup": "other",
                  "marker": {
                    "color": "rgb(242, 183, 1)",
                    "pattern": {
                      "shape": ""
                    }
                  },
                  "name": "other",
                  "offsetgroup": "other",
                  "orientation": "v",
                  "showlegend": true,
                  "textposition": "auto",
                  "type": "bar",
                  "x": [
                    "hacked",
                    "hacked",
                    "unknown",
                    "inside job",
                    "hacked",
                    "poor security",
                    "inside job",
                    "poor security",
                    "hacked",
                    "accidentally exposed"
                  ],
                  "xaxis": "x",
                  "y": [
                    636.146608,
                    0.11,
                    56,
                    11.1,
                    1.25,
                    125.2,
                    1.8,
                    0.052,
                    57,
                    38
                  ],
                  "yaxis": "y"
                },
                {
                  "alignmentgroup": "True",
                  "hovertemplate": "Organization type=telecom<br>Method=%{x}<br>Total No Records (M)=%{y}<extra></extra>",
                  "legendgroup": "telecom",
                  "marker": {
                    "color": "rgb(231, 63, 116)",
                    "pattern": {
                      "shape": ""
                    }
                  },
                  "name": "telecom",
                  "offsetgroup": "telecom",
                  "orientation": "v",
                  "showlegend": true,
                  "textposition": "auto",
                  "type": "bar",
                  "x": [
                    "poor security",
                    "lost / stolen media",
                    "hacked",
                    "poor security",
                    "hacked",
                    "hacked",
                    "hacked",
                    "hacked",
                    "hacked",
                    "misconfiguration",
                    "poor security",
                    "accidentally exposed",
                    "lost / stolen media",
                    "hacked",
                    "unknown",
                    "accidentally exposed",
                    "inside job"
                  ],
                  "xaxis": "x",
                  "y": [
                    320,
                    0.113,
                    0.114,
                    1.9,
                    0.1,
                    1.54,
                    15,
                    4,
                    8.7,
                    100,
                    0.377428,
                    0.17,
                    17,
                    45,
                    299.055,
                    0.9,
                    2
                  ],
                  "yaxis": "y"
                },
                {
                  "alignmentgroup": "True",
                  "hovertemplate": "Organization type=financial<br>Method=%{x}<br>Total No Records (M)=%{y}<extra></extra>",
                  "legendgroup": "financial",
                  "marker": {
                    "color": "rgb(128, 186, 90)",
                    "pattern": {
                      "shape": ""
                    }
                  },
                  "name": "financial",
                  "offsetgroup": "financial",
                  "orientation": "v",
                  "showlegend": true,
                  "textposition": "auto",
                  "type": "bar",
                  "x": [
                    "lost / stolen media",
                    "poor security",
                    "lost / stolen media",
                    "poor security",
                    "accidentally exposed",
                    "hacked",
                    "hacked",
                    "hacked",
                    "hacked",
                    "poor security",
                    "inside job",
                    "inside job",
                    "inside job",
                    "hacked",
                    "inside job",
                    "lost / stolen media",
                    "poor security",
                    "hacked",
                    "poor security",
                    "hacked",
                    "hacked",
                    "hacked",
                    "inside job",
                    "lost / stolen media",
                    "lost / stolen media",
                    "rogue contractor",
                    "misconfiguration",
                    "hacked",
                    "hacked",
                    "accidentally exposed"
                  ],
                  "xaxis": "x",
                  "y": [
                    5.3,
                    0.125,
                    12.5,
                    0.09,
                    106,
                    40,
                    0.06,
                    135,
                    0.360083,
                    0.15,
                    9.5,
                    2.6,
                    2.5,
                    9.5,
                    9.7,
                    5.9,
                    163.119,
                    0.4,
                    885,
                    170.26,
                    5.32,
                    76,
                    20,
                    0.96,
                    0.034,
                    0.03,
                    20.076016,
                    6.3,
                    0.098,
                    200
                  ],
                  "yaxis": "y"
                },
                {
                  "alignmentgroup": "True",
                  "hovertemplate": "Organization type=retail<br>Method=%{x}<br>Total No Records (M)=%{y}<extra></extra>",
                  "legendgroup": "retail",
                  "marker": {
                    "color": "rgb(230, 131, 16)",
                    "pattern": {
                      "shape": ""
                    }
                  },
                  "name": "retail",
                  "offsetgroup": "retail",
                  "orientation": "v",
                  "showlegend": true,
                  "textposition": "auto",
                  "type": "bar",
                  "x": [
                    "hacked",
                    "inside job",
                    "hacked",
                    "hacked",
                    "lost / stolen media",
                    "hacked",
                    "hacked",
                    "hacked",
                    "poor security",
                    "inside job",
                    "hacked",
                    "lost / stolen media",
                    "hacked",
                    "hacked",
                    "hacked"
                  ],
                  "xaxis": "x",
                  "y": [
                    6.55,
                    8.637405,
                    1.4,
                    7.261091,
                    0.8,
                    98.2,
                    28.641101,
                    60.1,
                    0.283,
                    0.51,
                    0.2,
                    0.097,
                    20,
                    110,
                    30
                  ],
                  "yaxis": "y"
                },
                {
                  "alignmentgroup": "True",
                  "hovertemplate": "Organization type=academic / educational<br>Method=%{x}<br>Total No Records (M)=%{y}<extra></extra>",
                  "legendgroup": "academic / educational",
                  "marker": {
                    "color": "rgb(0, 134, 149)",
                    "pattern": {
                      "shape": ""
                    }
                  },
                  "name": "academic / educational",
                  "offsetgroup": "academic / educational",
                  "orientation": "v",
                  "showlegend": true,
                  "textposition": "auto",
                  "type": "bar",
                  "x": [
                    "hacked",
                    "hacked",
                    "hacked",
                    "lost / stolen media",
                    "hacked",
                    "hacked",
                    "hacked",
                    "hacked",
                    "accidentally exposed"
                  ],
                  "xaxis": "x",
                  "y": [
                    35.34,
                    0.125,
                    0.76,
                    4.372,
                    1.16454,
                    0.16,
                    0.143,
                    0.073,
                    0.043
                  ],
                  "yaxis": "y"
                },
                {
                  "alignmentgroup": "True",
                  "hovertemplate": "Organization type=government<br>Method=%{x}<br>Total No Records (M)=%{y}<extra></extra>",
                  "legendgroup": "government",
                  "marker": {
                    "color": "rgb(207, 28, 144)",
                    "pattern": {
                      "shape": ""
                    }
                  },
                  "name": "government",
                  "offsetgroup": "government",
                  "orientation": "v",
                  "showlegend": true,
                  "textposition": "auto",
                  "type": "bar",
                  "x": [
                    "lost / stolen media",
                    "hacked",
                    "poor security",
                    "lost / stolen media",
                    "inside job",
                    "lost / stolen media",
                    "poor security",
                    "hacked",
                    "accidentally exposed",
                    "poor security",
                    "hacked",
                    "accidentally exposed",
                    "inside job",
                    "hacked",
                    "lost / stolen media",
                    "hacked",
                    "hacked",
                    "accidentally exposed",
                    "inside job",
                    "lost / stolen media",
                    "poor security",
                    "lost / stolen media",
                    "lost / stolen media",
                    "hacked"
                  ],
                  "xaxis": "x",
                  "y": [
                    0.8,
                    55,
                    0.03,
                    28,
                    0.903,
                    0.1,
                    201,
                    12.214899,
                    11.55,
                    0.21,
                    21.5,
                    6.5,
                    0.68,
                    0.18,
                    1.8345,
                    1.5,
                    0.176,
                    4.608461,
                    0.089,
                    4.901432,
                    60,
                    76.203,
                    26.5,
                    8.257378
                  ],
                  "yaxis": "y"
                }
              ],
              "layout": {
                "barmode": "group",
                "font": {
                  "size": 14
                },
                "height": 600,
                "legend": {
                  "font": {
                    "size": 12
                  },
                  "title": {
                    "text": "Organization Type"
                  },
                  "tracegroupgap": 0
                },
                "margin": {
                  "t": 60
                },
                "template": {
                  "data": {
                    "bar": [
                      {
                        "error_x": {
                          "color": "#2a3f5f"
                        },
                        "error_y": {
                          "color": "#2a3f5f"
                        },
                        "marker": {
                          "line": {
                            "color": "#E5ECF6",
                            "width": 0.5
                          },
                          "pattern": {
                            "fillmode": "overlay",
                            "size": 10,
                            "solidity": 0.2
                          }
                        },
                        "type": "bar"
                      }
                    ],
                    "barpolar": [
                      {
                        "marker": {
                          "line": {
                            "color": "#E5ECF6",
                            "width": 0.5
                          },
                          "pattern": {
                            "fillmode": "overlay",
                            "size": 10,
                            "solidity": 0.2
                          }
                        },
                        "type": "barpolar"
                      }
                    ],
                    "carpet": [
                      {
                        "aaxis": {
                          "endlinecolor": "#2a3f5f",
                          "gridcolor": "white",
                          "linecolor": "white",
                          "minorgridcolor": "white",
                          "startlinecolor": "#2a3f5f"
                        },
                        "baxis": {
                          "endlinecolor": "#2a3f5f",
                          "gridcolor": "white",
                          "linecolor": "white",
                          "minorgridcolor": "white",
                          "startlinecolor": "#2a3f5f"
                        },
                        "type": "carpet"
                      }
                    ],
                    "choropleth": [
                      {
                        "colorbar": {
                          "outlinewidth": 0,
                          "ticks": ""
                        },
                        "type": "choropleth"
                      }
                    ],
                    "contour": [
                      {
                        "colorbar": {
                          "outlinewidth": 0,
                          "ticks": ""
                        },
                        "colorscale": [
                          [
                            0,
                            "#0d0887"
                          ],
                          [
                            0.1111111111111111,
                            "#46039f"
                          ],
                          [
                            0.2222222222222222,
                            "#7201a8"
                          ],
                          [
                            0.3333333333333333,
                            "#9c179e"
                          ],
                          [
                            0.4444444444444444,
                            "#bd3786"
                          ],
                          [
                            0.5555555555555556,
                            "#d8576b"
                          ],
                          [
                            0.6666666666666666,
                            "#ed7953"
                          ],
                          [
                            0.7777777777777778,
                            "#fb9f3a"
                          ],
                          [
                            0.8888888888888888,
                            "#fdca26"
                          ],
                          [
                            1,
                            "#f0f921"
                          ]
                        ],
                        "type": "contour"
                      }
                    ],
                    "contourcarpet": [
                      {
                        "colorbar": {
                          "outlinewidth": 0,
                          "ticks": ""
                        },
                        "type": "contourcarpet"
                      }
                    ],
                    "heatmap": [
                      {
                        "colorbar": {
                          "outlinewidth": 0,
                          "ticks": ""
                        },
                        "colorscale": [
                          [
                            0,
                            "#0d0887"
                          ],
                          [
                            0.1111111111111111,
                            "#46039f"
                          ],
                          [
                            0.2222222222222222,
                            "#7201a8"
                          ],
                          [
                            0.3333333333333333,
                            "#9c179e"
                          ],
                          [
                            0.4444444444444444,
                            "#bd3786"
                          ],
                          [
                            0.5555555555555556,
                            "#d8576b"
                          ],
                          [
                            0.6666666666666666,
                            "#ed7953"
                          ],
                          [
                            0.7777777777777778,
                            "#fb9f3a"
                          ],
                          [
                            0.8888888888888888,
                            "#fdca26"
                          ],
                          [
                            1,
                            "#f0f921"
                          ]
                        ],
                        "type": "heatmap"
                      }
                    ],
                    "heatmapgl": [
                      {
                        "colorbar": {
                          "outlinewidth": 0,
                          "ticks": ""
                        },
                        "colorscale": [
                          [
                            0,
                            "#0d0887"
                          ],
                          [
                            0.1111111111111111,
                            "#46039f"
                          ],
                          [
                            0.2222222222222222,
                            "#7201a8"
                          ],
                          [
                            0.3333333333333333,
                            "#9c179e"
                          ],
                          [
                            0.4444444444444444,
                            "#bd3786"
                          ],
                          [
                            0.5555555555555556,
                            "#d8576b"
                          ],
                          [
                            0.6666666666666666,
                            "#ed7953"
                          ],
                          [
                            0.7777777777777778,
                            "#fb9f3a"
                          ],
                          [
                            0.8888888888888888,
                            "#fdca26"
                          ],
                          [
                            1,
                            "#f0f921"
                          ]
                        ],
                        "type": "heatmapgl"
                      }
                    ],
                    "histogram": [
                      {
                        "marker": {
                          "pattern": {
                            "fillmode": "overlay",
                            "size": 10,
                            "solidity": 0.2
                          }
                        },
                        "type": "histogram"
                      }
                    ],
                    "histogram2d": [
                      {
                        "colorbar": {
                          "outlinewidth": 0,
                          "ticks": ""
                        },
                        "colorscale": [
                          [
                            0,
                            "#0d0887"
                          ],
                          [
                            0.1111111111111111,
                            "#46039f"
                          ],
                          [
                            0.2222222222222222,
                            "#7201a8"
                          ],
                          [
                            0.3333333333333333,
                            "#9c179e"
                          ],
                          [
                            0.4444444444444444,
                            "#bd3786"
                          ],
                          [
                            0.5555555555555556,
                            "#d8576b"
                          ],
                          [
                            0.6666666666666666,
                            "#ed7953"
                          ],
                          [
                            0.7777777777777778,
                            "#fb9f3a"
                          ],
                          [
                            0.8888888888888888,
                            "#fdca26"
                          ],
                          [
                            1,
                            "#f0f921"
                          ]
                        ],
                        "type": "histogram2d"
                      }
                    ],
                    "histogram2dcontour": [
                      {
                        "colorbar": {
                          "outlinewidth": 0,
                          "ticks": ""
                        },
                        "colorscale": [
                          [
                            0,
                            "#0d0887"
                          ],
                          [
                            0.1111111111111111,
                            "#46039f"
                          ],
                          [
                            0.2222222222222222,
                            "#7201a8"
                          ],
                          [
                            0.3333333333333333,
                            "#9c179e"
                          ],
                          [
                            0.4444444444444444,
                            "#bd3786"
                          ],
                          [
                            0.5555555555555556,
                            "#d8576b"
                          ],
                          [
                            0.6666666666666666,
                            "#ed7953"
                          ],
                          [
                            0.7777777777777778,
                            "#fb9f3a"
                          ],
                          [
                            0.8888888888888888,
                            "#fdca26"
                          ],
                          [
                            1,
                            "#f0f921"
                          ]
                        ],
                        "type": "histogram2dcontour"
                      }
                    ],
                    "mesh3d": [
                      {
                        "colorbar": {
                          "outlinewidth": 0,
                          "ticks": ""
                        },
                        "type": "mesh3d"
                      }
                    ],
                    "parcoords": [
                      {
                        "line": {
                          "colorbar": {
                            "outlinewidth": 0,
                            "ticks": ""
                          }
                        },
                        "type": "parcoords"
                      }
                    ],
                    "pie": [
                      {
                        "automargin": true,
                        "type": "pie"
                      }
                    ],
                    "scatter": [
                      {
                        "fillpattern": {
                          "fillmode": "overlay",
                          "size": 10,
                          "solidity": 0.2
                        },
                        "type": "scatter"
                      }
                    ],
                    "scatter3d": [
                      {
                        "line": {
                          "colorbar": {
                            "outlinewidth": 0,
                            "ticks": ""
                          }
                        },
                        "marker": {
                          "colorbar": {
                            "outlinewidth": 0,
                            "ticks": ""
                          }
                        },
                        "type": "scatter3d"
                      }
                    ],
                    "scattercarpet": [
                      {
                        "marker": {
                          "colorbar": {
                            "outlinewidth": 0,
                            "ticks": ""
                          }
                        },
                        "type": "scattercarpet"
                      }
                    ],
                    "scattergeo": [
                      {
                        "marker": {
                          "colorbar": {
                            "outlinewidth": 0,
                            "ticks": ""
                          }
                        },
                        "type": "scattergeo"
                      }
                    ],
                    "scattergl": [
                      {
                        "marker": {
                          "colorbar": {
                            "outlinewidth": 0,
                            "ticks": ""
                          }
                        },
                        "type": "scattergl"
                      }
                    ],
                    "scattermapbox": [
                      {
                        "marker": {
                          "colorbar": {
                            "outlinewidth": 0,
                            "ticks": ""
                          }
                        },
                        "type": "scattermapbox"
                      }
                    ],
                    "scatterpolar": [
                      {
                        "marker": {
                          "colorbar": {
                            "outlinewidth": 0,
                            "ticks": ""
                          }
                        },
                        "type": "scatterpolar"
                      }
                    ],
                    "scatterpolargl": [
                      {
                        "marker": {
                          "colorbar": {
                            "outlinewidth": 0,
                            "ticks": ""
                          }
                        },
                        "type": "scatterpolargl"
                      }
                    ],
                    "scatterternary": [
                      {
                        "marker": {
                          "colorbar": {
                            "outlinewidth": 0,
                            "ticks": ""
                          }
                        },
                        "type": "scatterternary"
                      }
                    ],
                    "surface": [
                      {
                        "colorbar": {
                          "outlinewidth": 0,
                          "ticks": ""
                        },
                        "colorscale": [
                          [
                            0,
                            "#0d0887"
                          ],
                          [
                            0.1111111111111111,
                            "#46039f"
                          ],
                          [
                            0.2222222222222222,
                            "#7201a8"
                          ],
                          [
                            0.3333333333333333,
                            "#9c179e"
                          ],
                          [
                            0.4444444444444444,
                            "#bd3786"
                          ],
                          [
                            0.5555555555555556,
                            "#d8576b"
                          ],
                          [
                            0.6666666666666666,
                            "#ed7953"
                          ],
                          [
                            0.7777777777777778,
                            "#fb9f3a"
                          ],
                          [
                            0.8888888888888888,
                            "#fdca26"
                          ],
                          [
                            1,
                            "#f0f921"
                          ]
                        ],
                        "type": "surface"
                      }
                    ],
                    "table": [
                      {
                        "cells": {
                          "fill": {
                            "color": "#EBF0F8"
                          },
                          "line": {
                            "color": "white"
                          }
                        },
                        "header": {
                          "fill": {
                            "color": "#C8D4E3"
                          },
                          "line": {
                            "color": "white"
                          }
                        },
                        "type": "table"
                      }
                    ]
                  },
                  "layout": {
                    "annotationdefaults": {
                      "arrowcolor": "#2a3f5f",
                      "arrowhead": 0,
                      "arrowwidth": 1
                    },
                    "autotypenumbers": "strict",
                    "coloraxis": {
                      "colorbar": {
                        "outlinewidth": 0,
                        "ticks": ""
                      }
                    },
                    "colorscale": {
                      "diverging": [
                        [
                          0,
                          "#8e0152"
                        ],
                        [
                          0.1,
                          "#c51b7d"
                        ],
                        [
                          0.2,
                          "#de77ae"
                        ],
                        [
                          0.3,
                          "#f1b6da"
                        ],
                        [
                          0.4,
                          "#fde0ef"
                        ],
                        [
                          0.5,
                          "#f7f7f7"
                        ],
                        [
                          0.6,
                          "#e6f5d0"
                        ],
                        [
                          0.7,
                          "#b8e186"
                        ],
                        [
                          0.8,
                          "#7fbc41"
                        ],
                        [
                          0.9,
                          "#4d9221"
                        ],
                        [
                          1,
                          "#276419"
                        ]
                      ],
                      "sequential": [
                        [
                          0,
                          "#0d0887"
                        ],
                        [
                          0.1111111111111111,
                          "#46039f"
                        ],
                        [
                          0.2222222222222222,
                          "#7201a8"
                        ],
                        [
                          0.3333333333333333,
                          "#9c179e"
                        ],
                        [
                          0.4444444444444444,
                          "#bd3786"
                        ],
                        [
                          0.5555555555555556,
                          "#d8576b"
                        ],
                        [
                          0.6666666666666666,
                          "#ed7953"
                        ],
                        [
                          0.7777777777777778,
                          "#fb9f3a"
                        ],
                        [
                          0.8888888888888888,
                          "#fdca26"
                        ],
                        [
                          1,
                          "#f0f921"
                        ]
                      ],
                      "sequentialminus": [
                        [
                          0,
                          "#0d0887"
                        ],
                        [
                          0.1111111111111111,
                          "#46039f"
                        ],
                        [
                          0.2222222222222222,
                          "#7201a8"
                        ],
                        [
                          0.3333333333333333,
                          "#9c179e"
                        ],
                        [
                          0.4444444444444444,
                          "#bd3786"
                        ],
                        [
                          0.5555555555555556,
                          "#d8576b"
                        ],
                        [
                          0.6666666666666666,
                          "#ed7953"
                        ],
                        [
                          0.7777777777777778,
                          "#fb9f3a"
                        ],
                        [
                          0.8888888888888888,
                          "#fdca26"
                        ],
                        [
                          1,
                          "#f0f921"
                        ]
                      ]
                    },
                    "colorway": [
                      "#636efa",
                      "#EF553B",
                      "#00cc96",
                      "#ab63fa",
                      "#FFA15A",
                      "#19d3f3",
                      "#FF6692",
                      "#B6E880",
                      "#FF97FF",
                      "#FECB52"
                    ],
                    "font": {
                      "color": "#2a3f5f"
                    },
                    "geo": {
                      "bgcolor": "white",
                      "lakecolor": "white",
                      "landcolor": "#E5ECF6",
                      "showlakes": true,
                      "showland": true,
                      "subunitcolor": "white"
                    },
                    "hoverlabel": {
                      "align": "left"
                    },
                    "hovermode": "closest",
                    "mapbox": {
                      "style": "light"
                    },
                    "paper_bgcolor": "white",
                    "plot_bgcolor": "#E5ECF6",
                    "polar": {
                      "angularaxis": {
                        "gridcolor": "white",
                        "linecolor": "white",
                        "ticks": ""
                      },
                      "bgcolor": "#E5ECF6",
                      "radialaxis": {
                        "gridcolor": "white",
                        "linecolor": "white",
                        "ticks": ""
                      }
                    },
                    "scene": {
                      "xaxis": {
                        "backgroundcolor": "#E5ECF6",
                        "gridcolor": "white",
                        "gridwidth": 2,
                        "linecolor": "white",
                        "showbackground": true,
                        "ticks": "",
                        "zerolinecolor": "white"
                      },
                      "yaxis": {
                        "backgroundcolor": "#E5ECF6",
                        "gridcolor": "white",
                        "gridwidth": 2,
                        "linecolor": "white",
                        "showbackground": true,
                        "ticks": "",
                        "zerolinecolor": "white"
                      },
                      "zaxis": {
                        "backgroundcolor": "#E5ECF6",
                        "gridcolor": "white",
                        "gridwidth": 2,
                        "linecolor": "white",
                        "showbackground": true,
                        "ticks": "",
                        "zerolinecolor": "white"
                      }
                    },
                    "shapedefaults": {
                      "line": {
                        "color": "#2a3f5f"
                      }
                    },
                    "ternary": {
                      "aaxis": {
                        "gridcolor": "white",
                        "linecolor": "white",
                        "ticks": ""
                      },
                      "baxis": {
                        "gridcolor": "white",
                        "linecolor": "white",
                        "ticks": ""
                      },
                      "bgcolor": "#E5ECF6",
                      "caxis": {
                        "gridcolor": "white",
                        "linecolor": "white",
                        "ticks": ""
                      }
                    },
                    "title": {
                      "x": 0.05
                    },
                    "xaxis": {
                      "automargin": true,
                      "gridcolor": "white",
                      "linecolor": "white",
                      "ticks": "",
                      "title": {
                        "standoff": 15
                      },
                      "zerolinecolor": "white",
                      "zerolinewidth": 2
                    },
                    "yaxis": {
                      "automargin": true,
                      "gridcolor": "white",
                      "linecolor": "white",
                      "ticks": "",
                      "title": {
                        "standoff": 15
                      },
                      "zerolinecolor": "white",
                      "zerolinewidth": 2
                    }
                  }
                },
                "title": {
                  "font": {
                    "size": 24
                  },
                  "text": "Number of Leaked Records by Method and Organization Type"
                },
                "width": 1000,
                "xaxis": {
                  "anchor": "y",
                  "domain": [
                    0,
                    1
                  ],
                  "title": {
                    "text": "Method"
                  }
                },
                "yaxis": {
                  "anchor": "x",
                  "domain": [
                    0,
                    1
                  ],
                  "title": {
                    "text": "Number of leaked records"
                  }
                }
              }
            }
          },
          "metadata": {},
          "output_type": "display_data"
        }
      ],
      "source": [
        "fig = px.bar(\n",
        "    data_breaches,\n",
        "    x=\"Method\",\n",
        "    y=\"Total No Records (M)\",\n",
        "    color=\"Organization type\",\n",
        "    color_discrete_sequence=px.colors.qualitative.Bold,\n",
        "    barmode=\"group\"\n",
        ")\n",
        "\n",
        "fig.update_layout(\n",
        "    title=\"Number of Leaked Records by Method and Organization Type\",\n",
        "    title_font=dict(size=24),\n",
        "    xaxis_title=\"Method\",\n",
        "    yaxis_title=\"Number of leaked records\",\n",
        "    font=dict(size=14),\n",
        "    width=1000,\n",
        "    height=600,\n",
        "    legend=dict(title=\"Organization Type\", font=dict(size=12)),\n",
        ")\n",
        "\n",
        "fig.show()"
      ]
    },
    {
      "cell_type": "code",
      "execution_count": 78,
      "metadata": {},
      "outputs": [
        {
          "data": {
            "application/vnd.plotly.v1+json": {
              "config": {
                "plotlyServerURL": "https://plot.ly"
              },
              "data": [
                {
                  "alignmentgroup": "True",
                  "hovertemplate": "Organization type=healthcare<br>Method=%{x}<br>Total No Records (M)=%{y}<extra></extra>",
                  "legendgroup": "healthcare",
                  "marker": {
                    "color": "rgb(127, 60, 141)",
                    "pattern": {
                      "shape": ""
                    }
                  },
                  "name": "healthcare",
                  "offsetgroup": "healthcare",
                  "orientation": "v",
                  "showlegend": true,
                  "textposition": "auto",
                  "type": "bar",
                  "x": [
                    "hacked",
                    "poor security",
                    "lost / stolen media",
                    "lost / stolen media",
                    "hacked",
                    "poor security",
                    "lost / stolen media",
                    "hacked",
                    "lost / stolen media",
                    "lost / stolen media",
                    "hacked",
                    "hacked",
                    "lost / stolen media",
                    "poor security",
                    "hacked",
                    "poor security",
                    "inside job",
                    "hacked",
                    "hacked",
                    "inside job",
                    "hacked",
                    "hacked",
                    "hacked"
                  ],
                  "xaxis": "x",
                  "y": [
                    2.2,
                    0.5666,
                    4,
                    0.444579,
                    80.156,
                    0.091,
                    2.743209,
                    30.5,
                    0.16,
                    3.314076,
                    4.5,
                    0.075,
                    16.515406,
                    0.315,
                    0.025,
                    12.7222,
                    0.0067,
                    15,
                    0.7464,
                    6.4,
                    0.3,
                    0.13,
                    0.5314
                  ],
                  "yaxis": "y"
                },
                {
                  "alignmentgroup": "True",
                  "hovertemplate": "Organization type=media<br>Method=%{x}<br>Total No Records (M)=%{y}<extra></extra>",
                  "legendgroup": "media",
                  "marker": {
                    "color": "rgb(17, 165, 121)",
                    "pattern": {
                      "shape": ""
                    }
                  },
                  "name": "media",
                  "offsetgroup": "media",
                  "orientation": "v",
                  "showlegend": true,
                  "textposition": "auto",
                  "type": "bar",
                  "x": [
                    "hacked",
                    "accidentally exposed",
                    "poor security",
                    "poor security",
                    "accidentally exposed",
                    "poor security",
                    "hacked",
                    "hacked",
                    "hacked",
                    "unknown"
                  ],
                  "xaxis": "x",
                  "y": [
                    14.870304,
                    6,
                    50.5,
                    807,
                    1.5,
                    246,
                    0.43,
                    1.27,
                    173,
                    0.38
                  ],
                  "yaxis": "y"
                },
                {
                  "alignmentgroup": "True",
                  "hovertemplate": "Organization type=tech<br>Method=%{x}<br>Total No Records (M)=%{y}<extra></extra>",
                  "legendgroup": "tech",
                  "marker": {
                    "color": "rgb(57, 105, 172)",
                    "pattern": {
                      "shape": ""
                    }
                  },
                  "name": "tech",
                  "offsetgroup": "tech",
                  "orientation": "v",
                  "showlegend": true,
                  "textposition": "auto",
                  "type": "bar",
                  "x": [
                    "hacked",
                    "poor security",
                    "poor security",
                    "hacked",
                    "inside job",
                    "accidentally exposed",
                    "hacked",
                    "hacked",
                    "hacked",
                    "hacked",
                    "hacked",
                    "hacked",
                    "hacked",
                    "hacked",
                    "hacked",
                    "poor security",
                    "poor security",
                    "hacked",
                    "accidentally exposed",
                    "lost / stolen media",
                    "accidentally exposed",
                    "misconfiguration",
                    "hacked",
                    "poor security",
                    "unknown",
                    "hacked",
                    "misconfiguration",
                    "poor security",
                    "hacked",
                    "social engineering"
                  ],
                  "xaxis": "x",
                  "y": [
                    3350.159298,
                    592.5,
                    0.3,
                    316.51,
                    92,
                    32.367232,
                    654.86,
                    0.275,
                    34.3,
                    18,
                    3.8,
                    196.352755,
                    158.513234,
                    213.265944,
                    144.9,
                    340,
                    412.214295,
                    48.939116,
                    8.583792,
                    0.2,
                    100,
                    250,
                    1.6,
                    0.126,
                    92.283889,
                    32.573,
                    1.381735,
                    0.5,
                    28.722877,
                    6.054459
                  ],
                  "yaxis": "y"
                },
                {
                  "alignmentgroup": "True",
                  "hovertemplate": "Organization type=other<br>Method=%{x}<br>Total No Records (M)=%{y}<extra></extra>",
                  "legendgroup": "other",
                  "marker": {
                    "color": "rgb(242, 183, 1)",
                    "pattern": {
                      "shape": ""
                    }
                  },
                  "name": "other",
                  "offsetgroup": "other",
                  "orientation": "v",
                  "showlegend": true,
                  "textposition": "auto",
                  "type": "bar",
                  "x": [
                    "hacked",
                    "hacked",
                    "unknown",
                    "inside job",
                    "hacked",
                    "poor security",
                    "inside job",
                    "poor security",
                    "hacked",
                    "accidentally exposed"
                  ],
                  "xaxis": "x",
                  "y": [
                    636.146608,
                    0.11,
                    56,
                    11.1,
                    1.25,
                    125.2,
                    1.8,
                    0.052,
                    57,
                    38
                  ],
                  "yaxis": "y"
                },
                {
                  "alignmentgroup": "True",
                  "hovertemplate": "Organization type=telecom<br>Method=%{x}<br>Total No Records (M)=%{y}<extra></extra>",
                  "legendgroup": "telecom",
                  "marker": {
                    "color": "rgb(231, 63, 116)",
                    "pattern": {
                      "shape": ""
                    }
                  },
                  "name": "telecom",
                  "offsetgroup": "telecom",
                  "orientation": "v",
                  "showlegend": true,
                  "textposition": "auto",
                  "type": "bar",
                  "x": [
                    "poor security",
                    "lost / stolen media",
                    "hacked",
                    "poor security",
                    "hacked",
                    "hacked",
                    "hacked",
                    "hacked",
                    "hacked",
                    "misconfiguration",
                    "poor security",
                    "accidentally exposed",
                    "lost / stolen media",
                    "hacked",
                    "unknown",
                    "accidentally exposed",
                    "inside job"
                  ],
                  "xaxis": "x",
                  "y": [
                    320,
                    0.113,
                    0.114,
                    1.9,
                    0.1,
                    1.54,
                    15,
                    4,
                    8.7,
                    100,
                    0.377428,
                    0.17,
                    17,
                    45,
                    299.055,
                    0.9,
                    2
                  ],
                  "yaxis": "y"
                },
                {
                  "alignmentgroup": "True",
                  "hovertemplate": "Organization type=financial<br>Method=%{x}<br>Total No Records (M)=%{y}<extra></extra>",
                  "legendgroup": "financial",
                  "marker": {
                    "color": "rgb(128, 186, 90)",
                    "pattern": {
                      "shape": ""
                    }
                  },
                  "name": "financial",
                  "offsetgroup": "financial",
                  "orientation": "v",
                  "showlegend": true,
                  "textposition": "auto",
                  "type": "bar",
                  "x": [
                    "lost / stolen media",
                    "poor security",
                    "lost / stolen media",
                    "poor security",
                    "accidentally exposed",
                    "hacked",
                    "hacked",
                    "hacked",
                    "hacked",
                    "poor security",
                    "inside job",
                    "inside job",
                    "inside job",
                    "hacked",
                    "inside job",
                    "lost / stolen media",
                    "poor security",
                    "hacked",
                    "poor security",
                    "hacked",
                    "hacked",
                    "hacked",
                    "inside job",
                    "lost / stolen media",
                    "lost / stolen media",
                    "rogue contractor",
                    "misconfiguration",
                    "hacked",
                    "hacked",
                    "accidentally exposed"
                  ],
                  "xaxis": "x",
                  "y": [
                    5.3,
                    0.125,
                    12.5,
                    0.09,
                    106,
                    40,
                    0.06,
                    135,
                    0.360083,
                    0.15,
                    9.5,
                    2.6,
                    2.5,
                    9.5,
                    9.7,
                    5.9,
                    163.119,
                    0.4,
                    885,
                    170.26,
                    5.32,
                    76,
                    20,
                    0.96,
                    0.034,
                    0.03,
                    20.076016,
                    6.3,
                    0.098,
                    200
                  ],
                  "yaxis": "y"
                },
                {
                  "alignmentgroup": "True",
                  "hovertemplate": "Organization type=retail<br>Method=%{x}<br>Total No Records (M)=%{y}<extra></extra>",
                  "legendgroup": "retail",
                  "marker": {
                    "color": "rgb(230, 131, 16)",
                    "pattern": {
                      "shape": ""
                    }
                  },
                  "name": "retail",
                  "offsetgroup": "retail",
                  "orientation": "v",
                  "showlegend": true,
                  "textposition": "auto",
                  "type": "bar",
                  "x": [
                    "hacked",
                    "inside job",
                    "hacked",
                    "hacked",
                    "lost / stolen media",
                    "hacked",
                    "hacked",
                    "hacked",
                    "poor security",
                    "inside job",
                    "hacked",
                    "lost / stolen media",
                    "hacked",
                    "hacked",
                    "hacked"
                  ],
                  "xaxis": "x",
                  "y": [
                    6.55,
                    8.637405,
                    1.4,
                    7.261091,
                    0.8,
                    98.2,
                    28.641101,
                    60.1,
                    0.283,
                    0.51,
                    0.2,
                    0.097,
                    20,
                    110,
                    30
                  ],
                  "yaxis": "y"
                },
                {
                  "alignmentgroup": "True",
                  "hovertemplate": "Organization type=academic / educational<br>Method=%{x}<br>Total No Records (M)=%{y}<extra></extra>",
                  "legendgroup": "academic / educational",
                  "marker": {
                    "color": "rgb(0, 134, 149)",
                    "pattern": {
                      "shape": ""
                    }
                  },
                  "name": "academic / educational",
                  "offsetgroup": "academic / educational",
                  "orientation": "v",
                  "showlegend": true,
                  "textposition": "auto",
                  "type": "bar",
                  "x": [
                    "hacked",
                    "hacked",
                    "hacked",
                    "lost / stolen media",
                    "hacked",
                    "hacked",
                    "hacked",
                    "hacked",
                    "accidentally exposed"
                  ],
                  "xaxis": "x",
                  "y": [
                    35.34,
                    0.125,
                    0.76,
                    4.372,
                    1.16454,
                    0.16,
                    0.143,
                    0.073,
                    0.043
                  ],
                  "yaxis": "y"
                },
                {
                  "alignmentgroup": "True",
                  "hovertemplate": "Organization type=government<br>Method=%{x}<br>Total No Records (M)=%{y}<extra></extra>",
                  "legendgroup": "government",
                  "marker": {
                    "color": "rgb(207, 28, 144)",
                    "pattern": {
                      "shape": ""
                    }
                  },
                  "name": "government",
                  "offsetgroup": "government",
                  "orientation": "v",
                  "showlegend": true,
                  "textposition": "auto",
                  "type": "bar",
                  "x": [
                    "lost / stolen media",
                    "hacked",
                    "poor security",
                    "lost / stolen media",
                    "inside job",
                    "lost / stolen media",
                    "poor security",
                    "hacked",
                    "accidentally exposed",
                    "poor security",
                    "hacked",
                    "accidentally exposed",
                    "inside job",
                    "hacked",
                    "lost / stolen media",
                    "hacked",
                    "hacked",
                    "accidentally exposed",
                    "inside job",
                    "lost / stolen media",
                    "poor security",
                    "lost / stolen media",
                    "lost / stolen media",
                    "hacked"
                  ],
                  "xaxis": "x",
                  "y": [
                    0.8,
                    55,
                    0.03,
                    28,
                    0.903,
                    0.1,
                    201,
                    12.214899,
                    11.55,
                    0.21,
                    21.5,
                    6.5,
                    0.68,
                    0.18,
                    1.8345,
                    1.5,
                    0.176,
                    4.608461,
                    0.089,
                    4.901432,
                    60,
                    76.203,
                    26.5,
                    8.257378
                  ],
                  "yaxis": "y"
                }
              ],
              "layout": {
                "barmode": "stack",
                "font": {
                  "size": 14
                },
                "height": 600,
                "legend": {
                  "font": {
                    "size": 12
                  },
                  "title": {
                    "text": "Organization Type"
                  },
                  "tracegroupgap": 0
                },
                "margin": {
                  "t": 60
                },
                "template": {
                  "data": {
                    "bar": [
                      {
                        "error_x": {
                          "color": "#2a3f5f"
                        },
                        "error_y": {
                          "color": "#2a3f5f"
                        },
                        "marker": {
                          "line": {
                            "color": "#E5ECF6",
                            "width": 0.5
                          },
                          "pattern": {
                            "fillmode": "overlay",
                            "size": 10,
                            "solidity": 0.2
                          }
                        },
                        "type": "bar"
                      }
                    ],
                    "barpolar": [
                      {
                        "marker": {
                          "line": {
                            "color": "#E5ECF6",
                            "width": 0.5
                          },
                          "pattern": {
                            "fillmode": "overlay",
                            "size": 10,
                            "solidity": 0.2
                          }
                        },
                        "type": "barpolar"
                      }
                    ],
                    "carpet": [
                      {
                        "aaxis": {
                          "endlinecolor": "#2a3f5f",
                          "gridcolor": "white",
                          "linecolor": "white",
                          "minorgridcolor": "white",
                          "startlinecolor": "#2a3f5f"
                        },
                        "baxis": {
                          "endlinecolor": "#2a3f5f",
                          "gridcolor": "white",
                          "linecolor": "white",
                          "minorgridcolor": "white",
                          "startlinecolor": "#2a3f5f"
                        },
                        "type": "carpet"
                      }
                    ],
                    "choropleth": [
                      {
                        "colorbar": {
                          "outlinewidth": 0,
                          "ticks": ""
                        },
                        "type": "choropleth"
                      }
                    ],
                    "contour": [
                      {
                        "colorbar": {
                          "outlinewidth": 0,
                          "ticks": ""
                        },
                        "colorscale": [
                          [
                            0,
                            "#0d0887"
                          ],
                          [
                            0.1111111111111111,
                            "#46039f"
                          ],
                          [
                            0.2222222222222222,
                            "#7201a8"
                          ],
                          [
                            0.3333333333333333,
                            "#9c179e"
                          ],
                          [
                            0.4444444444444444,
                            "#bd3786"
                          ],
                          [
                            0.5555555555555556,
                            "#d8576b"
                          ],
                          [
                            0.6666666666666666,
                            "#ed7953"
                          ],
                          [
                            0.7777777777777778,
                            "#fb9f3a"
                          ],
                          [
                            0.8888888888888888,
                            "#fdca26"
                          ],
                          [
                            1,
                            "#f0f921"
                          ]
                        ],
                        "type": "contour"
                      }
                    ],
                    "contourcarpet": [
                      {
                        "colorbar": {
                          "outlinewidth": 0,
                          "ticks": ""
                        },
                        "type": "contourcarpet"
                      }
                    ],
                    "heatmap": [
                      {
                        "colorbar": {
                          "outlinewidth": 0,
                          "ticks": ""
                        },
                        "colorscale": [
                          [
                            0,
                            "#0d0887"
                          ],
                          [
                            0.1111111111111111,
                            "#46039f"
                          ],
                          [
                            0.2222222222222222,
                            "#7201a8"
                          ],
                          [
                            0.3333333333333333,
                            "#9c179e"
                          ],
                          [
                            0.4444444444444444,
                            "#bd3786"
                          ],
                          [
                            0.5555555555555556,
                            "#d8576b"
                          ],
                          [
                            0.6666666666666666,
                            "#ed7953"
                          ],
                          [
                            0.7777777777777778,
                            "#fb9f3a"
                          ],
                          [
                            0.8888888888888888,
                            "#fdca26"
                          ],
                          [
                            1,
                            "#f0f921"
                          ]
                        ],
                        "type": "heatmap"
                      }
                    ],
                    "heatmapgl": [
                      {
                        "colorbar": {
                          "outlinewidth": 0,
                          "ticks": ""
                        },
                        "colorscale": [
                          [
                            0,
                            "#0d0887"
                          ],
                          [
                            0.1111111111111111,
                            "#46039f"
                          ],
                          [
                            0.2222222222222222,
                            "#7201a8"
                          ],
                          [
                            0.3333333333333333,
                            "#9c179e"
                          ],
                          [
                            0.4444444444444444,
                            "#bd3786"
                          ],
                          [
                            0.5555555555555556,
                            "#d8576b"
                          ],
                          [
                            0.6666666666666666,
                            "#ed7953"
                          ],
                          [
                            0.7777777777777778,
                            "#fb9f3a"
                          ],
                          [
                            0.8888888888888888,
                            "#fdca26"
                          ],
                          [
                            1,
                            "#f0f921"
                          ]
                        ],
                        "type": "heatmapgl"
                      }
                    ],
                    "histogram": [
                      {
                        "marker": {
                          "pattern": {
                            "fillmode": "overlay",
                            "size": 10,
                            "solidity": 0.2
                          }
                        },
                        "type": "histogram"
                      }
                    ],
                    "histogram2d": [
                      {
                        "colorbar": {
                          "outlinewidth": 0,
                          "ticks": ""
                        },
                        "colorscale": [
                          [
                            0,
                            "#0d0887"
                          ],
                          [
                            0.1111111111111111,
                            "#46039f"
                          ],
                          [
                            0.2222222222222222,
                            "#7201a8"
                          ],
                          [
                            0.3333333333333333,
                            "#9c179e"
                          ],
                          [
                            0.4444444444444444,
                            "#bd3786"
                          ],
                          [
                            0.5555555555555556,
                            "#d8576b"
                          ],
                          [
                            0.6666666666666666,
                            "#ed7953"
                          ],
                          [
                            0.7777777777777778,
                            "#fb9f3a"
                          ],
                          [
                            0.8888888888888888,
                            "#fdca26"
                          ],
                          [
                            1,
                            "#f0f921"
                          ]
                        ],
                        "type": "histogram2d"
                      }
                    ],
                    "histogram2dcontour": [
                      {
                        "colorbar": {
                          "outlinewidth": 0,
                          "ticks": ""
                        },
                        "colorscale": [
                          [
                            0,
                            "#0d0887"
                          ],
                          [
                            0.1111111111111111,
                            "#46039f"
                          ],
                          [
                            0.2222222222222222,
                            "#7201a8"
                          ],
                          [
                            0.3333333333333333,
                            "#9c179e"
                          ],
                          [
                            0.4444444444444444,
                            "#bd3786"
                          ],
                          [
                            0.5555555555555556,
                            "#d8576b"
                          ],
                          [
                            0.6666666666666666,
                            "#ed7953"
                          ],
                          [
                            0.7777777777777778,
                            "#fb9f3a"
                          ],
                          [
                            0.8888888888888888,
                            "#fdca26"
                          ],
                          [
                            1,
                            "#f0f921"
                          ]
                        ],
                        "type": "histogram2dcontour"
                      }
                    ],
                    "mesh3d": [
                      {
                        "colorbar": {
                          "outlinewidth": 0,
                          "ticks": ""
                        },
                        "type": "mesh3d"
                      }
                    ],
                    "parcoords": [
                      {
                        "line": {
                          "colorbar": {
                            "outlinewidth": 0,
                            "ticks": ""
                          }
                        },
                        "type": "parcoords"
                      }
                    ],
                    "pie": [
                      {
                        "automargin": true,
                        "type": "pie"
                      }
                    ],
                    "scatter": [
                      {
                        "fillpattern": {
                          "fillmode": "overlay",
                          "size": 10,
                          "solidity": 0.2
                        },
                        "type": "scatter"
                      }
                    ],
                    "scatter3d": [
                      {
                        "line": {
                          "colorbar": {
                            "outlinewidth": 0,
                            "ticks": ""
                          }
                        },
                        "marker": {
                          "colorbar": {
                            "outlinewidth": 0,
                            "ticks": ""
                          }
                        },
                        "type": "scatter3d"
                      }
                    ],
                    "scattercarpet": [
                      {
                        "marker": {
                          "colorbar": {
                            "outlinewidth": 0,
                            "ticks": ""
                          }
                        },
                        "type": "scattercarpet"
                      }
                    ],
                    "scattergeo": [
                      {
                        "marker": {
                          "colorbar": {
                            "outlinewidth": 0,
                            "ticks": ""
                          }
                        },
                        "type": "scattergeo"
                      }
                    ],
                    "scattergl": [
                      {
                        "marker": {
                          "colorbar": {
                            "outlinewidth": 0,
                            "ticks": ""
                          }
                        },
                        "type": "scattergl"
                      }
                    ],
                    "scattermapbox": [
                      {
                        "marker": {
                          "colorbar": {
                            "outlinewidth": 0,
                            "ticks": ""
                          }
                        },
                        "type": "scattermapbox"
                      }
                    ],
                    "scatterpolar": [
                      {
                        "marker": {
                          "colorbar": {
                            "outlinewidth": 0,
                            "ticks": ""
                          }
                        },
                        "type": "scatterpolar"
                      }
                    ],
                    "scatterpolargl": [
                      {
                        "marker": {
                          "colorbar": {
                            "outlinewidth": 0,
                            "ticks": ""
                          }
                        },
                        "type": "scatterpolargl"
                      }
                    ],
                    "scatterternary": [
                      {
                        "marker": {
                          "colorbar": {
                            "outlinewidth": 0,
                            "ticks": ""
                          }
                        },
                        "type": "scatterternary"
                      }
                    ],
                    "surface": [
                      {
                        "colorbar": {
                          "outlinewidth": 0,
                          "ticks": ""
                        },
                        "colorscale": [
                          [
                            0,
                            "#0d0887"
                          ],
                          [
                            0.1111111111111111,
                            "#46039f"
                          ],
                          [
                            0.2222222222222222,
                            "#7201a8"
                          ],
                          [
                            0.3333333333333333,
                            "#9c179e"
                          ],
                          [
                            0.4444444444444444,
                            "#bd3786"
                          ],
                          [
                            0.5555555555555556,
                            "#d8576b"
                          ],
                          [
                            0.6666666666666666,
                            "#ed7953"
                          ],
                          [
                            0.7777777777777778,
                            "#fb9f3a"
                          ],
                          [
                            0.8888888888888888,
                            "#fdca26"
                          ],
                          [
                            1,
                            "#f0f921"
                          ]
                        ],
                        "type": "surface"
                      }
                    ],
                    "table": [
                      {
                        "cells": {
                          "fill": {
                            "color": "#EBF0F8"
                          },
                          "line": {
                            "color": "white"
                          }
                        },
                        "header": {
                          "fill": {
                            "color": "#C8D4E3"
                          },
                          "line": {
                            "color": "white"
                          }
                        },
                        "type": "table"
                      }
                    ]
                  },
                  "layout": {
                    "annotationdefaults": {
                      "arrowcolor": "#2a3f5f",
                      "arrowhead": 0,
                      "arrowwidth": 1
                    },
                    "autotypenumbers": "strict",
                    "coloraxis": {
                      "colorbar": {
                        "outlinewidth": 0,
                        "ticks": ""
                      }
                    },
                    "colorscale": {
                      "diverging": [
                        [
                          0,
                          "#8e0152"
                        ],
                        [
                          0.1,
                          "#c51b7d"
                        ],
                        [
                          0.2,
                          "#de77ae"
                        ],
                        [
                          0.3,
                          "#f1b6da"
                        ],
                        [
                          0.4,
                          "#fde0ef"
                        ],
                        [
                          0.5,
                          "#f7f7f7"
                        ],
                        [
                          0.6,
                          "#e6f5d0"
                        ],
                        [
                          0.7,
                          "#b8e186"
                        ],
                        [
                          0.8,
                          "#7fbc41"
                        ],
                        [
                          0.9,
                          "#4d9221"
                        ],
                        [
                          1,
                          "#276419"
                        ]
                      ],
                      "sequential": [
                        [
                          0,
                          "#0d0887"
                        ],
                        [
                          0.1111111111111111,
                          "#46039f"
                        ],
                        [
                          0.2222222222222222,
                          "#7201a8"
                        ],
                        [
                          0.3333333333333333,
                          "#9c179e"
                        ],
                        [
                          0.4444444444444444,
                          "#bd3786"
                        ],
                        [
                          0.5555555555555556,
                          "#d8576b"
                        ],
                        [
                          0.6666666666666666,
                          "#ed7953"
                        ],
                        [
                          0.7777777777777778,
                          "#fb9f3a"
                        ],
                        [
                          0.8888888888888888,
                          "#fdca26"
                        ],
                        [
                          1,
                          "#f0f921"
                        ]
                      ],
                      "sequentialminus": [
                        [
                          0,
                          "#0d0887"
                        ],
                        [
                          0.1111111111111111,
                          "#46039f"
                        ],
                        [
                          0.2222222222222222,
                          "#7201a8"
                        ],
                        [
                          0.3333333333333333,
                          "#9c179e"
                        ],
                        [
                          0.4444444444444444,
                          "#bd3786"
                        ],
                        [
                          0.5555555555555556,
                          "#d8576b"
                        ],
                        [
                          0.6666666666666666,
                          "#ed7953"
                        ],
                        [
                          0.7777777777777778,
                          "#fb9f3a"
                        ],
                        [
                          0.8888888888888888,
                          "#fdca26"
                        ],
                        [
                          1,
                          "#f0f921"
                        ]
                      ]
                    },
                    "colorway": [
                      "#636efa",
                      "#EF553B",
                      "#00cc96",
                      "#ab63fa",
                      "#FFA15A",
                      "#19d3f3",
                      "#FF6692",
                      "#B6E880",
                      "#FF97FF",
                      "#FECB52"
                    ],
                    "font": {
                      "color": "#2a3f5f"
                    },
                    "geo": {
                      "bgcolor": "white",
                      "lakecolor": "white",
                      "landcolor": "#E5ECF6",
                      "showlakes": true,
                      "showland": true,
                      "subunitcolor": "white"
                    },
                    "hoverlabel": {
                      "align": "left"
                    },
                    "hovermode": "closest",
                    "mapbox": {
                      "style": "light"
                    },
                    "paper_bgcolor": "white",
                    "plot_bgcolor": "#E5ECF6",
                    "polar": {
                      "angularaxis": {
                        "gridcolor": "white",
                        "linecolor": "white",
                        "ticks": ""
                      },
                      "bgcolor": "#E5ECF6",
                      "radialaxis": {
                        "gridcolor": "white",
                        "linecolor": "white",
                        "ticks": ""
                      }
                    },
                    "scene": {
                      "xaxis": {
                        "backgroundcolor": "#E5ECF6",
                        "gridcolor": "white",
                        "gridwidth": 2,
                        "linecolor": "white",
                        "showbackground": true,
                        "ticks": "",
                        "zerolinecolor": "white"
                      },
                      "yaxis": {
                        "backgroundcolor": "#E5ECF6",
                        "gridcolor": "white",
                        "gridwidth": 2,
                        "linecolor": "white",
                        "showbackground": true,
                        "ticks": "",
                        "zerolinecolor": "white"
                      },
                      "zaxis": {
                        "backgroundcolor": "#E5ECF6",
                        "gridcolor": "white",
                        "gridwidth": 2,
                        "linecolor": "white",
                        "showbackground": true,
                        "ticks": "",
                        "zerolinecolor": "white"
                      }
                    },
                    "shapedefaults": {
                      "line": {
                        "color": "#2a3f5f"
                      }
                    },
                    "ternary": {
                      "aaxis": {
                        "gridcolor": "white",
                        "linecolor": "white",
                        "ticks": ""
                      },
                      "baxis": {
                        "gridcolor": "white",
                        "linecolor": "white",
                        "ticks": ""
                      },
                      "bgcolor": "#E5ECF6",
                      "caxis": {
                        "gridcolor": "white",
                        "linecolor": "white",
                        "ticks": ""
                      }
                    },
                    "title": {
                      "x": 0.05
                    },
                    "xaxis": {
                      "automargin": true,
                      "gridcolor": "white",
                      "linecolor": "white",
                      "ticks": "",
                      "title": {
                        "standoff": 15
                      },
                      "zerolinecolor": "white",
                      "zerolinewidth": 2
                    },
                    "yaxis": {
                      "automargin": true,
                      "gridcolor": "white",
                      "linecolor": "white",
                      "ticks": "",
                      "title": {
                        "standoff": 15
                      },
                      "zerolinecolor": "white",
                      "zerolinewidth": 2
                    }
                  }
                },
                "title": {
                  "font": {
                    "size": 24
                  },
                  "text": "Number of Leaked Records by Method and Organization Type"
                },
                "width": 1000,
                "xaxis": {
                  "anchor": "y",
                  "domain": [
                    0,
                    1
                  ],
                  "title": {
                    "text": "Method"
                  }
                },
                "yaxis": {
                  "anchor": "x",
                  "domain": [
                    0,
                    1
                  ],
                  "title": {
                    "text": "Number of leaked records"
                  }
                }
              }
            }
          },
          "metadata": {},
          "output_type": "display_data"
        }
      ],
      "source": [
        "fig = px.bar(\n",
        "    data_breaches,\n",
        "    x=\"Method\",\n",
        "    y=\"Total No Records (M)\",\n",
        "    color=\"Organization type\",\n",
        "    color_discrete_sequence=px.colors.qualitative.Bold,\n",
        "    barmode=\"stack\"\n",
        ")\n",
        "\n",
        "fig.update_layout(\n",
        "    title=\"Number of Leaked Records by Method and Organization Type\",\n",
        "    title_font=dict(size=24),\n",
        "    xaxis_title=\"Method\",\n",
        "    yaxis_title=\"Number of leaked records\",\n",
        "    font=dict(size=14),\n",
        "    width=1000,\n",
        "    height=600,\n",
        "    legend=dict(title=\"Organization Type\", font=dict(size=12)),\n",
        ")\n",
        "\n",
        "fig.show()"
      ]
    },
    {
      "cell_type": "markdown",
      "metadata": {},
      "source": [
        "**Exercise 3**"
      ]
    },
    {
      "cell_type": "code",
      "execution_count": 81,
      "metadata": {},
      "outputs": [
        {
          "data": {
            "application/vnd.plotly.v1+json": {
              "config": {
                "plotlyServerURL": "https://plot.ly"
              },
              "data": [
                {
                  "domain": {
                    "x": [
                      0,
                      0.235
                    ],
                    "y": [
                      0.7133333333333333,
                      0.9999999999999999
                    ]
                  },
                  "hole": 0.4,
                  "hovertemplate": "Organization type=healthcare<br>Method=%{label}<br>Total No Records (M)=%{value}<extra></extra>",
                  "labels": [
                    "hacked",
                    "poor security",
                    "lost / stolen media",
                    "lost / stolen media",
                    "hacked",
                    "poor security",
                    "lost / stolen media",
                    "hacked",
                    "lost / stolen media",
                    "lost / stolen media",
                    "hacked",
                    "hacked",
                    "lost / stolen media",
                    "poor security",
                    "hacked",
                    "poor security",
                    "inside job",
                    "hacked",
                    "hacked",
                    "inside job",
                    "hacked",
                    "hacked",
                    "hacked"
                  ],
                  "legendgroup": "",
                  "marker": {
                    "line": {
                      "color": "grey",
                      "width": 1
                    }
                  },
                  "name": "",
                  "showlegend": true,
                  "textinfo": "percent+label",
                  "textposition": "inside",
                  "type": "pie",
                  "values": [
                    2.2,
                    0.5666,
                    4,
                    0.444579,
                    80.156,
                    0.091,
                    2.743209,
                    30.5,
                    0.16,
                    3.314076,
                    4.5,
                    0.075,
                    16.515406,
                    0.315,
                    0.025,
                    12.7222,
                    0.0067,
                    15,
                    0.7464,
                    6.4,
                    0.3,
                    0.13,
                    0.5314
                  ]
                },
                {
                  "domain": {
                    "x": [
                      0.255,
                      0.49
                    ],
                    "y": [
                      0.7133333333333333,
                      0.9999999999999999
                    ]
                  },
                  "hole": 0.4,
                  "hovertemplate": "Organization type=media<br>Method=%{label}<br>Total No Records (M)=%{value}<extra></extra>",
                  "labels": [
                    "hacked",
                    "accidentally exposed",
                    "poor security",
                    "poor security",
                    "accidentally exposed",
                    "poor security",
                    "hacked",
                    "hacked",
                    "hacked",
                    "unknown"
                  ],
                  "legendgroup": "",
                  "marker": {
                    "line": {
                      "color": "grey",
                      "width": 1
                    }
                  },
                  "name": "",
                  "showlegend": true,
                  "textinfo": "percent+label",
                  "textposition": "inside",
                  "type": "pie",
                  "values": [
                    14.870304,
                    6,
                    50.5,
                    807,
                    1.5,
                    246,
                    0.43,
                    1.27,
                    173,
                    0.38
                  ]
                },
                {
                  "domain": {
                    "x": [
                      0.51,
                      0.745
                    ],
                    "y": [
                      0.7133333333333333,
                      0.9999999999999999
                    ]
                  },
                  "hole": 0.4,
                  "hovertemplate": "Organization type=tech<br>Method=%{label}<br>Total No Records (M)=%{value}<extra></extra>",
                  "labels": [
                    "hacked",
                    "poor security",
                    "poor security",
                    "hacked",
                    "inside job",
                    "accidentally exposed",
                    "hacked",
                    "hacked",
                    "hacked",
                    "hacked",
                    "hacked",
                    "hacked",
                    "hacked",
                    "hacked",
                    "hacked",
                    "poor security",
                    "poor security",
                    "hacked",
                    "accidentally exposed",
                    "lost / stolen media",
                    "accidentally exposed",
                    "misconfiguration",
                    "hacked",
                    "poor security",
                    "unknown",
                    "hacked",
                    "misconfiguration",
                    "poor security",
                    "hacked",
                    "social engineering"
                  ],
                  "legendgroup": "",
                  "marker": {
                    "line": {
                      "color": "grey",
                      "width": 1
                    }
                  },
                  "name": "",
                  "showlegend": true,
                  "textinfo": "percent+label",
                  "textposition": "inside",
                  "type": "pie",
                  "values": [
                    3350.159298,
                    592.5,
                    0.3,
                    316.51,
                    92,
                    32.367232,
                    654.86,
                    0.275,
                    34.3,
                    18,
                    3.8,
                    196.352755,
                    158.513234,
                    213.265944,
                    144.9,
                    340,
                    412.214295,
                    48.939116,
                    8.583792,
                    0.2,
                    100,
                    250,
                    1.6,
                    0.126,
                    92.283889,
                    32.573,
                    1.381735,
                    0.5,
                    28.722877,
                    6.054459
                  ]
                },
                {
                  "domain": {
                    "x": [
                      0.7649999999999999,
                      0.9999999999999999
                    ],
                    "y": [
                      0.7133333333333333,
                      0.9999999999999999
                    ]
                  },
                  "hole": 0.4,
                  "hovertemplate": "Organization type=other<br>Method=%{label}<br>Total No Records (M)=%{value}<extra></extra>",
                  "labels": [
                    "hacked",
                    "hacked",
                    "unknown",
                    "inside job",
                    "hacked",
                    "poor security",
                    "inside job",
                    "poor security",
                    "hacked",
                    "accidentally exposed"
                  ],
                  "legendgroup": "",
                  "marker": {
                    "line": {
                      "color": "grey",
                      "width": 1
                    }
                  },
                  "name": "",
                  "showlegend": true,
                  "textinfo": "percent+label",
                  "textposition": "inside",
                  "type": "pie",
                  "values": [
                    636.146608,
                    0.11,
                    56,
                    11.1,
                    1.25,
                    125.2,
                    1.8,
                    0.052,
                    57,
                    38
                  ]
                },
                {
                  "domain": {
                    "x": [
                      0,
                      0.235
                    ],
                    "y": [
                      0.35666666666666663,
                      0.6433333333333333
                    ]
                  },
                  "hole": 0.4,
                  "hovertemplate": "Organization type=telecom<br>Method=%{label}<br>Total No Records (M)=%{value}<extra></extra>",
                  "labels": [
                    "poor security",
                    "lost / stolen media",
                    "hacked",
                    "poor security",
                    "hacked",
                    "hacked",
                    "hacked",
                    "hacked",
                    "hacked",
                    "misconfiguration",
                    "poor security",
                    "accidentally exposed",
                    "lost / stolen media",
                    "hacked",
                    "unknown",
                    "accidentally exposed",
                    "inside job"
                  ],
                  "legendgroup": "",
                  "marker": {
                    "line": {
                      "color": "grey",
                      "width": 1
                    }
                  },
                  "name": "",
                  "showlegend": true,
                  "textinfo": "percent+label",
                  "textposition": "inside",
                  "type": "pie",
                  "values": [
                    320,
                    0.113,
                    0.114,
                    1.9,
                    0.1,
                    1.54,
                    15,
                    4,
                    8.7,
                    100,
                    0.377428,
                    0.17,
                    17,
                    45,
                    299.055,
                    0.9,
                    2
                  ]
                },
                {
                  "domain": {
                    "x": [
                      0.255,
                      0.49
                    ],
                    "y": [
                      0.35666666666666663,
                      0.6433333333333333
                    ]
                  },
                  "hole": 0.4,
                  "hovertemplate": "Organization type=financial<br>Method=%{label}<br>Total No Records (M)=%{value}<extra></extra>",
                  "labels": [
                    "lost / stolen media",
                    "poor security",
                    "lost / stolen media",
                    "poor security",
                    "accidentally exposed",
                    "hacked",
                    "hacked",
                    "hacked",
                    "hacked",
                    "poor security",
                    "inside job",
                    "inside job",
                    "inside job",
                    "hacked",
                    "inside job",
                    "lost / stolen media",
                    "poor security",
                    "hacked",
                    "poor security",
                    "hacked",
                    "hacked",
                    "hacked",
                    "inside job",
                    "lost / stolen media",
                    "lost / stolen media",
                    "rogue contractor",
                    "misconfiguration",
                    "hacked",
                    "hacked",
                    "accidentally exposed"
                  ],
                  "legendgroup": "",
                  "marker": {
                    "line": {
                      "color": "grey",
                      "width": 1
                    }
                  },
                  "name": "",
                  "showlegend": true,
                  "textinfo": "percent+label",
                  "textposition": "inside",
                  "type": "pie",
                  "values": [
                    5.3,
                    0.125,
                    12.5,
                    0.09,
                    106,
                    40,
                    0.06,
                    135,
                    0.360083,
                    0.15,
                    9.5,
                    2.6,
                    2.5,
                    9.5,
                    9.7,
                    5.9,
                    163.119,
                    0.4,
                    885,
                    170.26,
                    5.32,
                    76,
                    20,
                    0.96,
                    0.034,
                    0.03,
                    20.076016,
                    6.3,
                    0.098,
                    200
                  ]
                },
                {
                  "domain": {
                    "x": [
                      0.51,
                      0.745
                    ],
                    "y": [
                      0.35666666666666663,
                      0.6433333333333333
                    ]
                  },
                  "hole": 0.4,
                  "hovertemplate": "Organization type=retail<br>Method=%{label}<br>Total No Records (M)=%{value}<extra></extra>",
                  "labels": [
                    "hacked",
                    "inside job",
                    "hacked",
                    "hacked",
                    "lost / stolen media",
                    "hacked",
                    "hacked",
                    "hacked",
                    "poor security",
                    "inside job",
                    "hacked",
                    "lost / stolen media",
                    "hacked",
                    "hacked",
                    "hacked"
                  ],
                  "legendgroup": "",
                  "marker": {
                    "line": {
                      "color": "grey",
                      "width": 1
                    }
                  },
                  "name": "",
                  "showlegend": true,
                  "textinfo": "percent+label",
                  "textposition": "inside",
                  "type": "pie",
                  "values": [
                    6.55,
                    8.637405,
                    1.4,
                    7.261091,
                    0.8,
                    98.2,
                    28.641101,
                    60.1,
                    0.283,
                    0.51,
                    0.2,
                    0.097,
                    20,
                    110,
                    30
                  ]
                },
                {
                  "domain": {
                    "x": [
                      0.7649999999999999,
                      0.9999999999999999
                    ],
                    "y": [
                      0.35666666666666663,
                      0.6433333333333333
                    ]
                  },
                  "hole": 0.4,
                  "hovertemplate": "Organization type=academic / educational<br>Method=%{label}<br>Total No Records (M)=%{value}<extra></extra>",
                  "labels": [
                    "hacked",
                    "hacked",
                    "hacked",
                    "lost / stolen media",
                    "hacked",
                    "hacked",
                    "hacked",
                    "hacked",
                    "accidentally exposed"
                  ],
                  "legendgroup": "",
                  "marker": {
                    "line": {
                      "color": "grey",
                      "width": 1
                    }
                  },
                  "name": "",
                  "showlegend": true,
                  "textinfo": "percent+label",
                  "textposition": "inside",
                  "type": "pie",
                  "values": [
                    35.34,
                    0.125,
                    0.76,
                    4.372,
                    1.16454,
                    0.16,
                    0.143,
                    0.073,
                    0.043
                  ]
                },
                {
                  "domain": {
                    "x": [
                      0,
                      0.235
                    ],
                    "y": [
                      0,
                      0.2866666666666666
                    ]
                  },
                  "hole": 0.4,
                  "hovertemplate": "Organization type=government<br>Method=%{label}<br>Total No Records (M)=%{value}<extra></extra>",
                  "labels": [
                    "lost / stolen media",
                    "hacked",
                    "poor security",
                    "lost / stolen media",
                    "inside job",
                    "lost / stolen media",
                    "poor security",
                    "hacked",
                    "accidentally exposed",
                    "poor security",
                    "hacked",
                    "accidentally exposed",
                    "inside job",
                    "hacked",
                    "lost / stolen media",
                    "hacked",
                    "hacked",
                    "accidentally exposed",
                    "inside job",
                    "lost / stolen media",
                    "poor security",
                    "lost / stolen media",
                    "lost / stolen media",
                    "hacked"
                  ],
                  "legendgroup": "",
                  "marker": {
                    "line": {
                      "color": "grey",
                      "width": 1
                    }
                  },
                  "name": "",
                  "showlegend": true,
                  "textinfo": "percent+label",
                  "textposition": "inside",
                  "type": "pie",
                  "values": [
                    0.8,
                    55,
                    0.03,
                    28,
                    0.903,
                    0.1,
                    201,
                    12.214899,
                    11.55,
                    0.21,
                    21.5,
                    6.5,
                    0.68,
                    0.18,
                    1.8345,
                    1.5,
                    0.176,
                    4.608461,
                    0.089,
                    4.901432,
                    60,
                    76.203,
                    26.5,
                    8.257378
                  ]
                }
              ],
              "layout": {
                "annotations": [
                  {
                    "font": {},
                    "showarrow": false,
                    "text": "Organization type=government",
                    "x": 0.1175,
                    "xanchor": "center",
                    "xref": "paper",
                    "y": 0.2866666666666666,
                    "yanchor": "bottom",
                    "yref": "paper"
                  },
                  {
                    "font": {},
                    "showarrow": false,
                    "text": "Organization type=telecom",
                    "x": 0.1175,
                    "xanchor": "center",
                    "xref": "paper",
                    "y": 0.6433333333333333,
                    "yanchor": "bottom",
                    "yref": "paper"
                  },
                  {
                    "font": {},
                    "showarrow": false,
                    "text": "Organization type=financial",
                    "x": 0.3725,
                    "xanchor": "center",
                    "xref": "paper",
                    "y": 0.6433333333333333,
                    "yanchor": "bottom",
                    "yref": "paper"
                  },
                  {
                    "font": {},
                    "showarrow": false,
                    "text": "Organization type=retail",
                    "x": 0.6275,
                    "xanchor": "center",
                    "xref": "paper",
                    "y": 0.6433333333333333,
                    "yanchor": "bottom",
                    "yref": "paper"
                  },
                  {
                    "font": {},
                    "showarrow": false,
                    "text": "Organization type=academic / educational",
                    "x": 0.8824999999999998,
                    "xanchor": "center",
                    "xref": "paper",
                    "y": 0.6433333333333333,
                    "yanchor": "bottom",
                    "yref": "paper"
                  },
                  {
                    "font": {},
                    "showarrow": false,
                    "text": "Organization type=healthcare",
                    "x": 0.1175,
                    "xanchor": "center",
                    "xref": "paper",
                    "y": 0.9999999999999999,
                    "yanchor": "bottom",
                    "yref": "paper"
                  },
                  {
                    "font": {},
                    "showarrow": false,
                    "text": "Organization type=media",
                    "x": 0.3725,
                    "xanchor": "center",
                    "xref": "paper",
                    "y": 0.9999999999999999,
                    "yanchor": "bottom",
                    "yref": "paper"
                  },
                  {
                    "font": {},
                    "showarrow": false,
                    "text": "Organization type=tech",
                    "x": 0.6275,
                    "xanchor": "center",
                    "xref": "paper",
                    "y": 0.9999999999999999,
                    "yanchor": "bottom",
                    "yref": "paper"
                  },
                  {
                    "font": {},
                    "showarrow": false,
                    "text": "Organization type=other",
                    "x": 0.8824999999999998,
                    "xanchor": "center",
                    "xref": "paper",
                    "y": 0.9999999999999999,
                    "yanchor": "bottom",
                    "yref": "paper"
                  }
                ],
                "grid": {
                  "columns": 4,
                  "pattern": "independent",
                  "rows": 2
                },
                "height": 900,
                "legend": {
                  "tracegroupgap": 0
                },
                "margin": {
                  "t": 60
                },
                "piecolorway": [
                  "rgb(251,180,174)",
                  "rgb(179,205,227)",
                  "rgb(204,235,197)",
                  "rgb(222,203,228)",
                  "rgb(254,217,166)",
                  "rgb(255,255,204)",
                  "rgb(229,216,189)",
                  "rgb(253,218,236)",
                  "rgb(242,242,242)"
                ],
                "template": {
                  "data": {
                    "bar": [
                      {
                        "error_x": {
                          "color": "#2a3f5f"
                        },
                        "error_y": {
                          "color": "#2a3f5f"
                        },
                        "marker": {
                          "line": {
                            "color": "#E5ECF6",
                            "width": 0.5
                          },
                          "pattern": {
                            "fillmode": "overlay",
                            "size": 10,
                            "solidity": 0.2
                          }
                        },
                        "type": "bar"
                      }
                    ],
                    "barpolar": [
                      {
                        "marker": {
                          "line": {
                            "color": "#E5ECF6",
                            "width": 0.5
                          },
                          "pattern": {
                            "fillmode": "overlay",
                            "size": 10,
                            "solidity": 0.2
                          }
                        },
                        "type": "barpolar"
                      }
                    ],
                    "carpet": [
                      {
                        "aaxis": {
                          "endlinecolor": "#2a3f5f",
                          "gridcolor": "white",
                          "linecolor": "white",
                          "minorgridcolor": "white",
                          "startlinecolor": "#2a3f5f"
                        },
                        "baxis": {
                          "endlinecolor": "#2a3f5f",
                          "gridcolor": "white",
                          "linecolor": "white",
                          "minorgridcolor": "white",
                          "startlinecolor": "#2a3f5f"
                        },
                        "type": "carpet"
                      }
                    ],
                    "choropleth": [
                      {
                        "colorbar": {
                          "outlinewidth": 0,
                          "ticks": ""
                        },
                        "type": "choropleth"
                      }
                    ],
                    "contour": [
                      {
                        "colorbar": {
                          "outlinewidth": 0,
                          "ticks": ""
                        },
                        "colorscale": [
                          [
                            0,
                            "#0d0887"
                          ],
                          [
                            0.1111111111111111,
                            "#46039f"
                          ],
                          [
                            0.2222222222222222,
                            "#7201a8"
                          ],
                          [
                            0.3333333333333333,
                            "#9c179e"
                          ],
                          [
                            0.4444444444444444,
                            "#bd3786"
                          ],
                          [
                            0.5555555555555556,
                            "#d8576b"
                          ],
                          [
                            0.6666666666666666,
                            "#ed7953"
                          ],
                          [
                            0.7777777777777778,
                            "#fb9f3a"
                          ],
                          [
                            0.8888888888888888,
                            "#fdca26"
                          ],
                          [
                            1,
                            "#f0f921"
                          ]
                        ],
                        "type": "contour"
                      }
                    ],
                    "contourcarpet": [
                      {
                        "colorbar": {
                          "outlinewidth": 0,
                          "ticks": ""
                        },
                        "type": "contourcarpet"
                      }
                    ],
                    "heatmap": [
                      {
                        "colorbar": {
                          "outlinewidth": 0,
                          "ticks": ""
                        },
                        "colorscale": [
                          [
                            0,
                            "#0d0887"
                          ],
                          [
                            0.1111111111111111,
                            "#46039f"
                          ],
                          [
                            0.2222222222222222,
                            "#7201a8"
                          ],
                          [
                            0.3333333333333333,
                            "#9c179e"
                          ],
                          [
                            0.4444444444444444,
                            "#bd3786"
                          ],
                          [
                            0.5555555555555556,
                            "#d8576b"
                          ],
                          [
                            0.6666666666666666,
                            "#ed7953"
                          ],
                          [
                            0.7777777777777778,
                            "#fb9f3a"
                          ],
                          [
                            0.8888888888888888,
                            "#fdca26"
                          ],
                          [
                            1,
                            "#f0f921"
                          ]
                        ],
                        "type": "heatmap"
                      }
                    ],
                    "heatmapgl": [
                      {
                        "colorbar": {
                          "outlinewidth": 0,
                          "ticks": ""
                        },
                        "colorscale": [
                          [
                            0,
                            "#0d0887"
                          ],
                          [
                            0.1111111111111111,
                            "#46039f"
                          ],
                          [
                            0.2222222222222222,
                            "#7201a8"
                          ],
                          [
                            0.3333333333333333,
                            "#9c179e"
                          ],
                          [
                            0.4444444444444444,
                            "#bd3786"
                          ],
                          [
                            0.5555555555555556,
                            "#d8576b"
                          ],
                          [
                            0.6666666666666666,
                            "#ed7953"
                          ],
                          [
                            0.7777777777777778,
                            "#fb9f3a"
                          ],
                          [
                            0.8888888888888888,
                            "#fdca26"
                          ],
                          [
                            1,
                            "#f0f921"
                          ]
                        ],
                        "type": "heatmapgl"
                      }
                    ],
                    "histogram": [
                      {
                        "marker": {
                          "pattern": {
                            "fillmode": "overlay",
                            "size": 10,
                            "solidity": 0.2
                          }
                        },
                        "type": "histogram"
                      }
                    ],
                    "histogram2d": [
                      {
                        "colorbar": {
                          "outlinewidth": 0,
                          "ticks": ""
                        },
                        "colorscale": [
                          [
                            0,
                            "#0d0887"
                          ],
                          [
                            0.1111111111111111,
                            "#46039f"
                          ],
                          [
                            0.2222222222222222,
                            "#7201a8"
                          ],
                          [
                            0.3333333333333333,
                            "#9c179e"
                          ],
                          [
                            0.4444444444444444,
                            "#bd3786"
                          ],
                          [
                            0.5555555555555556,
                            "#d8576b"
                          ],
                          [
                            0.6666666666666666,
                            "#ed7953"
                          ],
                          [
                            0.7777777777777778,
                            "#fb9f3a"
                          ],
                          [
                            0.8888888888888888,
                            "#fdca26"
                          ],
                          [
                            1,
                            "#f0f921"
                          ]
                        ],
                        "type": "histogram2d"
                      }
                    ],
                    "histogram2dcontour": [
                      {
                        "colorbar": {
                          "outlinewidth": 0,
                          "ticks": ""
                        },
                        "colorscale": [
                          [
                            0,
                            "#0d0887"
                          ],
                          [
                            0.1111111111111111,
                            "#46039f"
                          ],
                          [
                            0.2222222222222222,
                            "#7201a8"
                          ],
                          [
                            0.3333333333333333,
                            "#9c179e"
                          ],
                          [
                            0.4444444444444444,
                            "#bd3786"
                          ],
                          [
                            0.5555555555555556,
                            "#d8576b"
                          ],
                          [
                            0.6666666666666666,
                            "#ed7953"
                          ],
                          [
                            0.7777777777777778,
                            "#fb9f3a"
                          ],
                          [
                            0.8888888888888888,
                            "#fdca26"
                          ],
                          [
                            1,
                            "#f0f921"
                          ]
                        ],
                        "type": "histogram2dcontour"
                      }
                    ],
                    "mesh3d": [
                      {
                        "colorbar": {
                          "outlinewidth": 0,
                          "ticks": ""
                        },
                        "type": "mesh3d"
                      }
                    ],
                    "parcoords": [
                      {
                        "line": {
                          "colorbar": {
                            "outlinewidth": 0,
                            "ticks": ""
                          }
                        },
                        "type": "parcoords"
                      }
                    ],
                    "pie": [
                      {
                        "automargin": true,
                        "type": "pie"
                      }
                    ],
                    "scatter": [
                      {
                        "fillpattern": {
                          "fillmode": "overlay",
                          "size": 10,
                          "solidity": 0.2
                        },
                        "type": "scatter"
                      }
                    ],
                    "scatter3d": [
                      {
                        "line": {
                          "colorbar": {
                            "outlinewidth": 0,
                            "ticks": ""
                          }
                        },
                        "marker": {
                          "colorbar": {
                            "outlinewidth": 0,
                            "ticks": ""
                          }
                        },
                        "type": "scatter3d"
                      }
                    ],
                    "scattercarpet": [
                      {
                        "marker": {
                          "colorbar": {
                            "outlinewidth": 0,
                            "ticks": ""
                          }
                        },
                        "type": "scattercarpet"
                      }
                    ],
                    "scattergeo": [
                      {
                        "marker": {
                          "colorbar": {
                            "outlinewidth": 0,
                            "ticks": ""
                          }
                        },
                        "type": "scattergeo"
                      }
                    ],
                    "scattergl": [
                      {
                        "marker": {
                          "colorbar": {
                            "outlinewidth": 0,
                            "ticks": ""
                          }
                        },
                        "type": "scattergl"
                      }
                    ],
                    "scattermapbox": [
                      {
                        "marker": {
                          "colorbar": {
                            "outlinewidth": 0,
                            "ticks": ""
                          }
                        },
                        "type": "scattermapbox"
                      }
                    ],
                    "scatterpolar": [
                      {
                        "marker": {
                          "colorbar": {
                            "outlinewidth": 0,
                            "ticks": ""
                          }
                        },
                        "type": "scatterpolar"
                      }
                    ],
                    "scatterpolargl": [
                      {
                        "marker": {
                          "colorbar": {
                            "outlinewidth": 0,
                            "ticks": ""
                          }
                        },
                        "type": "scatterpolargl"
                      }
                    ],
                    "scatterternary": [
                      {
                        "marker": {
                          "colorbar": {
                            "outlinewidth": 0,
                            "ticks": ""
                          }
                        },
                        "type": "scatterternary"
                      }
                    ],
                    "surface": [
                      {
                        "colorbar": {
                          "outlinewidth": 0,
                          "ticks": ""
                        },
                        "colorscale": [
                          [
                            0,
                            "#0d0887"
                          ],
                          [
                            0.1111111111111111,
                            "#46039f"
                          ],
                          [
                            0.2222222222222222,
                            "#7201a8"
                          ],
                          [
                            0.3333333333333333,
                            "#9c179e"
                          ],
                          [
                            0.4444444444444444,
                            "#bd3786"
                          ],
                          [
                            0.5555555555555556,
                            "#d8576b"
                          ],
                          [
                            0.6666666666666666,
                            "#ed7953"
                          ],
                          [
                            0.7777777777777778,
                            "#fb9f3a"
                          ],
                          [
                            0.8888888888888888,
                            "#fdca26"
                          ],
                          [
                            1,
                            "#f0f921"
                          ]
                        ],
                        "type": "surface"
                      }
                    ],
                    "table": [
                      {
                        "cells": {
                          "fill": {
                            "color": "#EBF0F8"
                          },
                          "line": {
                            "color": "white"
                          }
                        },
                        "header": {
                          "fill": {
                            "color": "#C8D4E3"
                          },
                          "line": {
                            "color": "white"
                          }
                        },
                        "type": "table"
                      }
                    ]
                  },
                  "layout": {
                    "annotationdefaults": {
                      "arrowcolor": "#2a3f5f",
                      "arrowhead": 0,
                      "arrowwidth": 1
                    },
                    "autotypenumbers": "strict",
                    "coloraxis": {
                      "colorbar": {
                        "outlinewidth": 0,
                        "ticks": ""
                      }
                    },
                    "colorscale": {
                      "diverging": [
                        [
                          0,
                          "#8e0152"
                        ],
                        [
                          0.1,
                          "#c51b7d"
                        ],
                        [
                          0.2,
                          "#de77ae"
                        ],
                        [
                          0.3,
                          "#f1b6da"
                        ],
                        [
                          0.4,
                          "#fde0ef"
                        ],
                        [
                          0.5,
                          "#f7f7f7"
                        ],
                        [
                          0.6,
                          "#e6f5d0"
                        ],
                        [
                          0.7,
                          "#b8e186"
                        ],
                        [
                          0.8,
                          "#7fbc41"
                        ],
                        [
                          0.9,
                          "#4d9221"
                        ],
                        [
                          1,
                          "#276419"
                        ]
                      ],
                      "sequential": [
                        [
                          0,
                          "#0d0887"
                        ],
                        [
                          0.1111111111111111,
                          "#46039f"
                        ],
                        [
                          0.2222222222222222,
                          "#7201a8"
                        ],
                        [
                          0.3333333333333333,
                          "#9c179e"
                        ],
                        [
                          0.4444444444444444,
                          "#bd3786"
                        ],
                        [
                          0.5555555555555556,
                          "#d8576b"
                        ],
                        [
                          0.6666666666666666,
                          "#ed7953"
                        ],
                        [
                          0.7777777777777778,
                          "#fb9f3a"
                        ],
                        [
                          0.8888888888888888,
                          "#fdca26"
                        ],
                        [
                          1,
                          "#f0f921"
                        ]
                      ],
                      "sequentialminus": [
                        [
                          0,
                          "#0d0887"
                        ],
                        [
                          0.1111111111111111,
                          "#46039f"
                        ],
                        [
                          0.2222222222222222,
                          "#7201a8"
                        ],
                        [
                          0.3333333333333333,
                          "#9c179e"
                        ],
                        [
                          0.4444444444444444,
                          "#bd3786"
                        ],
                        [
                          0.5555555555555556,
                          "#d8576b"
                        ],
                        [
                          0.6666666666666666,
                          "#ed7953"
                        ],
                        [
                          0.7777777777777778,
                          "#fb9f3a"
                        ],
                        [
                          0.8888888888888888,
                          "#fdca26"
                        ],
                        [
                          1,
                          "#f0f921"
                        ]
                      ]
                    },
                    "colorway": [
                      "#636efa",
                      "#EF553B",
                      "#00cc96",
                      "#ab63fa",
                      "#FFA15A",
                      "#19d3f3",
                      "#FF6692",
                      "#B6E880",
                      "#FF97FF",
                      "#FECB52"
                    ],
                    "font": {
                      "color": "#2a3f5f"
                    },
                    "geo": {
                      "bgcolor": "white",
                      "lakecolor": "white",
                      "landcolor": "#E5ECF6",
                      "showlakes": true,
                      "showland": true,
                      "subunitcolor": "white"
                    },
                    "hoverlabel": {
                      "align": "left"
                    },
                    "hovermode": "closest",
                    "mapbox": {
                      "style": "light"
                    },
                    "paper_bgcolor": "white",
                    "plot_bgcolor": "#E5ECF6",
                    "polar": {
                      "angularaxis": {
                        "gridcolor": "white",
                        "linecolor": "white",
                        "ticks": ""
                      },
                      "bgcolor": "#E5ECF6",
                      "radialaxis": {
                        "gridcolor": "white",
                        "linecolor": "white",
                        "ticks": ""
                      }
                    },
                    "scene": {
                      "xaxis": {
                        "backgroundcolor": "#E5ECF6",
                        "gridcolor": "white",
                        "gridwidth": 2,
                        "linecolor": "white",
                        "showbackground": true,
                        "ticks": "",
                        "zerolinecolor": "white"
                      },
                      "yaxis": {
                        "backgroundcolor": "#E5ECF6",
                        "gridcolor": "white",
                        "gridwidth": 2,
                        "linecolor": "white",
                        "showbackground": true,
                        "ticks": "",
                        "zerolinecolor": "white"
                      },
                      "zaxis": {
                        "backgroundcolor": "#E5ECF6",
                        "gridcolor": "white",
                        "gridwidth": 2,
                        "linecolor": "white",
                        "showbackground": true,
                        "ticks": "",
                        "zerolinecolor": "white"
                      }
                    },
                    "shapedefaults": {
                      "line": {
                        "color": "#2a3f5f"
                      }
                    },
                    "ternary": {
                      "aaxis": {
                        "gridcolor": "white",
                        "linecolor": "white",
                        "ticks": ""
                      },
                      "baxis": {
                        "gridcolor": "white",
                        "linecolor": "white",
                        "ticks": ""
                      },
                      "bgcolor": "#E5ECF6",
                      "caxis": {
                        "gridcolor": "white",
                        "linecolor": "white",
                        "ticks": ""
                      }
                    },
                    "title": {
                      "x": 0.05
                    },
                    "xaxis": {
                      "automargin": true,
                      "gridcolor": "white",
                      "linecolor": "white",
                      "ticks": "",
                      "title": {
                        "standoff": 15
                      },
                      "zerolinecolor": "white",
                      "zerolinewidth": 2
                    },
                    "yaxis": {
                      "automargin": true,
                      "gridcolor": "white",
                      "linecolor": "white",
                      "ticks": "",
                      "title": {
                        "standoff": 15
                      },
                      "zerolinecolor": "white",
                      "zerolinewidth": 2
                    }
                  }
                },
                "title": {
                  "text": "Distribution of Leaked Records by Method and Organization Type"
                },
                "width": 1150
              }
            }
          },
          "metadata": {},
          "output_type": "display_data"
        }
      ],
      "source": [
        "fig = px.pie(\n",
        "  data_frame=data_breaches,\n",
        "  values=\"Total No Records (M)\",\n",
        "  names=\"Method\",\n",
        "  color_discrete_sequence=px.colors.qualitative.Pastel1,\n",
        "  facet_col=\"Organization type\",\n",
        "  facet_col_wrap=4,\n",
        "  hole=0.4\n",
        ")\n",
        "\n",
        "fig.update_traces(\n",
        "  textposition='inside',\n",
        "  textinfo='percent+label',\n",
        "  marker_line_width=1,\n",
        "  marker_line_color=\"grey\",\n",
        ")\n",
        "\n",
        "fig.update_layout(\n",
        "    title=\"Distribution of Leaked Records by Method and Organization Type\",\n",
        "    width=1150,\n",
        "    height=900,\n",
        "    grid=dict(rows=2, columns=4, pattern=\"independent\")\n",
        "  )\n",
        "\n",
        "fig.show()"
      ]
    }
  ],
  "metadata": {
    "colab": {
      "name": "data breaches.ipynb",
      "provenance": []
    },
    "kernelspec": {
      "display_name": "base",
      "language": "python",
      "name": "python3"
    },
    "language_info": {
      "codemirror_mode": {
        "name": "ipython",
        "version": 3
      },
      "file_extension": ".py",
      "mimetype": "text/x-python",
      "name": "python",
      "nbconvert_exporter": "python",
      "pygments_lexer": "ipython3",
      "version": "3.12.7"
    }
  },
  "nbformat": 4,
  "nbformat_minor": 0
}
