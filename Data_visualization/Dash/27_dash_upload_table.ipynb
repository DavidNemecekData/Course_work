{
 "cells": [
  {
   "cell_type": "code",
   "execution_count": 3,
   "metadata": {},
   "outputs": [],
   "source": [
    "import dash\n",
    "from dash import dcc, html, Input, Output, State, dash_table\n",
    "import pandas as pd\n",
    "import base64\n",
    "import io"
   ]
  },
  {
   "cell_type": "code",
   "execution_count": 4,
   "metadata": {},
   "outputs": [
    {
     "data": {
      "text/html": [
       "\n",
       "        <iframe\n",
       "            width=\"100%\"\n",
       "            height=\"650\"\n",
       "            src=\"http://127.0.0.1:54112/\"\n",
       "            frameborder=\"0\"\n",
       "            allowfullscreen\n",
       "            \n",
       "        ></iframe>\n",
       "        "
      ],
      "text/plain": [
       "<IPython.lib.display.IFrame at 0x243ccce7560>"
      ]
     },
     "metadata": {},
     "output_type": "display_data"
    }
   ],
   "source": [
    "app = dash.Dash(__name__)\n",
    "\n",
    "# App layout\n",
    "app.layout = html.Div(children=[\n",
    "    html.H1(\"F1 Races - Data Table Viewer\", style={'textAlign': 'center'}),\n",
    "    \n",
    "    # Upload component\n",
    "    html.Div(children=[\n",
    "        dcc.Upload(\n",
    "            id='upload-data',\n",
    "            children=html.Div(children=['Drag and Drop or ', html.A('Select a File')]),\n",
    "            style={\n",
    "                'width': '100%',\n",
    "                'height': '60px',\n",
    "                'lineHeight': '60px',\n",
    "                'borderWidth': '1px',\n",
    "                'borderStyle': 'dashed',\n",
    "                'borderRadius': '5px',\n",
    "                'textAlign': 'center',\n",
    "                'margin': '10px'\n",
    "            },\n",
    "            multiple=False\n",
    "        )\n",
    "    ]),\n",
    "    \n",
    "    # Data table to display uploaded data\n",
    "    html.Div(children=[\n",
    "        dash_table.DataTable(\n",
    "            id='data-table',\n",
    "            style_table={'height': '400px', 'overflowY': 'auto'},\n",
    "            style_cell={\n",
    "                'textAlign': 'center',\n",
    "                'whiteSpace': 'normal',\n",
    "                'height': 'auto'\n",
    "            },\n",
    "            style_header={\n",
    "                'fontWeight': 'bold',\n",
    "                'backgroundColor': 'lightgrey'\n",
    "            }\n",
    "        )\n",
    "    ])\n",
    "])\n",
    "\n",
    "# Callback to handle file upload and update the data table\n",
    "@app.callback(\n",
    "    Output('data-table', 'data'),\n",
    "    Output('data-table', 'columns'),\n",
    "    Input('upload-data', 'contents'),\n",
    "    State('upload-data', 'filename')\n",
    ")\n",
    "def update_table(contents, filename):\n",
    "    if contents is None:\n",
    "        return [], []\n",
    "    \n",
    "    # Decode the uploaded file\n",
    "    content_type, content_string = contents.split(',')\n",
    "    decoded = base64.b64decode(content_string)\n",
    "    \n",
    "    try:\n",
    "        # Read the uploaded CSV file\n",
    "        df = pd.read_csv(io.StringIO(decoded.decode('utf-8')))\n",
    "        \n",
    "        # Return first few rows and column information for the table\n",
    "        return df.head().to_dict('records'), [{\"name\": col, \"id\": col} for col in df.columns]\n",
    "    \n",
    "    except Exception as e:\n",
    "        return [], []\n",
    "\n",
    "# Run the app\n",
    "if __name__ == '__main__':\n",
    "    app.run_server(debug=True)"
   ]
  }
 ],
 "metadata": {
  "kernelspec": {
   "display_name": "base",
   "language": "python",
   "name": "python3"
  },
  "language_info": {
   "codemirror_mode": {
    "name": "ipython",
    "version": 3
   },
   "file_extension": ".py",
   "mimetype": "text/x-python",
   "name": "python",
   "nbconvert_exporter": "python",
   "pygments_lexer": "ipython3",
   "version": "3.12.7"
  }
 },
 "nbformat": 4,
 "nbformat_minor": 2
}
