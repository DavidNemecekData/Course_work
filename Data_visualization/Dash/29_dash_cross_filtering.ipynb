{
 "cells": [
  {
   "cell_type": "code",
   "execution_count": 1,
   "metadata": {},
   "outputs": [],
   "source": [
    "import dash\n",
    "import pandas as pd\n",
    "import plotly.express as px\n",
    "from dash import dcc, html, Input, Output"
   ]
  },
  {
   "cell_type": "code",
   "execution_count": 2,
   "metadata": {},
   "outputs": [],
   "source": [
    "population = pd.read_csv(\"../Dash_crossfiltering/population.csv\")\n",
    "new_books = pd.read_csv(\"../Dash_crossfiltering/new-books-per-million.csv\")"
   ]
  },
  {
   "cell_type": "code",
   "execution_count": 3,
   "metadata": {},
   "outputs": [
    {
     "data": {
      "text/html": [
       "<div>\n",
       "<style scoped>\n",
       "    .dataframe tbody tr th:only-of-type {\n",
       "        vertical-align: middle;\n",
       "    }\n",
       "\n",
       "    .dataframe tbody tr th {\n",
       "        vertical-align: top;\n",
       "    }\n",
       "\n",
       "    .dataframe thead th {\n",
       "        text-align: right;\n",
       "    }\n",
       "</style>\n",
       "<table border=\"1\" class=\"dataframe\">\n",
       "  <thead>\n",
       "    <tr style=\"text-align: right;\">\n",
       "      <th></th>\n",
       "      <th>Entity</th>\n",
       "      <th>Code</th>\n",
       "      <th>Year</th>\n",
       "      <th>Population (historical estimates)</th>\n",
       "    </tr>\n",
       "  </thead>\n",
       "  <tbody>\n",
       "    <tr>\n",
       "      <th>0</th>\n",
       "      <td>Afghanistan</td>\n",
       "      <td>AFG</td>\n",
       "      <td>-10000</td>\n",
       "      <td>14737</td>\n",
       "    </tr>\n",
       "    <tr>\n",
       "      <th>1</th>\n",
       "      <td>Afghanistan</td>\n",
       "      <td>AFG</td>\n",
       "      <td>-9000</td>\n",
       "      <td>20405</td>\n",
       "    </tr>\n",
       "    <tr>\n",
       "      <th>2</th>\n",
       "      <td>Afghanistan</td>\n",
       "      <td>AFG</td>\n",
       "      <td>-8000</td>\n",
       "      <td>28253</td>\n",
       "    </tr>\n",
       "    <tr>\n",
       "      <th>3</th>\n",
       "      <td>Afghanistan</td>\n",
       "      <td>AFG</td>\n",
       "      <td>-7000</td>\n",
       "      <td>39120</td>\n",
       "    </tr>\n",
       "    <tr>\n",
       "      <th>4</th>\n",
       "      <td>Afghanistan</td>\n",
       "      <td>AFG</td>\n",
       "      <td>-6000</td>\n",
       "      <td>54166</td>\n",
       "    </tr>\n",
       "  </tbody>\n",
       "</table>\n",
       "</div>"
      ],
      "text/plain": [
       "        Entity Code   Year  Population (historical estimates)\n",
       "0  Afghanistan  AFG -10000                              14737\n",
       "1  Afghanistan  AFG  -9000                              20405\n",
       "2  Afghanistan  AFG  -8000                              28253\n",
       "3  Afghanistan  AFG  -7000                              39120\n",
       "4  Afghanistan  AFG  -6000                              54166"
      ]
     },
     "execution_count": 3,
     "metadata": {},
     "output_type": "execute_result"
    }
   ],
   "source": [
    "population.head(5)"
   ]
  },
  {
   "cell_type": "code",
   "execution_count": 4,
   "metadata": {},
   "outputs": [
    {
     "data": {
      "text/html": [
       "<div>\n",
       "<style scoped>\n",
       "    .dataframe tbody tr th:only-of-type {\n",
       "        vertical-align: middle;\n",
       "    }\n",
       "\n",
       "    .dataframe tbody tr th {\n",
       "        vertical-align: top;\n",
       "    }\n",
       "\n",
       "    .dataframe thead th {\n",
       "        text-align: right;\n",
       "    }\n",
       "</style>\n",
       "<table border=\"1\" class=\"dataframe\">\n",
       "  <thead>\n",
       "    <tr style=\"text-align: right;\">\n",
       "      <th></th>\n",
       "      <th>Entity</th>\n",
       "      <th>Code</th>\n",
       "      <th>Year</th>\n",
       "      <th>Book titles per capita (Fink-Jensen 2015)</th>\n",
       "    </tr>\n",
       "  </thead>\n",
       "  <tbody>\n",
       "    <tr>\n",
       "      <th>0</th>\n",
       "      <td>Algeria</td>\n",
       "      <td>DZA</td>\n",
       "      <td>1953</td>\n",
       "      <td>10.596210</td>\n",
       "    </tr>\n",
       "    <tr>\n",
       "      <th>1</th>\n",
       "      <td>Algeria</td>\n",
       "      <td>DZA</td>\n",
       "      <td>1954</td>\n",
       "      <td>8.115622</td>\n",
       "    </tr>\n",
       "    <tr>\n",
       "      <th>2</th>\n",
       "      <td>Algeria</td>\n",
       "      <td>DZA</td>\n",
       "      <td>1963</td>\n",
       "      <td>12.596606</td>\n",
       "    </tr>\n",
       "    <tr>\n",
       "      <th>3</th>\n",
       "      <td>Algeria</td>\n",
       "      <td>DZA</td>\n",
       "      <td>1964</td>\n",
       "      <td>13.605609</td>\n",
       "    </tr>\n",
       "    <tr>\n",
       "      <th>4</th>\n",
       "      <td>Algeria</td>\n",
       "      <td>DZA</td>\n",
       "      <td>1965</td>\n",
       "      <td>10.950347</td>\n",
       "    </tr>\n",
       "  </tbody>\n",
       "</table>\n",
       "</div>"
      ],
      "text/plain": [
       "    Entity Code  Year  Book titles per capita (Fink-Jensen 2015)\n",
       "0  Algeria  DZA  1953                                  10.596210\n",
       "1  Algeria  DZA  1954                                   8.115622\n",
       "2  Algeria  DZA  1963                                  12.596606\n",
       "3  Algeria  DZA  1964                                  13.605609\n",
       "4  Algeria  DZA  1965                                  10.950347"
      ]
     },
     "execution_count": 4,
     "metadata": {},
     "output_type": "execute_result"
    }
   ],
   "source": [
    "new_books.head(5)"
   ]
  },
  {
   "cell_type": "code",
   "execution_count": 5,
   "metadata": {},
   "outputs": [
    {
     "data": {
      "text/plain": [
       "(8312, 4)"
      ]
     },
     "execution_count": 5,
     "metadata": {},
     "output_type": "execute_result"
    }
   ],
   "source": [
    "new_books.shape"
   ]
  },
  {
   "cell_type": "code",
   "execution_count": 6,
   "metadata": {},
   "outputs": [],
   "source": [
    "new_books = new_books[(new_books[\"Year\"]>=1940) & (new_books[\"Year\"]<=1996)]"
   ]
  },
  {
   "cell_type": "code",
   "execution_count": 7,
   "metadata": {},
   "outputs": [
    {
     "data": {
      "text/plain": [
       "(2852, 4)"
      ]
     },
     "execution_count": 7,
     "metadata": {},
     "output_type": "execute_result"
    }
   ],
   "source": [
    "new_books.shape"
   ]
  },
  {
   "cell_type": "code",
   "execution_count": 8,
   "metadata": {},
   "outputs": [],
   "source": [
    "selected_books = new_books[new_books[\"Year\"]==1996][[\"Entity\", \"Book titles per capita (Fink-Jensen 2015)\"]]"
   ]
  },
  {
   "cell_type": "code",
   "execution_count": 9,
   "metadata": {},
   "outputs": [
    {
     "data": {
      "text/plain": [
       "(48, 2)"
      ]
     },
     "execution_count": 9,
     "metadata": {},
     "output_type": "execute_result"
    }
   ],
   "source": [
    "selected_books.shape"
   ]
  },
  {
   "cell_type": "code",
   "execution_count": 10,
   "metadata": {},
   "outputs": [
    {
     "data": {
      "text/html": [
       "<div>\n",
       "<style scoped>\n",
       "    .dataframe tbody tr th:only-of-type {\n",
       "        vertical-align: middle;\n",
       "    }\n",
       "\n",
       "    .dataframe tbody tr th {\n",
       "        vertical-align: top;\n",
       "    }\n",
       "\n",
       "    .dataframe thead th {\n",
       "        text-align: right;\n",
       "    }\n",
       "</style>\n",
       "<table border=\"1\" class=\"dataframe\">\n",
       "  <thead>\n",
       "    <tr style=\"text-align: right;\">\n",
       "      <th></th>\n",
       "      <th>Entity</th>\n",
       "      <th>Book titles per capita (Fink-Jensen 2015)</th>\n",
       "    </tr>\n",
       "  </thead>\n",
       "  <tbody>\n",
       "    <tr>\n",
       "      <th>17</th>\n",
       "      <td>Algeria</td>\n",
       "      <td>23.423261</td>\n",
       "    </tr>\n",
       "    <tr>\n",
       "      <th>67</th>\n",
       "      <td>Argentina</td>\n",
       "      <td>276.041813</td>\n",
       "    </tr>\n",
       "    <tr>\n",
       "      <th>237</th>\n",
       "      <td>Austria</td>\n",
       "      <td>985.472115</td>\n",
       "    </tr>\n",
       "    <tr>\n",
       "      <th>794</th>\n",
       "      <td>Belgium</td>\n",
       "      <td>1148.548561</td>\n",
       "    </tr>\n",
       "    <tr>\n",
       "      <th>830</th>\n",
       "      <td>Brazil</td>\n",
       "      <td>113.694110</td>\n",
       "    </tr>\n",
       "  </tbody>\n",
       "</table>\n",
       "</div>"
      ],
      "text/plain": [
       "        Entity  Book titles per capita (Fink-Jensen 2015)\n",
       "17     Algeria                                  23.423261\n",
       "67   Argentina                                 276.041813\n",
       "237    Austria                                 985.472115\n",
       "794    Belgium                                1148.548561\n",
       "830     Brazil                                 113.694110"
      ]
     },
     "execution_count": 10,
     "metadata": {},
     "output_type": "execute_result"
    }
   ],
   "source": [
    "selected_books.head(5)"
   ]
  },
  {
   "cell_type": "code",
   "execution_count": 11,
   "metadata": {},
   "outputs": [],
   "source": [
    "selected_pops = population[population[\"Year\"]==1996][[\"Entity\", \"Population (historical estimates)\"]]"
   ]
  },
  {
   "cell_type": "code",
   "execution_count": 12,
   "metadata": {},
   "outputs": [
    {
     "data": {
      "text/html": [
       "<div>\n",
       "<style scoped>\n",
       "    .dataframe tbody tr th:only-of-type {\n",
       "        vertical-align: middle;\n",
       "    }\n",
       "\n",
       "    .dataframe tbody tr th {\n",
       "        vertical-align: top;\n",
       "    }\n",
       "\n",
       "    .dataframe thead th {\n",
       "        text-align: right;\n",
       "    }\n",
       "</style>\n",
       "<table border=\"1\" class=\"dataframe\">\n",
       "  <thead>\n",
       "    <tr style=\"text-align: right;\">\n",
       "      <th></th>\n",
       "      <th>Entity</th>\n",
       "      <th>Population (historical estimates)</th>\n",
       "    </tr>\n",
       "  </thead>\n",
       "  <tbody>\n",
       "    <tr>\n",
       "      <th>233</th>\n",
       "      <td>Afghanistan</td>\n",
       "      <td>18853444</td>\n",
       "    </tr>\n",
       "    <tr>\n",
       "      <th>492</th>\n",
       "      <td>Africa</td>\n",
       "      <td>735361106</td>\n",
       "    </tr>\n",
       "    <tr>\n",
       "      <th>751</th>\n",
       "      <td>Albania</td>\n",
       "      <td>3098699</td>\n",
       "    </tr>\n",
       "    <tr>\n",
       "      <th>1010</th>\n",
       "      <td>Algeria</td>\n",
       "      <td>29266415</td>\n",
       "    </tr>\n",
       "    <tr>\n",
       "      <th>1124</th>\n",
       "      <td>American Samoa</td>\n",
       "      <td>54209</td>\n",
       "    </tr>\n",
       "  </tbody>\n",
       "</table>\n",
       "</div>"
      ],
      "text/plain": [
       "              Entity  Population (historical estimates)\n",
       "233      Afghanistan                           18853444\n",
       "492           Africa                          735361106\n",
       "751          Albania                            3098699\n",
       "1010         Algeria                           29266415\n",
       "1124  American Samoa                              54209"
      ]
     },
     "execution_count": 12,
     "metadata": {},
     "output_type": "execute_result"
    }
   ],
   "source": [
    "selected_pops.head(5)"
   ]
  },
  {
   "cell_type": "code",
   "execution_count": 13,
   "metadata": {},
   "outputs": [],
   "source": [
    "data = pd.merge(selected_books, selected_pops, how=\"inner\", on=\"Entity\")"
   ]
  },
  {
   "cell_type": "code",
   "execution_count": 14,
   "metadata": {},
   "outputs": [
    {
     "data": {
      "text/html": [
       "<div>\n",
       "<style scoped>\n",
       "    .dataframe tbody tr th:only-of-type {\n",
       "        vertical-align: middle;\n",
       "    }\n",
       "\n",
       "    .dataframe tbody tr th {\n",
       "        vertical-align: top;\n",
       "    }\n",
       "\n",
       "    .dataframe thead th {\n",
       "        text-align: right;\n",
       "    }\n",
       "</style>\n",
       "<table border=\"1\" class=\"dataframe\">\n",
       "  <thead>\n",
       "    <tr style=\"text-align: right;\">\n",
       "      <th></th>\n",
       "      <th>Entity</th>\n",
       "      <th>Book titles per capita (Fink-Jensen 2015)</th>\n",
       "      <th>Population (historical estimates)</th>\n",
       "    </tr>\n",
       "  </thead>\n",
       "  <tbody>\n",
       "    <tr>\n",
       "      <th>0</th>\n",
       "      <td>Algeria</td>\n",
       "      <td>23.423261</td>\n",
       "      <td>29266415</td>\n",
       "    </tr>\n",
       "    <tr>\n",
       "      <th>1</th>\n",
       "      <td>Argentina</td>\n",
       "      <td>276.041813</td>\n",
       "      <td>35246376</td>\n",
       "    </tr>\n",
       "    <tr>\n",
       "      <th>2</th>\n",
       "      <td>Austria</td>\n",
       "      <td>985.472115</td>\n",
       "      <td>8017852</td>\n",
       "    </tr>\n",
       "    <tr>\n",
       "      <th>3</th>\n",
       "      <td>Belgium</td>\n",
       "      <td>1148.548561</td>\n",
       "      <td>10208265</td>\n",
       "    </tr>\n",
       "    <tr>\n",
       "      <th>4</th>\n",
       "      <td>Brazil</td>\n",
       "      <td>113.694110</td>\n",
       "      <td>164614682</td>\n",
       "    </tr>\n",
       "  </tbody>\n",
       "</table>\n",
       "</div>"
      ],
      "text/plain": [
       "      Entity  Book titles per capita (Fink-Jensen 2015)  \\\n",
       "0    Algeria                                  23.423261   \n",
       "1  Argentina                                 276.041813   \n",
       "2    Austria                                 985.472115   \n",
       "3    Belgium                                1148.548561   \n",
       "4     Brazil                                 113.694110   \n",
       "\n",
       "   Population (historical estimates)  \n",
       "0                           29266415  \n",
       "1                           35246376  \n",
       "2                            8017852  \n",
       "3                           10208265  \n",
       "4                          164614682  "
      ]
     },
     "execution_count": 14,
     "metadata": {},
     "output_type": "execute_result"
    }
   ],
   "source": [
    "data.head(5)"
   ]
  },
  {
   "cell_type": "code",
   "execution_count": 15,
   "metadata": {},
   "outputs": [
    {
     "data": {
      "application/vnd.plotly.v1+json": {
       "config": {
        "plotlyServerURL": "https://plot.ly"
       },
       "data": [
        {
         "hovertemplate": "Book titles per capita (Fink-Jensen 2015)=%{x}<br>Population (historical estimates)=%{y}<br>Entity=%{text}<extra></extra>",
         "legendgroup": "",
         "marker": {
          "color": "#1F77B4",
          "symbol": "circle"
         },
         "mode": "markers+text",
         "name": "",
         "orientation": "v",
         "showlegend": false,
         "text": [
          "Algeria",
          "Argentina",
          "Austria",
          "Belgium",
          "Brazil",
          "Bulgaria",
          "Canada",
          "Croatia",
          "Cyprus",
          "Denmark",
          "Egypt",
          "Estonia",
          "Finland",
          "France",
          "Germany",
          "Greece",
          "Hungary",
          "Iceland",
          "India",
          "Indonesia",
          "Italy",
          "Japan",
          "Jordan",
          "Latvia",
          "Lithuania",
          "Malaysia",
          "Mexico",
          "Morocco",
          "Netherlands",
          "North Macedonia",
          "Norway",
          "Philippines",
          "Poland",
          "Portugal",
          "Romania",
          "Russia",
          "Saudi Arabia",
          "Slovenia",
          "South Korea",
          "Spain",
          "Sweden",
          "Switzerland",
          "Thailand",
          "Tunisia",
          "Turkey",
          "United Kingdom",
          "United States"
         ],
         "textposition": "bottom right",
         "type": "scatter",
         "x": [
          23.423261410169832,
          276.041812627862,
          985.4721152738148,
          1148.548561175463,
          113.69411028021626,
          593.0626859907076,
          662.7589422500499,
          384.8540444396655,
          1259.0553835448231,
          3151.9885216383277,
          29.62564451424166,
          1840.5591153550115,
          2559.2200472237027,
          818.9760090695387,
          873.2985408459305,
          403.1711678699776,
          894.8185692811793,
          5676.579925650557,
          12.734676235594184,
          20.39989533148654,
          614.2203766093389,
          447.45800342680513,
          117.10691379968624,
          798.6905539498194,
          993.6439499759564,
          291.3841550253469,
          65.4988673081615,
          32.73155758572031,
          3313.667755702044,
          452.538732140701,
          4810.013153699253,
          20.27286495993089,
          365.1063341134039,
          779.0162256762877,
          318.1518185653408,
          242.26625546007577,
          189.0829240617281,
          1714.132853515616,
          670.5159845604716,
          1163.9583719445684,
          2673.1139011424048,
          1517.3323470301727,
          136.70407319037355,
          79.04393723120944,
          103.87541462690564,
          1403.1708638595187,
          252.81143466100428
         ],
         "xaxis": "x",
         "y": [
          29266415,
          35246376,
          8017852,
          10208265,
          164614682,
          8291969,
          29457820,
          4574888,
          873426,
          5254857,
          63601632,
          1417741,
          5136984,
          58012055,
          81323666,
          10832139,
          10332451,
          270144,
          982365248,
          199901231,
          57065231,
          126644099,
          4732848,
          2478832,
          3603756,
          21017619,
          93147045,
          27383472,
          15563252,
          1989441,
          4393217,
          71401743,
          38509672,
          10134016,
          22805706,
          148020852,
          19033843,
          1988580,
          45751023,
          39908962,
          8859180,
          7038027,
          60130190,
          9267335,
          59423278,
          58113554,
          268335007
         ],
         "yaxis": "y"
        }
       ],
       "layout": {
        "legend": {
         "tracegroupgap": 0
        },
        "template": {
         "data": {
          "scatter": [
           {
            "type": "scatter"
           }
          ]
         }
        },
        "title": {
         "text": "Country population vs number of new book titles per capita in 1996"
        },
        "xaxis": {
         "anchor": "y",
         "domain": [
          0,
          1
         ],
         "title": {
          "text": "Book titles per capita (Fink-Jensen 2015)"
         },
         "type": "log"
        },
        "yaxis": {
         "anchor": "x",
         "domain": [
          0,
          1
         ],
         "title": {
          "text": "Population (historical estimates)"
         },
         "type": "log"
        }
       }
      }
     },
     "metadata": {},
     "output_type": "display_data"
    }
   ],
   "source": [
    "scatter_figure = px.scatter(data_frame=data,\n",
    "                 x=\"Book titles per capita (Fink-Jensen 2015)\",\n",
    "                 y=\"Population (historical estimates)\",\n",
    "                 text=\"Entity\",\n",
    "                 log_x=True,\n",
    "                 log_y=True,\n",
    "                 template=\"none\",\n",
    "                 title=\"Country population vs number of new book titles per capita in 1996\")\n",
    "scatter_figure.update_traces(textposition=\"bottom right\")\n",
    "scatter_figure.show()"
   ]
  },
  {
   "cell_type": "code",
   "execution_count": 16,
   "metadata": {},
   "outputs": [
    {
     "data": {
      "text/html": [
       "\n",
       "        <iframe\n",
       "            width=\"100%\"\n",
       "            height=\"650\"\n",
       "            src=\"http://127.0.0.1:54112/\"\n",
       "            frameborder=\"0\"\n",
       "            allowfullscreen\n",
       "            \n",
       "        ></iframe>\n",
       "        "
      ],
      "text/plain": [
       "<IPython.lib.display.IFrame at 0x290c4e36bd0>"
      ]
     },
     "metadata": {},
     "output_type": "display_data"
    }
   ],
   "source": [
    "# Initialize app\n",
    "app = dash.Dash()\n",
    "\n",
    "# app layout\n",
    "app.layout = html.Div(children=[\n",
    "        # Scatter plot section\n",
    "        dcc.Graph(\n",
    "            id=\"scatter\",\n",
    "            figure=scatter_figure,\n",
    "        ),\n",
    "        # Placeholder for detailed graph\n",
    "        html.Div(id=\"detailed-graph\", style={\"margin-top\": \"20px\"}), \n",
    "    ],\n",
    "    style={\n",
    "        \"fontFamily\": \"Verdana\",\n",
    "        \"padding\": \"20px\",\n",
    "        \"background-color\": \"#f7f7f7\",\n",
    "        \"color\": \"#444\",\n",
    "    }\n",
    ")\n",
    "\n",
    "# Callback to update the detailed graph based on click\n",
    "@app.callback(\n",
    "    Output(\"detailed-graph\", \"children\"),\n",
    "    [Input(\"scatter\", \"clickData\")]\n",
    ")\n",
    "def display_detailed_graph(click_data):\n",
    "    \"\"\"\n",
    "    Display a detailed line chart below the scatter plot when a point is clicked.\n",
    "    Args:\n",
    "        click_data: Information about the clicked data point.\n",
    "    Returns:\n",
    "        A new line chart as a Dash component.\n",
    "    \"\"\"\n",
    "    if click_data is None:\n",
    "        return None\n",
    "\n",
    "    clicked_point = click_data[\"points\"][0]\n",
    "    selected_data = new_books[new_books[\"Entity\"] == clicked_point[\"text\"]]\n",
    "\n",
    "    # Create a line chart for the selected country\n",
    "    fig = px.line(\n",
    "        data_frame=selected_data,\n",
    "        x=\"Year\",\n",
    "        y=\"Book titles per capita (Fink-Jensen 2015)\",\n",
    "        template=\"none\",\n",
    "        title=f\"Book titles per capita in {clicked_point['text']} (1940-1996)\"\n",
    "    )\n",
    "\n",
    "    # Return the graph as a child of the container\n",
    "    return dcc.Graph(figure=fig, style={\"height\": \"400px\", \"width\": \"100%\"})\n",
    "\n",
    "# Run the app\n",
    "if __name__ == \"__main__\":\n",
    "    app.run_server(debug=True)"
   ]
  }
 ],
 "metadata": {
  "kernelspec": {
   "display_name": "base",
   "language": "python",
   "name": "python3"
  },
  "language_info": {
   "codemirror_mode": {
    "name": "ipython",
    "version": 3
   },
   "file_extension": ".py",
   "mimetype": "text/x-python",
   "name": "python",
   "nbconvert_exporter": "python",
   "pygments_lexer": "ipython3",
   "version": "3.12.7"
  }
 },
 "nbformat": 4,
 "nbformat_minor": 2
}
