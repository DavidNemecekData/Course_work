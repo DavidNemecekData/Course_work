{
  "cells": [
    {
      "cell_type": "code",
      "execution_count": 1,
      "metadata": {
        "id": "7f1CkOA04NOD"
      },
      "outputs": [],
      "source": [
        "import plotly.express as px\n",
        "import pandas as pd\n",
        "import numpy as np\n",
        "from dash import Dash, dcc, html, callback, Input, Output\n",
        "import dash_daq as daq"
      ]
    },
    {
      "cell_type": "code",
      "execution_count": 2,
      "metadata": {},
      "outputs": [],
      "source": [
        "population = pd.read_csv(\"../Dash_crossfiltering/population.csv\")\n",
        "new_books = pd.read_csv(\"../Dash_crossfiltering/new-books-per-million.csv\")"
      ]
    },
    {
      "cell_type": "code",
      "execution_count": 3,
      "metadata": {
        "id": "f4WsWrBA4Rf6"
      },
      "outputs": [],
      "source": [
        "data = pd.merge(new_books, population, how=\"inner\", on=[\"Entity\",\"Year\"])\n",
        "data = data[(data[\"Year\"]>=1980) & (data[\"Year\"]<=1996)]\n",
        "countries_list = data[[\"Entity\", \"Year\"]].groupby(\"Entity\").count().sort_values(by=\"Year\", ascending=False)\n",
        "countries_list=countries_list[countries_list[\"Year\"]==countries_list[\"Year\"].max()]\n",
        "data = pd.merge(data, countries_list, how=\"inner\", on=[\"Entity\"], suffixes=(\"\",\"_z\"))\n",
        "data = data[data[\"Entity\"]!=\"Russia\"]"
      ]
    },
    {
      "cell_type": "code",
      "execution_count": 4,
      "metadata": {
        "id": "ZBDHKQle4WC0"
      },
      "outputs": [
        {
          "data": {
            "application/vnd.plotly.v1+json": {
              "config": {
                "plotlyServerURL": "https://plot.ly"
              },
              "data": [
                {
                  "hovertemplate": "<b>%{hovertext}</b><br><br>Year=1980<br>Population (historical estimates)=%{marker.size}<br>Book titles per capita (Fink-Jensen 2015)=%{y}<br>Entity=%{text}<extra></extra>",
                  "hovertext": [
                    "Belgium",
                    "Bulgaria",
                    "Denmark",
                    "Estonia",
                    "Finland",
                    "France",
                    "Germany",
                    "Hungary",
                    "Italy",
                    "Latvia",
                    "Netherlands",
                    "Norway",
                    "Poland",
                    "South Korea",
                    "Spain",
                    "Sweden",
                    "Switzerland"
                  ],
                  "ids": [
                    "Belgium",
                    "Bulgaria",
                    "Denmark",
                    "Estonia",
                    "Finland",
                    "France",
                    "Germany",
                    "Hungary",
                    "Italy",
                    "Latvia",
                    "Netherlands",
                    "Norway",
                    "Poland",
                    "South Korea",
                    "Spain",
                    "Sweden",
                    "Switzerland"
                  ],
                  "legendgroup": "",
                  "marker": {
                    "color": "#636efa",
                    "line": {
                      "color": "black",
                      "width": 1
                    },
                    "size": [
                      9868999,
                      8878787,
                      5123945,
                      1474438,
                      4788247,
                      53868006,
                      78283101,
                      10754286,
                      56349352,
                      2521381,
                      14148410,
                      4086070,
                      35539723,
                      38045605,
                      37698200,
                      8316331,
                      6283833
                    ],
                    "sizemode": "area",
                    "sizeref": 66386.66612244898,
                    "symbol": "circle"
                  },
                  "mode": "markers+text",
                  "name": "",
                  "orientation": "v",
                  "showlegend": false,
                  "text": [
                    "Belgium",
                    "Bulgaria",
                    "Denmark",
                    "Estonia",
                    "Finland",
                    "France",
                    "Germany",
                    "Hungary",
                    "Italy",
                    "Latvia",
                    "Netherlands",
                    "Norway",
                    "Poland",
                    "South Korea",
                    "Spain",
                    "Sweden",
                    "Switzerland"
                  ],
                  "textposition": "top center",
                  "type": "scatter",
                  "x": [
                    9868999,
                    8878787,
                    5123945,
                    1474438,
                    4788247,
                    53868006,
                    78283101,
                    10754286,
                    56349352,
                    2521381,
                    14148410,
                    4086070,
                    35539723,
                    38045605,
                    37698200,
                    8316331,
                    6283833
                  ],
                  "xaxis": "x",
                  "y": [
                    1006.4183287971726,
                    529.3136404385218,
                    2040.2000614090064,
                    1430.3101614091524,
                    1362.2664129460293,
                    586.4271457085829,
                    827.1102633858501,
                    863.961777300268,
                    213.0865240231097,
                    1008.4993600822012,
                    2503.19908206371,
                    2035.676347775858,
                    335.0102490256904,
                    550.2570559227782,
                    762.8767969577757,
                    2367.9903730445244,
                    1223.918515686751
                  ],
                  "yaxis": "y"
                }
              ],
              "frames": [
                {
                  "data": [
                    {
                      "hovertemplate": "<b>%{hovertext}</b><br><br>Year=1980<br>Population (historical estimates)=%{marker.size}<br>Book titles per capita (Fink-Jensen 2015)=%{y}<br>Entity=%{text}<extra></extra>",
                      "hovertext": [
                        "Belgium",
                        "Bulgaria",
                        "Denmark",
                        "Estonia",
                        "Finland",
                        "France",
                        "Germany",
                        "Hungary",
                        "Italy",
                        "Latvia",
                        "Netherlands",
                        "Norway",
                        "Poland",
                        "South Korea",
                        "Spain",
                        "Sweden",
                        "Switzerland"
                      ],
                      "ids": [
                        "Belgium",
                        "Bulgaria",
                        "Denmark",
                        "Estonia",
                        "Finland",
                        "France",
                        "Germany",
                        "Hungary",
                        "Italy",
                        "Latvia",
                        "Netherlands",
                        "Norway",
                        "Poland",
                        "South Korea",
                        "Spain",
                        "Sweden",
                        "Switzerland"
                      ],
                      "legendgroup": "",
                      "marker": {
                        "color": "#636efa",
                        "size": [
                          9868999,
                          8878787,
                          5123945,
                          1474438,
                          4788247,
                          53868006,
                          78283101,
                          10754286,
                          56349352,
                          2521381,
                          14148410,
                          4086070,
                          35539723,
                          38045605,
                          37698200,
                          8316331,
                          6283833
                        ],
                        "sizemode": "area",
                        "sizeref": 66386.66612244898,
                        "symbol": "circle"
                      },
                      "mode": "markers+text",
                      "name": "",
                      "orientation": "v",
                      "showlegend": false,
                      "text": [
                        "Belgium",
                        "Bulgaria",
                        "Denmark",
                        "Estonia",
                        "Finland",
                        "France",
                        "Germany",
                        "Hungary",
                        "Italy",
                        "Latvia",
                        "Netherlands",
                        "Norway",
                        "Poland",
                        "South Korea",
                        "Spain",
                        "Sweden",
                        "Switzerland"
                      ],
                      "type": "scatter",
                      "x": [
                        9868999,
                        8878787,
                        5123945,
                        1474438,
                        4788247,
                        53868006,
                        78283101,
                        10754286,
                        56349352,
                        2521381,
                        14148410,
                        4086070,
                        35539723,
                        38045605,
                        37698200,
                        8316331,
                        6283833
                      ],
                      "xaxis": "x",
                      "y": [
                        1006.4183287971726,
                        529.3136404385218,
                        2040.2000614090064,
                        1430.3101614091524,
                        1362.2664129460293,
                        586.4271457085829,
                        827.1102633858501,
                        863.961777300268,
                        213.0865240231097,
                        1008.4993600822012,
                        2503.19908206371,
                        2035.676347775858,
                        335.0102490256904,
                        550.2570559227782,
                        762.8767969577757,
                        2367.9903730445244,
                        1223.918515686751
                      ],
                      "yaxis": "y"
                    }
                  ],
                  "name": "1980"
                },
                {
                  "data": [
                    {
                      "hovertemplate": "<b>%{hovertext}</b><br><br>Year=1981<br>Population (historical estimates)=%{marker.size}<br>Book titles per capita (Fink-Jensen 2015)=%{y}<br>Entity=%{text}<extra></extra>",
                      "hovertext": [
                        "Belgium",
                        "Bulgaria",
                        "Denmark",
                        "Estonia",
                        "Finland",
                        "France",
                        "Germany",
                        "Hungary",
                        "Italy",
                        "Latvia",
                        "Netherlands",
                        "Norway",
                        "Poland",
                        "South Korea",
                        "Spain",
                        "Sweden",
                        "Switzerland"
                      ],
                      "ids": [
                        "Belgium",
                        "Bulgaria",
                        "Denmark",
                        "Estonia",
                        "Finland",
                        "France",
                        "Germany",
                        "Hungary",
                        "Italy",
                        "Latvia",
                        "Netherlands",
                        "Norway",
                        "Poland",
                        "South Korea",
                        "Spain",
                        "Sweden",
                        "Switzerland"
                      ],
                      "legendgroup": "",
                      "marker": {
                        "color": "#636efa",
                        "size": [
                          9880594,
                          8905097,
                          5125296,
                          1483879,
                          4809807,
                          54121009,
                          78107860,
                          10746489,
                          56505476,
                          2531016,
                          14223757,
                          4098974,
                          35878440,
                          38602287,
                          37971968,
                          8325493,
                          6295921
                        ],
                        "sizemode": "area",
                        "sizeref": 66386.66612244898,
                        "symbol": "circle"
                      },
                      "mode": "markers+text",
                      "name": "",
                      "orientation": "v",
                      "showlegend": false,
                      "text": [
                        "Belgium",
                        "Bulgaria",
                        "Denmark",
                        "Estonia",
                        "Finland",
                        "France",
                        "Germany",
                        "Hungary",
                        "Italy",
                        "Latvia",
                        "Netherlands",
                        "Norway",
                        "Poland",
                        "South Korea",
                        "Spain",
                        "Sweden",
                        "Switzerland"
                      ],
                      "type": "scatter",
                      "x": [
                        9880594,
                        8905097,
                        5125296,
                        1483879,
                        4809807,
                        54121009,
                        78107860,
                        10746489,
                        56505476,
                        2531016,
                        14223757,
                        4098974,
                        35878440,
                        38602287,
                        37971968,
                        8325493,
                        6295921
                      ],
                      "xaxis": "x",
                      "y": [
                        980.1672688887988,
                        567.792265600504,
                        2022.4259270395885,
                        1410.282337720432,
                        1713.971188117244,
                        673.441758876514,
                        797.7747458190707,
                        822.4537913532754,
                        238.1664991784698,
                        905.8028140589424,
                        2441.0276842372223,
                        2038.9286831091624,
                        290.65264707964,
                        664.901996229631,
                        784.7515814234399,
                        2298.918269230769,
                        1210.1876133189116
                      ],
                      "yaxis": "y"
                    }
                  ],
                  "name": "1981"
                },
                {
                  "data": [
                    {
                      "hovertemplate": "<b>%{hovertext}</b><br><br>Year=1982<br>Population (historical estimates)=%{marker.size}<br>Book titles per capita (Fink-Jensen 2015)=%{y}<br>Entity=%{text}<extra></extra>",
                      "hovertext": [
                        "Belgium",
                        "Bulgaria",
                        "Denmark",
                        "Estonia",
                        "Finland",
                        "France",
                        "Germany",
                        "Hungary",
                        "Italy",
                        "Latvia",
                        "Netherlands",
                        "Norway",
                        "Poland",
                        "South Korea",
                        "Spain",
                        "Sweden",
                        "Switzerland"
                      ],
                      "ids": [
                        "Belgium",
                        "Bulgaria",
                        "Denmark",
                        "Estonia",
                        "Finland",
                        "France",
                        "Germany",
                        "Hungary",
                        "Italy",
                        "Latvia",
                        "Netherlands",
                        "Norway",
                        "Poland",
                        "South Korea",
                        "Spain",
                        "Sweden",
                        "Switzerland"
                      ],
                      "legendgroup": "",
                      "marker": {
                        "color": "#636efa",
                        "size": [
                          9889819,
                          8930708,
                          5123349,
                          1492640,
                          4835102,
                          54391469,
                          77926016,
                          10715857,
                          56644860,
                          2540444,
                          14295209,
                          4111649,
                          36221543,
                          39175221,
                          38209686,
                          8329428,
                          6321409
                        ],
                        "sizemode": "area",
                        "sizeref": 66386.66612244898,
                        "symbol": "circle"
                      },
                      "mode": "markers+text",
                      "name": "",
                      "orientation": "v",
                      "showlegend": false,
                      "text": [
                        "Belgium",
                        "Bulgaria",
                        "Denmark",
                        "Estonia",
                        "Finland",
                        "France",
                        "Germany",
                        "Hungary",
                        "Italy",
                        "Latvia",
                        "Netherlands",
                        "Norway",
                        "Poland",
                        "South Korea",
                        "Spain",
                        "Sweden",
                        "Switzerland"
                      ],
                      "type": "scatter",
                      "x": [
                        9889819,
                        8930708,
                        5123349,
                        1492640,
                        4835102,
                        54391469,
                        77926016,
                        10715857,
                        56644860,
                        2540444,
                        14295209,
                        4111649,
                        36221543,
                        39175221,
                        38209686,
                        8329428,
                        6321409
                      ],
                      "xaxis": "x",
                      "y": [
                        857.8267125107659,
                        570.1691546809312,
                        2081.945207031914,
                        1459.399764501414,
                        1540.522729443313,
                        757.4196096737705,
                        823.7669097849237,
                        825.3674384325492,
                        228.6345553802561,
                        890.9858794018877,
                        2539.481598034884,
                        2069.8519753270334,
                        270.90006865249245,
                        773.9409042363831,
                        846.1084618481118,
                        2344.864864864865,
                        1277.9590255353714
                      ],
                      "yaxis": "y"
                    }
                  ],
                  "name": "1982"
                },
                {
                  "data": [
                    {
                      "hovertemplate": "<b>%{hovertext}</b><br><br>Year=1983<br>Population (historical estimates)=%{marker.size}<br>Book titles per capita (Fink-Jensen 2015)=%{y}<br>Entity=%{text}<extra></extra>",
                      "hovertext": [
                        "Belgium",
                        "Bulgaria",
                        "Denmark",
                        "Estonia",
                        "Finland",
                        "France",
                        "Germany",
                        "Hungary",
                        "Italy",
                        "Latvia",
                        "Netherlands",
                        "Norway",
                        "Poland",
                        "South Korea",
                        "Spain",
                        "Sweden",
                        "Switzerland"
                      ],
                      "ids": [
                        "Belgium",
                        "Bulgaria",
                        "Denmark",
                        "Estonia",
                        "Finland",
                        "France",
                        "Germany",
                        "Hungary",
                        "Italy",
                        "Latvia",
                        "Netherlands",
                        "Norway",
                        "Poland",
                        "South Korea",
                        "Spain",
                        "Sweden",
                        "Switzerland"
                      ],
                      "legendgroup": "",
                      "marker": {
                        "color": "#636efa",
                        "size": [
                          9897877,
                          8953122,
                          5119607,
                          1501422,
                          4862171,
                          54675370,
                          77770210,
                          10669203,
                          56765250,
                          2550932,
                          14365388,
                          4124587,
                          36555782,
                          39747794,
                          38413300,
                          8332441,
                          6356743
                        ],
                        "sizemode": "area",
                        "sizeref": 66386.66612244898,
                        "symbol": "circle"
                      },
                      "mode": "markers+text",
                      "name": "",
                      "orientation": "v",
                      "showlegend": false,
                      "text": [
                        "Belgium",
                        "Bulgaria",
                        "Denmark",
                        "Estonia",
                        "Finland",
                        "France",
                        "Germany",
                        "Hungary",
                        "Italy",
                        "Latvia",
                        "Netherlands",
                        "Norway",
                        "Poland",
                        "South Korea",
                        "Spain",
                        "Sweden",
                        "Switzerland"
                      ],
                      "type": "scatter",
                      "x": [
                        9897877,
                        8953122,
                        5119607,
                        1501422,
                        4862171,
                        54675370,
                        77770210,
                        10669203,
                        56765250,
                        2550932,
                        14365388,
                        4124587,
                        36555782,
                        39747794,
                        38413300,
                        8332441,
                        6356743
                      ],
                      "xaxis": "x",
                      "y": [
                        885.5950776823546,
                        552.6198716000523,
                        2169.995211463081,
                        1437.2758176528102,
                        1769.84698875795,
                        671.8518121189364,
                        827.7346402863585,
                        792.2755333920891,
                        242.2385440796012,
                        859.5912719382558,
                        2552.710445433804,
                        2114.6042855980186,
                        240.32428821873955,
                        889.8020546229016,
                        850.012018070527,
                        2399.4477128106614,
                        1256.8694429365737
                      ],
                      "yaxis": "y"
                    }
                  ],
                  "name": "1983"
                },
                {
                  "data": [
                    {
                      "hovertemplate": "<b>%{hovertext}</b><br><br>Year=1984<br>Population (historical estimates)=%{marker.size}<br>Book titles per capita (Fink-Jensen 2015)=%{y}<br>Entity=%{text}<extra></extra>",
                      "hovertext": [
                        "Belgium",
                        "Bulgaria",
                        "Denmark",
                        "Estonia",
                        "Finland",
                        "France",
                        "Germany",
                        "Hungary",
                        "Italy",
                        "Latvia",
                        "Netherlands",
                        "Norway",
                        "Poland",
                        "South Korea",
                        "Spain",
                        "Sweden",
                        "Switzerland"
                      ],
                      "ids": [
                        "Belgium",
                        "Bulgaria",
                        "Denmark",
                        "Estonia",
                        "Finland",
                        "France",
                        "Germany",
                        "Hungary",
                        "Italy",
                        "Latvia",
                        "Netherlands",
                        "Norway",
                        "Poland",
                        "South Korea",
                        "Spain",
                        "Sweden",
                        "Switzerland"
                      ],
                      "legendgroup": "",
                      "marker": {
                        "color": "#636efa",
                        "size": [
                          9906370,
                          8968909,
                          5116055,
                          1511193,
                          4888197,
                          54965167,
                          77682293,
                          10616742,
                          56863131,
                          2564118,
                          14437510,
                          4138265,
                          36863949,
                          40296230,
                          38586704,
                          8340443,
                          6396144
                        ],
                        "sizemode": "area",
                        "sizeref": 66386.66612244898,
                        "symbol": "circle"
                      },
                      "mode": "markers+text",
                      "name": "",
                      "orientation": "v",
                      "showlegend": false,
                      "text": [
                        "Belgium",
                        "Bulgaria",
                        "Denmark",
                        "Estonia",
                        "Finland",
                        "France",
                        "Germany",
                        "Hungary",
                        "Italy",
                        "Latvia",
                        "Netherlands",
                        "Norway",
                        "Poland",
                        "South Korea",
                        "Spain",
                        "Sweden",
                        "Switzerland"
                      ],
                      "type": "scatter",
                      "x": [
                        9906370,
                        8968909,
                        5116055,
                        1511193,
                        4888197,
                        54965167,
                        77682293,
                        10616742,
                        56863131,
                        2564118,
                        14437510,
                        4138265,
                        36863949,
                        40296230,
                        38586704,
                        8340443,
                        6396144
                      ],
                      "xaxis": "x",
                      "y": [
                        917.4758759246296,
                        601.1242266279776,
                        2316.8784684461034,
                        1269.225123973874,
                        1754.0704348488712,
                        661.1847953632258,
                        706.5789200911402,
                        976.837945293888,
                        252.4297465456836,
                        945.1328363722356,
                        2643.823983070206,
                        2080.628584609773,
                        249.159077950454,
                        877.2459535712518,
                        801.9214208241665,
                        2395.226100515773,
                        1294.8559225836962
                      ],
                      "yaxis": "y"
                    }
                  ],
                  "name": "1984"
                },
                {
                  "data": [
                    {
                      "hovertemplate": "<b>%{hovertext}</b><br><br>Year=1985<br>Population (historical estimates)=%{marker.size}<br>Book titles per capita (Fink-Jensen 2015)=%{y}<br>Entity=%{text}<extra></extra>",
                      "hovertext": [
                        "Belgium",
                        "Bulgaria",
                        "Denmark",
                        "Estonia",
                        "Finland",
                        "France",
                        "Germany",
                        "Hungary",
                        "Italy",
                        "Latvia",
                        "Netherlands",
                        "Norway",
                        "Poland",
                        "South Korea",
                        "Spain",
                        "Sweden",
                        "Switzerland"
                      ],
                      "ids": [
                        "Belgium",
                        "Bulgaria",
                        "Denmark",
                        "Estonia",
                        "Finland",
                        "France",
                        "Germany",
                        "Hungary",
                        "Italy",
                        "Latvia",
                        "Netherlands",
                        "Norway",
                        "Poland",
                        "South Korea",
                        "Spain",
                        "Sweden",
                        "Switzerland"
                      ],
                      "legendgroup": "",
                      "marker": {
                        "color": "#636efa",
                        "size": [
                          9916577,
                          8975353,
                          5114250,
                          1522405,
                          4911220,
                          55254838,
                          77691591,
                          10566321,
                          56936776,
                          2580763,
                          14513947,
                          4153111,
                          37133860,
                          40804406,
                          38733866,
                          8357650,
                          6435424
                        ],
                        "sizemode": "area",
                        "sizeref": 66386.66612244898,
                        "symbol": "circle"
                      },
                      "mode": "markers+text",
                      "name": "",
                      "orientation": "v",
                      "showlegend": false,
                      "text": [
                        "Belgium",
                        "Bulgaria",
                        "Denmark",
                        "Estonia",
                        "Finland",
                        "France",
                        "Germany",
                        "Hungary",
                        "Italy",
                        "Latvia",
                        "Netherlands",
                        "Norway",
                        "Poland",
                        "South Korea",
                        "Spain",
                        "Sweden",
                        "Switzerland"
                      ],
                      "type": "scatter",
                      "x": [
                        9916577,
                        8975353,
                        5114250,
                        1522405,
                        4911220,
                        55254838,
                        77691591,
                        10566321,
                        56936776,
                        2580763,
                        14513947,
                        4153111,
                        37133860,
                        40804406,
                        38733866,
                        8357650,
                        6435424
                      ],
                      "xaxis": "x",
                      "y": [
                        909.0909090909092,
                        578.1805549079769,
                        2365.023619925412,
                        1284.5983419840022,
                        1821.7860725372789,
                        670.2071163037706,
                        780.8466578971381,
                        881.7027935676359,
                        274.0114062425774,
                        884.7435452280056,
                        2787.864233772077,
                        2107.205462647194,
                        259.2020070385608,
                        878.2286918590404,
                        900.0683095897626,
                        2427.6646706586826,
                        1288.5887226395805
                      ],
                      "yaxis": "y"
                    }
                  ],
                  "name": "1985"
                },
                {
                  "data": [
                    {
                      "hovertemplate": "<b>%{hovertext}</b><br><br>Year=1986<br>Population (historical estimates)=%{marker.size}<br>Book titles per capita (Fink-Jensen 2015)=%{y}<br>Entity=%{text}<extra></extra>",
                      "hovertext": [
                        "Belgium",
                        "Bulgaria",
                        "Denmark",
                        "Estonia",
                        "Finland",
                        "France",
                        "Germany",
                        "Hungary",
                        "Italy",
                        "Latvia",
                        "Netherlands",
                        "Norway",
                        "Poland",
                        "South Korea",
                        "Spain",
                        "Sweden",
                        "Switzerland"
                      ],
                      "ids": [
                        "Belgium",
                        "Bulgaria",
                        "Denmark",
                        "Estonia",
                        "Finland",
                        "France",
                        "Germany",
                        "Hungary",
                        "Italy",
                        "Latvia",
                        "Netherlands",
                        "Norway",
                        "Poland",
                        "South Korea",
                        "Spain",
                        "Sweden",
                        "Switzerland"
                      ],
                      "legendgroup": "",
                      "marker": {
                        "color": "#636efa",
                        "size": [
                          9928539,
                          8972555,
                          5114645,
                          1536034,
                          4930342,
                          55545271,
                          77806136,
                          10519296,
                          56983931,
                          2602152,
                          14595749,
                          4169318,
                          37359519,
                          41265123,
                          38855631,
                          8384986,
                          6473047
                        ],
                        "sizemode": "area",
                        "sizeref": 66386.66612244898,
                        "symbol": "circle"
                      },
                      "mode": "markers+text",
                      "name": "",
                      "orientation": "v",
                      "showlegend": false,
                      "text": [
                        "Belgium",
                        "Bulgaria",
                        "Denmark",
                        "Estonia",
                        "Finland",
                        "France",
                        "Germany",
                        "Hungary",
                        "Italy",
                        "Latvia",
                        "Netherlands",
                        "Norway",
                        "Poland",
                        "South Korea",
                        "Spain",
                        "Sweden",
                        "Switzerland"
                      ],
                      "type": "scatter",
                      "x": [
                        9928539,
                        8972555,
                        5114645,
                        1536034,
                        4930342,
                        55545271,
                        77806136,
                        10519296,
                        56983931,
                        2602152,
                        14595749,
                        4169318,
                        37359519,
                        41265123,
                        38855631,
                        8384986,
                        6473047
                      ],
                      "xaxis": "x",
                      "y": [
                        879.6568577744429,
                        549.6290227341476,
                        2155.829841184533,
                        1393.4836575333277,
                        1768.0125172195144,
                        580.5905685323931,
                        903.4468084914736,
                        927.2321701117804,
                        287.2536392878655,
                        802.5294143400737,
                        2763.2682822217457,
                        2160.756646432724,
                        263.46329851730235,
                        1007.9827243169796,
                        992.1835416320266,
                        2424.014336917563,
                        1209.5665247958866
                      ],
                      "yaxis": "y"
                    }
                  ],
                  "name": "1986"
                },
                {
                  "data": [
                    {
                      "hovertemplate": "<b>%{hovertext}</b><br><br>Year=1987<br>Population (historical estimates)=%{marker.size}<br>Book titles per capita (Fink-Jensen 2015)=%{y}<br>Entity=%{text}<extra></extra>",
                      "hovertext": [
                        "Belgium",
                        "Bulgaria",
                        "Denmark",
                        "Estonia",
                        "Finland",
                        "France",
                        "Germany",
                        "Hungary",
                        "Italy",
                        "Latvia",
                        "Netherlands",
                        "Norway",
                        "Poland",
                        "South Korea",
                        "Spain",
                        "Sweden",
                        "Switzerland"
                      ],
                      "ids": [
                        "Belgium",
                        "Bulgaria",
                        "Denmark",
                        "Estonia",
                        "Finland",
                        "France",
                        "Germany",
                        "Hungary",
                        "Italy",
                        "Latvia",
                        "Netherlands",
                        "Norway",
                        "Poland",
                        "South Korea",
                        "Spain",
                        "Sweden",
                        "Switzerland"
                      ],
                      "legendgroup": "",
                      "marker": {
                        "color": "#636efa",
                        "size": [
                          9942281,
                          8960554,
                          5117282,
                          1551209,
                          4946368,
                          55837622,
                          78015742,
                          10474544,
                          57007737,
                          2626906,
                          14682662,
                          4186971,
                          37544332,
                          41686566,
                          38954490,
                          8421056,
                          6510593
                        ],
                        "sizemode": "area",
                        "sizeref": 66386.66612244898,
                        "symbol": "circle"
                      },
                      "mode": "markers+text",
                      "name": "",
                      "orientation": "v",
                      "showlegend": false,
                      "text": [
                        "Belgium",
                        "Bulgaria",
                        "Denmark",
                        "Estonia",
                        "Finland",
                        "France",
                        "Germany",
                        "Hungary",
                        "Italy",
                        "Latvia",
                        "Netherlands",
                        "Norway",
                        "Poland",
                        "South Korea",
                        "Spain",
                        "Sweden",
                        "Switzerland"
                      ],
                      "type": "scatter",
                      "x": [
                        9942281,
                        8960554,
                        5117282,
                        1551209,
                        4946368,
                        55837622,
                        78015742,
                        10474544,
                        57007737,
                        2626906,
                        14682662,
                        4186971,
                        37544332,
                        41686566,
                        38954490,
                        8421056,
                        6510593
                      ],
                      "xaxis": "x",
                      "y": [
                        921.5618731130068,
                        510.8138045229369,
                        2163.633328028111,
                        1440.254406538371,
                        1846.4112687457075,
                        763.3929354787766,
                        928.803150063837,
                        858.496486298543,
                        301.5880411007969,
                        817.300341831621,
                        2825.1765837647263,
                        2385.726062653796,
                        275.9884485480003,
                        1064.0526644562972,
                        985.115958040058,
                        2397.9518933079307,
                        1398.2076836158872
                      ],
                      "yaxis": "y"
                    }
                  ],
                  "name": "1987"
                },
                {
                  "data": [
                    {
                      "hovertemplate": "<b>%{hovertext}</b><br><br>Year=1988<br>Population (historical estimates)=%{marker.size}<br>Book titles per capita (Fink-Jensen 2015)=%{y}<br>Entity=%{text}<extra></extra>",
                      "hovertext": [
                        "Belgium",
                        "Bulgaria",
                        "Denmark",
                        "Estonia",
                        "Finland",
                        "France",
                        "Germany",
                        "Hungary",
                        "Italy",
                        "Latvia",
                        "Netherlands",
                        "Norway",
                        "Poland",
                        "South Korea",
                        "Spain",
                        "Sweden",
                        "Switzerland"
                      ],
                      "ids": [
                        "Belgium",
                        "Bulgaria",
                        "Denmark",
                        "Estonia",
                        "Finland",
                        "France",
                        "Germany",
                        "Hungary",
                        "Italy",
                        "Latvia",
                        "Netherlands",
                        "Norway",
                        "Poland",
                        "South Korea",
                        "Spain",
                        "Sweden",
                        "Switzerland"
                      ],
                      "legendgroup": "",
                      "marker": {
                        "color": "#636efa",
                        "size": [
                          9959011,
                          8936652,
                          5122442,
                          1564200,
                          4961097,
                          56126337,
                          78307525,
                          10434539,
                          57018193,
                          2649835,
                          14774031,
                          4205959,
                          37697360,
                          42086668,
                          39038686,
                          8464790,
                          6550730
                        ],
                        "sizemode": "area",
                        "sizeref": 66386.66612244898,
                        "symbol": "circle"
                      },
                      "mode": "markers+text",
                      "name": "",
                      "orientation": "v",
                      "showlegend": false,
                      "text": [
                        "Belgium",
                        "Bulgaria",
                        "Denmark",
                        "Estonia",
                        "Finland",
                        "France",
                        "Germany",
                        "Hungary",
                        "Italy",
                        "Latvia",
                        "Netherlands",
                        "Norway",
                        "Poland",
                        "South Korea",
                        "Spain",
                        "Sweden",
                        "Switzerland"
                      ],
                      "type": "scatter",
                      "x": [
                        9959011,
                        8936652,
                        5122442,
                        1564200,
                        4961097,
                        56126337,
                        78307525,
                        10434539,
                        57018193,
                        2649835,
                        14774031,
                        4205959,
                        37697360,
                        42086668,
                        39038686,
                        8464790,
                        6550730
                      ],
                      "xaxis": "x",
                      "y": [
                        947.0861999190612,
                        487.5292598272661,
                        2694.4062558728738,
                        1347.8317115805828,
                        2099.6099771298987,
                        681.6173259977294,
                        962.9174575319016,
                        825.5685898970553,
                        345.824208812112,
                        741.7228088772508,
                        2973.4429918586657,
                        2573.9362168483644,
                        283.30856231996125,
                        1019.2952820537224,
                        907.1057496180724,
                        2425.320056899004,
                        1302.782531079433
                      ],
                      "yaxis": "y"
                    }
                  ],
                  "name": "1988"
                },
                {
                  "data": [
                    {
                      "hovertemplate": "<b>%{hovertext}</b><br><br>Year=1989<br>Population (historical estimates)=%{marker.size}<br>Book titles per capita (Fink-Jensen 2015)=%{y}<br>Entity=%{text}<extra></extra>",
                      "hovertext": [
                        "Belgium",
                        "Bulgaria",
                        "Denmark",
                        "Estonia",
                        "Finland",
                        "France",
                        "Germany",
                        "Hungary",
                        "Italy",
                        "Latvia",
                        "Netherlands",
                        "Norway",
                        "Poland",
                        "South Korea",
                        "Spain",
                        "Sweden",
                        "Switzerland"
                      ],
                      "ids": [
                        "Belgium",
                        "Bulgaria",
                        "Denmark",
                        "Estonia",
                        "Finland",
                        "France",
                        "Germany",
                        "Hungary",
                        "Italy",
                        "Latvia",
                        "Netherlands",
                        "Norway",
                        "Poland",
                        "South Korea",
                        "Spain",
                        "Sweden",
                        "Switzerland"
                      ],
                      "legendgroup": "",
                      "marker": {
                        "color": "#636efa",
                        "size": [
                          9980175,
                          8897541,
                          5130362,
                          1569967,
                          4977118,
                          56404303,
                          78660301,
                          10401614,
                          57028707,
                          2663943,
                          14868659,
                          4226116,
                          37832568,
                          42491200,
                          39118555,
                          8514204,
                          6597360
                        ],
                        "sizemode": "area",
                        "sizeref": 66386.66612244898,
                        "symbol": "circle"
                      },
                      "mode": "markers+text",
                      "name": "",
                      "orientation": "v",
                      "showlegend": false,
                      "text": [
                        "Belgium",
                        "Bulgaria",
                        "Denmark",
                        "Estonia",
                        "Finland",
                        "France",
                        "Germany",
                        "Hungary",
                        "Italy",
                        "Latvia",
                        "Netherlands",
                        "Norway",
                        "Poland",
                        "South Korea",
                        "Spain",
                        "Sweden",
                        "Switzerland"
                      ],
                      "type": "scatter",
                      "x": [
                        9980175,
                        8897541,
                        5130362,
                        1569967,
                        4977118,
                        56404303,
                        78660301,
                        10401614,
                        57028707,
                        2663943,
                        14868659,
                        4226116,
                        37832568,
                        42491200,
                        39118555,
                        8514204,
                        6597360
                      ],
                      "xaxis": "x",
                      "y": [
                        966.1192125298246,
                        505.3361742503244,
                        2669.995458435921,
                        1317.6941498199149,
                        2034.6841403252956,
                        693.7790768060048,
                        915.4819598378606,
                        830.0667467528964,
                        399.1537946603208,
                        722.450979620284,
                        2940.82251306443,
                        2934.3547850498167,
                        270.8969715820228,
                        925.0394591156448,
                        978.030511808087,
                        2345.578711880372,
                        1377.8057508272525
                      ],
                      "yaxis": "y"
                    }
                  ],
                  "name": "1989"
                },
                {
                  "data": [
                    {
                      "hovertemplate": "<b>%{hovertext}</b><br><br>Year=1990<br>Population (historical estimates)=%{marker.size}<br>Book titles per capita (Fink-Jensen 2015)=%{y}<br>Entity=%{text}<extra></extra>",
                      "hovertext": [
                        "Belgium",
                        "Bulgaria",
                        "Denmark",
                        "Estonia",
                        "Finland",
                        "France",
                        "Germany",
                        "Hungary",
                        "Italy",
                        "Latvia",
                        "Netherlands",
                        "Norway",
                        "Poland",
                        "South Korea",
                        "Spain",
                        "Sweden",
                        "Switzerland"
                      ],
                      "ids": [
                        "Belgium",
                        "Bulgaria",
                        "Denmark",
                        "Estonia",
                        "Finland",
                        "France",
                        "Germany",
                        "Hungary",
                        "Italy",
                        "Latvia",
                        "Netherlands",
                        "Norway",
                        "Poland",
                        "South Korea",
                        "Spain",
                        "Sweden",
                        "Switzerland"
                      ],
                      "legendgroup": "",
                      "marker": {
                        "color": "#636efa",
                        "size": [
                          10006545,
                          8841466,
                          5141117,
                          1565246,
                          4996220,
                          56666861,
                          79053984,
                          10377135,
                          57048237,
                          2664447,
                          14965442,
                          4247286,
                          37960193,
                          42918416,
                          39202524,
                          8567375,
                          6652873
                        ],
                        "sizemode": "area",
                        "sizeref": 66386.66612244898,
                        "symbol": "circle"
                      },
                      "mode": "markers+text",
                      "name": "",
                      "orientation": "v",
                      "showlegend": false,
                      "text": [
                        "Belgium",
                        "Bulgaria",
                        "Denmark",
                        "Estonia",
                        "Finland",
                        "France",
                        "Germany",
                        "Hungary",
                        "Italy",
                        "Latvia",
                        "Netherlands",
                        "Norway",
                        "Poland",
                        "South Korea",
                        "Spain",
                        "Sweden",
                        "Switzerland"
                      ],
                      "type": "scatter",
                      "x": [
                        10006545,
                        8841466,
                        5141117,
                        1565246,
                        4996220,
                        56666861,
                        79053984,
                        10377135,
                        57048237,
                        2664447,
                        14965442,
                        4247286,
                        37960193,
                        42918416,
                        39202524,
                        8567375,
                        6652873
                      ],
                      "xaxis": "x",
                      "y": [
                        989.4365808666798,
                        383.6282053530751,
                        2604.5749485406795,
                        1037.39066934638,
                        2036.1256377557415,
                        717.232842800165,
                        768.6406797124238,
                        802.3619251981174,
                        441.7822526686429,
                        587.1774559898481,
                        3041.2981698838444,
                        3919.3721083845703,
                        268.6820319979786,
                        917.4461732254076,
                        920.92228235743,
                        2483.0003505082373,
                        1430.6764769639294
                      ],
                      "yaxis": "y"
                    }
                  ],
                  "name": "1990"
                },
                {
                  "data": [
                    {
                      "hovertemplate": "<b>%{hovertext}</b><br><br>Year=1991<br>Population (historical estimates)=%{marker.size}<br>Book titles per capita (Fink-Jensen 2015)=%{y}<br>Entity=%{text}<extra></extra>",
                      "hovertext": [
                        "Belgium",
                        "Bulgaria",
                        "Denmark",
                        "Estonia",
                        "Finland",
                        "France",
                        "Germany",
                        "Hungary",
                        "Italy",
                        "Latvia",
                        "Netherlands",
                        "Norway",
                        "Poland",
                        "South Korea",
                        "Spain",
                        "Sweden",
                        "Switzerland"
                      ],
                      "ids": [
                        "Belgium",
                        "Bulgaria",
                        "Denmark",
                        "Estonia",
                        "Finland",
                        "France",
                        "Germany",
                        "Hungary",
                        "Italy",
                        "Latvia",
                        "Netherlands",
                        "Norway",
                        "Poland",
                        "South Korea",
                        "Spain",
                        "Sweden",
                        "Switzerland"
                      ],
                      "legendgroup": "",
                      "marker": {
                        "color": "#636efa",
                        "size": [
                          10039450,
                          8767000,
                          5154906,
                          1548220,
                          5019134,
                          56913580,
                          79490831,
                          10363050,
                          57088125,
                          2649161,
                          15064522,
                          4269465,
                          38082940,
                          43373148,
                          39299081,
                          8625140,
                          6718818
                        ],
                        "sizemode": "area",
                        "sizeref": 66386.66612244898,
                        "symbol": "circle"
                      },
                      "mode": "markers+text",
                      "name": "",
                      "orientation": "v",
                      "showlegend": false,
                      "text": [
                        "Belgium",
                        "Bulgaria",
                        "Denmark",
                        "Estonia",
                        "Finland",
                        "France",
                        "Germany",
                        "Hungary",
                        "Italy",
                        "Latvia",
                        "Netherlands",
                        "Norway",
                        "Poland",
                        "South Korea",
                        "Spain",
                        "Sweden",
                        "Switzerland"
                      ],
                      "type": "scatter",
                      "x": [
                        10039450,
                        8767000,
                        5154906,
                        1548220,
                        5019134,
                        56913580,
                        79490831,
                        10363050,
                        57088125,
                        2649161,
                        15064522,
                        4269465,
                        38082940,
                        43373148,
                        39299081,
                        8625140,
                        6718818
                      ],
                      "xaxis": "x",
                      "y": [
                        983.4587220714068,
                        371.62143676599067,
                        2668.03664165738,
                        1060.5643818365204,
                        2235.4364546073566,
                        746.5221998154287,
                        848.7921696178062,
                        784.6798235208477,
                        489.0262757478035,
                        523.1380133881089,
                        3122.017334142207,
                        4171.30777549884,
                        279.4013011505279,
                        679.096949649802,
                        990.3850895576028,
                        2380.4108158291747,
                        1508.2590113346284
                      ],
                      "yaxis": "y"
                    }
                  ],
                  "name": "1991"
                },
                {
                  "data": [
                    {
                      "hovertemplate": "<b>%{hovertext}</b><br><br>Year=1992<br>Population (historical estimates)=%{marker.size}<br>Book titles per capita (Fink-Jensen 2015)=%{y}<br>Entity=%{text}<extra></extra>",
                      "hovertext": [
                        "Belgium",
                        "Bulgaria",
                        "Denmark",
                        "Estonia",
                        "Finland",
                        "France",
                        "Germany",
                        "Hungary",
                        "Italy",
                        "Latvia",
                        "Netherlands",
                        "Norway",
                        "Poland",
                        "South Korea",
                        "Spain",
                        "Sweden",
                        "Switzerland"
                      ],
                      "ids": [
                        "Belgium",
                        "Bulgaria",
                        "Denmark",
                        "Estonia",
                        "Finland",
                        "France",
                        "Germany",
                        "Hungary",
                        "Italy",
                        "Latvia",
                        "Netherlands",
                        "Norway",
                        "Poland",
                        "South Korea",
                        "Spain",
                        "Sweden",
                        "Switzerland"
                      ],
                      "legendgroup": "",
                      "marker": {
                        "color": "#636efa",
                        "size": [
                          10078098,
                          8676379,
                          5171654,
                          1520811,
                          5044928,
                          57147213,
                          79963166,
                          10358622,
                          57145308,
                          2620254,
                          15165856,
                          4292685,
                          38197588,
                          43848223,
                          39410852,
                          8686735,
                          6792906
                        ],
                        "sizemode": "area",
                        "sizeref": 66386.66612244898,
                        "symbol": "circle"
                      },
                      "mode": "markers+text",
                      "name": "",
                      "orientation": "v",
                      "showlegend": false,
                      "text": [
                        "Belgium",
                        "Bulgaria",
                        "Denmark",
                        "Estonia",
                        "Finland",
                        "France",
                        "Germany",
                        "Hungary",
                        "Italy",
                        "Latvia",
                        "Netherlands",
                        "Norway",
                        "Poland",
                        "South Korea",
                        "Spain",
                        "Sweden",
                        "Switzerland"
                      ],
                      "type": "scatter",
                      "x": [
                        10078098,
                        8676379,
                        5171654,
                        1520811,
                        5044928,
                        57147213,
                        79963166,
                        10358622,
                        57145308,
                        2620254,
                        15165856,
                        4292685,
                        38197588,
                        43848223,
                        39410852,
                        8686735,
                        6792906
                      ],
                      "xaxis": "x",
                      "y": [
                        1002.4267287779692,
                        551.2498345557536,
                        2833.279157085915,
                        1018.5024677588694,
                        2188.6361125156936,
                        770.978100205576,
                        834.7253901485407,
                        824.8391776191061,
                        516.3716156446437,
                        576.8637496755381,
                        3174.457982882047,
                        4573.8140803484175,
                        279.5622920271685,
                        636.1960635411341,
                        1057.3095880654485,
                        2399.976926626673,
                        1468.6695503518215
                      ],
                      "yaxis": "y"
                    }
                  ],
                  "name": "1992"
                },
                {
                  "data": [
                    {
                      "hovertemplate": "<b>%{hovertext}</b><br><br>Year=1993<br>Population (historical estimates)=%{marker.size}<br>Book titles per capita (Fink-Jensen 2015)=%{y}<br>Entity=%{text}<extra></extra>",
                      "hovertext": [
                        "Belgium",
                        "Bulgaria",
                        "Denmark",
                        "Estonia",
                        "Finland",
                        "France",
                        "Germany",
                        "Hungary",
                        "Italy",
                        "Latvia",
                        "Netherlands",
                        "Norway",
                        "Poland",
                        "South Korea",
                        "Spain",
                        "Sweden",
                        "Switzerland"
                      ],
                      "ids": [
                        "Belgium",
                        "Bulgaria",
                        "Denmark",
                        "Estonia",
                        "Finland",
                        "France",
                        "Germany",
                        "Hungary",
                        "Italy",
                        "Latvia",
                        "Netherlands",
                        "Norway",
                        "Poland",
                        "South Korea",
                        "Spain",
                        "Sweden",
                        "Switzerland"
                      ],
                      "legendgroup": "",
                      "marker": {
                        "color": "#636efa",
                        "size": [
                          10118684,
                          8576042,
                          5190745,
                          1488060,
                          5071782,
                          57370375,
                          80428557,
                          10359052,
                          57197610,
                          2582658,
                          15268005,
                          4316790,
                          38301349,
                          44335037,
                          39533726,
                          8746770,
                          6868937
                        ],
                        "sizemode": "area",
                        "sizeref": 66386.66612244898,
                        "symbol": "circle"
                      },
                      "mode": "markers+text",
                      "name": "",
                      "orientation": "v",
                      "showlegend": false,
                      "text": [
                        "Belgium",
                        "Bulgaria",
                        "Denmark",
                        "Estonia",
                        "Finland",
                        "France",
                        "Germany",
                        "Hungary",
                        "Italy",
                        "Latvia",
                        "Netherlands",
                        "Norway",
                        "Poland",
                        "South Korea",
                        "Spain",
                        "Sweden",
                        "Switzerland"
                      ],
                      "type": "scatter",
                      "x": [
                        10118684,
                        8576042,
                        5190745,
                        1488060,
                        5071782,
                        57370375,
                        80428557,
                        10359052,
                        57197610,
                        2582658,
                        15268005,
                        4316790,
                        38301349,
                        44335037,
                        39533726,
                        8746770,
                        6868937
                      ],
                      "xaxis": "x",
                      "y": [
                        994.6035001397064,
                        683.6161458027319,
                        2783.7173255806333,
                        1317.5310072373688,
                        2326.8229675690045,
                        696.8851932599841,
                        828.3510167199557,
                        887.7906231496294,
                        527.9978626169552,
                        629.0661291152384,
                        3314.644337111067,
                        4618.081227023232,
                        254.4469332827559,
                        696.5259108496488,
                        1028.5259104976542,
                        2498.2222731964675,
                        1502.0803430217657
                      ],
                      "yaxis": "y"
                    }
                  ],
                  "name": "1993"
                },
                {
                  "data": [
                    {
                      "hovertemplate": "<b>%{hovertext}</b><br><br>Year=1994<br>Population (historical estimates)=%{marker.size}<br>Book titles per capita (Fink-Jensen 2015)=%{y}<br>Entity=%{text}<extra></extra>",
                      "hovertext": [
                        "Belgium",
                        "Bulgaria",
                        "Denmark",
                        "Estonia",
                        "Finland",
                        "France",
                        "Germany",
                        "Hungary",
                        "Italy",
                        "Latvia",
                        "Netherlands",
                        "Norway",
                        "Poland",
                        "South Korea",
                        "Spain",
                        "Sweden",
                        "Switzerland"
                      ],
                      "ids": [
                        "Belgium",
                        "Bulgaria",
                        "Denmark",
                        "Estonia",
                        "Finland",
                        "France",
                        "Germany",
                        "Hungary",
                        "Italy",
                        "Latvia",
                        "Netherlands",
                        "Norway",
                        "Poland",
                        "South Korea",
                        "Spain",
                        "Sweden",
                        "Switzerland"
                      ],
                      "legendgroup": "",
                      "marker": {
                        "color": "#636efa",
                        "size": [
                          10155909,
                          8474822,
                          5211334,
                          1457090,
                          5097090,
                          57587122,
                          80832928,
                          10357586,
                          57213538,
                          2543632,
                          15369121,
                          4341616,
                          38389469,
                          44820070,
                          39660079,
                          8798235,
                          6938407
                        ],
                        "sizemode": "area",
                        "sizeref": 66386.66612244898,
                        "symbol": "circle"
                      },
                      "mode": "markers+text",
                      "name": "",
                      "orientation": "v",
                      "showlegend": false,
                      "text": [
                        "Belgium",
                        "Bulgaria",
                        "Denmark",
                        "Estonia",
                        "Finland",
                        "France",
                        "Germany",
                        "Hungary",
                        "Italy",
                        "Latvia",
                        "Netherlands",
                        "Norway",
                        "Poland",
                        "South Korea",
                        "Spain",
                        "Sweden",
                        "Switzerland"
                      ],
                      "type": "scatter",
                      "x": [
                        10155909,
                        8474822,
                        5211334,
                        1457090,
                        5097090,
                        57587122,
                        80832928,
                        10357586,
                        57213538,
                        2543632,
                        15369121,
                        4341616,
                        38389469,
                        44820070,
                        39660079,
                        8798235,
                        6938407
                      ],
                      "xaxis": "x",
                      "y": [
                        1080.6176956556185,
                        709.2975440348077,
                        2910.901964671528,
                        1561.1211998350975,
                        2465.373874075804,
                        762.2339978131046,
                        867.6991389360702,
                        980.1493573854564,
                        571.4114823749647,
                        664.5447729610719,
                        3384.236765122904,
                        4841.307944080184,
                        282.08769591268054,
                        764.8668078731906,
                        1115.1402670395744,
                        2663.81961052272,
                        1475.150150466721
                      ],
                      "yaxis": "y"
                    }
                  ],
                  "name": "1994"
                },
                {
                  "data": [
                    {
                      "hovertemplate": "<b>%{hovertext}</b><br><br>Year=1995<br>Population (historical estimates)=%{marker.size}<br>Book titles per capita (Fink-Jensen 2015)=%{y}<br>Entity=%{text}<extra></extra>",
                      "hovertext": [
                        "Belgium",
                        "Bulgaria",
                        "Denmark",
                        "Estonia",
                        "Finland",
                        "France",
                        "Germany",
                        "Hungary",
                        "Italy",
                        "Latvia",
                        "Netherlands",
                        "Norway",
                        "Poland",
                        "South Korea",
                        "Spain",
                        "Sweden",
                        "Switzerland"
                      ],
                      "ids": [
                        "Belgium",
                        "Bulgaria",
                        "Denmark",
                        "Estonia",
                        "Finland",
                        "France",
                        "Germany",
                        "Hungary",
                        "Italy",
                        "Latvia",
                        "Netherlands",
                        "Norway",
                        "Poland",
                        "South Korea",
                        "Spain",
                        "Sweden",
                        "Switzerland"
                      ],
                      "legendgroup": "",
                      "marker": {
                        "color": "#636efa",
                        "size": [
                          10186304,
                          8379305,
                          5232709,
                          1433026,
                          5119012,
                          57801887,
                          81138653,
                          10349308,
                          57174412,
                          2508476,
                          15467852,
                          4366996,
                          38458642,
                          45292521,
                          39787413,
                          8836421,
                          6995519
                        ],
                        "sizemode": "area",
                        "sizeref": 66386.66612244898,
                        "symbol": "circle"
                      },
                      "mode": "markers+text",
                      "name": "",
                      "orientation": "v",
                      "showlegend": false,
                      "text": [
                        "Belgium",
                        "Bulgaria",
                        "Denmark",
                        "Estonia",
                        "Finland",
                        "France",
                        "Germany",
                        "Hungary",
                        "Italy",
                        "Latvia",
                        "Netherlands",
                        "Norway",
                        "Poland",
                        "South Korea",
                        "Spain",
                        "Sweden",
                        "Switzerland"
                      ],
                      "type": "scatter",
                      "x": [
                        10186304,
                        8379305,
                        5232709,
                        1433026,
                        5119012,
                        57801887,
                        81138653,
                        10349308,
                        57174412,
                        2508476,
                        15467852,
                        4366996,
                        38458642,
                        45292521,
                        39787413,
                        8836421,
                        6995519
                      ],
                      "xaxis": "x",
                      "y": [
                        1135.4484322175886,
                        654.0847410387665,
                        2994.8713950126626,
                        1821.6271035990787,
                        2643.47005693236,
                        582.2280278670953,
                        908.3972702180728,
                        904.6342253217164,
                        601.8381887753912,
                        790.9942411760735,
                        3401.566486539215,
                        4951.709079463862,
                        308.932685627353,
                        795.1210993334033,
                        1219.304339666335,
                        2664.2120765832105,
                        1507.5925939898054
                      ],
                      "yaxis": "y"
                    }
                  ],
                  "name": "1995"
                },
                {
                  "data": [
                    {
                      "hovertemplate": "<b>%{hovertext}</b><br><br>Year=1996<br>Population (historical estimates)=%{marker.size}<br>Book titles per capita (Fink-Jensen 2015)=%{y}<br>Entity=%{text}<extra></extra>",
                      "hovertext": [
                        "Belgium",
                        "Bulgaria",
                        "Denmark",
                        "Estonia",
                        "Finland",
                        "France",
                        "Germany",
                        "Hungary",
                        "Italy",
                        "Latvia",
                        "Netherlands",
                        "Norway",
                        "Poland",
                        "South Korea",
                        "Spain",
                        "Sweden",
                        "Switzerland"
                      ],
                      "ids": [
                        "Belgium",
                        "Bulgaria",
                        "Denmark",
                        "Estonia",
                        "Finland",
                        "France",
                        "Germany",
                        "Hungary",
                        "Italy",
                        "Latvia",
                        "Netherlands",
                        "Norway",
                        "Poland",
                        "South Korea",
                        "Spain",
                        "Sweden",
                        "Switzerland"
                      ],
                      "legendgroup": "",
                      "marker": {
                        "color": "#636efa",
                        "size": [
                          10208265,
                          8291969,
                          5254857,
                          1417741,
                          5136984,
                          58012055,
                          81323666,
                          10332451,
                          57065231,
                          2478832,
                          15563252,
                          4393217,
                          38509672,
                          45751023,
                          39908962,
                          8859180,
                          7038027
                        ],
                        "sizemode": "area",
                        "sizeref": 66386.66612244898,
                        "symbol": "circle"
                      },
                      "mode": "markers+text",
                      "name": "",
                      "orientation": "v",
                      "showlegend": false,
                      "text": [
                        "Belgium",
                        "Bulgaria",
                        "Denmark",
                        "Estonia",
                        "Finland",
                        "France",
                        "Germany",
                        "Hungary",
                        "Italy",
                        "Latvia",
                        "Netherlands",
                        "Norway",
                        "Poland",
                        "South Korea",
                        "Spain",
                        "Sweden",
                        "Switzerland"
                      ],
                      "type": "scatter",
                      "x": [
                        10208265,
                        8291969,
                        5254857,
                        1417741,
                        5136984,
                        58012055,
                        81323666,
                        10332451,
                        57065231,
                        2478832,
                        15563252,
                        4393217,
                        38509672,
                        45751023,
                        39908962,
                        8859180,
                        7038027
                      ],
                      "xaxis": "x",
                      "y": [
                        1148.548561175463,
                        593.0626859907076,
                        3151.9885216383277,
                        1840.5591153550115,
                        2559.2200472237027,
                        818.9760090695387,
                        873.2985408459305,
                        894.8185692811793,
                        614.2203766093389,
                        798.6905539498194,
                        3313.667755702044,
                        4810.013153699253,
                        365.1063341134039,
                        670.5159845604716,
                        1163.9583719445684,
                        2673.1139011424048,
                        1517.3323470301727
                      ],
                      "yaxis": "y"
                    }
                  ],
                  "name": "1996"
                }
              ],
              "layout": {
                "height": 600,
                "legend": {
                  "itemsizing": "constant",
                  "tracegroupgap": 0
                },
                "sliders": [
                  {
                    "active": 0,
                    "currentvalue": {
                      "prefix": "Year="
                    },
                    "len": 0.9,
                    "pad": {
                      "b": 10,
                      "t": 60
                    },
                    "steps": [
                      {
                        "args": [
                          [
                            "1980"
                          ],
                          {
                            "frame": {
                              "duration": 0,
                              "redraw": false
                            },
                            "fromcurrent": true,
                            "mode": "immediate",
                            "transition": {
                              "duration": 0,
                              "easing": "linear"
                            }
                          }
                        ],
                        "label": "1980",
                        "method": "animate"
                      },
                      {
                        "args": [
                          [
                            "1981"
                          ],
                          {
                            "frame": {
                              "duration": 0,
                              "redraw": false
                            },
                            "fromcurrent": true,
                            "mode": "immediate",
                            "transition": {
                              "duration": 0,
                              "easing": "linear"
                            }
                          }
                        ],
                        "label": "1981",
                        "method": "animate"
                      },
                      {
                        "args": [
                          [
                            "1982"
                          ],
                          {
                            "frame": {
                              "duration": 0,
                              "redraw": false
                            },
                            "fromcurrent": true,
                            "mode": "immediate",
                            "transition": {
                              "duration": 0,
                              "easing": "linear"
                            }
                          }
                        ],
                        "label": "1982",
                        "method": "animate"
                      },
                      {
                        "args": [
                          [
                            "1983"
                          ],
                          {
                            "frame": {
                              "duration": 0,
                              "redraw": false
                            },
                            "fromcurrent": true,
                            "mode": "immediate",
                            "transition": {
                              "duration": 0,
                              "easing": "linear"
                            }
                          }
                        ],
                        "label": "1983",
                        "method": "animate"
                      },
                      {
                        "args": [
                          [
                            "1984"
                          ],
                          {
                            "frame": {
                              "duration": 0,
                              "redraw": false
                            },
                            "fromcurrent": true,
                            "mode": "immediate",
                            "transition": {
                              "duration": 0,
                              "easing": "linear"
                            }
                          }
                        ],
                        "label": "1984",
                        "method": "animate"
                      },
                      {
                        "args": [
                          [
                            "1985"
                          ],
                          {
                            "frame": {
                              "duration": 0,
                              "redraw": false
                            },
                            "fromcurrent": true,
                            "mode": "immediate",
                            "transition": {
                              "duration": 0,
                              "easing": "linear"
                            }
                          }
                        ],
                        "label": "1985",
                        "method": "animate"
                      },
                      {
                        "args": [
                          [
                            "1986"
                          ],
                          {
                            "frame": {
                              "duration": 0,
                              "redraw": false
                            },
                            "fromcurrent": true,
                            "mode": "immediate",
                            "transition": {
                              "duration": 0,
                              "easing": "linear"
                            }
                          }
                        ],
                        "label": "1986",
                        "method": "animate"
                      },
                      {
                        "args": [
                          [
                            "1987"
                          ],
                          {
                            "frame": {
                              "duration": 0,
                              "redraw": false
                            },
                            "fromcurrent": true,
                            "mode": "immediate",
                            "transition": {
                              "duration": 0,
                              "easing": "linear"
                            }
                          }
                        ],
                        "label": "1987",
                        "method": "animate"
                      },
                      {
                        "args": [
                          [
                            "1988"
                          ],
                          {
                            "frame": {
                              "duration": 0,
                              "redraw": false
                            },
                            "fromcurrent": true,
                            "mode": "immediate",
                            "transition": {
                              "duration": 0,
                              "easing": "linear"
                            }
                          }
                        ],
                        "label": "1988",
                        "method": "animate"
                      },
                      {
                        "args": [
                          [
                            "1989"
                          ],
                          {
                            "frame": {
                              "duration": 0,
                              "redraw": false
                            },
                            "fromcurrent": true,
                            "mode": "immediate",
                            "transition": {
                              "duration": 0,
                              "easing": "linear"
                            }
                          }
                        ],
                        "label": "1989",
                        "method": "animate"
                      },
                      {
                        "args": [
                          [
                            "1990"
                          ],
                          {
                            "frame": {
                              "duration": 0,
                              "redraw": false
                            },
                            "fromcurrent": true,
                            "mode": "immediate",
                            "transition": {
                              "duration": 0,
                              "easing": "linear"
                            }
                          }
                        ],
                        "label": "1990",
                        "method": "animate"
                      },
                      {
                        "args": [
                          [
                            "1991"
                          ],
                          {
                            "frame": {
                              "duration": 0,
                              "redraw": false
                            },
                            "fromcurrent": true,
                            "mode": "immediate",
                            "transition": {
                              "duration": 0,
                              "easing": "linear"
                            }
                          }
                        ],
                        "label": "1991",
                        "method": "animate"
                      },
                      {
                        "args": [
                          [
                            "1992"
                          ],
                          {
                            "frame": {
                              "duration": 0,
                              "redraw": false
                            },
                            "fromcurrent": true,
                            "mode": "immediate",
                            "transition": {
                              "duration": 0,
                              "easing": "linear"
                            }
                          }
                        ],
                        "label": "1992",
                        "method": "animate"
                      },
                      {
                        "args": [
                          [
                            "1993"
                          ],
                          {
                            "frame": {
                              "duration": 0,
                              "redraw": false
                            },
                            "fromcurrent": true,
                            "mode": "immediate",
                            "transition": {
                              "duration": 0,
                              "easing": "linear"
                            }
                          }
                        ],
                        "label": "1993",
                        "method": "animate"
                      },
                      {
                        "args": [
                          [
                            "1994"
                          ],
                          {
                            "frame": {
                              "duration": 0,
                              "redraw": false
                            },
                            "fromcurrent": true,
                            "mode": "immediate",
                            "transition": {
                              "duration": 0,
                              "easing": "linear"
                            }
                          }
                        ],
                        "label": "1994",
                        "method": "animate"
                      },
                      {
                        "args": [
                          [
                            "1995"
                          ],
                          {
                            "frame": {
                              "duration": 0,
                              "redraw": false
                            },
                            "fromcurrent": true,
                            "mode": "immediate",
                            "transition": {
                              "duration": 0,
                              "easing": "linear"
                            }
                          }
                        ],
                        "label": "1995",
                        "method": "animate"
                      },
                      {
                        "args": [
                          [
                            "1996"
                          ],
                          {
                            "frame": {
                              "duration": 0,
                              "redraw": false
                            },
                            "fromcurrent": true,
                            "mode": "immediate",
                            "transition": {
                              "duration": 0,
                              "easing": "linear"
                            }
                          }
                        ],
                        "label": "1996",
                        "method": "animate"
                      }
                    ],
                    "x": 0.1,
                    "xanchor": "left",
                    "y": 0,
                    "yanchor": "top"
                  }
                ],
                "template": {
                  "data": {
                    "bar": [
                      {
                        "error_x": {
                          "color": "#2a3f5f"
                        },
                        "error_y": {
                          "color": "#2a3f5f"
                        },
                        "marker": {
                          "line": {
                            "color": "white",
                            "width": 0.5
                          },
                          "pattern": {
                            "fillmode": "overlay",
                            "size": 10,
                            "solidity": 0.2
                          }
                        },
                        "type": "bar"
                      }
                    ],
                    "barpolar": [
                      {
                        "marker": {
                          "line": {
                            "color": "white",
                            "width": 0.5
                          },
                          "pattern": {
                            "fillmode": "overlay",
                            "size": 10,
                            "solidity": 0.2
                          }
                        },
                        "type": "barpolar"
                      }
                    ],
                    "carpet": [
                      {
                        "aaxis": {
                          "endlinecolor": "#2a3f5f",
                          "gridcolor": "#C8D4E3",
                          "linecolor": "#C8D4E3",
                          "minorgridcolor": "#C8D4E3",
                          "startlinecolor": "#2a3f5f"
                        },
                        "baxis": {
                          "endlinecolor": "#2a3f5f",
                          "gridcolor": "#C8D4E3",
                          "linecolor": "#C8D4E3",
                          "minorgridcolor": "#C8D4E3",
                          "startlinecolor": "#2a3f5f"
                        },
                        "type": "carpet"
                      }
                    ],
                    "choropleth": [
                      {
                        "colorbar": {
                          "outlinewidth": 0,
                          "ticks": ""
                        },
                        "type": "choropleth"
                      }
                    ],
                    "contour": [
                      {
                        "colorbar": {
                          "outlinewidth": 0,
                          "ticks": ""
                        },
                        "colorscale": [
                          [
                            0,
                            "#0d0887"
                          ],
                          [
                            0.1111111111111111,
                            "#46039f"
                          ],
                          [
                            0.2222222222222222,
                            "#7201a8"
                          ],
                          [
                            0.3333333333333333,
                            "#9c179e"
                          ],
                          [
                            0.4444444444444444,
                            "#bd3786"
                          ],
                          [
                            0.5555555555555556,
                            "#d8576b"
                          ],
                          [
                            0.6666666666666666,
                            "#ed7953"
                          ],
                          [
                            0.7777777777777778,
                            "#fb9f3a"
                          ],
                          [
                            0.8888888888888888,
                            "#fdca26"
                          ],
                          [
                            1,
                            "#f0f921"
                          ]
                        ],
                        "type": "contour"
                      }
                    ],
                    "contourcarpet": [
                      {
                        "colorbar": {
                          "outlinewidth": 0,
                          "ticks": ""
                        },
                        "type": "contourcarpet"
                      }
                    ],
                    "heatmap": [
                      {
                        "colorbar": {
                          "outlinewidth": 0,
                          "ticks": ""
                        },
                        "colorscale": [
                          [
                            0,
                            "#0d0887"
                          ],
                          [
                            0.1111111111111111,
                            "#46039f"
                          ],
                          [
                            0.2222222222222222,
                            "#7201a8"
                          ],
                          [
                            0.3333333333333333,
                            "#9c179e"
                          ],
                          [
                            0.4444444444444444,
                            "#bd3786"
                          ],
                          [
                            0.5555555555555556,
                            "#d8576b"
                          ],
                          [
                            0.6666666666666666,
                            "#ed7953"
                          ],
                          [
                            0.7777777777777778,
                            "#fb9f3a"
                          ],
                          [
                            0.8888888888888888,
                            "#fdca26"
                          ],
                          [
                            1,
                            "#f0f921"
                          ]
                        ],
                        "type": "heatmap"
                      }
                    ],
                    "heatmapgl": [
                      {
                        "colorbar": {
                          "outlinewidth": 0,
                          "ticks": ""
                        },
                        "colorscale": [
                          [
                            0,
                            "#0d0887"
                          ],
                          [
                            0.1111111111111111,
                            "#46039f"
                          ],
                          [
                            0.2222222222222222,
                            "#7201a8"
                          ],
                          [
                            0.3333333333333333,
                            "#9c179e"
                          ],
                          [
                            0.4444444444444444,
                            "#bd3786"
                          ],
                          [
                            0.5555555555555556,
                            "#d8576b"
                          ],
                          [
                            0.6666666666666666,
                            "#ed7953"
                          ],
                          [
                            0.7777777777777778,
                            "#fb9f3a"
                          ],
                          [
                            0.8888888888888888,
                            "#fdca26"
                          ],
                          [
                            1,
                            "#f0f921"
                          ]
                        ],
                        "type": "heatmapgl"
                      }
                    ],
                    "histogram": [
                      {
                        "marker": {
                          "pattern": {
                            "fillmode": "overlay",
                            "size": 10,
                            "solidity": 0.2
                          }
                        },
                        "type": "histogram"
                      }
                    ],
                    "histogram2d": [
                      {
                        "colorbar": {
                          "outlinewidth": 0,
                          "ticks": ""
                        },
                        "colorscale": [
                          [
                            0,
                            "#0d0887"
                          ],
                          [
                            0.1111111111111111,
                            "#46039f"
                          ],
                          [
                            0.2222222222222222,
                            "#7201a8"
                          ],
                          [
                            0.3333333333333333,
                            "#9c179e"
                          ],
                          [
                            0.4444444444444444,
                            "#bd3786"
                          ],
                          [
                            0.5555555555555556,
                            "#d8576b"
                          ],
                          [
                            0.6666666666666666,
                            "#ed7953"
                          ],
                          [
                            0.7777777777777778,
                            "#fb9f3a"
                          ],
                          [
                            0.8888888888888888,
                            "#fdca26"
                          ],
                          [
                            1,
                            "#f0f921"
                          ]
                        ],
                        "type": "histogram2d"
                      }
                    ],
                    "histogram2dcontour": [
                      {
                        "colorbar": {
                          "outlinewidth": 0,
                          "ticks": ""
                        },
                        "colorscale": [
                          [
                            0,
                            "#0d0887"
                          ],
                          [
                            0.1111111111111111,
                            "#46039f"
                          ],
                          [
                            0.2222222222222222,
                            "#7201a8"
                          ],
                          [
                            0.3333333333333333,
                            "#9c179e"
                          ],
                          [
                            0.4444444444444444,
                            "#bd3786"
                          ],
                          [
                            0.5555555555555556,
                            "#d8576b"
                          ],
                          [
                            0.6666666666666666,
                            "#ed7953"
                          ],
                          [
                            0.7777777777777778,
                            "#fb9f3a"
                          ],
                          [
                            0.8888888888888888,
                            "#fdca26"
                          ],
                          [
                            1,
                            "#f0f921"
                          ]
                        ],
                        "type": "histogram2dcontour"
                      }
                    ],
                    "mesh3d": [
                      {
                        "colorbar": {
                          "outlinewidth": 0,
                          "ticks": ""
                        },
                        "type": "mesh3d"
                      }
                    ],
                    "parcoords": [
                      {
                        "line": {
                          "colorbar": {
                            "outlinewidth": 0,
                            "ticks": ""
                          }
                        },
                        "type": "parcoords"
                      }
                    ],
                    "pie": [
                      {
                        "automargin": true,
                        "type": "pie"
                      }
                    ],
                    "scatter": [
                      {
                        "fillpattern": {
                          "fillmode": "overlay",
                          "size": 10,
                          "solidity": 0.2
                        },
                        "type": "scatter"
                      }
                    ],
                    "scatter3d": [
                      {
                        "line": {
                          "colorbar": {
                            "outlinewidth": 0,
                            "ticks": ""
                          }
                        },
                        "marker": {
                          "colorbar": {
                            "outlinewidth": 0,
                            "ticks": ""
                          }
                        },
                        "type": "scatter3d"
                      }
                    ],
                    "scattercarpet": [
                      {
                        "marker": {
                          "colorbar": {
                            "outlinewidth": 0,
                            "ticks": ""
                          }
                        },
                        "type": "scattercarpet"
                      }
                    ],
                    "scattergeo": [
                      {
                        "marker": {
                          "colorbar": {
                            "outlinewidth": 0,
                            "ticks": ""
                          }
                        },
                        "type": "scattergeo"
                      }
                    ],
                    "scattergl": [
                      {
                        "marker": {
                          "colorbar": {
                            "outlinewidth": 0,
                            "ticks": ""
                          }
                        },
                        "type": "scattergl"
                      }
                    ],
                    "scattermapbox": [
                      {
                        "marker": {
                          "colorbar": {
                            "outlinewidth": 0,
                            "ticks": ""
                          }
                        },
                        "type": "scattermapbox"
                      }
                    ],
                    "scatterpolar": [
                      {
                        "marker": {
                          "colorbar": {
                            "outlinewidth": 0,
                            "ticks": ""
                          }
                        },
                        "type": "scatterpolar"
                      }
                    ],
                    "scatterpolargl": [
                      {
                        "marker": {
                          "colorbar": {
                            "outlinewidth": 0,
                            "ticks": ""
                          }
                        },
                        "type": "scatterpolargl"
                      }
                    ],
                    "scatterternary": [
                      {
                        "marker": {
                          "colorbar": {
                            "outlinewidth": 0,
                            "ticks": ""
                          }
                        },
                        "type": "scatterternary"
                      }
                    ],
                    "surface": [
                      {
                        "colorbar": {
                          "outlinewidth": 0,
                          "ticks": ""
                        },
                        "colorscale": [
                          [
                            0,
                            "#0d0887"
                          ],
                          [
                            0.1111111111111111,
                            "#46039f"
                          ],
                          [
                            0.2222222222222222,
                            "#7201a8"
                          ],
                          [
                            0.3333333333333333,
                            "#9c179e"
                          ],
                          [
                            0.4444444444444444,
                            "#bd3786"
                          ],
                          [
                            0.5555555555555556,
                            "#d8576b"
                          ],
                          [
                            0.6666666666666666,
                            "#ed7953"
                          ],
                          [
                            0.7777777777777778,
                            "#fb9f3a"
                          ],
                          [
                            0.8888888888888888,
                            "#fdca26"
                          ],
                          [
                            1,
                            "#f0f921"
                          ]
                        ],
                        "type": "surface"
                      }
                    ],
                    "table": [
                      {
                        "cells": {
                          "fill": {
                            "color": "#EBF0F8"
                          },
                          "line": {
                            "color": "white"
                          }
                        },
                        "header": {
                          "fill": {
                            "color": "#C8D4E3"
                          },
                          "line": {
                            "color": "white"
                          }
                        },
                        "type": "table"
                      }
                    ]
                  },
                  "layout": {
                    "annotationdefaults": {
                      "arrowcolor": "#2a3f5f",
                      "arrowhead": 0,
                      "arrowwidth": 1
                    },
                    "autotypenumbers": "strict",
                    "coloraxis": {
                      "colorbar": {
                        "outlinewidth": 0,
                        "ticks": ""
                      }
                    },
                    "colorscale": {
                      "diverging": [
                        [
                          0,
                          "#8e0152"
                        ],
                        [
                          0.1,
                          "#c51b7d"
                        ],
                        [
                          0.2,
                          "#de77ae"
                        ],
                        [
                          0.3,
                          "#f1b6da"
                        ],
                        [
                          0.4,
                          "#fde0ef"
                        ],
                        [
                          0.5,
                          "#f7f7f7"
                        ],
                        [
                          0.6,
                          "#e6f5d0"
                        ],
                        [
                          0.7,
                          "#b8e186"
                        ],
                        [
                          0.8,
                          "#7fbc41"
                        ],
                        [
                          0.9,
                          "#4d9221"
                        ],
                        [
                          1,
                          "#276419"
                        ]
                      ],
                      "sequential": [
                        [
                          0,
                          "#0d0887"
                        ],
                        [
                          0.1111111111111111,
                          "#46039f"
                        ],
                        [
                          0.2222222222222222,
                          "#7201a8"
                        ],
                        [
                          0.3333333333333333,
                          "#9c179e"
                        ],
                        [
                          0.4444444444444444,
                          "#bd3786"
                        ],
                        [
                          0.5555555555555556,
                          "#d8576b"
                        ],
                        [
                          0.6666666666666666,
                          "#ed7953"
                        ],
                        [
                          0.7777777777777778,
                          "#fb9f3a"
                        ],
                        [
                          0.8888888888888888,
                          "#fdca26"
                        ],
                        [
                          1,
                          "#f0f921"
                        ]
                      ],
                      "sequentialminus": [
                        [
                          0,
                          "#0d0887"
                        ],
                        [
                          0.1111111111111111,
                          "#46039f"
                        ],
                        [
                          0.2222222222222222,
                          "#7201a8"
                        ],
                        [
                          0.3333333333333333,
                          "#9c179e"
                        ],
                        [
                          0.4444444444444444,
                          "#bd3786"
                        ],
                        [
                          0.5555555555555556,
                          "#d8576b"
                        ],
                        [
                          0.6666666666666666,
                          "#ed7953"
                        ],
                        [
                          0.7777777777777778,
                          "#fb9f3a"
                        ],
                        [
                          0.8888888888888888,
                          "#fdca26"
                        ],
                        [
                          1,
                          "#f0f921"
                        ]
                      ]
                    },
                    "colorway": [
                      "#636efa",
                      "#EF553B",
                      "#00cc96",
                      "#ab63fa",
                      "#FFA15A",
                      "#19d3f3",
                      "#FF6692",
                      "#B6E880",
                      "#FF97FF",
                      "#FECB52"
                    ],
                    "font": {
                      "color": "#2a3f5f"
                    },
                    "geo": {
                      "bgcolor": "white",
                      "lakecolor": "white",
                      "landcolor": "white",
                      "showlakes": true,
                      "showland": true,
                      "subunitcolor": "#C8D4E3"
                    },
                    "hoverlabel": {
                      "align": "left"
                    },
                    "hovermode": "closest",
                    "mapbox": {
                      "style": "light"
                    },
                    "paper_bgcolor": "white",
                    "plot_bgcolor": "white",
                    "polar": {
                      "angularaxis": {
                        "gridcolor": "#EBF0F8",
                        "linecolor": "#EBF0F8",
                        "ticks": ""
                      },
                      "bgcolor": "white",
                      "radialaxis": {
                        "gridcolor": "#EBF0F8",
                        "linecolor": "#EBF0F8",
                        "ticks": ""
                      }
                    },
                    "scene": {
                      "xaxis": {
                        "backgroundcolor": "white",
                        "gridcolor": "#DFE8F3",
                        "gridwidth": 2,
                        "linecolor": "#EBF0F8",
                        "showbackground": true,
                        "ticks": "",
                        "zerolinecolor": "#EBF0F8"
                      },
                      "yaxis": {
                        "backgroundcolor": "white",
                        "gridcolor": "#DFE8F3",
                        "gridwidth": 2,
                        "linecolor": "#EBF0F8",
                        "showbackground": true,
                        "ticks": "",
                        "zerolinecolor": "#EBF0F8"
                      },
                      "zaxis": {
                        "backgroundcolor": "white",
                        "gridcolor": "#DFE8F3",
                        "gridwidth": 2,
                        "linecolor": "#EBF0F8",
                        "showbackground": true,
                        "ticks": "",
                        "zerolinecolor": "#EBF0F8"
                      }
                    },
                    "shapedefaults": {
                      "line": {
                        "color": "#2a3f5f"
                      }
                    },
                    "ternary": {
                      "aaxis": {
                        "gridcolor": "#DFE8F3",
                        "linecolor": "#A2B1C6",
                        "ticks": ""
                      },
                      "baxis": {
                        "gridcolor": "#DFE8F3",
                        "linecolor": "#A2B1C6",
                        "ticks": ""
                      },
                      "bgcolor": "white",
                      "caxis": {
                        "gridcolor": "#DFE8F3",
                        "linecolor": "#A2B1C6",
                        "ticks": ""
                      }
                    },
                    "title": {
                      "x": 0.05
                    },
                    "xaxis": {
                      "automargin": true,
                      "gridcolor": "#EBF0F8",
                      "linecolor": "#EBF0F8",
                      "ticks": "",
                      "title": {
                        "standoff": 15
                      },
                      "zerolinecolor": "#EBF0F8",
                      "zerolinewidth": 2
                    },
                    "yaxis": {
                      "automargin": true,
                      "gridcolor": "#EBF0F8",
                      "linecolor": "#EBF0F8",
                      "ticks": "",
                      "title": {
                        "standoff": 15
                      },
                      "zerolinecolor": "#EBF0F8",
                      "zerolinewidth": 2
                    }
                  }
                },
                "title": {
                  "text": "Population vs Book titles per capita in 1980-1996"
                },
                "updatemenus": [
                  {
                    "buttons": [
                      {
                        "args": [
                          null,
                          {
                            "frame": {
                              "duration": 500,
                              "redraw": false
                            },
                            "fromcurrent": true,
                            "mode": "immediate",
                            "transition": {
                              "duration": 500,
                              "easing": "linear"
                            }
                          }
                        ],
                        "label": "Start",
                        "method": "animate"
                      },
                      {
                        "args": [
                          [
                            null
                          ],
                          {
                            "frame": {
                              "duration": 0,
                              "redraw": false
                            },
                            "fromcurrent": true,
                            "mode": "immediate",
                            "transition": {
                              "duration": 0,
                              "easing": "linear"
                            }
                          }
                        ],
                        "label": "Stop",
                        "method": "animate"
                      }
                    ],
                    "direction": "left",
                    "pad": {
                      "r": 10,
                      "t": 70
                    },
                    "showactive": true,
                    "type": "buttons",
                    "x": 0.1,
                    "xanchor": "right",
                    "y": 0,
                    "yanchor": "top"
                  }
                ],
                "width": 1200,
                "xaxis": {
                  "anchor": "y",
                  "domain": [
                    0,
                    1
                  ],
                  "range": [
                    1,
                    100000000
                  ],
                  "showticklabels": true,
                  "tickfont": {
                    "color": "black",
                    "size": 12
                  },
                  "title": {
                    "text": "Population"
                  },
                  "visible": true
                },
                "yaxis": {
                  "anchor": "x",
                  "domain": [
                    0,
                    1
                  ],
                  "range": [
                    1,
                    5000
                  ],
                  "showticklabels": true,
                  "tickfont": {
                    "color": "black",
                    "size": 12
                  },
                  "title": {
                    "font": {
                      "color": "black",
                      "size": 14
                    },
                    "text": "# of Books"
                  },
                  "visible": true
                }
              }
            }
          },
          "metadata": {},
          "output_type": "display_data"
        }
      ],
      "source": [
        "fig = px.scatter(data_frame=data,\n",
        "                 x=\"Population (historical estimates)\",\n",
        "                 y=\"Book titles per capita (Fink-Jensen 2015)\",\n",
        "                 size=\"Population (historical estimates)\",\n",
        "                 animation_frame=\"Year\",\n",
        "                 animation_group=\"Entity\",\n",
        "                 text=\"Entity\",\n",
        "                 hover_name=\"Entity\",\n",
        "                 size_max=35,\n",
        "                 range_x=[1,100000000], \n",
        "                 range_y=[1,5000],\n",
        "                 template=\"plotly_white\",\n",
        "                 title=\"Population vs Book titles per capita in 1980-1996\"\n",
        "                 )\n",
        "fig.update_traces(\n",
        "    textposition=\"top center\",\n",
        "    marker=dict(\n",
        "        line=dict(width=1, color=\"black\"),  \n",
        "    )\n",
        ")\n",
        "fig.update_yaxes(\n",
        "    visible=True,\n",
        "    showticklabels=True,\n",
        "    title=\"# of Books\",\n",
        "    title_font=dict(size=14, color=\"black\"),\n",
        "    tickfont=dict(size=12, color=\"black\")\n",
        ")\n",
        "fig.update_xaxes(\n",
        "    visible=True,\n",
        "    showticklabels=True,\n",
        "    title=\"Population\",\n",
        "    title_font=dict(size=14, color=\"black\"),\n",
        "    tickfont=dict(size=12, color=\"black\")\n",
        ")\n",
        "fig.update_xaxes(visible=True, showticklabels=True, title='Population')\n",
        "fig.update_layout(\n",
        "    width=1200, \n",
        "    height=600, \n",
        "    updatemenus=[\n",
        "                 {\n",
        "                     \"type\": \"buttons\",\n",
        "                     \"showactive\": True,\n",
        "                     \"buttons\": [{\"label\": \"Start\"}, {\"label\": \"Stop\"}]\n",
        "                 }\n",
        "    ]\n",
        ")\n",
        "fig.show()"
      ]
    },
    {
      "cell_type": "code",
      "execution_count": 5,
      "metadata": {
        "id": "A4Uf323m45mg"
      },
      "outputs": [],
      "source": [
        "def find_special_points(value, points):\n",
        "\n",
        "    if value == points.max():\n",
        "      special_point_name = \"max\"\n",
        "    elif value == points.min():\n",
        "      special_point_name = \"min\"\n",
        "    elif value == points.median():\n",
        "      special_point_name =\"median\"\n",
        "    else: \n",
        "      special_point_name = \"not special\"\n",
        "\n",
        "    return special_point_name"
      ]
    },
    {
      "cell_type": "code",
      "execution_count": 6,
      "metadata": {
        "id": "3ootRDbU46dG"
      },
      "outputs": [
        {
          "data": {
            "application/vnd.plotly.v1+json": {
              "config": {
                "plotlyServerURL": "https://plot.ly"
              },
              "data": [
                {
                  "hovertemplate": "special_points=not special<br>index=%{x}<br>sample=%{y}<br>size=%{marker.size}<extra></extra>",
                  "legendgroup": "not special",
                  "marker": {
                    "color": "#E4DFDA",
                    "size": [
                      10,
                      10,
                      10,
                      10,
                      10,
                      10,
                      10,
                      10,
                      10,
                      10,
                      10,
                      10,
                      10,
                      10,
                      10,
                      10,
                      10,
                      10,
                      10,
                      10,
                      10,
                      10,
                      10,
                      10,
                      10,
                      10,
                      10,
                      10,
                      10,
                      10,
                      10,
                      10,
                      10,
                      10,
                      10,
                      10,
                      10,
                      10,
                      10,
                      10,
                      10,
                      10,
                      10,
                      10,
                      10,
                      10,
                      10,
                      10,
                      10,
                      10,
                      10,
                      10,
                      10,
                      10,
                      10,
                      10,
                      10,
                      10,
                      10,
                      10,
                      10,
                      10,
                      10,
                      10,
                      10,
                      10,
                      10,
                      10,
                      10,
                      10,
                      10,
                      10,
                      10,
                      10,
                      10,
                      10,
                      10,
                      10,
                      10,
                      10,
                      10,
                      10,
                      10,
                      10,
                      10,
                      10,
                      10,
                      10,
                      10,
                      10,
                      10,
                      10,
                      10,
                      10,
                      10,
                      10,
                      10,
                      10,
                      10,
                      10,
                      10,
                      10,
                      10,
                      10,
                      10,
                      10,
                      10,
                      10,
                      10,
                      10,
                      10,
                      10,
                      10,
                      10,
                      10,
                      10,
                      10,
                      10,
                      10,
                      10,
                      10,
                      10,
                      10,
                      10,
                      10,
                      10,
                      10,
                      10,
                      10,
                      10,
                      10,
                      10,
                      10,
                      10,
                      10,
                      10,
                      10,
                      10,
                      10,
                      10,
                      10,
                      10,
                      10,
                      10,
                      10,
                      10,
                      10,
                      10,
                      10,
                      10,
                      10,
                      10,
                      10,
                      10,
                      10,
                      10,
                      10,
                      10,
                      10,
                      10,
                      10,
                      10,
                      10,
                      10,
                      10,
                      10,
                      10,
                      10,
                      10,
                      10,
                      10,
                      10,
                      10,
                      10,
                      10,
                      10,
                      10,
                      10,
                      10,
                      10,
                      10,
                      10,
                      10,
                      10,
                      10,
                      10,
                      10,
                      10,
                      10,
                      10,
                      10,
                      10,
                      10,
                      10,
                      10,
                      10,
                      10,
                      10,
                      10,
                      10,
                      10,
                      10,
                      10,
                      10,
                      10,
                      10,
                      10,
                      10,
                      10,
                      10,
                      10,
                      10,
                      10,
                      10,
                      10,
                      10,
                      10,
                      10,
                      10,
                      10,
                      10,
                      10,
                      10,
                      10,
                      10,
                      10,
                      10,
                      10,
                      10,
                      10,
                      10,
                      10,
                      10,
                      10,
                      10,
                      10,
                      10,
                      10,
                      10,
                      10,
                      10,
                      10,
                      10,
                      10,
                      10,
                      10,
                      10,
                      10,
                      10,
                      10,
                      10,
                      10,
                      10,
                      10,
                      10,
                      10,
                      10,
                      10,
                      10,
                      10,
                      10,
                      10,
                      10,
                      10,
                      10,
                      10,
                      10,
                      10,
                      10,
                      10,
                      10,
                      10,
                      10,
                      10,
                      10,
                      10,
                      10,
                      10,
                      10,
                      10,
                      10,
                      10,
                      10,
                      10,
                      10,
                      10,
                      10,
                      10,
                      10,
                      10,
                      10,
                      10,
                      10,
                      10,
                      10,
                      10,
                      10,
                      10,
                      10,
                      10,
                      10,
                      10,
                      10,
                      10,
                      10,
                      10,
                      10,
                      10,
                      10,
                      10,
                      10,
                      10,
                      10,
                      10,
                      10,
                      10,
                      10,
                      10,
                      10,
                      10,
                      10,
                      10,
                      10,
                      10,
                      10,
                      10,
                      10,
                      10,
                      10,
                      10,
                      10,
                      10,
                      10,
                      10,
                      10,
                      10,
                      10,
                      10,
                      10,
                      10,
                      10,
                      10,
                      10,
                      10,
                      10,
                      10,
                      10,
                      10
                    ],
                    "sizemode": "area",
                    "sizeref": 0.025,
                    "symbol": "circle"
                  },
                  "mode": "markers",
                  "name": "not special",
                  "showlegend": true,
                  "type": "scattergl",
                  "x": [
                    0,
                    1,
                    2,
                    3,
                    4,
                    5,
                    6,
                    7,
                    8,
                    9,
                    10,
                    11,
                    12,
                    13,
                    14,
                    15,
                    16,
                    17,
                    18,
                    19,
                    20,
                    21,
                    22,
                    23,
                    24,
                    25,
                    26,
                    27,
                    28,
                    29,
                    30,
                    31,
                    32,
                    33,
                    34,
                    35,
                    36,
                    37,
                    38,
                    39,
                    40,
                    41,
                    42,
                    43,
                    44,
                    45,
                    46,
                    47,
                    48,
                    49,
                    50,
                    51,
                    52,
                    53,
                    54,
                    55,
                    56,
                    57,
                    58,
                    59,
                    60,
                    61,
                    62,
                    63,
                    64,
                    65,
                    66,
                    67,
                    68,
                    69,
                    70,
                    71,
                    72,
                    73,
                    74,
                    75,
                    76,
                    77,
                    78,
                    79,
                    80,
                    81,
                    82,
                    83,
                    84,
                    85,
                    86,
                    87,
                    88,
                    89,
                    90,
                    91,
                    92,
                    93,
                    94,
                    95,
                    96,
                    97,
                    98,
                    99,
                    100,
                    101,
                    102,
                    103,
                    104,
                    105,
                    106,
                    107,
                    108,
                    109,
                    110,
                    111,
                    112,
                    113,
                    114,
                    115,
                    116,
                    117,
                    118,
                    119,
                    120,
                    121,
                    122,
                    123,
                    124,
                    125,
                    126,
                    127,
                    128,
                    129,
                    130,
                    131,
                    132,
                    133,
                    134,
                    135,
                    136,
                    137,
                    138,
                    139,
                    140,
                    141,
                    142,
                    143,
                    144,
                    145,
                    146,
                    147,
                    148,
                    149,
                    150,
                    151,
                    152,
                    153,
                    154,
                    155,
                    156,
                    157,
                    158,
                    159,
                    160,
                    161,
                    162,
                    163,
                    164,
                    165,
                    166,
                    167,
                    168,
                    169,
                    170,
                    171,
                    172,
                    173,
                    174,
                    175,
                    176,
                    177,
                    178,
                    179,
                    180,
                    181,
                    182,
                    183,
                    184,
                    185,
                    186,
                    187,
                    188,
                    189,
                    190,
                    191,
                    192,
                    193,
                    194,
                    195,
                    196,
                    197,
                    198,
                    199,
                    200,
                    201,
                    202,
                    203,
                    204,
                    205,
                    206,
                    207,
                    208,
                    209,
                    210,
                    211,
                    212,
                    213,
                    214,
                    215,
                    216,
                    217,
                    218,
                    219,
                    220,
                    221,
                    222,
                    223,
                    224,
                    225,
                    226,
                    227,
                    228,
                    229,
                    230,
                    231,
                    232,
                    233,
                    234,
                    235,
                    236,
                    238,
                    239,
                    240,
                    241,
                    242,
                    243,
                    244,
                    245,
                    246,
                    247,
                    248,
                    249,
                    250,
                    251,
                    252,
                    253,
                    254,
                    255,
                    256,
                    257,
                    258,
                    259,
                    260,
                    261,
                    262,
                    263,
                    264,
                    265,
                    266,
                    267,
                    268,
                    269,
                    270,
                    271,
                    272,
                    273,
                    274,
                    275,
                    276,
                    277,
                    278,
                    279,
                    280,
                    281,
                    282,
                    283,
                    284,
                    285,
                    286,
                    287,
                    288,
                    289,
                    290,
                    291,
                    292,
                    293,
                    294,
                    295,
                    296,
                    297,
                    298,
                    299,
                    301,
                    302,
                    303,
                    304,
                    305,
                    306,
                    307,
                    308,
                    309,
                    310,
                    311,
                    312,
                    313,
                    314,
                    315,
                    316,
                    317,
                    318,
                    319,
                    320,
                    321,
                    322,
                    323,
                    324,
                    325,
                    326,
                    327,
                    328,
                    329,
                    330,
                    331,
                    332,
                    333,
                    334,
                    335,
                    336,
                    337,
                    338,
                    340,
                    341,
                    342,
                    343,
                    344,
                    345,
                    346,
                    347,
                    348,
                    349,
                    350
                  ],
                  "xaxis": "x",
                  "y": [
                    -0.08209146554453794,
                    -0.8290624898883039,
                    0.6610496446941507,
                    1.1130916680180274,
                    -0.861588712655075,
                    -0.07271457774588053,
                    -1.4568937410382374,
                    0.3758024095183409,
                    1.0320668269241202,
                    0.4068734465454632,
                    -0.9844310618993453,
                    -0.44863650393191,
                    1.07707124001088,
                    -1.2170561976044707,
                    -0.17763931584764667,
                    -0.4554363163344587,
                    0.5986453136361851,
                    -0.7552287611087695,
                    1.3433335445705443,
                    -0.4260223817514998,
                    -0.2501067151004501,
                    0.09285519058099034,
                    -0.9975906895354844,
                    1.2565375985834633,
                    -0.5150592031204854,
                    1.295812291464334,
                    -2.261393538317363,
                    1.2825018577827,
                    0.16372537277273985,
                    0.3693719231756506,
                    0.8887053618301016,
                    1.8135665073271678,
                    0.06690159904415112,
                    -0.2341512022870711,
                    -1.0416987475025958,
                    0.9420204423018536,
                    -1.210799313339534,
                    0.8004080488641855,
                    -0.7705549395687966,
                    -1.0497364064400823,
                    -0.5313707516522018,
                    0.31064634421627263,
                    1.3068482607475422,
                    0.26113177726212744,
                    0.24583493518496718,
                    0.3132500099480832,
                    0.3844518963250061,
                    -0.6384952004961588,
                    0.10340807434159247,
                    -0.7277411947114106,
                    0.2408655457683901,
                    0.9243855554984152,
                    -0.1096137371100526,
                    0.0450393742291801,
                    -0.11830939291342486,
                    1.938655332435091,
                    -0.3817503980787974,
                    0.055108405653072165,
                    1.2476636722039238,
                    0.5748322820730045,
                    0.3059591675100468,
                    -1.0768934533068852,
                    -0.8225042034810075,
                    0.1737234334542522,
                    0.11002035181001624,
                    -0.5513528260268996,
                    -1.2691822422543135,
                    0.055253228554432356,
                    0.2860743655592189,
                    -0.27110875949227076,
                    1.1025423917294328,
                    -0.5244434004542541,
                    -0.20580368934829216,
                    -0.04633889186367004,
                    1.1205373597923634,
                    -0.6096807971448953,
                    -1.6363594722391195,
                    0.701875697024614,
                    -1.5385159860044781,
                    -1.1312876300226182,
                    -0.726435332690006,
                    1.3342047239093209,
                    -2.226456327047132,
                    0.33775960366815166,
                    0.09973901590012008,
                    -2.3738142290839876,
                    -0.2508583770273172,
                    1.506717055966103,
                    -0.2531186185839109,
                    -0.25383904537925,
                    -0.03786641808647338,
                    -2.20743735424706,
                    -0.10157371036622291,
                    0.30392424769836296,
                    0.9718654471986141,
                    0.002634347789525115,
                    1.433319545947695,
                    0.6507034777924117,
                    -0.2422540861311472,
                    1.2124206227617846,
                    0.4089147561092181,
                    -0.23681724388614525,
                    1.5024706382378292,
                    -0.5006748530139502,
                    -0.7835250902021068,
                    -0.7773707389869356,
                    -0.9220270769211081,
                    -0.03254280876174106,
                    -0.20069645669947636,
                    0.28453442059411543,
                    0.08500151147030632,
                    -0.9368059866729623,
                    -0.21186096098844592,
                    -0.2876005579958797,
                    -0.605945208287905,
                    0.8873278336502584,
                    0.5051313831105063,
                    0.4865714111438314,
                    0.6534117675310562,
                    0.8832110474458945,
                    -0.9271058238620128,
                    -0.7872047843183597,
                    -1.4195822679545516,
                    -0.5736242041993569,
                    0.4822466206852674,
                    -0.4682621138197678,
                    0.09860104440589067,
                    -1.5368998152537876,
                    0.5978937056035591,
                    0.14908013520254318,
                    0.4955699217631787,
                    0.45011537703599036,
                    0.29341507786417964,
                    -1.002504581180927,
                    0.806474767997791,
                    -0.2747058252823963,
                    0.5104606664726291,
                    -0.8328329164627323,
                    -0.2983514267467986,
                    -1.2565870799372758,
                    -0.33656858554887986,
                    0.464971926912899,
                    -1.440577640622401,
                    1.3583361697509235,
                    0.35835712634298095,
                    0.448610824536485,
                    1.2898377793809472,
                    -0.4451313760028729,
                    -0.8795224741432899,
                    0.9988117787988521,
                    -2.529446011931354,
                    -1.111596129827224,
                    1.418310642318197,
                    0.47000927139439325,
                    2.225718579913256,
                    0.7652086720039907,
                    0.16907905787865324,
                    0.9154721589733668,
                    -1.212727004572698,
                    -0.6328161624631629,
                    -0.7285802462397983,
                    -0.9638725670002305,
                    -0.17817995992883406,
                    2.0110143277438848,
                    1.133678111487189,
                    -2.1736267898573813,
                    -0.7457472809920146,
                    -0.04092266119796663,
                    0.5766014935571453,
                    -1.249109510226867,
                    1.1625238528609407,
                    -0.1096657358105652,
                    -0.12129023389721218,
                    -1.207171150016581,
                    0.8196908137711815,
                    2.4266953576120582,
                    -0.7340813195987792,
                    -0.009370053299353863,
                    -0.7586395444596713,
                    0.24271043253009789,
                    0.5453448722431764,
                    0.6264957091527539,
                    -0.41193933079012934,
                    -0.08339220792807452,
                    -0.5798466831309707,
                    -1.1059640492208485,
                    1.2033715443975779,
                    -2.0393112343727333,
                    -0.13246047047734968,
                    -0.1449571356737773,
                    1.6574936180440043,
                    0.3736067801979322,
                    -1.6417626624010917,
                    0.6551627602162126,
                    0.2323237812452615,
                    0.27055855037714766,
                    0.8121657238607958,
                    -0.350011460043134,
                    0.6300982540703498,
                    0.41711395015331754,
                    0.43163300672844784,
                    -0.23761985913362185,
                    1.412606798666669,
                    2.2294822628116653,
                    0.7915309155087725,
                    -0.6075208444486195,
                    0.3182536787604463,
                    -0.6170166284108575,
                    1.0805590082646996,
                    -1.146336207162388,
                    0.025084266159109175,
                    0.12897350036196792,
                    -1.5964701050128673,
                    -0.8531395309173663,
                    -0.5421701217517835,
                    1.5192073006534506,
                    -1.589339775102347,
                    1.289810310520819,
                    -0.08549641551938104,
                    -0.21604603874351394,
                    1.0018702210153416,
                    -1.288921482587388,
                    0.4822993646863144,
                    -0.683002768889108,
                    0.34419244481069683,
                    1.1807404783549593,
                    -0.03910109574518935,
                    -0.693652217519544,
                    -1.4212700064149115,
                    -0.12668164794802686,
                    0.27756616425762787,
                    0.5776240401138082,
                    -1.703878499556399,
                    2.1576324337590638,
                    1.1511352695736334,
                    -0.9917586523251336,
                    0.696219347608597,
                    1.1153630772932226,
                    1.6471899640341119,
                    -0.5785600625559683,
                    0.44717717168435533,
                    -0.6215001801665097,
                    0.4855899512052583,
                    1.8582876839171523,
                    0.08663466957708156,
                    -0.864255308574325,
                    1.1167388746168663,
                    1.0173328520432117,
                    -0.8011337916155475,
                    -1.0140657069643322,
                    0.6506041799981201,
                    0.1165886128074156,
                    0.699754913843064,
                    2.204973914864769,
                    0.8075382654870953,
                    2.095608428234277,
                    -0.7654994616838652,
                    1.5057502893243784,
                    -0.8482580128467664,
                    -0.055128596835374924,
                    0.8646583552307704,
                    0.27717429918523306,
                    -0.163461260505905,
                    1.2190176333112137,
                    0.08018741732090552,
                    -2.363660902193396,
                    1.3545136251170506,
                    -0.8896626733304095,
                    0.9008516533908167,
                    -0.20025012026108371,
                    -0.20441757494194984,
                    1.6274550001822288,
                    -0.7519341509061754,
                    -0.05204957035109871,
                    -0.4369115580792817,
                    1.5078312156613103,
                    -0.5338269182010965,
                    1.739058207234482,
                    1.8963790943552223,
                    1.9443925238953708,
                    1.3413825074148618,
                    0.7124004926739391,
                    -1.356593972166795,
                    -0.1489207294507495,
                    -2.8379989210971477,
                    -1.1941343099602528,
                    0.1465092968079785,
                    -1.067912359120957,
                    -0.6887927490140027,
                    -0.5157203354990345,
                    -0.5640331289408427,
                    1.156752993132349,
                    0.7463435152904085,
                    -0.6485376284836909,
                    -0.9152453993468173,
                    -0.4804390996853795,
                    1.2115680550553045,
                    -0.9247473854057682,
                    -1.6385612927776187,
                    -1.4093116812347006,
                    1.3851598175943494,
                    -0.48680260130296343,
                    1.015861809235233,
                    -1.3500517190453898,
                    -1.4176091682685452,
                    -0.1277706082601621,
                    0.18112574281673333,
                    -1.3442229565361885,
                    0.16427059487684736,
                    -0.9152566938357944,
                    -0.0047474347674451335,
                    -0.25780263472008846,
                    -2.1909896328173555,
                    1.958790644301481,
                    0.6920175706845106,
                    -0.5338580869384615,
                    0.19163451385045793,
                    0.8372293918503312,
                    -0.43291862141049847,
                    -1.7516647005066983,
                    -1.0228271212792788,
                    0.08013952323009459,
                    -1.643548542639177,
                    1.6347118804524678,
                    -1.8431944829003655,
                    0.827499098033963,
                    -0.5202975243249234,
                    0.10599044324395547,
                    -1.7504490191891329,
                    -0.6817666813091906,
                    -0.8753662175988853,
                    -0.5806869013896118,
                    -1.3633307083566453,
                    -0.3532156008976766,
                    -0.5012055108133489,
                    0.513126526331007,
                    1.6750170509497921,
                    0.031930164509561515,
                    -0.8849565191426647,
                    -2.791401499536925,
                    1.080138780614441,
                    -1.7104791095064937,
                    0.8545999015837492,
                    1.3620962007023465,
                    0.07128078684919681,
                    1.1934315756887837,
                    -0.08339675109897517,
                    -2.0867529747368243
                  ],
                  "yaxis": "y"
                },
                {
                  "hovertemplate": "special_points=median<br>index=%{x}<br>sample=%{y}<br>size=%{marker.size}<extra></extra>",
                  "legendgroup": "median",
                  "marker": {
                    "color": "#169873",
                    "size": [
                      10
                    ],
                    "sizemode": "area",
                    "sizeref": 0.025,
                    "symbol": "circle"
                  },
                  "mode": "markers",
                  "name": "median",
                  "showlegend": true,
                  "type": "scattergl",
                  "x": [
                    237
                  ],
                  "xaxis": "x",
                  "y": [
                    -0.037918348610302056
                  ],
                  "yaxis": "y"
                },
                {
                  "hovertemplate": "special_points=max<br>index=%{x}<br>sample=%{y}<br>size=%{marker.size}<extra></extra>",
                  "legendgroup": "max",
                  "marker": {
                    "color": "#800E13",
                    "size": [
                      10
                    ],
                    "sizemode": "area",
                    "sizeref": 0.025,
                    "symbol": "circle"
                  },
                  "mode": "markers",
                  "name": "max",
                  "showlegend": true,
                  "type": "scattergl",
                  "x": [
                    300
                  ],
                  "xaxis": "x",
                  "y": [
                    2.4466047353026625
                  ],
                  "yaxis": "y"
                },
                {
                  "hovertemplate": "special_points=min<br>index=%{x}<br>sample=%{y}<br>size=%{marker.size}<extra></extra>",
                  "legendgroup": "min",
                  "marker": {
                    "color": "#2C497F",
                    "size": [
                      10
                    ],
                    "sizemode": "area",
                    "sizeref": 0.025,
                    "symbol": "circle"
                  },
                  "mode": "markers",
                  "name": "min",
                  "showlegend": true,
                  "type": "scattergl",
                  "x": [
                    339
                  ],
                  "xaxis": "x",
                  "y": [
                    -2.933070486643515
                  ],
                  "yaxis": "y"
                }
              ],
              "layout": {
                "legend": {
                  "itemsizing": "constant",
                  "title": {
                    "text": "special_points"
                  },
                  "tracegroupgap": 0
                },
                "template": {
                  "data": {
                    "scatter": [
                      {
                        "type": "scatter"
                      }
                    ]
                  }
                },
                "title": {
                  "text": "Here're your points"
                },
                "updatemenus": [
                  {
                    "buttons": [
                      {
                        "args": [
                          "shapes",
                          []
                        ],
                        "label": "None",
                        "method": "relayout"
                      },
                      {
                        "args": [
                          "shapes",
                          [
                            {
                              "filcolor": "LightSkyBlue",
                              "line": {
                                "color": "DarkOrange",
                                "dash": "dashdot",
                                "width": 2
                              },
                              "type": "circle",
                              "x0": 0,
                              "x1": 175,
                              "y0": -2.433070486643515,
                              "y1": 1.2233023676513313
                            }
                          ]
                        ],
                        "label": "Cluster",
                        "method": "relayout"
                      }
                    ],
                    "type": "buttons"
                  }
                ],
                "xaxis": {
                  "anchor": "y",
                  "domain": [
                    0,
                    1
                  ],
                  "title": {
                    "text": "index"
                  }
                },
                "yaxis": {
                  "anchor": "x",
                  "domain": [
                    0,
                    1
                  ],
                  "title": {
                    "text": "sample"
                  }
                }
              }
            }
          },
          "metadata": {},
          "output_type": "display_data"
        }
      ],
      "source": [
        "numbers = pd.DataFrame(np.random.randn(351), columns = [\"sample\",])\n",
        "numbers[\"special_points\"]=numbers[\"sample\"].apply(lambda x: find_special_points(x,numbers[\"sample\"]))\n",
        "\n",
        "chart = px.scatter(\n",
        "        numbers,\n",
        "        x=numbers.index,\n",
        "        y=\"sample\",\n",
        "        color=\"special_points\",\n",
        "        color_discrete_map={\n",
        "            \"max\": \"#800E13\",\n",
        "            \"median\": \"#169873\",\n",
        "            \"min\": \"#2C497F\",\n",
        "            \"not special\": \"#E4DFDA\",\n",
        "                },\n",
        "        render_mode=\"webgl\",\n",
        "        template='none',\n",
        "        size=[10 for item in numbers[\"sample\"]],\n",
        "        title=\"Here're your points\"\n",
        "    )\n",
        "\n",
        "cluster = [\n",
        "           {\n",
        "               \"type\": \"circle\",\n",
        "               \"x0\": min(numbers.index), \n",
        "               \"y0\": min(numbers[\"sample\"]+0.5),\n",
        "               \"x1\": max(numbers.index)/2, \n",
        "               \"y1\": max(numbers[\"sample\"]/2),\n",
        "               \"line\": {\"color\": \"DarkOrange\", \"width\": 2, \"dash\": \"dashdot\"},\n",
        "               \"filcolor\": \"LightSkyBlue\"\n",
        "           }\n",
        "]\n",
        "\n",
        "chart.update_layout(\n",
        "    updatemenus=[\n",
        "        dict(\n",
        "            type=\"buttons\",\n",
        "            buttons=[\n",
        "                dict(label=\"None\",\n",
        "                     method=\"relayout\",\n",
        "                     args=[\"shapes\", []]),\n",
        "                dict(label=\"Cluster\",\n",
        "                     method=\"relayout\",\n",
        "                     args=[\"shapes\", cluster])\n",
        "            ],\n",
        "        )\n",
        "    ]\n",
        ")"
      ]
    },
    {
      "cell_type": "code",
      "execution_count": 7,
      "metadata": {
        "id": "cEcfO5a2K-d6"
      },
      "outputs": [
        {
          "data": {
            "text/html": [
              "\n",
              "        <iframe\n",
              "            width=\"100%\"\n",
              "            height=\"650\"\n",
              "            src=\"http://127.0.0.1:54112/\"\n",
              "            frameborder=\"0\"\n",
              "            allowfullscreen\n",
              "            \n",
              "        ></iframe>\n",
              "        "
            ],
            "text/plain": [
              "<IPython.lib.display.IFrame at 0x1bce2a3c3e0>"
            ]
          },
          "metadata": {},
          "output_type": "display_data"
        }
      ],
      "source": [
        "app = Dash()\n",
        "\n",
        "# App layout\n",
        "app.layout = html.Div(children=[\n",
        "    # A Boolean switch, toggles between ON and OFF\n",
        "    daq.BooleanSwitch(id='bswitch', on=False),\n",
        "\n",
        "    # A knob control, which allows selecting values by rotating it\n",
        "    daq.Knob(id='knob'),\n",
        "\n",
        "    # A div that displays information about the current state of the Boolean switch and the knob\n",
        "    html.Div(id='bswitch-info'),\n",
        "\n",
        "    # A gauge showing a value, controlled by the slider\n",
        "    daq.Gauge(id='gauge', label=\"Gauge\", value=8),\n",
        "\n",
        "    # A graduated bar showing a value, controlled by the slider\n",
        "    daq.GraduatedBar(id='gbar', label=\"Graduated bar\", value=6),\n",
        "\n",
        "    # A slider to select a value between 0 and 10\n",
        "    html.Div(children=[\n",
        "        dcc.Slider(\n",
        "            id='slider',\n",
        "            min=0, \n",
        "            max=10, \n",
        "            step=1, \n",
        "            value=3  # Default value\n",
        "        )\n",
        "    ], style={\"width\": \"100%\"}),\n",
        "],\n",
        "    # Styling for the main layout container\n",
        "    style={\n",
        "        \"display\": \"flex\",\n",
        "        \"flex-direction\": \"column\",\n",
        "        \"justify-content\": \"center\",\n",
        "        \"align-items\": 'center',\n",
        "        \"align-content\": \"center\",\n",
        "        \"height\": \"100%\",\n",
        "        \"width\": \"75%\",\n",
        "        \"fontFamily\": \"verdana\",\n",
        "        \"color\": \"#444\"\n",
        "    }\n",
        ")\n",
        "\n",
        "# Callback to update the text in the 'bswitch-info' div\n",
        "# Triggered by changes in the Boolean switch or knob value\n",
        "@app.callback(\n",
        "    Output('bswitch-info', 'children'),\n",
        "    Input('bswitch', 'on'),  # Boolean switch state (True/False)\n",
        "    Input('knob', 'value'),  # Current value of the knob\n",
        ")\n",
        "def update_bswitch_info(on, value):\n",
        "    # Display the current state of the Boolean switch and the knob value\n",
        "    return ('Switched {}.'.format(on) \n",
        "    + ', the knob is set to {}.'.format(value))\n",
        "\n",
        "# Callback to update the values of the gauge and graduated bar\n",
        "# Triggered by changes in the slider value\n",
        "@app.callback(\n",
        "    Output('gauge', 'value'),  # Update gauge value\n",
        "    Output('gbar', 'value'),  # Update graduated bar value\n",
        "    Input('slider', 'value'))  # Slider value as input\n",
        "def update_gauge_and_bar(value):\n",
        "    return value, value\n",
        "\n",
        "# Callback to automatically toggle the Boolean switch based on the slider value\n",
        "@app.callback(\n",
        "    Output('bswitch', 'on'),  # Update Boolean switch state\n",
        "    Input('slider', 'value'))  # Slider value as input\n",
        "def update_bswitch_on_slider(value):\n",
        "    # Set Boolean switch to True if slider value is 5 or more, otherwise False\n",
        "    return value >= 5\n",
        "\n",
        "# Run the app\n",
        "if __name__ == '__main__':\n",
        "    app.run_server(debug=True)"
      ]
    }
  ],
  "metadata": {
    "colab": {
      "collapsed_sections": [],
      "name": "ploty animations, plotly shapes, dash daq.ipynb",
      "provenance": []
    },
    "kernelspec": {
      "display_name": "base",
      "language": "python",
      "name": "python3"
    },
    "language_info": {
      "codemirror_mode": {
        "name": "ipython",
        "version": 3
      },
      "file_extension": ".py",
      "mimetype": "text/x-python",
      "name": "python",
      "nbconvert_exporter": "python",
      "pygments_lexer": "ipython3",
      "version": "3.12.7"
    }
  },
  "nbformat": 4,
  "nbformat_minor": 0
}
