{
 "cells": [
  {
   "cell_type": "code",
   "execution_count": 66,
   "metadata": {},
   "outputs": [],
   "source": [
    "import seaborn as sns\n",
    "import matplotlib.pyplot as plt\n",
    "import pandas as pd\n",
    "import numpy as np\n",
    "import plotly.express as px\n",
    "import dash\n",
    "from dash import dcc, html\n",
    "from dash.dependencies import Input, Output\n",
    "import geopandas as gpd\n",
    "from shapely.geometry import Point"
   ]
  },
  {
   "cell_type": "markdown",
   "metadata": {},
   "source": [
    "**1) Import data**"
   ]
  },
  {
   "cell_type": "code",
   "execution_count": 67,
   "metadata": {},
   "outputs": [],
   "source": [
    "df = pd.read_csv(\"./workshop/project_1_python.csv\")"
   ]
  },
  {
   "cell_type": "code",
   "execution_count": 68,
   "metadata": {},
   "outputs": [
    {
     "name": "stdout",
     "output_type": "stream",
     "text": [
      "<class 'pandas.core.frame.DataFrame'>\n",
      "RangeIndex: 180477 entries, 0 to 180476\n",
      "Data columns (total 24 columns):\n",
      " #   Column                   Non-Null Count   Dtype  \n",
      "---  ------                   --------------   -----  \n",
      " 0   index                    180477 non-null  int64  \n",
      " 1   iso_code                 180477 non-null  object \n",
      " 2   continent                180477 non-null  object \n",
      " 3   location                 180477 non-null  object \n",
      " 4   date                     180477 non-null  object \n",
      " 5   total_cases              173493 non-null  float64\n",
      " 6   new_cases                173212 non-null  float64\n",
      " 7   total_deaths             155323 non-null  float64\n",
      " 8   new_deaths               155095 non-null  float64\n",
      " 9   hosp_patients            27152 non-null   float64\n",
      " 10  total_tests              78326 non-null   float64\n",
      " 11  new_tests                74509 non-null   float64\n",
      " 12  tests_per_case           92600 non-null   float64\n",
      " 13  total_vaccinations       46366 non-null   float64\n",
      " 14  people_vaccinated        43851 non-null   float64\n",
      " 15  people_fully_vaccinated  41524 non-null   float64\n",
      " 16  total_boosters           19866 non-null   float64\n",
      " 17  new_vaccinations         36940 non-null   float64\n",
      " 18  population               180477 non-null  float64\n",
      " 19  median_age               159326 non-null  float64\n",
      " 20  gdp_per_capita           157994 non-null  float64\n",
      " 21  life_expectancy          179426 non-null  float64\n",
      " 22  latitude                 180477 non-null  float64\n",
      " 23  longitude                180477 non-null  float64\n",
      "dtypes: float64(19), int64(1), object(4)\n",
      "memory usage: 33.0+ MB\n"
     ]
    }
   ],
   "source": [
    "df.info()"
   ]
  },
  {
   "cell_type": "code",
   "execution_count": 69,
   "metadata": {},
   "outputs": [
    {
     "data": {
      "text/plain": [
       "index                        int64\n",
       "iso_code                    object\n",
       "continent                   object\n",
       "location                    object\n",
       "date                        object\n",
       "total_cases                float64\n",
       "new_cases                  float64\n",
       "total_deaths               float64\n",
       "new_deaths                 float64\n",
       "hosp_patients              float64\n",
       "total_tests                float64\n",
       "new_tests                  float64\n",
       "tests_per_case             float64\n",
       "total_vaccinations         float64\n",
       "people_vaccinated          float64\n",
       "people_fully_vaccinated    float64\n",
       "total_boosters             float64\n",
       "new_vaccinations           float64\n",
       "population                 float64\n",
       "median_age                 float64\n",
       "gdp_per_capita             float64\n",
       "life_expectancy            float64\n",
       "latitude                   float64\n",
       "longitude                  float64\n",
       "dtype: object"
      ]
     },
     "execution_count": 69,
     "metadata": {},
     "output_type": "execute_result"
    }
   ],
   "source": [
    "df.dtypes"
   ]
  },
  {
   "cell_type": "markdown",
   "metadata": {},
   "source": [
    "**2) first visualization**"
   ]
  },
  {
   "cell_type": "code",
   "execution_count": 70,
   "metadata": {},
   "outputs": [
    {
     "data": {
      "text/plain": [
       "array(['Afghanistan', 'Albania', 'Algeria', 'Andorra', 'Angola',\n",
       "       'Anguilla', 'Antigua and Barbuda', 'Argentina', 'Armenia', 'Aruba',\n",
       "       'Australia', 'Austria', 'Azerbaijan', 'Bahamas', 'Bahrain',\n",
       "       'Bangladesh', 'Barbados', 'Belarus', 'Belgium', 'Belize', 'Benin',\n",
       "       'Bermuda', 'Bhutan', 'Bolivia', 'Bosnia and Herzegovina',\n",
       "       'Botswana', 'Brazil', 'British Virgin Islands', 'Brunei',\n",
       "       'Bulgaria', 'Burkina Faso', 'Burundi', 'Cambodia', 'Cameroon',\n",
       "       'Canada', 'Cape Verde', 'Cayman Islands',\n",
       "       'Central African Republic', 'Chad', 'Chile', 'China', 'Colombia',\n",
       "       'Comoros', 'Congo', 'Cook Islands', 'Costa Rica', \"Cote d'Ivoire\",\n",
       "       'Croatia', 'Cuba', 'Cyprus', 'Czechia',\n",
       "       'Democratic Republic of Congo', 'Denmark', 'Djibouti', 'Dominica',\n",
       "       'Dominican Republic', 'Ecuador', 'Egypt', 'El Salvador',\n",
       "       'Equatorial Guinea', 'Eritrea', 'Estonia', 'Eswatini', 'Ethiopia',\n",
       "       'Faeroe Islands', 'Falkland Islands', 'Fiji', 'Finland', 'France',\n",
       "       'French Polynesia', 'Gabon', 'Gambia', 'Georgia', 'Germany',\n",
       "       'Ghana', 'Gibraltar', 'Greece', 'Greenland', 'Grenada', 'Guam',\n",
       "       'Guatemala', 'Guernsey', 'Guinea', 'Guinea-Bissau', 'Guyana',\n",
       "       'Haiti', 'Honduras', 'Hong Kong', 'Hungary', 'Iceland', 'India',\n",
       "       'Indonesia', 'Iran', 'Iraq', 'Ireland', 'Isle of Man', 'Israel',\n",
       "       'Italy', 'Jamaica', 'Japan', 'Jersey', 'Jordan', 'Kazakhstan',\n",
       "       'Kenya', 'Kiribati', 'Kuwait', 'Kyrgyzstan', 'Laos', 'Latvia',\n",
       "       'Lebanon', 'Lesotho', 'Liberia', 'Libya', 'Liechtenstein',\n",
       "       'Lithuania', 'Luxembourg', 'Macao', 'Madagascar', 'Malawi',\n",
       "       'Malaysia', 'Maldives', 'Mali', 'Malta', 'Marshall Islands',\n",
       "       'Mauritania', 'Mauritius', 'Mexico', 'Micronesia (country)',\n",
       "       'Moldova', 'Monaco', 'Mongolia', 'Montenegro', 'Montserrat',\n",
       "       'Morocco', 'Mozambique', 'Myanmar', 'Namibia', 'Nauru', 'Nepal',\n",
       "       'Netherlands', 'New Caledonia', 'New Zealand', 'Nicaragua',\n",
       "       'Niger', 'Nigeria', 'Niue', 'North Korea', 'North Macedonia',\n",
       "       'Northern Mariana Islands', 'Norway', 'Oman', 'Pakistan', 'Palau',\n",
       "       'Palestine', 'Panama', 'Papua New Guinea', 'Paraguay', 'Peru',\n",
       "       'Philippines', 'Pitcairn', 'Poland', 'Portugal', 'Puerto Rico',\n",
       "       'Qatar', 'Romania', 'Russia', 'Rwanda', 'Saint Helena',\n",
       "       'Saint Kitts and Nevis', 'Saint Lucia',\n",
       "       'Saint Pierre and Miquelon', 'Saint Vincent and the Grenadines',\n",
       "       'Samoa', 'San Marino', 'Sao Tome and Principe', 'Saudi Arabia',\n",
       "       'Senegal', 'Serbia', 'Seychelles', 'Sierra Leone', 'Singapore',\n",
       "       'Slovakia', 'Slovenia', 'Solomon Islands', 'Somalia',\n",
       "       'South Africa', 'South Korea', 'South Sudan', 'Spain', 'Sri Lanka',\n",
       "       'Sudan', 'Suriname', 'Sweden', 'Switzerland', 'Syria', 'Taiwan',\n",
       "       'Tajikistan', 'Tanzania', 'Thailand', 'Timor', 'Togo', 'Tokelau',\n",
       "       'Tonga', 'Trinidad and Tobago', 'Tunisia', 'Turkey',\n",
       "       'Turkmenistan', 'Turks and Caicos Islands', 'Tuvalu', 'Uganda',\n",
       "       'Ukraine', 'United Arab Emirates', 'United Kingdom',\n",
       "       'United States', 'United States Virgin Islands', 'Uruguay',\n",
       "       'Uzbekistan', 'Vanuatu', 'Vatican', 'Venezuela', 'Vietnam',\n",
       "       'Wallis and Futuna', 'Western Sahara', 'Yemen', 'Zambia',\n",
       "       'Zimbabwe'], dtype=object)"
      ]
     },
     "execution_count": 70,
     "metadata": {},
     "output_type": "execute_result"
    }
   ],
   "source": [
    "df[\"location\"].unique()"
   ]
  },
  {
   "cell_type": "code",
   "execution_count": 71,
   "metadata": {},
   "outputs": [],
   "source": [
    "# Grouping and selecting data by country code (iso_code)\n",
    "df_grouped = df.groupby(\"iso_code\", as_index=False).first()[[\"iso_code\", \"population\"]]\n",
    "df_grouped = df_grouped.sort_values(by=\"population\", ascending=False).head(10)"
   ]
  },
  {
   "cell_type": "code",
   "execution_count": 72,
   "metadata": {},
   "outputs": [],
   "source": [
    "# Grouping and selecting data by country name (location)\n",
    "df_grouped_location = df.groupby(\"location\", as_index=False).first()[[\"location\", \"population\"]]\n",
    "df_grouped_location = df_grouped_location.sort_values(by=\"population\", ascending=False).head(10)"
   ]
  },
  {
   "cell_type": "code",
   "execution_count": 73,
   "metadata": {},
   "outputs": [],
   "source": [
    "# Setting the chart style \n",
    "sns.set_theme(\n",
    "    style=\"whitegrid\",\n",
    "    context='talk', \n",
    "    palette=\"pastel\",\n",
    ")"
   ]
  },
  {
   "cell_type": "code",
   "execution_count": 74,
   "metadata": {},
   "outputs": [
    {
     "data": {
      "image/png": "[encoded data removed]",
      "text/plain": [
       "<Figure size 1400x800 with 1 Axes>"
      ]
     },
     "metadata": {},
     "output_type": "display_data"
    }
   ],
   "source": [
    "# 1. Graf: Population per country using iso_code\n",
    "plt.figure(figsize=(14, 8))\n",
    "sns.barplot(x=\"iso_code\", y=\"population\", data=df_grouped)\n",
    "plt.title(\"Top 10 Countries by Population (ISO Code)\", fontsize=16)\n",
    "plt.xlabel(\"Country (ISO code)\", fontsize=12, labelpad=20)\n",
    "plt.ylabel(\"Population\", fontsize=12)\n",
    "plt.xticks(fontsize=10)\n",
    "plt.yticks(fontsize=10)\n",
    "plt.show()"
   ]
  },
  {
   "cell_type": "code",
   "execution_count": 75,
   "metadata": {},
   "outputs": [
    {
     "data": {
      "image/png": "[encoded data removed]",
      "text/plain": [
       "<Figure size 1400x800 with 1 Axes>"
      ]
     },
     "metadata": {},
     "output_type": "display_data"
    }
   ],
   "source": [
    "# 2. Graf: Population per country using location\n",
    "plt.figure(figsize=(14, 8))\n",
    "sns.barplot(x=\"location\", y=\"population\", data=df_grouped_location)\n",
    "plt.xticks(rotation=45, fontsize=12)\n",
    "plt.title(\"Top 10 Countries by Population (Location)\", fontsize=16)\n",
    "plt.xlabel(\"Country\", fontsize=14)\n",
    "plt.ylabel(\"Population\", fontsize=14)\n",
    "plt.yticks(fontsize=10)\n",
    "plt.tight_layout()\n",
    "plt.show()"
   ]
  },
  {
   "cell_type": "markdown",
   "metadata": {},
   "source": [
    "**3) population vs. life expectancy**"
   ]
  },
  {
   "cell_type": "code",
   "execution_count": 76,
   "metadata": {},
   "outputs": [],
   "source": [
    "df_life_expectancy = df[[\"location\", \"population\", \"continent\", \"life_expectancy\"]].drop_duplicates()"
   ]
  },
  {
   "cell_type": "code",
   "execution_count": 77,
   "metadata": {},
   "outputs": [
    {
     "data": {
      "application/vnd.plotly.v1+json": {
       "config": {
        "plotlyServerURL": "https://plot.ly"
       },
       "data": [
        {
         "hovertemplate": "continent=Asia<br>population=%{x}<br>life_expectancy=%{y}<extra></extra>",
         "legendgroup": "Asia",
         "marker": {
          "color": "#3366CC",
          "line": {
           "color": "black",
           "width": 1
          },
          "opacity": 0.8,
          "size": 10,
          "symbol": "circle"
         },
         "mode": "markers",
         "name": "Asia",
         "orientation": "v",
         "showlegend": true,
         "type": "scatter",
         "x": [
          39835428,
          2968128,
          10223344,
          1748295,
          166303494,
          779900,
          441532,
          16946446,
          1444216102,
          3979773,
          7552800,
          1393409033,
          276361788,
          85028760,
          41179351,
          9291000,
          126050796,
          10269022,
          18994958,
          4328553,
          6628347,
          7379358,
          6769151,
          658391,
          32776195,
          543620,
          3329282,
          54806014,
          29674920,
          25887045,
          5223376,
          225199929,
          5222756,
          111046910,
          2930524,
          35340680,
          5453600,
          51305184,
          21497306,
          18275704,
          23855008,
          9749625,
          69950844,
          1343875,
          85042736,
          6117933,
          9991083,
          33935765,
          98168829,
          30490639
         ],
         "xaxis": "x",
         "y": [
          64.83,
          75.09,
          73,
          77.29,
          72.59,
          71.78,
          75.86,
          69.82,
          76.91,
          73.77,
          84.86,
          69.66,
          71.72,
          76.68,
          70.6,
          82.97,
          84.63,
          74.53,
          73.6,
          75.49,
          71.45,
          67.92,
          78.93,
          84.24,
          76.16,
          78.92,
          69.87,
          67.13,
          70.78,
          72.27,
          77.86,
          67.27,
          74.05,
          71.23,
          80.23,
          75.13,
          83.62,
          83.03,
          76.98,
          72.7,
          80.46,
          71.1,
          77.15,
          69.5,
          77.69,
          68.19,
          77.97,
          71.72,
          75.4,
          66.12
         ],
         "yaxis": "y"
        },
        {
         "hovertemplate": "continent=Europe<br>population=%{x}<br>life_expectancy=%{y}<extra></extra>",
         "legendgroup": "Europe",
         "marker": {
          "color": "#DC3912",
          "line": {
           "color": "black",
           "width": 1
          },
          "opacity": 0.8,
          "size": 10,
          "symbol": "circle"
         },
         "mode": "markers",
         "name": "Europe",
         "orientation": "v",
         "showlegend": true,
         "type": "scatter",
         "x": [
          2872934,
          77354,
          9043072,
          9442867,
          11632334,
          3263459,
          6896655,
          4081657,
          896005,
          10724553,
          5813302,
          1325188,
          49053,
          5548361,
          67422000,
          83900471,
          33691,
          10370747,
          63385,
          9634162,
          368792,
          4982904,
          85410,
          60367471,
          101073,
          1866934,
          38254,
          2689862,
          634814,
          516100,
          4024025,
          39520,
          628051,
          17173094,
          2082661,
          5465629,
          37797000,
          10167923,
          19127772,
          145912022,
          34010,
          6871547,
          5449270,
          2078723,
          46745211,
          10160159,
          8715494,
          43466822,
          68207114,
          812
         ],
         "xaxis": "x",
         "y": [
          78.57,
          83.73,
          81.54,
          74.79,
          81.63,
          77.4,
          75.05,
          78.49,
          80.98,
          79.38,
          80.9,
          78.74,
          80.67,
          81.91,
          82.66,
          81.33,
          79.93,
          82.24,
          null,
          76.88,
          82.99,
          82.3,
          81.4,
          83.51,
          null,
          75.29,
          82.49,
          75.93,
          82.25,
          82.53,
          71.9,
          86.75,
          76.88,
          82.28,
          75.8,
          82.4,
          78.73,
          82.05,
          76.05,
          72.58,
          84.97,
          76,
          77.54,
          81.32,
          83.56,
          82.8,
          83.78,
          72.06,
          81.32,
          75.12
         ],
         "yaxis": "y"
        },
        {
         "hovertemplate": "continent=Africa<br>population=%{x}<br>life_expectancy=%{y}<extra></extra>",
         "legendgroup": "Africa",
         "marker": {
          "color": "#FF9900",
          "line": {
           "color": "black",
           "width": 1
          },
          "opacity": 0.8,
          "size": 10,
          "symbol": "circle"
         },
         "mode": "markers",
         "name": "Africa",
         "orientation": "v",
         "showlegend": true,
         "type": "scatter",
         "x": [
          44616626,
          33933611,
          12451031,
          2397240,
          21497097,
          12255429,
          27224262,
          561901,
          4919987,
          16914985,
          888456,
          5657017,
          27053629,
          92377986,
          1002197,
          104258327,
          1449891,
          3601462,
          1172369,
          117876226,
          2278829,
          2486937,
          31732128,
          13497237,
          2015490,
          54985702,
          2159067,
          5180208,
          6958538,
          28427333,
          19647681,
          20855724,
          4775110,
          1273428,
          37344787,
          32163045,
          2587344,
          25130810,
          211400704,
          13276517,
          6095,
          223364,
          17196308,
          98910,
          8141343,
          16359500,
          60041996,
          11381377,
          44909351,
          61498438,
          8478242,
          11935764,
          47123533,
          611872,
          18920657,
          15092171
         ],
         "xaxis": "x",
         "y": [
          76.88,
          61.15,
          61.77,
          69.59,
          61.58,
          61.58,
          59.29,
          72.98,
          53.28,
          54.24,
          64.32,
          64.57,
          57.78,
          60.68,
          67.11,
          71.99,
          58.74,
          66.32,
          60.19,
          66.6,
          66.47,
          62.05,
          64.07,
          61.6,
          58.32,
          66.7,
          54.33,
          64.1,
          72.91,
          67.04,
          64.26,
          59.31,
          64.92,
          74.99,
          76.68,
          60.85,
          63.71,
          62.42,
          54.69,
          69.02,
          80.56,
          70.39,
          67.94,
          73.4,
          54.7,
          57.4,
          64.13,
          57.85,
          65.31,
          65.46,
          61.04,
          76.7,
          63.37,
          70.26,
          63.89,
          61.49
         ],
         "yaxis": "y"
        },
        {
         "hovertemplate": "continent=North America<br>population=%{x}<br>life_expectancy=%{y}<extra></extra>",
         "legendgroup": "North America",
         "marker": {
          "color": "#109618",
          "line": {
           "color": "black",
           "width": 1
          },
          "opacity": 0.8,
          "size": 10,
          "symbol": "circle"
         },
         "mode": "markers",
         "name": "North America",
         "orientation": "v",
         "showlegend": true,
         "type": "scatter",
         "x": [
          15125,
          98728,
          107195,
          396914,
          287708,
          404915,
          62092,
          30423,
          38067913,
          66498,
          5139053,
          11317498,
          72172,
          10953714,
          6518500,
          56868,
          113015,
          18249868,
          11541683,
          10062994,
          2973462,
          130262220,
          4981,
          6702379,
          4381583,
          2828246,
          53546,
          184401,
          5771,
          111269,
          1403374,
          39226,
          332915074,
          104218
         ],
         "xaxis": "x",
         "y": [
          81.88,
          77.02,
          76.29,
          73.92,
          79.19,
          74.62,
          82.59,
          79.07,
          82.43,
          83.92,
          80.28,
          78.8,
          75,
          74.08,
          73.32,
          71.7,
          72.4,
          74.3,
          64,
          75.27,
          74.47,
          75.05,
          74.16,
          74.48,
          78.51,
          80.1,
          76.23,
          76.2,
          81.07,
          72.53,
          73.51,
          80.22,
          78.86,
          80.58
         ],
         "yaxis": "y"
        },
        {
         "hovertemplate": "continent=South America<br>population=%{x}<br>life_expectancy=%{y}<extra></extra>",
         "legendgroup": "South America",
         "marker": {
          "color": "#990099",
          "line": {
           "color": "black",
           "width": 1
          },
          "opacity": 0.8,
          "size": 10,
          "symbol": "circle"
         },
         "mode": "markers",
         "name": "South America",
         "orientation": "v",
         "showlegend": true,
         "type": "scatter",
         "x": [
          45605823,
          11832936,
          213993441,
          19212362,
          51265841,
          17888474,
          3528,
          790329,
          7219641,
          33359415,
          591798,
          3485152,
          28704947
         ],
         "xaxis": "x",
         "y": [
          76.67,
          71.51,
          75.88,
          80.18,
          77.29,
          77.01,
          81.44,
          69.91,
          74.25,
          76.74,
          71.68,
          77.91,
          72.06
         ],
         "yaxis": "y"
        },
        {
         "hovertemplate": "continent=Oceania<br>population=%{x}<br>life_expectancy=%{y}<extra></extra>",
         "legendgroup": "Oceania",
         "marker": {
          "color": "#0099C6",
          "line": {
           "color": "black",
           "width": 1
          },
          "opacity": 0.8,
          "size": 10,
          "symbol": "circle"
         },
         "mode": "markers",
         "name": "Oceania",
         "orientation": "v",
         "showlegend": true,
         "type": "scatter",
         "x": [
          25788217,
          17572,
          902899,
          282534,
          170184,
          121388,
          59618,
          116255,
          10873,
          288217,
          5126300,
          1614,
          57910,
          18174,
          9119005,
          47,
          200144,
          703995,
          1368,
          106759,
          11925,
          314464,
          11094
         ],
         "xaxis": "x",
         "y": [
          83.44,
          76.25,
          67.44,
          77.66,
          80.07,
          68.37,
          73.7,
          67.88,
          59.96,
          77.55,
          82.29,
          73.71,
          76.74,
          73.7,
          64.5,
          null,
          73.32,
          73,
          81.86,
          70.91,
          67.57,
          70.47,
          79.94
         ],
         "yaxis": "y"
        }
       ],
       "layout": {
        "legend": {
         "orientation": "h",
         "title": {
          "text": "Continent"
         },
         "tracegroupgap": 0,
         "x": 0.5,
         "xanchor": "center",
         "y": -0.3
        },
        "template": {
         "data": {
          "bar": [
           {
            "error_x": {
             "color": "#2a3f5f"
            },
            "error_y": {
             "color": "#2a3f5f"
            },
            "marker": {
             "line": {
              "color": "white",
              "width": 0.5
             },
             "pattern": {
              "fillmode": "overlay",
              "size": 10,
              "solidity": 0.2
             }
            },
            "type": "bar"
           }
          ],
          "barpolar": [
           {
            "marker": {
             "line": {
              "color": "white",
              "width": 0.5
             },
             "pattern": {
              "fillmode": "overlay",
              "size": 10,
              "solidity": 0.2
             }
            },
            "type": "barpolar"
           }
          ],
          "carpet": [
           {
            "aaxis": {
             "endlinecolor": "#2a3f5f",
             "gridcolor": "#C8D4E3",
             "linecolor": "#C8D4E3",
             "minorgridcolor": "#C8D4E3",
             "startlinecolor": "#2a3f5f"
            },
            "baxis": {
             "endlinecolor": "#2a3f5f",
             "gridcolor": "#C8D4E3",
             "linecolor": "#C8D4E3",
             "minorgridcolor": "#C8D4E3",
             "startlinecolor": "#2a3f5f"
            },
            "type": "carpet"
           }
          ],
          "choropleth": [
           {
            "colorbar": {
             "outlinewidth": 0,
             "ticks": ""
            },
            "type": "choropleth"
           }
          ],
          "contour": [
           {
            "colorbar": {
             "outlinewidth": 0,
             "ticks": ""
            },
            "colorscale": [
             [
              0,
              "#0d0887"
             ],
             [
              0.1111111111111111,
              "#46039f"
             ],
             [
              0.2222222222222222,
              "#7201a8"
             ],
             [
              0.3333333333333333,
              "#9c179e"
             ],
             [
              0.4444444444444444,
              "#bd3786"
             ],
             [
              0.5555555555555556,
              "#d8576b"
             ],
             [
              0.6666666666666666,
              "#ed7953"
             ],
             [
              0.7777777777777778,
              "#fb9f3a"
             ],
             [
              0.8888888888888888,
              "#fdca26"
             ],
             [
              1,
              "#f0f921"
             ]
            ],
            "type": "contour"
           }
          ],
          "contourcarpet": [
           {
            "colorbar": {
             "outlinewidth": 0,
             "ticks": ""
            },
            "type": "contourcarpet"
           }
          ],
          "heatmap": [
           {
            "colorbar": {
             "outlinewidth": 0,
             "ticks": ""
            },
            "colorscale": [
             [
              0,
              "#0d0887"
             ],
             [
              0.1111111111111111,
              "#46039f"
             ],
             [
              0.2222222222222222,
              "#7201a8"
             ],
             [
              0.3333333333333333,
              "#9c179e"
             ],
             [
              0.4444444444444444,
              "#bd3786"
             ],
             [
              0.5555555555555556,
              "#d8576b"
             ],
             [
              0.6666666666666666,
              "#ed7953"
             ],
             [
              0.7777777777777778,
              "#fb9f3a"
             ],
             [
              0.8888888888888888,
              "#fdca26"
             ],
             [
              1,
              "#f0f921"
             ]
            ],
            "type": "heatmap"
           }
          ],
          "heatmapgl": [
           {
            "colorbar": {
             "outlinewidth": 0,
             "ticks": ""
            },
            "colorscale": [
             [
              0,
              "#0d0887"
             ],
             [
              0.1111111111111111,
              "#46039f"
             ],
             [
              0.2222222222222222,
              "#7201a8"
             ],
             [
              0.3333333333333333,
              "#9c179e"
             ],
             [
              0.4444444444444444,
              "#bd3786"
             ],
             [
              0.5555555555555556,
              "#d8576b"
             ],
             [
              0.6666666666666666,
              "#ed7953"
             ],
             [
              0.7777777777777778,
              "#fb9f3a"
             ],
             [
              0.8888888888888888,
              "#fdca26"
             ],
             [
              1,
              "#f0f921"
             ]
            ],
            "type": "heatmapgl"
           }
          ],
          "histogram": [
           {
            "marker": {
             "pattern": {
              "fillmode": "overlay",
              "size": 10,
              "solidity": 0.2
             }
            },
            "type": "histogram"
           }
          ],
          "histogram2d": [
           {
            "colorbar": {
             "outlinewidth": 0,
             "ticks": ""
            },
            "colorscale": [
             [
              0,
              "#0d0887"
             ],
             [
              0.1111111111111111,
              "#46039f"
             ],
             [
              0.2222222222222222,
              "#7201a8"
             ],
             [
              0.3333333333333333,
              "#9c179e"
             ],
             [
              0.4444444444444444,
              "#bd3786"
             ],
             [
              0.5555555555555556,
              "#d8576b"
             ],
             [
              0.6666666666666666,
              "#ed7953"
             ],
             [
              0.7777777777777778,
              "#fb9f3a"
             ],
             [
              0.8888888888888888,
              "#fdca26"
             ],
             [
              1,
              "#f0f921"
             ]
            ],
            "type": "histogram2d"
           }
          ],
          "histogram2dcontour": [
           {
            "colorbar": {
             "outlinewidth": 0,
             "ticks": ""
            },
            "colorscale": [
             [
              0,
              "#0d0887"
             ],
             [
              0.1111111111111111,
              "#46039f"
             ],
             [
              0.2222222222222222,
              "#7201a8"
             ],
             [
              0.3333333333333333,
              "#9c179e"
             ],
             [
              0.4444444444444444,
              "#bd3786"
             ],
             [
              0.5555555555555556,
              "#d8576b"
             ],
             [
              0.6666666666666666,
              "#ed7953"
             ],
             [
              0.7777777777777778,
              "#fb9f3a"
             ],
             [
              0.8888888888888888,
              "#fdca26"
             ],
             [
              1,
              "#f0f921"
             ]
            ],
            "type": "histogram2dcontour"
           }
          ],
          "mesh3d": [
           {
            "colorbar": {
             "outlinewidth": 0,
             "ticks": ""
            },
            "type": "mesh3d"
           }
          ],
          "parcoords": [
           {
            "line": {
             "colorbar": {
              "outlinewidth": 0,
              "ticks": ""
             }
            },
            "type": "parcoords"
           }
          ],
          "pie": [
           {
            "automargin": true,
            "type": "pie"
           }
          ],
          "scatter": [
           {
            "fillpattern": {
             "fillmode": "overlay",
             "size": 10,
             "solidity": 0.2
            },
            "type": "scatter"
           }
          ],
          "scatter3d": [
           {
            "line": {
             "colorbar": {
              "outlinewidth": 0,
              "ticks": ""
             }
            },
            "marker": {
             "colorbar": {
              "outlinewidth": 0,
              "ticks": ""
             }
            },
            "type": "scatter3d"
           }
          ],
          "scattercarpet": [
           {
            "marker": {
             "colorbar": {
              "outlinewidth": 0,
              "ticks": ""
             }
            },
            "type": "scattercarpet"
           }
          ],
          "scattergeo": [
           {
            "marker": {
             "colorbar": {
              "outlinewidth": 0,
              "ticks": ""
             }
            },
            "type": "scattergeo"
           }
          ],
          "scattergl": [
           {
            "marker": {
             "colorbar": {
              "outlinewidth": 0,
              "ticks": ""
             }
            },
            "type": "scattergl"
           }
          ],
          "scattermapbox": [
           {
            "marker": {
             "colorbar": {
              "outlinewidth": 0,
              "ticks": ""
             }
            },
            "type": "scattermapbox"
           }
          ],
          "scatterpolar": [
           {
            "marker": {
             "colorbar": {
              "outlinewidth": 0,
              "ticks": ""
             }
            },
            "type": "scatterpolar"
           }
          ],
          "scatterpolargl": [
           {
            "marker": {
             "colorbar": {
              "outlinewidth": 0,
              "ticks": ""
             }
            },
            "type": "scatterpolargl"
           }
          ],
          "scatterternary": [
           {
            "marker": {
             "colorbar": {
              "outlinewidth": 0,
              "ticks": ""
             }
            },
            "type": "scatterternary"
           }
          ],
          "surface": [
           {
            "colorbar": {
             "outlinewidth": 0,
             "ticks": ""
            },
            "colorscale": [
             [
              0,
              "#0d0887"
             ],
             [
              0.1111111111111111,
              "#46039f"
             ],
             [
              0.2222222222222222,
              "#7201a8"
             ],
             [
              0.3333333333333333,
              "#9c179e"
             ],
             [
              0.4444444444444444,
              "#bd3786"
             ],
             [
              0.5555555555555556,
              "#d8576b"
             ],
             [
              0.6666666666666666,
              "#ed7953"
             ],
             [
              0.7777777777777778,
              "#fb9f3a"
             ],
             [
              0.8888888888888888,
              "#fdca26"
             ],
             [
              1,
              "#f0f921"
             ]
            ],
            "type": "surface"
           }
          ],
          "table": [
           {
            "cells": {
             "fill": {
              "color": "#EBF0F8"
             },
             "line": {
              "color": "white"
             }
            },
            "header": {
             "fill": {
              "color": "#C8D4E3"
             },
             "line": {
              "color": "white"
             }
            },
            "type": "table"
           }
          ]
         },
         "layout": {
          "annotationdefaults": {
           "arrowcolor": "#2a3f5f",
           "arrowhead": 0,
           "arrowwidth": 1
          },
          "autotypenumbers": "strict",
          "coloraxis": {
           "colorbar": {
            "outlinewidth": 0,
            "ticks": ""
           }
          },
          "colorscale": {
           "diverging": [
            [
             0,
             "#8e0152"
            ],
            [
             0.1,
             "#c51b7d"
            ],
            [
             0.2,
             "#de77ae"
            ],
            [
             0.3,
             "#f1b6da"
            ],
            [
             0.4,
             "#fde0ef"
            ],
            [
             0.5,
             "#f7f7f7"
            ],
            [
             0.6,
             "#e6f5d0"
            ],
            [
             0.7,
             "#b8e186"
            ],
            [
             0.8,
             "#7fbc41"
            ],
            [
             0.9,
             "#4d9221"
            ],
            [
             1,
             "#276419"
            ]
           ],
           "sequential": [
            [
             0,
             "#0d0887"
            ],
            [
             0.1111111111111111,
             "#46039f"
            ],
            [
             0.2222222222222222,
             "#7201a8"
            ],
            [
             0.3333333333333333,
             "#9c179e"
            ],
            [
             0.4444444444444444,
             "#bd3786"
            ],
            [
             0.5555555555555556,
             "#d8576b"
            ],
            [
             0.6666666666666666,
             "#ed7953"
            ],
            [
             0.7777777777777778,
             "#fb9f3a"
            ],
            [
             0.8888888888888888,
             "#fdca26"
            ],
            [
             1,
             "#f0f921"
            ]
           ],
           "sequentialminus": [
            [
             0,
             "#0d0887"
            ],
            [
             0.1111111111111111,
             "#46039f"
            ],
            [
             0.2222222222222222,
             "#7201a8"
            ],
            [
             0.3333333333333333,
             "#9c179e"
            ],
            [
             0.4444444444444444,
             "#bd3786"
            ],
            [
             0.5555555555555556,
             "#d8576b"
            ],
            [
             0.6666666666666666,
             "#ed7953"
            ],
            [
             0.7777777777777778,
             "#fb9f3a"
            ],
            [
             0.8888888888888888,
             "#fdca26"
            ],
            [
             1,
             "#f0f921"
            ]
           ]
          },
          "colorway": [
           "#636efa",
           "#EF553B",
           "#00cc96",
           "#ab63fa",
           "#FFA15A",
           "#19d3f3",
           "#FF6692",
           "#B6E880",
           "#FF97FF",
           "#FECB52"
          ],
          "font": {
           "color": "#2a3f5f"
          },
          "geo": {
           "bgcolor": "white",
           "lakecolor": "white",
           "landcolor": "white",
           "showlakes": true,
           "showland": true,
           "subunitcolor": "#C8D4E3"
          },
          "hoverlabel": {
           "align": "left"
          },
          "hovermode": "closest",
          "mapbox": {
           "style": "light"
          },
          "paper_bgcolor": "white",
          "plot_bgcolor": "white",
          "polar": {
           "angularaxis": {
            "gridcolor": "#EBF0F8",
            "linecolor": "#EBF0F8",
            "ticks": ""
           },
           "bgcolor": "white",
           "radialaxis": {
            "gridcolor": "#EBF0F8",
            "linecolor": "#EBF0F8",
            "ticks": ""
           }
          },
          "scene": {
           "xaxis": {
            "backgroundcolor": "white",
            "gridcolor": "#DFE8F3",
            "gridwidth": 2,
            "linecolor": "#EBF0F8",
            "showbackground": true,
            "ticks": "",
            "zerolinecolor": "#EBF0F8"
           },
           "yaxis": {
            "backgroundcolor": "white",
            "gridcolor": "#DFE8F3",
            "gridwidth": 2,
            "linecolor": "#EBF0F8",
            "showbackground": true,
            "ticks": "",
            "zerolinecolor": "#EBF0F8"
           },
           "zaxis": {
            "backgroundcolor": "white",
            "gridcolor": "#DFE8F3",
            "gridwidth": 2,
            "linecolor": "#EBF0F8",
            "showbackground": true,
            "ticks": "",
            "zerolinecolor": "#EBF0F8"
           }
          },
          "shapedefaults": {
           "line": {
            "color": "#2a3f5f"
           }
          },
          "ternary": {
           "aaxis": {
            "gridcolor": "#DFE8F3",
            "linecolor": "#A2B1C6",
            "ticks": ""
           },
           "baxis": {
            "gridcolor": "#DFE8F3",
            "linecolor": "#A2B1C6",
            "ticks": ""
           },
           "bgcolor": "white",
           "caxis": {
            "gridcolor": "#DFE8F3",
            "linecolor": "#A2B1C6",
            "ticks": ""
           }
          },
          "title": {
           "x": 0.05
          },
          "xaxis": {
           "automargin": true,
           "gridcolor": "#EBF0F8",
           "linecolor": "#EBF0F8",
           "ticks": "",
           "title": {
            "standoff": 15
           },
           "zerolinecolor": "#EBF0F8",
           "zerolinewidth": 2
          },
          "yaxis": {
           "automargin": true,
           "gridcolor": "#EBF0F8",
           "linecolor": "#EBF0F8",
           "ticks": "",
           "title": {
            "standoff": 15
           },
           "zerolinecolor": "#EBF0F8",
           "zerolinewidth": 2
          }
         }
        },
        "title": {
         "text": "Population vs. Life Expectancy",
         "x": 0.5,
         "xanchor": "center"
        },
        "xaxis": {
         "anchor": "y",
         "domain": [
          0,
          1
         ],
         "showgrid": true,
         "title": {
          "text": "Population (Log Scale)"
         },
         "type": "log"
        },
        "yaxis": {
         "anchor": "x",
         "domain": [
          0,
          1
         ],
         "showgrid": true,
         "title": {
          "text": "Life Expectancy (Years)"
         }
        }
       }
      }
     },
     "metadata": {},
     "output_type": "display_data"
    }
   ],
   "source": [
    "fig_1 = px.scatter(\n",
    "    df_life_expectancy,\n",
    "    x=\"population\",\n",
    "    y=\"life_expectancy\",\n",
    "    color=\"continent\",\n",
    "    color_discrete_sequence=px.colors.qualitative.G10,\n",
    "    title=\"Population vs. Life Expectancy\",\n",
    "    log_x=True,\n",
    "    template=\"plotly_white\"\n",
    ")\n",
    "\n",
    "fig_1.update_layout(\n",
    "    title=dict(\n",
    "        text=\"Population vs. Life Expectancy\",\n",
    "        x=0.5,\n",
    "        xanchor=\"center\"\n",
    "    ),\n",
    "    xaxis=dict(\n",
    "        title=\"Population (Log Scale)\",\n",
    "        showgrid=True,\n",
    "    ),\n",
    "    yaxis=dict(\n",
    "        title=\"Life Expectancy (Years)\",\n",
    "        showgrid=True,\n",
    "    ),\n",
    "    legend=dict(\n",
    "        title=\"Continent\",\n",
    "        orientation=\"h\",\n",
    "        x=0.5,\n",
    "        xanchor=\"center\",\n",
    "        y=-0.3\n",
    "    ),\n",
    ")\n",
    "\n",
    "fig_1.update_traces(marker=dict(size=10, opacity=0.8, line=dict(width=1, color=\"black\")))\n",
    "\n",
    "fig_1.show()"
   ]
  },
  {
   "cell_type": "markdown",
   "metadata": {},
   "source": [
    "**4) number of diagnosed cases**"
   ]
  },
  {
   "cell_type": "code",
   "execution_count": 78,
   "metadata": {},
   "outputs": [],
   "source": [
    "df_my_country = df[(df[\"location\"] == \"United States\") | (df[\"location\"] == \"India\")]"
   ]
  },
  {
   "cell_type": "code",
   "execution_count": 79,
   "metadata": {},
   "outputs": [
    {
     "data": {
      "application/vnd.plotly.v1+json": {
       "config": {
        "plotlyServerURL": "https://plot.ly"
       },
       "data": [
        {
         "hovertemplate": "location=India<br>date=%{x}<br>new_cases=%{y}<extra></extra>",
         "legendgroup": "India",
         "line": {
          "color": "#AF0038",
          "dash": "solid"
         },
         "marker": {
          "symbol": "circle"
         },
         "mode": "lines",
         "name": "India",
         "showlegend": true,
         "type": "scattergl",
         "x": [
          "2020-01-30",
          "2020-01-31",
          "2020-02-01",
          "2020-02-02",
          "2020-02-03",
          "2020-02-04",
          "2020-02-05",
          "2020-02-06",
          "2020-02-07",
          "2020-02-08",
          "2020-02-09",
          "2020-02-10",
          "2020-02-11",
          "2020-02-12",
          "2020-02-13",
          "2020-02-14",
          "2020-02-15",
          "2020-02-16",
          "2020-02-17",
          "2020-02-18",
          "2020-02-19",
          "2020-02-20",
          "2020-02-21",
          "2020-02-22",
          "2020-02-23",
          "2020-02-24",
          "2020-02-25",
          "2020-02-26",
          "2020-02-27",
          "2020-02-28",
          "2020-02-29",
          "2020-03-01",
          "2020-03-02",
          "2020-03-03",
          "2020-03-04",
          "2020-03-05",
          "2020-03-06",
          "2020-03-07",
          "2020-03-08",
          "2020-03-09",
          "2020-03-10",
          "2020-03-11",
          "2020-03-12",
          "2020-03-13",
          "2020-03-14",
          "2020-03-15",
          "2020-03-16",
          "2020-03-17",
          "2020-03-18",
          "2020-03-19",
          "2020-03-20",
          "2020-03-21",
          "2020-03-22",
          "2020-03-23",
          "2020-03-24",
          "2020-03-25",
          "2020-03-26",
          "2020-03-27",
          "2020-03-28",
          "2020-03-29",
          "2020-03-30",
          "2020-03-31",
          "2020-04-01",
          "2020-04-02",
          "2020-04-03",
          "2020-04-04",
          "2020-04-05",
          "2020-04-06",
          "2020-04-07",
          "2020-04-08",
          "2020-04-09",
          "2020-04-10",
          "2020-04-11",
          "2020-04-12",
          "2020-04-13",
          "2020-04-14",
          "2020-04-15",
          "2020-04-16",
          "2020-04-17",
          "2020-04-18",
          "2020-04-19",
          "2020-04-20",
          "2020-04-21",
          "2020-04-22",
          "2020-04-23",
          "2020-04-24",
          "2020-04-25",
          "2020-04-26",
          "2020-04-27",
          "2020-04-28",
          "2020-04-29",
          "2020-04-30",
          "2020-05-01",
          "2020-05-02",
          "2020-05-03",
          "2020-05-04",
          "2020-05-05",
          "2020-05-06",
          "2020-05-07",
          "2020-05-08",
          "2020-05-09",
          "2020-05-10",
          "2020-05-11",
          "2020-05-12",
          "2020-05-13",
          "2020-05-14",
          "2020-05-15",
          "2020-05-16",
          "2020-05-17",
          "2020-05-18",
          "2020-05-19",
          "2020-05-20",
          "2020-05-21",
          "2020-05-22",
          "2020-05-23",
          "2020-05-24",
          "2020-05-25",
          "2020-05-26",
          "2020-05-27",
          "2020-05-28",
          "2020-05-29",
          "2020-05-30",
          "2020-05-31",
          "2020-06-01",
          "2020-06-02",
          "2020-06-03",
          "2020-06-04",
          "2020-06-05",
          "2020-06-06",
          "2020-06-07",
          "2020-06-08",
          "2020-06-09",
          "2020-06-10",
          "2020-06-11",
          "2020-06-12",
          "2020-06-13",
          "2020-06-14",
          "2020-06-15",
          "2020-06-16",
          "2020-06-17",
          "2020-06-18",
          "2020-06-19",
          "2020-06-20",
          "2020-06-21",
          "2020-06-22",
          "2020-06-23",
          "2020-06-24",
          "2020-06-25",
          "2020-06-26",
          "2020-06-27",
          "2020-06-28",
          "2020-06-29",
          "2020-06-30",
          "2020-07-01",
          "2020-07-02",
          "2020-07-03",
          "2020-07-04",
          "2020-07-05",
          "2020-07-06",
          "2020-07-07",
          "2020-07-08",
          "2020-07-09",
          "2020-07-10",
          "2020-07-11",
          "2020-07-12",
          "2020-07-13",
          "2020-07-14",
          "2020-07-15",
          "2020-07-16",
          "2020-07-17",
          "2020-07-18",
          "2020-07-19",
          "2020-07-20",
          "2020-07-21",
          "2020-07-22",
          "2020-07-23",
          "2020-07-24",
          "2020-07-25",
          "2020-07-26",
          "2020-07-27",
          "2020-07-28",
          "2020-07-29",
          "2020-07-30",
          "2020-07-31",
          "2020-08-01",
          "2020-08-02",
          "2020-08-03",
          "2020-08-04",
          "2020-08-05",
          "2020-08-06",
          "2020-08-07",
          "2020-08-08",
          "2020-08-09",
          "2020-08-10",
          "2020-08-11",
          "2020-08-12",
          "2020-08-13",
          "2020-08-14",
          "2020-08-15",
          "2020-08-16",
          "2020-08-17",
          "2020-08-18",
          "2020-08-19",
          "2020-08-20",
          "2020-08-21",
          "2020-08-22",
          "2020-08-23",
          "2020-08-24",
          "2020-08-25",
          "2020-08-26",
          "2020-08-27",
          "2020-08-28",
          "2020-08-29",
          "2020-08-30",
          "2020-08-31",
          "2020-09-01",
          "2020-09-02",
          "2020-09-03",
          "2020-09-04",
          "2020-09-05",
          "2020-09-06",
          "2020-09-07",
          "2020-09-08",
          "2020-09-09",
          "2020-09-10",
          "2020-09-11",
          "2020-09-12",
          "2020-09-13",
          "2020-09-14",
          "2020-09-15",
          "2020-09-16",
          "2020-09-17",
          "2020-09-18",
          "2020-09-19",
          "2020-09-20",
          "2020-09-21",
          "2020-09-22",
          "2020-09-23",
          "2020-09-24",
          "2020-09-25",
          "2020-09-26",
          "2020-09-27",
          "2020-09-28",
          "2020-09-29",
          "2020-09-30",
          "2020-10-01",
          "2020-10-02",
          "2020-10-03",
          "2020-10-04",
          "2020-10-05",
          "2020-10-06",
          "2020-10-07",
          "2020-10-08",
          "2020-10-09",
          "2020-10-10",
          "2020-10-11",
          "2020-10-12",
          "2020-10-13",
          "2020-10-14",
          "2020-10-15",
          "2020-10-16",
          "2020-10-17",
          "2020-10-18",
          "2020-10-19",
          "2020-10-20",
          "2020-10-21",
          "2020-10-22",
          "2020-10-23",
          "2020-10-24",
          "2020-10-25",
          "2020-10-26",
          "2020-10-27",
          "2020-10-28",
          "2020-10-29",
          "2020-10-30",
          "2020-10-31",
          "2020-11-01",
          "2020-11-02",
          "2020-11-03",
          "2020-11-04",
          "2020-11-05",
          "2020-11-06",
          "2020-11-07",
          "2020-11-08",
          "2020-11-09",
          "2020-11-10",
          "2020-11-11",
          "2020-11-12",
          "2020-11-13",
          "2020-11-14",
          "2020-11-15",
          "2020-11-16",
          "2020-11-17",
          "2020-11-18",
          "2020-11-19",
          "2020-11-20",
          "2020-11-21",
          "2020-11-22",
          "2020-11-23",
          "2020-11-24",
          "2020-11-25",
          "2020-11-26",
          "2020-11-27",
          "2020-11-28",
          "2020-11-29",
          "2020-11-30",
          "2020-12-01",
          "2020-12-02",
          "2020-12-03",
          "2020-12-04",
          "2020-12-05",
          "2020-12-06",
          "2020-12-07",
          "2020-12-08",
          "2020-12-09",
          "2020-12-10",
          "2020-12-11",
          "2020-12-12",
          "2020-12-13",
          "2020-12-14",
          "2020-12-15",
          "2020-12-16",
          "2020-12-17",
          "2020-12-18",
          "2020-12-19",
          "2020-12-20",
          "2020-12-21",
          "2020-12-22",
          "2020-12-23",
          "2020-12-24",
          "2020-12-25",
          "2020-12-26",
          "2020-12-27",
          "2020-12-28",
          "2020-12-29",
          "2020-12-30",
          "2020-12-31",
          "2021-01-01",
          "2021-01-02",
          "2021-01-03",
          "2021-01-04",
          "2021-01-05",
          "2021-01-06",
          "2021-01-07",
          "2021-01-08",
          "2021-01-09",
          "2021-01-10",
          "2021-01-11",
          "2021-01-12",
          "2021-01-13",
          "2021-01-14",
          "2021-01-15",
          "2021-01-16",
          "2021-01-17",
          "2021-01-18",
          "2021-01-19",
          "2021-01-20",
          "2021-01-21",
          "2021-01-22",
          "2021-01-23",
          "2021-01-24",
          "2021-01-25",
          "2021-01-26",
          "2021-01-27",
          "2021-01-28",
          "2021-01-29",
          "2021-01-30",
          "2021-01-31",
          "2021-02-01",
          "2021-02-02",
          "2021-02-03",
          "2021-02-04",
          "2021-02-05",
          "2021-02-06",
          "2021-02-07",
          "2021-02-08",
          "2021-02-09",
          "2021-02-10",
          "2021-02-11",
          "2021-02-12",
          "2021-02-13",
          "2021-02-14",
          "2021-02-15",
          "2021-02-16",
          "2021-02-17",
          "2021-02-18",
          "2021-02-19",
          "2021-02-20",
          "2021-02-21",
          "2021-02-22",
          "2021-02-23",
          "2021-02-24",
          "2021-02-25",
          "2021-02-26",
          "2021-02-27",
          "2021-02-28",
          "2021-03-01",
          "2021-03-02",
          "2021-03-03",
          "2021-03-04",
          "2021-03-05",
          "2021-03-06",
          "2021-03-07",
          "2021-03-08",
          "2021-03-09",
          "2021-03-10",
          "2021-03-11",
          "2021-03-12",
          "2021-03-13",
          "2021-03-14",
          "2021-03-15",
          "2021-03-16",
          "2021-03-17",
          "2021-03-18",
          "2021-03-19",
          "2021-03-20",
          "2021-03-21",
          "2021-03-22",
          "2021-03-23",
          "2021-03-24",
          "2021-03-25",
          "2021-03-26",
          "2021-03-27",
          "2021-03-28",
          "2021-03-29",
          "2021-03-30",
          "2021-03-31",
          "2021-04-01",
          "2021-04-02",
          "2021-04-03",
          "2021-04-04",
          "2021-04-05",
          "2021-04-06",
          "2021-04-07",
          "2021-04-08",
          "2021-04-09",
          "2021-04-10",
          "2021-04-11",
          "2021-04-12",
          "2021-04-13",
          "2021-04-14",
          "2021-04-15",
          "2021-04-16",
          "2021-04-17",
          "2021-04-18",
          "2021-04-19",
          "2021-04-20",
          "2021-04-21",
          "2021-04-22",
          "2021-04-23",
          "2021-04-24",
          "2021-04-25",
          "2021-04-26",
          "2021-04-27",
          "2021-04-28",
          "2021-04-29",
          "2021-04-30",
          "2021-05-01",
          "2021-05-02",
          "2021-05-03",
          "2021-05-04",
          "2021-05-05",
          "2021-05-06",
          "2021-05-07",
          "2021-05-08",
          "2021-05-09",
          "2021-05-10",
          "2021-05-11",
          "2021-05-12",
          "2021-05-13",
          "2021-05-14",
          "2021-05-15",
          "2021-05-16",
          "2021-05-17",
          "2021-05-18",
          "2021-05-19",
          "2021-05-20",
          "2021-05-21",
          "2021-05-22",
          "2021-05-23",
          "2021-05-24",
          "2021-05-25",
          "2021-05-26",
          "2021-05-27",
          "2021-05-28",
          "2021-05-29",
          "2021-05-30",
          "2021-05-31",
          "2021-06-01",
          "2021-06-02",
          "2021-06-03",
          "2021-06-04",
          "2021-06-05",
          "2021-06-06",
          "2021-06-07",
          "2021-06-08",
          "2021-06-09",
          "2021-06-10",
          "2021-06-11",
          "2021-06-12",
          "2021-06-13",
          "2021-06-14",
          "2021-06-15",
          "2021-06-16",
          "2021-06-17",
          "2021-06-18",
          "2021-06-19",
          "2021-06-20",
          "2021-06-21",
          "2021-06-22",
          "2021-06-23",
          "2021-06-24",
          "2021-06-25",
          "2021-06-26",
          "2021-06-27",
          "2021-06-28",
          "2021-06-29",
          "2021-06-30",
          "2021-07-01",
          "2021-07-02",
          "2021-07-03",
          "2021-07-04",
          "2021-07-05",
          "2021-07-06",
          "2021-07-07",
          "2021-07-08",
          "2021-07-09",
          "2021-07-10",
          "2021-07-11",
          "2021-07-12",
          "2021-07-13",
          "2021-07-14",
          "2021-07-15",
          "2021-07-16",
          "2021-07-17",
          "2021-07-18",
          "2021-07-19",
          "2021-07-20",
          "2021-07-21",
          "2021-07-22",
          "2021-07-23",
          "2021-07-24",
          "2021-07-25",
          "2021-07-26",
          "2021-07-27",
          "2021-07-28",
          "2021-07-29",
          "2021-07-30",
          "2021-07-31",
          "2021-08-01",
          "2021-08-02",
          "2021-08-03",
          "2021-08-04",
          "2021-08-05",
          "2021-08-06",
          "2021-08-07",
          "2021-08-08",
          "2021-08-09",
          "2021-08-10",
          "2021-08-11",
          "2021-08-12",
          "2021-08-13",
          "2021-08-14",
          "2021-08-15",
          "2021-08-16",
          "2021-08-17",
          "2021-08-18",
          "2021-08-19",
          "2021-08-20",
          "2021-08-21",
          "2021-08-22",
          "2021-08-23",
          "2021-08-24",
          "2021-08-25",
          "2021-08-26",
          "2021-08-27",
          "2021-08-28",
          "2021-08-29",
          "2021-08-30",
          "2021-08-31",
          "2021-09-01",
          "2021-09-02",
          "2021-09-03",
          "2021-09-04",
          "2021-09-05",
          "2021-09-06",
          "2021-09-07",
          "2021-09-08",
          "2021-09-09",
          "2021-09-10",
          "2021-09-11",
          "2021-09-12",
          "2021-09-13",
          "2021-09-14",
          "2021-09-15",
          "2021-09-16",
          "2021-09-17",
          "2021-09-18",
          "2021-09-19",
          "2021-09-20",
          "2021-09-21",
          "2021-09-22",
          "2021-09-23",
          "2021-09-24",
          "2021-09-25",
          "2021-09-26",
          "2021-09-27",
          "2021-09-28",
          "2021-09-29",
          "2021-09-30",
          "2021-10-01",
          "2021-10-02",
          "2021-10-03",
          "2021-10-04",
          "2021-10-05",
          "2021-10-06",
          "2021-10-07",
          "2021-10-08",
          "2021-10-09",
          "2021-10-10",
          "2021-10-11",
          "2021-10-12",
          "2021-10-13",
          "2021-10-14",
          "2021-10-15",
          "2021-10-16",
          "2021-10-17",
          "2021-10-18",
          "2021-10-19",
          "2021-10-20",
          "2021-10-21",
          "2021-10-22",
          "2021-10-23",
          "2021-10-24",
          "2021-10-25",
          "2021-10-26",
          "2021-10-27",
          "2021-10-28",
          "2021-10-29",
          "2021-10-30",
          "2021-10-31",
          "2021-11-01",
          "2021-11-02",
          "2021-11-03",
          "2021-11-04",
          "2021-11-05",
          "2021-11-06",
          "2021-11-07",
          "2021-11-08",
          "2021-11-09",
          "2021-11-10",
          "2021-11-11",
          "2021-11-12",
          "2021-11-13",
          "2021-11-14",
          "2021-11-15",
          "2021-11-16",
          "2021-11-17",
          "2021-11-18",
          "2021-11-19",
          "2021-11-20",
          "2021-11-21",
          "2021-11-22",
          "2021-11-23",
          "2021-11-24",
          "2021-11-25",
          "2021-11-26",
          "2021-11-27",
          "2021-11-28",
          "2021-11-29",
          "2021-11-30",
          "2021-12-01",
          "2021-12-02",
          "2021-12-03",
          "2021-12-04",
          "2021-12-05",
          "2021-12-06",
          "2021-12-07",
          "2021-12-08",
          "2021-12-09",
          "2021-12-10",
          "2021-12-11",
          "2021-12-12",
          "2021-12-13",
          "2021-12-14",
          "2021-12-15",
          "2021-12-16",
          "2021-12-17",
          "2021-12-18",
          "2021-12-19",
          "2021-12-20",
          "2021-12-21",
          "2021-12-22",
          "2021-12-23",
          "2021-12-24",
          "2021-12-25",
          "2021-12-26",
          "2021-12-27",
          "2021-12-28",
          "2021-12-29",
          "2021-12-30",
          "2021-12-31",
          "2022-01-01",
          "2022-01-02",
          "2022-01-03",
          "2022-01-04",
          "2022-01-05",
          "2022-01-06",
          "2022-01-07",
          "2022-01-08",
          "2022-01-09",
          "2022-01-10",
          "2022-01-11",
          "2022-01-12",
          "2022-01-13",
          "2022-01-14",
          "2022-01-15",
          "2022-01-16",
          "2022-01-17",
          "2022-01-18",
          "2022-01-19",
          "2022-01-20",
          "2022-01-21",
          "2022-01-22",
          "2022-01-23",
          "2022-01-24",
          "2022-01-25",
          "2022-01-26",
          "2022-01-27",
          "2022-01-28",
          "2022-01-29",
          "2022-01-30",
          "2022-01-31",
          "2022-02-01",
          "2022-02-02",
          "2022-02-03",
          "2022-02-04",
          "2022-02-05",
          "2022-02-06",
          "2022-02-07",
          "2022-02-08",
          "2022-02-09",
          "2022-02-10",
          "2022-02-11",
          "2022-02-12",
          "2022-02-13",
          "2022-02-14",
          "2022-02-15",
          "2022-02-16",
          "2022-02-17",
          "2022-02-18",
          "2022-02-19",
          "2022-02-20",
          "2022-02-21",
          "2022-02-22",
          "2022-02-23",
          "2022-02-24",
          "2022-02-25",
          "2022-02-26",
          "2022-02-27",
          "2022-02-28",
          "2022-03-01",
          "2022-03-02",
          "2022-03-03",
          "2022-03-04",
          "2022-03-05",
          "2022-03-06",
          "2022-03-07",
          "2022-03-08",
          "2022-03-09",
          "2022-03-10",
          "2022-03-11",
          "2022-03-12",
          "2022-03-13",
          "2022-03-14",
          "2022-03-15",
          "2022-03-16",
          "2022-03-17",
          "2022-03-18",
          "2022-03-19",
          "2022-03-20",
          "2022-03-21",
          "2022-03-22",
          "2022-03-23",
          "2022-03-24",
          "2022-03-25",
          "2022-03-26",
          "2022-03-27",
          "2022-03-28",
          "2022-03-29",
          "2022-03-30",
          "2022-03-31",
          "2022-04-01",
          "2022-04-02",
          "2022-04-03",
          "2022-04-04",
          "2022-04-05",
          "2022-04-06",
          "2022-04-07",
          "2022-04-08",
          "2022-04-09",
          "2022-04-10",
          "2022-04-11",
          "2022-04-12",
          "2022-04-13",
          "2022-04-14",
          "2022-04-15",
          "2022-04-16",
          "2022-04-17",
          "2022-04-18",
          "2022-04-19",
          "2022-04-20",
          "2022-04-21",
          "2022-04-22",
          "2022-04-23",
          "2022-04-24",
          "2022-04-25",
          "2022-04-26",
          "2022-04-27",
          "2022-04-28",
          "2022-04-29",
          "2022-04-30",
          "2022-05-01",
          "2022-05-02",
          "2022-05-03",
          "2022-05-04",
          "2022-05-05",
          "2022-05-06",
          "2022-05-07",
          "2022-05-08",
          "2022-05-09",
          "2022-05-10",
          "2022-05-11",
          "2022-05-12",
          "2022-05-13",
          "2022-05-14",
          "2022-05-15",
          "2022-05-16",
          "2022-05-17",
          "2022-05-18",
          "2022-05-19",
          "2022-05-20",
          "2022-05-21",
          "2022-05-22",
          "2022-05-23",
          "2022-05-24",
          "2022-05-25",
          "2022-05-26",
          "2022-05-27",
          "2022-05-28",
          "2022-05-29",
          "2022-05-30",
          "2022-05-31",
          "2022-06-01",
          "2022-06-02",
          "2022-06-03",
          "2022-06-04",
          "2022-06-05",
          "2022-06-06",
          "2022-06-07",
          "2022-06-08",
          "2022-06-09",
          "2022-06-10",
          "2022-06-11",
          "2022-06-12",
          "2022-06-13",
          "2022-06-14",
          "2022-06-15",
          "2022-06-16",
          "2022-06-17",
          "2022-06-18"
         ],
         "xaxis": "x",
         "y": [
          1,
          0,
          0,
          1,
          1,
          0,
          0,
          0,
          0,
          0,
          0,
          0,
          0,
          0,
          0,
          0,
          0,
          0,
          0,
          0,
          0,
          0,
          0,
          0,
          0,
          0,
          0,
          0,
          0,
          0,
          0,
          0,
          2,
          0,
          23,
          2,
          1,
          3,
          5,
          4,
          13,
          6,
          11,
          9,
          20,
          11,
          6,
          23,
          14,
          38,
          50,
          86,
          66,
          103,
          37,
          121,
          70,
          160,
          100,
          37,
          227,
          146,
          601,
          545,
          24,
          515,
          506,
          1190,
          533,
          605,
          809,
          873,
          848,
          759,
          1248,
          1034,
          835,
          1108,
          922,
          1370,
          1893,
          924,
          1541,
          1290,
          1707,
          1453,
          1753,
          1607,
          1561,
          1873,
          1738,
          1801,
          2394,
          2442,
          2806,
          3932,
          2963,
          3587,
          3364,
          3344,
          3113,
          4353,
          3607,
          3524,
          3763,
          3942,
          3787,
          4864,
          5050,
          4630,
          6147,
          5553,
          6198,
          6568,
          6629,
          7113,
          6414,
          5843,
          7293,
          7300,
          8105,
          8336,
          8782,
          7761,
          8821,
          9633,
          9889,
          9471,
          10438,
          10864,
          8442,
          10218,
          10459,
          10930,
          11458,
          11929,
          11502,
          10667,
          10974,
          12881,
          13586,
          14516,
          15403,
          14831,
          14933,
          15968,
          16922,
          17296,
          18552,
          19906,
          19459,
          18522,
          18641,
          19160,
          20903,
          22771,
          24850,
          24248,
          22251,
          22753,
          24879,
          26506,
          27114,
          28606,
          28732,
          28498,
          29429,
          32676,
          34975,
          35252,
          38697,
          40425,
          37132,
          37740,
          45720,
          49310,
          48916,
          48611,
          49981,
          44457,
          51596,
          50294,
          52783,
          61242,
          54735,
          52972,
          52050,
          52509,
          56282,
          62538,
          61537,
          64399,
          62064,
          53601,
          60963,
          66999,
          64553,
          64732,
          64030,
          57711,
          55018,
          64572,
          69672,
          68900,
          69876,
          69239,
          61408,
          60975,
          57224,
          85687,
          77266,
          76472,
          78761,
          78512,
          69921,
          78357,
          83883,
          83341,
          86432,
          90632,
          90802,
          75809,
          89706,
          95735,
          96551,
          97570,
          94372,
          92071,
          83809,
          90123,
          97894,
          96424,
          93337,
          92605,
          86961,
          75083,
          83347,
          86508,
          86052,
          85362,
          88600,
          82170,
          70589,
          80472,
          86821,
          81484,
          79476,
          75829,
          74442,
          61267,
          72049,
          78524,
          70496,
          73272,
          74383,
          66732,
          55342,
          63509,
          67708,
          63371,
          62212,
          61871,
          55722,
          46790,
          54044,
          55839,
          54366,
          53370,
          50129,
          45148,
          36470,
          43893,
          49881,
          48648,
          48268,
          46963,
          45231,
          38310,
          46253,
          50210,
          47638,
          50356,
          45674,
          45903,
          38073,
          44281,
          47905,
          44879,
          44684,
          41100,
          30548,
          29163,
          38617,
          45576,
          45882,
          46232,
          45209,
          44059,
          37975,
          44376,
          44489,
          43082,
          41322,
          41810,
          38772,
          31118,
          36604,
          35551,
          36595,
          36652,
          36011,
          32981,
          26567,
          32080,
          31521,
          29373,
          30031,
          30254,
          27071,
          22065,
          26382,
          24010,
          22890,
          25152,
          26624,
          24337,
          19556,
          23950,
          24712,
          23067,
          22273,
          18732,
          20021,
          16432,
          20549,
          21822,
          20035,
          19079,
          18177,
          16504,
          16375,
          18088,
          20346,
          18139,
          0,
          36867,
          16311,
          12584,
          15968,
          16946,
          15590,
          15158,
          15144,
          13788,
          10050,
          13816,
          15244,
          14545,
          14256,
          14849,
          13203,
          9102,
          12689,
          11666,
          18855,
          13082,
          13044,
          11436,
          8635,
          11039,
          12899,
          12408,
          11713,
          12059,
          11831,
          9110,
          11067,
          12923,
          9309,
          12143,
          12194,
          11649,
          9121,
          11610,
          12881,
          13193,
          13993,
          14264,
          14199,
          10584,
          13742,
          16738,
          16577,
          16488,
          16752,
          15510,
          12286,
          14989,
          17407,
          16838,
          18284,
          18754,
          18599,
          15388,
          17921,
          22854,
          23285,
          24882,
          25320,
          26291,
          24492,
          28903,
          35871,
          39726,
          40953,
          43846,
          46951,
          40715,
          47262,
          53476,
          59118,
          62258,
          62714,
          68020,
          56211,
          53480,
          72330,
          81466,
          89129,
          93249,
          103558,
          96982,
          115736,
          126789,
          131968,
          145384,
          152879,
          168912,
          161736,
          184372,
          200739,
          217353,
          234692,
          261394,
          273802,
          259167,
          295158,
          314644,
          332921,
          346786,
          349691,
          352991,
          323023,
          360927,
          379308,
          386555,
          401993,
          392488,
          368060,
          357316,
          382146,
          412431,
          414188,
          401078,
          403405,
          366494,
          329942,
          348421,
          362727,
          343144,
          326098,
          311170,
          281386,
          263533,
          267334,
          276110,
          259551,
          257299,
          240842,
          222315,
          196427,
          208921,
          211298,
          186364,
          173790,
          165553,
          152734,
          127510,
          132788,
          134154,
          132364,
          120529,
          114460,
          100636,
          86498,
          92596,
          93463,
          92291,
          84332,
          80834,
          70421,
          60471,
          62224,
          67208,
          62480,
          60753,
          58226,
          53449,
          42640,
          50848,
          54069,
          51667,
          48698,
          50040,
          46148,
          37566,
          45951,
          48786,
          46617,
          44111,
          43071,
          39796,
          34703,
          43733,
          45892,
          43393,
          42766,
          41506,
          37154,
          32906,
          38865,
          41733,
          38949,
          38079,
          41157,
          38164,
          30093,
          42015,
          41383,
          35342,
          39097,
          39742,
          39361,
          29689,
          43654,
          43509,
          44230,
          41649,
          41831,
          40134,
          30549,
          42625,
          42982,
          44643,
          38628,
          39070,
          35499,
          28204,
          38353,
          41195,
          40120,
          38667,
          36083,
          32937,
          25166,
          35178,
          36401,
          36571,
          34457,
          30948,
          25072,
          25467,
          37593,
          46164,
          44658,
          46759,
          45083,
          42909,
          30941,
          41965,
          47092,
          45352,
          42618,
          42766,
          38948,
          31222,
          37875,
          43263,
          34973,
          33376,
          28591,
          27254,
          25404,
          27176,
          30570,
          34403,
          35662,
          30773,
          30256,
          26115,
          26964,
          31923,
          31382,
          29616,
          28326,
          26041,
          18795,
          18870,
          23529,
          26727,
          24354,
          22842,
          20799,
          18346,
          18833,
          22431,
          21257,
          19740,
          18166,
          18132,
          14313,
          15823,
          18987,
          16862,
          15981,
          14146,
          13596,
          13058,
          14623,
          18454,
          15786,
          16326,
          15906,
          14306,
          12428,
          13451,
          16156,
          14348,
          14313,
          12830,
          12514,
          10423,
          11903,
          12885,
          12729,
          10929,
          10826,
          11478,
          10126,
          11466,
          13091,
          12516,
          11850,
          11271,
          10229,
          8865,
          10197,
          11919,
          11106,
          10302,
          10488,
          8488,
          7579,
          9283,
          9119,
          10549,
          8318,
          8774,
          8309,
          6990,
          8954,
          9765,
          9216,
          8603,
          0,
          17201,
          6822,
          8439,
          9419,
          8402,
          7990,
          7877,
          7350,
          5784,
          6984,
          7974,
          7447,
          0,
          7145,
          13644,
          5326,
          6317,
          7495,
          6650,
          7189,
          6987,
          6531,
          6358,
          9195,
          13154,
          16764,
          22775,
          27553,
          33750,
          37379,
          58097,
          90928,
          117100,
          141986,
          159632,
          179723,
          168063,
          194720,
          247417,
          264202,
          268833,
          271202,
          258089,
          238018,
          282970,
          317532,
          347254,
          337704,
          333533,
          306064,
          255874,
          285914,
          286384,
          251209,
          235532,
          234281,
          209918,
          167059,
          161386,
          172433,
          149394,
          127952,
          107474,
          83876,
          67597,
          71365,
          67084,
          58077,
          50407,
          44877,
          34113,
          27409,
          30615,
          30757,
          25920,
          22270,
          19968,
          16051,
          13405,
          15102,
          14148,
          13166,
          11499,
          10273,
          8013,
          6915,
          7554,
          6561,
          6396,
          5921,
          5476,
          4362,
          3993,
          4575,
          4184,
          4194,
          3614,
          3116,
          2503,
          2568,
          2876,
          2539,
          2528,
          2075,
          1761,
          1549,
          1581,
          1778,
          1938,
          1685,
          1660,
          1421,
          1270,
          1259,
          1233,
          1225,
          1335,
          1260,
          1096,
          913,
          795,
          1086,
          1033,
          1109,
          1150,
          1054,
          861,
          796,
          1088,
          1007,
          949,
          975,
          1150,
          2183,
          1247,
          2067,
          2380,
          2451,
          2527,
          2593,
          2541,
          11,
          5399,
          3303,
          3377,
          3688,
          3324,
          3157,
          2568,
          3205,
          3275,
          3545,
          3805,
          3451,
          3207,
          2288,
          2897,
          2827,
          2841,
          2858,
          2487,
          2202,
          1569,
          1829,
          2364,
          2259,
          2323,
          2226,
          2022,
          1675,
          2124,
          2628,
          2710,
          2685,
          2828,
          2706,
          2338,
          2745,
          3712,
          4041,
          3962,
          4270,
          4518,
          3714,
          5233,
          7240,
          7584,
          8329,
          8582,
          8084,
          6594,
          8822,
          12213,
          12847,
          13216,
          12899
         ],
         "yaxis": "y"
        },
        {
         "hovertemplate": "location=United States<br>date=%{x}<br>new_cases=%{y}<extra></extra>",
         "legendgroup": "United States",
         "line": {
          "color": "#0D2A63",
          "dash": "solid"
         },
         "marker": {
          "symbol": "circle"
         },
         "mode": "lines",
         "name": "United States",
         "showlegend": true,
         "type": "scattergl",
         "x": [
          "2020-01-22",
          "2020-01-23",
          "2020-01-24",
          "2020-01-25",
          "2020-01-26",
          "2020-01-27",
          "2020-01-28",
          "2020-01-29",
          "2020-01-30",
          "2020-01-31",
          "2020-02-01",
          "2020-02-02",
          "2020-02-03",
          "2020-02-04",
          "2020-02-05",
          "2020-02-06",
          "2020-02-07",
          "2020-02-08",
          "2020-02-09",
          "2020-02-10",
          "2020-02-11",
          "2020-02-12",
          "2020-02-13",
          "2020-02-14",
          "2020-02-15",
          "2020-02-16",
          "2020-02-17",
          "2020-02-18",
          "2020-02-19",
          "2020-02-20",
          "2020-02-21",
          "2020-02-22",
          "2020-02-23",
          "2020-02-24",
          "2020-02-25",
          "2020-02-26",
          "2020-02-27",
          "2020-02-28",
          "2020-02-29",
          "2020-03-01",
          "2020-03-02",
          "2020-03-03",
          "2020-03-04",
          "2020-03-05",
          "2020-03-06",
          "2020-03-07",
          "2020-03-08",
          "2020-03-09",
          "2020-03-10",
          "2020-03-11",
          "2020-03-12",
          "2020-03-13",
          "2020-03-14",
          "2020-03-15",
          "2020-03-16",
          "2020-03-17",
          "2020-03-18",
          "2020-03-19",
          "2020-03-20",
          "2020-03-21",
          "2020-03-22",
          "2020-03-23",
          "2020-03-24",
          "2020-03-25",
          "2020-03-26",
          "2020-03-27",
          "2020-03-28",
          "2020-03-29",
          "2020-03-30",
          "2020-03-31",
          "2020-04-01",
          "2020-04-02",
          "2020-04-03",
          "2020-04-04",
          "2020-04-05",
          "2020-04-06",
          "2020-04-07",
          "2020-04-08",
          "2020-04-09",
          "2020-04-10",
          "2020-04-11",
          "2020-04-12",
          "2020-04-13",
          "2020-04-14",
          "2020-04-15",
          "2020-04-16",
          "2020-04-17",
          "2020-04-18",
          "2020-04-19",
          "2020-04-20",
          "2020-04-21",
          "2020-04-22",
          "2020-04-23",
          "2020-04-24",
          "2020-04-25",
          "2020-04-26",
          "2020-04-27",
          "2020-04-28",
          "2020-04-29",
          "2020-04-30",
          "2020-05-01",
          "2020-05-02",
          "2020-05-03",
          "2020-05-04",
          "2020-05-05",
          "2020-05-06",
          "2020-05-07",
          "2020-05-08",
          "2020-05-09",
          "2020-05-10",
          "2020-05-11",
          "2020-05-12",
          "2020-05-13",
          "2020-05-14",
          "2020-05-15",
          "2020-05-16",
          "2020-05-17",
          "2020-05-18",
          "2020-05-19",
          "2020-05-20",
          "2020-05-21",
          "2020-05-22",
          "2020-05-23",
          "2020-05-24",
          "2020-05-25",
          "2020-05-26",
          "2020-05-27",
          "2020-05-28",
          "2020-05-29",
          "2020-05-30",
          "2020-05-31",
          "2020-06-01",
          "2020-06-02",
          "2020-06-03",
          "2020-06-04",
          "2020-06-05",
          "2020-06-06",
          "2020-06-07",
          "2020-06-08",
          "2020-06-09",
          "2020-06-10",
          "2020-06-11",
          "2020-06-12",
          "2020-06-13",
          "2020-06-14",
          "2020-06-15",
          "2020-06-16",
          "2020-06-17",
          "2020-06-18",
          "2020-06-19",
          "2020-06-20",
          "2020-06-21",
          "2020-06-22",
          "2020-06-23",
          "2020-06-24",
          "2020-06-25",
          "2020-06-26",
          "2020-06-27",
          "2020-06-28",
          "2020-06-29",
          "2020-06-30",
          "2020-07-01",
          "2020-07-02",
          "2020-07-03",
          "2020-07-04",
          "2020-07-05",
          "2020-07-06",
          "2020-07-07",
          "2020-07-08",
          "2020-07-09",
          "2020-07-10",
          "2020-07-11",
          "2020-07-12",
          "2020-07-13",
          "2020-07-14",
          "2020-07-15",
          "2020-07-16",
          "2020-07-17",
          "2020-07-18",
          "2020-07-19",
          "2020-07-20",
          "2020-07-21",
          "2020-07-22",
          "2020-07-23",
          "2020-07-24",
          "2020-07-25",
          "2020-07-26",
          "2020-07-27",
          "2020-07-28",
          "2020-07-29",
          "2020-07-30",
          "2020-07-31",
          "2020-08-01",
          "2020-08-02",
          "2020-08-03",
          "2020-08-04",
          "2020-08-05",
          "2020-08-06",
          "2020-08-07",
          "2020-08-08",
          "2020-08-09",
          "2020-08-10",
          "2020-08-11",
          "2020-08-12",
          "2020-08-13",
          "2020-08-14",
          "2020-08-15",
          "2020-08-16",
          "2020-08-17",
          "2020-08-18",
          "2020-08-19",
          "2020-08-20",
          "2020-08-21",
          "2020-08-22",
          "2020-08-23",
          "2020-08-24",
          "2020-08-25",
          "2020-08-26",
          "2020-08-27",
          "2020-08-28",
          "2020-08-29",
          "2020-08-30",
          "2020-08-31",
          "2020-09-01",
          "2020-09-02",
          "2020-09-03",
          "2020-09-04",
          "2020-09-05",
          "2020-09-06",
          "2020-09-07",
          "2020-09-08",
          "2020-09-09",
          "2020-09-10",
          "2020-09-11",
          "2020-09-12",
          "2020-09-13",
          "2020-09-14",
          "2020-09-15",
          "2020-09-16",
          "2020-09-17",
          "2020-09-18",
          "2020-09-19",
          "2020-09-20",
          "2020-09-21",
          "2020-09-22",
          "2020-09-23",
          "2020-09-24",
          "2020-09-25",
          "2020-09-26",
          "2020-09-27",
          "2020-09-28",
          "2020-09-29",
          "2020-09-30",
          "2020-10-01",
          "2020-10-02",
          "2020-10-03",
          "2020-10-04",
          "2020-10-05",
          "2020-10-06",
          "2020-10-07",
          "2020-10-08",
          "2020-10-09",
          "2020-10-10",
          "2020-10-11",
          "2020-10-12",
          "2020-10-13",
          "2020-10-14",
          "2020-10-15",
          "2020-10-16",
          "2020-10-17",
          "2020-10-18",
          "2020-10-19",
          "2020-10-20",
          "2020-10-21",
          "2020-10-22",
          "2020-10-23",
          "2020-10-24",
          "2020-10-25",
          "2020-10-26",
          "2020-10-27",
          "2020-10-28",
          "2020-10-29",
          "2020-10-30",
          "2020-10-31",
          "2020-11-01",
          "2020-11-02",
          "2020-11-03",
          "2020-11-04",
          "2020-11-05",
          "2020-11-06",
          "2020-11-07",
          "2020-11-08",
          "2020-11-09",
          "2020-11-10",
          "2020-11-11",
          "2020-11-12",
          "2020-11-13",
          "2020-11-14",
          "2020-11-15",
          "2020-11-16",
          "2020-11-17",
          "2020-11-18",
          "2020-11-19",
          "2020-11-20",
          "2020-11-21",
          "2020-11-22",
          "2020-11-23",
          "2020-11-24",
          "2020-11-25",
          "2020-11-26",
          "2020-11-27",
          "2020-11-28",
          "2020-11-29",
          "2020-11-30",
          "2020-12-01",
          "2020-12-02",
          "2020-12-03",
          "2020-12-04",
          "2020-12-05",
          "2020-12-06",
          "2020-12-07",
          "2020-12-08",
          "2020-12-09",
          "2020-12-10",
          "2020-12-11",
          "2020-12-12",
          "2020-12-13",
          "2020-12-14",
          "2020-12-15",
          "2020-12-16",
          "2020-12-17",
          "2020-12-18",
          "2020-12-19",
          "2020-12-20",
          "2020-12-21",
          "2020-12-22",
          "2020-12-23",
          "2020-12-24",
          "2020-12-25",
          "2020-12-26",
          "2020-12-27",
          "2020-12-28",
          "2020-12-29",
          "2020-12-30",
          "2020-12-31",
          "2021-01-01",
          "2021-01-02",
          "2021-01-03",
          "2021-01-04",
          "2021-01-05",
          "2021-01-06",
          "2021-01-07",
          "2021-01-08",
          "2021-01-09",
          "2021-01-10",
          "2021-01-11",
          "2021-01-12",
          "2021-01-13",
          "2021-01-14",
          "2021-01-15",
          "2021-01-16",
          "2021-01-17",
          "2021-01-18",
          "2021-01-19",
          "2021-01-20",
          "2021-01-21",
          "2021-01-22",
          "2021-01-23",
          "2021-01-24",
          "2021-01-25",
          "2021-01-26",
          "2021-01-27",
          "2021-01-28",
          "2021-01-29",
          "2021-01-30",
          "2021-01-31",
          "2021-02-01",
          "2021-02-02",
          "2021-02-03",
          "2021-02-04",
          "2021-02-05",
          "2021-02-06",
          "2021-02-07",
          "2021-02-08",
          "2021-02-09",
          "2021-02-10",
          "2021-02-11",
          "2021-02-12",
          "2021-02-13",
          "2021-02-14",
          "2021-02-15",
          "2021-02-16",
          "2021-02-17",
          "2021-02-18",
          "2021-02-19",
          "2021-02-20",
          "2021-02-21",
          "2021-02-22",
          "2021-02-23",
          "2021-02-24",
          "2021-02-25",
          "2021-02-26",
          "2021-02-27",
          "2021-02-28",
          "2021-03-01",
          "2021-03-02",
          "2021-03-03",
          "2021-03-04",
          "2021-03-05",
          "2021-03-06",
          "2021-03-07",
          "2021-03-08",
          "2021-03-09",
          "2021-03-10",
          "2021-03-11",
          "2021-03-12",
          "2021-03-13",
          "2021-03-14",
          "2021-03-15",
          "2021-03-16",
          "2021-03-17",
          "2021-03-18",
          "2021-03-19",
          "2021-03-20",
          "2021-03-21",
          "2021-03-22",
          "2021-03-23",
          "2021-03-24",
          "2021-03-25",
          "2021-03-26",
          "2021-03-27",
          "2021-03-28",
          "2021-03-29",
          "2021-03-30",
          "2021-03-31",
          "2021-04-01",
          "2021-04-02",
          "2021-04-03",
          "2021-04-04",
          "2021-04-05",
          "2021-04-06",
          "2021-04-07",
          "2021-04-08",
          "2021-04-09",
          "2021-04-10",
          "2021-04-11",
          "2021-04-12",
          "2021-04-13",
          "2021-04-14",
          "2021-04-15",
          "2021-04-16",
          "2021-04-17",
          "2021-04-18",
          "2021-04-19",
          "2021-04-20",
          "2021-04-21",
          "2021-04-22",
          "2021-04-23",
          "2021-04-24",
          "2021-04-25",
          "2021-04-26",
          "2021-04-27",
          "2021-04-28",
          "2021-04-29",
          "2021-04-30",
          "2021-05-01",
          "2021-05-02",
          "2021-05-03",
          "2021-05-04",
          "2021-05-05",
          "2021-05-06",
          "2021-05-07",
          "2021-05-08",
          "2021-05-09",
          "2021-05-10",
          "2021-05-11",
          "2021-05-12",
          "2021-05-13",
          "2021-05-14",
          "2021-05-15",
          "2021-05-16",
          "2021-05-17",
          "2021-05-18",
          "2021-05-19",
          "2021-05-20",
          "2021-05-21",
          "2021-05-22",
          "2021-05-23",
          "2021-05-24",
          "2021-05-25",
          "2021-05-26",
          "2021-05-27",
          "2021-05-28",
          "2021-05-29",
          "2021-05-30",
          "2021-05-31",
          "2021-06-01",
          "2021-06-02",
          "2021-06-03",
          "2021-06-04",
          "2021-06-05",
          "2021-06-06",
          "2021-06-07",
          "2021-06-08",
          "2021-06-09",
          "2021-06-10",
          "2021-06-11",
          "2021-06-12",
          "2021-06-13",
          "2021-06-14",
          "2021-06-15",
          "2021-06-16",
          "2021-06-17",
          "2021-06-18",
          "2021-06-19",
          "2021-06-20",
          "2021-06-21",
          "2021-06-22",
          "2021-06-23",
          "2021-06-24",
          "2021-06-25",
          "2021-06-26",
          "2021-06-27",
          "2021-06-28",
          "2021-06-29",
          "2021-06-30",
          "2021-07-01",
          "2021-07-02",
          "2021-07-03",
          "2021-07-04",
          "2021-07-05",
          "2021-07-06",
          "2021-07-07",
          "2021-07-08",
          "2021-07-09",
          "2021-07-10",
          "2021-07-11",
          "2021-07-12",
          "2021-07-13",
          "2021-07-14",
          "2021-07-15",
          "2021-07-16",
          "2021-07-17",
          "2021-07-18",
          "2021-07-19",
          "2021-07-20",
          "2021-07-21",
          "2021-07-22",
          "2021-07-23",
          "2021-07-24",
          "2021-07-25",
          "2021-07-26",
          "2021-07-27",
          "2021-07-28",
          "2021-07-29",
          "2021-07-30",
          "2021-07-31",
          "2021-08-01",
          "2021-08-02",
          "2021-08-03",
          "2021-08-04",
          "2021-08-05",
          "2021-08-06",
          "2021-08-07",
          "2021-08-08",
          "2021-08-09",
          "2021-08-10",
          "2021-08-11",
          "2021-08-12",
          "2021-08-13",
          "2021-08-14",
          "2021-08-15",
          "2021-08-16",
          "2021-08-17",
          "2021-08-18",
          "2021-08-19",
          "2021-08-20",
          "2021-08-21",
          "2021-08-22",
          "2021-08-23",
          "2021-08-24",
          "2021-08-25",
          "2021-08-26",
          "2021-08-27",
          "2021-08-28",
          "2021-08-29",
          "2021-08-30",
          "2021-08-31",
          "2021-09-01",
          "2021-09-02",
          "2021-09-03",
          "2021-09-04",
          "2021-09-05",
          "2021-09-06",
          "2021-09-07",
          "2021-09-08",
          "2021-09-09",
          "2021-09-10",
          "2021-09-11",
          "2021-09-12",
          "2021-09-13",
          "2021-09-14",
          "2021-09-15",
          "2021-09-16",
          "2021-09-17",
          "2021-09-18",
          "2021-09-19",
          "2021-09-20",
          "2021-09-21",
          "2021-09-22",
          "2021-09-23",
          "2021-09-24",
          "2021-09-25",
          "2021-09-26",
          "2021-09-27",
          "2021-09-28",
          "2021-09-29",
          "2021-09-30",
          "2021-10-01",
          "2021-10-02",
          "2021-10-03",
          "2021-10-04",
          "2021-10-05",
          "2021-10-06",
          "2021-10-07",
          "2021-10-08",
          "2021-10-09",
          "2021-10-10",
          "2021-10-11",
          "2021-10-12",
          "2021-10-13",
          "2021-10-14",
          "2021-10-15",
          "2021-10-16",
          "2021-10-17",
          "2021-10-18",
          "2021-10-19",
          "2021-10-20",
          "2021-10-21",
          "2021-10-22",
          "2021-10-23",
          "2021-10-24",
          "2021-10-25",
          "2021-10-26",
          "2021-10-27",
          "2021-10-28",
          "2021-10-29",
          "2021-10-30",
          "2021-10-31",
          "2021-11-01",
          "2021-11-02",
          "2021-11-03",
          "2021-11-04",
          "2021-11-05",
          "2021-11-06",
          "2021-11-07",
          "2021-11-08",
          "2021-11-09",
          "2021-11-10",
          "2021-11-11",
          "2021-11-12",
          "2021-11-13",
          "2021-11-14",
          "2021-11-15",
          "2021-11-16",
          "2021-11-17",
          "2021-11-18",
          "2021-11-19",
          "2021-11-20",
          "2021-11-21",
          "2021-11-22",
          "2021-11-23",
          "2021-11-24",
          "2021-11-25",
          "2021-11-26",
          "2021-11-27",
          "2021-11-28",
          "2021-11-29",
          "2021-11-30",
          "2021-12-01",
          "2021-12-02",
          "2021-12-03",
          "2021-12-04",
          "2021-12-05",
          "2021-12-06",
          "2021-12-07",
          "2021-12-08",
          "2021-12-09",
          "2021-12-10",
          "2021-12-11",
          "2021-12-12",
          "2021-12-13",
          "2021-12-14",
          "2021-12-15",
          "2021-12-16",
          "2021-12-17",
          "2021-12-18",
          "2021-12-19",
          "2021-12-20",
          "2021-12-21",
          "2021-12-22",
          "2021-12-23",
          "2021-12-24",
          "2021-12-25",
          "2021-12-26",
          "2021-12-27",
          "2021-12-28",
          "2021-12-29",
          "2021-12-30",
          "2021-12-31",
          "2022-01-01",
          "2022-01-02",
          "2022-01-03",
          "2022-01-04",
          "2022-01-05",
          "2022-01-06",
          "2022-01-07",
          "2022-01-08",
          "2022-01-09",
          "2022-01-10",
          "2022-01-11",
          "2022-01-12",
          "2022-01-13",
          "2022-01-14",
          "2022-01-15",
          "2022-01-16",
          "2022-01-17",
          "2022-01-18",
          "2022-01-19",
          "2022-01-20",
          "2022-01-21",
          "2022-01-22",
          "2022-01-23",
          "2022-01-24",
          "2022-01-25",
          "2022-01-26",
          "2022-01-27",
          "2022-01-28",
          "2022-01-29",
          "2022-01-30",
          "2022-01-31",
          "2022-02-01",
          "2022-02-02",
          "2022-02-03",
          "2022-02-04",
          "2022-02-05",
          "2022-02-06",
          "2022-02-07",
          "2022-02-08",
          "2022-02-09",
          "2022-02-10",
          "2022-02-11",
          "2022-02-12",
          "2022-02-13",
          "2022-02-14",
          "2022-02-15",
          "2022-02-16",
          "2022-02-17",
          "2022-02-18",
          "2022-02-19",
          "2022-02-20",
          "2022-02-21",
          "2022-02-22",
          "2022-02-23",
          "2022-02-24",
          "2022-02-25",
          "2022-02-26",
          "2022-02-27",
          "2022-02-28",
          "2022-03-01",
          "2022-03-02",
          "2022-03-03",
          "2022-03-04",
          "2022-03-05",
          "2022-03-06",
          "2022-03-07",
          "2022-03-08",
          "2022-03-09",
          "2022-03-10",
          "2022-03-11",
          "2022-03-12",
          "2022-03-13",
          "2022-03-14",
          "2022-03-15",
          "2022-03-16",
          "2022-03-17",
          "2022-03-18",
          "2022-03-19",
          "2022-03-20",
          "2022-03-21",
          "2022-03-22",
          "2022-03-23",
          "2022-03-24",
          "2022-03-25",
          "2022-03-26",
          "2022-03-27",
          "2022-03-28",
          "2022-03-29",
          "2022-03-30",
          "2022-03-31",
          "2022-04-01",
          "2022-04-02",
          "2022-04-03",
          "2022-04-04",
          "2022-04-05",
          "2022-04-06",
          "2022-04-07",
          "2022-04-08",
          "2022-04-09",
          "2022-04-10",
          "2022-04-11",
          "2022-04-12",
          "2022-04-13",
          "2022-04-14",
          "2022-04-15",
          "2022-04-16",
          "2022-04-17",
          "2022-04-18",
          "2022-04-19",
          "2022-04-20",
          "2022-04-21",
          "2022-04-22",
          "2022-04-23",
          "2022-04-24",
          "2022-04-25",
          "2022-04-26",
          "2022-04-27",
          "2022-04-28",
          "2022-04-29",
          "2022-04-30",
          "2022-05-01",
          "2022-05-02",
          "2022-05-03",
          "2022-05-04",
          "2022-05-05",
          "2022-05-06",
          "2022-05-07",
          "2022-05-08",
          "2022-05-09",
          "2022-05-10",
          "2022-05-11",
          "2022-05-12",
          "2022-05-13",
          "2022-05-14",
          "2022-05-15",
          "2022-05-16",
          "2022-05-17",
          "2022-05-18",
          "2022-05-19",
          "2022-05-20",
          "2022-05-21",
          "2022-05-22",
          "2022-05-23",
          "2022-05-24",
          "2022-05-25",
          "2022-05-26",
          "2022-05-27",
          "2022-05-28",
          "2022-05-29",
          "2022-05-30",
          "2022-05-31",
          "2022-06-01",
          "2022-06-02",
          "2022-06-03",
          "2022-06-04",
          "2022-06-05",
          "2022-06-06",
          "2022-06-07",
          "2022-06-08",
          "2022-06-09",
          "2022-06-10",
          "2022-06-11",
          "2022-06-12",
          "2022-06-13",
          "2022-06-14",
          "2022-06-15",
          "2022-06-16",
          "2022-06-17",
          "2022-06-18"
         ],
         "xaxis": "x",
         "y": [
          null,
          0,
          1,
          0,
          3,
          0,
          0,
          1,
          0,
          2,
          0,
          0,
          3,
          0,
          0,
          1,
          0,
          0,
          0,
          0,
          1,
          0,
          1,
          0,
          0,
          0,
          0,
          0,
          0,
          0,
          2,
          0,
          0,
          0,
          0,
          0,
          1,
          0,
          8,
          7,
          23,
          19,
          33,
          77,
          53,
          166,
          116,
          75,
          188,
          365,
          439,
          633,
          759,
          234,
          1467,
          1833,
          2657,
          4494,
          6367,
          5995,
          8919,
          11152,
          10618,
          12127,
          17821,
          18591,
          22164,
          16127,
          22154,
          26381,
          31175,
          32276,
          32401,
          31845,
          29240,
          31782,
          30036,
          31063,
          35610,
          34283,
          28924,
          26308,
          27143,
          28328,
          25897,
          29638,
          33107,
          27329,
          25422,
          30084,
          26075,
          29881,
          31965,
          31965,
          30914,
          25971,
          24650,
          24573,
          26852,
          29702,
          34892,
          26764,
          23733,
          23802,
          24019,
          24482,
          27739,
          27183,
          24454,
          18747,
          19077,
          23382,
          20015,
          25890,
          24851,
          24050,
          18729,
          22308,
          20503,
          22826,
          25152,
          23829,
          20189,
          20174,
          19094,
          18726,
          18763,
          21267,
          25082,
          23080,
          18919,
          17840,
          20090,
          19156,
          27934,
          26440,
          20269,
          17826,
          16900,
          20321,
          21718,
          22278,
          25558,
          24157,
          18901,
          20999,
          24549,
          27050,
          28227,
          31054,
          31826,
          25836,
          29801,
          38729,
          36251,
          39299,
          49046,
          40754,
          42925,
          41295,
          49824,
          49123,
          54943,
          51504,
          45946,
          53728,
          43165,
          57231,
          60306,
          59656,
          68859,
          60439,
          60132,
          59364,
          65662,
          66026,
          70814,
          66472,
          64322,
          58932,
          60663,
          68194,
          67545,
          67886,
          75147,
          64200,
          55839,
          59724,
          64830,
          64128,
          69241,
          64576,
          57578,
          47109,
          41684,
          61657,
          54348,
          60180,
          60587,
          63933,
          54267,
          51617,
          56955,
          55244,
          51656,
          70125,
          52395,
          34662,
          37849,
          44902,
          45884,
          45128,
          47591,
          45673,
          31911,
          33923,
          42673,
          42073,
          50518,
          46470,
          43103,
          34131,
          33362,
          41978,
          39961,
          45141,
          48334,
          43623,
          29119,
          24563,
          26744,
          33638,
          39448,
          44623,
          45583,
          40291,
          32564,
          37178,
          38292,
          45319,
          50184,
          45778,
          41610,
          32043,
          38271,
          41120,
          48883,
          47136,
          43547,
          33779,
          37740,
          42033,
          38631,
          46244,
          53443,
          49281,
          33131,
          37357,
          44545,
          49137,
          57890,
          55079,
          55366,
          46900,
          42080,
          50123,
          58442,
          63537,
          70174,
          54832,
          52170,
          67882,
          61737,
          60706,
          79622,
          81660,
          78375,
          60975,
          64564,
          77223,
          86477,
          91293,
          99849,
          87343,
          77830,
          81807,
          124766,
          100262,
          128081,
          127056,
          127064,
          119673,
          116956,
          136552,
          147682,
          158796,
          179518,
          164050,
          139715,
          153088,
          164647,
          171969,
          192301,
          201669,
          179820,
          146587,
          181512,
          173562,
          180212,
          117251,
          214634,
          168224,
          140352,
          154914,
          197116,
          196163,
          220222,
          235370,
          222010,
          179324,
          195460,
          227057,
          216007,
          236944,
          238902,
          224535,
          191597,
          209828,
          226315,
          234804,
          240246,
          247946,
          205851,
          187195,
          196858,
          205930,
          221441,
          212948,
          127178,
          217440,
          135961,
          173302,
          205972,
          218297,
          315088,
          178902,
          272279,
          203401,
          185502,
          232863,
          259761,
          286244,
          304066,
          264738,
          210843,
          203964,
          221813,
          229330,
          235578,
          244998,
          217689,
          176554,
          140828,
          156895,
          187382,
          192553,
          191775,
          178175,
          140144,
          129600,
          151008,
          155456,
          166760,
          163743,
          150940,
          112858,
          125314,
          117030,
          124372,
          125029,
          131111,
          116860,
          89429,
          82799,
          95381,
          95283,
          106772,
          100580,
          90758,
          68308,
          55448,
          59222,
          68845,
          72580,
          75158,
          73783,
          55265,
          55483,
          73860,
          75025,
          77279,
          75420,
          71289,
          51764,
          50440,
          58418,
          67051,
          68943,
          67879,
          61031,
          41611,
          44092,
          55503,
          57772,
          61790,
          62603,
          56820,
          39274,
          51033,
          54067,
          59274,
          62390,
          61632,
          58867,
          35378,
          47424,
          52858,
          87757,
          67627,
          76371,
          64055,
          46320,
          65872,
          61690,
          69530,
          76856,
          74024,
          64880,
          37923,
          67087,
          62826,
          75777,
          80066,
          84753,
          70535,
          47456,
          62183,
          80841,
          75604,
          73982,
          83473,
          55487,
          43829,
          58546,
          62440,
          64346,
          66719,
          62895,
          54972,
          34769,
          42287,
          52282,
          55186,
          58826,
          58102,
          48776,
          30556,
          44622,
          42895,
          46043,
          46179,
          48415,
          35655,
          22870,
          32376,
          35478,
          36151,
          38736,
          42217,
          30757,
          17692,
          25243,
          28915,
          29605,
          30217,
          28825,
          21213,
          13784,
          21872,
          24590,
          24596,
          26841,
          22242,
          13311,
          7354,
          6275,
          20853,
          16713,
          18396,
          17865,
          15604,
          6016,
          14070,
          13039,
          18565,
          14781,
          25151,
          9160,
          5270,
          11786,
          10729,
          11908,
          11763,
          21182,
          9052,
          4956,
          10554,
          10796,
          12665,
          14476,
          24603,
          9369,
          4622,
          13583,
          7477,
          15351,
          15120,
          29757,
          5414,
          4285,
          8902,
          22282,
          20176,
          20865,
          47592,
          10119,
          11747,
          29423,
          26531,
          31125,
          31961,
          78109,
          14102,
          20329,
          48843,
          39726,
          47736,
          56526,
          120802,
          28744,
          27972,
          79372,
          65003,
          73576,
          72545,
          191445,
          43891,
          44569,
          108360,
          97754,
          102446,
          109687,
          251896,
          63006,
          34876,
          159787,
          117801,
          154452,
          144086,
          226806,
          73067,
          46788,
          194355,
          150591,
          167602,
          155221,
          239074,
          92196,
          44203,
          208225,
          154460,
          178982,
          183771,
          238672,
          78889,
          52011,
          229214,
          179961,
          190517,
          179135,
          235444,
          85908,
          63505,
          93739,
          209170,
          176927,
          166418,
          242009,
          89131,
          48352,
          210779,
          145404,
          173253,
          158777,
          210862,
          74973,
          44871,
          171802,
          121738,
          131352,
          129169,
          174766,
          60495,
          54317,
          155946,
          112752,
          121389,
          110386,
          154830,
          48205,
          44778,
          142915,
          95233,
          112173,
          101526,
          131415,
          38827,
          39670,
          96064,
          110606,
          108464,
          86947,
          109480,
          39784,
          31657,
          98951,
          81917,
          91620,
          78082,
          95952,
          32420,
          19170,
          112572,
          66657,
          102563,
          75096,
          95106,
          34295,
          32326,
          113254,
          68748,
          85594,
          81438,
          96858,
          34861,
          36828,
          110750,
          78359,
          95070,
          57644,
          143511,
          43952,
          31912,
          134036,
          87271,
          112847,
          109827,
          126875,
          45361,
          39832,
          144616,
          91345,
          111580,
          39319,
          53421,
          26539,
          43149,
          186293,
          117105,
          137114,
          138851,
          158612,
          66341,
          55184,
          177686,
          113260,
          149912,
          124531,
          158210,
          56588,
          52309,
          185486,
          112821,
          145846,
          141731,
          192654,
          79760,
          89199,
          240041,
          179413,
          243742,
          269760,
          248520,
          86655,
          178387,
          500568,
          362033,
          502107,
          590698,
          513620,
          188763,
          285957,
          1044955,
          812218,
          662605,
          835022,
          869760,
          397694,
          485025,
          1383898,
          787395,
          848637,
          861345,
          880060,
          408314,
          479802,
          675132,
          1129513,
          908127,
          732597,
          841088,
          302500,
          365446,
          922152,
          493085,
          624058,
          506258,
          614074,
          178619,
          197961,
          542240,
          325409,
          329538,
          274803,
          354969,
          86429,
          83476,
          346437,
          214368,
          188406,
          171409,
          209315,
          51865,
          58321,
          170180,
          111170,
          114817,
          101689,
          145170,
          31407,
          23004,
          82887,
          89332,
          85136,
          67071,
          74372,
          47412,
          18220,
          98914,
          46707,
          53402,
          48608,
          51260,
          14920,
          12395,
          64080,
          29754,
          37699,
          46577,
          49709,
          10218,
          11050,
          35384,
          24375,
          46129,
          53172,
          31360,
          10879,
          11451,
          42274,
          24562,
          41013,
          42994,
          46435,
          9434,
          11790,
          38970,
          24181,
          39182,
          45633,
          32218,
          11806,
          4755,
          28904,
          25603,
          40947,
          50635,
          75022,
          12712,
          9531,
          40341,
          35737,
          55386,
          50658,
          35442,
          12335,
          7504,
          61387,
          39259,
          68937,
          61695,
          90052,
          19729,
          13488,
          70202,
          45349,
          90014,
          77353,
          61189,
          23979,
          16702,
          94704,
          49589,
          112024,
          88549,
          128761,
          27820,
          5763,
          130010,
          70244,
          160183,
          113981,
          87373,
          17057,
          32110,
          178708,
          84590,
          203754,
          135154,
          149034,
          26930,
          19582,
          142457,
          83004,
          210049,
          145447,
          107963,
          12682,
          5768,
          60911,
          169782,
          227078,
          121389,
          157059,
          26156,
          14456,
          161130,
          85407,
          198002,
          141914,
          106317,
          33349,
          9352,
          150911,
          92072,
          182778,
          116445,
          158683,
          14564
         ],
         "yaxis": "y"
        }
       ],
       "layout": {
        "legend": {
         "orientation": "h",
         "title": {
          "text": "Country"
         },
         "tracegroupgap": 0,
         "x": 0.5,
         "xanchor": "center",
         "y": -0.2
        },
        "template": {
         "data": {
          "bar": [
           {
            "error_x": {
             "color": "#2a3f5f"
            },
            "error_y": {
             "color": "#2a3f5f"
            },
            "marker": {
             "line": {
              "color": "white",
              "width": 0.5
             },
             "pattern": {
              "fillmode": "overlay",
              "size": 10,
              "solidity": 0.2
             }
            },
            "type": "bar"
           }
          ],
          "barpolar": [
           {
            "marker": {
             "line": {
              "color": "white",
              "width": 0.5
             },
             "pattern": {
              "fillmode": "overlay",
              "size": 10,
              "solidity": 0.2
             }
            },
            "type": "barpolar"
           }
          ],
          "carpet": [
           {
            "aaxis": {
             "endlinecolor": "#2a3f5f",
             "gridcolor": "#C8D4E3",
             "linecolor": "#C8D4E3",
             "minorgridcolor": "#C8D4E3",
             "startlinecolor": "#2a3f5f"
            },
            "baxis": {
             "endlinecolor": "#2a3f5f",
             "gridcolor": "#C8D4E3",
             "linecolor": "#C8D4E3",
             "minorgridcolor": "#C8D4E3",
             "startlinecolor": "#2a3f5f"
            },
            "type": "carpet"
           }
          ],
          "choropleth": [
           {
            "colorbar": {
             "outlinewidth": 0,
             "ticks": ""
            },
            "type": "choropleth"
           }
          ],
          "contour": [
           {
            "colorbar": {
             "outlinewidth": 0,
             "ticks": ""
            },
            "colorscale": [
             [
              0,
              "#0d0887"
             ],
             [
              0.1111111111111111,
              "#46039f"
             ],
             [
              0.2222222222222222,
              "#7201a8"
             ],
             [
              0.3333333333333333,
              "#9c179e"
             ],
             [
              0.4444444444444444,
              "#bd3786"
             ],
             [
              0.5555555555555556,
              "#d8576b"
             ],
             [
              0.6666666666666666,
              "#ed7953"
             ],
             [
              0.7777777777777778,
              "#fb9f3a"
             ],
             [
              0.8888888888888888,
              "#fdca26"
             ],
             [
              1,
              "#f0f921"
             ]
            ],
            "type": "contour"
           }
          ],
          "contourcarpet": [
           {
            "colorbar": {
             "outlinewidth": 0,
             "ticks": ""
            },
            "type": "contourcarpet"
           }
          ],
          "heatmap": [
           {
            "colorbar": {
             "outlinewidth": 0,
             "ticks": ""
            },
            "colorscale": [
             [
              0,
              "#0d0887"
             ],
             [
              0.1111111111111111,
              "#46039f"
             ],
             [
              0.2222222222222222,
              "#7201a8"
             ],
             [
              0.3333333333333333,
              "#9c179e"
             ],
             [
              0.4444444444444444,
              "#bd3786"
             ],
             [
              0.5555555555555556,
              "#d8576b"
             ],
             [
              0.6666666666666666,
              "#ed7953"
             ],
             [
              0.7777777777777778,
              "#fb9f3a"
             ],
             [
              0.8888888888888888,
              "#fdca26"
             ],
             [
              1,
              "#f0f921"
             ]
            ],
            "type": "heatmap"
           }
          ],
          "heatmapgl": [
           {
            "colorbar": {
             "outlinewidth": 0,
             "ticks": ""
            },
            "colorscale": [
             [
              0,
              "#0d0887"
             ],
             [
              0.1111111111111111,
              "#46039f"
             ],
             [
              0.2222222222222222,
              "#7201a8"
             ],
             [
              0.3333333333333333,
              "#9c179e"
             ],
             [
              0.4444444444444444,
              "#bd3786"
             ],
             [
              0.5555555555555556,
              "#d8576b"
             ],
             [
              0.6666666666666666,
              "#ed7953"
             ],
             [
              0.7777777777777778,
              "#fb9f3a"
             ],
             [
              0.8888888888888888,
              "#fdca26"
             ],
             [
              1,
              "#f0f921"
             ]
            ],
            "type": "heatmapgl"
           }
          ],
          "histogram": [
           {
            "marker": {
             "pattern": {
              "fillmode": "overlay",
              "size": 10,
              "solidity": 0.2
             }
            },
            "type": "histogram"
           }
          ],
          "histogram2d": [
           {
            "colorbar": {
             "outlinewidth": 0,
             "ticks": ""
            },
            "colorscale": [
             [
              0,
              "#0d0887"
             ],
             [
              0.1111111111111111,
              "#46039f"
             ],
             [
              0.2222222222222222,
              "#7201a8"
             ],
             [
              0.3333333333333333,
              "#9c179e"
             ],
             [
              0.4444444444444444,
              "#bd3786"
             ],
             [
              0.5555555555555556,
              "#d8576b"
             ],
             [
              0.6666666666666666,
              "#ed7953"
             ],
             [
              0.7777777777777778,
              "#fb9f3a"
             ],
             [
              0.8888888888888888,
              "#fdca26"
             ],
             [
              1,
              "#f0f921"
             ]
            ],
            "type": "histogram2d"
           }
          ],
          "histogram2dcontour": [
           {
            "colorbar": {
             "outlinewidth": 0,
             "ticks": ""
            },
            "colorscale": [
             [
              0,
              "#0d0887"
             ],
             [
              0.1111111111111111,
              "#46039f"
             ],
             [
              0.2222222222222222,
              "#7201a8"
             ],
             [
              0.3333333333333333,
              "#9c179e"
             ],
             [
              0.4444444444444444,
              "#bd3786"
             ],
             [
              0.5555555555555556,
              "#d8576b"
             ],
             [
              0.6666666666666666,
              "#ed7953"
             ],
             [
              0.7777777777777778,
              "#fb9f3a"
             ],
             [
              0.8888888888888888,
              "#fdca26"
             ],
             [
              1,
              "#f0f921"
             ]
            ],
            "type": "histogram2dcontour"
           }
          ],
          "mesh3d": [
           {
            "colorbar": {
             "outlinewidth": 0,
             "ticks": ""
            },
            "type": "mesh3d"
           }
          ],
          "parcoords": [
           {
            "line": {
             "colorbar": {
              "outlinewidth": 0,
              "ticks": ""
             }
            },
            "type": "parcoords"
           }
          ],
          "pie": [
           {
            "automargin": true,
            "type": "pie"
           }
          ],
          "scatter": [
           {
            "fillpattern": {
             "fillmode": "overlay",
             "size": 10,
             "solidity": 0.2
            },
            "type": "scatter"
           }
          ],
          "scatter3d": [
           {
            "line": {
             "colorbar": {
              "outlinewidth": 0,
              "ticks": ""
             }
            },
            "marker": {
             "colorbar": {
              "outlinewidth": 0,
              "ticks": ""
             }
            },
            "type": "scatter3d"
           }
          ],
          "scattercarpet": [
           {
            "marker": {
             "colorbar": {
              "outlinewidth": 0,
              "ticks": ""
             }
            },
            "type": "scattercarpet"
           }
          ],
          "scattergeo": [
           {
            "marker": {
             "colorbar": {
              "outlinewidth": 0,
              "ticks": ""
             }
            },
            "type": "scattergeo"
           }
          ],
          "scattergl": [
           {
            "marker": {
             "colorbar": {
              "outlinewidth": 0,
              "ticks": ""
             }
            },
            "type": "scattergl"
           }
          ],
          "scattermapbox": [
           {
            "marker": {
             "colorbar": {
              "outlinewidth": 0,
              "ticks": ""
             }
            },
            "type": "scattermapbox"
           }
          ],
          "scatterpolar": [
           {
            "marker": {
             "colorbar": {
              "outlinewidth": 0,
              "ticks": ""
             }
            },
            "type": "scatterpolar"
           }
          ],
          "scatterpolargl": [
           {
            "marker": {
             "colorbar": {
              "outlinewidth": 0,
              "ticks": ""
             }
            },
            "type": "scatterpolargl"
           }
          ],
          "scatterternary": [
           {
            "marker": {
             "colorbar": {
              "outlinewidth": 0,
              "ticks": ""
             }
            },
            "type": "scatterternary"
           }
          ],
          "surface": [
           {
            "colorbar": {
             "outlinewidth": 0,
             "ticks": ""
            },
            "colorscale": [
             [
              0,
              "#0d0887"
             ],
             [
              0.1111111111111111,
              "#46039f"
             ],
             [
              0.2222222222222222,
              "#7201a8"
             ],
             [
              0.3333333333333333,
              "#9c179e"
             ],
             [
              0.4444444444444444,
              "#bd3786"
             ],
             [
              0.5555555555555556,
              "#d8576b"
             ],
             [
              0.6666666666666666,
              "#ed7953"
             ],
             [
              0.7777777777777778,
              "#fb9f3a"
             ],
             [
              0.8888888888888888,
              "#fdca26"
             ],
             [
              1,
              "#f0f921"
             ]
            ],
            "type": "surface"
           }
          ],
          "table": [
           {
            "cells": {
             "fill": {
              "color": "#EBF0F8"
             },
             "line": {
              "color": "white"
             }
            },
            "header": {
             "fill": {
              "color": "#C8D4E3"
             },
             "line": {
              "color": "white"
             }
            },
            "type": "table"
           }
          ]
         },
         "layout": {
          "annotationdefaults": {
           "arrowcolor": "#2a3f5f",
           "arrowhead": 0,
           "arrowwidth": 1
          },
          "autotypenumbers": "strict",
          "coloraxis": {
           "colorbar": {
            "outlinewidth": 0,
            "ticks": ""
           }
          },
          "colorscale": {
           "diverging": [
            [
             0,
             "#8e0152"
            ],
            [
             0.1,
             "#c51b7d"
            ],
            [
             0.2,
             "#de77ae"
            ],
            [
             0.3,
             "#f1b6da"
            ],
            [
             0.4,
             "#fde0ef"
            ],
            [
             0.5,
             "#f7f7f7"
            ],
            [
             0.6,
             "#e6f5d0"
            ],
            [
             0.7,
             "#b8e186"
            ],
            [
             0.8,
             "#7fbc41"
            ],
            [
             0.9,
             "#4d9221"
            ],
            [
             1,
             "#276419"
            ]
           ],
           "sequential": [
            [
             0,
             "#0d0887"
            ],
            [
             0.1111111111111111,
             "#46039f"
            ],
            [
             0.2222222222222222,
             "#7201a8"
            ],
            [
             0.3333333333333333,
             "#9c179e"
            ],
            [
             0.4444444444444444,
             "#bd3786"
            ],
            [
             0.5555555555555556,
             "#d8576b"
            ],
            [
             0.6666666666666666,
             "#ed7953"
            ],
            [
             0.7777777777777778,
             "#fb9f3a"
            ],
            [
             0.8888888888888888,
             "#fdca26"
            ],
            [
             1,
             "#f0f921"
            ]
           ],
           "sequentialminus": [
            [
             0,
             "#0d0887"
            ],
            [
             0.1111111111111111,
             "#46039f"
            ],
            [
             0.2222222222222222,
             "#7201a8"
            ],
            [
             0.3333333333333333,
             "#9c179e"
            ],
            [
             0.4444444444444444,
             "#bd3786"
            ],
            [
             0.5555555555555556,
             "#d8576b"
            ],
            [
             0.6666666666666666,
             "#ed7953"
            ],
            [
             0.7777777777777778,
             "#fb9f3a"
            ],
            [
             0.8888888888888888,
             "#fdca26"
            ],
            [
             1,
             "#f0f921"
            ]
           ]
          },
          "colorway": [
           "#636efa",
           "#EF553B",
           "#00cc96",
           "#ab63fa",
           "#FFA15A",
           "#19d3f3",
           "#FF6692",
           "#B6E880",
           "#FF97FF",
           "#FECB52"
          ],
          "font": {
           "color": "#2a3f5f"
          },
          "geo": {
           "bgcolor": "white",
           "lakecolor": "white",
           "landcolor": "white",
           "showlakes": true,
           "showland": true,
           "subunitcolor": "#C8D4E3"
          },
          "hoverlabel": {
           "align": "left"
          },
          "hovermode": "closest",
          "mapbox": {
           "style": "light"
          },
          "paper_bgcolor": "white",
          "plot_bgcolor": "white",
          "polar": {
           "angularaxis": {
            "gridcolor": "#EBF0F8",
            "linecolor": "#EBF0F8",
            "ticks": ""
           },
           "bgcolor": "white",
           "radialaxis": {
            "gridcolor": "#EBF0F8",
            "linecolor": "#EBF0F8",
            "ticks": ""
           }
          },
          "scene": {
           "xaxis": {
            "backgroundcolor": "white",
            "gridcolor": "#DFE8F3",
            "gridwidth": 2,
            "linecolor": "#EBF0F8",
            "showbackground": true,
            "ticks": "",
            "zerolinecolor": "#EBF0F8"
           },
           "yaxis": {
            "backgroundcolor": "white",
            "gridcolor": "#DFE8F3",
            "gridwidth": 2,
            "linecolor": "#EBF0F8",
            "showbackground": true,
            "ticks": "",
            "zerolinecolor": "#EBF0F8"
           },
           "zaxis": {
            "backgroundcolor": "white",
            "gridcolor": "#DFE8F3",
            "gridwidth": 2,
            "linecolor": "#EBF0F8",
            "showbackground": true,
            "ticks": "",
            "zerolinecolor": "#EBF0F8"
           }
          },
          "shapedefaults": {
           "line": {
            "color": "#2a3f5f"
           }
          },
          "ternary": {
           "aaxis": {
            "gridcolor": "#DFE8F3",
            "linecolor": "#A2B1C6",
            "ticks": ""
           },
           "baxis": {
            "gridcolor": "#DFE8F3",
            "linecolor": "#A2B1C6",
            "ticks": ""
           },
           "bgcolor": "white",
           "caxis": {
            "gridcolor": "#DFE8F3",
            "linecolor": "#A2B1C6",
            "ticks": ""
           }
          },
          "title": {
           "x": 0.05
          },
          "xaxis": {
           "automargin": true,
           "gridcolor": "#EBF0F8",
           "linecolor": "#EBF0F8",
           "ticks": "",
           "title": {
            "standoff": 15
           },
           "zerolinecolor": "#EBF0F8",
           "zerolinewidth": 2
          },
          "yaxis": {
           "automargin": true,
           "gridcolor": "#EBF0F8",
           "linecolor": "#EBF0F8",
           "ticks": "",
           "title": {
            "standoff": 15
           },
           "zerolinecolor": "#EBF0F8",
           "zerolinewidth": 2
          }
         }
        },
        "title": {
         "text": "Number of Diagnosed COVID-19 Cases Over Time",
         "x": 0.5,
         "xanchor": "center"
        },
        "xaxis": {
         "anchor": "y",
         "domain": [
          0,
          1
         ],
         "showgrid": true,
         "title": {
          "text": "Date"
         }
        },
        "yaxis": {
         "anchor": "x",
         "domain": [
          0,
          1
         ],
         "showgrid": true,
         "title": {
          "text": "New Cases per Day"
         }
        }
       }
      }
     },
     "metadata": {},
     "output_type": "display_data"
    }
   ],
   "source": [
    "fig_2 = px.line(\n",
    "    df_my_country,\n",
    "    x=\"date\",\n",
    "    y=\"new_cases\",\n",
    "    color=\"location\",\n",
    "    color_discrete_sequence=px.colors.qualitative.Dark24_r,\n",
    "    title=\"Number of Diagnosed COVID-19 Cases Over Time\",\n",
    "    template=\"plotly_white\",\n",
    ")\n",
    "\n",
    "fig_2.update_layout(\n",
    "    title=dict(\n",
    "        text=\"Number of Diagnosed COVID-19 Cases Over Time\",\n",
    "        x=0.5,\n",
    "        xanchor=\"center\",\n",
    "    ),\n",
    "    yaxis_title=\"New Cases per Day\",\n",
    "    xaxis_title=\"Date\",\n",
    "    xaxis=dict(\n",
    "        showgrid=True,\n",
    "    ),\n",
    "    yaxis=dict(\n",
    "        showgrid=True,\n",
    "    ),\n",
    "    legend=dict(\n",
    "        title=\"Country\",\n",
    "        orientation=\"h\",\n",
    "        x=0.5,\n",
    "        xanchor=\"center\",\n",
    "        y=-0.2 \n",
    "    )\n",
    ")\n",
    "\n",
    "fig_2.show()"
   ]
  },
  {
   "cell_type": "markdown",
   "metadata": {},
   "source": [
    "**5) COVID Map**"
   ]
  },
  {
   "cell_type": "code",
   "execution_count": null,
   "metadata": {},
   "outputs": [],
   "source": [
    "df_map = df[df['date'] == df['date'].max()]\n",
    "\n",
    "df_map['cases to population'] = df_map['total_cases'] / df_map['population']"
   ]
  },
  {
   "cell_type": "code",
   "execution_count": 81,
   "metadata": {},
   "outputs": [
    {
     "data": {
      "application/vnd.plotly.v1+json": {
       "config": {
        "plotlyServerURL": "https://plot.ly"
       },
       "data": [
        {
         "customdata": [
          [
           181574,
           0.004558103404838527
          ],
          [
           423044,
           0.1425288936326196
          ],
          [
           792985,
           0.07756610752802605
          ],
          [
           603848,
           0.34539251098927815
          ],
          [
           1955731,
           0.011760011488393623
          ],
          [
           59644,
           0.0764764713424798
          ],
          [
           156452,
           0.3543389833579446
          ],
          [
           136262,
           0.008040741993926043
          ],
          [
           887201,
           0.0006143131895367831
          ],
          [
           1658755,
           0.41679638512045786
          ],
          [
           1225408,
           0.1622455248384705
          ],
          [
           43296692,
           0.031072492695689305
          ],
          [
           6066908,
           0.021952774455200733
          ],
          [
           7234597,
           0.08508411742097614
          ],
          [
           2331872,
           0.05662721590731238
          ],
          [
           4226245,
           0.4548751479926811
          ],
          [
           9124454,
           0.07238711923723194
          ],
          [
           1697673,
           0.16531983279420376
          ],
          [
           1395148,
           0.07344833297341326
          ],
          [
           638708,
           0.14755693184304317
          ],
          [
           201016,
           0.03032671644981773
          ],
          [
           210194,
           0.02848404969646411
          ],
          [
           1103264,
           0.16298410243766168
          ],
          [
           83,
           0.0001260649067195633
          ],
          [
           4538922,
           0.13848227349147757
          ],
          [
           179979,
           0.3310750156359222
          ],
          [
           926282,
           0.278222751932699
          ],
          [
           613485,
           0.011193753298679958
          ],
          [
           979344,
           0.033002414159835985
          ],
          [
           1,
           3.862936074781807e-8
          ],
          [
           389758,
           0.07461802481766582
          ],
          [
           1531982,
           0.006802764134086384
          ],
          [
           658100,
           0.126006269486838
          ],
          [
           3695652,
           0.033280097573178756
          ],
          [
           374923,
           0.12793718802507675
          ],
          [
           783907,
           0.022181435105379975
          ],
          [
           1364562,
           0.2502130702655127
          ],
          [
           18276552,
           0.3562320719871115
          ],
          [
           663984,
           0.030886846937937248
          ],
          [
           55913,
           0.003059417027108778
          ],
          [
           3244453,
           0.13600720653709275
          ],
          [
           17786,
           0.0018242752926394604
          ],
          [
           4499044,
           0.06431722253415556
          ],
          [
           22944,
           0.01707301646358478
          ],
          [
           15085742,
           0.17739013006354828
          ],
          [
           925898,
           0.09267243601119118
          ],
          [
           239525,
           0.0070581877261349495
          ],
          [
           10737107,
           0.10937389301037705
          ],
          [
           11823,
           0.00038775835429359157
          ]
         ],
         "geo": "geo",
         "hovertemplate": "<b>%{hovertext}</b><br><br>continent=Asia<br>cases to population=%{customdata[1]}<br>latitude=%{lat}<br>longitude=%{lon}<br>total_cases=%{customdata[0]}<extra></extra>",
         "hovertext": [
          "Afghanistan",
          "Armenia",
          "Azerbaijan",
          "Bahrain",
          "Bangladesh",
          "Bhutan",
          "Brunei",
          "Cambodia",
          "China",
          "Georgia",
          "Hong Kong",
          "India",
          "Indonesia",
          "Iran",
          "Iraq",
          "Israel",
          "Japan",
          "Jordan",
          "Kazakhstan",
          "Kuwait",
          "Kyrgyzstan",
          "Laos",
          "Lebanon",
          "Macao",
          "Malaysia",
          "Maldives",
          "Mongolia",
          "Myanmar",
          "Nepal",
          "North Korea",
          "Oman",
          "Pakistan",
          "Palestine",
          "Philippines",
          "Qatar",
          "Saudi Arabia",
          "Singapore",
          "South Korea",
          "Sri Lanka",
          "Syria",
          "Taiwan",
          "Tajikistan",
          "Thailand",
          "Timor",
          "Turkey",
          "United Arab Emirates",
          "Uzbekistan",
          "Vietnam",
          "Yemen"
         ],
         "lat": [
          33,
          40,
          40.5,
          26,
          24,
          27.5,
          4.5,
          13,
          35,
          42,
          22.25,
          20,
          -5,
          32,
          33,
          31.5,
          36,
          31,
          48,
          29.3375,
          41,
          18,
          33.8333,
          22.1667,
          2.5,
          3.25,
          46,
          22,
          28,
          40,
          21,
          30,
          32,
          13,
          25.5,
          25,
          1.3667,
          37,
          7,
          35,
          23.5,
          39,
          15,
          -8.55,
          39,
          24,
          41,
          16,
          15
         ],
         "legendgroup": "Asia",
         "lon": [
          65,
          45,
          47.5,
          50.55,
          90,
          90.5,
          114.6667,
          105,
          105,
          43.5,
          114.1667,
          77,
          120,
          53,
          44,
          34.75,
          138,
          36,
          68,
          47.6581,
          75,
          105,
          35.8333,
          113.55,
          112.5,
          73,
          105,
          98,
          84,
          127,
          57,
          70,
          35.25,
          122,
          51.25,
          45,
          103.8,
          127.5,
          81,
          38,
          121,
          71,
          100,
          125.5167,
          35,
          54,
          64,
          106,
          48
         ],
         "marker": {
          "color": "rgb(102,194,165)",
          "size": [
           0.004558103404838527,
           0.1425288936326196,
           0.07756610752802605,
           0.34539251098927815,
           0.011760011488393623,
           0.0764764713424798,
           0.3543389833579446,
           0.008040741993926043,
           0.0006143131895367831,
           0.41679638512045786,
           0.1622455248384705,
           0.031072492695689305,
           0.021952774455200733,
           0.08508411742097614,
           0.05662721590731238,
           0.4548751479926811,
           0.07238711923723194,
           0.16531983279420376,
           0.07344833297341326,
           0.14755693184304317,
           0.03032671644981773,
           0.02848404969646411,
           0.16298410243766168,
           0.0001260649067195633,
           0.13848227349147757,
           0.3310750156359222,
           0.278222751932699,
           0.011193753298679958,
           0.033002414159835985,
           3.862936074781807e-8,
           0.07461802481766582,
           0.006802764134086384,
           0.126006269486838,
           0.033280097573178756,
           0.12793718802507675,
           0.022181435105379975,
           0.2502130702655127,
           0.3562320719871115,
           0.030886846937937248,
           0.003059417027108778,
           0.13600720653709275,
           0.0018242752926394604,
           0.06431722253415556,
           0.01707301646358478,
           0.17739013006354828,
           0.09267243601119118,
           0.0070581877261349495,
           0.10937389301037705,
           0.00038775835429359157
          ],
          "sizemode": "area",
          "sizeref": 0.0017663547591380752,
          "symbol": "circle"
         },
         "mode": "markers",
         "name": "Asia",
         "showlegend": true,
         "type": "scattergeo"
        },
        {
         "customdata": [
          [
           277141,
           0.09646619100891284
          ],
          [
           43449,
           0.5616904103213797
          ],
          [
           4349916,
           0.48102193590850545
          ],
          [
           982867,
           0.10408565534175161
          ],
          [
           4187940,
           0.36002576954891424
          ],
          [
           378209,
           0.11589206421775178
          ],
          [
           1168035,
           0.16936253879598154
          ],
          [
           1141546,
           0.27967710172608823
          ],
          [
           497454,
           0.5551910982639606
          ],
          [
           3925291,
           0.3660097535067429
          ],
          [
           3150599,
           0.541963758290899
          ],
          [
           578494,
           0.4365373064048271
          ],
          [
           34658,
           0.7065419036552301
          ],
          [
           1125342,
           0.2028242214232275
          ],
          [
           30139875,
           0.44703323840882797
          ],
          [
           27204955,
           0.3242527089031479
          ],
          [
           19010,
           0.5642456442373334
          ],
          [
           3539423,
           0.34128910868233503
          ],
          [
           1923122,
           0.19961487049937504
          ],
          [
           191079,
           0.5181213258422092
          ],
          [
           1578284,
           0.3167397967129208
          ],
          [
           33821,
           0.3959840768059946
          ],
          [
           17844905,
           0.2956046477414964
          ],
          [
           831727,
           0.4455042331437533
          ],
          [
           17653,
           0.46146808176922677
          ],
          [
           1065134,
           0.3959809090577881
          ],
          [
           254865,
           0.4014798035330034
          ],
          [
           97557,
           0.18902732028676614
          ],
          [
           519452,
           0.12908766719888667
          ],
          [
           12616,
           0.3192307692307692
          ],
          [
           238416,
           0.3796124836995722
          ],
          [
           8132678,
           0.47357092437740106
          ],
          [
           312879,
           0.15023040235544816
          ],
          [
           1439656,
           0.26340170545787134
          ],
          [
           6011174,
           0.1590383892901553
          ],
          [
           5005783,
           0.49231126160180405
          ],
          [
           2912705,
           0.15227622955773418
          ],
          [
           18126576,
           0.1242294894659194
          ],
          [
           17413,
           0.5119964716259924
          ],
          [
           2022252,
           0.2942935557306091
          ],
          [
           2546134,
           0.4672431353190427
          ],
          [
           1030354,
           0.4956668108256848
          ],
          [
           12563399,
           0.26876333920067236
          ],
          [
           2512853,
           0.24732418065504683
          ],
          [
           3701895,
           0.42474872910244676
          ],
          [
           5040518,
           0.11596242301772143
          ],
          [
           22549766,
           0.3306072442824659
          ],
          [
           29,
           0.03571428571428571
          ]
         ],
         "geo": "geo",
         "hovertemplate": "<b>%{hovertext}</b><br><br>continent=Europe<br>cases to population=%{customdata[1]}<br>latitude=%{lat}<br>longitude=%{lon}<br>total_cases=%{customdata[0]}<extra></extra>",
         "hovertext": [
          "Albania",
          "Andorra",
          "Austria",
          "Belarus",
          "Belgium",
          "Bosnia and Herzegovina",
          "Bulgaria",
          "Croatia",
          "Cyprus",
          "Czechia",
          "Denmark",
          "Estonia",
          "Faeroe Islands",
          "Finland",
          "France",
          "Germany",
          "Gibraltar",
          "Greece",
          "Hungary",
          "Iceland",
          "Ireland",
          "Isle of Man",
          "Italy",
          "Latvia",
          "Liechtenstein",
          "Lithuania",
          "Luxembourg",
          "Malta",
          "Moldova",
          "Monaco",
          "Montenegro",
          "Netherlands",
          "North Macedonia",
          "Norway",
          "Poland",
          "Portugal",
          "Romania",
          "Russia",
          "San Marino",
          "Serbia",
          "Slovakia",
          "Slovenia",
          "Spain",
          "Sweden",
          "Switzerland",
          "Ukraine",
          "United Kingdom",
          "Vatican"
         ],
         "lat": [
          41,
          42.5,
          47.3333,
          53,
          50.8333,
          44,
          43,
          45.1667,
          35,
          49.75,
          56,
          59,
          62,
          64,
          46,
          51,
          36.1833,
          39,
          47,
          65,
          53,
          54.23,
          42.8333,
          57,
          47.1667,
          56,
          49.75,
          35.8333,
          47,
          43.7333,
          42,
          52.5,
          41.8333,
          62,
          52,
          39.5,
          46,
          60,
          43.7667,
          44,
          48.6667,
          46,
          40,
          62,
          47,
          49,
          54,
          41.9
         ],
         "legendgroup": "Europe",
         "lon": [
          20,
          1.6,
          13.3333,
          28,
          4,
          18,
          25,
          15.5,
          33,
          15.5,
          10,
          26,
          -7,
          26,
          2,
          9,
          -5.3667,
          22,
          20,
          -18,
          -8,
          -4.55,
          12.8333,
          25,
          9.5333,
          24,
          6.1667,
          14.5833,
          29,
          7.4,
          19,
          5.75,
          22,
          10,
          20,
          -8,
          25,
          100,
          12.4167,
          21,
          19.5,
          15,
          -4,
          15,
          8,
          32,
          -2,
          12.45
         ],
         "marker": {
          "color": "rgb(252,141,98)",
          "size": [
           0.09646619100891284,
           0.5616904103213797,
           0.48102193590850545,
           0.10408565534175161,
           0.36002576954891424,
           0.11589206421775178,
           0.16936253879598154,
           0.27967710172608823,
           0.5551910982639606,
           0.3660097535067429,
           0.541963758290899,
           0.4365373064048271,
           0.7065419036552301,
           0.2028242214232275,
           0.44703323840882797,
           0.3242527089031479,
           0.5642456442373334,
           0.34128910868233503,
           0.19961487049937504,
           0.5181213258422092,
           0.3167397967129208,
           0.3959840768059946,
           0.2956046477414964,
           0.4455042331437533,
           0.46146808176922677,
           0.3959809090577881,
           0.4014798035330034,
           0.18902732028676614,
           0.12908766719888667,
           0.3192307692307692,
           0.3796124836995722,
           0.47357092437740106,
           0.15023040235544816,
           0.26340170545787134,
           0.1590383892901553,
           0.49231126160180405,
           0.15227622955773418,
           0.1242294894659194,
           0.5119964716259924,
           0.2942935557306091,
           0.4672431353190427,
           0.4956668108256848,
           0.26876333920067236,
           0.24732418065504683,
           0.42474872910244676,
           0.11596242301772143,
           0.3306072442824659,
           0.03571428571428571
          ],
          "sizemode": "area",
          "sizeref": 0.0017663547591380752,
          "symbol": "circle"
         },
         "mode": "markers",
         "name": "Europe",
         "showlegend": true,
         "type": "scattergeo"
        },
        {
         "customdata": [
          [
           265971,
           0.005961253098788779
          ],
          [
           99761,
           0.0029398875351049434
          ],
          [
           27122,
           0.0021782935083849682
          ],
          [
           314242,
           0.13108491431813252
          ],
          [
           21044,
           0.0009789228750281956
          ],
          [
           42398,
           0.00345952801815424
          ],
          [
           119947,
           0.004405886190780856
          ],
          [
           58029,
           0.10327264055411896
          ],
          [
           14649,
           0.002977446891627966
          ],
          [
           7420,
           0.0004386642967759061
          ],
          [
           8131,
           0.00915183194215583
          ],
          [
           24128,
           0.004265145393764947
          ],
          [
           82659,
           0.003055375676217043
          ],
          [
           89932,
           0.0009735219817414075
          ],
          [
           15690,
           0.01565560463661336
          ],
          [
           515645,
           0.004945839961540913
          ],
          [
           15951,
           0.011001516665735562
          ],
          [
           9777,
           0.0027147308509710777
          ],
          [
           73003,
           0.06226964377256649
          ],
          [
           483739,
           0.004103787645865079
          ],
          [
           47742,
           0.020950233650703937
          ],
          [
           12002,
           0.004826016903524295
          ],
          [
           163332,
           0.005147212314282862
          ],
          [
           36817,
           0.0027277434633473504
          ],
          [
           8307,
           0.004121578375481893
          ],
          [
           329107,
           0.005985319601812122
          ],
          [
           33746,
           0.015629899396359632
          ],
          [
           7489,
           0.0014456948446857733
          ],
          [
           502076,
           0.0721525124961594
          ],
          [
           64685,
           0.0022754508838377487
          ],
          [
           86202,
           0.004387388007775574
          ],
          [
           31137,
           0.0014929714259739916
          ],
          [
           59293,
           0.012417096150664593
          ],
          [
           227442,
           0.17860609315956616
          ],
          [
           1184732,
           0.031724160054788904
          ],
          [
           227083,
           0.007060370061354577
          ],
          [
           168851,
           0.06526035965839873
          ],
          [
           9031,
           0.000359359686377001
          ],
          [
           256573,
           0.0012136809156510662
          ],
          [
           130531,
           0.009831720171789031
          ],
          [
           4,
           0.0006562756357670221
          ],
          [
           6010,
           0.02690675310255905
          ],
          [
           86201,
           0.005012762041712675
          ],
          [
           44521,
           0.45011626731371956
          ],
          [
           7688,
           0.000944315943941927
          ],
          [
           26675,
           0.001630551055961368
          ],
          [
           3984646,
           0.06636431606970561
          ],
          [
           17697,
           0.0015549085141455205
          ],
          [
           62489,
           0.0013914474070222036
          ],
          [
           35354,
           0.0005748763895434222
          ],
          [
           37242,
           0.004392655930321404
          ],
          [
           1044426,
           0.0875039084217818
          ],
          [
           166809,
           0.003539823722470045
          ],
          [
           324025,
           0.017125462398055204
          ],
          [
           254753,
           0.016879811393602683
          ]
         ],
         "geo": "geo",
         "hovertemplate": "<b>%{hovertext}</b><br><br>continent=Africa<br>cases to population=%{customdata[1]}<br>latitude=%{lat}<br>longitude=%{lon}<br>total_cases=%{customdata[0]}<extra></extra>",
         "hovertext": [
          "Algeria",
          "Angola",
          "Benin",
          "Botswana",
          "Burkina Faso",
          "Burundi",
          "Cameroon",
          "Cape Verde",
          "Central African Republic",
          "Chad",
          "Comoros",
          "Congo",
          "Cote d'Ivoire",
          "Democratic Republic of Congo",
          "Djibouti",
          "Egypt",
          "Equatorial Guinea",
          "Eritrea",
          "Eswatini",
          "Ethiopia",
          "Gabon",
          "Gambia",
          "Ghana",
          "Guinea",
          "Guinea-Bissau",
          "Kenya",
          "Lesotho",
          "Liberia",
          "Libya",
          "Madagascar",
          "Malawi",
          "Mali",
          "Mauritania",
          "Mauritius",
          "Morocco",
          "Mozambique",
          "Namibia",
          "Niger",
          "Nigeria",
          "Rwanda",
          "Saint Helena",
          "Sao Tome and Principe",
          "Senegal",
          "Seychelles",
          "Sierra Leone",
          "Somalia",
          "South Africa",
          "South Sudan",
          "Sudan",
          "Tanzania",
          "Togo",
          "Tunisia",
          "Uganda",
          "Zambia",
          "Zimbabwe"
         ],
         "lat": [
          28,
          -12.5,
          9.5,
          -22,
          13,
          -3.5,
          6,
          16,
          7,
          15,
          -12.1667,
          -1,
          8,
          0,
          11.5,
          27,
          2,
          15,
          -26.5,
          8,
          -1,
          13.4667,
          8,
          11,
          12,
          1,
          -29.5,
          6.5,
          25,
          -20,
          -13.5,
          17,
          20,
          -20.2833,
          32,
          -18.25,
          -22,
          16,
          10,
          -2,
          -15.9333,
          1,
          14,
          -4.5833,
          8.5,
          10,
          -29,
          8,
          15,
          -6,
          8,
          34,
          1,
          -15,
          -20
         ],
         "legendgroup": "Africa",
         "lon": [
          3,
          18.5,
          2.25,
          24,
          -2,
          30,
          12,
          -24,
          21,
          19,
          44.25,
          15,
          -5,
          25,
          43,
          30,
          10,
          39,
          31.5,
          38,
          11.75,
          -16.5667,
          -2,
          -10,
          -15,
          38,
          28.5,
          -9.5,
          17,
          47,
          34,
          -4,
          -12,
          57.55,
          -5,
          35,
          17,
          8,
          8,
          30,
          -5.7,
          7,
          -14,
          55.6667,
          -11.5,
          49,
          24,
          30,
          30,
          35,
          1.1667,
          9,
          32,
          30,
          30
         ],
         "marker": {
          "color": "rgb(141,160,203)",
          "size": [
           0.005961253098788779,
           0.0029398875351049434,
           0.0021782935083849682,
           0.13108491431813252,
           0.0009789228750281956,
           0.00345952801815424,
           0.004405886190780856,
           0.10327264055411896,
           0.002977446891627966,
           0.0004386642967759061,
           0.00915183194215583,
           0.004265145393764947,
           0.003055375676217043,
           0.0009735219817414075,
           0.01565560463661336,
           0.004945839961540913,
           0.011001516665735562,
           0.0027147308509710777,
           0.06226964377256649,
           0.004103787645865079,
           0.020950233650703937,
           0.004826016903524295,
           0.005147212314282862,
           0.0027277434633473504,
           0.004121578375481893,
           0.005985319601812122,
           0.015629899396359632,
           0.0014456948446857733,
           0.0721525124961594,
           0.0022754508838377487,
           0.004387388007775574,
           0.0014929714259739916,
           0.012417096150664593,
           0.17860609315956616,
           0.031724160054788904,
           0.007060370061354577,
           0.06526035965839873,
           0.000359359686377001,
           0.0012136809156510662,
           0.009831720171789031,
           0.0006562756357670221,
           0.02690675310255905,
           0.005012762041712675,
           0.45011626731371956,
           0.000944315943941927,
           0.001630551055961368,
           0.06636431606970561,
           0.0015549085141455205,
           0.0013914474070222036,
           0.0005748763895434222,
           0.004392655930321404,
           0.0875039084217818,
           0.003539823722470045,
           0.017125462398055204,
           0.016879811393602683
          ],
          "sizemode": "area",
          "sizeref": 0.0017663547591380752,
          "symbol": "circle"
         },
         "mode": "markers",
         "name": "Africa",
         "showlegend": true,
         "type": "scattergeo"
        },
        {
         "customdata": [
          [
           3374,
           0.22307438016528924
          ],
          [
           8581,
           0.08691556599951382
          ],
          [
           39980,
           0.3729651569569476
          ],
          [
           35603,
           0.08969953188851994
          ],
          [
           82826,
           0.2878821582993869
          ],
          [
           61918,
           0.15291604410802268
          ],
          [
           15762,
           0.25384912710172003
          ],
          [
           6941,
           0.22814975511948196
          ],
          [
           3925888,
           0.10312853242046655
          ],
          [
           26797,
           0.4029745255496406
          ],
          [
           904934,
           0.17608964141837027
          ],
          [
           1105729,
           0.09770083458375695
          ],
          [
           14781,
           0.20480241644959263
          ],
          [
           595927,
           0.05440410439783255
          ],
          [
           164134,
           0.025179719260566082
          ],
          [
           11971,
           0.21050502919040584
          ],
          [
           18115,
           0.16028845728443128
          ],
          [
           880169,
           0.04822878718903611
          ],
          [
           31054,
           0.0026905954703486485
          ],
          [
           426095,
           0.04234276597998568
          ],
          [
           141306,
           0.04752238300001816
          ],
          [
           5852596,
           0.04492934328925148
          ],
          [
           1015,
           0.20377434250150572
          ],
          [
           14619,
           0.002181165821867131
          ],
          [
           902386,
           0.20594976746988475
          ],
          [
           5899,
           0.11016695924999066
          ],
          [
           26722,
           0.14491244624486851
          ],
          [
           2767,
           0.47946629700225263
          ],
          [
           8956,
           0.08048962424394934
          ],
          [
           165706,
           0.11807686333080133
          ],
          [
           6189,
           0.1577780043848468
          ],
          [
           86230982,
           0.25901795603283495
          ]
         ],
         "geo": "geo",
         "hovertemplate": "<b>%{hovertext}</b><br><br>continent=North America<br>cases to population=%{customdata[1]}<br>latitude=%{lat}<br>longitude=%{lon}<br>total_cases=%{customdata[0]}<extra></extra>",
         "hovertext": [
          "Anguilla",
          "Antigua and Barbuda",
          "Aruba",
          "Bahamas",
          "Barbados",
          "Belize",
          "Bermuda",
          "British Virgin Islands",
          "Canada",
          "Cayman Islands",
          "Costa Rica",
          "Cuba",
          "Dominica",
          "Dominican Republic",
          "El Salvador",
          "Greenland",
          "Grenada",
          "Guatemala",
          "Haiti",
          "Honduras",
          "Jamaica",
          "Mexico",
          "Montserrat",
          "Nicaragua",
          "Panama",
          "Saint Kitts and Nevis",
          "Saint Lucia",
          "Saint Pierre and Miquelon",
          "Saint Vincent and the Grenadines",
          "Trinidad and Tobago",
          "Turks and Caicos Islands",
          "United States"
         ],
         "lat": [
          18.25,
          17.05,
          12.5,
          24.25,
          13.1667,
          17.25,
          32.3333,
          18.5,
          60,
          19.5,
          10,
          21.5,
          15.4167,
          19,
          13.8333,
          72,
          12.1167,
          15.5,
          19,
          15,
          18.25,
          23,
          16.75,
          13,
          9,
          17.3333,
          13.8833,
          46.8333,
          13.25,
          11,
          21.75,
          38
         ],
         "legendgroup": "North America",
         "lon": [
          -63.1667,
          -61.8,
          -69.9667,
          -76,
          -59.5333,
          -88.75,
          -64.75,
          -64.5,
          -95,
          -80.5,
          -84,
          -80,
          -61.3333,
          -70.6667,
          -88.9167,
          -40,
          -61.6667,
          -90.25,
          -72.4167,
          -86.5,
          -77.5,
          -102,
          -62.2,
          -85,
          -80,
          -62.75,
          -61.1333,
          -56.3333,
          -61.2,
          -61,
          -71.5833,
          -97
         ],
         "marker": {
          "color": "rgb(231,138,195)",
          "size": [
           0.22307438016528924,
           0.08691556599951382,
           0.3729651569569476,
           0.08969953188851994,
           0.2878821582993869,
           0.15291604410802268,
           0.25384912710172003,
           0.22814975511948196,
           0.10312853242046655,
           0.4029745255496406,
           0.17608964141837027,
           0.09770083458375695,
           0.20480241644959263,
           0.05440410439783255,
           0.025179719260566082,
           0.21050502919040584,
           0.16028845728443128,
           0.04822878718903611,
           0.0026905954703486485,
           0.04234276597998568,
           0.04752238300001816,
           0.04492934328925148,
           0.20377434250150572,
           0.002181165821867131,
           0.20594976746988475,
           0.11016695924999066,
           0.14491244624486851,
           0.47946629700225263,
           0.08048962424394934,
           0.11807686333080133,
           0.1577780043848468,
           0.25901795603283495
          ],
          "sizemode": "area",
          "sizeref": 0.0017663547591380752,
          "symbol": "circle"
         },
         "mode": "markers",
         "name": "North America",
         "showlegend": true,
         "type": "scattergeo"
        },
        {
         "customdata": [
          [
           9313453,
           0.20421631246518673
          ],
          [
           914827,
           0.07731191988192955
          ],
          [
           31611769,
           0.147723074372172
          ],
          [
           3882425,
           0.2020795256720647
          ],
          [
           6131657,
           0.1196051187378356
          ],
          [
           896483,
           0.050115118818966894
          ],
          [
           1756,
           0.4977324263038549
          ],
          [
           66456,
           0.0840865006851577
          ],
          [
           653428,
           0.09050699335327062
          ],
          [
           3597866,
           0.10785159152221345
          ],
          [
           80766,
           0.1364756217493131
          ],
          [
           943877,
           0.27082807292192707
          ],
          [
           524823,
           0.018283364188061382
          ]
         ],
         "geo": "geo",
         "hovertemplate": "<b>%{hovertext}</b><br><br>continent=South America<br>cases to population=%{customdata[1]}<br>latitude=%{lat}<br>longitude=%{lon}<br>total_cases=%{customdata[0]}<extra></extra>",
         "hovertext": [
          "Argentina",
          "Bolivia",
          "Brazil",
          "Chile",
          "Colombia",
          "Ecuador",
          "Falkland Islands",
          "Guyana",
          "Paraguay",
          "Peru",
          "Suriname",
          "Uruguay",
          "Venezuela"
         ],
         "lat": [
          -34,
          -17,
          -10,
          -30,
          4,
          -2,
          -51.75,
          5,
          -23,
          -10,
          4,
          -33,
          8
         ],
         "legendgroup": "South America",
         "lon": [
          -64,
          -65,
          -55,
          -71,
          -72,
          -77.5,
          -59,
          -59,
          -58,
          -76,
          -56,
          -56,
          -66
         ],
         "marker": {
          "color": "rgb(166,216,84)",
          "size": [
           0.20421631246518673,
           0.07731191988192955,
           0.147723074372172,
           0.2020795256720647,
           0.1196051187378356,
           0.050115118818966894,
           0.4977324263038549,
           0.0840865006851577,
           0.09050699335327062,
           0.10785159152221345,
           0.1364756217493131,
           0.27082807292192707,
           0.018283364188061382
          ],
          "sizemode": "area",
          "sizeref": 0.0017663547591380752,
          "symbol": "circle"
         },
         "mode": "markers",
         "name": "South America",
         "showlegend": true,
         "type": "scattergeo"
        },
        {
         "customdata": [
          [
           7801241,
           0.3025118409698507
          ],
          [
           5727,
           0.32591623036649214
          ],
          [
           65268,
           0.07228715504170455
          ],
          [
           73142,
           0.2588785774455464
          ],
          [
           3215,
           0.026485319800968795
          ],
          [
           18,
           0.0003019222382501929
          ],
          [
           38,
           0.0003268676616059524
          ],
          [
           63002,
           0.21859224126265972
          ],
          [
           1273389,
           0.2484031367653083
          ],
          [
           5181,
           0.28507758336084515
          ],
          [
           44681,
           0.0048997670250208215
          ],
          [
           14497,
           0.07243284834918859
          ],
          [
           21544,
           0.030602490074503372
          ],
          [
           12079,
           0.11314268586255023
          ],
          [
           10857,
           0.03452541467385774
          ],
          [
           454,
           0.04092302145303768
          ]
         ],
         "geo": "geo",
         "hovertemplate": "<b>%{hovertext}</b><br><br>continent=Oceania<br>cases to population=%{customdata[1]}<br>latitude=%{lat}<br>longitude=%{lon}<br>total_cases=%{customdata[0]}<extra></extra>",
         "hovertext": [
          "Australia",
          "Cook Islands",
          "Fiji",
          "French Polynesia",
          "Kiribati",
          "Marshall Islands",
          "Micronesia (country)",
          "New Caledonia",
          "New Zealand",
          "Palau",
          "Papua New Guinea",
          "Samoa",
          "Solomon Islands",
          "Tonga",
          "Vanuatu",
          "Wallis and Futuna"
         ],
         "lat": [
          -27,
          -21.2333,
          -18,
          -15,
          1.4167,
          9,
          6.9167,
          -21.5,
          -41,
          7.5,
          -6,
          -13.5833,
          -8,
          -20,
          -16,
          -13.3
         ],
         "legendgroup": "Oceania",
         "lon": [
          133,
          -159.7667,
          175,
          -140,
          173,
          168,
          158.25,
          165.5,
          174,
          134.5,
          147,
          -172.3333,
          159,
          -175,
          167,
          -176.2
         ],
         "marker": {
          "color": "rgb(255,217,47)",
          "size": [
           0.3025118409698507,
           0.32591623036649214,
           0.07228715504170455,
           0.2588785774455464,
           0.026485319800968795,
           0.0003019222382501929,
           0.0003268676616059524,
           0.21859224126265972,
           0.2484031367653083,
           0.28507758336084515,
           0.0048997670250208215,
           0.07243284834918859,
           0.030602490074503372,
           0.11314268586255023,
           0.03452541467385774,
           0.04092302145303768
          ],
          "sizemode": "area",
          "sizeref": 0.0017663547591380752,
          "symbol": "circle"
         },
         "mode": "markers",
         "name": "Oceania",
         "showlegend": true,
         "type": "scattergeo"
        }
       ],
       "layout": {
        "coloraxis": {
         "colorbar": {
          "title": {
           "text": "Continent"
          }
         }
        },
        "geo": {
         "center": {},
         "domain": {
          "x": [
           0,
           1
          ],
          "y": [
           0,
           1
          ]
         },
         "landcolor": "#edeef0",
         "lataxis": {
          "showgrid": true
         },
         "lonaxis": {
          "showgrid": true
         },
         "oceancolor": "#e0ecff",
         "projection": {
          "type": "natural earth"
         },
         "scope": "world",
         "showland": true,
         "showocean": true
        },
        "legend": {
         "itemsizing": "constant",
         "title": {
          "text": "continent"
         },
         "tracegroupgap": 0
        },
        "margin": {
         "b": 0,
         "l": 0,
         "r": 0,
         "t": 40
        },
        "showlegend": true,
        "template": {
         "data": {
          "bar": [
           {
            "error_x": {
             "color": "#2a3f5f"
            },
            "error_y": {
             "color": "#2a3f5f"
            },
            "marker": {
             "line": {
              "color": "#E5ECF6",
              "width": 0.5
             },
             "pattern": {
              "fillmode": "overlay",
              "size": 10,
              "solidity": 0.2
             }
            },
            "type": "bar"
           }
          ],
          "barpolar": [
           {
            "marker": {
             "line": {
              "color": "#E5ECF6",
              "width": 0.5
             },
             "pattern": {
              "fillmode": "overlay",
              "size": 10,
              "solidity": 0.2
             }
            },
            "type": "barpolar"
           }
          ],
          "carpet": [
           {
            "aaxis": {
             "endlinecolor": "#2a3f5f",
             "gridcolor": "white",
             "linecolor": "white",
             "minorgridcolor": "white",
             "startlinecolor": "#2a3f5f"
            },
            "baxis": {
             "endlinecolor": "#2a3f5f",
             "gridcolor": "white",
             "linecolor": "white",
             "minorgridcolor": "white",
             "startlinecolor": "#2a3f5f"
            },
            "type": "carpet"
           }
          ],
          "choropleth": [
           {
            "colorbar": {
             "outlinewidth": 0,
             "ticks": ""
            },
            "type": "choropleth"
           }
          ],
          "contour": [
           {
            "colorbar": {
             "outlinewidth": 0,
             "ticks": ""
            },
            "colorscale": [
             [
              0,
              "#0d0887"
             ],
             [
              0.1111111111111111,
              "#46039f"
             ],
             [
              0.2222222222222222,
              "#7201a8"
             ],
             [
              0.3333333333333333,
              "#9c179e"
             ],
             [
              0.4444444444444444,
              "#bd3786"
             ],
             [
              0.5555555555555556,
              "#d8576b"
             ],
             [
              0.6666666666666666,
              "#ed7953"
             ],
             [
              0.7777777777777778,
              "#fb9f3a"
             ],
             [
              0.8888888888888888,
              "#fdca26"
             ],
             [
              1,
              "#f0f921"
             ]
            ],
            "type": "contour"
           }
          ],
          "contourcarpet": [
           {
            "colorbar": {
             "outlinewidth": 0,
             "ticks": ""
            },
            "type": "contourcarpet"
           }
          ],
          "heatmap": [
           {
            "colorbar": {
             "outlinewidth": 0,
             "ticks": ""
            },
            "colorscale": [
             [
              0,
              "#0d0887"
             ],
             [
              0.1111111111111111,
              "#46039f"
             ],
             [
              0.2222222222222222,
              "#7201a8"
             ],
             [
              0.3333333333333333,
              "#9c179e"
             ],
             [
              0.4444444444444444,
              "#bd3786"
             ],
             [
              0.5555555555555556,
              "#d8576b"
             ],
             [
              0.6666666666666666,
              "#ed7953"
             ],
             [
              0.7777777777777778,
              "#fb9f3a"
             ],
             [
              0.8888888888888888,
              "#fdca26"
             ],
             [
              1,
              "#f0f921"
             ]
            ],
            "type": "heatmap"
           }
          ],
          "heatmapgl": [
           {
            "colorbar": {
             "outlinewidth": 0,
             "ticks": ""
            },
            "colorscale": [
             [
              0,
              "#0d0887"
             ],
             [
              0.1111111111111111,
              "#46039f"
             ],
             [
              0.2222222222222222,
              "#7201a8"
             ],
             [
              0.3333333333333333,
              "#9c179e"
             ],
             [
              0.4444444444444444,
              "#bd3786"
             ],
             [
              0.5555555555555556,
              "#d8576b"
             ],
             [
              0.6666666666666666,
              "#ed7953"
             ],
             [
              0.7777777777777778,
              "#fb9f3a"
             ],
             [
              0.8888888888888888,
              "#fdca26"
             ],
             [
              1,
              "#f0f921"
             ]
            ],
            "type": "heatmapgl"
           }
          ],
          "histogram": [
           {
            "marker": {
             "pattern": {
              "fillmode": "overlay",
              "size": 10,
              "solidity": 0.2
             }
            },
            "type": "histogram"
           }
          ],
          "histogram2d": [
           {
            "colorbar": {
             "outlinewidth": 0,
             "ticks": ""
            },
            "colorscale": [
             [
              0,
              "#0d0887"
             ],
             [
              0.1111111111111111,
              "#46039f"
             ],
             [
              0.2222222222222222,
              "#7201a8"
             ],
             [
              0.3333333333333333,
              "#9c179e"
             ],
             [
              0.4444444444444444,
              "#bd3786"
             ],
             [
              0.5555555555555556,
              "#d8576b"
             ],
             [
              0.6666666666666666,
              "#ed7953"
             ],
             [
              0.7777777777777778,
              "#fb9f3a"
             ],
             [
              0.8888888888888888,
              "#fdca26"
             ],
             [
              1,
              "#f0f921"
             ]
            ],
            "type": "histogram2d"
           }
          ],
          "histogram2dcontour": [
           {
            "colorbar": {
             "outlinewidth": 0,
             "ticks": ""
            },
            "colorscale": [
             [
              0,
              "#0d0887"
             ],
             [
              0.1111111111111111,
              "#46039f"
             ],
             [
              0.2222222222222222,
              "#7201a8"
             ],
             [
              0.3333333333333333,
              "#9c179e"
             ],
             [
              0.4444444444444444,
              "#bd3786"
             ],
             [
              0.5555555555555556,
              "#d8576b"
             ],
             [
              0.6666666666666666,
              "#ed7953"
             ],
             [
              0.7777777777777778,
              "#fb9f3a"
             ],
             [
              0.8888888888888888,
              "#fdca26"
             ],
             [
              1,
              "#f0f921"
             ]
            ],
            "type": "histogram2dcontour"
           }
          ],
          "mesh3d": [
           {
            "colorbar": {
             "outlinewidth": 0,
             "ticks": ""
            },
            "type": "mesh3d"
           }
          ],
          "parcoords": [
           {
            "line": {
             "colorbar": {
              "outlinewidth": 0,
              "ticks": ""
             }
            },
            "type": "parcoords"
           }
          ],
          "pie": [
           {
            "automargin": true,
            "type": "pie"
           }
          ],
          "scatter": [
           {
            "fillpattern": {
             "fillmode": "overlay",
             "size": 10,
             "solidity": 0.2
            },
            "type": "scatter"
           }
          ],
          "scatter3d": [
           {
            "line": {
             "colorbar": {
              "outlinewidth": 0,
              "ticks": ""
             }
            },
            "marker": {
             "colorbar": {
              "outlinewidth": 0,
              "ticks": ""
             }
            },
            "type": "scatter3d"
           }
          ],
          "scattercarpet": [
           {
            "marker": {
             "colorbar": {
              "outlinewidth": 0,
              "ticks": ""
             }
            },
            "type": "scattercarpet"
           }
          ],
          "scattergeo": [
           {
            "marker": {
             "colorbar": {
              "outlinewidth": 0,
              "ticks": ""
             }
            },
            "type": "scattergeo"
           }
          ],
          "scattergl": [
           {
            "marker": {
             "colorbar": {
              "outlinewidth": 0,
              "ticks": ""
             }
            },
            "type": "scattergl"
           }
          ],
          "scattermapbox": [
           {
            "marker": {
             "colorbar": {
              "outlinewidth": 0,
              "ticks": ""
             }
            },
            "type": "scattermapbox"
           }
          ],
          "scatterpolar": [
           {
            "marker": {
             "colorbar": {
              "outlinewidth": 0,
              "ticks": ""
             }
            },
            "type": "scatterpolar"
           }
          ],
          "scatterpolargl": [
           {
            "marker": {
             "colorbar": {
              "outlinewidth": 0,
              "ticks": ""
             }
            },
            "type": "scatterpolargl"
           }
          ],
          "scatterternary": [
           {
            "marker": {
             "colorbar": {
              "outlinewidth": 0,
              "ticks": ""
             }
            },
            "type": "scatterternary"
           }
          ],
          "surface": [
           {
            "colorbar": {
             "outlinewidth": 0,
             "ticks": ""
            },
            "colorscale": [
             [
              0,
              "#0d0887"
             ],
             [
              0.1111111111111111,
              "#46039f"
             ],
             [
              0.2222222222222222,
              "#7201a8"
             ],
             [
              0.3333333333333333,
              "#9c179e"
             ],
             [
              0.4444444444444444,
              "#bd3786"
             ],
             [
              0.5555555555555556,
              "#d8576b"
             ],
             [
              0.6666666666666666,
              "#ed7953"
             ],
             [
              0.7777777777777778,
              "#fb9f3a"
             ],
             [
              0.8888888888888888,
              "#fdca26"
             ],
             [
              1,
              "#f0f921"
             ]
            ],
            "type": "surface"
           }
          ],
          "table": [
           {
            "cells": {
             "fill": {
              "color": "#EBF0F8"
             },
             "line": {
              "color": "white"
             }
            },
            "header": {
             "fill": {
              "color": "#C8D4E3"
             },
             "line": {
              "color": "white"
             }
            },
            "type": "table"
           }
          ]
         },
         "layout": {
          "annotationdefaults": {
           "arrowcolor": "#2a3f5f",
           "arrowhead": 0,
           "arrowwidth": 1
          },
          "autotypenumbers": "strict",
          "coloraxis": {
           "colorbar": {
            "outlinewidth": 0,
            "ticks": ""
           }
          },
          "colorscale": {
           "diverging": [
            [
             0,
             "#8e0152"
            ],
            [
             0.1,
             "#c51b7d"
            ],
            [
             0.2,
             "#de77ae"
            ],
            [
             0.3,
             "#f1b6da"
            ],
            [
             0.4,
             "#fde0ef"
            ],
            [
             0.5,
             "#f7f7f7"
            ],
            [
             0.6,
             "#e6f5d0"
            ],
            [
             0.7,
             "#b8e186"
            ],
            [
             0.8,
             "#7fbc41"
            ],
            [
             0.9,
             "#4d9221"
            ],
            [
             1,
             "#276419"
            ]
           ],
           "sequential": [
            [
             0,
             "#0d0887"
            ],
            [
             0.1111111111111111,
             "#46039f"
            ],
            [
             0.2222222222222222,
             "#7201a8"
            ],
            [
             0.3333333333333333,
             "#9c179e"
            ],
            [
             0.4444444444444444,
             "#bd3786"
            ],
            [
             0.5555555555555556,
             "#d8576b"
            ],
            [
             0.6666666666666666,
             "#ed7953"
            ],
            [
             0.7777777777777778,
             "#fb9f3a"
            ],
            [
             0.8888888888888888,
             "#fdca26"
            ],
            [
             1,
             "#f0f921"
            ]
           ],
           "sequentialminus": [
            [
             0,
             "#0d0887"
            ],
            [
             0.1111111111111111,
             "#46039f"
            ],
            [
             0.2222222222222222,
             "#7201a8"
            ],
            [
             0.3333333333333333,
             "#9c179e"
            ],
            [
             0.4444444444444444,
             "#bd3786"
            ],
            [
             0.5555555555555556,
             "#d8576b"
            ],
            [
             0.6666666666666666,
             "#ed7953"
            ],
            [
             0.7777777777777778,
             "#fb9f3a"
            ],
            [
             0.8888888888888888,
             "#fdca26"
            ],
            [
             1,
             "#f0f921"
            ]
           ]
          },
          "colorway": [
           "#636efa",
           "#EF553B",
           "#00cc96",
           "#ab63fa",
           "#FFA15A",
           "#19d3f3",
           "#FF6692",
           "#B6E880",
           "#FF97FF",
           "#FECB52"
          ],
          "font": {
           "color": "#2a3f5f"
          },
          "geo": {
           "bgcolor": "white",
           "lakecolor": "white",
           "landcolor": "#E5ECF6",
           "showlakes": true,
           "showland": true,
           "subunitcolor": "white"
          },
          "hoverlabel": {
           "align": "left"
          },
          "hovermode": "closest",
          "mapbox": {
           "style": "light"
          },
          "paper_bgcolor": "white",
          "plot_bgcolor": "#E5ECF6",
          "polar": {
           "angularaxis": {
            "gridcolor": "white",
            "linecolor": "white",
            "ticks": ""
           },
           "bgcolor": "#E5ECF6",
           "radialaxis": {
            "gridcolor": "white",
            "linecolor": "white",
            "ticks": ""
           }
          },
          "scene": {
           "xaxis": {
            "backgroundcolor": "#E5ECF6",
            "gridcolor": "white",
            "gridwidth": 2,
            "linecolor": "white",
            "showbackground": true,
            "ticks": "",
            "zerolinecolor": "white"
           },
           "yaxis": {
            "backgroundcolor": "#E5ECF6",
            "gridcolor": "white",
            "gridwidth": 2,
            "linecolor": "white",
            "showbackground": true,
            "ticks": "",
            "zerolinecolor": "white"
           },
           "zaxis": {
            "backgroundcolor": "#E5ECF6",
            "gridcolor": "white",
            "gridwidth": 2,
            "linecolor": "white",
            "showbackground": true,
            "ticks": "",
            "zerolinecolor": "white"
           }
          },
          "shapedefaults": {
           "line": {
            "color": "#2a3f5f"
           }
          },
          "ternary": {
           "aaxis": {
            "gridcolor": "white",
            "linecolor": "white",
            "ticks": ""
           },
           "baxis": {
            "gridcolor": "white",
            "linecolor": "white",
            "ticks": ""
           },
           "bgcolor": "#E5ECF6",
           "caxis": {
            "gridcolor": "white",
            "linecolor": "white",
            "ticks": ""
           }
          },
          "title": {
           "x": 0.05
          },
          "xaxis": {
           "automargin": true,
           "gridcolor": "white",
           "linecolor": "white",
           "ticks": "",
           "title": {
            "standoff": 15
           },
           "zerolinecolor": "white",
           "zerolinewidth": 2
          },
          "yaxis": {
           "automargin": true,
           "gridcolor": "white",
           "linecolor": "white",
           "ticks": "",
           "title": {
            "standoff": 15
           },
           "zerolinecolor": "white",
           "zerolinewidth": 2
          }
         }
        },
        "title": {
         "text": "COVID-19 Map: Cases by Country",
         "x": 0.5,
         "xanchor": "center",
         "y": 0.95
        }
       }
      }
     },
     "metadata": {},
     "output_type": "display_data"
    }
   ],
   "source": [
    "fig_map = px.scatter_geo(\n",
    "    data_frame=df_map,\n",
    "    lat='latitude',\n",
    "    lon='longitude',\n",
    "    color=\"continent\",\n",
    "    hover_name=\"location\",\n",
    "    hover_data=[\"total_cases\", \"cases to population\"],\n",
    "    size=\"cases to population\",\n",
    "    color_discrete_sequence=px.colors.qualitative.Set2,\n",
    "    projection=\"natural earth\",\n",
    "    title=\"COVID-19 Cases Distribution by Country\",\n",
    ")\n",
    "\n",
    "fig_map.update_layout(\n",
    "    title=dict(\n",
    "        text=\"COVID-19 Map: Cases by Country\",\n",
    "        x=0.5,\n",
    "        xanchor=\"center\",\n",
    "        y=0.95\n",
    "    ),\n",
    "    geo=dict(\n",
    "        scope=\"world\",\n",
    "        showland=True,\n",
    "        landcolor=\"#edeef0\",\n",
    "        showocean=True,\n",
    "        oceancolor=\"#e0ecff\",\n",
    "        projection_type=\"natural earth\",\n",
    "        lataxis_showgrid=True,\n",
    "        lonaxis_showgrid=True,\n",
    "    ),\n",
    "    margin={\"r\":0,\"t\":40,\"l\":0,\"b\":0},\n",
    "    coloraxis_colorbar_title=\"Continent\",\n",
    "    showlegend=True,\n",
    ")\n",
    "\n",
    "fig_map.show()"
   ]
  },
  {
   "cell_type": "markdown",
   "metadata": {},
   "source": [
    "**6) dashboard**"
   ]
  },
  {
   "cell_type": "code",
   "execution_count": 82,
   "metadata": {},
   "outputs": [],
   "source": [
    "countries = df['location'].unique().tolist()\n",
    "countries_dict = [{'label': location, 'value': location} for location in countries]"
   ]
  },
  {
   "cell_type": "code",
   "execution_count": 83,
   "metadata": {},
   "outputs": [
    {
     "data": {
      "text/html": [
       "\n",
       "        <iframe\n",
       "            width=\"100%\"\n",
       "            height=\"650\"\n",
       "            src=\"http://127.0.0.1:54112/\"\n",
       "            frameborder=\"0\"\n",
       "            allowfullscreen\n",
       "            \n",
       "        ></iframe>\n",
       "        "
      ],
      "text/plain": [
       "<IPython.lib.display.IFrame at 0x1f5c8738f20>"
      ]
     },
     "metadata": {},
     "output_type": "display_data"
    }
   ],
   "source": [
    "app = dash.Dash()\n",
    "\n",
    "app.layout = html.Div(children=[\n",
    "    html.H1(\"COVID-19 Dashboard\"),\n",
    "    html.Label(\"Select a country:\"),\n",
    "    dcc.Dropdown(\n",
    "        id=\"dropdown\",\n",
    "        options=[{'label': location, 'value': location} for location in countries],\n",
    "        value=\"United States\"\n",
    "    ),\n",
    "\n",
    "    html.Div(children=[\n",
    "            dcc.Graph(id=\"fig_3\"),  # Graph for cumulative positive cases\n",
    "            dcc.Graph(id=\"fig_4\")   # Graph for cumulative deaths\n",
    "        ],\n",
    "        style={'display': 'flex', 'justify-content': 'space-between'}\n",
    "    )\n",
    "])\n",
    "\n",
    "# Callback for updating the positive cases graph\n",
    "@app.callback(\n",
    "    Output(\"fig_3\", \"figure\"),\n",
    "    Input(\"dropdown\", \"value\")\n",
    ")\n",
    "def update_cases_graph(selected_country):\n",
    "    filtered_df = df[df[\"location\"] == selected_country]\n",
    "    fig_3 = px.line(\n",
    "        filtered_df,\n",
    "        x=\"date\",\n",
    "        y=\"total_cases\",\n",
    "        color=\"location\",\n",
    "        title=f\"Cumulative number of positive cases in {selected_country}\"\n",
    "    )\n",
    "    fig_3.update_layout(\n",
    "        title=dict(\n",
    "            text=f\"Cumulative number of positive cases in {selected_country}\",\n",
    "            x=0.5,\n",
    "            xanchor=\"center\"\n",
    "        ),\n",
    "        yaxis_title=\"Positive cases\",\n",
    "        xaxis_title=\"Date\"\n",
    "    )\n",
    "    return fig_3\n",
    "\n",
    "# Callback for updating the deaths graph\n",
    "@app.callback(\n",
    "    Output(\"fig_4\", \"figure\"),\n",
    "    Input(\"dropdown\", \"value\")\n",
    ")\n",
    "def update_deaths_graph(selected_country):\n",
    "    filtered_df = df[df[\"location\"] == selected_country]\n",
    "    fig_4 = px.line(\n",
    "        filtered_df,\n",
    "        x=\"date\",\n",
    "        y=\"total_deaths\",\n",
    "        color=\"location\",\n",
    "        title=f\"Cumulative number of deaths in {selected_country}\"\n",
    "    )\n",
    "    fig_4.update_layout(\n",
    "        title=dict(\n",
    "            text=f\"Cumulative number of deaths in {selected_country}\",\n",
    "            x=0.5,\n",
    "            xanchor=\"center\"\n",
    "        ),\n",
    "        yaxis_title=\"Deaths\",\n",
    "        xaxis_title=\"Date\"\n",
    "    )\n",
    "    return fig_4\n",
    "\n",
    "if __name__ == \"__main__\":\n",
    "    app.run_server(debug=True)"
   ]
  }
 ],
 "metadata": {
  "kernelspec": {
   "display_name": "base",
   "language": "python",
   "name": "python3"
  },
  "language_info": {
   "codemirror_mode": {
    "name": "ipython",
    "version": 3
   },
   "file_extension": ".py",
   "mimetype": "text/x-python",
   "name": "python",
   "nbconvert_exporter": "python",
   "pygments_lexer": "ipython3",
   "version": "3.12.7"
  }
 },
 "nbformat": 4,
 "nbformat_minor": 2
}
