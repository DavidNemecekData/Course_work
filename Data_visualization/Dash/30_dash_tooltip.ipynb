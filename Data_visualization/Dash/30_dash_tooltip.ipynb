{
 "cells": [
  {
   "cell_type": "code",
   "execution_count": 1,
   "metadata": {},
   "outputs": [],
   "source": [
    "import dash\n",
    "import pandas as pd\n",
    "import numpy as np\n",
    "import plotly.express as px\n",
    "from dash import dcc, html, no_update\n",
    "from dash.dependencies import Input, Output"
   ]
  },
  {
   "cell_type": "code",
   "execution_count": 2,
   "metadata": {},
   "outputs": [],
   "source": [
    "text = \"Sed ut perspiciatis, unde omnis iste natus error sit voluptatem accusantium doloremque laudantium,totam rem aperiam eaque ipsa, quae ab illo inventore veritatis et quasi architecto beatae vitae dicta sunt, explicabo. Nemo enim ipsam voluptatem, quia voluptas sit, aspernatur aut odit aut fugit, sed quia consequuntur magni dolores eos, qui ratione voluptatem sequi nesciunt, neque porro quisquam est, qui dolorem ipsum, quia dolor sit, amet, consectetur, adipisci velit, sed quia non numquam eius modi tempora incidunt, ut labore et dolore magnam aliquam quaerat voluptatem. Ut enim ad minima veniam, quis nostrum exercitationem ullam corporis suscipit laboriosam, nisi ut aliquid ex ea commodi consequatur? Quis autem vel eum iure reprehenderit, qui in ea voluptate velit esse, quam nihil molestiae consequatur, vel illum, qui dolorem eum fugiat, quo voluptas nulla pariatur? At vero eos et accusamus et iusto odio dignissimos ducimus, qui blanditiis praesentium voluptatum deleniti atque corrupti, quos dolores et quas molestias excepturi sint, obcaecati cupiditate non provident, similique sunt in culpa, qui officia deserunt mollitia animi, id est laborum et dolorum fuga. Et harum quidem rerum facilis est et expedita distinctio. Nam libero tempore, cum soluta nobis est eligendi optio, cumque nihil impedit, quo minus id, quod maxime placeat, facere possimus, omnis voluptas assumenda est, omnis dolor repellendus. Temporibus autem quibusdam et aut officiis debitis aut rerum necessitatibus saepe eveniet, ut et voluptates repudiandae sint et molestiae non recusandae. Itaque earum rerum hic tenetur a sapiente delectus, ut aut reiciendis voluptatibus maiores alias consequatur aut perferendis doloribus asperiores repellat.\"\n",
    "text = text.split(\",\")\n",
    "numbers = pd.DataFrame({\"sample\": np.random.randn(len(text)), \"description\": text})"
   ]
  },
  {
   "cell_type": "code",
   "execution_count": 3,
   "metadata": {},
   "outputs": [],
   "source": [
    "numbers[\"word_count\"] = numbers[\"description\"].apply(lambda x: len(x.split()))"
   ]
  },
  {
   "cell_type": "code",
   "execution_count": 4,
   "metadata": {},
   "outputs": [
    {
     "data": {
      "text/html": [
       "<div>\n",
       "<style scoped>\n",
       "    .dataframe tbody tr th:only-of-type {\n",
       "        vertical-align: middle;\n",
       "    }\n",
       "\n",
       "    .dataframe tbody tr th {\n",
       "        vertical-align: top;\n",
       "    }\n",
       "\n",
       "    .dataframe thead th {\n",
       "        text-align: right;\n",
       "    }\n",
       "</style>\n",
       "<table border=\"1\" class=\"dataframe\">\n",
       "  <thead>\n",
       "    <tr style=\"text-align: right;\">\n",
       "      <th></th>\n",
       "      <th>sample</th>\n",
       "      <th>description</th>\n",
       "      <th>word_count</th>\n",
       "    </tr>\n",
       "  </thead>\n",
       "  <tbody>\n",
       "    <tr>\n",
       "      <th>0</th>\n",
       "      <td>-0.355155</td>\n",
       "      <td>Sed ut perspiciatis</td>\n",
       "      <td>3</td>\n",
       "    </tr>\n",
       "    <tr>\n",
       "      <th>1</th>\n",
       "      <td>1.168412</td>\n",
       "      <td>unde omnis iste natus error sit voluptatem ac...</td>\n",
       "      <td>10</td>\n",
       "    </tr>\n",
       "    <tr>\n",
       "      <th>2</th>\n",
       "      <td>-1.723820</td>\n",
       "      <td>totam rem aperiam eaque ipsa</td>\n",
       "      <td>5</td>\n",
       "    </tr>\n",
       "    <tr>\n",
       "      <th>3</th>\n",
       "      <td>-0.601270</td>\n",
       "      <td>quae ab illo inventore veritatis et quasi arc...</td>\n",
       "      <td>12</td>\n",
       "    </tr>\n",
       "    <tr>\n",
       "      <th>4</th>\n",
       "      <td>1.055939</td>\n",
       "      <td>explicabo. Nemo enim ipsam voluptatem</td>\n",
       "      <td>5</td>\n",
       "    </tr>\n",
       "  </tbody>\n",
       "</table>\n",
       "</div>"
      ],
      "text/plain": [
       "     sample                                        description  word_count\n",
       "0 -0.355155                                Sed ut perspiciatis           3\n",
       "1  1.168412   unde omnis iste natus error sit voluptatem ac...          10\n",
       "2 -1.723820                       totam rem aperiam eaque ipsa           5\n",
       "3 -0.601270   quae ab illo inventore veritatis et quasi arc...          12\n",
       "4  1.055939              explicabo. Nemo enim ipsam voluptatem           5"
      ]
     },
     "execution_count": 4,
     "metadata": {},
     "output_type": "execute_result"
    }
   ],
   "source": [
    "numbers.head(5)"
   ]
  },
  {
   "cell_type": "code",
   "execution_count": 5,
   "metadata": {},
   "outputs": [
    {
     "data": {
      "application/vnd.plotly.v1+json": {
       "config": {
        "plotlyServerURL": "https://plot.ly"
       },
       "data": [
        {
         "hoverinfo": "none",
         "legendgroup": "",
         "marker": {
          "color": "#1F77B4",
          "size": [
           10,
           10,
           10,
           10,
           10,
           10,
           10,
           10,
           10,
           10,
           10,
           10,
           10,
           10,
           10,
           10,
           10,
           10,
           10,
           10,
           10,
           10,
           10,
           10,
           10,
           10,
           10,
           10,
           10,
           10,
           10,
           10,
           10,
           10,
           10,
           10,
           10,
           10,
           10
          ],
          "sizemode": "area",
          "sizeref": 0.025,
          "symbol": "circle"
         },
         "mode": "markers",
         "name": "",
         "orientation": "v",
         "showlegend": false,
         "type": "scatter",
         "x": [
          0,
          1,
          2,
          3,
          4,
          5,
          6,
          7,
          8,
          9,
          10,
          11,
          12,
          13,
          14,
          15,
          16,
          17,
          18,
          19,
          20,
          21,
          22,
          23,
          24,
          25,
          26,
          27,
          28,
          29,
          30,
          31,
          32,
          33,
          34,
          35,
          36,
          37,
          38
         ],
         "xaxis": "x",
         "y": [
          -0.35515492130140414,
          1.1684123814049534,
          -1.7238202858552303,
          -0.6012701074093834,
          1.0559390438946024,
          -0.6816983086586139,
          0.05900442085091169,
          0.1919679799180671,
          -0.5586405576597505,
          -1.0008241462743555,
          -0.016009364737932116,
          0.1273582244218972,
          0.99403886995547,
          1.0875763439833672,
          0.869894605941402,
          0.008267887484765972,
          0.7631868851155241,
          -1.342072908897527,
          -0.15915947975525513,
          -0.7311829325767325,
          -0.8950695125082206,
          0.6685806647750173,
          -0.6225780179313183,
          -0.22692494779773068,
          -0.7134317148983863,
          -1.2128723742879337,
          -1.3565834831142451,
          0.39053556013508417,
          -0.7880034544798835,
          0.49995596686362703,
          0.5237498532384716,
          1.1088647208909514,
          -3.0489589765836302,
          1.3989709626895837,
          -0.10879560209716932,
          1.0866307917709153,
          0.4659168033513534,
          -0.2904614269595256,
          1.620817085063856
         ],
         "yaxis": "y"
        }
       ],
       "layout": {
        "legend": {
         "itemsizing": "constant",
         "tracegroupgap": 0
        },
        "template": {
         "data": {
          "scatter": [
           {
            "type": "scatter"
           }
          ]
         }
        },
        "title": {
         "text": "Hover over to see tooltip in action"
        },
        "xaxis": {
         "anchor": "y",
         "domain": [
          0,
          1
         ],
         "title": {
          "text": "index"
         }
        },
        "yaxis": {
         "anchor": "x",
         "domain": [
          0,
          1
         ],
         "title": {
          "text": "sample"
         }
        }
       }
      }
     },
     "metadata": {},
     "output_type": "display_data"
    }
   ],
   "source": [
    "chart = px.scatter(\n",
    "        numbers,\n",
    "        x=numbers.index,\n",
    "        y=\"sample\",\n",
    "        template='none',\n",
    "        size=[10 for item in numbers[\"sample\"]],\n",
    "        title=\"Hover over to see tooltip in action\"\n",
    "    )\n",
    "\n",
    "chart.update_traces(hoverinfo=\"none\", hovertemplate=None)\n",
    "chart.show()"
   ]
  },
  {
   "cell_type": "code",
   "execution_count": 6,
   "metadata": {},
   "outputs": [
    {
     "data": {
      "text/html": [
       "\n",
       "        <iframe\n",
       "            width=\"100%\"\n",
       "            height=\"650\"\n",
       "            src=\"http://127.0.0.1:54112/\"\n",
       "            frameborder=\"0\"\n",
       "            allowfullscreen\n",
       "            \n",
       "        ></iframe>\n",
       "        "
      ],
      "text/plain": [
       "<IPython.lib.display.IFrame at 0x1e42aa42630>"
      ]
     },
     "metadata": {},
     "output_type": "display_data"
    }
   ],
   "source": [
    "# Initialize Dash app\n",
    "app = dash.Dash()\n",
    "\n",
    "# App layout\n",
    "app.layout = html.Div(children=[\n",
    "        dcc.Graph(id=\"graph\", figure=chart),\n",
    "        dcc.Tooltip(id=\"tooltip\"),\n",
    "    ],\n",
    "    style={\n",
    "        \"fontFamily\": \"Verdana\",\n",
    "        \"padding\": \"20px\",\n",
    "        \"background-color\": \"#f7f7f7\",\n",
    "        \"color\": \"#444\",\n",
    "    },\n",
    ")\n",
    "\n",
    "# Tooltip callback\n",
    "@app.callback(\n",
    "    [Output(\"tooltip\", \"show\"), Output(\"tooltip\", \"bbox\"), Output(\"tooltip\", \"children\")],\n",
    "    [Input(\"graph\", \"hoverData\")],\n",
    ")\n",
    "def display_tooltip(data):\n",
    "    \"\"\"\n",
    "    Update tooltip with the word count of the hovered text fragment.\n",
    "\n",
    "    Args:\n",
    "        data: Hover data containing information about the hovered point.\n",
    "\n",
    "    Returns:\n",
    "        Tooltip visibility, bounding box, and content.\n",
    "    \"\"\"\n",
    "    if data is None:\n",
    "        return False, no_update, no_update\n",
    "\n",
    "    # Get hovered point information\n",
    "    hovered_point = data[\"points\"][0]\n",
    "    bbox = hovered_point[\"bbox\"]\n",
    "\n",
    "    # Tooltip content\n",
    "    children = [\n",
    "        html.H4(\"Word Count Info\", style={\"margin-bottom\": \"10px\", \"color\": \"#333\"}),\n",
    "        html.P(f\"Number of words: {numbers.iloc[hovered_point[\"x\"]][\"word_count\"]}\", style={\"font-size\": \"16px\"}),\n",
    "        html.P(numbers.iloc[hovered_point[\"x\"]][\"description\"], style={\"font-size\": \"16px\"}),\n",
    "    ]\n",
    "\n",
    "    return True, bbox, children\n",
    "\n",
    "# Run the app\n",
    "if __name__ == \"__main__\":\n",
    "    app.run_server(debug=True)"
   ]
  }
 ],
 "metadata": {
  "kernelspec": {
   "display_name": "base",
   "language": "python",
   "name": "python3"
  },
  "language_info": {
   "codemirror_mode": {
    "name": "ipython",
    "version": 3
   },
   "file_extension": ".py",
   "mimetype": "text/x-python",
   "name": "python",
   "nbconvert_exporter": "python",
   "pygments_lexer": "ipython3",
   "version": "3.12.7"
  }
 },
 "nbformat": 4,
 "nbformat_minor": 2
}
