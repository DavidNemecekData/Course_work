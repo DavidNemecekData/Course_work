{
 "cells": [
  {
   "cell_type": "code",
   "execution_count": 3,
   "metadata": {},
   "outputs": [],
   "source": [
    "import dash\n",
    "from dash import dcc\n",
    "from dash import html\n",
    "from dash.dependencies import Input, Output"
   ]
  },
  {
   "cell_type": "code",
   "execution_count": 4,
   "metadata": {},
   "outputs": [
    {
     "data": {
      "text/html": [
       "\n",
       "        <iframe\n",
       "            width=\"100%\"\n",
       "            height=\"650\"\n",
       "            src=\"http://127.0.0.1:54112/\"\n",
       "            frameborder=\"0\"\n",
       "            allowfullscreen\n",
       "            \n",
       "        ></iframe>\n",
       "        "
      ],
      "text/plain": [
       "<IPython.lib.display.IFrame at 0x23b1d28c320>"
      ]
     },
     "metadata": {},
     "output_type": "display_data"
    }
   ],
   "source": [
    "# Initialize the app\n",
    "app = dash.Dash(__name__)\n",
    "\n",
    "# Create the app layout\n",
    "app.layout = html.Div(children=[\n",
    "        # Button to trigger updates\n",
    "        html.Button('Click me', id='button', style={\"padding\": \"10px\", \"margin-bottom\": \"20px\"}),\n",
    "        # Slider for numeric input\n",
    "        dcc.Slider(\n",
    "            id='slider',\n",
    "            min=0,\n",
    "            max=10,\n",
    "            step=2,\n",
    "            value=4,\n",
    "            marks={i: str(i) for i in range(0, 11, 2)},\n",
    "            tooltip={\"placement\": \"bottom\", \"always_visible\": True},\n",
    "        ),\n",
    "        # Text input field\n",
    "        dcc.Input(value='', type='text', id='input', placeholder='Enter some text', style={\"padding\": \"10px\", \"width\": \"60%\", \"margin-bottom\": \"20px\"}),\n",
    "        # Div to display the output\n",
    "        html.Div(id='output-container')\n",
    "    ],\n",
    "    style={\n",
    "        'display': 'inline_flex',\n",
    "        'flex-direction': 'column',\n",
    "        'justify-content': 'center',\n",
    "        'align-items': 'center',\n",
    "        'height': '100%',\n",
    "        'background-color': '#f4f4f9',\n",
    "        'color': '#444'\n",
    "    }\n",
    ")\n",
    "\n",
    "# Callback function\n",
    "@app.callback(\n",
    "    Output('output-container', 'children'),\n",
    "    [Input('button', 'n_clicks'),\n",
    "     Input('slider', 'value'),\n",
    "     Input('input', 'value')]\n",
    ")\n",
    "def update_output(n_clicks, slider_value, input_value):\n",
    "    \"\"\"\n",
    "    Updates the output div with new information based on the user's interactions.\n",
    "    \"\"\"\n",
    "    if not n_clicks:\n",
    "        return html.Div(\"Click the button to see the results.\")\n",
    "    \n",
    "    return [\n",
    "        html.H3('Button clicks:', style={\"color\": \"#2c3e50\"}),\n",
    "        html.Div(f'{n_clicks} button clicks registered.', style={\"font-size\": \"18px\"}),\n",
    "        html.Br(),\n",
    "        html.H3('Slider value:', style={\"color\": \"#2c3e50\"}),\n",
    "        html.Div(f'The current slider value is {slider_value}.', style={\"font-size\": \"18px\"}),\n",
    "        html.Br(),\n",
    "        html.H3('Input value:', style={\"color\": \"#2c3e50\"}),\n",
    "        html.Div(f'You entered: \"{input_value}\"', style={\"font-size\": \"18px\"}),\n",
    "    ]\n",
    "\n",
    "if __name__ == '__main__':\n",
    "    app.run_server(debug=True)"
   ]
  }
 ],
 "metadata": {
  "kernelspec": {
   "display_name": "base",
   "language": "python",
   "name": "python3"
  },
  "language_info": {
   "codemirror_mode": {
    "name": "ipython",
    "version": 3
   },
   "file_extension": ".py",
   "mimetype": "text/x-python",
   "name": "python",
   "nbconvert_exporter": "python",
   "pygments_lexer": "ipython3",
   "version": "3.12.7"
  }
 },
 "nbformat": 4,
 "nbformat_minor": 2
}
