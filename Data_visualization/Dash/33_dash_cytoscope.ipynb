{
 "cells": [
  {
   "cell_type": "code",
   "execution_count": 10,
   "metadata": {},
   "outputs": [],
   "source": [
    "import dash\n",
    "from dash import html\n",
    "import dash_cytoscape as cyto"
   ]
  },
  {
   "cell_type": "code",
   "execution_count": 11,
   "metadata": {},
   "outputs": [
    {
     "data": {
      "text/html": [
       "\n",
       "        <iframe\n",
       "            width=\"100%\"\n",
       "            height=\"650\"\n",
       "            src=\"http://127.0.0.1:54112/\"\n",
       "            frameborder=\"0\"\n",
       "            allowfullscreen\n",
       "            \n",
       "        ></iframe>\n",
       "        "
      ],
      "text/plain": [
       "<IPython.lib.display.IFrame at 0x24093bb7fb0>"
      ]
     },
     "metadata": {},
     "output_type": "display_data"
    }
   ],
   "source": [
    "app = dash.Dash()\n",
    "\n",
    "app.layout = html.Div(children=[\n",
    "    cyto.Cytoscape(\n",
    "            id='cytoscape-simple-graph',\n",
    "            layout={'name': 'random'},\n",
    "            style={'width': '100%', 'height': '600px'},\n",
    "            elements=[\n",
    "                {'data': {'id': 'first', 'label': 'Alice'}},\n",
    "                {'data': {'id': 'second', 'label': 'Bob'}},\n",
    "                {'data': {'id': 'third', 'label': 'Carol'}},\n",
    "                {'data': {'id': 'fourth', 'label': 'Dan'}},\n",
    "                {'data': {'source': 'first', 'target': 'second', 'label': 'WhatsApp'}},\n",
    "                {'data': {'source': 'second', 'target': 'fourth', 'label': 'Messenger'}},\n",
    "                {'data': {'source': 'third', 'target': 'first', 'label': 'phone call'}},\n",
    "                {'data': {'source': 'fourth', 'target': 'third', 'label': 'F2F'}},\n",
    "            ],\n",
    "            stylesheet=[\n",
    "                        {\n",
    "                            'selector': 'edge',\n",
    "                            'style': {'content': 'data(label)', 'color': 'grey'}\n",
    "                        },\n",
    "                                                {\n",
    "                            'selector': 'node',\n",
    "                            'style': {'content': 'data(label)'}\n",
    "                        },\n",
    "            ]\n",
    "        )\n",
    "    ])\n",
    "\n",
    "if __name__ == '__main__':\n",
    "    app.run_server(debug=True)"
   ]
  },
  {
   "cell_type": "code",
   "execution_count": 12,
   "metadata": {},
   "outputs": [
    {
     "data": {
      "text/html": [
       "\n",
       "        <iframe\n",
       "            width=\"100%\"\n",
       "            height=\"650\"\n",
       "            src=\"http://127.0.0.1:54112/\"\n",
       "            frameborder=\"0\"\n",
       "            allowfullscreen\n",
       "            \n",
       "        ></iframe>\n",
       "        "
      ],
      "text/plain": [
       "<IPython.lib.display.IFrame at 0x24093c329c0>"
      ]
     },
     "metadata": {},
     "output_type": "display_data"
    }
   ],
   "source": [
    "app = dash.Dash()\n",
    "\n",
    "app.layout = html.Div(children=[\n",
    "    cyto.Cytoscape(\n",
    "        id='cytoscape-enhanced-graph',\n",
    "        layout={'name': 'random'},  # Random layout for initial positioning\n",
    "        style={'width': '100%', 'height': '600px'},  # Define graph container size\n",
    "        elements=[\n",
    "            # Nodes\n",
    "            {'data': {'id': 'first', 'label': 'Alice'}},\n",
    "            {'data': {'id': 'second', 'label': 'Bob'}},\n",
    "            {'data': {'id': 'third', 'label': 'Carol'}},\n",
    "            {'data': {'id': 'fourth', 'label': 'Dan'}},\n",
    "            # Edges\n",
    "            {'data': {'source': 'first', 'target': 'second', 'label': 'WhatsApp'}},\n",
    "            {'data': {'source': 'second', 'target': 'fourth', 'label': 'Messenger'}},\n",
    "            {'data': {'source': 'third', 'target': 'first', 'label': 'Phone Call'}},\n",
    "            {'data': {'source': 'fourth', 'target': 'third', 'label': 'F2F'}},\n",
    "        ],\n",
    "        stylesheet=[\n",
    "            # Node styling\n",
    "            {\n",
    "                'selector': 'node',\n",
    "                'style': {\n",
    "                    'content': 'data(label)',  # Display label as node content\n",
    "                    'background-color': '#0074D9',  # Node background color\n",
    "                    'color': 'white',  # Node label color\n",
    "                    'text-valign': 'center',  # Vertical alignment of text\n",
    "                    'text-halign': 'center',  # Horizontal alignment of text\n",
    "                    'font-size': '12px',  # Font size of node labels\n",
    "                    'width': '50px',  # Node width\n",
    "                    'height': '50px',  # Node height\n",
    "                    'border-width': '2px',  # Border width of nodes\n",
    "                    'border-color': '#001f3f',  # Border color of nodes\n",
    "                }\n",
    "            },\n",
    "            # Edge styling\n",
    "            {\n",
    "                'selector': 'edge',\n",
    "                'style': {\n",
    "                    'content': 'data(label)',  # Display label on edges\n",
    "                    'line-color': '#2ECC40',  # Edge line color\n",
    "                    'target-arrow-color': '#2ECC40',  # Color of the target arrow\n",
    "                    'target-arrow-shape': 'triangle',  # Shape of the target arrow\n",
    "                    'arrow-scale': 1.5,  # Size of the arrow\n",
    "                    'curve-style': 'bezier',  # Smooth curved edges\n",
    "                    'width': 1,  # Thickness of the edges\n",
    "                    'font-size': '12px',  # Font size of edge labels\n",
    "                    'text-rotation': 'autorotate',  # Rotate edge labels with the edge\n",
    "                }\n",
    "            },\n",
    "            # Highlight selected nodes\n",
    "            {\n",
    "                'selector': 'node:selected',\n",
    "                'style': {\n",
    "                    'background-color': '#FF4136',  # Highlight color for selected nodes\n",
    "                    'border-width': '4px',  # Thicker border for selected nodes\n",
    "                }\n",
    "            }\n",
    "        ]\n",
    "    )\n",
    "])\n",
    "\n",
    "if __name__ == '__main__':\n",
    "    app.run_server(debug=True)"
   ]
  }
 ],
 "metadata": {
  "kernelspec": {
   "display_name": "base",
   "language": "python",
   "name": "python3"
  },
  "language_info": {
   "codemirror_mode": {
    "name": "ipython",
    "version": 3
   },
   "file_extension": ".py",
   "mimetype": "text/x-python",
   "name": "python",
   "nbconvert_exporter": "python",
   "pygments_lexer": "ipython3",
   "version": "3.12.7"
  }
 },
 "nbformat": 4,
 "nbformat_minor": 2
}
