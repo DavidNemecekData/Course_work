{
 "cells": [
  {
   "cell_type": "markdown",
   "metadata": {},
   "source": [
    "### Standard Library > Age difference\n",
    "\n",
    "1.    Create a variable called `father` and assign the value of `1974` to it.\n",
    "1.    Create a second variable named `child` and give it the value `2007`.\n",
    "1.    Print a message formatted as: `\"The father is <difference> years older than the child.\"`\n",
    "\n",
    "> Hint: It is most convenient to use the `fstring` construct or the `format` method."
   ]
  },
  {
   "cell_type": "code",
   "execution_count": 1,
   "metadata": {},
   "outputs": [
    {
     "name": "stdout",
     "output_type": "stream",
     "text": [
      "The father is 33 years older than the child.\n"
     ]
    }
   ],
   "source": [
    "# PUT YOUR SOLUTION HERE\n",
    "father = 1974\n",
    "child = 2007\n",
    "difference = child - father\n",
    "result = f\"The father is {difference} years older than the child.\"\n",
    "print(result)"
   ]
  }
 ],
 "metadata": {
  "kernelspec": {
   "display_name": "base",
   "language": "python",
   "name": "python3"
  },
  "language_info": {
   "codemirror_mode": {
    "name": "ipython",
    "version": 3
   },
   "file_extension": ".py",
   "mimetype": "text/x-python",
   "name": "python",
   "nbconvert_exporter": "python",
   "pygments_lexer": "ipython3",
   "version": "3.12.7"
  }
 },
 "nbformat": 4,
 "nbformat_minor": 4
}
