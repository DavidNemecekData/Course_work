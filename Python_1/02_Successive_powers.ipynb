{
 "cells": [
  {
   "cell_type": "markdown",
   "metadata": {},
   "source": [
    "### Flow control > Successive powers\n",
    "\n",
    "Using a `for` loop, write a program that shows successive powers of the number 2 for an exponent between 0 and 10 inclusive, as:\n",
    "```\n",
    "2^<exponent> = <result>```\n",
    "\n",
    "Expected result:\n",
    "\n",
    "```\n",
    "2^0 = 1\n",
    "2^1 = 2\n",
    "2^2 = 4\n",
    "2^3 = 8\n",
    "2^4 = 16\n",
    "2^5 = 32\n",
    "2^6 = 64\n",
    "2^7 = 128\n",
    "2^8 = 256\n",
    "2^9 = 512\n",
    "2^10 = 1024\n",
    "```\n",
    "\n",
    "> Note: In Python `^` does not signify exponentiation!"
   ]
  },
  {
   "cell_type": "code",
   "execution_count": 1,
   "metadata": {},
   "outputs": [
    {
     "name": "stdout",
     "output_type": "stream",
     "text": [
      "2^0 = 1\n",
      "2^1 = 2\n",
      "2^2 = 4\n",
      "2^3 = 8\n",
      "2^4 = 16\n",
      "2^5 = 32\n",
      "2^6 = 64\n",
      "2^7 = 128\n",
      "2^8 = 256\n",
      "2^9 = 512\n",
      "2^10 = 1024\n"
     ]
    }
   ],
   "source": [
    "# PUT YOUR SOLUTION HERE\n",
    "for i in range(11):\n",
    "    result =2 ** i\n",
    "    print(f\"2^{i} = {result}\")"
   ]
  }
 ],
 "metadata": {
  "kernelspec": {
   "display_name": "base",
   "language": "python",
   "name": "python3"
  },
  "language_info": {
   "codemirror_mode": {
    "name": "ipython",
    "version": 3
   },
   "file_extension": ".py",
   "mimetype": "text/x-python",
   "name": "python",
   "nbconvert_exporter": "python",
   "pygments_lexer": "ipython3",
   "version": "3.12.7"
  }
 },
 "nbformat": 4,
 "nbformat_minor": 4
}
