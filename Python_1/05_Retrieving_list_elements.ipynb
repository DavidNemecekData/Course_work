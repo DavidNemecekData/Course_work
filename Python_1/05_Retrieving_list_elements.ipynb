{
 "cells": [
  {
   "cell_type": "markdown",
   "metadata": {},
   "source": [
    "### Data types > Retrieving elements from a list\n",
    "\n",
    "With the list:\n",
    "\n",
    "```\n",
    "words = ['is', 'wrong', 'dough', 'correspondence', 'Python', 'snake', 'tolerate', 'conflict', \n",
    "'chase', 'begin', 'fun','confidence', 'beat']\n",
    "```\n",
    "\n",
    "Do the following:\n",
    "\n",
    "* display the **fifth** array element,\n",
    "* display the **first** array element,\n",
    "* display the **third** array element from the end,\n",
    "\n",
    "> Hint: you can also use reverse indexing to retrieve items counting from the end of the list.\n"
   ]
  },
  {
   "cell_type": "code",
   "execution_count": 5,
   "metadata": {},
   "outputs": [
    {
     "name": "stdout",
     "output_type": "stream",
     "text": [
      "Python\n",
      "is\n",
      "fun\n",
      "13\n"
     ]
    }
   ],
   "source": [
    "# PUT YOUR SOLUTION HERE\n",
    "words = ['is', 'wrong', 'dough', 'correspondence', 'Python', 'snake', 'tolerate', 'conflict', \n",
    "'chase', 'begin', 'fun','confidence', 'beat']\n",
    "print(words[4])\n",
    "print(words[0])\n",
    "print (words[-3])\n",
    "print(len(words))"
   ]
  }
 ],
 "metadata": {
  "kernelspec": {
   "display_name": "base",
   "language": "python",
   "name": "python3"
  },
  "language_info": {
   "codemirror_mode": {
    "name": "ipython",
    "version": 3
   },
   "file_extension": ".py",
   "mimetype": "text/x-python",
   "name": "python",
   "nbconvert_exporter": "python",
   "pygments_lexer": "ipython3",
   "version": "3.12.7"
  }
 },
 "nbformat": 4,
 "nbformat_minor": 4
}
