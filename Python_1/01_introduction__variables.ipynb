{
 "cells": [
  {
   "cell_type": "code",
   "execution_count": 3,
   "id": "c951fdab-bf54-4e48-8534-88e11a90e42a",
   "metadata": {},
   "outputs": [
    {
     "name": "stdout",
     "output_type": "stream",
     "text": [
      "Hello world\n",
      "Hello Python world\n"
     ]
    }
   ],
   "source": [
    "message = \"Hello world\"\n",
    "print(message)\n",
    "message = (\"Hello Python world\")\n",
    "print(message)"
   ]
  },
  {
   "cell_type": "code",
   "execution_count": 4,
   "id": "8b9f8727-638b-434c-b8fc-6ef596a8c533",
   "metadata": {},
   "outputs": [
    {
     "name": "stdout",
     "output_type": "stream",
     "text": [
      "Ada Lovelace\n"
     ]
    }
   ],
   "source": [
    "name = \"ada lovelace\"\n",
    "print(name.title())"
   ]
  },
  {
   "cell_type": "code",
   "execution_count": 5,
   "id": "76dee1a6-32ff-48f8-839c-4b1f8c7fd92a",
   "metadata": {},
   "outputs": [
    {
     "name": "stdout",
     "output_type": "stream",
     "text": [
      "ADA LOVELACE\n",
      "ada lovelace\n"
     ]
    }
   ],
   "source": [
    "name = \"Ada Lovelace\"\n",
    "print(name.upper())\n",
    "print(name.lower())"
   ]
  },
  {
   "cell_type": "code",
   "execution_count": 7,
   "id": "6ed2e649-b13a-4fcf-91fe-043330476d70",
   "metadata": {},
   "outputs": [
    {
     "name": "stdout",
     "output_type": "stream",
     "text": [
      "Hello, Ada Lovelace!\n"
     ]
    }
   ],
   "source": [
    "first_name = \"ada\"\n",
    "last_name = \"lovelace\"\n",
    "full_name = f\"{first_name} {last_name}\"\n",
    "print(f\"Hello, {full_name.title()}!\")"
   ]
  },
  {
   "cell_type": "code",
   "execution_count": 9,
   "id": "12ff186b-3abe-4790-8af0-17b3a1cfb8c2",
   "metadata": {},
   "outputs": [
    {
     "name": "stdout",
     "output_type": "stream",
     "text": [
      "Python\n",
      "\tPython\n"
     ]
    }
   ],
   "source": [
    "print(\"Python\")\n",
    "\n",
    "print(\"\\tPython\")\n"
   ]
  },
  {
   "cell_type": "code",
   "execution_count": 11,
   "id": "4ddf5c60-c6a8-4c06-bded-5577b59d555f",
   "metadata": {},
   "outputs": [
    {
     "data": {
      "text/plain": [
       "'nostarch.com'"
      ]
     },
     "execution_count": 11,
     "metadata": {},
     "output_type": "execute_result"
    }
   ],
   "source": [
    "nostarch_url = 'hhhttps://nostarch.com'\n",
    "nostarch_url.removeprefix('hhhttps://')\n"
   ]
  },
  {
   "cell_type": "code",
   "execution_count": 1,
   "id": "a8361ab3-75be-475d-ae41-c6ae388e41fe",
   "metadata": {},
   "outputs": [
    {
     "name": "stdout",
     "output_type": "stream",
     "text": [
      "One of Python's strengths is its diverse community.\n"
     ]
    }
   ],
   "source": [
    "message = \"One of Python's strengths is its diverse community.\"\n",
    "print(message)"
   ]
  },
  {
   "cell_type": "code",
   "execution_count": 10,
   "id": "7d02e3c7-d83c-47ea-a272-26060211317a",
   "metadata": {},
   "outputs": [
    {
     "name": "stdout",
     "output_type": "stream",
     "text": [
      "DAVID NEMECEK\n",
      "david nemecek\n",
      "David Nemecek\n"
     ]
    }
   ],
   "source": [
    "name = 'david'\n",
    "surname = 'nemecek'\n",
    "full_name = f\"{name} {surname}\"\n",
    "print(full_name.upper())\n",
    "print(full_name.lower())\n",
    "print(full_name.title())"
   ]
  },
  {
   "cell_type": "code",
   "execution_count": 16,
   "id": "9086a761-f01d-46fe-b00b-de7ece008ad6",
   "metadata": {},
   "outputs": [
    {
     "name": "stdout",
     "output_type": "stream",
     "text": [
      "Albert Einstein once said: 'A person who never made a mistake never tried anything new.'\n",
      "Albert Einstein once said:\n",
      "\t'A person who never made a mistake never tried anything new.'\n"
     ]
    }
   ],
   "source": [
    "quote = \"A person who never made a mistake never tried anything new.\"\n",
    "name = \"Albert\"\n",
    "surname = \"Einstein\"\n",
    "print(f\"{name} {surname} once said: '{quote}'\")\n",
    "print(f\"{name} {surname} once said:\\n\\t'{quote}'\")"
   ]
  },
  {
   "cell_type": "code",
   "execution_count": 15,
   "id": "cfa2be20-cc98-4e1e-9b0f-baccecf17ff2",
   "metadata": {},
   "outputs": [
    {
     "name": "stdout",
     "output_type": "stream",
     "text": [
      " David\n",
      "David \n",
      "David\n"
     ]
    }
   ],
   "source": [
    "name = \" David \"\n",
    "print(name.rstrip())\n",
    "print(name.lstrip())\n",
    "print(name.strip())"
   ]
  },
  {
   "cell_type": "code",
   "execution_count": 17,
   "id": "0de0b825-37c2-4cd2-8916-1aa0ded1b692",
   "metadata": {},
   "outputs": [
    {
     "name": "stdout",
     "output_type": "stream",
     "text": [
      "python\n"
     ]
    }
   ],
   "source": [
    "filename = \"python.txt\"\n",
    "print(filename.removesuffix('.txt'))"
   ]
  },
  {
   "cell_type": "code",
   "execution_count": 26,
   "id": "723924ba-deaa-4727-9431-ebd4e27fda4b",
   "metadata": {},
   "outputs": [
    {
     "name": "stdout",
     "output_type": "stream",
     "text": [
      "14000000000\n"
     ]
    }
   ],
   "source": [
    "universe_age = 14_000_000_000\n",
    "print(universe_age)"
   ]
  },
  {
   "cell_type": "code",
   "execution_count": 27,
   "id": "33050f07-78ef-46ed-b033-e046852e77e3",
   "metadata": {},
   "outputs": [
    {
     "name": "stdout",
     "output_type": "stream",
     "text": [
      "David\n",
      "Davca\n",
      "Nemecek\n"
     ]
    }
   ],
   "source": [
    "firstname, midlename, lastname = \"David\", \"Davca\", \"Nemecek\"\n",
    "print(firstname)\n",
    "print(midlename)\n",
    "print(lastname)"
   ]
  },
  {
   "cell_type": "code",
   "execution_count": 28,
   "id": "c2698ee5-c433-4ba6-94b8-88012e774bbf",
   "metadata": {},
   "outputs": [
    {
     "name": "stdout",
     "output_type": "stream",
     "text": [
      "8\n",
      "8\n",
      "8\n",
      "8.0\n"
     ]
    }
   ],
   "source": [
    "print(5 + 3)\n",
    "print(10 - 2)\n",
    "print(2 * 4)\n",
    "print(40 / 5)"
   ]
  },
  {
   "cell_type": "code",
   "execution_count": 29,
   "id": "c4d58eb9-d049-403d-a35e-ee481cbe5fc0",
   "metadata": {},
   "outputs": [
    {
     "name": "stdout",
     "output_type": "stream",
     "text": [
      "6\n"
     ]
    }
   ],
   "source": [
    "# Constant\n",
    "MY_FAVORITE_NUMBER = 6\n",
    "print(MY_FAVORITE_NUMBER)"
   ]
  },
  {
   "cell_type": "code",
   "execution_count": 30,
   "id": "68d43444-449d-40cc-8d6b-4db6461df9b1",
   "metadata": {},
   "outputs": [
    {
     "name": "stdout",
     "output_type": "stream",
     "text": [
      "The Zen of Python, by Tim Peters\n",
      "\n",
      "Beautiful is better than ugly.\n",
      "Explicit is better than implicit.\n",
      "Simple is better than complex.\n",
      "Complex is better than complicated.\n",
      "Flat is better than nested.\n",
      "Sparse is better than dense.\n",
      "Readability counts.\n",
      "Special cases aren't special enough to break the rules.\n",
      "Although practicality beats purity.\n",
      "Errors should never pass silently.\n",
      "Unless explicitly silenced.\n",
      "In the face of ambiguity, refuse the temptation to guess.\n",
      "There should be one-- and preferably only one --obvious way to do it.\n",
      "Although that way may not be obvious at first unless you're Dutch.\n",
      "Now is better than never.\n",
      "Although never is often better than *right* now.\n",
      "If the implementation is hard to explain, it's a bad idea.\n",
      "If the implementation is easy to explain, it may be a good idea.\n",
      "Namespaces are one honking great idea -- let's do more of those!\n"
     ]
    }
   ],
   "source": [
    "import this"
   ]
  }
 ],
 "metadata": {
  "kernelspec": {
   "display_name": "Python 3 (ipykernel)",
   "language": "python",
   "name": "python3"
  },
  "language_info": {
   "codemirror_mode": {
    "name": "ipython",
    "version": 3
   },
   "file_extension": ".py",
   "mimetype": "text/x-python",
   "name": "python",
   "nbconvert_exporter": "python",
   "pygments_lexer": "ipython3",
   "version": "3.12.4"
  }
 },
 "nbformat": 4,
 "nbformat_minor": 5
}
