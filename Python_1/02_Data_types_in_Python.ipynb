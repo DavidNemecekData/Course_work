{
 "cells": [
  {
   "attachments": {},
   "cell_type": "markdown",
   "metadata": {},
   "source": [
    "# Data types in Python"
   ]
  },
  {
   "cell_type": "code",
   "execution_count": 1,
   "metadata": {},
   "outputs": [
    {
     "data": {
      "text/plain": [
       "42"
      ]
     },
     "execution_count": 1,
     "metadata": {},
     "output_type": "execute_result"
    }
   ],
   "source": [
    "answer = 42\n",
    "answer"
   ]
  },
  {
   "cell_type": "code",
   "execution_count": 2,
   "metadata": {},
   "outputs": [],
   "source": [
    "# int\n",
    "income = 900\n",
    "counter = -18  # negative number\n",
    "color = 0xf200b5  # hexadecimal number\n",
    "access = 0o777  # octal number\n",
    "binary = 0b1101  # binary number\n",
    "\n",
    "# float\n",
    "bank_balance = -183.05\n",
    "product_price = 29.99\n",
    "pi = 3.141592653589793\n",
    "\n",
    "# complex\n",
    "sqrt_minus_four = 2j\n",
    "complex_number = (5+7j)\n"
   ]
  },
  {
   "cell_type": "code",
   "execution_count": 3,
   "metadata": {},
   "outputs": [
    {
     "name": "stdout",
     "output_type": "stream",
     "text": [
      "1.8\n",
      "2.0\n"
     ]
    }
   ],
   "source": [
    "result_1 = 9 / 5\n",
    "result_2 = 10 / 5\n",
    "\n",
    "print(result_1)\n",
    "print(result_2)"
   ]
  },
  {
   "attachments": {},
   "cell_type": "markdown",
   "metadata": {},
   "source": [
    "### Integer division"
   ]
  },
  {
   "cell_type": "code",
   "execution_count": 4,
   "metadata": {},
   "outputs": [
    {
     "name": "stdout",
     "output_type": "stream",
     "text": [
      "1.0\n",
      "1\n",
      "1.0\n"
     ]
    }
   ],
   "source": [
    "result_1 = 9.0 // 5\n",
    "result_2 = 9 // 5\n",
    "result_3 = 9 // 5.0\n",
    "\n",
    "print(result_1)\n",
    "print(result_2)\n",
    "print(result_3)"
   ]
  },
  {
   "attachments": {},
   "cell_type": "markdown",
   "metadata": {},
   "source": [
    "## Modulo division"
   ]
  },
  {
   "cell_type": "code",
   "execution_count": 5,
   "metadata": {},
   "outputs": [
    {
     "name": "stdout",
     "output_type": "stream",
     "text": [
      "0\n",
      "1\n",
      "2\n"
     ]
    }
   ],
   "source": [
    "result_1 = 10 % 2\n",
    "result_2 = 13 % 3\n",
    "result_3 = 1523 % 13\n",
    "\n",
    "print(result_1)\n",
    "print(result_2)\n",
    "print(result_3)"
   ]
  },
  {
   "attachments": {},
   "cell_type": "markdown",
   "metadata": {},
   "source": [
    "### Text strings"
   ]
  },
  {
   "cell_type": "code",
   "execution_count": 6,
   "metadata": {},
   "outputs": [],
   "source": [
    "company = 'CodersLab'\n",
    "best_programming_language = \"Python\"\n",
    "crawler = \"\"\"It is a period of civil war.\n",
    "Rebel spaceships, striking from a hidden base,\n",
    "have won their first victory against the evil Galactic Empire.\n",
    "\"\"\"\n",
    "\n",
    "# Unicode in Python 2\n",
    "text_to_show = u'The qųičk břoŵń ƒōx ʝūmƥś ŏvēŕ țhę łāżȳ đőģ.'"
   ]
  },
  {
   "cell_type": "code",
   "execution_count": 7,
   "metadata": {},
   "outputs": [
    {
     "name": "stdout",
     "output_type": "stream",
     "text": [
      "first line \\nsecond line\n"
     ]
    }
   ],
   "source": [
    "text = r\"first line \\nsecond line\"\n",
    "print(text)"
   ]
  },
  {
   "cell_type": "code",
   "execution_count": 8,
   "metadata": {},
   "outputs": [
    {
     "name": "stdout",
     "output_type": "stream",
     "text": [
      "first line \\n second line\n"
     ]
    }
   ],
   "source": [
    "text = r\"first line \\n second line\"\n",
    "print(text)"
   ]
  },
  {
   "cell_type": "code",
   "execution_count": 9,
   "metadata": {},
   "outputs": [
    {
     "name": "stdout",
     "output_type": "stream",
     "text": [
      "Alice has a cat\n"
     ]
    }
   ],
   "source": [
    "result = \"Alice \" + \"has a cat\"\n",
    "print(result)"
   ]
  },
  {
   "cell_type": "code",
   "execution_count": 10,
   "metadata": {},
   "outputs": [
    {
     "name": "stdout",
     "output_type": "stream",
     "text": [
      "blahblahblah\n"
     ]
    }
   ],
   "source": [
    "result = \"blah\" * 3\n",
    "print(result)"
   ]
  },
  {
   "attachments": {},
   "cell_type": "markdown",
   "metadata": {},
   "source": [
    "### Passing variables to strings"
   ]
  },
  {
   "cell_type": "code",
   "execution_count": 11,
   "metadata": {},
   "outputs": [
    {
     "name": "stdout",
     "output_type": "stream",
     "text": [
      "Bonnie, Sissy, Ozzy are the best cats on the world.\n"
     ]
    }
   ],
   "source": [
    "cat_1 = \"Sissy\"\n",
    "cat_2 = \"Ozzy\"\n",
    "cat_3 = \"Bonnie\"\n",
    "result = \"{}, {}, {} are the best cats on the world.\".format(cat_3, cat_1, cat_2)\n",
    "print(result)\n",
    "\n"
   ]
  },
  {
   "cell_type": "code",
   "execution_count": 12,
   "metadata": {},
   "outputs": [
    {
     "name": "stdout",
     "output_type": "stream",
     "text": [
      "The answer is 42!\n"
     ]
    }
   ],
   "source": [
    "answer = 42\n",
    "result = f\"The answer is {answer}!\"\n",
    "print(result)"
   ]
  },
  {
   "attachments": {},
   "cell_type": "markdown",
   "metadata": {},
   "source": [
    "### Boolean values"
   ]
  },
  {
   "cell_type": "code",
   "execution_count": 13,
   "metadata": {},
   "outputs": [],
   "source": [
    "is_checked = True\n",
    "development_mode = False"
   ]
  },
  {
   "cell_type": "code",
   "execution_count": 14,
   "metadata": {},
   "outputs": [
    {
     "data": {
      "text/plain": [
       "True"
      ]
     },
     "execution_count": 14,
     "metadata": {},
     "output_type": "execute_result"
    }
   ],
   "source": [
    "is_checked"
   ]
  },
  {
   "cell_type": "code",
   "execution_count": 15,
   "metadata": {},
   "outputs": [
    {
     "data": {
      "text/plain": [
       "False"
      ]
     },
     "execution_count": 15,
     "metadata": {},
     "output_type": "execute_result"
    }
   ],
   "source": [
    "development_mode"
   ]
  },
  {
   "attachments": {},
   "cell_type": "markdown",
   "metadata": {},
   "source": [
    "## Lists"
   ]
  },
  {
   "cell_type": "code",
   "execution_count": 16,
   "metadata": {},
   "outputs": [],
   "source": [
    "numbers = [1, 2, 3, 4, 5]\n",
    "club_members = [\"Ike\", \"Mike\", \"Spike\"]\n",
    "various = [1, None, \"x\", 4.2, False]\n",
    "empty = []"
   ]
  },
  {
   "cell_type": "code",
   "execution_count": 17,
   "metadata": {},
   "outputs": [
    {
     "name": "stdout",
     "output_type": "stream",
     "text": [
      "Ike\n",
      "Mike\n",
      "Spike\n"
     ]
    }
   ],
   "source": [
    "club_members = [\"Ike\", \"Mike\", \"Spike\"]\n",
    "print(club_members[0])\n",
    "print(club_members[1])\n",
    "print(club_members[2])"
   ]
  },
  {
   "cell_type": "code",
   "execution_count": 18,
   "metadata": {},
   "outputs": [
    {
     "name": "stdout",
     "output_type": "stream",
     "text": [
      "David\n"
     ]
    }
   ],
   "source": [
    "club_members = [\"Ike\", \"Mike\", \"Spike\", \"David\"]\n",
    "print(club_members[3])  # Note that there is going to be an error here!"
   ]
  },
  {
   "cell_type": "code",
   "execution_count": 19,
   "metadata": {},
   "outputs": [
    {
     "name": "stdout",
     "output_type": "stream",
     "text": [
      "Spike\n",
      "Mike\n"
     ]
    }
   ],
   "source": [
    "club_members = [\"Ike\", \"Mike\", \"Spike\"]\n",
    "\n",
    "print(club_members[-1])\n",
    "print(club_members[-2])\n"
   ]
  },
  {
   "cell_type": "code",
   "execution_count": 20,
   "metadata": {},
   "outputs": [
    {
     "name": "stdout",
     "output_type": "stream",
     "text": [
      "['Ike', 'Mike', 'Spike']\n",
      "['Ike', 'Big Mike', 'Spike']\n"
     ]
    }
   ],
   "source": [
    "club_members = [\"Ike\", \"Mike\", \"Spike\"]\n",
    "print(club_members)\n",
    "\n",
    "club_members[1] = \"Big Mike\"\n",
    "print(club_members)\n"
   ]
  },
  {
   "attachments": {},
   "cell_type": "markdown",
   "metadata": {},
   "source": [
    "### List operations"
   ]
  },
  {
   "cell_type": "code",
   "execution_count": 21,
   "metadata": {},
   "outputs": [
    {
     "name": "stdout",
     "output_type": "stream",
     "text": [
      "[1, 2, 3, 4, 5, 6]\n",
      "[1, 2, 3, 1, 2, 3, 1, 2, 3]\n"
     ]
    }
   ],
   "source": [
    "result_1 = [1, 2, 3] + [4, 5, 6]\n",
    "result_2 = [1, 2, 3] * 3\n",
    "\n",
    "print(result_1)\n",
    "print(result_2)\n"
   ]
  },
  {
   "attachments": {},
   "cell_type": "markdown",
   "metadata": {},
   "source": [
    "#### List length"
   ]
  },
  {
   "cell_type": "code",
   "execution_count": 22,
   "metadata": {},
   "outputs": [
    {
     "name": "stdout",
     "output_type": "stream",
     "text": [
      "4\n",
      "8\n"
     ]
    }
   ],
   "source": [
    "club_members = [\"Ike\", \"Mike\", \"Spike\", \"David\"]\n",
    "club_members_length = len(club_members)\n",
    "print(club_members_length)\n",
    "\n",
    "text = \"blahblah\"\n",
    "text_length = len(text)\n",
    "print(text_length)\n"
   ]
  },
  {
   "attachments": {},
   "cell_type": "markdown",
   "metadata": {},
   "source": [
    "### Adding elements to lists"
   ]
  },
  {
   "cell_type": "code",
   "execution_count": 23,
   "metadata": {},
   "outputs": [
    {
     "name": "stdout",
     "output_type": "stream",
     "text": [
      "[1, 2, 3]\n",
      "[1, 2, 3, 4]\n",
      "[1, 2, 3, 4, 5, 6]\n",
      "[1, 2, 42, 3, 4, 5, 6]\n"
     ]
    }
   ],
   "source": [
    "numbers = [1, 2, 3]\n",
    "print(numbers)\n",
    "\n",
    "numbers.append(4)\n",
    "print(numbers)\n",
    "\n",
    "numbers.extend([5, 6])  # equivalent to `numbers + [5, 6]`\n",
    "print(numbers)\n",
    "\n",
    "numbers.insert(2, 42)  # insert number 42 on index 2; rest of the numbers moves one right\n",
    "print(numbers)"
   ]
  }
 ],
 "metadata": {
  "kernelspec": {
   "display_name": "base",
   "language": "python",
   "name": "python3"
  },
  "language_info": {
   "codemirror_mode": {
    "name": "ipython",
    "version": 3
   },
   "file_extension": ".py",
   "mimetype": "text/x-python",
   "name": "python",
   "nbconvert_exporter": "python",
   "pygments_lexer": "ipython3",
   "version": "3.12.7"
  }
 },
 "nbformat": 4,
 "nbformat_minor": 4
}
