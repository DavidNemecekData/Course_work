{
 "cells": [
  {
   "cell_type": "markdown",
   "metadata": {},
   "source": [
    "### Standard Library > Increment and decrement\n",
    "\n",
    "* Create a variable named `counter`.\n",
    "* Put the number 145 into it.\n",
    "* Print the value of the `counter` variable.\n",
    "* Use increment to increase the value of `counter` variable by 1.\n",
    "* Print the value of the `counter` variable.\n",
    "* Use decrement to decrease the value of `counter` variable by 1.\n",
    "* Print the value of the `counter` variable.\n",
    "\n",
    "> Use the shorthand notation."
   ]
  },
  {
   "cell_type": "code",
   "execution_count": 1,
   "metadata": {},
   "outputs": [
    {
     "name": "stdout",
     "output_type": "stream",
     "text": [
      "145\n",
      "146\n",
      "145\n"
     ]
    }
   ],
   "source": [
    "# PUT YOUR SOLUTION HERE\n",
    "counter = 145\n",
    "print(counter)\n",
    "counter += 1\n",
    "print(counter)\n",
    "counter -= 1\n",
    "print(counter)"
   ]
  }
 ],
 "metadata": {
  "kernelspec": {
   "display_name": "base",
   "language": "python",
   "name": "python3"
  },
  "language_info": {
   "codemirror_mode": {
    "name": "ipython",
    "version": 3
   },
   "file_extension": ".py",
   "mimetype": "text/x-python",
   "name": "python",
   "nbconvert_exporter": "python",
   "pygments_lexer": "ipython3",
   "version": "3.12.7"
  }
 },
 "nbformat": 4,
 "nbformat_minor": 4
}
