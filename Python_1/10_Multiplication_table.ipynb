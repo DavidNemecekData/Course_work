{
 "cells": [
  {
   "cell_type": "markdown",
   "metadata": {},
   "source": [
    "### Flow control > Multiplication table\n",
    "\n",
    "Write a program, that will:\n",
    "\n",
    "1. Take an `n` number in the range from 1 to 10 from the user.\n",
    "1. Generate a multiplication table for the given number.\n",
    "\n",
    "**Example**:\n",
    "```\n",
    "Give a number: `3`\n",
    "```\n",
    "\n",
    "**Result**:\n",
    "\n",
    "```\n",
    "1 * 3 = 3\n",
    "2 * 3 = 6\n",
    "3 * 3 = 9\n",
    "4 * 3 = 12\n",
    "5 * 3 = 15\n",
    "6 * 3 = 18\n",
    "7 * 3 = 21\n",
    "8 * 3 = 24\n",
    "9 * 3 = 27\n",
    "10 * 3 = 30\n",
    "```\n",
    "\n",
    ">Hint: Remember to convert `n`."
   ]
  },
  {
   "cell_type": "code",
   "execution_count": 2,
   "metadata": {},
   "outputs": [
    {
     "name": "stdout",
     "output_type": "stream",
     "text": [
      "Multiplication table for 5:\n",
      "1 * 5 = 5\n",
      "2 * 5 = 10\n",
      "3 * 5 = 15\n",
      "4 * 5 = 20\n",
      "5 * 5 = 25\n",
      "6 * 5 = 30\n",
      "7 * 5 = 35\n",
      "8 * 5 = 40\n",
      "9 * 5 = 45\n",
      "10 * 5 = 50\n"
     ]
    }
   ],
   "source": [
    "try:\n",
    "    # User input\n",
    "    n = int(input(\"Enter a number in the range from 1 to 10: \"))\n",
    "\n",
    "    # Validate the input\n",
    "    if n < 1:\n",
    "        print(\"The number is not in the range. It is smaller.\")\n",
    "    elif n > 10:\n",
    "        print(\"The number is not in the range. It is larger.\")\n",
    "    else:\n",
    "        # Generate and display the multiplication table\n",
    "        print(f\"Multiplication table for {n}:\")\n",
    "        for i in range(1, 11):\n",
    "            result = i * n\n",
    "            print(f\"{i} * {n} = {result}\")\n",
    "except ValueError:\n",
    "    print(\"Invalid input. Please enter a valid integer.\")"
   ]
  }
 ],
 "metadata": {
  "kernelspec": {
   "display_name": "base",
   "language": "python",
   "name": "python3"
  },
  "language_info": {
   "codemirror_mode": {
    "name": "ipython",
    "version": 3
   },
   "file_extension": ".py",
   "mimetype": "text/x-python",
   "name": "python",
   "nbconvert_exporter": "python",
   "pygments_lexer": "ipython3",
   "version": "3.12.7"
  }
 },
 "nbformat": 4,
 "nbformat_minor": 4
}
