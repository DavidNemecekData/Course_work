{
 "cells": [
  {
   "cell_type": "markdown",
   "metadata": {},
   "source": [
    "### Flow control > Comparing numbers\n",
    "\n",
    "Write a program, that will:\n",
    "* take two numerical variables from the user (call them`a` and `b`).\n",
    "* cast the variables to `float`.\n",
    "* write out information about the result of the comparison, for example:\n",
    "\n",
    "```\n",
    "a is greater!\n",
    "```"
   ]
  },
  {
   "cell_type": "code",
   "execution_count": 1,
   "metadata": {},
   "outputs": [
    {
     "name": "stdout",
     "output_type": "stream",
     "text": [
      "Favorite number is smaller!\n"
     ]
    }
   ],
   "source": [
    "# PUT YOUR SOLUTION HERE\n",
    "a = input(\"Write your favorite number\")\n",
    "b = input(\"Write your least favorite number\")\n",
    "a = float(a)\n",
    "b = float(b)\n",
    "round(a,2)\n",
    "round(b,2)\n",
    "if a > b:\n",
    "    print(\"Favorite number is greater!\")\n",
    "elif a < b:\n",
    "    print(\"Favorite number is smaller!\")\n",
    "else:\n",
    "    print(\"Numbers are same! That's weird!\")"
   ]
  }
 ],
 "metadata": {
  "kernelspec": {
   "display_name": "base",
   "language": "python",
   "name": "python3"
  },
  "language_info": {
   "codemirror_mode": {
    "name": "ipython",
    "version": 3
   },
   "file_extension": ".py",
   "mimetype": "text/x-python",
   "name": "python",
   "nbconvert_exporter": "python",
   "pygments_lexer": "ipython3",
   "version": "3.12.7"
  }
 },
 "nbformat": 4,
 "nbformat_minor": 4
}
