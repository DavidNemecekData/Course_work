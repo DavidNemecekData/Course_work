{
 "cells": [
  {
   "cell_type": "markdown",
   "metadata": {},
   "source": [
    "### Standard Library > Modulo division\n",
    "\n",
    "1.    Create two variables and assign any numbers to them.\n",
    "1.    Calculate the remainder of the division (`modulo`) of these numbers and assign the result to the variable `modulo_result`.\n",
    "1.    Display the `modulo_result` variable.\n",
    ">    If you don't fully understand how the modulo operator works, practice it with other numbers."
   ]
  },
  {
   "cell_type": "code",
   "execution_count": 1,
   "metadata": {},
   "outputs": [
    {
     "name": "stdout",
     "output_type": "stream",
     "text": [
      "12\n"
     ]
    }
   ],
   "source": [
    "# PUT YOUR SOLUTION HERE\n",
    "variant_a = 58\n",
    "variant_b = 23\n",
    "modulo_result = variant_a % variant_b\n",
    "print(modulo_result)"
   ]
  }
 ],
 "metadata": {
  "kernelspec": {
   "display_name": "base",
   "language": "python",
   "name": "python3"
  },
  "language_info": {
   "codemirror_mode": {
    "name": "ipython",
    "version": 3
   },
   "file_extension": ".py",
   "mimetype": "text/x-python",
   "name": "python",
   "nbconvert_exporter": "python",
   "pygments_lexer": "ipython3",
   "version": "3.12.7"
  }
 },
 "nbformat": 4,
 "nbformat_minor": 4
}
