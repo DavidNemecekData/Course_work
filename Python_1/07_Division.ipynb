{
 "cells": [
  {
   "cell_type": "markdown",
   "metadata": {},
   "source": [
    "### Standard Library > Division\n",
    "\n",
    "* Divide 11 by 7 and save the calculation in the `result` variable.\n",
    "* Round the result to two decimal places.\n",
    "* Display the result as:\n",
    "```\n",
    "11 : 7 = <result>\n",
    "```\n",
    "\n",
    "> Hint: use the `round` function"
   ]
  },
  {
   "cell_type": "code",
   "execution_count": 1,
   "metadata": {},
   "outputs": [
    {
     "name": "stdout",
     "output_type": "stream",
     "text": [
      "11 : 7 = 1.57\n"
     ]
    }
   ],
   "source": [
    "# PUT YOUR SOLUTION HERE\n",
    "a = 11\n",
    "b = 7\n",
    "result = a/b\n",
    "print(f\"11 : 7 = {round(result, 2)}\")"
   ]
  }
 ],
 "metadata": {
  "kernelspec": {
   "display_name": "base",
   "language": "python",
   "name": "python3"
  },
  "language_info": {
   "codemirror_mode": {
    "name": "ipython",
    "version": 3
   },
   "file_extension": ".py",
   "mimetype": "text/x-python",
   "name": "python",
   "nbconvert_exporter": "python",
   "pygments_lexer": "ipython3",
   "version": "3.12.7"
  }
 },
 "nbformat": 4,
 "nbformat_minor": 4
}
