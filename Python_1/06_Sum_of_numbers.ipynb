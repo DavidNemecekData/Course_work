{
 "cells": [
  {
   "cell_type": "markdown",
   "metadata": {},
   "source": [
    "### Flow control > Sum of numbers\n",
    "\n",
    "Write a program, that will:\n",
    "* calculates the sum of all numbers from `0` to `n`, where `n` is any natural number.\n",
    "\n",
    "Solve the task in two ways:\n",
    "\n",
    "1. Using a loop.\n",
    "1. Using Python's built-in `range` and `sum` functions."
   ]
  },
  {
   "cell_type": "code",
   "execution_count": 4,
   "metadata": {},
   "outputs": [
    {
     "name": "stdout",
     "output_type": "stream",
     "text": [
      "natural numbers = [0, 1, 2, 3, 4, 5]\n",
      "15\n"
     ]
    }
   ],
   "source": [
    "# PUT YOUR SOLUTION USING LOOP HERE\n",
    "n = input(\"natural number\")\n",
    "n = int(n)\n",
    "numbers = []\n",
    "for i in range(n + 1):\n",
    "    numbers.append(i)\n",
    "result = 0\n",
    "for number in numbers:\n",
    "    result += number\n",
    "print(f\"natural numbers = {numbers}\")\n",
    "print(result)"
   ]
  },
  {
   "cell_type": "code",
   "execution_count": 2,
   "metadata": {},
   "outputs": [
    {
     "name": "stdout",
     "output_type": "stream",
     "text": [
      "natural numbers = [0, 1, 2, 3, 4, 5, 6, 7, 8, 9, 10]\n",
      "55\n"
     ]
    }
   ],
   "source": [
    "# PUT YOUR SOLUTION USING RANGE AND SUM HERE\n",
    "n = input(\"natural number\")\n",
    "n = int(n)\n",
    "numbers = []\n",
    "i = 0\n",
    "for i in range(n + 1):\n",
    "    numbers.append(i)\n",
    "result = sum(numbers)\n",
    "print(f\"natural numbers = {numbers}\")\n",
    "print(result)"
   ]
  }
 ],
 "metadata": {
  "kernelspec": {
   "display_name": "base",
   "language": "python",
   "name": "python3"
  },
  "language_info": {
   "codemirror_mode": {
    "name": "ipython",
    "version": 3
   },
   "file_extension": ".py",
   "mimetype": "text/x-python",
   "name": "python",
   "nbconvert_exporter": "python",
   "pygments_lexer": "ipython3",
   "version": "3.12.7"
  }
 },
 "nbformat": 4,
 "nbformat_minor": 4
}
