{
 "cells": [
  {
   "cell_type": "markdown",
   "metadata": {},
   "source": [
    "### Data types > Adding elements to a list\n",
    "\n",
    "Create an **empty list** and call it `animals`.\n",
    "\n",
    "Then add to it the names of at least three fairy tale animals you know. Display the list after each operation.\n",
    "\n",
    "Notice to which end of the list the new elements are added.\n",
    "\n",
    "> Hint: > You can use the `append` method.\n"
   ]
  },
  {
   "cell_type": "code",
   "execution_count": 6,
   "metadata": {},
   "outputs": [
    {
     "name": "stdout",
     "output_type": "stream",
     "text": [
      "['dragon', 'unicorn', 'pegasus']\n"
     ]
    }
   ],
   "source": [
    "# PUT YOUR SOLUTION HERE\n",
    "animals = [\"dragon\", \"unicorn\", \"pegasus\"]\n",
    "print(animals)"
   ]
  },
  {
   "cell_type": "code",
   "execution_count": 7,
   "metadata": {},
   "outputs": [
    {
     "name": "stdout",
     "output_type": "stream",
     "text": [
      "['dragon', 'unicorn', 'pegasus', 'manticore']\n"
     ]
    }
   ],
   "source": [
    "animals.append(\"manticore\")\n",
    "print(animals)"
   ]
  },
  {
   "cell_type": "code",
   "execution_count": 8,
   "metadata": {},
   "outputs": [
    {
     "name": "stdout",
     "output_type": "stream",
     "text": [
      "['dragon', 'unicorn', 'pegasus', 'manticore', 'werewolf']\n"
     ]
    }
   ],
   "source": [
    "animals.append(\"werewolf\")\n",
    "print(animals)"
   ]
  },
  {
   "cell_type": "code",
   "execution_count": 9,
   "metadata": {},
   "outputs": [
    {
     "name": "stdout",
     "output_type": "stream",
     "text": [
      "['dragon', 'unicorn', 'pegasus', 'manticore', 'werewolf', 'centaur']\n"
     ]
    }
   ],
   "source": [
    "animals.append(\"centaur\")\n",
    "print(animals)"
   ]
  },
  {
   "cell_type": "code",
   "execution_count": null,
   "metadata": {},
   "outputs": [],
   "source": []
  }
 ],
 "metadata": {
  "kernelspec": {
   "display_name": "base",
   "language": "python",
   "name": "python3"
  },
  "language_info": {
   "codemirror_mode": {
    "name": "ipython",
    "version": 3
   },
   "file_extension": ".py",
   "mimetype": "text/x-python",
   "name": "python",
   "nbconvert_exporter": "python",
   "pygments_lexer": "ipython3",
   "version": "3.12.7"
  }
 },
 "nbformat": 4,
 "nbformat_minor": 4
}
