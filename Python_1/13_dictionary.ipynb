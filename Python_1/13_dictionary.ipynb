{
 "cells": [
  {
   "cell_type": "markdown",
   "metadata": {},
   "source": [
    "## Exercise 2\n",
    "\n",
    "Below is the code, which contains some information about the fuel consumption of different engines. Your task is to calculate how much fuel **on average** gasoline engines use, and how much diesel engines do. Display the results using the `print` function."
   ]
  },
  {
   "cell_type": "code",
   "execution_count": 1,
   "metadata": {},
   "outputs": [],
   "source": [
    "fuel_consumption = {  # in liter/100km\n",
    "  'Citroen': {\n",
    "    'Berlingo': {\n",
    "      'petrol_engine': 8.25,\n",
    "      'diesel_engine': 5.75,\n",
    "    },\n",
    "    'C3': {\n",
    "      'petrol_engine': 7.0,\n",
    "      'diesel_engine': 5.0,\n",
    "    },\n",
    "  },\n",
    "}"
   ]
  },
  {
   "cell_type": "code",
   "execution_count": 3,
   "metadata": {},
   "outputs": [
    {
     "name": "stdout",
     "output_type": "stream",
     "text": [
      "The average consumption of diesel engines is 5.38 liters/100km.\n",
      "The average consumption of petrol engines is 7.62 liters/100km.\n"
     ]
    }
   ],
   "source": [
    "# Calculate the average consumption for each type of engine\n",
    "petrol_consumption = [\n",
    "    fuel_consumption['Citroen']['Berlingo']['petrol_engine'],\n",
    "    fuel_consumption['Citroen']['C3']['petrol_engine']\n",
    "]\n",
    "\n",
    "diesel_consumption = [\n",
    "    fuel_consumption['Citroen']['Berlingo']['diesel_engine'],\n",
    "    fuel_consumption['Citroen']['C3']['diesel_engine']\n",
    "]\n",
    "\n",
    "# Calculate averages\n",
    "petrol_avg = sum(petrol_consumption) / len(petrol_consumption)\n",
    "diesel_avg = sum(diesel_consumption) / len(diesel_consumption)\n",
    "\n",
    "# Display results\n",
    "print(f\"The average consumption of diesel engines is {diesel_avg:.2f} liters/100km.\")\n",
    "print(f\"The average consumption of petrol engines is {petrol_avg:.2f} liters/100km.\")"
   ]
  }
 ],
 "metadata": {
  "kernelspec": {
   "display_name": "base",
   "language": "python",
   "name": "python3"
  },
  "language_info": {
   "codemirror_mode": {
    "name": "ipython",
    "version": 3
   },
   "file_extension": ".py",
   "mimetype": "text/x-python",
   "name": "python",
   "nbconvert_exporter": "python",
   "pygments_lexer": "ipython3",
   "version": "3.12.7"
  }
 },
 "nbformat": 4,
 "nbformat_minor": 4
}
