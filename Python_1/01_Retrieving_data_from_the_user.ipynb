{
 "cells": [
  {
   "cell_type": "markdown",
   "metadata": {},
   "source": [
    "### Standard Library > Retrieving data from the user\n",
    "\n",
    "Write a program, that will:\n",
    "\n",
    "1. Assign user's first name to a variable (retrieving it with an appropriate function),\n",
    "1. Assign user's surname to a variable (retrieving it with an appropriate function),\n",
    "1. display a message: `\"Name Surname is a Python programmer!\"`.\n",
    "Example of calling the code:\n",
    "\n",
    "```\n",
    "What's your name: Guido\n",
    "What's your surname: van Rossum\n",
    "Guido van Rossum is a Python programmer!\n",
    "```"
   ]
  },
  {
   "cell_type": "code",
   "execution_count": 1,
   "metadata": {},
   "outputs": [
    {
     "name": "stdout",
     "output_type": "stream",
     "text": [
      "David Nemecek is a Python programmer!\n"
     ]
    }
   ],
   "source": [
    "# PUT YOUR SOLUTION HERE\n",
    "first_name = input(\"What´s your first name?\")\n",
    "last_name = input(\"What´s your last name?\")\n",
    "full_name = f\"{first_name} {last_name} is a Python programmer!\"\n",
    "print(full_name)"
   ]
  },
  {
   "cell_type": "code",
   "execution_count": null,
   "metadata": {},
   "outputs": [],
   "source": []
  }
 ],
 "metadata": {
  "kernelspec": {
   "display_name": "base",
   "language": "python",
   "name": "python3"
  },
  "language_info": {
   "codemirror_mode": {
    "name": "ipython",
    "version": 3
   },
   "file_extension": ".py",
   "mimetype": "text/x-python",
   "name": "python",
   "nbconvert_exporter": "python",
   "pygments_lexer": "ipython3",
   "version": "3.12.7"
  }
 },
 "nbformat": 4,
 "nbformat_minor": 4
}
