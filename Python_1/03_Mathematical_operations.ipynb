{
 "cells": [
  {
   "cell_type": "markdown",
   "metadata": {},
   "source": [
    "### Data types > Mathematical operations\n",
    "\n",
    "Create the following variables:\n",
    "\n",
    "* `a` with a value of **10**,\n",
    "* `b` with a value of **15**.\n",
    "* `sum_value` with the total value of `a` and `b` variables,\n",
    "* `quotus` with the quotient value of `b` and `a` variables,\n",
    "* `int_part` with the integer part of the value of the `quotus` variable,\n",
    "\n",
    "Display the values of all variables and their types."
   ]
  },
  {
   "cell_type": "code",
   "execution_count": 1,
   "metadata": {},
   "outputs": [
    {
     "name": "stdout",
     "output_type": "stream",
     "text": [
      "25\n",
      "1.5\n",
      "1\n"
     ]
    }
   ],
   "source": [
    "# PUT YOUR SOLUTION HERE\n",
    "a = 10\n",
    "b = 15\n",
    "sum_value = a + b\n",
    "print(sum_value)\n",
    "quotus = b / a\n",
    "print(quotus)\n",
    "int_part = b // a\n",
    "print(int_part)"
   ]
  }
 ],
 "metadata": {
  "kernelspec": {
   "display_name": "base",
   "language": "python",
   "name": "python3"
  },
  "language_info": {
   "codemirror_mode": {
    "name": "ipython",
    "version": 3
   },
   "file_extension": ".py",
   "mimetype": "text/x-python",
   "name": "python",
   "nbconvert_exporter": "python",
   "pygments_lexer": "ipython3",
   "version": "3.12.7"
  }
 },
 "nbformat": 4,
 "nbformat_minor": 4
}
