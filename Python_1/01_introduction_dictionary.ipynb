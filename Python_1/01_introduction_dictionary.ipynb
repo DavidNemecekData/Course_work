{
 "cells": [
  {
   "cell_type": "code",
   "execution_count": 1,
   "id": "8d0ce313-69bf-42ec-a623-2fdb0dcf77f6",
   "metadata": {},
   "outputs": [
    {
     "name": "stdout",
     "output_type": "stream",
     "text": [
      "Original position: 0\n",
      "New position: 2\n"
     ]
    }
   ],
   "source": [
    "alien_0 = {'x_position': 0, 'y_position': 25, 'speed': 'medium'}\n",
    "print(f\"Original position: {alien_0['x_position']}\")\n",
    "# Move the alien to the right.\n",
    "\n",
    "# Determine how far to move the alien based on its current speed.\n",
    "if alien_0['speed'] == 'slow':\n",
    "    x_increment = 1\n",
    "elif alien_0['speed'] == 'medium':\n",
    "    x_increment = 2\n",
    "else:\n",
    "    # This must be a fast alien.\n",
    "    x_increment = 3\n",
    "    \n",
    "# The new position is the old position plus the increment.\n",
    "alien_0['x_position'] = alien_0['x_position'] + x_increment\n",
    "print(f\"New position: {alien_0['x_position']}\")"
   ]
  },
  {
   "cell_type": "markdown",
   "id": "6b556845-be70-47d0-abc1-947b6462d7d2",
   "metadata": {},
   "source": [
    "**Deleting** item from dictionary."
   ]
  },
  {
   "cell_type": "code",
   "execution_count": 4,
   "id": "92970ba2-7b40-44f6-80c1-ac714ea87470",
   "metadata": {},
   "outputs": [
    {
     "name": "stdout",
     "output_type": "stream",
     "text": [
      "{'color': 'green', 'points': 5}\n",
      "{'color': 'green'}\n"
     ]
    }
   ],
   "source": [
    "alien_0 = {'color': 'green', 'points': 5}\n",
    "print(alien_0)\n",
    "del alien_0['points']\n",
    "print(alien_0)"
   ]
  },
  {
   "cell_type": "markdown",
   "id": "0c9d10b2-f7e1-416c-989e-bc05a83c5db6",
   "metadata": {},
   "source": [
    "**Add coma** after the last key:value pair."
   ]
  },
  {
   "cell_type": "code",
   "execution_count": 6,
   "id": "223b6715-447e-4409-9688-49b6e12b4fae",
   "metadata": {},
   "outputs": [],
   "source": [
    "favorite_languages = {\n",
    "'jen': 'python',\n",
    "'sarah': 'c',\n",
    "'edward': 'rust',\n",
    "'phil': 'python',\n",
    "}"
   ]
  },
  {
   "cell_type": "markdown",
   "id": "dad805dc-982e-4790-a319-84467eef9615",
   "metadata": {},
   "source": [
    "Using the **get method** for handle errors\n",
    "If you leave out the second argument in the call to get() and the key doesn’t exist,\n",
    "Python will return the value None. The special value None means “no value exists.”\n",
    "This is not an error: it’s a special value meant to indicate the absence of a value.\n",
    "You’ll see more uses for None in Chapter 8."
   ]
  },
  {
   "cell_type": "code",
   "execution_count": 8,
   "id": "11a2552b-b4bd-461c-b77e-cab85d64fdf1",
   "metadata": {},
   "outputs": [
    {
     "name": "stdout",
     "output_type": "stream",
     "text": [
      "20\n"
     ]
    }
   ],
   "source": [
    "alien_0 = {'color': 'green', 'speed': 'slow', 'points' : 20}\n",
    "point_value = alien_0.get('points', 'No point value assigned.')\n",
    "print(point_value)"
   ]
  },
  {
   "cell_type": "markdown",
   "id": "5c66e954-f31a-4f8a-875b-1323c710dd22",
   "metadata": {},
   "source": [
    "Exercise 1"
   ]
  },
  {
   "cell_type": "code",
   "execution_count": 13,
   "id": "f0cf0b96-89cf-47a8-91b2-da227913aaf6",
   "metadata": {},
   "outputs": [],
   "source": [
    "my_information = {\n",
    "    'first_name':'David',\n",
    "    'last_name':'Nemecek',\n",
    "    'age':36,\n",
    "    'city':'Kladno',\n",
    "}"
   ]
  },
  {
   "cell_type": "code",
   "execution_count": 15,
   "id": "9b3b2a60-38b9-4c12-9b9e-afc10ef873d7",
   "metadata": {},
   "outputs": [
    {
     "name": "stdout",
     "output_type": "stream",
     "text": [
      "{'first_name': 'David', 'last_name': 'Nemecek', 'age': 36, 'city': 'Kladno'}\n"
     ]
    }
   ],
   "source": [
    "print(my_information)"
   ]
  },
  {
   "cell_type": "code",
   "execution_count": 25,
   "id": "2e5df3ce-49a3-47c1-a2a5-829d03a99f55",
   "metadata": {},
   "outputs": [
    {
     "name": "stdout",
     "output_type": "stream",
     "text": [
      "36\n"
     ]
    }
   ],
   "source": [
    "print(my_information.get('age', 'information is not included'))"
   ]
  },
  {
   "cell_type": "markdown",
   "id": "4e06d0ef-04e6-4fa2-84bb-395ad86caed4",
   "metadata": {},
   "source": [
    "Loop throught **key:value pair**"
   ]
  },
  {
   "cell_type": "code",
   "execution_count": 31,
   "id": "b72352c7-e9d8-4bb1-b708-4944c0430db0",
   "metadata": {},
   "outputs": [
    {
     "name": "stdout",
     "output_type": "stream",
     "text": [
      "\n",
      "Key: first_name\n",
      "Value: David\n",
      "\n",
      "Key: last_name\n",
      "Value: Nemecek\n",
      "\n",
      "Key: age\n",
      "Value: 36\n",
      "\n",
      "Key: city\n",
      "Value: Kladno\n"
     ]
    }
   ],
   "source": [
    "for key, value in my_information.items():\n",
    "    print(f\"\\nKey: {key}\")\n",
    "    print(f\"Value: {value}\")"
   ]
  },
  {
   "cell_type": "markdown",
   "id": "289d0e97-2415-444c-9f7a-0d4017cc163d",
   "metadata": {},
   "source": [
    "Loop throught **keye**"
   ]
  },
  {
   "cell_type": "code",
   "execution_count": 47,
   "id": "a57c28e8-dbdd-47d2-804f-3627127b9c84",
   "metadata": {},
   "outputs": [
    {
     "name": "stdout",
     "output_type": "stream",
     "text": [
      "Jen\n",
      "Sarah\n",
      "Edward\n",
      "Phil\n"
     ]
    }
   ],
   "source": [
    "favorite_languages = {\n",
    "    'jen': 'python',\n",
    "    'sarah': 'c',\n",
    "    'edward': 'rust',\n",
    "    'phil': 'python',\n",
    "}\n",
    "for name in favorite_languages.keys():\n",
    "    print(name.title())"
   ]
  },
  {
   "cell_type": "code",
   "execution_count": 51,
   "id": "98b34d12-c41d-4b68-8147-8f494e5e9122",
   "metadata": {},
   "outputs": [
    {
     "name": "stdout",
     "output_type": "stream",
     "text": [
      "Jen\n",
      "Sarah\n",
      "Edward\n",
      "Phil\n"
     ]
    }
   ],
   "source": [
    "for key in favorite_languages:\n",
    "    print(key.title())"
   ]
  },
  {
   "cell_type": "code",
   "execution_count": 55,
   "id": "d29ed8ac-6894-4a75-b1fa-2d5c848b7252",
   "metadata": {},
   "outputs": [
    {
     "name": "stdout",
     "output_type": "stream",
     "text": [
      "Hi Jen.\n",
      "Hi Sarah.\n",
      "\tSarah, I see you love C!\n",
      "Hi Edward.\n",
      "Hi Phil.\n",
      "\tPhil, I see you love Python!\n"
     ]
    }
   ],
   "source": [
    "friends = ['phil', 'sarah']\n",
    "for name in favorite_languages.keys():\n",
    "    print(f\"Hi {name.title()}.\")\n",
    "    if name in friends:\n",
    "        language = favorite_languages[name].title()\n",
    "        print(f\"\\t{name.title()}, I see you love {language}!\")"
   ]
  },
  {
   "cell_type": "code",
   "execution_count": 57,
   "id": "cf176c5c-9ca1-40f0-8be6-d48875d85408",
   "metadata": {},
   "outputs": [
    {
     "name": "stdout",
     "output_type": "stream",
     "text": [
      "Erin, please take our poll!\n"
     ]
    }
   ],
   "source": [
    "if 'erin' not in favorite_languages.keys():\n",
    "    print(\"Erin, please take our poll!\")"
   ]
  },
  {
   "cell_type": "code",
   "execution_count": 59,
   "id": "5e534da3-5c4e-442c-92d8-67e4700acb84",
   "metadata": {},
   "outputs": [
    {
     "name": "stdout",
     "output_type": "stream",
     "text": [
      "dict_keys(['jen', 'sarah', 'edward', 'phil'])\n"
     ]
    }
   ],
   "source": [
    "print(favorite_languages.keys())"
   ]
  },
  {
   "cell_type": "markdown",
   "id": "dfabd01c-8c57-4943-b6e7-a951bee407af",
   "metadata": {},
   "source": [
    "**sorting dictionary**"
   ]
  },
  {
   "cell_type": "code",
   "execution_count": 62,
   "id": "3a5bda5a-f944-43aa-8425-7e9643bcec7f",
   "metadata": {},
   "outputs": [
    {
     "name": "stdout",
     "output_type": "stream",
     "text": [
      "Edward, thank you for taking the poll.\n",
      "Jen, thank you for taking the poll.\n",
      "Phil, thank you for taking the poll.\n",
      "Sarah, thank you for taking the poll.\n"
     ]
    }
   ],
   "source": [
    "for name in sorted(favorite_languages.keys()):\n",
    "    print(f\"{name.title()}, thank you for taking the poll.\")"
   ]
  },
  {
   "cell_type": "markdown",
   "id": "74f3947e-3333-4465-875d-cf1d2d205995",
   "metadata": {},
   "source": [
    "**Method for accesing values in dictionary**\n",
    "To see each language chosen without repetition, we can use a set. A set\n",
    "is a collection in which each item must be unique:"
   ]
  },
  {
   "cell_type": "code",
   "execution_count": 67,
   "id": "fac67b55-304b-4b2a-be84-fbe8c8b8e663",
   "metadata": {},
   "outputs": [
    {
     "name": "stdout",
     "output_type": "stream",
     "text": [
      "The following languages have been mentioned:\n",
      "Python\n",
      "C\n",
      "Rust\n",
      "Python\n"
     ]
    }
   ],
   "source": [
    "print(\"The following languages have been mentioned:\")\n",
    "for language in favorite_languages.values():\n",
    "    print(language.title())"
   ]
  },
  {
   "cell_type": "code",
   "execution_count": 70,
   "id": "db40a5e1-7e76-4b3f-8888-d22186cd7ea6",
   "metadata": {},
   "outputs": [
    {
     "name": "stdout",
     "output_type": "stream",
     "text": [
      "The following languages have been mentioned:\n",
      "Rust\n",
      "C\n",
      "Python\n"
     ]
    }
   ],
   "source": [
    "print(\"The following languages have been mentioned:\")\n",
    "for language in set(favorite_languages.values()):\n",
    "    print(language.title())"
   ]
  },
  {
   "cell_type": "markdown",
   "id": "44cdf88b-b2c1-4739-bc12-3ebdd88e6f67",
   "metadata": {},
   "source": [
    "You can build a **set** directly using braces and separating the elements with commas:\n",
    "languages = {'python', 'rust', 'python', 'c'}\n",
    "languages\n",
    "{'rust', 'python' 'C'}\n",
    "It’s easy to mistake sets for dictionaries because they’re both wrapped in braces.\n",
    "When you see braces but no key-value pairs, you’re probably looking at a set. Unlike\n",
    "lists and dictionaries, sets do not retain items in any speciorderrder."
   ]
  },
  {
   "cell_type": "markdown",
   "id": "89a2dc56",
   "metadata": {},
   "source": [
    "**Looping throught dictionaries**"
   ]
  },
  {
   "cell_type": "code",
   "execution_count": 1,
   "id": "693ee71f-9e6b-42b1-b2a3-2235c1f4a091",
   "metadata": {},
   "outputs": [],
   "source": [
    "user_0 = {\n",
    "'username': 'efermi',\n",
    "'first': 'enrico',\n",
    "'last': 'fermi',\n",
    "}"
   ]
  },
  {
   "cell_type": "code",
   "execution_count": 2,
   "id": "fa08bbd1",
   "metadata": {},
   "outputs": [
    {
     "name": "stdout",
     "output_type": "stream",
     "text": [
      "\n",
      "Key: username\n",
      "Value: efermi\n",
      "\n",
      "Key: first\n",
      "Value: enrico\n",
      "\n",
      "Key: last\n",
      "Value: fermi\n"
     ]
    }
   ],
   "source": [
    "for key, value in user_0.items():\n",
    "    print(f\"\\nKey: {key}\")\n",
    "    print(f\"Value: {value}\")"
   ]
  },
  {
   "cell_type": "markdown",
   "id": "fe2a63a8",
   "metadata": {},
   "source": [
    "Looping through the keys is actually the default behavior when looping\n",
    "through a dictionary, so this code would have exactly the same output if you\n",
    "wrote:\n",
    "**for name in favorite_languages:**"
   ]
  },
  {
   "cell_type": "markdown",
   "id": "5979114a",
   "metadata": {},
   "source": [
    "**Nesting**"
   ]
  },
  {
   "cell_type": "code",
   "execution_count": 5,
   "id": "1bfaf771",
   "metadata": {},
   "outputs": [
    {
     "name": "stdout",
     "output_type": "stream",
     "text": [
      "{'color': 'green', 'points': 5}\n",
      "{'color': 'yellow', 'points': 10}\n",
      "{'color': 'red', 'points': 15}\n"
     ]
    }
   ],
   "source": [
    "alien_0 = {'color': 'green', 'points': 5}\n",
    "alien_1 = {'color': 'yellow', 'points': 10}\n",
    "alien_2 = {'color': 'red', 'points': 15}\n",
    "aliens = [alien_0, alien_1, alien_2]\n",
    "for alien in aliens:\n",
    "    print(alien)"
   ]
  },
  {
   "cell_type": "code",
   "execution_count": 6,
   "id": "d36dbabd",
   "metadata": {},
   "outputs": [
    {
     "name": "stdout",
     "output_type": "stream",
     "text": [
      "{'color': 'green', 'points': 5, 'speed': 'slow'}\n",
      "...\n",
      "{'color': 'green', 'points': 5, 'speed': 'slow'}\n",
      "...\n",
      "{'color': 'green', 'points': 5, 'speed': 'slow'}\n",
      "...\n",
      "{'color': 'green', 'points': 5, 'speed': 'slow'}\n",
      "...\n",
      "{'color': 'green', 'points': 5, 'speed': 'slow'}\n",
      "...\n",
      "Total number of aliens: 30\n"
     ]
    }
   ],
   "source": [
    "# Make an empty list for storing aliens.\n",
    "aliens = []\n",
    "# Make 30 green aliens.\n",
    "for alien_number in range(30):\n",
    "    new_alien = {'color': 'green', 'points': 5, 'speed': 'slow'}\n",
    "    aliens.append(new_alien)\n",
    "# Show the first 5 aliens.\n",
    "for alien in aliens[:5]:\n",
    "    print(alien)\n",
    "    print(\"...\")\n",
    "# Show how many aliens have been created.\n",
    "print(f\"Total number of aliens: {len(aliens)}\")"
   ]
  },
  {
   "cell_type": "code",
   "execution_count": 7,
   "id": "6369481e",
   "metadata": {},
   "outputs": [
    {
     "name": "stdout",
     "output_type": "stream",
     "text": [
      "You ordered a thick-crust pizza with the following toppings:\n",
      "\tmushrooms\n",
      "\textra cheese\n"
     ]
    }
   ],
   "source": [
    "# Store information about a pizza being ordered.\n",
    "pizza = {\n",
    "    'crust': 'thick',\n",
    "    'toppings': ['mushrooms', 'extra cheese'],\n",
    "}\n",
    "# Summarize the order.\n",
    "print(f\"You ordered a {pizza['crust']}-crust pizza \"\n",
    "\"with the following toppings:\")\n",
    "for topping in pizza['toppings']:\n",
    "    print(f\"\\t{topping}\")"
   ]
  },
  {
   "cell_type": "code",
   "execution_count": 1,
   "id": "488f559a",
   "metadata": {},
   "outputs": [],
   "source": [
    "users = {\n",
    "    'aeinstein': {\n",
    "        'first': 'albert',\n",
    "        'last': 'einstein',\n",
    "        'location': 'princeton',\n",
    "},\n",
    "    'mcurie': {\n",
    "        'first': 'marie',\n",
    "        'last': 'curie',\n",
    "        'location': 'paris',\n",
    "},\n",
    "}"
   ]
  },
  {
   "cell_type": "code",
   "execution_count": 2,
   "id": "4bc281cd",
   "metadata": {},
   "outputs": [
    {
     "name": "stdout",
     "output_type": "stream",
     "text": [
      "\n",
      "Username: aeinstein\n",
      "\tFull name: Albert Einstein\n",
      "\tLocation: Princeton\n",
      "\n",
      "Username: mcurie\n",
      "\tFull name: Marie Curie\n",
      "\tLocation: Paris\n"
     ]
    }
   ],
   "source": [
    "for username, user_info in users.items():\n",
    "    print(f\"\\nUsername: {username}\")\n",
    "    full_name = f\"{user_info['first']} {user_info['last']}\"\n",
    "    location = user_info['location']\n",
    "    print(f\"\\tFull name: {full_name.title()}\")\n",
    "    print(f\"\\tLocation: {location.title()}\")"
   ]
  },
  {
   "cell_type": "code",
   "execution_count": 3,
   "id": "b5233f46",
   "metadata": {},
   "outputs": [],
   "source": [
    "my_list = [{'name': 'John'}, {'surname': 'Evans'}, {'location': 'Paris'}]"
   ]
  },
  {
   "cell_type": "code",
   "execution_count": 6,
   "id": "7a0136ff",
   "metadata": {},
   "outputs": [
    {
     "name": "stdout",
     "output_type": "stream",
     "text": [
      "name\n",
      "John\n",
      "surname\n",
      "Evans\n",
      "location\n",
      "Paris\n"
     ]
    }
   ],
   "source": [
    "for item in my_list:\n",
    "    for key, value in item.items():\n",
    "        print(key)\n",
    "        print(value)"
   ]
  },
  {
   "cell_type": "code",
   "execution_count": 8,
   "id": "3cccd17f",
   "metadata": {},
   "outputs": [],
   "source": [
    "cities = {\n",
    "    'france': {\n",
    "        'population': '10m',\n",
    "        'city': 'Paris',\n",
    "        'language': 'same'\n",
    "        },\n",
    "    'germany': {\n",
    "        'population': '20m',\n",
    "        'city': 'Berlin',\n",
    "        'language': 'also',\n",
    "    }\n",
    "}"
   ]
  },
  {
   "cell_type": "code",
   "execution_count": 13,
   "id": "301ed7fd",
   "metadata": {},
   "outputs": [
    {
     "name": "stdout",
     "output_type": "stream",
     "text": [
      "france\n",
      "10m\n",
      "Paris\n",
      "same\n",
      "germany\n",
      "20m\n",
      "Berlin\n",
      "also\n"
     ]
    }
   ],
   "source": [
    "for state, state_info in cities.items():\n",
    "    print(state)\n",
    "    print(state_info['population'])\n",
    "    print(state_info['city'])\n",
    "    print(state_info['language'])"
   ]
  }
 ],
 "metadata": {
  "kernelspec": {
   "display_name": "base",
   "language": "python",
   "name": "python3"
  },
  "language_info": {
   "codemirror_mode": {
    "name": "ipython",
    "version": 3
   },
   "file_extension": ".py",
   "mimetype": "text/x-python",
   "name": "python",
   "nbconvert_exporter": "python",
   "pygments_lexer": "ipython3",
   "version": "3.12.4"
  }
 },
 "nbformat": 4,
 "nbformat_minor": 5
}
