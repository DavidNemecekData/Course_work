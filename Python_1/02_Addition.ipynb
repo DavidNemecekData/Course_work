{
 "cells": [
  {
   "cell_type": "markdown",
   "metadata": {},
   "source": [
    "### Data types > Addition\n",
    "\n",
    "Create the following variables:\n",
    "\n",
    "* `add1` with integer value,\n",
    "* `add2` with floating point value,\n",
    "* `sum_value which will be the sum of `add1` and `add2`\n",
    "\n",
    "> Hint: Do not use sum as the name of a variable because it is a reserved keyword in Python.\n",
    "\n",
    "Display each variable along with its type."
   ]
  },
  {
   "cell_type": "code",
   "execution_count": 1,
   "metadata": {},
   "outputs": [
    {
     "name": "stdout",
     "output_type": "stream",
     "text": [
      "150.5\n",
      "add1 is int type, add2 is float type and result is float type.\n"
     ]
    }
   ],
   "source": [
    "# PUT YOUR SOLUTION HERE\n",
    "add1 = 100\n",
    "add2 = 50.5\n",
    "result = add1 + add2\n",
    "type_add1 = type(add1).__name__\n",
    "type_add2 = type(add2).__name__\n",
    "type_result = type(result).__name__\n",
    "print(result)\n",
    "to_print = f\"add1 is {type_add1} type, add2 is {type_add2} type and result is {type_result} type.\"\n",
    "print(to_print)"
   ]
  }
 ],
 "metadata": {
  "kernelspec": {
   "display_name": "base",
   "language": "python",
   "name": "python3"
  },
  "language_info": {
   "codemirror_mode": {
    "name": "ipython",
    "version": 3
   },
   "file_extension": ".py",
   "mimetype": "text/x-python",
   "name": "python",
   "nbconvert_exporter": "python",
   "pygments_lexer": "ipython3",
   "version": "3.12.7"
  }
 },
 "nbformat": 4,
 "nbformat_minor": 4
}
