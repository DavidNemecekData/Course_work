{
 "cells": [
  {
   "cell_type": "markdown",
   "metadata": {},
   "source": [
    "### Flow control > Comparing strings\n",
    "\n",
    "* Assign the strings: `cat` and `dog` to variables.\n",
    "* Display the result of comparing them with the `<` operator on the screen.\n",
    "\n",
    "Think about why the result is like this, try with other strings of characters, and write down the result in the comments.\n",
    "\n",
    "> Hint: How are, for example, encyclopedia entries organized? "
   ]
  },
  {
   "cell_type": "code",
   "execution_count": 1,
   "metadata": {},
   "outputs": [
    {
     "name": "stdout",
     "output_type": "stream",
     "text": [
      "True\n"
     ]
    }
   ],
   "source": [
    "# PUT YOUR SOLUTION HERE\n",
    "a = \"cat\"\n",
    "b = \"dog\"\n",
    "result = a < b\n",
    "print(result)"
   ]
  },
  {
   "cell_type": "markdown",
   "metadata": {},
   "source": [
    "PUT YOUR COMMENT HERE\n",
    "\"cat\" je před \"dog\" v abecedě. Řetězce jsou porovnávány lexikograficky, tedy základě pořadí znaků v abecedě."
   ]
  }
 ],
 "metadata": {
  "kernelspec": {
   "display_name": "base",
   "language": "python",
   "name": "python3"
  },
  "language_info": {
   "codemirror_mode": {
    "name": "ipython",
    "version": 3
   },
   "file_extension": ".py",
   "mimetype": "text/x-python",
   "name": "python",
   "nbconvert_exporter": "python",
   "pygments_lexer": "ipython3",
   "version": "3.12.7"
  }
 },
 "nbformat": 4,
 "nbformat_minor": 4
}
