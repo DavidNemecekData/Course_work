{
 "cells": [
  {
   "cell_type": "markdown",
   "metadata": {},
   "source": [
    "### Flow control > Defining list of numbers\n",
    "\n",
    "1. Define a list consisting of **even** numbers from `2 to 98`,\n",
    "1. List each of these numbers on a separate line using the template below:\n",
    "\n",
    "```\n",
    "Number: <number>\n",
    "```\n",
    "\n",
    "> Hint: Try not to define the list manually; use the `range` function instead.\n",
    "\n",
    "Result draft:\n",
    "\n",
    "```\n",
    "Number: 2\n",
    "Number: 4\n",
    "...\n",
    "Number: 98\n",
    "\n",
    "```"
   ]
  },
  {
   "cell_type": "code",
   "execution_count": 1,
   "metadata": {},
   "outputs": [
    {
     "name": "stdout",
     "output_type": "stream",
     "text": [
      "Number: 2\n",
      "Number: 4\n",
      "Number: 6\n",
      "Number: 8\n",
      "Number: 10\n",
      "Number: 12\n",
      "Number: 14\n",
      "Number: 16\n",
      "Number: 18\n",
      "Number: 20\n",
      "Number: 22\n",
      "Number: 24\n",
      "Number: 26\n",
      "Number: 28\n",
      "Number: 30\n",
      "Number: 32\n",
      "Number: 34\n",
      "Number: 36\n",
      "Number: 38\n",
      "Number: 40\n",
      "Number: 42\n",
      "Number: 44\n",
      "Number: 46\n",
      "Number: 48\n",
      "Number: 50\n",
      "Number: 52\n",
      "Number: 54\n",
      "Number: 56\n",
      "Number: 58\n",
      "Number: 60\n",
      "Number: 62\n",
      "Number: 64\n",
      "Number: 66\n",
      "Number: 68\n",
      "Number: 70\n",
      "Number: 72\n",
      "Number: 74\n",
      "Number: 76\n",
      "Number: 78\n",
      "Number: 80\n",
      "Number: 82\n",
      "Number: 84\n",
      "Number: 86\n",
      "Number: 88\n",
      "Number: 90\n",
      "Number: 92\n",
      "Number: 94\n",
      "Number: 96\n",
      "Number: 98\n"
     ]
    }
   ],
   "source": [
    "# PUT YOUR SOLUTION HERE\n",
    "for i in range (2, 99, 2):\n",
    "    print(f\"Number: {i}\")"
   ]
  }
 ],
 "metadata": {
  "kernelspec": {
   "display_name": "base",
   "language": "python",
   "name": "python3"
  },
  "language_info": {
   "codemirror_mode": {
    "name": "ipython",
    "version": 3
   },
   "file_extension": ".py",
   "mimetype": "text/x-python",
   "name": "python",
   "nbconvert_exporter": "python",
   "pygments_lexer": "ipython3",
   "version": "3.12.7"
  }
 },
 "nbformat": 4,
 "nbformat_minor": 4
}
