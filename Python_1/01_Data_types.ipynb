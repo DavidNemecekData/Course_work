{
 "cells": [
  {
   "cell_type": "markdown",
   "metadata": {},
   "source": [
    "### Data types > Data types\n",
    "\n",
    "Create 5 variables and put the following data into them:\n",
    "\n",
    "* an integer,\n",
    "* a floating point number,\n",
    "* a string (text)\n",
    "* a multi-line string,\n",
    "* a Boolean value.\n",
    "\n",
    "Add an appropriate comment to each variable , stating what type of data it stores.\n",
    "\n",
    "Display each variable using the `print` function, in the form of:\n",
    "\n",
    "`Variable <variable> of the <type> type`.\n",
    "\n",
    "> Hint: the `type()` function is used to get the type."
   ]
  },
  {
   "cell_type": "code",
   "execution_count": 2,
   "metadata": {},
   "outputs": [],
   "source": [
    "# PUT YOUR SOLUTION HERE"
   ]
  },
  {
   "cell_type": "code",
   "execution_count": 3,
   "metadata": {},
   "outputs": [
    {
     "name": "stdout",
     "output_type": "stream",
     "text": [
      "Variable number_of_cats is - <class 'int'>\n"
     ]
    }
   ],
   "source": [
    "# INT\n",
    "number_of_cats = 3\n",
    "result = f\"Variable number_of_cats is - {type(number_of_cats)}\"\n",
    "print(result)"
   ]
  },
  {
   "cell_type": "code",
   "execution_count": 8,
   "metadata": {},
   "outputs": [
    {
     "name": "stdout",
     "output_type": "stream",
     "text": [
      "Variables cats_weight are float, float, and float type.\n"
     ]
    }
   ],
   "source": [
    "# FLOAT\n",
    "cat_1_weight = 6.2\n",
    "cat_2_weight = 5.3\n",
    "cat_3_weight = 4.9\n",
    "\n",
    "type_cat_1_weight = type(cat_1_weight).__name__\n",
    "type_cat_2_weight = type(cat_2_weight).__name__\n",
    "type_cat_3_weight = type(cat_3_weight).__name__\n",
    "result = f\"Variables cats_weight are {type_cat_1_weight}, {type_cat_2_weight}, and {type_cat_3_weight} type.\"\n",
    "print(result)"
   ]
  },
  {
   "cell_type": "code",
   "execution_count": 9,
   "metadata": {},
   "outputs": [
    {
     "name": "stdout",
     "output_type": "stream",
     "text": [
      "Variable evaluation is str type.\n"
     ]
    }
   ],
   "source": [
    "# A STRING \n",
    "evaluation = \"Weight of cats is normal\"\n",
    "result = f\"Variable evaluation is {type(evaluation).__name__} type.\"\n",
    "print(result)"
   ]
  },
  {
   "cell_type": "code",
   "execution_count": 10,
   "metadata": {},
   "outputs": [
    {
     "name": "stdout",
     "output_type": "stream",
     "text": [
      "Cat wants \n",
      "more food\n",
      "Variable text is str type.\n"
     ]
    }
   ],
   "source": [
    "# A MULTI-LINE STRING\n",
    "text = \"Cat wants \\nmore food\"\n",
    "result = f\"Variable text is {type(text).__name__} type.\"\n",
    "print(text)\n",
    "print(result)"
   ]
  },
  {
   "cell_type": "code",
   "execution_count": 12,
   "metadata": {},
   "outputs": [
    {
     "name": "stdout",
     "output_type": "stream",
     "text": [
      "True\n",
      "False\n",
      "Variable hungry_cat and happy_cat are bool and bool type.\n"
     ]
    }
   ],
   "source": [
    "# BOOLEAN VALUE\n",
    "hungry_cat = True\n",
    "happy_cat = False\n",
    "type_hungry_cat = type(hungry_cat).__name__\n",
    "type_happy_cat = type(happy_cat).__name__\n",
    "print(hungry_cat)\n",
    "print(happy_cat)\n",
    "result = f\"Variable hungry_cat and happy_cat are {type_hungry_cat} and {type_happy_cat} type.\"\n",
    "print(result)"
   ]
  },
  {
   "cell_type": "code",
   "execution_count": null,
   "metadata": {},
   "outputs": [],
   "source": []
  }
 ],
 "metadata": {
  "kernelspec": {
   "display_name": "base",
   "language": "python",
   "name": "python3"
  },
  "language_info": {
   "codemirror_mode": {
    "name": "ipython",
    "version": 3
   },
   "file_extension": ".py",
   "mimetype": "text/x-python",
   "name": "python",
   "nbconvert_exporter": "python",
   "pygments_lexer": "ipython3",
   "version": "3.12.7"
  }
 },
 "nbformat": 4,
 "nbformat_minor": 4
}
