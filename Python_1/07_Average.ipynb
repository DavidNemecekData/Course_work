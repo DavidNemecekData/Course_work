{
 "cells": [
  {
   "cell_type": "markdown",
   "metadata": {},
   "source": [
    "### Flow control > Average\n",
    "\n",
    "Write a program, that will:\n",
    "\n",
    "* write any numbers to a list stored in the `numbers` variable,\n",
    "* count their sum and average,\n",
    "* write these numbers out on the screen,\n",
    "* compare the average and the sum with each other and displays the result of the comparison.\n",
    "\n",
    "Solution template:\n",
    "```\n",
    "Entered numbers: <numbers>\n",
    "sum: <value>,\n",
    "average: <value>\n",
    "The sum is greater!\n",
    "```"
   ]
  },
  {
   "cell_type": "code",
   "execution_count": 4,
   "metadata": {},
   "outputs": [
    {
     "name": "stdout",
     "output_type": "stream",
     "text": [
      "Entered numbers: [5.0, 5.0, 5.0]\n",
      "sum: 15.0,\n",
      "average: 5.0\n",
      "The sum is greater!\n"
     ]
    }
   ],
   "source": [
    "# User input\n",
    "user_input = input(\"Write numbers (separated by commas): \")\n",
    "\n",
    "# Convert input to a list of numbers\n",
    "numbers = [float(number.strip()) for number in user_input.split(',')]\n",
    "\n",
    "# Calculate sum and average\n",
    "total_sum = sum(numbers)\n",
    "average = total_sum / len(numbers)\n",
    "\n",
    "# Display the results\n",
    "print(f\"Entered numbers: {numbers}\")\n",
    "print(f\"sum: {total_sum},\\naverage: {average}\")\n",
    "\n",
    "# Compare sum and average\n",
    "if total_sum > average:\n",
    "    print(\"The sum is greater!\")\n",
    "elif total_sum < average:\n",
    "    print(\"The sum is smaller!\")\n",
    "else:\n",
    "    print(\"The sum and average are equal!\")"
   ]
  }
 ],
 "metadata": {
  "kernelspec": {
   "display_name": "base",
   "language": "python",
   "name": "python3"
  },
  "language_info": {
   "codemirror_mode": {
    "name": "ipython",
    "version": 3
   },
   "file_extension": ".py",
   "mimetype": "text/x-python",
   "name": "python",
   "nbconvert_exporter": "python",
   "pygments_lexer": "ipython3",
   "version": "3.12.7"
  }
 },
 "nbformat": 4,
 "nbformat_minor": 4
}
