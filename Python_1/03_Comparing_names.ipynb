{
 "cells": [
  {
   "cell_type": "markdown",
   "metadata": {},
   "source": [
    "### Flow control > Comparing names\n",
    "\n",
    "Using the `if` conditional, write a program, that will:\n",
    "\n",
    "* get the first name from the user and into the `first_name` variable,\n",
    "* get  the second name from the user and into the `second_name` variable,\n",
    "* display `The same` on the screen, if the names are the same or `Different`, if they are not."
   ]
  },
  {
   "cell_type": "code",
   "execution_count": 1,
   "metadata": {},
   "outputs": [
    {
     "name": "stdout",
     "output_type": "stream",
     "text": [
      "Different\n"
     ]
    }
   ],
   "source": [
    "# PUT YOUR SOLUTION HERE\n",
    "first_name = input(\"Your first name\")\n",
    "last_name = input(\"Your last name\")\n",
    "if first_name == last_name:\n",
    "    print(\"The same\")\n",
    "elif first_name != last_name:\n",
    "    print(\"Different\")"
   ]
  }
 ],
 "metadata": {
  "kernelspec": {
   "display_name": "base",
   "language": "python",
   "name": "python3"
  },
  "language_info": {
   "codemirror_mode": {
    "name": "ipython",
    "version": 3
   },
   "file_extension": ".py",
   "mimetype": "text/x-python",
   "name": "python",
   "nbconvert_exporter": "python",
   "pygments_lexer": "ipython3",
   "version": "3.12.7"
  }
 },
 "nbformat": 4,
 "nbformat_minor": 4
}
