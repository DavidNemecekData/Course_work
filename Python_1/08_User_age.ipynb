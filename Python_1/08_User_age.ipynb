{
 "cells": [
  {
   "cell_type": "markdown",
   "metadata": {},
   "source": [
    "### Standard Library > User age\n",
    "\n",
    "Write a program, that will:\n",
    "\n",
    "*    assign the name of the user to the `name` variable,\n",
    "*    assign birthday year of the user to the `year` variable,\n",
    "*    convert the user's year of birth into a **number**,\n",
    "*    calculate the user's current age and write it to the variable `age`\n",
    "*    display a message with the user's name and current age, formatted as:\n",
    "\n",
    "```\n",
    "User: <name> is <age> years old.\n",
    "```"
   ]
  },
  {
   "cell_type": "code",
   "execution_count": 1,
   "metadata": {},
   "outputs": [
    {
     "name": "stdout",
     "output_type": "stream",
     "text": [
      "User: David is 38 years old.\n"
     ]
    }
   ],
   "source": [
    "# PUT YOUR SOLUTION HERE\n",
    "user_name = input(\"Your name\")\n",
    "user_year = input(\"Your birthday year\")\n",
    "user_year_value = int(user_year)\n",
    "current_year = 2024\n",
    "user_age = current_year - user_year_value\n",
    "print(f\"User: {user_name} is {user_age} years old.\")"
   ]
  }
 ],
 "metadata": {
  "kernelspec": {
   "display_name": "base",
   "language": "python",
   "name": "python3"
  },
  "language_info": {
   "codemirror_mode": {
    "name": "ipython",
    "version": 3
   },
   "file_extension": ".py",
   "mimetype": "text/x-python",
   "name": "python",
   "nbconvert_exporter": "python",
   "pygments_lexer": "ipython3",
   "version": "3.12.7"
  }
 },
 "nbformat": 4,
 "nbformat_minor": 4
}
