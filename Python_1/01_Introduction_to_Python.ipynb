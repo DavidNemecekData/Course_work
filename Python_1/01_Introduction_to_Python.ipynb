{
 "cells": [
  {
   "attachments": {},
   "cell_type": "markdown",
   "metadata": {},
   "source": [
    "# Introduction to Python\n",
    "\n",
    "## Helping an English teacher"
   ]
  },
  {
   "cell_type": "code",
   "execution_count": 1,
   "metadata": {
    "editable": true,
    "slideshow": {
     "slide_type": ""
    },
    "tags": []
   },
   "outputs": [
    {
     "name": "stdout",
     "output_type": "stream",
     "text": [
      "Checked 9 question\n",
      "Student got 5 answers right out of 9 questions\n"
     ]
    }
   ],
   "source": [
    "# Variables initialization with data\n",
    "key_answers = ['a', 'b', 'a', 'c', 'd', 'a', 'c', 'a', 'b']\n",
    "student_answers = ['d', 'b', 'a', 'a', 'a', 'a', 'd', 'a', 'b']\n",
    "\n",
    "# Variables needed for program logic\n",
    "good_answers = 0\n",
    "answers_length = len(key_answers)\n",
    "\n",
    "# for loop iterating through both lists\n",
    "for i in range(answers_length):\n",
    "    # We check if elements on i-th position are the same\n",
    "    if(key_answers[i] == student_answers[i]):\n",
    "        # If they are the same we increment good_answers\n",
    "        good_answers = good_answers + 1\n",
    "\n",
    "# We add 1 here because computer indexes from 0.\n",
    "print(f\"Checked {i+1} question\")\n",
    "print(f\"Student got {good_answers} answers right out of {answers_length} questions\")"
   ]
  }
 ],
 "metadata": {
  "kernelspec": {
   "display_name": "base",
   "language": "python",
   "name": "python3"
  },
  "language_info": {
   "codemirror_mode": {
    "name": "ipython",
    "version": 3
   },
   "file_extension": ".py",
   "mimetype": "text/x-python",
   "name": "python",
   "nbconvert_exporter": "python",
   "pygments_lexer": "ipython3",
   "version": "3.12.7"
  }
 },
 "nbformat": 4,
 "nbformat_minor": 4
}
