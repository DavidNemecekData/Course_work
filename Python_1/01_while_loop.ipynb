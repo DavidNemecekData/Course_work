{
 "cells": [
  {
   "cell_type": "markdown",
   "metadata": {},
   "source": [
    "### Flow control > `while` loop\n",
    "\n",
    "Using a `while` loop, write a program that displays the folling message 10 times:\n",
    "\n",
    "```\n",
    "I'm a Pyth0n pr0gramm3r!\n",
    "```"
   ]
  },
  {
   "cell_type": "code",
   "execution_count": 2,
   "metadata": {},
   "outputs": [
    {
     "name": "stdout",
     "output_type": "stream",
     "text": [
      "I'm a Python programer!\n",
      "I'm a Python programer!\n",
      "I'm a Python programer!\n",
      "I'm a Python programer!\n",
      "I'm a Python programer!\n",
      "I'm a Python programer!\n",
      "I'm a Python programer!\n",
      "I'm a Python programer!\n",
      "I'm a Python programer!\n",
      "I'm a Python programer!\n"
     ]
    }
   ],
   "source": [
    "# PUT YOUR SOLUTION HERE\n",
    "i = 0\n",
    "while i < 10:\n",
    "    print(\"I'm a Python programer!\")\n",
    "    i += 1"
   ]
  }
 ],
 "metadata": {
  "kernelspec": {
   "display_name": "base",
   "language": "python",
   "name": "python3"
  },
  "language_info": {
   "codemirror_mode": {
    "name": "ipython",
    "version": 3
   },
   "file_extension": ".py",
   "mimetype": "text/x-python",
   "name": "python",
   "nbconvert_exporter": "python",
   "pygments_lexer": "ipython3",
   "version": "3.12.7"
  }
 },
 "nbformat": 4,
 "nbformat_minor": 4
}
