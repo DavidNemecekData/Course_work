{
 "cells": [
  {
   "cell_type": "markdown",
   "metadata": {},
   "source": [
    "### Flow control > Quadratic equation\n",
    "\n",
    "Write a program, that will help high school students count the roots of quadratic equations. The program:\n",
    "\n",
    "*    is to display a message on the screen: The equation: `a*x**2 + b*x + c == 0`, **(as a markdown cell)**\n",
    "*    takes from the user, and appropriately stores the values for variables: `a`, `b`, `c`,\n",
    "*    calculates `delta`,\n",
    "*    if `delta > 0`, calculates the `x_1` and `x_2` values and displays them as:\n",
    "```\n",
    "Primes of quadratic equation:\n",
    "x_1 = <value>\n",
    "x_2 = <value>\n",
    "```\n",
    "* if `delta = 0`, calculates the `x_1` and `x_2` values and displays them on the screen as:\n",
    "```\n",
    "Primes of quadratic equation:\n",
    "x_1 = x_2 = <value>\n",
    "```\n",
    "* if the delta is negative, it will print the corresponding information on the screen.\n",
    "\n",
    "> Hint: You can find this information in the LMS under Course introduction > Preparing for Data Science course > Python and Jupyter Notebook installation."
   ]
  },
  {
   "cell_type": "markdown",
   "metadata": {},
   "source": [
    "### The equation: a*x**2 + b*x + c == 0"
   ]
  },
  {
   "cell_type": "code",
   "execution_count": 3,
   "metadata": {},
   "outputs": [
    {
     "name": "stdout",
     "output_type": "stream",
     "text": [
      "Roots of the quadratic equation:\n",
      "x_1 = -0.5\n",
      "x_2 = -2.0\n"
     ]
    }
   ],
   "source": [
    "a = input(\"coefficient a = \")\n",
    "b = input(\"coefficient b = \")\n",
    "c = input(\"coefficient c = \")\n",
    "\n",
    "a = float(a)\n",
    "b = float(b)\n",
    "c = float(c)\n",
    "\n",
    "delta = b ** 2 - 4 * a * c\n",
    "\n",
    "if delta > 0:\n",
    "    x_1 = (-b + delta ** 0.5) / (2 * a)\n",
    "    x_2 = (-b - delta ** 0.5) / (2 * a)\n",
    "    print(f\"Roots of the quadratic equation:\\nx_1 = {x_1}\\nx_2 = {x_2}\")\n",
    "elif delta == 0:\n",
    "    x = -b / (2 * a)\n",
    "    print(f\"Roots of the quadratic equation:\\nx_1 = x_2 = {x}\")\n",
    "else:\n",
    "    real_part = -b / (2 * a)\n",
    "    imaginary_part = (abs(delta) ** 0.5) / (2 * a)\n",
    "    print(f\"The quadratic equation has two complex roots:\")\n",
    "    print(f\"x_1 = {real_part} + {imaginary_part}i\")\n",
    "    print(f\"x_2 = {real_part} - {imaginary_part}i\")"
   ]
  }
 ],
 "metadata": {
  "kernelspec": {
   "display_name": "base",
   "language": "python",
   "name": "python3"
  },
  "language_info": {
   "codemirror_mode": {
    "name": "ipython",
    "version": 3
   },
   "file_extension": ".py",
   "mimetype": "text/x-python",
   "name": "python",
   "nbconvert_exporter": "python",
   "pygments_lexer": "ipython3",
   "version": "3.12.7"
  }
 },
 "nbformat": 4,
 "nbformat_minor": 4
}
