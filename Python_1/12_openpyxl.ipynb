{
 "cells": [
  {
   "cell_type": "markdown",
   "metadata": {},
   "source": [
    "## Exercise 1\n",
    "\n",
    "The exercise consist in installing the `openpyxl` library, and than taking some information from the prepared worksheet. Part of the code is already written and only needs to be completed."
   ]
  },
  {
   "cell_type": "code",
   "execution_count": 5,
   "metadata": {},
   "outputs": [],
   "source": [
    "from openpyxl import load_workbook"
   ]
  },
  {
   "cell_type": "code",
   "execution_count": 6,
   "metadata": {},
   "outputs": [],
   "source": [
    "demo = load_workbook(filename='demo.xlsx', read_only=True)\n",
    "sheet = demo['Sheet1']"
   ]
  },
  {
   "cell_type": "code",
   "execution_count": 3,
   "metadata": {},
   "outputs": [],
   "source": [
    "# here, to the \"cells\" list, add the strings: A1, B4, C2, A2, B3, C1, A3\n",
    "cells = [\"A1\", \"B4\", \"C2\", \"A2\", \"B3\", \"C1\", \"A3\"]"
   ]
  },
  {
   "cell_type": "code",
   "execution_count": 4,
   "metadata": {},
   "outputs": [
    {
     "name": "stdout",
     "output_type": "stream",
     "text": [
      "Become\n",
      "an expert in\n",
      "analysis\n",
      "data\n",
      "by\n",
      "learning\n",
      "Python!\n"
     ]
    }
   ],
   "source": [
    "for cell in cells:\n",
    "    print(sheet[cell].value)"
   ]
  },
  {
   "cell_type": "code",
   "execution_count": null,
   "metadata": {},
   "outputs": [],
   "source": []
  }
 ],
 "metadata": {
  "kernelspec": {
   "display_name": "base",
   "language": "python",
   "name": "python3"
  },
  "language_info": {
   "codemirror_mode": {
    "name": "ipython",
    "version": 3
   },
   "file_extension": ".py",
   "mimetype": "text/x-python",
   "name": "python",
   "nbconvert_exporter": "python",
   "pygments_lexer": "ipython3",
   "version": "3.12.7"
  }
 },
 "nbformat": 4,
 "nbformat_minor": 4
}
