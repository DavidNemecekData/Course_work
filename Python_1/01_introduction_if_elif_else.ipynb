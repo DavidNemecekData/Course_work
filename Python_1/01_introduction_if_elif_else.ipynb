{
 "cells": [
  {
   "cell_type": "code",
   "execution_count": 3,
   "id": "45bcb144-a9fa-45a5-a996-6a02945065d5",
   "metadata": {},
   "outputs": [
    {
     "name": "stdout",
     "output_type": "stream",
     "text": [
      "Are you sure you want a plain pizza?\n"
     ]
    }
   ],
   "source": [
    "requested_toppings = []\n",
    "if requested_toppings:\n",
    "    for requested_topping in requested_toppings:\n",
    "        print(f\"Adding {requested_topping}.\")\n",
    "        print(\"\\nFinished making your pizza!\")\n",
    "else:\n",
    "    print(\"Are you sure you want a plain pizza?\")"
   ]
  },
  {
   "cell_type": "code",
   "execution_count": 5,
   "id": "c7fd1416-9f46-482a-a611-6897d5469842",
   "metadata": {},
   "outputs": [
    {
     "name": "stdout",
     "output_type": "stream",
     "text": [
      "Adding mushrooms.\n",
      "Sorry, we don't have french fries.\n",
      "Adding extra cheese.\n",
      "\n",
      "Finished making your pizza!\n"
     ]
    }
   ],
   "source": [
    "available_toppings = ['mushrooms', 'olives', 'green peppers',\n",
    "    'pepperoni', 'pineapple', 'extra cheese']\n",
    "requested_toppings = ['mushrooms', 'french fries', 'extra cheese']\n",
    "for requested_topping in requested_toppings:\n",
    "    if requested_topping in available_toppings:\n",
    "        print(f\"Adding {requested_topping}.\")\n",
    "    else:\n",
    "        print(f\"Sorry, we don't have {requested_topping}.\")\n",
    "print(\"\\nFinished making your pizza!\")"
   ]
  },
  {
   "cell_type": "code",
   "execution_count": 7,
   "id": "614e0a5e-0222-444a-800c-dd866134d6eb",
   "metadata": {},
   "outputs": [],
   "source": [
    "# if exercise 1\n",
    "list_surname = []\n",
    "for name in list_surname:\n",
    "    if name == 'admin':\n",
    "        print(f\"Hello {name}, do you want a report?\")\n",
    "    else:\n",
    "        print(f\"Hello {name}, nice to see you again!\")"
   ]
  },
  {
   "cell_type": "code",
   "execution_count": 9,
   "id": "75fcae1c-b4bc-4aba-9685-70472d7444f4",
   "metadata": {},
   "outputs": [
    {
     "name": "stdout",
     "output_type": "stream",
     "text": [
      "We need some users\n"
     ]
    }
   ],
   "source": [
    "if list_surname:\n",
    "    for name in list_surname:\n",
    "        if name == 'admin':\n",
    "            print(f\"Hello {name}, do you want a report?\")\n",
    "        else:\n",
    "            print(f\"Hello {name}, nice to see you again!\")\n",
    "else:\n",
    "    print('We need some users')"
   ]
  },
  {
   "cell_type": "code",
   "execution_count": 13,
   "id": "d9a2eb45-b165-474a-8fbb-16548a468d98",
   "metadata": {},
   "outputs": [
    {
     "name": "stdout",
     "output_type": "stream",
     "text": [
      "Nemecek is already used!\n",
      "Nemeckova is already used!\n"
     ]
    }
   ],
   "source": [
    "current_users = ['Nemecek', 'Szabo', 'Nemeckova', 'Pelc', 'Pelcova']\n",
    "new_users = ['Nemecek', 'Nemeckova', 'Filip', 'Jaroslav', 'Dana']\n",
    "for user in new_users:\n",
    "    if user in current_users:\n",
    "        print(f\"{user} is already used!\")"
   ]
  }
 ],
 "metadata": {
  "kernelspec": {
   "display_name": "Python 3 (ipykernel)",
   "language": "python",
   "name": "python3"
  },
  "language_info": {
   "codemirror_mode": {
    "name": "ipython",
    "version": 3
   },
   "file_extension": ".py",
   "mimetype": "text/x-python",
   "name": "python",
   "nbconvert_exporter": "python",
   "pygments_lexer": "ipython3",
   "version": "3.12.4"
  }
 },
 "nbformat": 4,
 "nbformat_minor": 5
}
