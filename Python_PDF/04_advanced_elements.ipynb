{
 "cells": [
  {
   "cell_type": "markdown",
   "id": "controlling-hepatitis",
   "metadata": {},
   "source": [
    "Write a script that will generate a simple document - an equipment transfer protocol. Get the current date automatically, and the rest of the information including the Company Tax Id (NIP) and registration number (REGON) and the employee personal id number (PESEL) from variables defined below. Style the individual elements as you see fit. Save the document as `protocol.pdf`.\n",
    "\n",
    "Document sample:\n",
    "```\n",
    "                                PLACE, DATE\n",
    "            Employee equipment agreement\n",
    "\n",
    "Employer:\n",
    "NAME OF COMPANY\n",
    "COMPANY ADDRESS\n",
    "NIP: ...\n",
    "REGON: ...\n",
    "\n",
    "Employee:\n",
    "NAME AND SURNAME\n",
    "PESEL\n",
    "\n",
    "The following equipment was handed over on DATE:\n",
    "- ITEM 1\n",
    "- ITEM 2\n",
    "- ITEM 3\n",
    "\n",
    "\n",
    "\n",
    "................................\n",
    "Date and employer signature\n",
    "\n",
    "\n",
    "\n",
    "\n",
    "\n",
    "................................\n",
    "Date and employee signature\n",
    "```"
   ]
  },
  {
   "cell_type": "code",
   "execution_count": 12,
   "id": "bbc27a70-314a-472e-8111-916078c94cb2",
   "metadata": {},
   "outputs": [],
   "source": [
    "from reportlab.platypus import SimpleDocTemplate, Paragraph, Spacer, PageBreak\n",
    "from reportlab.lib.styles import ParagraphStyle\n",
    "import reportlab.lib.pagesizes as sizes\n",
    "import reportlab.lib.enums as positions\n",
    "from datetime import datetime"
   ]
  },
  {
   "cell_type": "code",
   "execution_count": 13,
   "id": "b990b42f",
   "metadata": {},
   "outputs": [],
   "source": [
    "CITY = 'Warszawa'\n",
    "COMPANY_NAME = 'Sample company name'\n",
    "COMPANY_ADDRESS = 'Company address'\n",
    "COMPANY_NIP = '9898767654'\n",
    "COMPANY_REGON = '565434321'\n",
    "\n",
    "EMPLOYEE_NAME = 'John Connor'\n",
    "EMPLOYEE_PESEL = '89122145345'\n",
    "\n",
    "HARDWARE = ['Laptop XYZ ABC with a serial number: RTY7890', 'Keyboard', 'Mouse']"
   ]
  },
  {
   "cell_type": "code",
   "execution_count": 14,
   "id": "5e648d87",
   "metadata": {},
   "outputs": [],
   "source": [
    "current_date = datetime.now().strftime(\"%d-%m-%Y\")"
   ]
  },
  {
   "cell_type": "code",
   "execution_count": 15,
   "id": "a61bb1b3",
   "metadata": {},
   "outputs": [],
   "source": [
    "doc = SimpleDocTemplate('protocol.pdf', pagesize=sizes.A4, rightMargin=72, leftMargin=72, topMargin=72, bottomMargin=18)"
   ]
  },
  {
   "cell_type": "code",
   "execution_count": 16,
   "id": "0dd30ded",
   "metadata": {},
   "outputs": [],
   "source": [
    "# Define styles\n",
    "title_style = ParagraphStyle(name=\"Title Style\", fontName=\"Helvetica-Bold\", fontSize=18, alignment=positions.TA_CENTER, spaceAfter=12)\n",
    "header_style = ParagraphStyle(name=\"Header Style\", fontName=\"Helvetica-Bold\", fontSize=14, alignment=positions.TA_LEFT, spaceAfter=6)\n",
    "paragraph_style = ParagraphStyle(name=\"Paragraph Style\", fontName=\"Helvetica\", fontSize=12, alignment=positions.TA_LEFT, spaceAfter=6)\n",
    "sub_paragraph_style = ParagraphStyle(name=\"Sub Paragraph Style\", fontName=\"Helvetica\", fontSize=12, alignment=positions.TA_LEFT, spaceAfter=4)\n",
    "right_aligned_style = ParagraphStyle(name=\"Right Aligned Style\", fontName=\"Helvetica\", fontSize=12, alignment=positions.TA_RIGHT, spaceAfter=4)"
   ]
  },
  {
   "cell_type": "code",
   "execution_count": 17,
   "id": "a7b9fb70",
   "metadata": {},
   "outputs": [],
   "source": [
    "story = []"
   ]
  },
  {
   "cell_type": "code",
   "execution_count": 18,
   "id": "504793b6",
   "metadata": {},
   "outputs": [],
   "source": [
    "# Title section\n",
    "story.append(Paragraph(f'{CITY}, {current_date}', title_style))\n",
    "story.append(Spacer(1, 24))\n",
    "story.append(Paragraph('Employee Equipment Agreement', title_style))\n",
    "story.append(Spacer(1, 36))\n",
    "\n",
    "# Employer section\n",
    "story.append(Paragraph('Employer:', header_style))\n",
    "story.append(Paragraph(f\"{COMPANY_NAME}\", paragraph_style))\n",
    "story.append(Paragraph(f\"Address: {COMPANY_ADDRESS}\", paragraph_style))\n",
    "story.append(Paragraph(f\"NIP: {COMPANY_NIP}\", paragraph_style))\n",
    "story.append(Paragraph(f\"REGON: {COMPANY_REGON}\", paragraph_style))\n",
    "story.append(Spacer(1, 24))\n",
    "\n",
    "# Employee section\n",
    "story.append(Paragraph('Employee:', header_style))\n",
    "story.append(Paragraph(f\"Name: {EMPLOYEE_NAME}\", paragraph_style))\n",
    "story.append(Paragraph(f\"PESEL: {EMPLOYEE_PESEL}\", paragraph_style))\n",
    "story.append(Spacer(1, 24))\n",
    "\n",
    "# Equipment section\n",
    "story.append(Paragraph('The following equipment was handed over on ' + current_date + ':', header_style))\n",
    "story.append(Spacer(1, 12))\n",
    "for item in HARDWARE:\n",
    "    story.append(Paragraph(f\"- {item}\", sub_paragraph_style))\n",
    "story.append(Spacer(1, 36))\n",
    "\n",
    "# Signature section\n",
    "story.append(Spacer(1, 36))\n",
    "story.append(Paragraph('................................', right_aligned_style))\n",
    "story.append(Paragraph('Date and Employer Signature', right_aligned_style))\n",
    "\n",
    "story.append(Spacer(1, 36))\n",
    "story.append(Paragraph('................................', right_aligned_style))\n",
    "story.append(Paragraph('Date and Employee Signature', right_aligned_style))\n",
    "\n",
    "# Build the document\n",
    "doc.build(story)"
   ]
  }
 ],
 "metadata": {
  "kernelspec": {
   "display_name": "base",
   "language": "python",
   "name": "python3"
  },
  "language_info": {
   "codemirror_mode": {
    "name": "ipython",
    "version": 3
   },
   "file_extension": ".py",
   "mimetype": "text/x-python",
   "name": "python",
   "nbconvert_exporter": "python",
   "pygments_lexer": "ipython3",
   "version": "3.12.7"
  }
 },
 "nbformat": 4,
 "nbformat_minor": 5
}
