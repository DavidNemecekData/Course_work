{
 "cells": [
  {
   "cell_type": "markdown",
   "id": "orange-shelf",
   "metadata": {},
   "source": [
    "Use the `reportlab` library to generate the PDF with the title page of the report:\n",
    "- in a larger font, in 1/3 of the page height and with a margin on the left, place the title of the report (if you don't have an idea for it, just put \"Report Title\"),\n",
    "- in 2/3 of the page height and with the same margin as the title, put your name,\n",
    "- just below the name and surname, in smaller font, add \"Copyright `[YEAR]` Company Name. All rights reserved.\" Do not enter a fixed year, use the `datetime` module to get the current year instead.\n",
    "\n",
    "As before, each caption should be created with a separate call to the 'drawString' method."
   ]
  },
  {
   "cell_type": "code",
   "execution_count": 2,
   "id": "ba5c6ccb",
   "metadata": {},
   "outputs": [],
   "source": [
    "from reportlab.lib.pagesizes import letter\n",
    "from reportlab.pdfgen import canvas\n",
    "import datetime"
   ]
  },
  {
   "cell_type": "code",
   "execution_count": 3,
   "id": "impressed-trout",
   "metadata": {},
   "outputs": [],
   "source": [
    "def generate_title_page(filename):\n",
    "    c = canvas.Canvas(filename, pagesize=letter)\n",
    "    \n",
    "    # Get the current date\n",
    "    current_year = datetime.datetime.now().year\n",
    "    \n",
    "    # Set the font and font size\n",
    "    c.setFont(\"Helvetica-Bold\", 24)\n",
    "    \n",
    "    # Position for title\n",
    "    x_offset = 72\n",
    "    y_offset_title = 500\n",
    "    \n",
    "    # Report title\n",
    "    c.drawString(x_offset, y_offset_title, \"Report Title\")\n",
    "    \n",
    "    # Set the font for  name\n",
    "    c.setFont(\"Helvetica\", 18)\n",
    "    \n",
    "    # Position for name\n",
    "    y_offset_name = 300\n",
    "    \n",
    "    # Draw the name\n",
    "    c.drawString(x_offset, y_offset_name, \"David Nemecek\")\n",
    "    \n",
    "    # Set the font for copyright text\n",
    "    c.setFont(\"Helvetica\", 10)\n",
    "    \n",
    "    # Position for copyright text\n",
    "    y_offset_copyright = 270\n",
    "    \n",
    "    # Draw copyright\n",
    "    c.drawString(x_offset, y_offset_copyright, f\"Copyright {current_year} Company Name. All rights reserved.\")\n",
    "    \n",
    "    # Save the PDF\n",
    "    c.save()"
   ]
  },
  {
   "cell_type": "code",
   "execution_count": 4,
   "id": "5d7b6dc9",
   "metadata": {},
   "outputs": [],
   "source": [
    "generate_title_page(\"title_page_report.pdf\")"
   ]
  }
 ],
 "metadata": {
  "kernelspec": {
   "display_name": "base",
   "language": "python",
   "name": "python3"
  },
  "language_info": {
   "codemirror_mode": {
    "name": "ipython",
    "version": 3
   },
   "file_extension": ".py",
   "mimetype": "text/x-python",
   "name": "python",
   "nbconvert_exporter": "python",
   "pygments_lexer": "ipython3",
   "version": "3.12.7"
  }
 },
 "nbformat": 4,
 "nbformat_minor": 5
}
