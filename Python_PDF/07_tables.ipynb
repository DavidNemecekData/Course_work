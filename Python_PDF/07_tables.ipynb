{
 "cells": [
  {
   "cell_type": "markdown",
   "id": "grand-earthquake",
   "metadata": {},
   "source": [
    "Based on the previous task, write a function that will take the name of the file to generate, the buyer's data and the list of items on the invoice - and then generate and save the invoice in a file with the given name.\n",
    "\n",
    "In the file `invoices data.json` you are going to find data for three invoices – read them in a loop and pass to the function to generate PDF format invoice files. Files should be named `invoice-1.pdf`, `invoice-2.pdf` etc."
   ]
  },
  {
   "cell_type": "code",
   "execution_count": 19,
   "id": "637d0a9d-d9f5-4b3a-b2b7-76d9d3dd5a69",
   "metadata": {},
   "outputs": [],
   "source": [
    "from reportlab.platypus import SimpleDocTemplate, Paragraph, Image, Spacer, Table, PageBreak, TableStyle\n",
    "from reportlab.lib.styles import ParagraphStyle\n",
    "import reportlab.lib.pagesizes as sizes\n",
    "import reportlab.lib.enums as positions\n",
    "from reportlab.lib import colors\n",
    "import json\n"
   ]
  },
  {
   "cell_type": "code",
   "execution_count": 20,
   "id": "9c339e6a-fc25-4052-881d-238c9840afa8",
   "metadata": {},
   "outputs": [],
   "source": [
    "with open('./invoices data.json') as file:\n",
    "    data = json.loads(file.read())"
   ]
  },
  {
   "cell_type": "code",
   "execution_count": 21,
   "id": "024e9737-0708-4da4-9a93-c80a483990e0",
   "metadata": {},
   "outputs": [
    {
     "data": {
      "text/plain": [
       "dict_keys(['invoices'])"
      ]
     },
     "execution_count": 21,
     "metadata": {},
     "output_type": "execute_result"
    }
   ],
   "source": [
    "keys = data.keys()\n",
    "keys"
   ]
  },
  {
   "cell_type": "code",
   "execution_count": 22,
   "id": "897054ba-17c8-4157-9b21-5eae5a97c082",
   "metadata": {},
   "outputs": [
    {
     "data": {
      "text/plain": [
       "{'invoices': [{'date': '1.12.2020',\n",
       "   'buyer': {'name': 'Company XYZ',\n",
       "    'address': 'Company XYZ address',\n",
       "    'nip': 7564984534,\n",
       "    'regon': 324353453},\n",
       "   'items': [{'name': 'Rakes', 'price': 4.5, 'amount': 5},\n",
       "    {'name': 'Watering can', 'price': 15, 'amount': 10},\n",
       "    {'name': 'Spade', 'price': 6, 'amount': 5}]},\n",
       "  {'date': '11.11.2020',\n",
       "   'buyer': {'name': 'Company ABC',\n",
       "    'address': 'Company ABC address',\n",
       "    'nip': 8472058276,\n",
       "    'regon': 437598432},\n",
       "   'items': [{'name': 'Doll', 'price': 39.9, 'amount': 6},\n",
       "    {'name': 'Toy car', 'price': 16.5, 'amount': 4},\n",
       "    {'name': 'Book', 'price': 19.9, 'amount': 10}]},\n",
       "  {'date': '15.12.2020',\n",
       "   'buyer': {'name': 'Company IJK',\n",
       "    'address': 'Company IJK address',\n",
       "    'nip': 7473092210,\n",
       "    'regon': 687432543},\n",
       "   'items': [{'name': 'Rifle', 'price': 25, 'amount': 10},\n",
       "    {'name': 'BB ammo', 'price': 2.5, 'amount': 100}]}]}"
      ]
     },
     "execution_count": 22,
     "metadata": {},
     "output_type": "execute_result"
    }
   ],
   "source": [
    "data"
   ]
  },
  {
   "cell_type": "code",
   "execution_count": 23,
   "id": "55b32cc4-0ffe-432e-ae86-afd4db21c6eb",
   "metadata": {},
   "outputs": [],
   "source": [
    "title_style = ParagraphStyle(name=\"Title Style\", fontName=\"Times-Roman\", fontSize=12, alignment=positions.TA_LEFT)\n",
    "paragraph_style = ParagraphStyle(name=\"Title Style\", fontName=\"Times-Roman\", fontSize=12)\n",
    "paragraph_style_right = ParagraphStyle(name=\"Title Style\", fontName=\"Times-Roman\", fontSize=12, alignment=positions.TA_RIGHT)"
   ]
  },
  {
   "cell_type": "code",
   "execution_count": 24,
   "id": "22ffe42e-3f18-4690-93c1-ef694a64b238",
   "metadata": {},
   "outputs": [
    {
     "data": {
      "text/plain": [
       "{'date': '1.12.2020',\n",
       " 'buyer': {'name': 'Company XYZ',\n",
       "  'address': 'Company XYZ address',\n",
       "  'nip': 7564984534,\n",
       "  'regon': 324353453},\n",
       " 'items': [{'name': 'Rakes', 'price': 4.5, 'amount': 5},\n",
       "  {'name': 'Watering can', 'price': 15, 'amount': 10},\n",
       "  {'name': 'Spade', 'price': 6, 'amount': 5}]}"
      ]
     },
     "execution_count": 24,
     "metadata": {},
     "output_type": "execute_result"
    }
   ],
   "source": [
    "data['invoices'][0]"
   ]
  },
  {
   "cell_type": "code",
   "execution_count": 25,
   "id": "5c349da7-1cb0-4a37-8726-5da7414f617b",
   "metadata": {},
   "outputs": [],
   "source": [
    "city = 'Warsaw'\n",
    "sel_company = 'Company XYZ'\n",
    "sel_company_adr = 'Company adress'\n",
    "sel_vat = 3826549374\n",
    "sel_regon = 709657623"
   ]
  },
  {
   "cell_type": "code",
   "execution_count": 26,
   "id": "b9593bed-ed4f-4f11-a263-7ba21d75802a",
   "metadata": {},
   "outputs": [],
   "source": [
    "ts = TableStyle([\n",
    "    ('GRID', (0, 0), (-1, -1), 0.25, colors.black),\n",
    "    ('FONT', (0, 0), (-1, -1), 'Times-Roman', 12),\n",
    "    ('ALIGN', (2, 1), (-1, -1), 'RIGHT'),\n",
    "])"
   ]
  },
  {
   "cell_type": "code",
   "execution_count": 27,
   "id": "a6b3a075-06ed-43c4-aa9b-fd71a5ba3e44",
   "metadata": {},
   "outputs": [],
   "source": [
    "i = 1\n",
    "for invoice in data['invoices']:\n",
    "    story = []\n",
    "    doc = SimpleDocTemplate(f\"invoice-{i}.pdf\", pagesize=sizes.A4, rightMargin=72, leftMargin=72, topMargin=72, bottomMargin=18)\n",
    "    story.append(Paragraph(f\"Place of issue: {city}\", paragraph_style_right))\n",
    "    story.append(Paragraph(f\"Issue date: {invoice['date']}\", paragraph_style_right))\n",
    "    story.append(Paragraph(f\"Sale date: {invoice['date']}\", paragraph_style_right))\n",
    "    story.append(Paragraph(f\"End date: {invoice['date']}\", paragraph_style_right))\n",
    "    story.append(Spacer(1, 18))\n",
    "\n",
    "    story.append(Paragraph('Seller:', paragraph_style))\n",
    "    story.append(Paragraph(sel_company, paragraph_style))\n",
    "    story.append(Paragraph(sel_company_adr, paragraph_style))\n",
    "    story.append(Paragraph(f\"VAT id (NIP): {sel_vat}\", paragraph_style))\n",
    "    story.append(Paragraph(f\"Company registration no. (REGON): {sel_regon}\", paragraph_style))\n",
    "    story.append(Spacer(1, 18))\n",
    "\n",
    "    story.append(Paragraph('Buyer:', paragraph_style))\n",
    "    story.append(Paragraph(f\"{invoice['buyer']['name']}\", paragraph_style))\n",
    "    story.append(Paragraph(f\"{invoice['buyer']['address']}\", paragraph_style))\n",
    "    story.append(Paragraph(f\"VAT id (NIP): {invoice['buyer']['nip']}\", paragraph_style))\n",
    "    story.append(Paragraph(f\"Company registration no. (REGON): {invoice['buyer']['regon']}\", paragraph_style))\n",
    "    story.append(Spacer(1, 30))\n",
    "\n",
    "    items = []\n",
    "    x = 1\n",
    "    headers = ['No.', 'Item', 'Price', 'Amount', 'Total Price']\n",
    "    items.append(headers)\n",
    "    for item in invoice['items']:\n",
    "        item_values = [x, item['name'], item['price'], item['amount']]\n",
    "        item_total_price = item['price'] * item['amount']\n",
    "        item_values.append(item_total_price)\n",
    "        items.append(item_values)\n",
    "        x += 1 \n",
    "    table_summary_total = sum(item[4] for item in items[1:])\n",
    "    table_summary = ['', '', '', 'Total:', table_summary_total]\n",
    "    items.append(table_summary)\n",
    "    story.append(Table(data = items, style = ts))\n",
    "    story.append(Spacer(1, 80))\n",
    "\n",
    "    story.append(Paragraph(\"................................\", paragraph_style))\n",
    "    story.append(Paragraph(\"Signature of the authorized recipient\", paragraph_style))\n",
    "    story.append(Spacer(1, 80))\n",
    "\n",
    "    story.append(Paragraph(\"................................\", paragraph_style))\n",
    "    story.append(Paragraph(\"Signature of the authorized issuer\", paragraph_style))\n",
    "    doc.build(story)\n",
    "    i = i + 1"
   ]
  }
 ],
 "metadata": {
  "kernelspec": {
   "display_name": "base",
   "language": "python",
   "name": "python3"
  },
  "language_info": {
   "codemirror_mode": {
    "name": "ipython",
    "version": 3
   },
   "file_extension": ".py",
   "mimetype": "text/x-python",
   "name": "python",
   "nbconvert_exporter": "python",
   "pygments_lexer": "ipython3",
   "version": "3.12.7"
  }
 },
 "nbformat": 4,
 "nbformat_minor": 5
}
