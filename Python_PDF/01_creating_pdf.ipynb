{
 "cells": [
  {
   "cell_type": "markdown",
   "id": "national-prospect",
   "metadata": {},
   "source": [
    "With the `reportlab` library generate a PDF with a multiplication table of the numbers from0 to 10 (inclusive). Make the row and column headers - factors - in bold font; do not use bold for the multiplication products.\n",
    "\n",
    "Hint: Create nested **for** loops: outer one with the `x` variable and the inner one with `y` (or the other way round if you want). Use these variables both to calculate the results of multiplication and to calculate where on the page this number should appear."
   ]
  },
  {
   "cell_type": "code",
   "execution_count": null,
   "id": "8add3d30",
   "metadata": {},
   "outputs": [],
   "source": [
    "from reportlab.lib.pagesizes import letter\n",
    "from reportlab.pdfgen import canvas\n",
    "from reportlab.lib import colors"
   ]
  },
  {
   "cell_type": "code",
   "execution_count": 6,
   "id": "dynamic-location",
   "metadata": {},
   "outputs": [],
   "source": [
    "def generate_multiplication_table(filename):\n",
    "    c = canvas.Canvas(filename, pagesize=letter)\n",
    "    \n",
    "    # Set font and font size\n",
    "    c.setFont(\"Helvetica\", 10)\n",
    "    \n",
    "    # Starting position for the table\n",
    "    x_offset = 80  # Shift for the first column\n",
    "    y_offset = 650  # Position for the start of the table on the page\n",
    "    cell_width = 50  # Width of the cells\n",
    "    cell_height = 30  # Height of the cells\n",
    "    \n",
    "    # Create the header for the table (columns)\n",
    "    for x in range(0, 11):  # Column headers (0-10)\n",
    "        c.setFont(\"Helvetica-Bold\", 12)\n",
    "        c.drawString(x_offset + x * cell_width, y_offset, str(x))\n",
    "    \n",
    "    # Create the rows with factors and products\n",
    "    for y in range(0, 11):  # Row headers (0-10)\n",
    "        c.setFont(\"Helvetica-Bold\", 12)\n",
    "        c.drawString(x_offset - cell_width, y_offset - (y + 1) * cell_height, str(y))  # Shift for the first column\n",
    "        \n",
    "        for x in range(0, 11):\n",
    "            result = x * y\n",
    "            if x == 0 or y == 0:  # Factors are bold, not the products\n",
    "                c.setFont(\"Helvetica-Bold\", 12)\n",
    "            else:\n",
    "                c.setFont(\"Helvetica\", 12)\n",
    "            c.drawString(x_offset + x * cell_width, y_offset - (y + 1) * cell_height, str(result))\n",
    "    \n",
    "    # Save the PDF\n",
    "    c.save()"
   ]
  },
  {
   "cell_type": "code",
   "execution_count": 7,
   "id": "9e8eaa49",
   "metadata": {},
   "outputs": [],
   "source": [
    "generate_multiplication_table(\"multiplication_table.pdf\")"
   ]
  }
 ],
 "metadata": {
  "kernelspec": {
   "display_name": "base",
   "language": "python",
   "name": "python3"
  },
  "language_info": {
   "codemirror_mode": {
    "name": "ipython",
    "version": 3
   },
   "file_extension": ".py",
   "mimetype": "text/x-python",
   "name": "python",
   "nbconvert_exporter": "python",
   "pygments_lexer": "ipython3",
   "version": "3.12.7"
  }
 },
 "nbformat": 4,
 "nbformat_minor": 5
}
