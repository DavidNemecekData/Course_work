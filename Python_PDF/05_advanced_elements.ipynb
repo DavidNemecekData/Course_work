{
 "cells": [
  {
   "cell_type": "markdown",
   "id": "exclusive-physiology",
   "metadata": {},
   "source": [
    "Modify the script from the previous exercise - to generate multiple PDFs based on the data from the `equipment.csv` file. Have the new files named `protocol-1.pdf`, `protocol-2.pdf` etc."
   ]
  },
  {
   "cell_type": "code",
   "execution_count": 9,
   "id": "ecb04b83",
   "metadata": {},
   "outputs": [],
   "source": [
    "from reportlab.platypus import SimpleDocTemplate, Paragraph, Spacer\n",
    "from reportlab.lib.styles import ParagraphStyle\n",
    "import reportlab.lib.pagesizes as sizes\n",
    "import pandas as pd"
   ]
  },
  {
   "cell_type": "code",
   "execution_count": 10,
   "id": "6c871e01",
   "metadata": {},
   "outputs": [],
   "source": [
    "df = pd.read_csv('./equipment.csv')"
   ]
  },
  {
   "cell_type": "code",
   "execution_count": 11,
   "id": "cd5da8a6",
   "metadata": {},
   "outputs": [
    {
     "data": {
      "text/html": [
       "<div>\n",
       "<style scoped>\n",
       "    .dataframe tbody tr th:only-of-type {\n",
       "        vertical-align: middle;\n",
       "    }\n",
       "\n",
       "    .dataframe tbody tr th {\n",
       "        vertical-align: top;\n",
       "    }\n",
       "\n",
       "    .dataframe thead th {\n",
       "        text-align: right;\n",
       "    }\n",
       "</style>\n",
       "<table border=\"1\" class=\"dataframe\">\n",
       "  <thead>\n",
       "    <tr style=\"text-align: right;\">\n",
       "      <th></th>\n",
       "      <th>Name</th>\n",
       "      <th>Surname</th>\n",
       "      <th>ID</th>\n",
       "      <th>Item 1</th>\n",
       "      <th>Item 2</th>\n",
       "      <th>Item 3</th>\n",
       "      <th>Item 4</th>\n",
       "    </tr>\n",
       "  </thead>\n",
       "  <tbody>\n",
       "    <tr>\n",
       "      <th>0</th>\n",
       "      <td>Arthur</td>\n",
       "      <td>Newmann</td>\n",
       "      <td>89121234567</td>\n",
       "      <td>Laptop XYZ serial no QWE4567</td>\n",
       "      <td>Keyboard</td>\n",
       "      <td>Mouse</td>\n",
       "      <td>Power Adapter</td>\n",
       "    </tr>\n",
       "    <tr>\n",
       "      <th>1</th>\n",
       "      <td>Mary</td>\n",
       "      <td>Kowalski</td>\n",
       "      <td>97111278978</td>\n",
       "      <td>Laptop ABC serial no 56567878</td>\n",
       "      <td>Keyboard</td>\n",
       "      <td>Mouse</td>\n",
       "      <td>Power Adapter</td>\n",
       "    </tr>\n",
       "    <tr>\n",
       "      <th>2</th>\n",
       "      <td>Joan</td>\n",
       "      <td>Walters</td>\n",
       "      <td>99010123123</td>\n",
       "      <td>Tablet XXY serial no 34234</td>\n",
       "      <td>Charger</td>\n",
       "      <td>Company car – license plate WA98123</td>\n",
       "      <td>NaN</td>\n",
       "    </tr>\n",
       "  </tbody>\n",
       "</table>\n",
       "</div>"
      ],
      "text/plain": [
       "     Name   Surname           ID                         Item 1    Item 2  \\\n",
       "0  Arthur   Newmann  89121234567   Laptop XYZ serial no QWE4567  Keyboard   \n",
       "1    Mary  Kowalski  97111278978  Laptop ABC serial no 56567878  Keyboard   \n",
       "2    Joan   Walters  99010123123     Tablet XXY serial no 34234   Charger   \n",
       "\n",
       "                                Item 3         Item 4  \n",
       "0                                Mouse  Power Adapter  \n",
       "1                                Mouse  Power Adapter  \n",
       "2  Company car – license plate WA98123            NaN  "
      ]
     },
     "execution_count": 11,
     "metadata": {},
     "output_type": "execute_result"
    }
   ],
   "source": [
    "df"
   ]
  },
  {
   "cell_type": "code",
   "execution_count": 12,
   "id": "09f7b160",
   "metadata": {},
   "outputs": [],
   "source": [
    "title_style = ParagraphStyle(name=\"Title Style\", fontName=\"Times-Roman\", fontSize=18, alignment=1)\n",
    "header_style = ParagraphStyle(name=\"Header Style\", fontName=\"Times-Roman\", fontSize=14, alignment=0)\n",
    "paragraph_style = ParagraphStyle(name=\"Paragraph Style\", fontName=\"Times-Roman\", fontSize=12)\n",
    "sub_paragraph_style = ParagraphStyle(name=\"Sub Paragraph Style\", fontName=\"Times-Roman\", fontSize=12, alignment=0)\n",
    "right_aligned_style = ParagraphStyle(name=\"Right Align\", fontName=\"Times-Roman\", fontSize=12, alignment=2)\n"
   ]
  },
  {
   "cell_type": "code",
   "execution_count": 13,
   "id": "b8c1f340",
   "metadata": {},
   "outputs": [],
   "source": [
    "CITY = 'Warszawa'\n",
    "COMPANY_NAME = 'Sample company name'\n",
    "COMPANY_ADDRESS = 'Company address'\n",
    "COMPANY_NIP = '9898767654'\n",
    "COMPANY_REGON = '565434321'"
   ]
  },
  {
   "cell_type": "code",
   "execution_count": 14,
   "id": "01bae8a5",
   "metadata": {},
   "outputs": [],
   "source": [
    "def format_items(row):\n",
    "    items = []\n",
    "    for i in range(1, 5):\n",
    "        item = row.get(f'Item {i}', '')\n",
    "        if pd.notna(item):\n",
    "            items.append(item)\n",
    "    return items"
   ]
  },
  {
   "cell_type": "code",
   "execution_count": 15,
   "metadata": {},
   "outputs": [],
   "source": [
    "i = 1\n",
    "for index, row in df.iterrows():\n",
    "    story = [] \n",
    "\n",
    "    current_date = pd.to_datetime('today').strftime('%Y-%m-%d')\n",
    "    doc = SimpleDocTemplate(f\"protocol-{i}.pdf\", pagesize=sizes.A4, rightMargin=72, leftMargin=72, topMargin=72, bottomMargin=18)\n",
    "\n",
    "    # Title section\n",
    "    story.append(Paragraph(f'{CITY}, {current_date}', title_style))\n",
    "    story.append(Spacer(1, 24))\n",
    "    story.append(Paragraph('Employee Equipment Agreement', title_style))\n",
    "    story.append(Spacer(1, 36))\n",
    "\n",
    "    # Employer section\n",
    "    story.append(Paragraph('Employer:', header_style))\n",
    "    story.append(Paragraph(f\"{COMPANY_NAME}\", paragraph_style))\n",
    "    story.append(Paragraph(f\"Address: {COMPANY_ADDRESS}\", paragraph_style))\n",
    "    story.append(Paragraph(f\"NIP: {COMPANY_NIP}\", paragraph_style))\n",
    "    story.append(Paragraph(f\"REGON: {COMPANY_REGON}\", paragraph_style))\n",
    "    story.append(Spacer(1, 24))\n",
    "\n",
    "    # Employee section\n",
    "    story.append(Paragraph('Employee:', header_style))\n",
    "    story.append(Spacer(1, 8))\n",
    "    story.append(Paragraph(f\"Name: {row['Name']} {row['Surname']}\", paragraph_style))\n",
    "    story.append(Paragraph(f\"PESEL: {row['ID']}\", paragraph_style))\n",
    "    story.append(Spacer(1, 24))\n",
    "\n",
    "    # Equipment section\n",
    "    story.append(Paragraph(f\"The following equipment was handed over on {current_date}:\", header_style))\n",
    "    story.append(Spacer(1, 12))\n",
    "\n",
    "    # Add items\n",
    "    items = format_items(row)\n",
    "    for item in items:\n",
    "        story.append(Paragraph(f\"- {item}\", sub_paragraph_style))\n",
    "    \n",
    "    story.append(Spacer(1, 36))\n",
    "\n",
    "    # Signature section\n",
    "    story.append(Spacer(1, 36))\n",
    "    story.append(Paragraph('................................', right_aligned_style))\n",
    "    story.append(Paragraph('Date and Employer Signature', right_aligned_style))\n",
    "\n",
    "    story.append(Spacer(1, 36))\n",
    "    story.append(Paragraph('................................', right_aligned_style))\n",
    "    story.append(Paragraph('Date and Employee Signature', right_aligned_style))\n",
    "\n",
    "    # Build the document\n",
    "    doc.build(story)\n",
    "    i += 1"
   ]
  }
 ],
 "metadata": {
  "kernelspec": {
   "display_name": "base",
   "language": "python",
   "name": "python3"
  },
  "language_info": {
   "codemirror_mode": {
    "name": "ipython",
    "version": 3
   },
   "file_extension": ".py",
   "mimetype": "text/x-python",
   "name": "python",
   "nbconvert_exporter": "python",
   "pygments_lexer": "ipython3",
   "version": "3.12.7"
  }
 },
 "nbformat": 4,
 "nbformat_minor": 5
}
