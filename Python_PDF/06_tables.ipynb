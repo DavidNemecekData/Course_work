{
 "cells": [
  {
   "cell_type": "markdown",
   "id": "balanced-keeping",
   "metadata": {},
   "source": [
    "Generate a file `invoice.pdf` based on the data given below. Try not to write the data permanently in the code - put it in variables at the beginning of the script, and when adding more elements to the PDF refer to these variables.\n"
   ]
  },
  {
   "cell_type": "code",
   "execution_count": 25,
   "id": "19f9518f",
   "metadata": {},
   "outputs": [],
   "source": [
    "from reportlab.platypus import SimpleDocTemplate, Paragraph, Spacer, Table, TableStyle\n",
    "from reportlab.lib.styles import ParagraphStyle\n",
    "import reportlab.lib.pagesizes as sizes\n",
    "import reportlab.lib.enums as positions\n",
    "from reportlab.lib import colors\n",
    "from datetime import datetime"
   ]
  },
  {
   "cell_type": "code",
   "execution_count": 26,
   "id": "0621f95c",
   "metadata": {},
   "outputs": [],
   "source": [
    "title_style = ParagraphStyle(name=\"Title Style\", fontName=\"Times-Roman\", fontSize=12, alignment=positions.TA_LEFT)\n",
    "paragraph_style = ParagraphStyle(name=\"Paragraph Style\", fontName=\"Times-Roman\", fontSize=12)\n",
    "paragraph_style_right = ParagraphStyle(name=\"Right Align\", fontName=\"Times-Roman\", fontSize=12, alignment=positions.TA_RIGHT)"
   ]
  },
  {
   "cell_type": "code",
   "execution_count": 27,
   "id": "729e24b9",
   "metadata": {},
   "outputs": [],
   "source": [
    "doc = SimpleDocTemplate('invoice.pdf', pagesize=sizes.A4, rightMargin=72, leftMargin=72, topMargin=72, bottomMargin=18)\n",
    "story = []"
   ]
  },
  {
   "cell_type": "code",
   "execution_count": 28,
   "id": "50fe5797",
   "metadata": {},
   "outputs": [],
   "source": [
    "city = 'Warsaw'\n",
    "issue_date = '1.12.2020'\n",
    "sale_date = '1.12.2020'\n",
    "end_date = '1.12.2020'\n",
    "\n",
    "sel_company = 'Company XYZ'\n",
    "sel_company_adr = 'Company address, Warsaw'\n",
    "sel_vat = '3826549374'\n",
    "sel_regon = '709657623'\n",
    "\n",
    "buy_company = 'Company ABC'\n",
    "buy_company_adr = 'Company address, Krakow'\n",
    "buy_vat = '837124657'\n",
    "buy_regon = '459352854'"
   ]
  },
  {
   "cell_type": "code",
   "execution_count": 29,
   "id": "252062e5",
   "metadata": {},
   "outputs": [],
   "source": [
    "table_data = [\n",
    "    [\"No\", \"Goods/Services\", \"Quantity\", \"Unit price\", \"Total price\"],\n",
    "    [1, \"Basket\", 10, \"9 PLN\", \"90 PLN\"],\n",
    "    [2, \"Spade\", 10, \"19 PLN\", \"190 PLN\"],\n",
    "    [\"Total\", \"\", 20, \"280 PLN\", \"2800 PLN\"]\n",
    "]"
   ]
  },
  {
   "cell_type": "code",
   "execution_count": 30,
   "id": "fe7d087a",
   "metadata": {},
   "outputs": [],
   "source": [
    "table_style = TableStyle([\n",
    "    ('ALIGN', (0, 0), (-1, -1), 'CENTER'),\n",
    "    ('GRID', (0, 0), (-1, -1), 0.25, colors.black),\n",
    "    ('FONT', (0, 0), (-1, -1), 'Helvetica', 11),\n",
    "    ('SPAN', (0, -1), (3, -1))\n",
    "])"
   ]
  },
  {
   "cell_type": "code",
   "execution_count": 31,
   "metadata": {},
   "outputs": [],
   "source": [
    "# Add content to the PDF\n",
    "story.append(Paragraph(f\"Place of issue: {city}\", paragraph_style_right))\n",
    "story.append(Paragraph(f\"Issue date: {issue_date}\", paragraph_style_right))\n",
    "story.append(Paragraph(f\"Sale date: {sale_date}\", paragraph_style_right))\n",
    "story.append(Paragraph(f\"End date: {end_date}\", paragraph_style_right))\n",
    "story.append(Spacer(1, 18))\n",
    "\n",
    "# Seller section\n",
    "story.append(Paragraph('Seller:', paragraph_style))\n",
    "story.append(Paragraph(sel_company, paragraph_style))\n",
    "story.append(Paragraph(sel_company_adr, paragraph_style))\n",
    "story.append(Paragraph(f\"VAT id (NIP): {sel_vat}\", paragraph_style))\n",
    "story.append(Paragraph(f\"Company registration no. (REGON): {sel_regon}\", paragraph_style))\n",
    "story.append(Spacer(1, 18))\n",
    "\n",
    "# Buyer section\n",
    "story.append(Paragraph('Buyer:', paragraph_style))\n",
    "story.append(Paragraph(buy_company, paragraph_style))\n",
    "story.append(Paragraph(buy_company_adr, paragraph_style))\n",
    "story.append(Paragraph(f\"VAT id (NIP): {buy_vat}\", paragraph_style))\n",
    "story.append(Paragraph(f\"Company registration no. (REGON): {buy_regon}\", paragraph_style))\n",
    "story.append(Spacer(1, 30))\n",
    "\n",
    "# Add table\n",
    "story.append(Table(data=table_data, style=table_style))\n",
    "story.append(Spacer(1, 80))\n",
    "\n",
    "# Signature section\n",
    "story.append(Paragraph(\"................................\", paragraph_style))\n",
    "story.append(Paragraph(\"Signature of the authorized recipient\", paragraph_style))\n",
    "story.append(Spacer(1, 80))\n",
    "\n",
    "story.append(Paragraph(\"................................\", paragraph_style))\n",
    "story.append(Paragraph(\"Signature of the authorized issuer\", paragraph_style))\n",
    "\n",
    "# Build the document\n",
    "doc.build(story)"
   ]
  }
 ],
 "metadata": {
  "kernelspec": {
   "display_name": "base",
   "language": "python",
   "name": "python3"
  },
  "language_info": {
   "codemirror_mode": {
    "name": "ipython",
    "version": 3
   },
   "file_extension": ".py",
   "mimetype": "text/x-python",
   "name": "python",
   "nbconvert_exporter": "python",
   "pygments_lexer": "ipython3",
   "version": "3.12.7"
  }
 },
 "nbformat": 4,
 "nbformat_minor": 5
}
