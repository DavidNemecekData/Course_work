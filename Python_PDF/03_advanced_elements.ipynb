{
 "cells": [
  {
   "cell_type": "markdown",
   "id": "brutal-canyon",
   "metadata": {},
   "source": [
    "In the file **marks.csv** you will find the data of several students: Name, Surname, Honors, Birth Year, and a list of grades.\n",
    "\n",
    "Create **one** file `sata.pdf`, where each of the students will be presented on a separate page:\n",
    "\n",
    "```\n",
    "[Student/Honors stusent - choose one, based on the \"Honors\" column] Name - header.\n",
    "Year of birth - normal text\n",
    "\n",
    "Marks: - smaller header\n",
    "Language Arts - 6\n",
    "Second Language English - 5\n",
    "...\n",
    "```"
   ]
  },
  {
   "cell_type": "code",
   "execution_count": 14,
   "id": "f68fa99a",
   "metadata": {},
   "outputs": [],
   "source": [
    "import pandas as pd\n",
    "from reportlab.platypus import SimpleDocTemplate, Paragraph, Spacer, PageBreak\n",
    "from reportlab.lib.styles import ParagraphStyle\n",
    "import reportlab.lib.pagesizes as sizes\n",
    "import reportlab.lib.enums as positions"
   ]
  },
  {
   "cell_type": "code",
   "execution_count": 15,
   "id": "dc92f8fc",
   "metadata": {},
   "outputs": [],
   "source": [
    "file_path = '../02_Advanced elements/marks.csv'"
   ]
  },
  {
   "cell_type": "code",
   "execution_count": 16,
   "id": "ebeba6fa",
   "metadata": {},
   "outputs": [],
   "source": [
    "data = pd.read_csv(file_path)\n"
   ]
  },
  {
   "cell_type": "code",
   "execution_count": 17,
   "id": "6d71c720",
   "metadata": {},
   "outputs": [
    {
     "data": {
      "text/html": [
       "<div>\n",
       "<style scoped>\n",
       "    .dataframe tbody tr th:only-of-type {\n",
       "        vertical-align: middle;\n",
       "    }\n",
       "\n",
       "    .dataframe tbody tr th {\n",
       "        vertical-align: top;\n",
       "    }\n",
       "\n",
       "    .dataframe thead th {\n",
       "        text-align: right;\n",
       "    }\n",
       "</style>\n",
       "<table border=\"1\" class=\"dataframe\">\n",
       "  <thead>\n",
       "    <tr style=\"text-align: right;\">\n",
       "      <th></th>\n",
       "      <th>Name</th>\n",
       "      <th>Surname</th>\n",
       "      <th>Honors</th>\n",
       "      <th>Birth Year</th>\n",
       "      <th>Language Arts</th>\n",
       "      <th>Second Language English</th>\n",
       "      <th>Second Language German</th>\n",
       "      <th>Maths</th>\n",
       "      <th>Chemistry</th>\n",
       "      <th>Physics</th>\n",
       "      <th>Biology</th>\n",
       "      <th>History</th>\n",
       "      <th>Geography</th>\n",
       "    </tr>\n",
       "  </thead>\n",
       "  <tbody>\n",
       "    <tr>\n",
       "      <th>0</th>\n",
       "      <td>Carol</td>\n",
       "      <td>Neweek</td>\n",
       "      <td>Y</td>\n",
       "      <td>1990</td>\n",
       "      <td>5</td>\n",
       "      <td>6</td>\n",
       "      <td>5</td>\n",
       "      <td>3</td>\n",
       "      <td>4</td>\n",
       "      <td>4</td>\n",
       "      <td>5</td>\n",
       "      <td>5</td>\n",
       "      <td>4</td>\n",
       "    </tr>\n",
       "    <tr>\n",
       "      <th>1</th>\n",
       "      <td>Martin</td>\n",
       "      <td>Cheapman</td>\n",
       "      <td>N</td>\n",
       "      <td>1990</td>\n",
       "      <td>3</td>\n",
       "      <td>4</td>\n",
       "      <td>3</td>\n",
       "      <td>6</td>\n",
       "      <td>5</td>\n",
       "      <td>5</td>\n",
       "      <td>3</td>\n",
       "      <td>3</td>\n",
       "      <td>5</td>\n",
       "    </tr>\n",
       "    <tr>\n",
       "      <th>2</th>\n",
       "      <td>Charlie</td>\n",
       "      <td>Kovacs</td>\n",
       "      <td>N</td>\n",
       "      <td>1993</td>\n",
       "      <td>5</td>\n",
       "      <td>5</td>\n",
       "      <td>5</td>\n",
       "      <td>4</td>\n",
       "      <td>3</td>\n",
       "      <td>3</td>\n",
       "      <td>4</td>\n",
       "      <td>5</td>\n",
       "      <td>4</td>\n",
       "    </tr>\n",
       "    <tr>\n",
       "      <th>3</th>\n",
       "      <td>Agnes</td>\n",
       "      <td>Hale</td>\n",
       "      <td>Y</td>\n",
       "      <td>1993</td>\n",
       "      <td>5</td>\n",
       "      <td>5</td>\n",
       "      <td>4</td>\n",
       "      <td>6</td>\n",
       "      <td>6</td>\n",
       "      <td>5</td>\n",
       "      <td>3</td>\n",
       "      <td>5</td>\n",
       "      <td>4</td>\n",
       "    </tr>\n",
       "    <tr>\n",
       "      <th>4</th>\n",
       "      <td>Mary Jane</td>\n",
       "      <td>Tomala</td>\n",
       "      <td>N</td>\n",
       "      <td>1993</td>\n",
       "      <td>4</td>\n",
       "      <td>5</td>\n",
       "      <td>4</td>\n",
       "      <td>6</td>\n",
       "      <td>4</td>\n",
       "      <td>6</td>\n",
       "      <td>4</td>\n",
       "      <td>4</td>\n",
       "      <td>3</td>\n",
       "    </tr>\n",
       "  </tbody>\n",
       "</table>\n",
       "</div>"
      ],
      "text/plain": [
       "        Name   Surname Honors  Birth Year  Language Arts  \\\n",
       "0      Carol    Neweek      Y        1990              5   \n",
       "1     Martin  Cheapman      N        1990              3   \n",
       "2    Charlie    Kovacs      N        1993              5   \n",
       "3      Agnes      Hale      Y        1993              5   \n",
       "4  Mary Jane    Tomala      N        1993              4   \n",
       "\n",
       "   Second Language English  Second Language German  Maths  Chemistry  Physics  \\\n",
       "0                        6                       5      3          4        4   \n",
       "1                        4                       3      6          5        5   \n",
       "2                        5                       5      4          3        3   \n",
       "3                        5                       4      6          6        5   \n",
       "4                        5                       4      6          4        6   \n",
       "\n",
       "   Biology  History  Geography  \n",
       "0        5        5          4  \n",
       "1        3        3          5  \n",
       "2        4        5          4  \n",
       "3        3        5          4  \n",
       "4        4        4          3  "
      ]
     },
     "execution_count": 17,
     "metadata": {},
     "output_type": "execute_result"
    }
   ],
   "source": [
    "data.head(5)"
   ]
  },
  {
   "cell_type": "code",
   "execution_count": 18,
   "id": "c77883d3",
   "metadata": {},
   "outputs": [
    {
     "data": {
      "text/plain": [
       "Name                         Martin\n",
       "Surname                    Cheapman\n",
       "Honors                            N\n",
       "Birth Year                     1990\n",
       "Language Arts                     3\n",
       "Second Language English           4\n",
       "Second Language German            3\n",
       "Maths                             6\n",
       "Chemistry                         5\n",
       "Physics                           5\n",
       "Biology                           3\n",
       "History                           3\n",
       "Geography                         5\n",
       "Name: 1, dtype: object"
      ]
     },
     "execution_count": 18,
     "metadata": {},
     "output_type": "execute_result"
    }
   ],
   "source": [
    "data.loc[1]"
   ]
  },
  {
   "cell_type": "code",
   "execution_count": 19,
   "id": "6f101642",
   "metadata": {},
   "outputs": [],
   "source": [
    "# Setting pdf document\n",
    "doc = SimpleDocTemplate('students_report.pdf', pagesize=sizes.A4, rightMargin=72, leftMargin=72, topMargin=72, bottomMargin=18)"
   ]
  },
  {
   "cell_type": "code",
   "execution_count": 20,
   "id": "96d93edc",
   "metadata": {},
   "outputs": [],
   "source": [
    "# Styles\n",
    "title_style = ParagraphStyle(name=\"Title Style\", fontName=\"Times-Roman\", fontSize=18, alignment=positions.TA_CENTER)\n",
    "header_style = ParagraphStyle(name=\"Header Style\", fontName=\"Times-Roman\", fontSize=16, alignment=positions.TA_LEFT)\n",
    "paragraph_style = ParagraphStyle(name=\"Paragraph Style\", fontName=\"Times-Roman\", fontSize=12, alignment=positions.TA_LEFT)"
   ]
  },
  {
   "cell_type": "code",
   "execution_count": 21,
   "id": "c4dcf426",
   "metadata": {},
   "outputs": [],
   "source": [
    "# Empty story\n",
    "story = []"
   ]
  },
  {
   "cell_type": "code",
   "execution_count": 22,
   "id": "b0650b10",
   "metadata": {},
   "outputs": [],
   "source": [
    "for index, row in data.iterrows():\n",
    "\n",
    "    honors = \"Honors student\" if row['Honors'] == 'Y' else \"Regular student\"\n",
    "    \n",
    "    story.append(Paragraph(f\"{honors} - {row['Name']} {row['Surname']}\", title_style))\n",
    "    story.append(Spacer(0, 12))\n",
    "    story.append(Paragraph(f\"Year of Birth: {row['Birth Year']}\", header_style))\n",
    "    story.append(Spacer(0, 28))\n",
    "    \n",
    "    story.append(Paragraph(\"Marks:\", header_style))\n",
    "    story.append(Spacer(0, 12))\n",
    "\n",
    "    subjects = [\"Language Arts\", \"Second Language English\", \"Second Language German\", \"Maths\", \"Chemistry\", \n",
    "                \"Physics\", \"Biology\", \"History\", \"Geography\"]\n",
    "    \n",
    "    for subject in subjects:\n",
    "        marks = f\"{subject}: {row[subject]}\"\n",
    "        story.append(Paragraph(marks, paragraph_style))\n",
    "        story.append(Spacer(0, 12))\n",
    "\n",
    "    story.append(PageBreak())"
   ]
  },
  {
   "cell_type": "code",
   "execution_count": 23,
   "id": "c642781a",
   "metadata": {},
   "outputs": [],
   "source": [
    "doc.build(story)"
   ]
  }
 ],
 "metadata": {
  "kernelspec": {
   "display_name": "base",
   "language": "python",
   "name": "python3"
  },
  "language_info": {
   "codemirror_mode": {
    "name": "ipython",
    "version": 3
   },
   "file_extension": ".py",
   "mimetype": "text/x-python",
   "name": "python",
   "nbconvert_exporter": "python",
   "pygments_lexer": "ipython3",
   "version": "3.12.7"
  }
 },
 "nbformat": 4,
 "nbformat_minor": 5
}
