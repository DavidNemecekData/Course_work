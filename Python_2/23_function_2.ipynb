{
 "cells": [
  {
   "cell_type": "markdown",
   "metadata": {},
   "source": [
    "# Exercise 1\n",
    "\n",
    "Write a `count_letters(text)` function that take a string as an argument and return a dictionary with the string characters as keys and the number of occurrences as values.\n",
    "\n",
    "Example:\n",
    "```python\n",
    "print(count_letters('Katharina'))\n",
    "```\n",
    "\n",
    "Result:\n",
    "```\n",
    "{'K': 1, 'a': 3, 't': 2, 'h': 1, 'r': r, 'i': 1, 'n': 1}\n",
    "```"
   ]
  },
  {
   "cell_type": "code",
   "execution_count": 1,
   "metadata": {},
   "outputs": [
    {
     "name": "stdout",
     "output_type": "stream",
     "text": [
      "{'p': 1, 'e': 2, 'j': 1, 's': 1, 'k': 1}\n"
     ]
    }
   ],
   "source": [
    "def count_letters(text):\n",
    "    new_dict = {}\n",
    "    for letter in text:\n",
    "        if letter in new_dict:\n",
    "            new_dict[letter] += 1\n",
    "        else:\n",
    "            new_dict[letter] = 1\n",
    "    return new_dict\n",
    "\n",
    "print(count_letters(\"pejsek\"))"
   ]
  }
 ],
 "metadata": {
  "kernelspec": {
   "display_name": "base",
   "language": "python",
   "name": "python3"
  },
  "language_info": {
   "codemirror_mode": {
    "name": "ipython",
    "version": 3
   },
   "file_extension": ".py",
   "mimetype": "text/x-python",
   "name": "python",
   "nbconvert_exporter": "python",
   "pygments_lexer": "ipython3",
   "version": "3.12.7"
  }
 },
 "nbformat": 4,
 "nbformat_minor": 4
}
