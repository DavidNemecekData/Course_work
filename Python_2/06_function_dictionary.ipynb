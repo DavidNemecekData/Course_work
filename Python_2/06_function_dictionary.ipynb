{
 "cells": [
  {
   "cell_type": "markdown",
   "metadata": {},
   "source": [
    "# Exercise 2\n",
    "\n",
    "Write a function `display_dict(dictionary)` that takes a dictionary argument and displays it in the way shown below.\n",
    "\n",
    "```python\n",
    "display_dict({'cat': 'Kot', 'dog': 'Pies', 'bird': 'Ptak'})\n",
    "```\n",
    "\n",
    "```\n",
    "cat=>Kot\n",
    "dog=>Pies\n",
    "bird=>Ptak\n",
    "```"
   ]
  },
  {
   "cell_type": "code",
   "execution_count": 5,
   "metadata": {},
   "outputs": [
    {
     "name": "stdout",
     "output_type": "stream",
     "text": [
      "cat=>Kot\n",
      "dog=>Pies\n",
      "bird=>Ptak\n"
     ]
    }
   ],
   "source": [
    "def display_dict(dictionary):\n",
    "    for key in dictionary:\n",
    "        print(f\"{key}=>{dictionary[key]}\")\n",
    "\n",
    "\n",
    "# testing\n",
    "display_dict({'cat': 'Kot', 'dog': 'Pies', 'bird': 'Ptak'})"
   ]
  }
 ],
 "metadata": {
  "kernelspec": {
   "display_name": "base",
   "language": "python",
   "name": "python3"
  },
  "language_info": {
   "codemirror_mode": {
    "name": "ipython",
    "version": 3
   },
   "file_extension": ".py",
   "mimetype": "text/x-python",
   "name": "python",
   "nbconvert_exporter": "python",
   "pygments_lexer": "ipython3",
   "version": "3.12.7"
  }
 },
 "nbformat": 4,
 "nbformat_minor": 4
}
