{
 "cells": [
  {
   "cell_type": "markdown",
   "metadata": {},
   "source": [
    "# Exercise 1\n",
    "\n",
    "Write a `user_data(first_name, last_name)` function that takes a name and surname as an argument and returns a dictionary based on the given keys and values:\n",
    "- `\"first_name\"` - as in the argument,\n",
    "- `\"last_name\"` - as in the argument,\n",
    "- `\"full_name\"` - composed of both arguments separated with space,\n",
    "- `\"initials\"` - first letters of both arguments followed by dots; both parts separated with space.\n",
    "\n",
    "Example:\n",
    "```python\n",
    "user_data('John', 'Connor')\n",
    "```\n",
    "\n",
    "Result:\n",
    "```\n",
    "{\"first_name\": \"John\", \"last_name\": \"Connor\", \"full_name\": \"John Connor\", \"initials\": \"J. C.\"}\n",
    "```"
   ]
  },
  {
   "cell_type": "code",
   "execution_count": 3,
   "metadata": {},
   "outputs": [
    {
     "name": "stdout",
     "output_type": "stream",
     "text": [
      "{'first_name': 'John', 'last_name': 'Connor', 'full_name': 'John Connor', 'initials': 'J. C.'}\n"
     ]
    }
   ],
   "source": [
    "def user_data(first_name, last_name):\n",
    "    user_data = {}\n",
    "    user_data[\"first_name\"] = first_name\n",
    "    user_data[\"last_name\"] = last_name\n",
    "    user_data[\"full_name\"] = first_name + \" \" + last_name\n",
    "    user_data[\"initials\"] = first_name[0] + \". \" + last_name[0] + \".\"\n",
    "    return user_data\n",
    "\n",
    "# testing\n",
    "result = user_data('John', 'Connor')\n",
    "print(result)"
   ]
  }
 ],
 "metadata": {
  "kernelspec": {
   "display_name": "base",
   "language": "python",
   "name": "python3"
  },
  "language_info": {
   "codemirror_mode": {
    "name": "ipython",
    "version": 3
   },
   "file_extension": ".py",
   "mimetype": "text/x-python",
   "name": "python",
   "nbconvert_exporter": "python",
   "pygments_lexer": "ipython3",
   "version": "3.12.7"
  }
 },
 "nbformat": 4,
 "nbformat_minor": 4
}
