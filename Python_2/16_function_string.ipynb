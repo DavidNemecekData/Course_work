{
 "cells": [
  {
   "cell_type": "markdown",
   "metadata": {},
   "source": [
    "# Exercise 4\n",
    "\n",
    "Write a `reverse_str(text)` function that takes a string argument and returns it written in reverse order.\n",
    "\n",
    "Example:\n",
    "```python\n",
    "reverse_str('Test')\n",
    "```\n",
    "\n",
    "```\n",
    "tseT```"
   ]
  },
  {
   "cell_type": "code",
   "execution_count": 4,
   "metadata": {},
   "outputs": [
    {
     "name": "stdout",
     "output_type": "stream",
     "text": [
      "tseT\n"
     ]
    }
   ],
   "source": [
    "# Write the \"reverse_str\" function here\n",
    "def reverse_str(text):\n",
    "    return text[::-1]\n",
    "\n",
    "print(reverse_str(\"Test\"))"
   ]
  }
 ],
 "metadata": {
  "kernelspec": {
   "display_name": "base",
   "language": "python",
   "name": "python3"
  },
  "language_info": {
   "codemirror_mode": {
    "name": "ipython",
    "version": 3
   },
   "file_extension": ".py",
   "mimetype": "text/x-python",
   "name": "python",
   "nbconvert_exporter": "python",
   "pygments_lexer": "ipython3",
   "version": "3.12.7"
  }
 },
 "nbformat": 4,
 "nbformat_minor": 4
}
