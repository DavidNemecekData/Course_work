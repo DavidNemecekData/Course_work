{
 "cells": [
  {
   "cell_type": "markdown",
   "metadata": {},
   "source": [
    "# Exercise 2\n",
    "\n",
    "Write a function `check_zip_code(code)` that validates the format of a Polish postal code. \n",
    "\n",
    "Correct code is: `\"DD-DDD\"`, where D is a digit.\n",
    "\n",
    "If the code does not have exactly six characters, throw a `ValueError` exception with the `\"Incorrect length\"` comment.\n",
    "\n",
    "If the code does not have the `-` character on the third place, throw a `ValueError` exception with the `\"No dash\"` comment.\n",
    "\n",
    "If the remaining characters are not digits, throw a `ValueError` exception with the `\"Forbidden character\"` comment.\n",
    "\n",
    "Hint: To check if a string consists only of digits, use the `.isdigit()` method.\n"
   ]
  },
  {
   "cell_type": "code",
   "execution_count": 4,
   "metadata": {},
   "outputs": [],
   "source": [
    "# Write the \"check_zip_code\" function here\n",
    "def check_zip_code(code):\n",
    "\n",
    "    if len(code) != 6:\n",
    "        raise ValueError(\"Incorrect length\")\n",
    "\n",
    "    if code[2] != '-':\n",
    "        raise ValueError(\"No dash\")\n",
    "    \n",
    "    if not (code[0:2].isdigit() and code[3:6].isdigit()):\n",
    "        raise ValueError(\"Forbidden character\")\n",
    "    \n",
    "    return True"
   ]
  },
  {
   "cell_type": "code",
   "execution_count": 6,
   "metadata": {},
   "outputs": [
    {
     "name": "stdout",
     "output_type": "stream",
     "text": [
      "Postal code is valid\n"
     ]
    }
   ],
   "source": [
    "# Test\n",
    "try:\n",
    "    check_zip_code(\"12-345\")\n",
    "    print(\"Postal code is valid\")\n",
    "except ValueError as e:\n",
    "    print(f\"Error: {e}\")"
   ]
  }
 ],
 "metadata": {
  "kernelspec": {
   "display_name": "base",
   "language": "python",
   "name": "python3"
  },
  "language_info": {
   "codemirror_mode": {
    "name": "ipython",
    "version": 3
   },
   "file_extension": ".py",
   "mimetype": "text/x-python",
   "name": "python",
   "nbconvert_exporter": "python",
   "pygments_lexer": "ipython3",
   "version": "3.12.7"
  }
 },
 "nbformat": 4,
 "nbformat_minor": 4
}
