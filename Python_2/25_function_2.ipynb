{
 "cells": [
  {
   "cell_type": "markdown",
   "metadata": {},
   "source": [
    "# Exercise 3\n",
    "\n",
    "In the `archive_en/` folder there are subfolders: `2018`, `2019` and `2020`, and inside each of them more subfolders with three-letter month-name abbreviations  (`jan`, `feb` etc.).\n",
    "\n",
    "Each of these folders contains `.csv` files (one per day of the month) with information on the number of new, returning and VIP customers who visited the store that day.\n",
    "\n",
    "Write a script to sum up how many new, returning and VIP customers visited the shop in 2018, 2019 and 2020.\n",
    "\n",
    "Expected results:\n",
    "\n",
    "```\n",
    "In 2018 the shop was visited by:\n",
    " - 853 new customers\n",
    " - 2842 returning customers\n",
    " - 315 VIP customers\n",
    "In 2019 the shop was visited by:\n",
    " - 851 new customers\n",
    " - 2859 returning customers\n",
    " - 252 VIP customers\n",
    "In 2020 the shop was visited by:\n",
    " - 757 new customers\n",
    " - 2767 returning customers\n",
    " - 255 VIP customers\n",
    "```"
   ]
  },
  {
   "cell_type": "code",
   "execution_count": 2,
   "metadata": {},
   "outputs": [
    {
     "name": "stdout",
     "output_type": "stream",
     "text": [
      "In 2018 the shop was visited by:\n",
      "- 853 new customers\n",
      "- 315 returning customers\n",
      "- 2842 VIP customers\n",
      "In 2019 the shop was visited by:\n",
      "- 851 new customers\n",
      "- 252 returning customers\n",
      "- 2859 VIP customers\n",
      "In 2020 the shop was visited by:\n",
      "- 757 new customers\n",
      "- 255 returning customers\n",
      "- 2767 VIP customers\n"
     ]
    }
   ],
   "source": [
    "import glob\n",
    "import csv\n",
    "\n",
    "def files_in_year(year):\n",
    "    return glob.glob(f'archive\\\\{year}\\\\**\\\\*.csv', recursive = True)\n",
    "\n",
    "years = (2018, 2019, 2020)\n",
    "\n",
    "for year in years:\n",
    "    filenames = files_in_year(year)\n",
    "    new = 0\n",
    "    vip = 0\n",
    "    old = 0\n",
    "\n",
    "    for filename in filenames:\n",
    "        with open(filename, newline='') as my_file:\n",
    "            data = csv.reader(my_file)\n",
    "            data = list(data)\n",
    "            new = new + int(data[0][1])\n",
    "            vip = vip + int(data[1][1])\n",
    "            old = old + int(data[2][1])\n",
    "\n",
    "    print(f\"In {year} the shop was visited by:\\n- {new} new customers\\n- {old} returning customers\\n- {vip} VIP customers\")"
   ]
  }
 ],
 "metadata": {
  "kernelspec": {
   "display_name": "base",
   "language": "python",
   "name": "python3"
  },
  "language_info": {
   "codemirror_mode": {
    "name": "ipython",
    "version": 3
   },
   "file_extension": ".py",
   "mimetype": "text/x-python",
   "name": "python",
   "nbconvert_exporter": "python",
   "pygments_lexer": "ipython3",
   "version": "3.12.7"
  }
 },
 "nbformat": 4,
 "nbformat_minor": 4
}
