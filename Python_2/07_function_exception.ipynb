{
 "cells": [
  {
   "cell_type": "markdown",
   "metadata": {},
   "source": [
    "# Exercise 1\n",
    "\n",
    "In the file `exercise 1.ipynb` you are going to find a `proverb()` function, that was supposed to have one proverb per second. Unfortunately it only knows seven, so most of the time it throws a `KeyError`.\n",
    "\n",
    "Write a `proverb_safe()` function that **uses** the `proverb()` function to retrieve the proverb for the current second' if that fails, is should **catch the exception** and instead of it **return** the string: `\"No proverb\"`.\n"
   ]
  },
  {
   "cell_type": "code",
   "execution_count": 10,
   "metadata": {},
   "outputs": [],
   "source": [
    "import datetime\n",
    "\n",
    "def proverb():\n",
    "    phrases = {\n",
    "        0 :'all that glitters is not gold',\n",
    "        4:'do not count your chickens before they are hatched',\n",
    "        12:'do not put all your eggs in one basket',\n",
    "        13:'early bird catches the worm',\n",
    "        35:'do not cry over spilled milk',\n",
    "        44:'two wrongs do not make one right',\n",
    "        59:'the proof of the pudding is in the eating',\n",
    "    }\n",
    "    return phrases[datetime.datetime.now().second]"
   ]
  },
  {
   "cell_type": "code",
   "execution_count": 11,
   "metadata": {},
   "outputs": [],
   "source": [
    "def proverb_safe():\n",
    "    try:\n",
    "        return proverb()\n",
    "    except KeyError:\n",
    "        return \"No proverb\""
   ]
  }
 ],
 "metadata": {
  "kernelspec": {
   "display_name": "base",
   "language": "python",
   "name": "python3"
  },
  "language_info": {
   "codemirror_mode": {
    "name": "ipython",
    "version": 3
   },
   "file_extension": ".py",
   "mimetype": "text/x-python",
   "name": "python",
   "nbconvert_exporter": "python",
   "pygments_lexer": "ipython3",
   "version": "3.12.7"
  }
 },
 "nbformat": 4,
 "nbformat_minor": 4
}
