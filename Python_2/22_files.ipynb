{
 "cells": [
  {
   "cell_type": "markdown",
   "metadata": {},
   "source": [
    "# Exercise 4\n",
    "\n",
    "Find all files with a **.txt** extension in the `data/` folder; using a loop open each of them and display its content on the screen.\n",
    "\n",
    "The task will be correctly performed when you see three English palindromes on the screen, and zero Czech ones (because those are in **.py** files, not **.txt** files) nor Ukrainian ones (those are in **.html** files).\n"
   ]
  },
  {
   "cell_type": "code",
   "execution_count": 3,
   "metadata": {},
   "outputs": [
    {
     "name": "stdout",
     "output_type": "stream",
     "text": [
      "data\\lemon.txt\n",
      "No lemon, no melon\n",
      "\n",
      "data\\owl.txt\n",
      "Mr. Owl ate my metal worm\n",
      "\n",
      "data\\pets.txt\n",
      "Step on no pets\n",
      "\n"
     ]
    }
   ],
   "source": [
    "# Write exercise solution here\n",
    "import glob\n",
    "for file_path in glob.glob(r'**\\*.txt', recursive=True):\n",
    "    print(file_path)\n",
    "    with open(file_path, 'r') as file:\n",
    "        print(file.read())"
   ]
  }
 ],
 "metadata": {
  "kernelspec": {
   "display_name": "base",
   "language": "python",
   "name": "python3"
  },
  "language_info": {
   "codemirror_mode": {
    "name": "ipython",
    "version": 3
   },
   "file_extension": ".py",
   "mimetype": "text/x-python",
   "name": "python",
   "nbconvert_exporter": "python",
   "pygments_lexer": "ipython3",
   "version": "3.12.7"
  }
 },
 "nbformat": 4,
 "nbformat_minor": 4
}
