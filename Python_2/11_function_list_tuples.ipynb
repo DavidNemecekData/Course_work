{
 "cells": [
  {
   "cell_type": "markdown",
   "metadata": {},
   "source": [
    "## Exercise 2\n",
    "\n",
    "Write a `histogram(list_of_integers)` function,that loops through each digit in a list and displays the number of `#` characters equal to the digit – on a new line for each digit.\n",
    "\n",
    "Hint: To generate repeatable text you can just multiply it by an `int` type number:\n",
    "```python\n",
    "\"na\" * 16 + \" Batman!\"```\n",
    "\n",
    "##### Example\n",
    "```python\n",
    "histogram([3, 9, 1, 5])\n",
    "```\n",
    "\n",
    "```python\n",
    "###\n",
    "#########\n",
    "#\n",
    "#####\n",
    "```"
   ]
  },
  {
   "cell_type": "code",
   "execution_count": 1,
   "metadata": {},
   "outputs": [
    {
     "name": "stdout",
     "output_type": "stream",
     "text": [
      "###\n",
      "####\n",
      "###\n",
      "#####\n"
     ]
    }
   ],
   "source": [
    "# Write the \"histogram\" function here\n",
    "def histogram(list_of_integers):\n",
    "    for i in list_of_integers:\n",
    "        print(i * \"#\")\n",
    "\n",
    "histogram([3, 4, 3, 5])"
   ]
  }
 ],
 "metadata": {
  "kernelspec": {
   "display_name": "base",
   "language": "python",
   "name": "python3"
  },
  "language_info": {
   "codemirror_mode": {
    "name": "ipython",
    "version": 3
   },
   "file_extension": ".py",
   "mimetype": "text/x-python",
   "name": "python",
   "nbconvert_exporter": "python",
   "pygments_lexer": "ipython3",
   "version": "3.12.7"
  }
 },
 "nbformat": 4,
 "nbformat_minor": 4
}
