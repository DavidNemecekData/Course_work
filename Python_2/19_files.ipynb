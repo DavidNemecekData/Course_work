{
 "cells": [
  {
   "cell_type": "markdown",
   "metadata": {},
   "source": [
    "# Exercise 1\n",
    "\n",
    "Open the `poem.txt` file and display its content prefixing each line with the string`\"line <LINE NUMBER>: \"`.\n",
    "### Hint:\n",
    "\n",
    "Use a `for` loop to read a file line by line, apart from this create a variable to store the line number.\n",
    "\n",
    "You can insert the line number into the string using `.format(...)` method of f-string syntax.\n"
   ]
  },
  {
   "cell_type": "code",
   "execution_count": 2,
   "metadata": {},
   "outputs": [
    {
     "name": "stdout",
     "output_type": "stream",
     "text": [
      "line 1: Faster than fairies, faster than witches,\n",
      "line 2: Bridges and houses, hedges and ditches;\n",
      "line 3: And charging along like troops in a battle,\n",
      "line 4: All through the meadows the horses and cattle:\n",
      "line 5: All of the sights of the hill and the plain\n",
      "line 6: Fly as thick as driving rain;\n",
      "line 7: And ever again in the wink of an eye,\n",
      "line 8: Painted stations whistle by.\n",
      "line 9: Here is a child who clambers and scrambles,\n",
      "line 10: All by himself and gathering brambles;\n",
      "line 11: Here is a tramp who stands and gazes;\n",
      "line 12: And there is the green for stringing the daisies!\n",
      "line 13: Here is a cart run away in the road\n",
      "line 14: Lumping along with man and load;\n",
      "line 15: And here is a mill and there is a river,\n",
      "line 16: Each a glimpse and gone forever!\n",
      "line 17: \n",
      "line 18: Robert Louis Stevenson - From A Child’s Garden of Verses (1885)\n",
      "line 19: https://www.gutenberg.org/files/19722/19722-h/19722-h.htm#FROM_A_RAILWAY_CARRIAGE\n"
     ]
    }
   ],
   "source": [
    "with open('poem.txt', 'r') as my_text_file:\n",
    "    i = 0\n",
    "    for single_line in my_text_file:\n",
    "        i += 1\n",
    "        print(f\"line {i}: {single_line.strip()}\")"
   ]
  }
 ],
 "metadata": {
  "kernelspec": {
   "display_name": "base",
   "language": "python",
   "name": "python3"
  },
  "language_info": {
   "codemirror_mode": {
    "name": "ipython",
    "version": 3
   },
   "file_extension": ".py",
   "mimetype": "text/x-python",
   "name": "python",
   "nbconvert_exporter": "python",
   "pygments_lexer": "ipython3",
   "version": "3.12.7"
  }
 },
 "nbformat": 4,
 "nbformat_minor": 4
}
