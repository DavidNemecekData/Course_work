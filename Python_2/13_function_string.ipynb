{
 "cells": [
  {
   "cell_type": "markdown",
   "metadata": {},
   "source": [
    "# Exercise 1\n",
    "\n",
    "Write a `create_email(first_name, last_name)` function that generates an email address in the `myamazingcompany.com` domain. The username should be created from the arguments: first letter of first name, period, last name - all in lowercase.\n",
    "\n",
    "Example:\n",
    "```python\n",
    "print(create_email('John', 'Connor'))\n",
    "```\n",
    "\n",
    "Result:\n",
    "```\n",
    "j.connor@myamazingcompany.com\n",
    "```\n",
    "**Use the .format() method to do the exercise**"
   ]
  },
  {
   "cell_type": "code",
   "execution_count": 3,
   "metadata": {},
   "outputs": [
    {
     "name": "stdout",
     "output_type": "stream",
     "text": [
      "j.connor@myamazingcompany.com\n"
     ]
    }
   ],
   "source": [
    "def create_email(first_name, last_name):\n",
    "    first_name = first_name.lower()\n",
    "    last_name = last_name.lower()\n",
    "    return \"{}.{}@myamazingcompany.com\".format(first_name[0], last_name)\n",
    "\n",
    "print(create_email('John', 'Connor'))"
   ]
  }
 ],
 "metadata": {
  "kernelspec": {
   "display_name": "base",
   "language": "python",
   "name": "python3"
  },
  "language_info": {
   "codemirror_mode": {
    "name": "ipython",
    "version": 3
   },
   "file_extension": ".py",
   "mimetype": "text/x-python",
   "name": "python",
   "nbconvert_exporter": "python",
   "pygments_lexer": "ipython3",
   "version": "3.12.7"
  }
 },
 "nbformat": 4,
 "nbformat_minor": 4
}
