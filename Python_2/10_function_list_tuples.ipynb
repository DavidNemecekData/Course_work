{
 "cells": [
  {
   "cell_type": "markdown",
   "metadata": {},
   "source": [
    "## Exercise 1\n",
    "\n",
    "Write a `create_list(a, b, c)` function that takes three arguments of any type and then returns a list whose elements are the values of the arguments in the order of: `a`, `b`, `c`, `b`, `a`.\n",
    "\n",
    "##### Example:\n",
    "\n",
    "```python\n",
    "my_list = create_list(1, 2, 3)  # result: [1, 2, 3, 2, 1]```"
   ]
  },
  {
   "cell_type": "code",
   "execution_count": 1,
   "metadata": {},
   "outputs": [
    {
     "data": {
      "text/plain": [
       "[2, 5, 9, 5, 2]"
      ]
     },
     "execution_count": 1,
     "metadata": {},
     "output_type": "execute_result"
    }
   ],
   "source": [
    "# Write the \"create_list\" function here\n",
    "def create_list(a, b, c):\n",
    "    return [a, b, c, b, a]\n",
    "\n",
    "create_list(2, 5, 9)"
   ]
  }
 ],
 "metadata": {
  "kernelspec": {
   "display_name": "base",
   "language": "python",
   "name": "python3"
  },
  "language_info": {
   "codemirror_mode": {
    "name": "ipython",
    "version": 3
   },
   "file_extension": ".py",
   "mimetype": "text/x-python",
   "name": "python",
   "nbconvert_exporter": "python",
   "pygments_lexer": "ipython3",
   "version": "3.12.7"
  }
 },
 "nbformat": 4,
 "nbformat_minor": 4
}
