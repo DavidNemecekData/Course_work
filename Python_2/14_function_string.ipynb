{
 "cells": [
  {
   "cell_type": "markdown",
   "metadata": {},
   "source": [
    "# Exercise 1\n",
    "\n",
    "Write a `create_address(first_name, last_name, street, number, city, zipcode)` function, that generates a nicely formatted address – see the example below:\n",
    "\n",
    "Example:\n",
    "```python\n",
    "print(create_address('John', 'Connor', 'Hayvenhurst Drive', 12, 'Van Nyus', '14329'))\n",
    "```\n",
    "\n",
    "Result:\n",
    "```\n",
    "Hand- Deliver to John Connor\n",
    "Hayvenhurst Drive Apt. 12\n",
    "14329 Van Nyus\n",
    "```\n",
    "\n",
    "**Use the f-string syntax to do the exercise**\n",
    "\n",
    "Hint: You can write a newline character as `\\\\n`:\n",
    "```python\n",
    "print(\"Line 1\\nLine 2\")\n",
    "```\n",
    "\n",
    "```\n",
    "Line 1\n",
    "Line 2\n",
    "```"
   ]
  },
  {
   "cell_type": "code",
   "execution_count": 3,
   "metadata": {},
   "outputs": [
    {
     "name": "stdout",
     "output_type": "stream",
     "text": [
      "Hand- Deliver to John Connor\n",
      "Hayvenhurst Drive Apt. 12\n",
      "14329 Van Nyus\n"
     ]
    }
   ],
   "source": [
    "# Write the \"create_address\" function here\n",
    "def create_address(first_name, last_name, street, number, city, zipcode):\n",
    "    address = f\"Hand- Deliver to {first_name} {last_name}\\n{street} Apt. {number}\\n{zipcode} {city}\"\n",
    "    return address\n",
    "\n",
    "print(create_address('John', 'Connor', 'Hayvenhurst Drive', 12, 'Van Nyus', '14329'))"
   ]
  },
  {
   "cell_type": "code",
   "execution_count": null,
   "metadata": {},
   "outputs": [],
   "source": []
  }
 ],
 "metadata": {
  "kernelspec": {
   "display_name": "base",
   "language": "python",
   "name": "python3"
  },
  "language_info": {
   "codemirror_mode": {
    "name": "ipython",
    "version": 3
   },
   "file_extension": ".py",
   "mimetype": "text/x-python",
   "name": "python",
   "nbconvert_exporter": "python",
   "pygments_lexer": "ipython3",
   "version": "3.12.7"
  }
 },
 "nbformat": 4,
 "nbformat_minor": 4
}
