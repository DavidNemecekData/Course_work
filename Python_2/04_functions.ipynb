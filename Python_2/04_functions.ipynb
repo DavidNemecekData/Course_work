{
 "cells": [
  {
   "cell_type": "markdown",
   "metadata": {},
   "source": [
    "# Exercise 4\n",
    "\n",
    "Write an `is_even(number)` function that takes a number and returns `True` if the number is even, and `False` if it is not.\n",
    "\n",
    "Write an `is_odd(number)` function, that takes a number and returns `True`, if the number is odd, and `False` if it is not. You can calculate the result (as in the `is_even` function) or use the `is_even` function in the code of the `is_odd` function.\n",
    "### Hint:\n",
    "\n",
    "Python has an operator that returns the remainder of division, and a number is even when the remainder of dividing by 2 is 0."
   ]
  },
  {
   "cell_type": "code",
   "execution_count": 1,
   "metadata": {},
   "outputs": [
    {
     "name": "stdout",
     "output_type": "stream",
     "text": [
      "True\n",
      "True\n"
     ]
    }
   ],
   "source": [
    "# Write the \"is_even\" and \"is_odd\" functions here\n",
    "def is_even(number):\n",
    "        return number % 2 == 0\n",
    "\n",
    "def is_odd(number):\n",
    "    return number % 2 != 0\n",
    "   \n",
    "result = is_even(4)\n",
    "print(result)\n",
    "result_2 = is_odd(5)\n",
    "print(result_2)"
   ]
  }
 ],
 "metadata": {
  "kernelspec": {
   "display_name": "base",
   "language": "python",
   "name": "python3"
  },
  "language_info": {
   "codemirror_mode": {
    "name": "ipython",
    "version": 3
   },
   "file_extension": ".py",
   "mimetype": "text/x-python",
   "name": "python",
   "nbconvert_exporter": "python",
   "pygments_lexer": "ipython3",
   "version": "3.12.7"
  }
 },
 "nbformat": 4,
 "nbformat_minor": 4
}
