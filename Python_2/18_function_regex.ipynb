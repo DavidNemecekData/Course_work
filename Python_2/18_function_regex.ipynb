{
 "cells": [
  {
   "cell_type": "markdown",
   "metadata": {},
   "source": [
    "# Exercise 2\n",
    "\n",
    "Write a `strip_non_letters(text)` function, that takes a string as an argument and returns it leaving only upper and lowercase letters without accents and diacritics.\n"
   ]
  },
  {
   "cell_type": "code",
   "execution_count": 12,
   "metadata": {},
   "outputs": [
    {
     "name": "stdout",
     "output_type": "stream",
     "text": [
      "Cafe Moj\n",
      "Kocicka\n"
     ]
    }
   ],
   "source": [
    "# Write the \"strip_non_letters\" function here\n",
    "import unicodedata\n",
    "import re\n",
    "\n",
    "def strip_non_letters(text):\n",
    "    text = unicodedata.normalize('NFD', text)\n",
    "    text = ''.join([char for char in text if unicodedata.category(char) != 'Mn'])\n",
    "    \n",
    "    text = re.sub(r'[^a-zA-Z ]', '', text)\n",
    "    \n",
    "    return text\n",
    "\n",
    "# Testování funkce\n",
    "print(strip_non_letters(\"Café Mój!\"))\n",
    "\n",
    "print(strip_non_letters(\"Kočička\"))"
   ]
  }
 ],
 "metadata": {
  "kernelspec": {
   "display_name": "base",
   "language": "python",
   "name": "python3"
  },
  "language_info": {
   "codemirror_mode": {
    "name": "ipython",
    "version": 3
   },
   "file_extension": ".py",
   "mimetype": "text/x-python",
   "name": "python",
   "nbconvert_exporter": "python",
   "pygments_lexer": "ipython3",
   "version": "3.12.7"
  }
 },
 "nbformat": 4,
 "nbformat_minor": 4
}
