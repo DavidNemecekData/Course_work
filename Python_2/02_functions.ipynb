{
 "cells": [
  {
   "cell_type": "markdown",
   "metadata": {},
   "source": [
    "# Exercise 2\n",
    "\n",
    "Write a `power(base, exponent)` function that takes two arguments and returns the result of: argument `base` to the power of `exponent`.\n",
    "\n",
    "Write a `root(number, degree)` function that calculates the `degree`-th root for the `number`. Let the root degree be the number `2` by default.\n",
    "\n",
    "### Hint:\n",
    "\n",
    "Python provides the exponentiation operator: `2 ** 4 == 16`.\n",
    "\n",
    "The operator of exponentiation can be used to calculate the root: `16 ** 0.25 == 2.0`."
   ]
  },
  {
   "cell_type": "code",
   "execution_count": 1,
   "metadata": {},
   "outputs": [],
   "source": [
    "# Write the \"power\" and \"root\" functions here\n",
    "def power(base, exponent):\n",
    "    result = base ** exponent\n",
    "    return result\n",
    "\n",
    "def root(number, degree):\n",
    "    result = number ** (1 / degree)\n",
    "    return result"
   ]
  },
  {
   "cell_type": "code",
   "execution_count": 2,
   "metadata": {},
   "outputs": [
    {
     "name": "stdout",
     "output_type": "stream",
     "text": [
      "2 ** 3 = 8 (expected result is 8)\n",
      "1.5 ** 2 = 2.25 (expected result is 2.25)\n",
      "2 ** 5 - 30 = 2 (expected result is 2)\n",
      "2nd root of 64 is 8.0 (expected result is 8.0)\n",
      "2nd root of 64 is 8.0 (expected result is 8.0)\n",
      "4th root of 2401 with 5 subtracted is 2.0 (expected result is 2)\n"
     ]
    }
   ],
   "source": [
    "print('2 ** 3 =', power(2, 3), '(expected result is 8)')\n",
    "print('1.5 ** 2 =', power(1.5, 2), '(expected result is 2.25)')\n",
    "print('2 ** 5 - 30 =', power(2, 5) - 30, '(expected result is 2)')\n",
    "print('2nd root of 64 is', root(64, 2), '(expected result is 8.0)')\n",
    "print('2nd root of 64 is', root(64, 2), '(expected result is 8.0)')\n",
    "print('4th root of 2401 with 5 subtracted is', root(2401, 4) - 5, '(expected result is 2)')"
   ]
  }
 ],
 "metadata": {
  "kernelspec": {
   "display_name": "base",
   "language": "python",
   "name": "python3"
  },
  "language_info": {
   "codemirror_mode": {
    "name": "ipython",
    "version": 3
   },
   "file_extension": ".py",
   "mimetype": "text/x-python",
   "name": "python",
   "nbconvert_exporter": "python",
   "pygments_lexer": "ipython3",
   "version": "3.12.7"
  }
 },
 "nbformat": 4,
 "nbformat_minor": 4
}
