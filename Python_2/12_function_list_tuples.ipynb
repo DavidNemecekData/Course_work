{
 "cells": [
  {
   "cell_type": "markdown",
   "metadata": {},
   "source": [
    "## Exercise 3\n",
    "\n",
    "Write a function named `find_short_words` that takes a list of words\n",
    "This function should return a list of words shorter than 5 characters.\n",
    "\n",
    "##### Example\n",
    "```python\n",
    "l = find_short_words(['the', 'scariest', 'moment', 'is', 'always', 'just', 'before', 'you', 'start'])\n",
    "print(l)\n",
    "```\n",
    "```\n",
    "['the', 'is', 'just', 'you']\n",
    "```"
   ]
  },
  {
   "cell_type": "code",
   "execution_count": 3,
   "metadata": {},
   "outputs": [
    {
     "name": "stdout",
     "output_type": "stream",
     "text": [
      "['love', 'my', 'big', 'of']\n"
     ]
    }
   ],
   "source": [
    "def find_short_words(lst):\n",
    "    new_list = []\n",
    "    for word in lst:\n",
    "        if len(word) < 5:\n",
    "            new_list.append(word)\n",
    "    return new_list \n",
    "\n",
    "# test\n",
    "test_list = ['Jackdaws', 'love', 'my', 'big', 'sphinx', 'of', 'quartz']\n",
    "result = find_short_words(test_list)\n",
    "print(result)"
   ]
  }
 ],
 "metadata": {
  "kernelspec": {
   "display_name": "base",
   "language": "python",
   "name": "python3"
  },
  "language_info": {
   "codemirror_mode": {
    "name": "ipython",
    "version": 3
   },
   "file_extension": ".py",
   "mimetype": "text/x-python",
   "name": "python",
   "nbconvert_exporter": "python",
   "pygments_lexer": "ipython3",
   "version": "3.12.7"
  }
 },
 "nbformat": 4,
 "nbformat_minor": 4
}
