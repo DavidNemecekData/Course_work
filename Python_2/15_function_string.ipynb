{
 "cells": [
  {
   "cell_type": "markdown",
   "metadata": {},
   "source": [
    "# Exercise 3\n",
    "\n",
    "Write a function `anonymize(email)`, that takes an email address as an argument, and returns a text consisting of:\n",
    "- the first three characters in an email address\n",
    "- three asterisks: `'***'`\n",
    "- the last five characters in an email address\n",
    "\n",
    "If the address is less than 10 characters long, the function should return a text consisting of:\n",
    "- three asterisks: `'***'`\n",
    "- the last five characters in an email address\n",
    "\n",
    "Example:\n",
    "```python\n",
    "anonymize('j.connor@gmail.com')\n",
    "```\n",
    "\n",
    "```\n",
    "j.c***l.com\n",
    "```\n",
    "\n",
    "```python\n",
    "anonymize('jco@o2.pl')\n",
    "```\n",
    "\n",
    "```\n",
    "***o2.pl\n",
    "```"
   ]
  },
  {
   "cell_type": "code",
   "execution_count": 1,
   "metadata": {},
   "outputs": [
    {
     "name": "stdout",
     "output_type": "stream",
     "text": [
      "j.c***l.com\n",
      "***o2.pl\n"
     ]
    }
   ],
   "source": [
    "# Write the \"anonymize\" function here\n",
    "def anonymize(email):\n",
    "    if len(email) < 10:\n",
    "        email = f\"***{email[-5:]}\"\n",
    "        return email\n",
    "    else:\n",
    "        email = f\"{email[:3]}***{email[-5:]}\"\n",
    "        return email\n",
    "\n",
    "print(anonymize('j.connor@gmail.com'))\n",
    "print(anonymize('jco@o2.pl'))"
   ]
  }
 ],
 "metadata": {
  "kernelspec": {
   "display_name": "base",
   "language": "python",
   "name": "python3"
  },
  "language_info": {
   "codemirror_mode": {
    "name": "ipython",
    "version": 3
   },
   "file_extension": ".py",
   "mimetype": "text/x-python",
   "name": "python",
   "nbconvert_exporter": "python",
   "pygments_lexer": "ipython3",
   "version": "3.12.7"
  }
 },
 "nbformat": 4,
 "nbformat_minor": 4
}
