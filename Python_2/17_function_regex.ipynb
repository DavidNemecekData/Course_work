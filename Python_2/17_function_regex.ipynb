{
 "cells": [
  {
   "attachments": {},
   "cell_type": "markdown",
   "metadata": {},
   "source": [
    "# Exercise 1\n",
    "\n",
    "Write a `find_emails_in_file(filename)` function that takes one argument: the name of a file to search in.\n",
    "\n",
    "The function should return a list of strings - email addresses found in the indicated file.\n",
    "\n",
    "Contrary to popular expectations the regex correctly describing an email is very difficult:  you can find our version on LMS."
   ]
  },
  {
   "cell_type": "code",
   "execution_count": 1,
   "metadata": {},
   "outputs": [
    {
     "name": "stdout",
     "output_type": "stream",
     "text": [
      "['abalint@gmail.com', 'biancadumitru@yahoo.com', 'davidwagner@hotmail.com', 'emma.smith@outlook.com', 'fnovak@seznam.cz', 'gkowalski@gmail.com', 'hannapopova@yahoo.com', 'ivan.vlcek@zoznam.sk', 'jakubnowak@protonmail.com', 'karolinahorakova@wp.pl', 'lukasmolnar@hotmail.com', 'mariamihai@gmail.com', 'nikoladragovic@yahoo.com', 'oliver.ionescu@outlook.com', 'petrarosa@seznam.cz', 'quentin.jurcik@gmail.com', 'raduenache@yahoo.com', 'sofiabenko@hotmail.com', 'tomas.kovac@zoznam.sk', 'ursulakowalczyk@protonmail.com', 'vbartos@wp.pl', 'wpopov@gmail.com', 'xkovalenko@outlook.com', 'yivanova@yahoo.com', 'zjakubova@seznam.cz', 'adamhorvath@hotmail.com', 'b.dragan@gmail.com', 'cezarnovak@yahoo.com', 'dvarga@zoznam.sk', 'ekovac@protonmail.com', 'fszabo@wp.pl', 'gstefanik@gmail.com', 'hugojakubec@outlook.com', 'ipopovic@yahoo.com', 'janekkowalik@seznam.cz', 'kracz@hotmail.com', 'lbiro@gmail.com', 'matejkolar@yahoo.com', 'nzajac@zoznam.sk', 'o.pospisil@protonmail.com']\n"
     ]
    }
   ],
   "source": [
    "# Write the \"find_emails_in_file\" function here\n",
    "import re\n",
    "\n",
    "def find_emails_in_file(filename):\n",
    "    emails = []\n",
    "    \n",
    "    try:\n",
    "        with open(filename, 'r') as file:\n",
    "            content = file.read()\n",
    "            emails = re.findall(r'[A-Za-z0-9._%+-]+@[A-Za-z0-9.-]+\\.[A-Za-z]{2,}', content)\n",
    "    except FileNotFoundError:\n",
    "        print(f\"Soubor {filename} nebyl nalezen.\")\n",
    "    \n",
    "    return emails\n",
    "\n",
    "emails = find_emails_in_file('data.txt')\n",
    "print(emails)"
   ]
  }
 ],
 "metadata": {
  "kernelspec": {
   "display_name": "base",
   "language": "python",
   "name": "python3"
  },
  "language_info": {
   "codemirror_mode": {
    "name": "ipython",
    "version": 3
   },
   "file_extension": ".py",
   "mimetype": "text/x-python",
   "name": "python",
   "nbconvert_exporter": "python",
   "pygments_lexer": "ipython3",
   "version": "3.12.7"
  }
 },
 "nbformat": 4,
 "nbformat_minor": 4
}
