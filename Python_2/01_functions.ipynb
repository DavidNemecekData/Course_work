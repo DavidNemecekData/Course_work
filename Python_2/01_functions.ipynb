{
 "cells": [
  {
   "cell_type": "markdown",
   "metadata": {},
   "source": [
    "# Exercise 1\n",
    "\n",
    "Write a `multiply(a, b)` function, that returns the result of multiplication of two numbers passed to it."
   ]
  },
  {
   "cell_type": "code",
   "execution_count": 1,
   "metadata": {},
   "outputs": [],
   "source": [
    "# Write the \"multiply\" function here\n",
    "def multiply(a, b):\n",
    "    return (a * b)"
   ]
  },
  {
   "cell_type": "code",
   "execution_count": 2,
   "metadata": {},
   "outputs": [
    {
     "name": "stdout",
     "output_type": "stream",
     "text": [
      "2 * 3 = 6 (expected result is 6)\n",
      "2.5 * 4 = 10.0 (expected result is 10.0)\n",
      "4 * 0.25 = 1.0 (expected result is 1.0)\n",
      "0.4 * 2.5 = 1.0 (expected result is 1.0)\n",
      "4 * 3 + 5 = 17 (expected result is 17)\n",
      "10 + 2 * 6 = 22 (expected result is 22)\n"
     ]
    }
   ],
   "source": [
    "print('2 * 3 =', multiply(2, 3), '(expected result is 6)')\n",
    "print('2.5 * 4 =', multiply(2.5, 4), '(expected result is 10.0)')\n",
    "print('4 * 0.25 =', multiply(4, 0.25), '(expected result is 1.0)')\n",
    "print('0.4 * 2.5 =', multiply(0.4, 2.5), '(expected result is 1.0)')\n",
    "print('4 * 3 + 5 =', multiply(4, 3) + 5, '(expected result is 17)')\n",
    "print('10 + 2 * 6 =', 10 + multiply(2, 6), '(expected result is 22)')"
   ]
  }
 ],
 "metadata": {
  "kernelspec": {
   "display_name": "base",
   "language": "python",
   "name": "python3"
  },
  "language_info": {
   "codemirror_mode": {
    "name": "ipython",
    "version": 3
   },
   "file_extension": ".py",
   "mimetype": "text/x-python",
   "name": "python",
   "nbconvert_exporter": "python",
   "pygments_lexer": "ipython3",
   "version": "3.12.7"
  }
 },
 "nbformat": 4,
 "nbformat_minor": 4
}
