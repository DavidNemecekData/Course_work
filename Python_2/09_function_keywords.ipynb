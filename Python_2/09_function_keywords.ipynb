{
 "cells": [
  {
   "cell_type": "markdown",
   "metadata": {},
   "source": [
    "# Exercise 1\n",
    "\n",
    "Write a `wordfinder(list_of_words, word)` function, that as arguments takes a list of strings and one string to find in that list.\n",
    "\n",
    "If the `word` string is in the `list_of_words`, add `\"Found\"` to the end of the list.\n",
    "\n",
    "Example:\n",
    "\n",
    "```python\n",
    "words = ['Twinkle', 'twinkle', 'little', 'star']\n",
    "print('words BEFORE:', words)\n",
    "wordfinder(words, 'twinkle')\n",
    "print('words AFTER:', words)\n",
    "```\n",
    "\n",
    "```\n",
    "words BEFORE: ['Twinkle', 'twinkle', 'little', 'star']\n",
    "words AFTER: ['Twinkle', 'twinkle', 'little', 'star', 'Found']\n",
    "```"
   ]
  },
  {
   "cell_type": "code",
   "execution_count": 3,
   "metadata": {},
   "outputs": [
    {
     "name": "stdout",
     "output_type": "stream",
     "text": [
      "words BEFORE: ['Cats', 'coffee', 'cheesecake', 'unite']\n",
      "words AFTER: ['Cats', 'coffee', 'cheesecake', 'unite', 'Found']\n"
     ]
    }
   ],
   "source": [
    "# Write the \"wordfinder\" function here\n",
    "def wordfinder(list_of_words, word):\n",
    "    if word in list_of_words:\n",
    "        list_of_words.append(\"Found\")\n",
    "\n",
    "# test\n",
    "test_words = ['Cats', 'coffee', 'cheesecake', 'unite']\n",
    "print('words BEFORE:', test_words)\n",
    "\n",
    "wordfinder(test_words, 'coffee')\n",
    "\n",
    "print('words AFTER:', test_words)"
   ]
  }
 ],
 "metadata": {
  "kernelspec": {
   "display_name": "base",
   "language": "python",
   "name": "python3"
  },
  "language_info": {
   "codemirror_mode": {
    "name": "ipython",
    "version": 3
   },
   "file_extension": ".py",
   "mimetype": "text/x-python",
   "name": "python",
   "nbconvert_exporter": "python",
   "pygments_lexer": "ipython3",
   "version": "3.12.7"
  }
 },
 "nbformat": 4,
 "nbformat_minor": 4
}
