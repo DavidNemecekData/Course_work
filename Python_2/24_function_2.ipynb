{
 "cells": [
  {
   "cell_type": "markdown",
   "metadata": {},
   "source": [
    "# Exercise 2\n",
    "\n",
    "Write a function,`find_first_duplicate(text)`, that takes a string as an argument, and returns the first letter that, from its position until the end of string, appears more than once. If no letter repeats, the function should return `None`.\n",
    "\n",
    "Example:\n",
    "\n",
    "```python\n",
    "print(find('Calamary'))\n",
    "```\n",
    "\n",
    "Result:\n",
    "```\n",
    "a\n",
    "```\n"
   ]
  },
  {
   "cell_type": "code",
   "execution_count": 10,
   "metadata": {},
   "outputs": [
    {
     "name": "stdout",
     "output_type": "stream",
     "text": [
      "a\n",
      "s\n"
     ]
    }
   ],
   "source": [
    "def find_first_duplicate(text):\n",
    "    for letter in text:\n",
    "        if text.count(letter) > 1: \n",
    "            return letter\n",
    "\n",
    "print(find_first_duplicate('Calamcry'))\n",
    "print(find_first_duplicate('issue'))"
   ]
  }
 ],
 "metadata": {
  "kernelspec": {
   "display_name": "base",
   "language": "python",
   "name": "python3"
  },
  "language_info": {
   "codemirror_mode": {
    "name": "ipython",
    "version": 3
   },
   "file_extension": ".py",
   "mimetype": "text/x-python",
   "name": "python",
   "nbconvert_exporter": "python",
   "pygments_lexer": "ipython3",
   "version": "3.12.7"
  }
 },
 "nbformat": 4,
 "nbformat_minor": 4
}
