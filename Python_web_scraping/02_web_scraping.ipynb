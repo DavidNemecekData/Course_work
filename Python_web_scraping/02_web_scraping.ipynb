{
 "cells": [
  {
   "cell_type": "code",
   "execution_count": 26,
   "id": "4ca12c50-d98d-4e8f-9964-5a610d931802",
   "metadata": {},
   "outputs": [],
   "source": [
    "import requests\n",
    "from bs4 import BeautifulSoup\n",
    "import pandas as pd"
   ]
  },
  {
   "cell_type": "code",
   "execution_count": 68,
   "id": "86427994-5ebc-4aef-8187-a31f74c62442",
   "metadata": {},
   "outputs": [],
   "source": [
    "from selenium import webdriver\n",
    "from selenium.webdriver.chrome.service import Service\n",
    "from selenium.webdriver.chrome.options import Options\n",
    "\n",
    "# Set up Service and Chrome options\n",
    "service = Service('./chromedriver.exe')\n",
    "chrome_options = Options()\n",
    "\n",
    "# Create the WebDriver instance with service and options\n",
    "driver = webdriver.Chrome(service=service, options=chrome_options)"
   ]
  },
  {
   "cell_type": "code",
   "execution_count": 2,
   "id": "6bd0ad37-8ba1-4d5d-abbb-b0fe564f580c",
   "metadata": {},
   "outputs": [],
   "source": [
    "request = requests.get(\"https://mystore-testlab.coderslab.pl/index.php?id_category=9&controller=category\")\n",
    "result = BeautifulSoup(request.text, 'html.parser')"
   ]
  },
  {
   "cell_type": "code",
   "execution_count": 3,
   "id": "a3127e35-7bd5-49be-adba-5ff61b392122",
   "metadata": {},
   "outputs": [],
   "source": [
    "product_one_title = result.find('div', class_ = 'product-description').find('h2', class_ = 'h3 product-title').text"
   ]
  },
  {
   "cell_type": "code",
   "execution_count": 4,
   "id": "bb2a29c5-8955-4136-afd4-944619433c45",
   "metadata": {},
   "outputs": [],
   "source": [
    "product_one_price = result.find('div', class_ = 'product-price-and-shipping').find('span', class_ = 'price').text"
   ]
  },
  {
   "cell_type": "code",
   "execution_count": 5,
   "id": "d9bf7099-7eba-4678-a9f1-6f118afe02d0",
   "metadata": {},
   "outputs": [],
   "source": [
    "product_one_img = result.find('div', class_ = 'thumbnail-top').find('a').find('img').attrs[\"src\"]"
   ]
  },
  {
   "cell_type": "code",
   "execution_count": 8,
   "id": "1d569be4-c632-4c2d-b9ba-c4fd64a5010b",
   "metadata": {},
   "outputs": [],
   "source": [
    "product_one_link = result.find('div', class_ = 'thumbnail-top').find('a').attrs[\"href\"]"
   ]
  },
  {
   "cell_type": "code",
   "execution_count": 10,
   "id": "b0951c8b-9a97-4d16-a781-6d11f629c9e6",
   "metadata": {},
   "outputs": [
    {
     "name": "stdout",
     "output_type": "stream",
     "text": [
      "[\"The best is yet to come'...\", 'The adventure begins Framed...', 'Today is a good day Framed...', 'Mountain fox - Vector graphics', 'Brown bear - Vector graphics', 'Hummingbird - Vector graphics', 'Pack Mug + Framed poster']\n"
     ]
    }
   ],
   "source": [
    "list_products_titles = []\n",
    "products_titles = result.find_all('div', class_ = 'product-description')\n",
    "for product in products_titles:\n",
    "    list_products_titles.append(product.find('h2', class_ = 'h3 product-title').text)\n",
    "\n",
    "print(list_products_titles)"
   ]
  },
  {
   "cell_type": "code",
   "execution_count": 12,
   "id": "1bc10a2f-e19a-46c9-9bc6-f73741bcc201",
   "metadata": {},
   "outputs": [
    {
     "name": "stdout",
     "output_type": "stream",
     "text": [
      "['\\n                                                  €29.00\\n                              ', '\\n                                                  €29.00\\n                              ', '\\n                                                  €29.00\\n                              ', '\\n                                                  €9.00\\n                              ', '\\n                                                  €9.00\\n                              ', '\\n                                                  €9.00\\n                              ', '\\n                                                  €35.00\\n                              ']\n"
     ]
    }
   ],
   "source": [
    "list_products_prices = []\n",
    "products_prices = result.find_all('div', class_ = 'product-price-and-shipping')\n",
    "for product in products_prices:\n",
    "    list_products_prices.append(product.find('span', class_ = 'price').text)\n",
    "\n",
    "print(list_products_prices)"
   ]
  },
  {
   "cell_type": "code",
   "execution_count": 22,
   "id": "60bb20c0-85b6-4425-a6ef-3d4d252277c1",
   "metadata": {},
   "outputs": [],
   "source": [
    "cleaned_list_products_prices = [item.strip() for item in list_products_prices]"
   ]
  },
  {
   "cell_type": "code",
   "execution_count": 24,
   "id": "bd34daca-be35-42a3-b01e-70c9770025cf",
   "metadata": {},
   "outputs": [
    {
     "name": "stdout",
     "output_type": "stream",
     "text": [
      "['€29.00', '€29.00', '€29.00', '€9.00', '€9.00', '€9.00', '€35.00']\n"
     ]
    }
   ],
   "source": [
    "print(cleaned_list_products_prices)"
   ]
  },
  {
   "cell_type": "code",
   "execution_count": 16,
   "id": "3629727d-03b0-4ed5-8fc7-b69f3c424a6c",
   "metadata": {},
   "outputs": [
    {
     "name": "stdout",
     "output_type": "stream",
     "text": [
      "['https://mystore-testlab.coderslab.pl/img/p/3/3-home_default.jpg', 'https://mystore-testlab.coderslab.pl/img/p/4/4-home_default.jpg', 'https://mystore-testlab.coderslab.pl/img/p/5/5-home_default.jpg', 'https://mystore-testlab.coderslab.pl/img/p/1/5/15-home_default.jpg', 'https://mystore-testlab.coderslab.pl/img/p/1/6/16-home_default.jpg', 'https://mystore-testlab.coderslab.pl/img/p/1/7/17-home_default.jpg', 'https://mystore-testlab.coderslab.pl/img/p/2/3/23-home_default.jpg']\n"
     ]
    }
   ],
   "source": [
    "list_products_imgs = []\n",
    "\n",
    "products_imgs = result.find_all('div', class_ = 'thumbnail-top')\n",
    "for product in products_imgs:\n",
    "    list_products_imgs.append(product.find('a').find('img').attrs[\"src\"])\n",
    "\n",
    "print(list_products_imgs)"
   ]
  },
  {
   "cell_type": "code",
   "execution_count": 20,
   "id": "a811781d-8691-43f6-8cbe-e69faaf5fdd6",
   "metadata": {},
   "outputs": [
    {
     "name": "stdout",
     "output_type": "stream",
     "text": [
      "['https://mystore-testlab.coderslab.pl/index.php?id_product=3&id_product_attribute=13&rewrite=the-best-is-yet-to-come-framed-poster&controller=product#/19-dimension-40x60cm', 'https://mystore-testlab.coderslab.pl/index.php?id_product=4&id_product_attribute=16&rewrite=the-adventure-begins-framed-poster&controller=product#/19-dimension-40x60cm', 'https://mystore-testlab.coderslab.pl/index.php?id_product=5&id_product_attribute=19&rewrite=today-is-a-good-day-framed-poster&controller=product#/19-dimension-40x60cm', 'https://mystore-testlab.coderslab.pl/index.php?id_product=12&rewrite=mountain-fox-vector-graphics&controller=product', 'https://mystore-testlab.coderslab.pl/index.php?id_product=13&rewrite=brown-bear-vector-graphics&controller=product', 'https://mystore-testlab.coderslab.pl/index.php?id_product=14&rewrite=hummingbird-vector-graphics&controller=product', 'https://mystore-testlab.coderslab.pl/index.php?id_product=15&rewrite=pack-mug-framed-poster&controller=product']\n"
     ]
    }
   ],
   "source": [
    "list_products_links = []\n",
    "\n",
    "products_links = result.find_all('div', class_ = 'thumbnail-top')\n",
    "for product in products_links:\n",
    "    list_products_links.append(product.find('a').attrs[\"href\"])\n",
    "\n",
    "print(list_products_links)"
   ]
  },
  {
   "cell_type": "code",
   "execution_count": 28,
   "id": "a5f50289-d500-441c-ac87-3492d0604d58",
   "metadata": {},
   "outputs": [],
   "source": [
    "data = {\n",
    "    \"title\": list_products_titles,\n",
    "    \"price\": cleaned_list_products_prices,\n",
    "    \"image\": list_products_imgs,\n",
    "    \"product\": list_products_links\n",
    "}\n",
    "data = pd.DataFrame(data)"
   ]
  },
  {
   "cell_type": "code",
   "execution_count": 82,
   "id": "a89b15f2-5002-4ccc-95af-5acc54205766",
   "metadata": {},
   "outputs": [
    {
     "data": {
      "text/html": [
       "<div>\n",
       "<style scoped>\n",
       "    .dataframe tbody tr th:only-of-type {\n",
       "        vertical-align: middle;\n",
       "    }\n",
       "\n",
       "    .dataframe tbody tr th {\n",
       "        vertical-align: top;\n",
       "    }\n",
       "\n",
       "    .dataframe thead th {\n",
       "        text-align: right;\n",
       "    }\n",
       "</style>\n",
       "<table border=\"1\" class=\"dataframe\">\n",
       "  <thead>\n",
       "    <tr style=\"text-align: right;\">\n",
       "      <th></th>\n",
       "      <th>title</th>\n",
       "      <th>price</th>\n",
       "      <th>image</th>\n",
       "      <th>product</th>\n",
       "    </tr>\n",
       "  </thead>\n",
       "  <tbody>\n",
       "    <tr>\n",
       "      <th>0</th>\n",
       "      <td>The best is yet to come'...</td>\n",
       "      <td>€29.00</td>\n",
       "      <td>https://mystore-testlab.coderslab.pl/img/p/3/3...</td>\n",
       "      <td>https://mystore-testlab.coderslab.pl/index.php...</td>\n",
       "    </tr>\n",
       "    <tr>\n",
       "      <th>1</th>\n",
       "      <td>The adventure begins Framed...</td>\n",
       "      <td>€29.00</td>\n",
       "      <td>https://mystore-testlab.coderslab.pl/img/p/4/4...</td>\n",
       "      <td>https://mystore-testlab.coderslab.pl/index.php...</td>\n",
       "    </tr>\n",
       "    <tr>\n",
       "      <th>2</th>\n",
       "      <td>Today is a good day Framed...</td>\n",
       "      <td>€29.00</td>\n",
       "      <td>https://mystore-testlab.coderslab.pl/img/p/5/5...</td>\n",
       "      <td>https://mystore-testlab.coderslab.pl/index.php...</td>\n",
       "    </tr>\n",
       "    <tr>\n",
       "      <th>3</th>\n",
       "      <td>Mountain fox - Vector graphics</td>\n",
       "      <td>€9.00</td>\n",
       "      <td>https://mystore-testlab.coderslab.pl/img/p/1/5...</td>\n",
       "      <td>https://mystore-testlab.coderslab.pl/index.php...</td>\n",
       "    </tr>\n",
       "    <tr>\n",
       "      <th>4</th>\n",
       "      <td>Brown bear - Vector graphics</td>\n",
       "      <td>€9.00</td>\n",
       "      <td>https://mystore-testlab.coderslab.pl/img/p/1/6...</td>\n",
       "      <td>https://mystore-testlab.coderslab.pl/index.php...</td>\n",
       "    </tr>\n",
       "    <tr>\n",
       "      <th>5</th>\n",
       "      <td>Hummingbird - Vector graphics</td>\n",
       "      <td>€9.00</td>\n",
       "      <td>https://mystore-testlab.coderslab.pl/img/p/1/7...</td>\n",
       "      <td>https://mystore-testlab.coderslab.pl/index.php...</td>\n",
       "    </tr>\n",
       "    <tr>\n",
       "      <th>6</th>\n",
       "      <td>Pack Mug + Framed poster</td>\n",
       "      <td>€35.00</td>\n",
       "      <td>https://mystore-testlab.coderslab.pl/img/p/2/3...</td>\n",
       "      <td>https://mystore-testlab.coderslab.pl/index.php...</td>\n",
       "    </tr>\n",
       "  </tbody>\n",
       "</table>\n",
       "</div>"
      ],
      "text/plain": [
       "                            title   price  \\\n",
       "0     The best is yet to come'...  €29.00   \n",
       "1  The adventure begins Framed...  €29.00   \n",
       "2   Today is a good day Framed...  €29.00   \n",
       "3  Mountain fox - Vector graphics   €9.00   \n",
       "4    Brown bear - Vector graphics   €9.00   \n",
       "5   Hummingbird - Vector graphics   €9.00   \n",
       "6        Pack Mug + Framed poster  €35.00   \n",
       "\n",
       "                                               image  \\\n",
       "0  https://mystore-testlab.coderslab.pl/img/p/3/3...   \n",
       "1  https://mystore-testlab.coderslab.pl/img/p/4/4...   \n",
       "2  https://mystore-testlab.coderslab.pl/img/p/5/5...   \n",
       "3  https://mystore-testlab.coderslab.pl/img/p/1/5...   \n",
       "4  https://mystore-testlab.coderslab.pl/img/p/1/6...   \n",
       "5  https://mystore-testlab.coderslab.pl/img/p/1/7...   \n",
       "6  https://mystore-testlab.coderslab.pl/img/p/2/3...   \n",
       "\n",
       "                                             product  \n",
       "0  https://mystore-testlab.coderslab.pl/index.php...  \n",
       "1  https://mystore-testlab.coderslab.pl/index.php...  \n",
       "2  https://mystore-testlab.coderslab.pl/index.php...  \n",
       "3  https://mystore-testlab.coderslab.pl/index.php...  \n",
       "4  https://mystore-testlab.coderslab.pl/index.php...  \n",
       "5  https://mystore-testlab.coderslab.pl/index.php...  \n",
       "6  https://mystore-testlab.coderslab.pl/index.php...  "
      ]
     },
     "execution_count": 82,
     "metadata": {},
     "output_type": "execute_result"
    }
   ],
   "source": [
    "data"
   ]
  },
  {
   "cell_type": "code",
   "execution_count": 70,
   "id": "81a869b3-1c51-466e-9f62-ff3c52f01444",
   "metadata": {},
   "outputs": [],
   "source": [
    "request_2 = requests.get(\"https://mystore-testlab.coderslab.pl/index.php?id_product=3&id_product_attribute=13&rewrite=the-best-is-yet-to-come-framed-poster&controller=product#/19-dimension-40x60cm\")\n",
    "result_2 = BeautifulSoup(request_2.text, 'html.parser')"
   ]
  },
  {
   "cell_type": "code",
   "execution_count": 72,
   "id": "496c1e41-d8d7-4598-8ef0-9972a56d7c54",
   "metadata": {},
   "outputs": [],
   "source": [
    "one_product_description = result_2.find('div', class_ = 'tab-pane fade in active js-product-tab-active').find('div', class_ = 'product-description').find('p').text"
   ]
  },
  {
   "cell_type": "code",
   "execution_count": 74,
   "id": "fafea5cc-c237-4909-a0b2-a361bf0d4564",
   "metadata": {},
   "outputs": [],
   "source": [
    "one_product_options = result_2.find('select', class_ = 'form-control form-control-select').find_all('option')"
   ]
  },
  {
   "cell_type": "code",
   "execution_count": 76,
   "id": "ba78ab23-2e24-4971-a943-ec3b971a7d49",
   "metadata": {},
   "outputs": [],
   "source": [
    "list_one_product_options = []\n",
    "for product in one_product_options:\n",
    "    list_one_product_options.append(product.text)"
   ]
  },
  {
   "cell_type": "code",
   "execution_count": 106,
   "id": "3e542af4-db6f-4c06-8cee-257bc0081ee6",
   "metadata": {},
   "outputs": [],
   "source": [
    "descriptions = []\n",
    "variants_column = []\n",
    "\n",
    "for link in data[\"product\"]:\n",
    "    driver.get(link)\n",
    "    page_source = driver.page_source\n",
    "    soup = BeautifulSoup(page_source, \"html.parser\")\n",
    "    \n",
    "    description = soup.find(\"div\", class_=\"tabs\").find(\"div\", class_=\"product-description\").text\n",
    "    descriptions.append(description)\n",
    "    \n",
    "    list_of_variants = []\n",
    "    try:\n",
    "        variants = soup.find(\"select\", class_=\"form-control form-control-select\").find_all(\"option\")\n",
    "        for variant in variants:\n",
    "            list_of_variants.append(variant.text)\n",
    "        variants_column.append(list_of_variants)\n",
    "    except:\n",
    "        variants_column.append([])"
   ]
  }
 ],
 "metadata": {
  "kernelspec": {
   "display_name": "Python 3 (ipykernel)",
   "language": "python",
   "name": "python3"
  },
  "language_info": {
   "codemirror_mode": {
    "name": "ipython",
    "version": 3
   },
   "file_extension": ".py",
   "mimetype": "text/x-python",
   "name": "python",
   "nbconvert_exporter": "python",
   "pygments_lexer": "ipython3",
   "version": "3.12.4"
  }
 },
 "nbformat": 4,
 "nbformat_minor": 5
}
