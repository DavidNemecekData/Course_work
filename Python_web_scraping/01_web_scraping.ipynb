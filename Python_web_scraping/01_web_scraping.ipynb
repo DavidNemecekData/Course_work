{
 "cells": [
  {
   "cell_type": "code",
   "execution_count": 4,
   "id": "7558045f-54d0-46b3-bb6a-4d7a709c4883",
   "metadata": {},
   "outputs": [],
   "source": [
    "import requests\n",
    "from bs4 import BeautifulSoup\n",
    "import pandas as pd"
   ]
  },
  {
   "cell_type": "code",
   "execution_count": 5,
   "id": "a86187a3-ba4f-4a56-a17f-9f64e60c1fc0",
   "metadata": {},
   "outputs": [],
   "source": [
    "request = requests.get(\"https://mystore-testlab.coderslab.pl/index.php?id_product=3&id_product_attribute=13&rewrite=the-best-is-yet-to-come-framed-poster&controller=product#/19-dimension-40x60cm\")\n",
    "result = BeautifulSoup(request.text, 'html.parser')"
   ]
  },
  {
   "cell_type": "code",
   "execution_count": 6,
   "id": "09c12f1a-c97b-47ab-b79c-e2fe3adbed9f",
   "metadata": {},
   "outputs": [],
   "source": [
    "one_product_description = result.find('div', class_ = 'tab-pane fade in active js-product-tab-active').find('div', class_ = 'product-description').find('p').text"
   ]
  },
  {
   "cell_type": "code",
   "execution_count": 7,
   "id": "420fbc3d-8d5d-448c-b5b7-32eff4607d0d",
   "metadata": {},
   "outputs": [
    {
     "data": {
      "text/plain": [
       "'The best is yet to come! Give your walls a voice with a framed poster. This aesthethic, optimistic poster will look great in your desk or in an open-space office. Painted wooden frame with passe-partout for more depth.'"
      ]
     },
     "execution_count": 7,
     "metadata": {},
     "output_type": "execute_result"
    }
   ],
   "source": [
    "one_product_description"
   ]
  },
  {
   "cell_type": "code",
   "execution_count": 8,
   "id": "65ead100-0e4f-4ccd-a76e-441b8b911ea3",
   "metadata": {},
   "outputs": [],
   "source": [
    "one_product_options = result.find('select', class_ = 'form-control form-control-select').find_all('option')"
   ]
  },
  {
   "cell_type": "code",
   "execution_count": 14,
   "id": "f502ba27-d067-4da0-a553-3aa070c8d070",
   "metadata": {},
   "outputs": [],
   "source": [
    "list_one_product_options = []\n",
    "for product in one_product_options:\n",
    "    list_one_product_options.append(product.text)"
   ]
  },
  {
   "cell_type": "code",
   "execution_count": 16,
   "id": "391cb626-f676-4cbb-9837-e1e314696435",
   "metadata": {},
   "outputs": [
    {
     "data": {
      "text/plain": [
       "['40x60cm', '60x90cm', '80x120cm']"
      ]
     },
     "execution_count": 16,
     "metadata": {},
     "output_type": "execute_result"
    }
   ],
   "source": [
    "list_one_product_options"
   ]
  }
 ],
 "metadata": {
  "kernelspec": {
   "display_name": "Python 3 (ipykernel)",
   "language": "python",
   "name": "python3"
  },
  "language_info": {
   "codemirror_mode": {
    "name": "ipython",
    "version": 3
   },
   "file_extension": ".py",
   "mimetype": "text/x-python",
   "name": "python",
   "nbconvert_exporter": "python",
   "pygments_lexer": "ipython3",
   "version": "3.12.4"
  }
 },
 "nbformat": 4,
 "nbformat_minor": 5
}
