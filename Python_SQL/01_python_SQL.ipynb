{
 "cells": [
  {
   "cell_type": "markdown",
   "metadata": {},
   "source": [
    "# Exercise 1\n",
    "\n",
    "Install a library to communicate to a database: `psycopg2`.\n",
    "\n",
    "Import the `classicmodels.sql` database to your PostgreSQL database. If you need help, you can find the instructions in the Prework in the article **Preparing database** from the chapter **SQL Basics - individual work**. You can also ask your mentor to help you\n",
    "\n",
    "Fill out the PostgreSQL connection data in the code. When you run it, you should see a list of offices of a company that deals in classic car and motorcycle models.\n"
   ]
  },
  {
   "cell_type": "code",
   "execution_count": 2,
   "metadata": {},
   "outputs": [
    {
     "name": "stdout",
     "output_type": "stream",
     "text": [
      "Office city Boston:\n",
      "1550 Court Place\n",
      "Suite 102\n",
      "MA, USA\n",
      "\n",
      "Office city London:\n",
      "25 Old Broad Street\n",
      "Level 7\n",
      "UK\n",
      "\n",
      "Office city NYC:\n",
      "523 East 53rd Street\n",
      "apt. 5A\n",
      "NY, USA\n",
      "\n",
      "Office city Paris:\n",
      "43 Rue Jouffroy D'abbans\n",
      "France\n",
      "\n",
      "Office city San Francisco:\n",
      "100 Market Street\n",
      "Suite 300\n",
      "CA, USA\n",
      "\n",
      "Office city Sydney:\n",
      "5-11 Wentworth Avenue\n",
      "Floor #2\n",
      "Australia\n",
      "\n",
      "Office city Tokyo:\n",
      "4-1 Kioicho\n",
      "Chiyoda-Ku, Japan\n",
      "\n"
     ]
    }
   ],
   "source": [
    "import psycopg2\n",
    "\n",
    "try:\n",
    "    connection = psycopg2.connect(\n",
    "        host='localhost',\n",
    "        user='postgres',  \n",
    "        password='1108',  \n",
    "        dbname='classicmodels', \n",
    "    )\n",
    "    cursor = connection.cursor()\n",
    "\n",
    "    cursor.execute('SELECT city, addressLine1, addressLine2, state, country FROM offices ORDER BY city')\n",
    "\n",
    "    for row in cursor:\n",
    "        print(f'Office city {row[0]}:')\n",
    "        print(row[1]) \n",
    "\n",
    "        if row[2] is not None: \n",
    "            print(row[2])\n",
    "        \n",
    "        if row[3] is None: \n",
    "            print(row[4]) \n",
    "        else:\n",
    "            print(f'{row[3]}, {row[4]}')\n",
    "    \n",
    "        print('')\n",
    "\n",
    "except Exception as e:\n",
    "    print(f\"Error: {e}\")\n",
    "\n",
    "finally:\n",
    "    if cursor:\n",
    "        cursor.close()\n",
    "    if connection:\n",
    "        connection.close()"
   ]
  }
 ],
 "metadata": {
  "kernelspec": {
   "display_name": "base",
   "language": "python",
   "name": "python3"
  },
  "language_info": {
   "codemirror_mode": {
    "name": "ipython",
    "version": 3
   },
   "file_extension": ".py",
   "mimetype": "text/x-python",
   "name": "python",
   "nbconvert_exporter": "python",
   "pygments_lexer": "ipython3",
   "version": "3.12.7"
  }
 },
 "nbformat": 4,
 "nbformat_minor": 4
}
