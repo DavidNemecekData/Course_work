{
 "cells": [
  {
   "cell_type": "markdown",
   "metadata": {},
   "source": [
    "# Loading data\n",
    "\n",
    "In the file create a database connection object. Next call the SQL queries below and use Python to display their results in the Jupyter notebook.\n",
    "1. Display all products from the `Motorcycles` product line.\n",
    "1. Display all products with warehouse stock above `1000` and the cost below `20`pln.\n",
    "1. Display all orders (`orders` table) made in 2003.\n",
    "1. Display all orders (`orders` table) made in 2003 and canceled.\n",
    "\n",
    "The queries are identical as those from Exercise 1 in the previous section.\n",
    "\n"
   ]
  },
  {
   "cell_type": "code",
   "execution_count": 1,
   "metadata": {},
   "outputs": [],
   "source": [
    "import psycopg2"
   ]
  },
  {
   "cell_type": "code",
   "execution_count": 2,
   "metadata": {},
   "outputs": [],
   "source": [
    "connection = psycopg2.connect(\n",
    "    host='localhost',\n",
    "    user='postgres',\n",
    "    password='1108',\n",
    "    dbname='classicmodels',\n",
    ")\n",
    "\n",
    "cursor = connection.cursor()"
   ]
  },
  {
   "cell_type": "code",
   "execution_count": 3,
   "metadata": {},
   "outputs": [
    {
     "name": "stdout",
     "output_type": "stream",
     "text": [
      "('S10_1678', '1969 Harley Davidson Ultimate Chopper', 'Motorcycles', '1:10', 'Min Lin Diecast', 'This replica features working kickstand, front suspension, gear-shift lever, footbrake lever, drive chain, wheels and steering. All parts are particularly delicate due to their precise scale and require special care and attention.', 7933, 48.81, 95.7)\n",
      "('S10_2016', '1996 Moto Guzzi 1100i', 'Motorcycles', '1:10', 'Highway 66 Mini Classics', 'Official Moto Guzzi logos and insignias, saddle bags located on side of motorcycle, detailed engine, working steering, working suspension, two leather seats, luggage rack, dual exhaust pipes, small saddle bag located on handle bars, two-tone paint with chrome accents, superior die-cast detail , rotating wheels , working kick stand, diecast metal with plastic parts and baked enamel finish.', 6625, 68.99, 118.94)\n",
      "('S10_4698', '2003 Harley-Davidson Eagle Drag Bike', 'Motorcycles', '1:10', 'Red Start Diecast', 'Model features, official Harley Davidson logos and insignias, detachable rear wheelie bar, heavy diecast metal with resin parts, authentic multi-color tampo-printed graphics, separate engine drive belts, free-turning front fork, rotating tires and rear racing slick, certificate of authenticity, detailed engine, display stand\\n, precision diecast replica, baked enamel finish, 1:10 scale model, removable fender, seat and tank cover piece for displaying the superior detail of the v-twin engine', 5582, 91.02, 193.66)\n",
      "('S12_2823', '2002 Suzuki XREO', 'Motorcycles', '1:12', 'Unimax Art Galleries', 'Official logos and insignias, saddle bags located on side of motorcycle, detailed engine, working steering, working suspension, two leather seats, luggage rack, dual exhaust pipes, small saddle bag located on handle bars, two-tone paint with chrome accents, superior die-cast detail , rotating wheels , working kick stand, diecast metal with plastic parts and baked enamel finish.', 9997, 66.27, 150.62)\n",
      "('S18_2625', '1936 Harley Davidson El Knucklehead', 'Motorcycles', '1:18', 'Welly Diecast Productions', 'Intricately detailed with chrome accents and trim, official die-struck logos and baked enamel finish.', 4357, 24.23, 60.57)\n",
      "('S18_3782', '1957 Vespa GS150', 'Motorcycles', '1:18', 'Studio M Art Models', 'Features rotating wheels , working kick stand. Comes with stand.', 7689, 32.95, 62.17)\n",
      "('S24_1578', '1997 BMW R 1100 S', 'Motorcycles', '1:24', 'Autoart Studio Design', 'Detailed scale replica with working suspension and constructed from over 70 parts', 7003, 60.86, 112.7)\n",
      "('S24_2000', '1960 BSA Gold Star DBD34', 'Motorcycles', '1:24', 'Highway 66 Mini Classics', 'Detailed scale replica with working suspension and constructed from over 70 parts', 15, 37.32, 76.17)\n",
      "('S24_2360', '1982 Ducati 900 Monster', 'Motorcycles', '1:24', 'Highway 66 Mini Classics', 'Features two-tone paint with chrome accents, superior die-cast detail , rotating wheels , working kick stand', 6840, 47.1, 69.26)\n",
      "('S32_1374', '1997 BMW F650 ST', 'Motorcycles', '1:32', 'Exoto Designs', 'Features official die-struck logos and baked enamel finish. Comes with stand.', 178, 66.92, 99.89)\n",
      "('S32_2206', '1982 Ducati 996 R', 'Motorcycles', '1:32', 'Gearbox Collectibles', 'Features rotating wheels , working kick stand. Comes with stand.', 9241, 24.14, 40.23)\n",
      "('S32_4485', '1974 Ducati 350 Mk3 Desmo', 'Motorcycles', '1:32', 'Second Gear Diecast', 'This model features two-tone paint with chrome accents, superior die-cast detail , rotating wheels , working kick stand', 3341, 56.13, 102.05)\n",
      "('S50_4713', '2002 Yamaha YZR M1', 'Motorcycles', '1:50', 'Autoart Studio Design', 'Features rotating wheels , working kick stand. Comes with stand.', 600, 34.17, 81.36)\n"
     ]
    }
   ],
   "source": [
    "cursor.execute(\"SELECT * FROM products WHERE productline = 'Motorcycles'\")\n",
    "rows = cursor.fetchall()\n",
    "for row in rows:\n",
    "    print(row)"
   ]
  },
  {
   "cell_type": "code",
   "execution_count": 4,
   "metadata": {},
   "outputs": [
    {
     "name": "stdout",
     "output_type": "stream",
     "text": [
      "('S24_2840', '1958 Chevy Corvette Limited Edition', 'Classic Cars', '1:24', 'Carousel DieCast Legends', 'The operating parts of this 1958 Chevy Corvette Limited Edition are particularly delicate due to their precise scale and require special care and attention. Features rotating wheels, working streering, opening doors and trunk. Color dark green.', 2542, 15.91, 35.36)\n",
      "('S24_2972', '1982 Lamborghini Diablo', 'Classic Cars', '1:24', 'Second Gear Diecast', 'This replica features opening doors, superb detail and craftsmanship, working steering system, opening forward compartment, opening rear trunk with removable spare, 4 wheel independent spring suspension as well as factory baked enamel finish.', 7723, 16.24, 37.76)\n"
     ]
    }
   ],
   "source": [
    "cursor.execute(\"SELECT * FROM products WHERE quantityinstock > 1000 AND buyprice < 20\")\n",
    "rows = cursor.fetchall()\n",
    "for row in rows:\n",
    "    print(row)"
   ]
  },
  {
   "cell_type": "code",
   "execution_count": 5,
   "metadata": {},
   "outputs": [
    {
     "name": "stdout",
     "output_type": "stream",
     "text": [
      "(10167, datetime.date(2003, 10, 23), datetime.date(2003, 10, 30), None, 'Cancelled', \"Customer called to cancel. The warehouse was notified in time and the order didn't ship. They have a new VP of Sales and are shifting their sales model. Our VP of Sales should contact them.\", 448)\n",
      "(10179, datetime.date(2003, 11, 11), datetime.date(2003, 11, 17), datetime.date(2003, 11, 13), 'Cancelled', 'Customer cancelled due to urgent budgeting issues. Must be cautious when dealing with them in the future. Since order shipped already we must discuss who would cover the shipping charges.', 496)\n"
     ]
    }
   ],
   "source": [
    "cursor.execute(\"SELECT * FROM orders WHERE orderdate >= '2003-01-01' AND orderdate < '2004-01-01' AND status = 'Cancelled'\")\n",
    "rows = cursor.fetchall()\n",
    "for row in rows:\n",
    "    print(row)"
   ]
  },
  {
   "cell_type": "code",
   "execution_count": 6,
   "metadata": {},
   "outputs": [
    {
     "name": "stdout",
     "output_type": "stream",
     "text": [
      "5983.470000000001\n",
      "110\n",
      "54.395181818181825\n"
     ]
    }
   ],
   "source": [
    "# exercise number 2\n",
    "cursor.execute(\"SELECT buyprice FROM products\")\n",
    "rows = cursor.fetchall()\n",
    "\n",
    "sum = 0\n",
    "for row in rows:\n",
    "    price = float(row[0])\n",
    "    sum += price\n",
    "print(sum)\n",
    "print(len(rows))\n",
    "average = sum / len(rows)\n",
    "print(average)\n"
   ]
  },
  {
   "cell_type": "code",
   "execution_count": 7,
   "metadata": {},
   "outputs": [
    {
     "name": "stdout",
     "output_type": "stream",
     "text": [
      "[95.7, 214.3, 118.94, 193.66, 136.0, 147.74, 194.57, 207.8, 150.62, 151.08, 117.44, 173.02, 79.8, 115.16, 141.54, 102.74, 53.91, 124.44, 157.69, 170.0, 77.0, 118.5, 142.25, 163.73, 60.54, 127.13, 84.48, 60.57, 168.75, 132.0, 101.31, 62.46, 86.02, 104.72, 136.59, 169.34, 107.57, 100.84, 80.41, 99.21, 146.99, 141.28, 62.17, 105.87, 143.62, 92.03, 87.77, 50.31, 148.8, 71.27, 73.49, 57.8, 112.7, 50.31, 109.42, 33.19, 76.17, 122.89, 44.8, 69.26, 90.87, 35.36, 68.51, 117.44, 37.76, 88.51, 85.61, 61.23, 65.75, 107.08, 83.86, 140.43, 68.24, 41.03, 118.28, 97.39, 72.45, 80.84, 99.89, 40.23, 62.14, 68.79, 102.05, 43.64, 58.58, 81.36, 66.67, 91.34, 86.61, 90.52, 99.72, 72.28, 101.15, 118.65, 80.0, 100.17, 99.31, 74.03, 49.66, 54.6, 136.67, 116.67, 122.73, 60.77, 121.08, 127.79, 96.31, 54.11, 64.64, 115.75]\n",
      "max value = 214.3\n",
      "min value = 33.19\n"
     ]
    }
   ],
   "source": [
    "# exercise number 3\n",
    "import math\n",
    "cursor.execute(\"SELECT msrp FROM products\")\n",
    "rows = cursor.fetchall()\n",
    "my_list = []\n",
    "for row in rows:\n",
    "    price = float(row[0])\n",
    "    my_list.append(price)\n",
    "print(my_list)\n",
    "max_value = max(my_list)\n",
    "min_value = min(my_list)\n",
    "print(f\"max value = {max_value}\")\n",
    "print(f\"min value = {min_value}\")\n"
   ]
  }
 ],
 "metadata": {
  "kernelspec": {
   "display_name": "base",
   "language": "python",
   "name": "python3"
  },
  "language_info": {
   "codemirror_mode": {
    "name": "ipython",
    "version": 3
   },
   "file_extension": ".py",
   "mimetype": "text/x-python",
   "name": "python",
   "nbconvert_exporter": "python",
   "pygments_lexer": "ipython3",
   "version": "3.12.7"
  }
 },
 "nbformat": 4,
 "nbformat_minor": 4
}
