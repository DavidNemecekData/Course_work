{
 "cells": [
  {
   "cell_type": "markdown",
   "metadata": {},
   "source": [
    "# Exercise 2\n",
    "\n",
    "Fill out the PostgreSQL connection data in the code. Run a few queries and find out some information about the client **Muscle Machine Inc**.\n",
    "\n",
    "To do it, first you need to know the `customerNumber` of the **Muscle Machine Inc** customer - this part of code is ready.\n",
    "\n",
    "Then check (each point is a separate query and display of the results):\n",
    "- name and surname of the customer's contact person (edit the query that reads `customerNumber`)\n",
    "- what is the name of the salesperson taking care of this customer (again, edit the query to learn the employee ID - and with another query read the information about this employee)\n",
    "- ids, statuses and their orders comments\n",
    "- the check numbers and the amounts this customer paid.\n",
    "\n",
    "Remember that queries are simple strings - you can embed variables into them in several different ways, including the f-string syntax:\n",
    "```python\n",
    "cursor.execute(f\"SELECT orderNumber, status FROM orders WHERE customerNumber = {customerNumber}\")\n",
    "```\n",
    "\n",
    "This is enough for now - during classes you're going to learn how to pass the data to the request **in a secure way**."
   ]
  },
  {
   "cell_type": "code",
   "execution_count": 1,
   "metadata": {},
   "outputs": [],
   "source": [
    "import psycopg2\n",
    "\n",
    "connection = psycopg2.connect(\n",
    "    host='localhost',\n",
    "    user='postgres',\n",
    "    password='1108',\n",
    "    dbname='classicmodels',\n",
    ")\n",
    "\n",
    "cursor = connection.cursor()"
   ]
  },
  {
   "cell_type": "code",
   "execution_count": 2,
   "metadata": {},
   "outputs": [
    {
     "name": "stdout",
     "output_type": "stream",
     "text": [
      "(151,)\n",
      "<class 'tuple'>\n"
     ]
    }
   ],
   "source": [
    "cursor.execute(\"SELECT customerNumber FROM customers WHERE customerName = 'Muscle Machine Inc'\")\n",
    "\n",
    "row = cursor.fetchone()\n",
    "print(row)\n",
    "print(type(row))"
   ]
  },
  {
   "cell_type": "code",
   "execution_count": 3,
   "metadata": {},
   "outputs": [
    {
     "name": "stdout",
     "output_type": "stream",
     "text": [
      "151\n",
      "<class 'int'>\n"
     ]
    }
   ],
   "source": [
    "customerNumber = row[0]\n",
    "print(customerNumber)\n",
    "print(type(customerNumber))"
   ]
  },
  {
   "cell_type": "code",
   "execution_count": 4,
   "metadata": {},
   "outputs": [
    {
     "name": "stdout",
     "output_type": "stream",
     "text": [
      "\"Muscle Machine Inc\" customer has customerNumber = 151\n"
     ]
    }
   ],
   "source": [
    "print('\"Muscle Machine Inc\" customer has customerNumber =', customerNumber)"
   ]
  },
  {
   "cell_type": "code",
   "execution_count": 6,
   "metadata": {},
   "outputs": [
    {
     "name": "stdout",
     "output_type": "stream",
     "text": [
      "Customer's contact person: Jeff Young\n"
     ]
    }
   ],
   "source": [
    "# name and surname of the customer's contact person\n",
    "cursor.execute(\"SELECT contactfirstname, contactlastname FROM customers WHERE customerNumber = 151\")\n",
    "row = cursor.fetchone()\n",
    "contactname = f\"{row[0]} {row[1]}\"\n",
    "print(f\"Customer's contact person: {contactname}\")"
   ]
  },
  {
   "cell_type": "code",
   "execution_count": 7,
   "metadata": {},
   "outputs": [
    {
     "name": "stdout",
     "output_type": "stream",
     "text": [
      "Employee number: 1286\n",
      "Salesperson taking care of customer: Foon Yue Tseng\n"
     ]
    }
   ],
   "source": [
    "# what is the name of the salesperson taking care of this customer (again, edit the query to learn the employee ID\n",
    "\n",
    "cursor.execute(\"SELECT salesrepemployeenumber FROM customers WHERE customerNumber = 151\")\n",
    "row = cursor.fetchone()\n",
    "employeenumber = row[0]\n",
    "print(f\"Employee number: {employeenumber}\")\n",
    "\n",
    "cursor.execute(\"SELECT firstname, lastname FROM employees WHERE employeenumber = 1286\")\n",
    "row = cursor.fetchone()\n",
    "employeename = f\"{row[0]} {row[1]}\"\n",
    "print(f\"Salesperson taking care of customer: {employeename}\")"
   ]
  },
  {
   "cell_type": "code",
   "execution_count": 8,
   "metadata": {},
   "outputs": [
    {
     "name": "stdout",
     "output_type": "stream",
     "text": [
      "Order number: 10127, Status: Shipped, Comment: Customer requested special shippment. The instructions were passed along to the warehouse\n",
      "Order number: 10204, Status: Shipped, Comment: None\n",
      "Order number: 10267, Status: Shipped, Comment: None\n",
      "Order number: 10349, Status: Shipped, Comment: None\n"
     ]
    }
   ],
   "source": [
    "# identification numbers, statuses, and their order comments\n",
    "cursor.execute(\"SELECT  ordernumber, status, comments FROM orders where customerNumber = 151\")\n",
    "rows = cursor.fetchall()\n",
    "for row in rows:\n",
    "    order = f\"Order number: {row[0]}, Status: {row[1]}, Comment: {row[2]}\"\n",
    "    print(order)"
   ]
  },
  {
   "cell_type": "code",
   "execution_count": 9,
   "metadata": {},
   "outputs": [
    {
     "name": "stdout",
     "output_type": "stream",
     "text": [
      "checknumber: BF686658, amount: 58793.53\n",
      "checknumber: GB852215, amount: 20314.44\n",
      "checknumber: IP568906, amount: 58841.35\n",
      "checknumber: KI884577, amount: 39964.63\n"
     ]
    }
   ],
   "source": [
    "# check numbers and the amounts this customer paid\n",
    "cursor.execute(\"SELECT  checknumber, amount FROM payments WHERE customerNumber = 151\")\n",
    "rows = cursor.fetchall()\n",
    "for row in rows:\n",
    "    paid = f\"checknumber: {row[0]}, amount: {row[1]}\"\n",
    "    print(paid)"
   ]
  }
 ],
 "metadata": {
  "kernelspec": {
   "display_name": "base",
   "language": "python",
   "name": "python3"
  },
  "language_info": {
   "codemirror_mode": {
    "name": "ipython",
    "version": 3
   },
   "file_extension": ".py",
   "mimetype": "text/x-python",
   "name": "python",
   "nbconvert_exporter": "python",
   "pygments_lexer": "ipython3",
   "version": "3.12.7"
  }
 },
 "nbformat": 4,
 "nbformat_minor": 4
}
