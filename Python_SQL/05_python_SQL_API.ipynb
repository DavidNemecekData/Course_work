{
 "cells": [
  {
   "cell_type": "markdown",
   "metadata": {},
   "source": [
    "# Exercise 5\n",
    "\n",
    "In the`classicmodels` database there is a `customers` table containing the `creditLimit` (USD amount) column. Select 10 clients with the highest `creditLimit`; display their names and `creditLimit` in the following currencies: USD (straight from the database) as well as EUR, JPY and GBP. Round the amounts to two decimal places. Retrieve the current exchange rates from [https://exchangeratesapi.io/](https://exchangeratesapi.io/).\n",
    "\n",
    "Example:\n",
    "```\n",
    "Euro+ Shopping Channel: 227600.00 USD / 187183.93EUR / 24017262.40 JPY /160578.63 GBP\n",
    "...\n",
    "```\n"
   ]
  },
  {
   "cell_type": "code",
   "execution_count": 4,
   "metadata": {},
   "outputs": [],
   "source": [
    "import json\n",
    "import requests\n",
    "import psycopg2"
   ]
  },
  {
   "cell_type": "code",
   "execution_count": 5,
   "metadata": {},
   "outputs": [
    {
     "name": "stdout",
     "output_type": "stream",
     "text": [
      "Euro+ Shopping Channel: 227600.0 USD / 220967.66 EUR / 35760038.73 JPY / 183383.93 GBP\n",
      "Mini Gifts Distributors Ltd.: 210500.0 USD / 204365.96 EUR / 33073322.29 JPY / 169605.96 GBP\n",
      "Vida Sport, Ltd: 141300.0 USD / 137182.47 EUR / 22200762.18 JPY / 113849.51 GBP\n",
      "Muscle Machine Inc: 138500.0 USD / 134464.06 EUR / 21760832.0 JPY / 111593.47 GBP\n",
      "AV Stores, Co.: 136800.0 USD / 132813.6 EUR / 21493731.54 JPY / 110223.73 GBP\n",
      "Saveley & Henriot, Co.: 123900.0 USD / 120289.51 EUR / 19466910.36 JPY / 99829.83 GBP\n",
      "Marta's Replicas Co.: 123700.0 USD / 120095.34 EUR / 19435486.78 JPY / 99668.68 GBP\n",
      "L'ordine Souveniers: 121400.0 USD / 117862.36 EUR / 19074115.56 JPY / 97815.51 GBP\n",
      "Heintze Collectables: 120800.0 USD / 117279.85 EUR / 18979844.81 JPY / 97332.07 GBP\n",
      "Toms Spezialitäten, Ltd: 120400.0 USD / 116891.5 EUR / 18916997.64 JPY / 97009.78 GBP\n"
     ]
    }
   ],
   "source": [
    "# Connect to the database\n",
    "cnx = psycopg2.connect(\n",
    "    host='localhost',\n",
    "    user='postgres',\n",
    "    password='1108',\n",
    "    dbname='classicmodels',\n",
    ")\n",
    "cursor = cnx.cursor()\n",
    "\n",
    "# Search the database for top 10 clients with highest credit limit\n",
    "cursor.execute('SELECT customername, creditlimit FROM customers ORDER BY creditlimit DESC LIMIT 10')\n",
    "rows = cursor.fetchall()\n",
    "\n",
    "# Retrieve current exchange rates\n",
    "API_key = '863d612bb6d80c2690069c82e99aae75'\n",
    "API_adress = f\"https://api.exchangeratesapi.io/v1/latest?access_key={API_key}\"\n",
    "response = requests.get(API_adress)\n",
    "data = response.json()\n",
    "\n",
    "# Rates from EUR to USD, JPY, GBP (rates are relative to EUR)\n",
    "USD_rate = data['rates']['USD']\n",
    "JPY_rate = data['rates']['JPY']\n",
    "GBP_rate = data['rates']['GBP']\n",
    "\n",
    "# Iterate through the rows and display the results in different currencies\n",
    "for row in rows:\n",
    "    credit_limit_in_usd = row[1]\n",
    "    credit_limit_in_eur = credit_limit_in_usd / USD_rate\n",
    "    credit_limit_in_jpy = credit_limit_in_eur * JPY_rate\n",
    "    credit_limit_in_gbp = credit_limit_in_eur * GBP_rate\n",
    "    \n",
    "    print(f\"{row[0]}: {round(credit_limit_in_usd, 2)} USD / {round(credit_limit_in_eur, 2)} EUR / \"\n",
    "          f\"{round(credit_limit_in_jpy, 2)} JPY / {round(credit_limit_in_gbp, 2)} GBP\")"
   ]
  }
 ],
 "metadata": {
  "kernelspec": {
   "display_name": "base",
   "language": "python",
   "name": "python3"
  },
  "language_info": {
   "codemirror_mode": {
    "name": "ipython",
    "version": 3
   },
   "file_extension": ".py",
   "mimetype": "text/x-python",
   "name": "python",
   "nbconvert_exporter": "python",
   "pygments_lexer": "ipython3",
   "version": "3.12.7"
  }
 },
 "nbformat": 4,
 "nbformat_minor": 4
}
