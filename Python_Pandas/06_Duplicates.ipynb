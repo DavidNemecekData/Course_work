{
 "cells": [
  {
   "cell_type": "markdown",
   "id": "modern-metadata",
   "metadata": {},
   "source": [
    "# Duplicates\n",
    "\n",
    "Using the **product_prices_renamed.csv** files:\n",
    "\n",
    "1. check how many rows are duplicated,\n",
    "1. using `duplicated` check which rows were doubled.\n",
    "1. using `drop_duplicates`, remove all duplicates from the output dataset (we assume that a row with a duplicate is an error and needs to be removed) - write the result to a new DataFrame.\n",
    "\n",
    "### Hints:\n",
    "\n",
    "#### Subsection 2:\n",
    "To determine, the number of duplicate rows use the source data and the results from subsection 1.\n",
    "\n",
    "#### Subsection 3:\n",
    "\n",
    "1. first use `duplicated`, to find duplicated rows,\n",
    "1. use `loc` to separate them from the output set,\n",
    "1. use `drop_duplicates` to get only those rows that are duplicated."
   ]
  },
  {
   "cell_type": "code",
   "execution_count": 4,
   "id": "brief-cuisine",
   "metadata": {},
   "outputs": [],
   "source": [
    "import pandas as pd"
   ]
  },
  {
   "cell_type": "code",
   "execution_count": 6,
   "id": "280b20df-4c44-46aa-a30c-84c3d5780120",
   "metadata": {},
   "outputs": [],
   "source": [
    "data = pd.read_csv('../../01_Data/product_prices_renamed.csv', sep=';', decimal='.')"
   ]
  },
  {
   "cell_type": "code",
   "execution_count": 10,
   "id": "92190481-c6cd-4379-8e9f-2ce9d14b46bb",
   "metadata": {},
   "outputs": [
    {
     "data": {
      "text/plain": [
       "(149940, 7)"
      ]
     },
     "execution_count": 10,
     "metadata": {},
     "output_type": "execute_result"
    }
   ],
   "source": [
    "data.shape"
   ]
  },
  {
   "cell_type": "markdown",
   "id": "7ef82198-f085-4b7b-bc17-13b064ef3741",
   "metadata": {},
   "source": [
    "1) check how many rows are duplicated"
   ]
  },
  {
   "cell_type": "code",
   "execution_count": 13,
   "id": "bb3ef371-e5a1-4e5a-a269-0c4867652a28",
   "metadata": {},
   "outputs": [],
   "source": [
    "is_duplicated = data.duplicated()"
   ]
  },
  {
   "cell_type": "code",
   "execution_count": 25,
   "id": "5e03699f-fae6-4e84-a686-80326d01e9bd",
   "metadata": {},
   "outputs": [
    {
     "data": {
      "text/plain": [
       "(21420,)"
      ]
     },
     "execution_count": 25,
     "metadata": {},
     "output_type": "execute_result"
    }
   ],
   "source": [
    "is_duplicated[is_duplicated == True].shape"
   ]
  },
  {
   "cell_type": "markdown",
   "id": "c2406034-f50d-49ed-a5fa-ca50a252a7dc",
   "metadata": {},
   "source": [
    "2) using duplicated check which rows were doubled."
   ]
  },
  {
   "cell_type": "code",
   "execution_count": 41,
   "id": "1d5b7d12-11c8-44be-89af-66b88694c52f",
   "metadata": {},
   "outputs": [
    {
     "data": {
      "text/html": [
       "<div>\n",
       "<style scoped>\n",
       "    .dataframe tbody tr th:only-of-type {\n",
       "        vertical-align: middle;\n",
       "    }\n",
       "\n",
       "    .dataframe tbody tr th {\n",
       "        vertical-align: top;\n",
       "    }\n",
       "\n",
       "    .dataframe thead th {\n",
       "        text-align: right;\n",
       "    }\n",
       "</style>\n",
       "<table border=\"1\" class=\"dataframe\">\n",
       "  <thead>\n",
       "    <tr style=\"text-align: right;\">\n",
       "      <th></th>\n",
       "      <th>province</th>\n",
       "      <th>product_types</th>\n",
       "      <th>currency</th>\n",
       "      <th>product_group_id</th>\n",
       "      <th>product_line</th>\n",
       "      <th>value</th>\n",
       "      <th>date</th>\n",
       "    </tr>\n",
       "  </thead>\n",
       "  <tbody>\n",
       "    <tr>\n",
       "      <th>545</th>\n",
       "      <td>SILESIA</td>\n",
       "      <td>NaN</td>\n",
       "      <td>PLN</td>\n",
       "      <td>4</td>\n",
       "      <td>bread - per 1kg</td>\n",
       "      <td>NaN</td>\n",
       "      <td>2013-8</td>\n",
       "    </tr>\n",
       "    <tr>\n",
       "      <th>1913</th>\n",
       "      <td>LUBUSZ</td>\n",
       "      <td>NaN</td>\n",
       "      <td>PLN</td>\n",
       "      <td>4</td>\n",
       "      <td>Masurian barley groats - per 1kg</td>\n",
       "      <td>0.00</td>\n",
       "      <td>2007-10</td>\n",
       "    </tr>\n",
       "    <tr>\n",
       "      <th>2356</th>\n",
       "      <td>POLAND</td>\n",
       "      <td>NaN</td>\n",
       "      <td>PLN</td>\n",
       "      <td>4</td>\n",
       "      <td>Masurian barley groats - per 1kg</td>\n",
       "      <td>1.39</td>\n",
       "      <td>2001-2</td>\n",
       "    </tr>\n",
       "    <tr>\n",
       "      <th>2528</th>\n",
       "      <td>WARMIA-MASURIA</td>\n",
       "      <td>NaN</td>\n",
       "      <td>PLN</td>\n",
       "      <td>4</td>\n",
       "      <td>plain mixed bread (wheat-rye) - per 1kg</td>\n",
       "      <td>3.93</td>\n",
       "      <td>2015-9</td>\n",
       "    </tr>\n",
       "    <tr>\n",
       "      <th>2662</th>\n",
       "      <td>HOLY CROSS</td>\n",
       "      <td>NaN</td>\n",
       "      <td>PLN</td>\n",
       "      <td>4</td>\n",
       "      <td>Poznan wheat flour, bagged - per 1kg</td>\n",
       "      <td>0.59</td>\n",
       "      <td>2001-6</td>\n",
       "    </tr>\n",
       "    <tr>\n",
       "      <th>...</th>\n",
       "      <td>...</td>\n",
       "      <td>...</td>\n",
       "      <td>...</td>\n",
       "      <td>...</td>\n",
       "      <td>...</td>\n",
       "      <td>...</td>\n",
       "      <td>...</td>\n",
       "    </tr>\n",
       "    <tr>\n",
       "      <th>149925</th>\n",
       "      <td>GREATER POLAND</td>\n",
       "      <td>NaN</td>\n",
       "      <td>PLN</td>\n",
       "      <td>4</td>\n",
       "      <td>buckwheat groats roasted whole - per 1kg</td>\n",
       "      <td>0.00</td>\n",
       "      <td>2008-12</td>\n",
       "    </tr>\n",
       "    <tr>\n",
       "      <th>149926</th>\n",
       "      <td>POLAND</td>\n",
       "      <td>NaN</td>\n",
       "      <td>PLN</td>\n",
       "      <td>4</td>\n",
       "      <td>buckwheat groats roasted whole - per 1kg</td>\n",
       "      <td>5.10</td>\n",
       "      <td>2016-5</td>\n",
       "    </tr>\n",
       "    <tr>\n",
       "      <th>149930</th>\n",
       "      <td>WARMIA-MASURIA</td>\n",
       "      <td>NaN</td>\n",
       "      <td>PLN</td>\n",
       "      <td>4</td>\n",
       "      <td>Poznan wheat flour, bagged - per 1kg</td>\n",
       "      <td>0.99</td>\n",
       "      <td>2010-10</td>\n",
       "    </tr>\n",
       "    <tr>\n",
       "      <th>149937</th>\n",
       "      <td>LESSER POLAND</td>\n",
       "      <td>NaN</td>\n",
       "      <td>PLN</td>\n",
       "      <td>4</td>\n",
       "      <td>plain mixed bread (wheat-rye) - per 1kg</td>\n",
       "      <td>3.05</td>\n",
       "      <td>2008-6</td>\n",
       "    </tr>\n",
       "    <tr>\n",
       "      <th>149939</th>\n",
       "      <td>MASOVIA</td>\n",
       "      <td>NaN</td>\n",
       "      <td>PLN</td>\n",
       "      <td>4</td>\n",
       "      <td>Masurian barley groats - per 1kg</td>\n",
       "      <td>0.16</td>\n",
       "      <td>2005-10</td>\n",
       "    </tr>\n",
       "  </tbody>\n",
       "</table>\n",
       "<p>21420 rows × 7 columns</p>\n",
       "</div>"
      ],
      "text/plain": [
       "              province product_types currency  product_group_id  \\\n",
       "545            SILESIA           NaN      PLN                 4   \n",
       "1913            LUBUSZ           NaN      PLN                 4   \n",
       "2356            POLAND           NaN      PLN                 4   \n",
       "2528    WARMIA-MASURIA           NaN      PLN                 4   \n",
       "2662        HOLY CROSS           NaN      PLN                 4   \n",
       "...                ...           ...      ...               ...   \n",
       "149925  GREATER POLAND           NaN      PLN                 4   \n",
       "149926          POLAND           NaN      PLN                 4   \n",
       "149930  WARMIA-MASURIA           NaN      PLN                 4   \n",
       "149937   LESSER POLAND           NaN      PLN                 4   \n",
       "149939         MASOVIA           NaN      PLN                 4   \n",
       "\n",
       "                                    product_line  value     date  \n",
       "545                              bread - per 1kg    NaN   2013-8  \n",
       "1913            Masurian barley groats - per 1kg   0.00  2007-10  \n",
       "2356            Masurian barley groats - per 1kg   1.39   2001-2  \n",
       "2528     plain mixed bread (wheat-rye) - per 1kg   3.93   2015-9  \n",
       "2662        Poznan wheat flour, bagged - per 1kg   0.59   2001-6  \n",
       "...                                          ...    ...      ...  \n",
       "149925  buckwheat groats roasted whole - per 1kg   0.00  2008-12  \n",
       "149926  buckwheat groats roasted whole - per 1kg   5.10   2016-5  \n",
       "149930      Poznan wheat flour, bagged - per 1kg   0.99  2010-10  \n",
       "149937   plain mixed bread (wheat-rye) - per 1kg   3.05   2008-6  \n",
       "149939          Masurian barley groats - per 1kg   0.16  2005-10  \n",
       "\n",
       "[21420 rows x 7 columns]"
      ]
     },
     "execution_count": 41,
     "metadata": {},
     "output_type": "execute_result"
    }
   ],
   "source": [
    "data[is_duplicated]"
   ]
  },
  {
   "cell_type": "markdown",
   "id": "dcdea380-5604-4fff-97fd-7ff63015f062",
   "metadata": {},
   "source": [
    "3) using drop_duplicates, remove all duplicates from the output dataset (we assume that a row with a duplicate is an error and needs to be removed) - write the result to a new DataFrame."
   ]
  },
  {
   "cell_type": "code",
   "execution_count": 27,
   "id": "08938d61-a299-4c0e-bb2f-803c9e8ed559",
   "metadata": {},
   "outputs": [],
   "source": [
    "data_without_duplicates = data.drop_duplicates(keep = 'first')"
   ]
  },
  {
   "cell_type": "code",
   "execution_count": 29,
   "id": "8c5a9524-9d23-4a0e-8337-b486fd55c392",
   "metadata": {},
   "outputs": [
    {
     "data": {
      "text/plain": [
       "(128520, 7)"
      ]
     },
     "execution_count": 29,
     "metadata": {},
     "output_type": "execute_result"
    }
   ],
   "source": [
    "data_without_duplicates.shape"
   ]
  }
 ],
 "metadata": {
  "kernelspec": {
   "display_name": "Python 3 (ipykernel)",
   "language": "python",
   "name": "python3"
  },
  "language_info": {
   "codemirror_mode": {
    "name": "ipython",
    "version": 3
   },
   "file_extension": ".py",
   "mimetype": "text/x-python",
   "name": "python",
   "nbconvert_exporter": "python",
   "pygments_lexer": "ipython3",
   "version": "3.12.4"
  }
 },
 "nbformat": 4,
 "nbformat_minor": 5
}
