{
 "cells": [
  {
   "cell_type": "markdown",
   "id": "imposed-percentage",
   "metadata": {},
   "source": [
    "# Filtering data\n",
    "While generating the `product_prices_renamed.csv` file the following processing errors occurred and they need to be found:\n",
    "1. In the **date** column, data from 1888 appeared - '1888-0',\n",
    "2. Check the **date** column for similar errors but with future values.\n",
    "3. In the **value** column, too high value was introduced – find it and locate the row where it is (use `query`),\n",
    "4. There was a spelling error in the **product_types** column for one of the products. Find it and the corresponding rows. How many such rows are there?\n",
    "\n",
    "You do not need to assign the results to the variable: it is enough if you display them.\n",
    "\n",
    "> Based on the solution of this task, we will later correct all errors in the data.\n",
    "\n",
    "Hints:\n",
    "\n",
    "Subsection 2:\n",
    "1. There is only one such value.\n",
    "2. Use `loc` or `query` with the condition `date > '2020-1'`.\n",
    "\n",
    "Subsection 3:\n",
    "1. There is only one such value.\n",
    "1. Do the following:\n",
    "a) use `describe()`, to view percentiles,\n",
    "b) use `loc` or `query` to find erroneous entries,\n",
    "\n",
    "Subsection 4:\n",
    "\n",
    "You can do it in the following way:\n",
    "a) use `unique()` method to find all available values,\n",
    "b) use `loc` or `query` to find erroneous entries,\n",
    "c) The number of rows can be checked with the `shape` method."
   ]
  },
  {
   "cell_type": "code",
   "execution_count": 2,
   "id": "contained-pricing",
   "metadata": {},
   "outputs": [],
   "source": [
    "import pandas as pd"
   ]
  },
  {
   "cell_type": "code",
   "execution_count": 4,
   "id": "e434007c-b628-488c-bb26-9ba85d495464",
   "metadata": {},
   "outputs": [],
   "source": [
    "import os"
   ]
  },
  {
   "cell_type": "code",
   "execution_count": null,
   "id": "b3b6ee6a-9077-4672-91c8-752f2b533c38",
   "metadata": {},
   "outputs": [],
   "source": [
    "# Specify the path to hte folder\n",
    "folder_path = '../../01_Data/'\n",
    "\n",
    "# List all path and directories in the folder\n",
    "content = os.listdir(folder_path)\n",
    "\n",
    "# Print the content\n",
    "print(content)"
   ]
  },
  {
   "cell_type": "code",
   "execution_count": 12,
   "id": "333ff79c-7050-4fab-af8a-f7d5a3db4bb2",
   "metadata": {},
   "outputs": [],
   "source": [
    "data = pd.read_csv('../../01_Data/product_prices_renamed.csv', sep=';', decimal='.')"
   ]
  },
  {
   "cell_type": "code",
   "execution_count": null,
   "id": "ed10e83d-4a10-4a8d-bc18-243d1a75d9c7",
   "metadata": {},
   "outputs": [],
   "source": [
    "data"
   ]
  },
  {
   "cell_type": "code",
   "execution_count": 16,
   "id": "24d584d2-b99e-4fc6-9d41-a0b0b9160362",
   "metadata": {},
   "outputs": [],
   "source": [
    "# 1) In the date column, data from 1888 appeared - '1888-0',"
   ]
  },
  {
   "cell_type": "code",
   "execution_count": null,
   "id": "5e617c73-6e75-4077-a459-080f6d13e6ee",
   "metadata": {},
   "outputs": [],
   "source": [
    "data['date'].sort_values().unique()"
   ]
  },
  {
   "cell_type": "code",
   "execution_count": null,
   "id": "44fecb6f-2a28-4a60-8598-737952e021f8",
   "metadata": {},
   "outputs": [],
   "source": [
    "data[data['date'] == '1888-0']"
   ]
  },
  {
   "cell_type": "code",
   "execution_count": 52,
   "id": "d48f7819-b119-48ed-80fd-6a37bbd34f5d",
   "metadata": {},
   "outputs": [],
   "source": [
    "# 2) Check the date column for similar errors but with future values."
   ]
  },
  {
   "cell_type": "code",
   "execution_count": null,
   "id": "36bc26a4-2f71-42f2-8f24-04cdad3064c4",
   "metadata": {},
   "outputs": [],
   "source": [
    "data[data['date'] == '2099-13']"
   ]
  },
  {
   "cell_type": "code",
   "execution_count": null,
   "id": "7a8c43dc-d086-47af-bba6-80547d425ae8",
   "metadata": {},
   "outputs": [],
   "source": [
    "# 3) In the value column, too high value was introduced – find it and locate the row where it is (use query),"
   ]
  },
  {
   "cell_type": "code",
   "execution_count": null,
   "id": "8adc7daf-61b8-47a4-b1ac-c2b6f1411ea7",
   "metadata": {},
   "outputs": [],
   "source": [
    "data['value'].sort_values()"
   ]
  },
  {
   "cell_type": "code",
   "execution_count": 98,
   "id": "45701166-88cd-4459-962d-5d2901e6eb5b",
   "metadata": {},
   "outputs": [],
   "source": [
    "data_high_value = sorted(data['value'].unique(), reverse = True)"
   ]
  },
  {
   "cell_type": "code",
   "execution_count": null,
   "id": "87f98494-d020-40f9-8502-ecb930cfcf53",
   "metadata": {},
   "outputs": [],
   "source": [
    "data_high_value"
   ]
  },
  {
   "cell_type": "code",
   "execution_count": null,
   "id": "4cc80b80-1f6a-437b-9219-ec9673ced602",
   "metadata": {},
   "outputs": [],
   "source": [
    "data[data['value'] == 3000]"
   ]
  },
  {
   "cell_type": "code",
   "execution_count": null,
   "id": "1a781bb2-cf5e-47f5-8a05-32eabe9ef720",
   "metadata": {},
   "outputs": [],
   "source": [
    "data[data['value'] == 3000].index"
   ]
  },
  {
   "cell_type": "code",
   "execution_count": null,
   "id": "43cb8b78-ee5c-47c0-88db-37686b664317",
   "metadata": {},
   "outputs": [],
   "source": [
    "# 4) There was a spelling error in the product_types column for one of the products. \n",
    "# Find it and the corresponding rows. How many such rows are there?"
   ]
  },
  {
   "cell_type": "code",
   "execution_count": null,
   "id": "90870755-5a8a-4a76-90cb-bc52ec9db76c",
   "metadata": {},
   "outputs": [],
   "source": [
    "data['product_types'].unique()"
   ]
  },
  {
   "cell_type": "code",
   "execution_count": null,
   "id": "8217eb97-3d4a-4916-90cd-033600ca9726",
   "metadata": {},
   "outputs": [],
   "source": [
    "data[data['product_types'] == 'fresh chichen egges - per 666pcs.']"
   ]
  }
 ],
 "metadata": {
  "kernelspec": {
   "display_name": "base",
   "language": "python",
   "name": "python3"
  },
  "language_info": {
   "codemirror_mode": {
    "name": "ipython",
    "version": 3
   },
   "file_extension": ".py",
   "mimetype": "text/x-python",
   "name": "python",
   "nbconvert_exporter": "python",
   "pygments_lexer": "ipython3",
   "version": "3.12.7"
  }
 },
 "nbformat": 4,
 "nbformat_minor": 5
}
