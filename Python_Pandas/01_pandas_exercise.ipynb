{
 "cells": [
  {
   "cell_type": "code",
   "execution_count": null,
   "id": "6753b6de",
   "metadata": {},
   "outputs": [],
   "source": [
    "import pandas as pd"
   ]
  },
  {
   "cell_type": "code",
   "execution_count": 1,
   "id": "6997d2e8-9b11-4a48-9adb-82571c0bf3dd",
   "metadata": {},
   "outputs": [
    {
     "data": {
      "text/html": [
       "<div>\n",
       "<style scoped>\n",
       "    .dataframe tbody tr th:only-of-type {\n",
       "        vertical-align: middle;\n",
       "    }\n",
       "\n",
       "    .dataframe tbody tr th {\n",
       "        vertical-align: top;\n",
       "    }\n",
       "\n",
       "    .dataframe thead th {\n",
       "        text-align: right;\n",
       "    }\n",
       "</style>\n",
       "<table border=\"1\" class=\"dataframe\">\n",
       "  <thead>\n",
       "    <tr style=\"text-align: right;\">\n",
       "      <th></th>\n",
       "      <th>Name</th>\n",
       "      <th>Goods types</th>\n",
       "      <th>Measurement unit</th>\n",
       "      <th>Group ID</th>\n",
       "      <th>Product types</th>\n",
       "      <th>Value</th>\n",
       "      <th>Date</th>\n",
       "      <th>Unnamed: 7</th>\n",
       "    </tr>\n",
       "  </thead>\n",
       "  <tbody>\n",
       "    <tr>\n",
       "      <th>0</th>\n",
       "      <td>SUBCARPATHIA</td>\n",
       "      <td>NaN</td>\n",
       "      <td>PLN</td>\n",
       "      <td>2</td>\n",
       "      <td>pork ham cooked - per 1kg</td>\n",
       "      <td>21.37</td>\n",
       "      <td>2013-3</td>\n",
       "      <td>NaN</td>\n",
       "    </tr>\n",
       "    <tr>\n",
       "      <th>1</th>\n",
       "      <td>ŁÓDŹ</td>\n",
       "      <td>NaN</td>\n",
       "      <td>PLN</td>\n",
       "      <td>4</td>\n",
       "      <td>bread - per 1kg</td>\n",
       "      <td>NaN</td>\n",
       "      <td>2018-2</td>\n",
       "      <td>NaN</td>\n",
       "    </tr>\n",
       "    <tr>\n",
       "      <th>2</th>\n",
       "      <td>KUYAVIA-POMERANIA</td>\n",
       "      <td>NaN</td>\n",
       "      <td>PLN</td>\n",
       "      <td>2</td>\n",
       "      <td>barley groats sausage - per 1kg</td>\n",
       "      <td>3.55</td>\n",
       "      <td>2019-12</td>\n",
       "      <td>NaN</td>\n",
       "    </tr>\n",
       "    <tr>\n",
       "      <th>3</th>\n",
       "      <td>LOWER SILESIA</td>\n",
       "      <td>NaN</td>\n",
       "      <td>PLN</td>\n",
       "      <td>2</td>\n",
       "      <td>dressed chickens - per 1kg</td>\n",
       "      <td>6.14</td>\n",
       "      <td>2019-2</td>\n",
       "      <td>NaN</td>\n",
       "    </tr>\n",
       "    <tr>\n",
       "      <th>4</th>\n",
       "      <td>WARMIA-MASURIA</td>\n",
       "      <td>NaN</td>\n",
       "      <td>PLN</td>\n",
       "      <td>2</td>\n",
       "      <td>Italian head cheese - per 1kg</td>\n",
       "      <td>5.63</td>\n",
       "      <td>2002-3</td>\n",
       "      <td>NaN</td>\n",
       "    </tr>\n",
       "  </tbody>\n",
       "</table>\n",
       "</div>"
      ],
      "text/plain": [
       "                Name Goods types Measurement unit Group ID  \\\n",
       "0       SUBCARPATHIA         NaN              PLN        2   \n",
       "1               ŁÓDŹ         NaN              PLN        4   \n",
       "2  KUYAVIA-POMERANIA         NaN              PLN        2   \n",
       "3      LOWER SILESIA         NaN              PLN        2   \n",
       "4     WARMIA-MASURIA         NaN              PLN        2   \n",
       "\n",
       "                     Product types  Value     Date Unnamed: 7  \n",
       "0        pork ham cooked - per 1kg  21.37   2013-3        NaN  \n",
       "1                  bread - per 1kg    NaN   2018-2        NaN  \n",
       "2  barley groats sausage - per 1kg   3.55  2019-12        NaN  \n",
       "3       dressed chickens - per 1kg   6.14   2019-2        NaN  \n",
       "4    Italian head cheese - per 1kg   5.63   2002-3        NaN  "
      ]
     },
     "execution_count": 1,
     "metadata": {},
     "output_type": "execute_result"
    }
   ],
   "source": [
    "df_raw = pd.read_excel(\n",
    "                        '../product_prices.xlsx',\n",
    "                        sheet_name='product_prices'\n",
    ")\n",
    "\n",
    "df_raw.head() "
   ]
  },
  {
   "cell_type": "code",
   "execution_count": 2,
   "id": "0972042a-16e3-41da-8568-d0083b3cd545",
   "metadata": {},
   "outputs": [
    {
     "data": {
      "text/html": [
       "<div>\n",
       "<style scoped>\n",
       "    .dataframe tbody tr th:only-of-type {\n",
       "        vertical-align: middle;\n",
       "    }\n",
       "\n",
       "    .dataframe tbody tr th {\n",
       "        vertical-align: top;\n",
       "    }\n",
       "\n",
       "    .dataframe thead th {\n",
       "        text-align: right;\n",
       "    }\n",
       "</style>\n",
       "<table border=\"1\" class=\"dataframe\">\n",
       "  <thead>\n",
       "    <tr style=\"text-align: right;\">\n",
       "      <th></th>\n",
       "      <th>Name</th>\n",
       "      <th>Goods types</th>\n",
       "      <th>Measurement unit</th>\n",
       "      <th>Group ID</th>\n",
       "      <th>Product types</th>\n",
       "      <th>Value</th>\n",
       "      <th>Date</th>\n",
       "    </tr>\n",
       "  </thead>\n",
       "  <tbody>\n",
       "    <tr>\n",
       "      <th>0</th>\n",
       "      <td>SUBCARPATHIA</td>\n",
       "      <td>NaN</td>\n",
       "      <td>PLN</td>\n",
       "      <td>2</td>\n",
       "      <td>pork ham cooked - per 1kg</td>\n",
       "      <td>21.37</td>\n",
       "      <td>2013-3</td>\n",
       "    </tr>\n",
       "    <tr>\n",
       "      <th>1</th>\n",
       "      <td>ŁÓDŹ</td>\n",
       "      <td>NaN</td>\n",
       "      <td>PLN</td>\n",
       "      <td>4</td>\n",
       "      <td>bread - per 1kg</td>\n",
       "      <td>NaN</td>\n",
       "      <td>2018-2</td>\n",
       "    </tr>\n",
       "    <tr>\n",
       "      <th>2</th>\n",
       "      <td>KUYAVIA-POMERANIA</td>\n",
       "      <td>NaN</td>\n",
       "      <td>PLN</td>\n",
       "      <td>2</td>\n",
       "      <td>barley groats sausage - per 1kg</td>\n",
       "      <td>3.55</td>\n",
       "      <td>2019-12</td>\n",
       "    </tr>\n",
       "    <tr>\n",
       "      <th>3</th>\n",
       "      <td>LOWER SILESIA</td>\n",
       "      <td>NaN</td>\n",
       "      <td>PLN</td>\n",
       "      <td>2</td>\n",
       "      <td>dressed chickens - per 1kg</td>\n",
       "      <td>6.14</td>\n",
       "      <td>2019-2</td>\n",
       "    </tr>\n",
       "    <tr>\n",
       "      <th>4</th>\n",
       "      <td>WARMIA-MASURIA</td>\n",
       "      <td>NaN</td>\n",
       "      <td>PLN</td>\n",
       "      <td>2</td>\n",
       "      <td>Italian head cheese - per 1kg</td>\n",
       "      <td>5.63</td>\n",
       "      <td>2002-3</td>\n",
       "    </tr>\n",
       "  </tbody>\n",
       "</table>\n",
       "</div>"
      ],
      "text/plain": [
       "                Name Goods types Measurement unit  Group ID  \\\n",
       "0       SUBCARPATHIA         NaN              PLN         2   \n",
       "1               ŁÓDŹ         NaN              PLN         4   \n",
       "2  KUYAVIA-POMERANIA         NaN              PLN         2   \n",
       "3      LOWER SILESIA         NaN              PLN         2   \n",
       "4     WARMIA-MASURIA         NaN              PLN         2   \n",
       "\n",
       "                     Product types  Value     Date  \n",
       "0        pork ham cooked - per 1kg  21.37   2013-3  \n",
       "1                  bread - per 1kg    NaN   2018-2  \n",
       "2  barley groats sausage - per 1kg   3.55  2019-12  \n",
       "3       dressed chickens - per 1kg   6.14   2019-2  \n",
       "4    Italian head cheese - per 1kg   5.63   2002-3  "
      ]
     },
     "execution_count": 2,
     "metadata": {},
     "output_type": "execute_result"
    }
   ],
   "source": [
    "df_raw_csv = pd.read_csv(\n",
    "                    '../product_prices.csv',\n",
    "                    sep=';',\n",
    "                    decimal='.'\n",
    ")\n",
    "\n",
    "df_raw_csv.head() "
   ]
  },
  {
   "cell_type": "code",
   "execution_count": 3,
   "id": "b0657cd2-5e8f-47f4-a65a-38c5914e1ab5",
   "metadata": {},
   "outputs": [
    {
     "data": {
      "text/plain": [
       "(149940, 7)"
      ]
     },
     "execution_count": 3,
     "metadata": {},
     "output_type": "execute_result"
    }
   ],
   "source": [
    "df_raw_csv.shape"
   ]
  },
  {
   "cell_type": "code",
   "execution_count": 4,
   "id": "9615490d-2444-4102-a7b4-914042070eb7",
   "metadata": {},
   "outputs": [
    {
     "data": {
      "text/plain": [
       "149940"
      ]
     },
     "execution_count": 4,
     "metadata": {},
     "output_type": "execute_result"
    }
   ],
   "source": [
    "df_raw_csv.shape[0]"
   ]
  },
  {
   "cell_type": "code",
   "execution_count": 5,
   "id": "e04888c1-fd7d-45cc-bdc0-74af6598455f",
   "metadata": {},
   "outputs": [
    {
     "data": {
      "text/plain": [
       "7"
      ]
     },
     "execution_count": 5,
     "metadata": {},
     "output_type": "execute_result"
    }
   ],
   "source": [
    "df_raw_csv.shape[1]"
   ]
  },
  {
   "cell_type": "code",
   "execution_count": 6,
   "id": "9c80b0f9-b696-40e3-833d-22ea46f2bc1c",
   "metadata": {},
   "outputs": [
    {
     "data": {
      "text/html": [
       "<div>\n",
       "<style scoped>\n",
       "    .dataframe tbody tr th:only-of-type {\n",
       "        vertical-align: middle;\n",
       "    }\n",
       "\n",
       "    .dataframe tbody tr th {\n",
       "        vertical-align: top;\n",
       "    }\n",
       "\n",
       "    .dataframe thead th {\n",
       "        text-align: right;\n",
       "    }\n",
       "</style>\n",
       "<table border=\"1\" class=\"dataframe\">\n",
       "  <thead>\n",
       "    <tr style=\"text-align: right;\">\n",
       "      <th></th>\n",
       "      <th>Name</th>\n",
       "      <th>Goods types</th>\n",
       "      <th>Measurement unit</th>\n",
       "      <th>Group ID</th>\n",
       "      <th>Product types</th>\n",
       "      <th>Value</th>\n",
       "      <th>Date</th>\n",
       "    </tr>\n",
       "  </thead>\n",
       "  <tbody>\n",
       "    <tr>\n",
       "      <th>0</th>\n",
       "      <td>SUBCARPATHIA</td>\n",
       "      <td>NaN</td>\n",
       "      <td>PLN</td>\n",
       "      <td>2</td>\n",
       "      <td>pork ham cooked - per 1kg</td>\n",
       "      <td>21.37</td>\n",
       "      <td>2013-3</td>\n",
       "    </tr>\n",
       "    <tr>\n",
       "      <th>1</th>\n",
       "      <td>ŁÓDŹ</td>\n",
       "      <td>NaN</td>\n",
       "      <td>PLN</td>\n",
       "      <td>4</td>\n",
       "      <td>bread - per 1kg</td>\n",
       "      <td>NaN</td>\n",
       "      <td>2018-2</td>\n",
       "    </tr>\n",
       "    <tr>\n",
       "      <th>2</th>\n",
       "      <td>KUYAVIA-POMERANIA</td>\n",
       "      <td>NaN</td>\n",
       "      <td>PLN</td>\n",
       "      <td>2</td>\n",
       "      <td>barley groats sausage - per 1kg</td>\n",
       "      <td>3.55</td>\n",
       "      <td>2019-12</td>\n",
       "    </tr>\n",
       "    <tr>\n",
       "      <th>3</th>\n",
       "      <td>LOWER SILESIA</td>\n",
       "      <td>NaN</td>\n",
       "      <td>PLN</td>\n",
       "      <td>2</td>\n",
       "      <td>dressed chickens - per 1kg</td>\n",
       "      <td>6.14</td>\n",
       "      <td>2019-2</td>\n",
       "    </tr>\n",
       "    <tr>\n",
       "      <th>4</th>\n",
       "      <td>WARMIA-MASURIA</td>\n",
       "      <td>NaN</td>\n",
       "      <td>PLN</td>\n",
       "      <td>2</td>\n",
       "      <td>Italian head cheese - per 1kg</td>\n",
       "      <td>5.63</td>\n",
       "      <td>2002-3</td>\n",
       "    </tr>\n",
       "  </tbody>\n",
       "</table>\n",
       "</div>"
      ],
      "text/plain": [
       "                Name Goods types Measurement unit  Group ID  \\\n",
       "0       SUBCARPATHIA         NaN              PLN         2   \n",
       "1               ŁÓDŹ         NaN              PLN         4   \n",
       "2  KUYAVIA-POMERANIA         NaN              PLN         2   \n",
       "3      LOWER SILESIA         NaN              PLN         2   \n",
       "4     WARMIA-MASURIA         NaN              PLN         2   \n",
       "\n",
       "                     Product types  Value     Date  \n",
       "0        pork ham cooked - per 1kg  21.37   2013-3  \n",
       "1                  bread - per 1kg    NaN   2018-2  \n",
       "2  barley groats sausage - per 1kg   3.55  2019-12  \n",
       "3       dressed chickens - per 1kg   6.14   2019-2  \n",
       "4    Italian head cheese - per 1kg   5.63   2002-3  "
      ]
     },
     "execution_count": 6,
     "metadata": {},
     "output_type": "execute_result"
    }
   ],
   "source": [
    "df_raw_csv.head(5)"
   ]
  },
  {
   "cell_type": "code",
   "execution_count": 7,
   "id": "09ca5aaa-911f-4541-b8a6-eb2ce7f0584e",
   "metadata": {},
   "outputs": [
    {
     "data": {
      "text/html": [
       "<div>\n",
       "<style scoped>\n",
       "    .dataframe tbody tr th:only-of-type {\n",
       "        vertical-align: middle;\n",
       "    }\n",
       "\n",
       "    .dataframe tbody tr th {\n",
       "        vertical-align: top;\n",
       "    }\n",
       "\n",
       "    .dataframe thead th {\n",
       "        text-align: right;\n",
       "    }\n",
       "</style>\n",
       "<table border=\"1\" class=\"dataframe\">\n",
       "  <thead>\n",
       "    <tr style=\"text-align: right;\">\n",
       "      <th></th>\n",
       "      <th>Name</th>\n",
       "      <th>Goods types</th>\n",
       "      <th>Measurement unit</th>\n",
       "      <th>Group ID</th>\n",
       "      <th>Product types</th>\n",
       "      <th>Value</th>\n",
       "      <th>Date</th>\n",
       "    </tr>\n",
       "  </thead>\n",
       "  <tbody>\n",
       "    <tr>\n",
       "      <th>149930</th>\n",
       "      <td>WARMIA-MASURIA</td>\n",
       "      <td>NaN</td>\n",
       "      <td>PLN</td>\n",
       "      <td>4</td>\n",
       "      <td>Poznan wheat flour, bagged - per 1kg</td>\n",
       "      <td>0.99</td>\n",
       "      <td>2010-10</td>\n",
       "    </tr>\n",
       "    <tr>\n",
       "      <th>149931</th>\n",
       "      <td>POMERANIA</td>\n",
       "      <td>NaN</td>\n",
       "      <td>PLN</td>\n",
       "      <td>2</td>\n",
       "      <td>pork belly cooked - per 1kg</td>\n",
       "      <td>14.48</td>\n",
       "      <td>1999-10</td>\n",
       "    </tr>\n",
       "    <tr>\n",
       "      <th>149932</th>\n",
       "      <td>MASOVIA</td>\n",
       "      <td>NaN</td>\n",
       "      <td>PLN</td>\n",
       "      <td>2</td>\n",
       "      <td>salted herring, non-dressed - per 1kg</td>\n",
       "      <td>0.00</td>\n",
       "      <td>2001-3</td>\n",
       "    </tr>\n",
       "    <tr>\n",
       "      <th>149933</th>\n",
       "      <td>SILESIA</td>\n",
       "      <td>NaN</td>\n",
       "      <td>PLN</td>\n",
       "      <td>2</td>\n",
       "      <td>smoked bacon with ribs - per 1kg</td>\n",
       "      <td>15.95</td>\n",
       "      <td>2015-9</td>\n",
       "    </tr>\n",
       "    <tr>\n",
       "      <th>149934</th>\n",
       "      <td>SILESIA</td>\n",
       "      <td>NaN</td>\n",
       "      <td>PLN</td>\n",
       "      <td>2</td>\n",
       "      <td>barley groats sausage - per 1kg</td>\n",
       "      <td>4.50</td>\n",
       "      <td>2004-8</td>\n",
       "    </tr>\n",
       "    <tr>\n",
       "      <th>149935</th>\n",
       "      <td>KUYAVIA-POMERANIA</td>\n",
       "      <td>NaN</td>\n",
       "      <td>PLN</td>\n",
       "      <td>2</td>\n",
       "      <td>pork  meat (raw bacon) - per 1kg</td>\n",
       "      <td>12.15</td>\n",
       "      <td>2016-11</td>\n",
       "    </tr>\n",
       "    <tr>\n",
       "      <th>149936</th>\n",
       "      <td>ŁÓDŹ</td>\n",
       "      <td>beet sugar white, bagged - per 1kg</td>\n",
       "      <td>PLN</td>\n",
       "      <td>3</td>\n",
       "      <td>NaN</td>\n",
       "      <td>0.00</td>\n",
       "      <td>2012-5</td>\n",
       "    </tr>\n",
       "    <tr>\n",
       "      <th>149937</th>\n",
       "      <td>LESSER POLAND</td>\n",
       "      <td>NaN</td>\n",
       "      <td>PLN</td>\n",
       "      <td>4</td>\n",
       "      <td>plain mixed bread (wheat-rye) - per 1kg</td>\n",
       "      <td>3.05</td>\n",
       "      <td>2008-6</td>\n",
       "    </tr>\n",
       "    <tr>\n",
       "      <th>149938</th>\n",
       "      <td>WARMIA-MASURIA</td>\n",
       "      <td>NaN</td>\n",
       "      <td>PLN</td>\n",
       "      <td>2</td>\n",
       "      <td>boneless beef (sirloin) - per 1kg</td>\n",
       "      <td>11.87</td>\n",
       "      <td>2000-11</td>\n",
       "    </tr>\n",
       "    <tr>\n",
       "      <th>149939</th>\n",
       "      <td>MASOVIA</td>\n",
       "      <td>NaN</td>\n",
       "      <td>PLN</td>\n",
       "      <td>4</td>\n",
       "      <td>Masurian barley groats - per 1kg</td>\n",
       "      <td>0.16</td>\n",
       "      <td>2005-10</td>\n",
       "    </tr>\n",
       "  </tbody>\n",
       "</table>\n",
       "</div>"
      ],
      "text/plain": [
       "                     Name                         Goods types  \\\n",
       "149930     WARMIA-MASURIA                                 NaN   \n",
       "149931          POMERANIA                                 NaN   \n",
       "149932            MASOVIA                                 NaN   \n",
       "149933            SILESIA                                 NaN   \n",
       "149934            SILESIA                                 NaN   \n",
       "149935  KUYAVIA-POMERANIA                                 NaN   \n",
       "149936               ŁÓDŹ  beet sugar white, bagged - per 1kg   \n",
       "149937      LESSER POLAND                                 NaN   \n",
       "149938     WARMIA-MASURIA                                 NaN   \n",
       "149939            MASOVIA                                 NaN   \n",
       "\n",
       "       Measurement unit  Group ID                            Product types  \\\n",
       "149930              PLN         4     Poznan wheat flour, bagged - per 1kg   \n",
       "149931              PLN         2              pork belly cooked - per 1kg   \n",
       "149932              PLN         2    salted herring, non-dressed - per 1kg   \n",
       "149933              PLN         2         smoked bacon with ribs - per 1kg   \n",
       "149934              PLN         2          barley groats sausage - per 1kg   \n",
       "149935              PLN         2         pork  meat (raw bacon) - per 1kg   \n",
       "149936              PLN         3                                      NaN   \n",
       "149937              PLN         4  plain mixed bread (wheat-rye) - per 1kg   \n",
       "149938              PLN         2        boneless beef (sirloin) - per 1kg   \n",
       "149939              PLN         4         Masurian barley groats - per 1kg   \n",
       "\n",
       "        Value     Date  \n",
       "149930   0.99  2010-10  \n",
       "149931  14.48  1999-10  \n",
       "149932   0.00   2001-3  \n",
       "149933  15.95   2015-9  \n",
       "149934   4.50   2004-8  \n",
       "149935  12.15  2016-11  \n",
       "149936   0.00   2012-5  \n",
       "149937   3.05   2008-6  \n",
       "149938  11.87  2000-11  \n",
       "149939   0.16  2005-10  "
      ]
     },
     "execution_count": 7,
     "metadata": {},
     "output_type": "execute_result"
    }
   ],
   "source": [
    "df_raw_csv.tail(10)"
   ]
  },
  {
   "cell_type": "code",
   "execution_count": 8,
   "id": "bd0965c7-56b0-4191-b7d4-774f1174e360",
   "metadata": {},
   "outputs": [
    {
     "name": "stdout",
     "output_type": "stream",
     "text": [
      "<class 'pandas.core.frame.DataFrame'>\n",
      "RangeIndex: 149940 entries, 0 to 149939\n",
      "Data columns (total 7 columns):\n",
      " #   Column            Non-Null Count   Dtype  \n",
      "---  ------            --------------   -----  \n",
      " 0   Name              149940 non-null  object \n",
      " 1   Goods types       34272 non-null   object \n",
      " 2   Measurement unit  149940 non-null  object \n",
      " 3   Group ID          149940 non-null  int64  \n",
      " 4   Product types     115668 non-null  object \n",
      " 5   Value             137088 non-null  float64\n",
      " 6   Date              149940 non-null  object \n",
      "dtypes: float64(1), int64(1), object(5)\n",
      "memory usage: 8.0+ MB\n"
     ]
    }
   ],
   "source": [
    "df_raw_csv.info()"
   ]
  },
  {
   "cell_type": "code",
   "execution_count": 9,
   "id": "514de840-fe02-4c7f-95b5-2e3b366fcaff",
   "metadata": {},
   "outputs": [
    {
     "data": {
      "text/plain": [
       "Index(['Name', 'Goods types', 'Measurement unit', 'Group ID', 'Product types',\n",
       "       'Value', 'Date'],\n",
       "      dtype='object')"
      ]
     },
     "execution_count": 9,
     "metadata": {},
     "output_type": "execute_result"
    }
   ],
   "source": [
    "df_raw_csv.columns"
   ]
  },
  {
   "cell_type": "code",
   "execution_count": null,
   "id": "9202fe4f-218d-4eed-afa4-31b08decdca0",
   "metadata": {},
   "outputs": [],
   "source": [
    "df_raw_csv['Name']"
   ]
  },
  {
   "cell_type": "code",
   "execution_count": null,
   "id": "f8073c0e-95f5-47ef-92c2-d8ba18da3ac2",
   "metadata": {},
   "outputs": [],
   "source": [
    "df_raw_csv[['Name', 'Value', 'Date']]"
   ]
  },
  {
   "cell_type": "code",
   "execution_count": null,
   "id": "e82676f8-e7d0-4adc-8ba0-fc4f72b5653d",
   "metadata": {},
   "outputs": [],
   "source": [
    "df_raw_csv.loc[:, 'Value']"
   ]
  },
  {
   "cell_type": "code",
   "execution_count": null,
   "id": "570f71cd-4ca9-4398-b6f4-93d520d9c3f3",
   "metadata": {},
   "outputs": [],
   "source": [
    "df_raw_csv.loc[:, ['Value', 'Name']]"
   ]
  },
  {
   "cell_type": "code",
   "execution_count": 14,
   "id": "b62da312-9abc-4fde-b5f7-49765ff7975b",
   "metadata": {},
   "outputs": [
    {
     "data": {
      "text/plain": [
       "pandas.core.series.Series"
      ]
     },
     "execution_count": 14,
     "metadata": {},
     "output_type": "execute_result"
    }
   ],
   "source": [
    "col = df_raw_csv['Value'].head() \n",
    "type(col)"
   ]
  },
  {
   "cell_type": "code",
   "execution_count": 15,
   "id": "e2b17991-fc52-4daf-ac8f-11b2008d9769",
   "metadata": {},
   "outputs": [
    {
     "data": {
      "text/plain": [
       "0    21.37\n",
       "1      NaN\n",
       "2     3.55\n",
       "3     6.14\n",
       "4     5.63\n",
       "Name: Value, dtype: float64"
      ]
     },
     "execution_count": 15,
     "metadata": {},
     "output_type": "execute_result"
    }
   ],
   "source": [
    "col"
   ]
  },
  {
   "cell_type": "code",
   "execution_count": 16,
   "id": "62c83bb5-9049-41b7-8512-7e3353be3d5b",
   "metadata": {},
   "outputs": [
    {
     "data": {
      "text/plain": [
       "0    22.37\n",
       "1      NaN\n",
       "2     4.55\n",
       "3     7.14\n",
       "4     6.63\n",
       "Name: Value, dtype: float64"
      ]
     },
     "execution_count": 16,
     "metadata": {},
     "output_type": "execute_result"
    }
   ],
   "source": [
    "col + 1"
   ]
  },
  {
   "cell_type": "code",
   "execution_count": 17,
   "id": "c0d07e93-af4b-4a22-8ad9-fc2e22595db0",
   "metadata": {},
   "outputs": [
    {
     "data": {
      "text/plain": [
       "0    456.6769\n",
       "1         NaN\n",
       "2     12.6025\n",
       "3     37.6996\n",
       "4     31.6969\n",
       "Name: Value, dtype: float64"
      ]
     },
     "execution_count": 17,
     "metadata": {},
     "output_type": "execute_result"
    }
   ],
   "source": [
    "col * col"
   ]
  },
  {
   "cell_type": "code",
   "execution_count": 18,
   "id": "1507d547-6b9b-4398-9b68-0dd6f6e32976",
   "metadata": {},
   "outputs": [
    {
     "data": {
      "text/plain": [
       "0    0\n",
       "1    1\n",
       "2    2\n",
       "3    3\n",
       "4    4\n",
       "dtype: int64"
      ]
     },
     "execution_count": 18,
     "metadata": {},
     "output_type": "execute_result"
    }
   ],
   "source": [
    "col_example = pd.Series(\n",
    "    range(len(col))\n",
    ")\n",
    "col_example"
   ]
  },
  {
   "cell_type": "code",
   "execution_count": 19,
   "id": "1b26fc95-23ab-4691-a5a2-4240f8a592fa",
   "metadata": {},
   "outputs": [
    {
     "data": {
      "text/plain": [
       "0    21.37\n",
       "1      NaN\n",
       "2     5.55\n",
       "3     9.14\n",
       "4     9.63\n",
       "dtype: float64"
      ]
     },
     "execution_count": 19,
     "metadata": {},
     "output_type": "execute_result"
    }
   ],
   "source": [
    "col + col_example"
   ]
  },
  {
   "cell_type": "code",
   "execution_count": 20,
   "id": "716bcf8b-598a-4ebf-a2b6-59cf0e85b051",
   "metadata": {},
   "outputs": [
    {
     "data": {
      "text/plain": [
       "0    0\n",
       "1    1\n",
       "2    2\n",
       "3    3\n",
       "dtype: int64"
      ]
     },
     "execution_count": 20,
     "metadata": {},
     "output_type": "execute_result"
    }
   ],
   "source": [
    "col_example2 = pd.Series(\n",
    "    range(len(col)-1)\n",
    ")\n",
    "col_example2 "
   ]
  },
  {
   "cell_type": "code",
   "execution_count": 21,
   "id": "32663ee3-1fac-456e-93d1-265d3c5b81be",
   "metadata": {},
   "outputs": [
    {
     "data": {
      "text/plain": [
       "0    21.37\n",
       "1      NaN\n",
       "2     5.55\n",
       "3     9.14\n",
       "4      NaN\n",
       "dtype: float64"
      ]
     },
     "execution_count": 21,
     "metadata": {},
     "output_type": "execute_result"
    }
   ],
   "source": [
    "col + col_example2"
   ]
  },
  {
   "cell_type": "code",
   "execution_count": 22,
   "id": "2a25572c-5b3d-441a-962e-88802f12c255",
   "metadata": {},
   "outputs": [
    {
     "data": {
      "text/plain": [
       "array(['SUBCARPATHIA', 'ŁÓDŹ', 'KUYAVIA-POMERANIA', 'LOWER SILESIA',\n",
       "       'WARMIA-MASURIA', 'HOLY CROSS', 'WEST POMERANIA', 'POLAND',\n",
       "       'PODLASKIE', 'GREATER POLAND', 'POMERANIA', 'LESSER POLAND',\n",
       "       'SILESIA', 'MASOVIA', 'LUBLIN', 'LUBUSZ', 'OPOLE'], dtype=object)"
      ]
     },
     "execution_count": 22,
     "metadata": {},
     "output_type": "execute_result"
    }
   ],
   "source": [
    "df_raw_csv['Name'].unique()"
   ]
  },
  {
   "cell_type": "code",
   "execution_count": 23,
   "id": "fb2302bb-8a71-4749-9f3d-1b76647693fd",
   "metadata": {},
   "outputs": [
    {
     "data": {
      "text/plain": [
       "6.615226740294512"
      ]
     },
     "execution_count": 23,
     "metadata": {},
     "output_type": "execute_result"
    }
   ],
   "source": [
    "df_raw_csv['Value'].mean()"
   ]
  },
  {
   "cell_type": "code",
   "execution_count": 24,
   "id": "548b310f-45a7-4dc7-8fd1-038494ff5a87",
   "metadata": {},
   "outputs": [
    {
     "data": {
      "text/plain": [
       "34.112858158207565"
      ]
     },
     "execution_count": 24,
     "metadata": {},
     "output_type": "execute_result"
    }
   ],
   "source": [
    "df_raw_csv['Value'].std()"
   ]
  },
  {
   "cell_type": "code",
   "execution_count": 25,
   "id": "f8e9bcbc-5e9f-4815-9bb7-030edaf6c40a",
   "metadata": {},
   "outputs": [
    {
     "data": {
      "text/plain": [
       "3.09"
      ]
     },
     "execution_count": 25,
     "metadata": {},
     "output_type": "execute_result"
    }
   ],
   "source": [
    "df_raw_csv['Value'].median()"
   ]
  },
  {
   "cell_type": "code",
   "execution_count": 26,
   "id": "e7ec5823-ac34-4186-8c8e-c32231fc3dea",
   "metadata": {},
   "outputs": [
    {
     "data": {
      "text/plain": [
       "0.00       0.00\n",
       "0.10       0.00\n",
       "0.50       3.09\n",
       "0.75      10.92\n",
       "1.00    3000.00\n",
       "Name: Value, dtype: float64"
      ]
     },
     "execution_count": 26,
     "metadata": {},
     "output_type": "execute_result"
    }
   ],
   "source": [
    "df_raw_csv['Value'].quantile([0, 0.1, 0.5, 0.75, 1])"
   ]
  },
  {
   "cell_type": "code",
   "execution_count": 27,
   "id": "acd7f536-126d-45c7-9816-eaa3cc7d5f9c",
   "metadata": {},
   "outputs": [
    {
     "data": {
      "text/plain": [
       "count    137088.000000\n",
       "mean          6.615227\n",
       "std          34.112858\n",
       "min           0.000000\n",
       "25%           0.000000\n",
       "50%           3.090000\n",
       "75%          10.920000\n",
       "max        3000.000000\n",
       "Name: Value, dtype: float64"
      ]
     },
     "execution_count": 27,
     "metadata": {},
     "output_type": "execute_result"
    }
   ],
   "source": [
    "df_raw_csv['Value'].describe()"
   ]
  },
  {
   "cell_type": "code",
   "execution_count": 29,
   "id": "dd021158-0a12-4cc9-aab6-ca9de6107630",
   "metadata": {},
   "outputs": [],
   "source": [
    "columns_list = list(df_raw.columns)"
   ]
  },
  {
   "cell_type": "code",
   "execution_count": 31,
   "id": "a166e27e",
   "metadata": {},
   "outputs": [
    {
     "data": {
      "text/plain": [
       "['Name',\n",
       " 'Goods types',\n",
       " 'Measurement unit',\n",
       " 'Group ID',\n",
       " 'Product types',\n",
       " 'Value',\n",
       " 'Date',\n",
       " 'Unnamed: 7']"
      ]
     },
     "execution_count": 31,
     "metadata": {},
     "output_type": "execute_result"
    }
   ],
   "source": [
    "columns_list"
   ]
  },
  {
   "cell_type": "code",
   "execution_count": 34,
   "id": "67115604",
   "metadata": {},
   "outputs": [
    {
     "data": {
      "text/plain": [
       "Name                             SUBCARPATHIA\n",
       "Goods types                               NaN\n",
       "Measurement unit                          PLN\n",
       "Group ID                                    2\n",
       "Product types       pork ham cooked - per 1kg\n",
       "Value                                   21.37\n",
       "Date                                   2013-3\n",
       "Unnamed: 7                                NaN\n",
       "Name: 0, dtype: object"
      ]
     },
     "execution_count": 34,
     "metadata": {},
     "output_type": "execute_result"
    }
   ],
   "source": [
    "df_raw.iloc[0,:]"
   ]
  },
  {
   "cell_type": "code",
   "execution_count": 43,
   "id": "d8cac898",
   "metadata": {},
   "outputs": [],
   "source": [
    "df_raw['Value'] = pd.to_numeric(df_raw['Value'], errors='coerce')"
   ]
  },
  {
   "cell_type": "code",
   "execution_count": 48,
   "id": "8cc3b0c7",
   "metadata": {},
   "outputs": [
    {
     "data": {
      "text/html": [
       "<div>\n",
       "<style scoped>\n",
       "    .dataframe tbody tr th:only-of-type {\n",
       "        vertical-align: middle;\n",
       "    }\n",
       "\n",
       "    .dataframe tbody tr th {\n",
       "        vertical-align: top;\n",
       "    }\n",
       "\n",
       "    .dataframe thead th {\n",
       "        text-align: right;\n",
       "    }\n",
       "</style>\n",
       "<table border=\"1\" class=\"dataframe\">\n",
       "  <thead>\n",
       "    <tr style=\"text-align: right;\">\n",
       "      <th></th>\n",
       "      <th>Value</th>\n",
       "    </tr>\n",
       "    <tr>\n",
       "      <th>Name</th>\n",
       "      <th></th>\n",
       "    </tr>\n",
       "  </thead>\n",
       "  <tbody>\n",
       "    <tr>\n",
       "      <th>POLAND</th>\n",
       "      <td>9.043763</td>\n",
       "    </tr>\n",
       "    <tr>\n",
       "      <th>GREATER POLAND</th>\n",
       "      <td>8.831270</td>\n",
       "    </tr>\n",
       "    <tr>\n",
       "      <th>POMERANIA</th>\n",
       "      <td>8.259752</td>\n",
       "    </tr>\n",
       "    <tr>\n",
       "      <th>WEST POMERANIA</th>\n",
       "      <td>8.115317</td>\n",
       "    </tr>\n",
       "    <tr>\n",
       "      <th>MASOVIA</th>\n",
       "      <td>8.073109</td>\n",
       "    </tr>\n",
       "    <tr>\n",
       "      <th>WARMIA-MASURIA</th>\n",
       "      <td>7.810504</td>\n",
       "    </tr>\n",
       "    <tr>\n",
       "      <th>SILESIA</th>\n",
       "      <td>7.733026</td>\n",
       "    </tr>\n",
       "    <tr>\n",
       "      <th>KUYAVIA-POMERANIA</th>\n",
       "      <td>7.692382</td>\n",
       "    </tr>\n",
       "    <tr>\n",
       "      <th>LESSER POLAND</th>\n",
       "      <td>7.655327</td>\n",
       "    </tr>\n",
       "    <tr>\n",
       "      <th>LUBLIN</th>\n",
       "      <td>7.291195</td>\n",
       "    </tr>\n",
       "    <tr>\n",
       "      <th>OPOLE</th>\n",
       "      <td>7.256413</td>\n",
       "    </tr>\n",
       "    <tr>\n",
       "      <th>PODLASKIE</th>\n",
       "      <td>7.174241</td>\n",
       "    </tr>\n",
       "    <tr>\n",
       "      <th>LOWER SILESIA</th>\n",
       "      <td>7.115658</td>\n",
       "    </tr>\n",
       "    <tr>\n",
       "      <th>LUBUSZ</th>\n",
       "      <td>7.038792</td>\n",
       "    </tr>\n",
       "    <tr>\n",
       "      <th>ŁÓDŹ</th>\n",
       "      <td>6.932335</td>\n",
       "    </tr>\n",
       "    <tr>\n",
       "      <th>HOLY CROSS</th>\n",
       "      <td>6.457875</td>\n",
       "    </tr>\n",
       "    <tr>\n",
       "      <th>SUBCARPATHIA</th>\n",
       "      <td>6.402578</td>\n",
       "    </tr>\n",
       "  </tbody>\n",
       "</table>\n",
       "</div>"
      ],
      "text/plain": [
       "                      Value\n",
       "Name                       \n",
       "POLAND             9.043763\n",
       "GREATER POLAND     8.831270\n",
       "POMERANIA          8.259752\n",
       "WEST POMERANIA     8.115317\n",
       "MASOVIA            8.073109\n",
       "WARMIA-MASURIA     7.810504\n",
       "SILESIA            7.733026\n",
       "KUYAVIA-POMERANIA  7.692382\n",
       "LESSER POLAND      7.655327\n",
       "LUBLIN             7.291195\n",
       "OPOLE              7.256413\n",
       "PODLASKIE          7.174241\n",
       "LOWER SILESIA      7.115658\n",
       "LUBUSZ             7.038792\n",
       "ŁÓDŹ               6.932335\n",
       "HOLY CROSS         6.457875\n",
       "SUBCARPATHIA       6.402578"
      ]
     },
     "execution_count": 48,
     "metadata": {},
     "output_type": "execute_result"
    }
   ],
   "source": [
    "pd.pivot_table(df_raw, index='Name', values='Value', aggfunc='mean').sort_values(by='Value', ascending=False)"
   ]
  }
 ],
 "metadata": {
  "kernelspec": {
   "display_name": "base",
   "language": "python",
   "name": "python3"
  },
  "language_info": {
   "codemirror_mode": {
    "name": "ipython",
    "version": 3
   },
   "file_extension": ".py",
   "mimetype": "text/x-python",
   "name": "python",
   "nbconvert_exporter": "python",
   "pygments_lexer": "ipython3",
   "version": "3.12.4"
  }
 },
 "nbformat": 4,
 "nbformat_minor": 5
}
