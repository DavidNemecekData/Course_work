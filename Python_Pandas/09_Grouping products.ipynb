{
 "cells": [
  {
   "cell_type": "markdown",
   "id": "suburban-kernel",
   "metadata": {},
   "source": [
    "# Grouping products\n",
    "\n",
    "Using the data from the  **product_prices_cleaned.csv** file for provinces, do the following:\n",
    "\n",
    "1. What was the average monthly price of each commodity?\n",
    "1. Which product had the highest price volatility over the years?\n",
    "\n",
    "Use the **product** and **value** columns for analysis.\n",
    "\n",
    "Additionally:\n",
    "\n",
    "1. Consider whether any more assumptions are needed for the tasks.\n",
    "1. Why can this task be done only now, after cleaning the data? Do you think there are any more operations needed?"
   ]
  },
  {
   "cell_type": "code",
   "execution_count": 10,
   "id": "2a1bf1c6-fa4f-4553-87aa-a8919c147d34",
   "metadata": {},
   "outputs": [],
   "source": [
    "import pandas as pd"
   ]
  },
  {
   "cell_type": "code",
   "execution_count": 11,
   "id": "c6beec55-c000-46a5-ac8a-abe9283a79c7",
   "metadata": {},
   "outputs": [],
   "source": [
    "data = pd.read_csv(\n",
    "  '../../01_Data/product_prices_cleaned.csv',\n",
    "  sep=';',\n",
    "  encoding='UTF-8',\n",
    "  decimal='.'\n",
    ")"
   ]
  },
  {
   "cell_type": "code",
   "execution_count": 12,
   "id": "0f419144-1657-4c69-9a87-552e4aad4680",
   "metadata": {},
   "outputs": [],
   "source": [
    "data_by_date = data.groupby('date')"
   ]
  },
  {
   "cell_type": "code",
   "execution_count": null,
   "id": "793b6c76-7d22-4f82-a697-57c7c700e27d",
   "metadata": {},
   "outputs": [],
   "source": [
    "data_by_date"
   ]
  },
  {
   "cell_type": "code",
   "execution_count": null,
   "id": "f408bef5-4403-4b26-9c5a-546b4204381e",
   "metadata": {},
   "outputs": [],
   "source": [
    "for (key, data_date) in data_by_date:\n",
    "    print(key)\n",
    "    print(data_date)"
   ]
  },
  {
   "cell_type": "markdown",
   "id": "1415013b-8d6b-4c10-bc9a-4e8e77c1f1b1",
   "metadata": {},
   "source": [
    "**Display the available groups:**"
   ]
  },
  {
   "cell_type": "code",
   "execution_count": null,
   "id": "412f3f76-0530-4957-b421-09672ef06f8a",
   "metadata": {},
   "outputs": [],
   "source": [
    "data_by_date.groups.keys()"
   ]
  },
  {
   "cell_type": "markdown",
   "id": "d590e8b4-b7a5-4b0f-82d5-d07b0961ac52",
   "metadata": {},
   "source": [
    "**get_group() - selecting the subset we are interested in.**"
   ]
  },
  {
   "cell_type": "code",
   "execution_count": null,
   "id": "52170d29-66de-4211-85a9-25017fbdeecf",
   "metadata": {},
   "outputs": [],
   "source": [
    "data_by_date.get_group('1999-1')"
   ]
  },
  {
   "cell_type": "code",
   "execution_count": null,
   "id": "136c8005-9c3a-4145-8491-052034dec3d7",
   "metadata": {},
   "outputs": [],
   "source": [
    "data"
   ]
  },
  {
   "cell_type": "code",
   "execution_count": 18,
   "id": "641b2247-9f35-40a9-8456-5827ce4577b5",
   "metadata": {},
   "outputs": [],
   "source": [
    "data_by_product = data.groupby(by=[\"product\",\"date\"])"
   ]
  },
  {
   "cell_type": "code",
   "execution_count": null,
   "id": "52f253ab-73bc-4605-8013-60f35df63913",
   "metadata": {},
   "outputs": [],
   "source": [
    "data_by_product.groups.keys()"
   ]
  },
  {
   "cell_type": "code",
   "execution_count": null,
   "id": "ebd0dbe5-0147-4586-922e-2ca388a745d9",
   "metadata": {},
   "outputs": [],
   "source": [
    "data_by_product.get_group(('30% tomato concentrate - per 1kg', '1999-1'))['value'].mean()"
   ]
  },
  {
   "cell_type": "code",
   "execution_count": null,
   "id": "1e26e2cb-81b3-4328-a7fe-b8ead267f440",
   "metadata": {},
   "outputs": [],
   "source": [
    "data_by_product.get_group((\"Backpacker's canned pork meat - per 300 g\", '2008-4'))['value'].median()"
   ]
  },
  {
   "cell_type": "code",
   "execution_count": null,
   "id": "c3c1e5de-4f7f-4570-857e-3500a033265d",
   "metadata": {},
   "outputs": [],
   "source": [
    "for (key, data_by) in data_by_product:\n",
    "    print(key, data_by['value'].mean()) "
   ]
  },
  {
   "cell_type": "code",
   "execution_count": null,
   "id": "0a3c1fd1-3617-4b82-93e7-f20d81a76209",
   "metadata": {},
   "outputs": [],
   "source": [
    "data_by_product[['value']].agg(['min', 'max', 'mean'])"
   ]
  },
  {
   "cell_type": "code",
   "execution_count": 24,
   "id": "1d46db94-5395-4939-a03d-9ab9e7e0feb3",
   "metadata": {},
   "outputs": [],
   "source": [
    "max_price_per_product = data_by_product['value'].max()"
   ]
  },
  {
   "cell_type": "code",
   "execution_count": 25,
   "id": "053ebb01-4b50-449e-acd3-b1f5b09c6f16",
   "metadata": {},
   "outputs": [],
   "source": [
    "max_price_product = max_price_per_product.idxmax()"
   ]
  },
  {
   "cell_type": "code",
   "execution_count": null,
   "id": "c90613e3-3950-4e9a-a065-5d2cac433533",
   "metadata": {},
   "outputs": [],
   "source": [
    "max_price_product"
   ]
  },
  {
   "cell_type": "code",
   "execution_count": 27,
   "id": "ba8d6887-b52b-45e5-b723-4b210856c3e2",
   "metadata": {},
   "outputs": [],
   "source": [
    "max_price_value = max_price_per_product.max()"
   ]
  },
  {
   "cell_type": "code",
   "execution_count": null,
   "id": "3542b254-8dc5-4584-81a5-477625e0bfe6",
   "metadata": {},
   "outputs": [],
   "source": [
    "max_price_value"
   ]
  },
  {
   "cell_type": "code",
   "execution_count": null,
   "id": "a7dbf7ca-a54c-4ffb-83dd-ff18f3ec42f2",
   "metadata": {},
   "outputs": [],
   "source": [
    "print(f\"Highest price: {max_price_value} - product: {max_price_product}\")"
   ]
  },
  {
   "cell_type": "code",
   "execution_count": 30,
   "id": "4783871a-feb5-4eff-bec0-f6964fa79655",
   "metadata": {},
   "outputs": [],
   "source": [
    "price_volatility = data_by_product['value'].std()"
   ]
  },
  {
   "cell_type": "code",
   "execution_count": 31,
   "id": "77636484-3664-463c-af79-f8874ab4ca4e",
   "metadata": {},
   "outputs": [],
   "source": [
    "volatility_by_product = data.groupby('product')['value'].std()"
   ]
  },
  {
   "cell_type": "code",
   "execution_count": 32,
   "id": "07916310-7aba-4fe0-9bcc-9dc1f58af0bf",
   "metadata": {},
   "outputs": [],
   "source": [
    "most_volatile_product = volatility_by_product.idxmax()\n",
    "highest_volatility = volatility_by_product.max()"
   ]
  },
  {
   "cell_type": "code",
   "execution_count": null,
   "id": "6ffc86d6-25e4-4f4e-a2e1-5dd05347220b",
   "metadata": {},
   "outputs": [],
   "source": [
    "print(f\"Highest volatility: {highest_volatility} -  product: {most_volatile_product}\")"
   ]
  }
 ],
 "metadata": {
  "kernelspec": {
   "display_name": "base",
   "language": "python",
   "name": "python3"
  },
  "language_info": {
   "codemirror_mode": {
    "name": "ipython",
    "version": 3
   },
   "file_extension": ".py",
   "mimetype": "text/x-python",
   "name": "python",
   "nbconvert_exporter": "python",
   "pygments_lexer": "ipython3",
   "version": "3.12.7"
  }
 },
 "nbformat": 4,
 "nbformat_minor": 5
}
