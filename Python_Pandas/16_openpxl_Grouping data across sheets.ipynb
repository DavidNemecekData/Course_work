{
 "cells": [
  {
   "cell_type": "markdown",
   "id": "atomic-chest",
   "metadata": {},
   "source": [
    "# Grouping data across sheets\n",
    "\n",
    "Modify the previous exercise so that each product group is in a separate worksheet together with the corresponding `product_group_id`. For example\n",
    "`product_group_id` 1 should go to the sheet named `1`.\n",
    "\n",
    "Use the method to create a new workbook:\n",
    "```\n",
    "wb.create_sheet(name, index)\n",
    "```\n",
    "Where:\n",
    "- `name` - is the name of the workbook, where we want to save the data (should be a string),\n",
    "- `index` - is the worksheet position in the workbook."
   ]
  },
  {
   "cell_type": "code",
   "execution_count": 1,
   "id": "a21612f3",
   "metadata": {},
   "outputs": [],
   "source": [
    "import pandas as pd\n",
    "from openpyxl import Workbook"
   ]
  },
  {
   "cell_type": "code",
   "execution_count": 10,
   "id": "4e6577fe",
   "metadata": {},
   "outputs": [],
   "source": [
    "data = pd.read_csv(\n",
    "  '../../01_Data/product_prices_cleaned.csv',\n",
    "  sep=',',\n",
    "  encoding='UTF-8',\n",
    "  decimal='.'\n",
    ")"
   ]
  },
  {
   "cell_type": "code",
   "execution_count": 11,
   "id": "56e9fd22",
   "metadata": {},
   "outputs": [
    {
     "data": {
      "text/html": [
       "<div>\n",
       "<style scoped>\n",
       "    .dataframe tbody tr th:only-of-type {\n",
       "        vertical-align: middle;\n",
       "    }\n",
       "\n",
       "    .dataframe tbody tr th {\n",
       "        vertical-align: top;\n",
       "    }\n",
       "\n",
       "    .dataframe thead th {\n",
       "        text-align: right;\n",
       "    }\n",
       "</style>\n",
       "<table border=\"1\" class=\"dataframe\">\n",
       "  <thead>\n",
       "    <tr style=\"text-align: right;\">\n",
       "      <th></th>\n",
       "      <th>province</th>\n",
       "      <th>product_types</th>\n",
       "      <th>currency</th>\n",
       "      <th>product_group_id</th>\n",
       "      <th>product_line</th>\n",
       "      <th>value</th>\n",
       "      <th>date</th>\n",
       "      <th>product</th>\n",
       "      <th>year</th>\n",
       "      <th>month</th>\n",
       "      <th>quarter</th>\n",
       "    </tr>\n",
       "  </thead>\n",
       "  <tbody>\n",
       "    <tr>\n",
       "      <th>0</th>\n",
       "      <td>SUBCARPATHIA</td>\n",
       "      <td>NaN</td>\n",
       "      <td>PLN</td>\n",
       "      <td>2</td>\n",
       "      <td>pork ham cooked - per 1kg</td>\n",
       "      <td>21.37</td>\n",
       "      <td>2013-03-01</td>\n",
       "      <td>pork ham cooked - per 1kg</td>\n",
       "      <td>2013</td>\n",
       "      <td>3</td>\n",
       "      <td>1</td>\n",
       "    </tr>\n",
       "    <tr>\n",
       "      <th>1</th>\n",
       "      <td>ŁÓDŹ</td>\n",
       "      <td>NaN</td>\n",
       "      <td>PLN</td>\n",
       "      <td>4</td>\n",
       "      <td>bread - per 1kg</td>\n",
       "      <td>NaN</td>\n",
       "      <td>2018-02-01</td>\n",
       "      <td>bread - per 1kg</td>\n",
       "      <td>2018</td>\n",
       "      <td>2</td>\n",
       "      <td>1</td>\n",
       "    </tr>\n",
       "    <tr>\n",
       "      <th>2</th>\n",
       "      <td>KUYAVIA-POMERANIA</td>\n",
       "      <td>NaN</td>\n",
       "      <td>PLN</td>\n",
       "      <td>2</td>\n",
       "      <td>barley groats sausage - per 1kg</td>\n",
       "      <td>3.55</td>\n",
       "      <td>2019-12-01</td>\n",
       "      <td>barley groats sausage - per 1kg</td>\n",
       "      <td>2019</td>\n",
       "      <td>12</td>\n",
       "      <td>4</td>\n",
       "    </tr>\n",
       "    <tr>\n",
       "      <th>3</th>\n",
       "      <td>LOWER SILESIA</td>\n",
       "      <td>NaN</td>\n",
       "      <td>PLN</td>\n",
       "      <td>2</td>\n",
       "      <td>dressed chickens - per 1kg</td>\n",
       "      <td>6.14</td>\n",
       "      <td>2019-02-01</td>\n",
       "      <td>dressed chickens - per 1kg</td>\n",
       "      <td>2019</td>\n",
       "      <td>2</td>\n",
       "      <td>1</td>\n",
       "    </tr>\n",
       "    <tr>\n",
       "      <th>4</th>\n",
       "      <td>WARMIA-MASURIA</td>\n",
       "      <td>NaN</td>\n",
       "      <td>PLN</td>\n",
       "      <td>2</td>\n",
       "      <td>Italian head cheese - per 1kg</td>\n",
       "      <td>5.63</td>\n",
       "      <td>2002-03-01</td>\n",
       "      <td>Italian head cheese - per 1kg</td>\n",
       "      <td>2002</td>\n",
       "      <td>3</td>\n",
       "      <td>1</td>\n",
       "    </tr>\n",
       "  </tbody>\n",
       "</table>\n",
       "</div>"
      ],
      "text/plain": [
       "            province product_types currency  product_group_id  \\\n",
       "0       SUBCARPATHIA           NaN      PLN                 2   \n",
       "1               ŁÓDŹ           NaN      PLN                 4   \n",
       "2  KUYAVIA-POMERANIA           NaN      PLN                 2   \n",
       "3      LOWER SILESIA           NaN      PLN                 2   \n",
       "4     WARMIA-MASURIA           NaN      PLN                 2   \n",
       "\n",
       "                      product_line  value        date  \\\n",
       "0        pork ham cooked - per 1kg  21.37  2013-03-01   \n",
       "1                  bread - per 1kg    NaN  2018-02-01   \n",
       "2  barley groats sausage - per 1kg   3.55  2019-12-01   \n",
       "3       dressed chickens - per 1kg   6.14  2019-02-01   \n",
       "4    Italian head cheese - per 1kg   5.63  2002-03-01   \n",
       "\n",
       "                           product  year  month  quarter  \n",
       "0        pork ham cooked - per 1kg  2013      3        1  \n",
       "1                  bread - per 1kg  2018      2        1  \n",
       "2  barley groats sausage - per 1kg  2019     12        4  \n",
       "3       dressed chickens - per 1kg  2019      2        1  \n",
       "4    Italian head cheese - per 1kg  2002      3        1  "
      ]
     },
     "execution_count": 11,
     "metadata": {},
     "output_type": "execute_result"
    }
   ],
   "source": [
    "data.head()"
   ]
  },
  {
   "cell_type": "code",
   "execution_count": 12,
   "id": "dc5f9f44",
   "metadata": {},
   "outputs": [],
   "source": [
    "grouped_data = data.groupby(\"product_group_id\")"
   ]
  },
  {
   "cell_type": "code",
   "execution_count": 13,
   "id": "278980a4",
   "metadata": {},
   "outputs": [],
   "source": [
    "# Create a new Excel workbook\n",
    "wb = Workbook()"
   ]
  },
  {
   "cell_type": "code",
   "execution_count": 14,
   "id": "870dd9f5",
   "metadata": {},
   "outputs": [],
   "source": [
    "# Remove the default sheet created by openpyxl\n",
    "default_sheet = wb.active\n",
    "wb.remove(default_sheet)"
   ]
  },
  {
   "cell_type": "code",
   "execution_count": 15,
   "id": "f1baa65c",
   "metadata": {},
   "outputs": [],
   "source": [
    "# Add each product group to a separate sheet\n",
    "for group_id, group_data in grouped_data:\n",
    "    sheet_name = str(group_id)\n",
    "    sheet = wb.create_sheet(title=sheet_name)\n",
    "    \n",
    "    for col_idx, column in enumerate(group_data.columns, start=1):\n",
    "        sheet.cell(row=1, column=col_idx, value=column)\n",
    "    \n",
    "    for row_idx, row in enumerate(group_data.itertuples(index=False), start=2):\n",
    "        for col_idx, value in enumerate(row, start=1):\n",
    "            sheet.cell(row=row_idx, column=col_idx, value=value)\n",
    "\n",
    "# Save the workbook\n",
    "excel_file = \"grouped_product_data.xlsx\"\n",
    "wb.save(excel_file)"
   ]
  }
 ],
 "metadata": {
  "kernelspec": {
   "display_name": "base",
   "language": "python",
   "name": "python3"
  },
  "language_info": {
   "codemirror_mode": {
    "name": "ipython",
    "version": 3
   },
   "file_extension": ".py",
   "mimetype": "text/x-python",
   "name": "python",
   "nbconvert_exporter": "python",
   "pygments_lexer": "ipython3",
   "version": "3.12.7"
  }
 },
 "nbformat": 4,
 "nbformat_minor": 5
}
