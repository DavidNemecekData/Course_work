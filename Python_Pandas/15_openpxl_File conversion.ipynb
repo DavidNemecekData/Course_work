{
 "cells": [
  {
   "cell_type": "markdown",
   "id": "welsh-flower",
   "metadata": {},
   "source": [
    "# File conversion\n",
    "\n",
    "Using `openpyxl` convert the **product_prices_cleaned.csv** file to an Excel file."
   ]
  },
  {
   "cell_type": "code",
   "execution_count": 1,
   "id": "e2424000",
   "metadata": {},
   "outputs": [],
   "source": [
    "import pandas as pd\n",
    "from openpyxl import Workbook"
   ]
  },
  {
   "cell_type": "code",
   "execution_count": 2,
   "id": "e87d00ff",
   "metadata": {},
   "outputs": [],
   "source": [
    "data = pd.read_csv(\n",
    "    '../../01_Data/product_prices_cleaned.csv',\n",
    "    sep=',',\n",
    "    encoding='UTF-8',\n",
    "    decimal='.'\n",
    ")"
   ]
  },
  {
   "cell_type": "code",
   "execution_count": 3,
   "id": "210f805b",
   "metadata": {},
   "outputs": [
    {
     "data": {
      "text/html": [
       "<div>\n",
       "<style scoped>\n",
       "    .dataframe tbody tr th:only-of-type {\n",
       "        vertical-align: middle;\n",
       "    }\n",
       "\n",
       "    .dataframe tbody tr th {\n",
       "        vertical-align: top;\n",
       "    }\n",
       "\n",
       "    .dataframe thead th {\n",
       "        text-align: right;\n",
       "    }\n",
       "</style>\n",
       "<table border=\"1\" class=\"dataframe\">\n",
       "  <thead>\n",
       "    <tr style=\"text-align: right;\">\n",
       "      <th></th>\n",
       "      <th>province</th>\n",
       "      <th>product_types</th>\n",
       "      <th>currency</th>\n",
       "      <th>product_group_id</th>\n",
       "      <th>product_line</th>\n",
       "      <th>value</th>\n",
       "      <th>date</th>\n",
       "      <th>product</th>\n",
       "      <th>year</th>\n",
       "      <th>month</th>\n",
       "      <th>quarter</th>\n",
       "    </tr>\n",
       "  </thead>\n",
       "  <tbody>\n",
       "    <tr>\n",
       "      <th>0</th>\n",
       "      <td>SUBCARPATHIA</td>\n",
       "      <td>NaN</td>\n",
       "      <td>PLN</td>\n",
       "      <td>2</td>\n",
       "      <td>pork ham cooked - per 1kg</td>\n",
       "      <td>21.37</td>\n",
       "      <td>2013-03-01</td>\n",
       "      <td>pork ham cooked - per 1kg</td>\n",
       "      <td>2013</td>\n",
       "      <td>3</td>\n",
       "      <td>1</td>\n",
       "    </tr>\n",
       "    <tr>\n",
       "      <th>1</th>\n",
       "      <td>ŁÓDŹ</td>\n",
       "      <td>NaN</td>\n",
       "      <td>PLN</td>\n",
       "      <td>4</td>\n",
       "      <td>bread - per 1kg</td>\n",
       "      <td>NaN</td>\n",
       "      <td>2018-02-01</td>\n",
       "      <td>bread - per 1kg</td>\n",
       "      <td>2018</td>\n",
       "      <td>2</td>\n",
       "      <td>1</td>\n",
       "    </tr>\n",
       "    <tr>\n",
       "      <th>2</th>\n",
       "      <td>KUYAVIA-POMERANIA</td>\n",
       "      <td>NaN</td>\n",
       "      <td>PLN</td>\n",
       "      <td>2</td>\n",
       "      <td>barley groats sausage - per 1kg</td>\n",
       "      <td>3.55</td>\n",
       "      <td>2019-12-01</td>\n",
       "      <td>barley groats sausage - per 1kg</td>\n",
       "      <td>2019</td>\n",
       "      <td>12</td>\n",
       "      <td>4</td>\n",
       "    </tr>\n",
       "    <tr>\n",
       "      <th>3</th>\n",
       "      <td>LOWER SILESIA</td>\n",
       "      <td>NaN</td>\n",
       "      <td>PLN</td>\n",
       "      <td>2</td>\n",
       "      <td>dressed chickens - per 1kg</td>\n",
       "      <td>6.14</td>\n",
       "      <td>2019-02-01</td>\n",
       "      <td>dressed chickens - per 1kg</td>\n",
       "      <td>2019</td>\n",
       "      <td>2</td>\n",
       "      <td>1</td>\n",
       "    </tr>\n",
       "    <tr>\n",
       "      <th>4</th>\n",
       "      <td>WARMIA-MASURIA</td>\n",
       "      <td>NaN</td>\n",
       "      <td>PLN</td>\n",
       "      <td>2</td>\n",
       "      <td>Italian head cheese - per 1kg</td>\n",
       "      <td>5.63</td>\n",
       "      <td>2002-03-01</td>\n",
       "      <td>Italian head cheese - per 1kg</td>\n",
       "      <td>2002</td>\n",
       "      <td>3</td>\n",
       "      <td>1</td>\n",
       "    </tr>\n",
       "  </tbody>\n",
       "</table>\n",
       "</div>"
      ],
      "text/plain": [
       "            province product_types currency  product_group_id  \\\n",
       "0       SUBCARPATHIA           NaN      PLN                 2   \n",
       "1               ŁÓDŹ           NaN      PLN                 4   \n",
       "2  KUYAVIA-POMERANIA           NaN      PLN                 2   \n",
       "3      LOWER SILESIA           NaN      PLN                 2   \n",
       "4     WARMIA-MASURIA           NaN      PLN                 2   \n",
       "\n",
       "                      product_line  value        date  \\\n",
       "0        pork ham cooked - per 1kg  21.37  2013-03-01   \n",
       "1                  bread - per 1kg    NaN  2018-02-01   \n",
       "2  barley groats sausage - per 1kg   3.55  2019-12-01   \n",
       "3       dressed chickens - per 1kg   6.14  2019-02-01   \n",
       "4    Italian head cheese - per 1kg   5.63  2002-03-01   \n",
       "\n",
       "                           product  year  month  quarter  \n",
       "0        pork ham cooked - per 1kg  2013      3        1  \n",
       "1                  bread - per 1kg  2018      2        1  \n",
       "2  barley groats sausage - per 1kg  2019     12        4  \n",
       "3       dressed chickens - per 1kg  2019      2        1  \n",
       "4    Italian head cheese - per 1kg  2002      3        1  "
      ]
     },
     "execution_count": 3,
     "metadata": {},
     "output_type": "execute_result"
    }
   ],
   "source": [
    "data.head(5)"
   ]
  },
  {
   "cell_type": "code",
   "execution_count": 6,
   "id": "35d6c9bf",
   "metadata": {},
   "outputs": [],
   "source": [
    "workbook = Workbook()\n",
    "sheet = workbook.active\n",
    "sheet.title = \"Product Prices\"\n",
    "\n",
    "# Write the column headers\n",
    "for col_idx, column in enumerate(data.columns, start=1):\n",
    "    sheet.cell(row=1, column=col_idx, value=column)\n",
    "\n",
    "# Write the data to the Excel sheet\n",
    "for row_idx, row in enumerate(data.itertuples(index=False), start=2):\n",
    "    for col_idx, value in enumerate(row, start=1):\n",
    "        sheet.cell(row=row_idx, column=col_idx, value=value)\n"
   ]
  },
  {
   "cell_type": "code",
   "execution_count": 7,
   "id": "722c0836",
   "metadata": {},
   "outputs": [
    {
     "name": "stdout",
     "output_type": "stream",
     "text": [
      "File has been successfully converted to product_prices_cleaned.xlsx\n"
     ]
    }
   ],
   "source": [
    "# Save the workbook as an Excel file\n",
    "excel_file = \"product_prices_cleaned.xlsx\"\n",
    "workbook.save(excel_file)\n",
    "\n",
    "print(f\"File has been successfully converted to {excel_file}\")"
   ]
  }
 ],
 "metadata": {
  "kernelspec": {
   "display_name": "base",
   "language": "python",
   "name": "python3"
  },
  "language_info": {
   "codemirror_mode": {
    "name": "ipython",
    "version": 3
   },
   "file_extension": ".py",
   "mimetype": "text/x-python",
   "name": "python",
   "nbconvert_exporter": "python",
   "pygments_lexer": "ipython3",
   "version": "3.12.7"
  }
 },
 "nbformat": 4,
 "nbformat_minor": 5
}
