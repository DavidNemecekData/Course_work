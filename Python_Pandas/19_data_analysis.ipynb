{
 "cells": [
  {
   "cell_type": "markdown",
   "metadata": {
    "id": "8DxYohDrNqTX"
   },
   "source": [
    "# Introduction - Exploratory Analysis"
   ]
  },
  {
   "cell_type": "markdown",
   "metadata": {
    "id": "-vX3ioL9NqTZ"
   },
   "source": [
    "## Import libraries"
   ]
  },
  {
   "cell_type": "code",
   "execution_count": 110,
   "metadata": {
    "id": "55AHPLYHNqTZ"
   },
   "outputs": [],
   "source": [
    "import matplotlib.pyplot as plt\n",
    "import pandas as pd\n",
    "import os\n",
    "import numpy as np"
   ]
  },
  {
   "cell_type": "markdown",
   "metadata": {
    "id": "WA7Gm4xjNqTa"
   },
   "source": [
    "# Loading the Dataset"
   ]
  },
  {
   "cell_type": "code",
   "execution_count": 111,
   "metadata": {
    "id": "NJ768oGnNqTa"
   },
   "outputs": [
    {
     "name": "stdout",
     "output_type": "stream",
     "text": [
      "['teams_data.json']\n"
     ]
    }
   ],
   "source": [
    "folder_path = '../data/raw'\n",
    "content = os.listdir(folder_path)\n",
    "print(content)\n",
    "file_path = '../data/raw/teams_data.json'"
   ]
  },
  {
   "cell_type": "code",
   "execution_count": 112,
   "metadata": {},
   "outputs": [],
   "source": [
    "df_raw = pd.read_json(file_path)"
   ]
  },
  {
   "cell_type": "code",
   "execution_count": 113,
   "metadata": {},
   "outputs": [
    {
     "data": {
      "text/html": [
       "<div>\n",
       "<style scoped>\n",
       "    .dataframe tbody tr th:only-of-type {\n",
       "        vertical-align: middle;\n",
       "    }\n",
       "\n",
       "    .dataframe tbody tr th {\n",
       "        vertical-align: top;\n",
       "    }\n",
       "\n",
       "    .dataframe thead th {\n",
       "        text-align: right;\n",
       "    }\n",
       "</style>\n",
       "<table border=\"1\" class=\"dataframe\">\n",
       "  <thead>\n",
       "    <tr style=\"text-align: right;\">\n",
       "      <th></th>\n",
       "      <th>Team Name</th>\n",
       "      <th>Year</th>\n",
       "      <th>Wins</th>\n",
       "      <th>Losses</th>\n",
       "      <th>OT Losses</th>\n",
       "      <th>Win %</th>\n",
       "      <th>Goals For (GF)</th>\n",
       "      <th>Goals Against (GA)</th>\n",
       "      <th>+ / -</th>\n",
       "    </tr>\n",
       "  </thead>\n",
       "  <tbody>\n",
       "    <tr>\n",
       "      <th>0</th>\n",
       "      <td>Boston Bruins</td>\n",
       "      <td>1990</td>\n",
       "      <td>44</td>\n",
       "      <td>24</td>\n",
       "      <td></td>\n",
       "      <td>0.550</td>\n",
       "      <td>299</td>\n",
       "      <td>264</td>\n",
       "      <td>35</td>\n",
       "    </tr>\n",
       "    <tr>\n",
       "      <th>1</th>\n",
       "      <td>Buffalo Sabres</td>\n",
       "      <td>1990</td>\n",
       "      <td>31</td>\n",
       "      <td>30</td>\n",
       "      <td></td>\n",
       "      <td>0.388</td>\n",
       "      <td>292</td>\n",
       "      <td>278</td>\n",
       "      <td>14</td>\n",
       "    </tr>\n",
       "    <tr>\n",
       "      <th>2</th>\n",
       "      <td>Calgary Flames</td>\n",
       "      <td>1990</td>\n",
       "      <td>46</td>\n",
       "      <td>26</td>\n",
       "      <td></td>\n",
       "      <td>0.575</td>\n",
       "      <td>344</td>\n",
       "      <td>263</td>\n",
       "      <td>81</td>\n",
       "    </tr>\n",
       "    <tr>\n",
       "      <th>3</th>\n",
       "      <td>Chicago Blackhawks</td>\n",
       "      <td>1990</td>\n",
       "      <td>49</td>\n",
       "      <td>23</td>\n",
       "      <td></td>\n",
       "      <td>0.613</td>\n",
       "      <td>284</td>\n",
       "      <td>211</td>\n",
       "      <td>73</td>\n",
       "    </tr>\n",
       "    <tr>\n",
       "      <th>4</th>\n",
       "      <td>Detroit Red Wings</td>\n",
       "      <td>1990</td>\n",
       "      <td>34</td>\n",
       "      <td>38</td>\n",
       "      <td></td>\n",
       "      <td>0.425</td>\n",
       "      <td>273</td>\n",
       "      <td>298</td>\n",
       "      <td>-25</td>\n",
       "    </tr>\n",
       "    <tr>\n",
       "      <th>5</th>\n",
       "      <td>Edmonton Oilers</td>\n",
       "      <td>1990</td>\n",
       "      <td>37</td>\n",
       "      <td>37</td>\n",
       "      <td></td>\n",
       "      <td>0.463</td>\n",
       "      <td>272</td>\n",
       "      <td>272</td>\n",
       "      <td>0</td>\n",
       "    </tr>\n",
       "    <tr>\n",
       "      <th>6</th>\n",
       "      <td>Hartford Whalers</td>\n",
       "      <td>1990</td>\n",
       "      <td>31</td>\n",
       "      <td>38</td>\n",
       "      <td></td>\n",
       "      <td>0.388</td>\n",
       "      <td>238</td>\n",
       "      <td>276</td>\n",
       "      <td>-38</td>\n",
       "    </tr>\n",
       "    <tr>\n",
       "      <th>7</th>\n",
       "      <td>Los Angeles Kings</td>\n",
       "      <td>1990</td>\n",
       "      <td>46</td>\n",
       "      <td>24</td>\n",
       "      <td></td>\n",
       "      <td>0.575</td>\n",
       "      <td>340</td>\n",
       "      <td>254</td>\n",
       "      <td>86</td>\n",
       "    </tr>\n",
       "    <tr>\n",
       "      <th>8</th>\n",
       "      <td>Minnesota North Stars</td>\n",
       "      <td>1990</td>\n",
       "      <td>27</td>\n",
       "      <td>39</td>\n",
       "      <td></td>\n",
       "      <td>0.338</td>\n",
       "      <td>256</td>\n",
       "      <td>266</td>\n",
       "      <td>-10</td>\n",
       "    </tr>\n",
       "    <tr>\n",
       "      <th>9</th>\n",
       "      <td>Montreal Canadiens</td>\n",
       "      <td>1990</td>\n",
       "      <td>39</td>\n",
       "      <td>30</td>\n",
       "      <td></td>\n",
       "      <td>0.487</td>\n",
       "      <td>273</td>\n",
       "      <td>249</td>\n",
       "      <td>24</td>\n",
       "    </tr>\n",
       "  </tbody>\n",
       "</table>\n",
       "</div>"
      ],
      "text/plain": [
       "               Team Name  Year  Wins  Losses OT Losses  Win %  Goals For (GF)  \\\n",
       "0          Boston Bruins  1990    44      24            0.550             299   \n",
       "1         Buffalo Sabres  1990    31      30            0.388             292   \n",
       "2         Calgary Flames  1990    46      26            0.575             344   \n",
       "3     Chicago Blackhawks  1990    49      23            0.613             284   \n",
       "4      Detroit Red Wings  1990    34      38            0.425             273   \n",
       "5        Edmonton Oilers  1990    37      37            0.463             272   \n",
       "6       Hartford Whalers  1990    31      38            0.388             238   \n",
       "7      Los Angeles Kings  1990    46      24            0.575             340   \n",
       "8  Minnesota North Stars  1990    27      39            0.338             256   \n",
       "9     Montreal Canadiens  1990    39      30            0.487             273   \n",
       "\n",
       "   Goals Against (GA)  + / -  \n",
       "0                 264     35  \n",
       "1                 278     14  \n",
       "2                 263     81  \n",
       "3                 211     73  \n",
       "4                 298    -25  \n",
       "5                 272      0  \n",
       "6                 276    -38  \n",
       "7                 254     86  \n",
       "8                 266    -10  \n",
       "9                 249     24  "
      ]
     },
     "execution_count": 113,
     "metadata": {},
     "output_type": "execute_result"
    }
   ],
   "source": [
    "df_raw.head(10)"
   ]
  },
  {
   "cell_type": "markdown",
   "metadata": {
    "id": "TlHokevkNqTa"
   },
   "source": [
    "# Preliminary Data Transformation"
   ]
  },
  {
   "cell_type": "markdown",
   "metadata": {
    "id": "lNDcIA_bNqTb"
   },
   "source": [
    "## Standardizing Column Names\n"
   ]
  },
  {
   "cell_type": "code",
   "execution_count": 114,
   "metadata": {
    "id": "N7B7kFzjNqTb"
   },
   "outputs": [],
   "source": [
    "df = df_raw.rename(columns={\n",
    "    'Team Name': 'team',\n",
    "    'Year': 'season',\n",
    "    'Wins': 'victories',\n",
    "    'Losses': 'defeats',\n",
    "    'OT Losses': 'overtime_defeats',\n",
    "    'Win %': 'victory_percentage',\n",
    "    'Goals For (GF)': 'scored_goals',\n",
    "    'Goals Against (GA)': 'received_goals',\n",
    "    '+ / -': 'goal_difference'   \n",
    "})"
   ]
  },
  {
   "cell_type": "code",
   "execution_count": 115,
   "metadata": {},
   "outputs": [
    {
     "data": {
      "text/html": [
       "<div>\n",
       "<style scoped>\n",
       "    .dataframe tbody tr th:only-of-type {\n",
       "        vertical-align: middle;\n",
       "    }\n",
       "\n",
       "    .dataframe tbody tr th {\n",
       "        vertical-align: top;\n",
       "    }\n",
       "\n",
       "    .dataframe thead th {\n",
       "        text-align: right;\n",
       "    }\n",
       "</style>\n",
       "<table border=\"1\" class=\"dataframe\">\n",
       "  <thead>\n",
       "    <tr style=\"text-align: right;\">\n",
       "      <th></th>\n",
       "      <th>team</th>\n",
       "      <th>season</th>\n",
       "      <th>victories</th>\n",
       "      <th>defeats</th>\n",
       "      <th>overtime_defeats</th>\n",
       "      <th>victory_percentage</th>\n",
       "      <th>scored_goals</th>\n",
       "      <th>received_goals</th>\n",
       "      <th>goal_difference</th>\n",
       "    </tr>\n",
       "  </thead>\n",
       "  <tbody>\n",
       "    <tr>\n",
       "      <th>0</th>\n",
       "      <td>Boston Bruins</td>\n",
       "      <td>1990</td>\n",
       "      <td>44</td>\n",
       "      <td>24</td>\n",
       "      <td></td>\n",
       "      <td>0.550</td>\n",
       "      <td>299</td>\n",
       "      <td>264</td>\n",
       "      <td>35</td>\n",
       "    </tr>\n",
       "    <tr>\n",
       "      <th>1</th>\n",
       "      <td>Buffalo Sabres</td>\n",
       "      <td>1990</td>\n",
       "      <td>31</td>\n",
       "      <td>30</td>\n",
       "      <td></td>\n",
       "      <td>0.388</td>\n",
       "      <td>292</td>\n",
       "      <td>278</td>\n",
       "      <td>14</td>\n",
       "    </tr>\n",
       "    <tr>\n",
       "      <th>2</th>\n",
       "      <td>Calgary Flames</td>\n",
       "      <td>1990</td>\n",
       "      <td>46</td>\n",
       "      <td>26</td>\n",
       "      <td></td>\n",
       "      <td>0.575</td>\n",
       "      <td>344</td>\n",
       "      <td>263</td>\n",
       "      <td>81</td>\n",
       "    </tr>\n",
       "    <tr>\n",
       "      <th>3</th>\n",
       "      <td>Chicago Blackhawks</td>\n",
       "      <td>1990</td>\n",
       "      <td>49</td>\n",
       "      <td>23</td>\n",
       "      <td></td>\n",
       "      <td>0.613</td>\n",
       "      <td>284</td>\n",
       "      <td>211</td>\n",
       "      <td>73</td>\n",
       "    </tr>\n",
       "    <tr>\n",
       "      <th>4</th>\n",
       "      <td>Detroit Red Wings</td>\n",
       "      <td>1990</td>\n",
       "      <td>34</td>\n",
       "      <td>38</td>\n",
       "      <td></td>\n",
       "      <td>0.425</td>\n",
       "      <td>273</td>\n",
       "      <td>298</td>\n",
       "      <td>-25</td>\n",
       "    </tr>\n",
       "    <tr>\n",
       "      <th>5</th>\n",
       "      <td>Edmonton Oilers</td>\n",
       "      <td>1990</td>\n",
       "      <td>37</td>\n",
       "      <td>37</td>\n",
       "      <td></td>\n",
       "      <td>0.463</td>\n",
       "      <td>272</td>\n",
       "      <td>272</td>\n",
       "      <td>0</td>\n",
       "    </tr>\n",
       "    <tr>\n",
       "      <th>6</th>\n",
       "      <td>Hartford Whalers</td>\n",
       "      <td>1990</td>\n",
       "      <td>31</td>\n",
       "      <td>38</td>\n",
       "      <td></td>\n",
       "      <td>0.388</td>\n",
       "      <td>238</td>\n",
       "      <td>276</td>\n",
       "      <td>-38</td>\n",
       "    </tr>\n",
       "    <tr>\n",
       "      <th>7</th>\n",
       "      <td>Los Angeles Kings</td>\n",
       "      <td>1990</td>\n",
       "      <td>46</td>\n",
       "      <td>24</td>\n",
       "      <td></td>\n",
       "      <td>0.575</td>\n",
       "      <td>340</td>\n",
       "      <td>254</td>\n",
       "      <td>86</td>\n",
       "    </tr>\n",
       "    <tr>\n",
       "      <th>8</th>\n",
       "      <td>Minnesota North Stars</td>\n",
       "      <td>1990</td>\n",
       "      <td>27</td>\n",
       "      <td>39</td>\n",
       "      <td></td>\n",
       "      <td>0.338</td>\n",
       "      <td>256</td>\n",
       "      <td>266</td>\n",
       "      <td>-10</td>\n",
       "    </tr>\n",
       "    <tr>\n",
       "      <th>9</th>\n",
       "      <td>Montreal Canadiens</td>\n",
       "      <td>1990</td>\n",
       "      <td>39</td>\n",
       "      <td>30</td>\n",
       "      <td></td>\n",
       "      <td>0.487</td>\n",
       "      <td>273</td>\n",
       "      <td>249</td>\n",
       "      <td>24</td>\n",
       "    </tr>\n",
       "  </tbody>\n",
       "</table>\n",
       "</div>"
      ],
      "text/plain": [
       "                    team  season  victories  defeats overtime_defeats  \\\n",
       "0          Boston Bruins    1990         44       24                    \n",
       "1         Buffalo Sabres    1990         31       30                    \n",
       "2         Calgary Flames    1990         46       26                    \n",
       "3     Chicago Blackhawks    1990         49       23                    \n",
       "4      Detroit Red Wings    1990         34       38                    \n",
       "5        Edmonton Oilers    1990         37       37                    \n",
       "6       Hartford Whalers    1990         31       38                    \n",
       "7      Los Angeles Kings    1990         46       24                    \n",
       "8  Minnesota North Stars    1990         27       39                    \n",
       "9     Montreal Canadiens    1990         39       30                    \n",
       "\n",
       "   victory_percentage  scored_goals  received_goals  goal_difference  \n",
       "0               0.550           299             264               35  \n",
       "1               0.388           292             278               14  \n",
       "2               0.575           344             263               81  \n",
       "3               0.613           284             211               73  \n",
       "4               0.425           273             298              -25  \n",
       "5               0.463           272             272                0  \n",
       "6               0.388           238             276              -38  \n",
       "7               0.575           340             254               86  \n",
       "8               0.338           256             266              -10  \n",
       "9               0.487           273             249               24  "
      ]
     },
     "execution_count": 115,
     "metadata": {},
     "output_type": "execute_result"
    }
   ],
   "source": [
    "df.head(10)"
   ]
  },
  {
   "cell_type": "markdown",
   "metadata": {
    "id": "K_LVbkrGNqTb"
   },
   "source": [
    "## Removing Empty Values"
   ]
  },
  {
   "cell_type": "code",
   "execution_count": 116,
   "metadata": {
    "id": "MS3IwrT4NqTb"
   },
   "outputs": [
    {
     "name": "stdout",
     "output_type": "stream",
     "text": [
      "['', '0', '1', '10', '11', '12', '13', '14', '15', '16', '18', '2', '3', '4', '5', '6', '7', '8', '9']\n"
     ]
    }
   ],
   "source": [
    "sorted_unique_values = sorted(df['overtime_defeats'].unique())\n",
    "print(sorted_unique_values)"
   ]
  },
  {
   "cell_type": "markdown",
   "metadata": {
    "id": "DI1cK75ZNqTb"
   },
   "source": [
    "### Overwriting Empty Values with 0"
   ]
  },
  {
   "cell_type": "code",
   "execution_count": 117,
   "metadata": {
    "id": "0904MVgANqTc"
   },
   "outputs": [],
   "source": [
    "df.loc[df['overtime_defeats'] == \"\", 'overtime_defeats'] = 0"
   ]
  },
  {
   "cell_type": "code",
   "execution_count": 118,
   "metadata": {},
   "outputs": [
    {
     "data": {
      "text/plain": [
       "count    582.000000\n",
       "mean       4.589347\n",
       "std        4.605402\n",
       "min        0.000000\n",
       "25%        0.000000\n",
       "50%        4.000000\n",
       "75%        8.000000\n",
       "max       18.000000\n",
       "Name: overtime_defeats, dtype: float64"
      ]
     },
     "execution_count": 118,
     "metadata": {},
     "output_type": "execute_result"
    }
   ],
   "source": [
    "df['overtime_defeats'] = pd.to_numeric(df['overtime_defeats'], errors='coerce')\n",
    "df['overtime_defeats'].describe()"
   ]
  },
  {
   "cell_type": "markdown",
   "metadata": {
    "id": "zcYisAP2NqTc"
   },
   "source": [
    "### Column Type Conversion"
   ]
  },
  {
   "cell_type": "code",
   "execution_count": 119,
   "metadata": {
    "id": "to3ojXBiNqTc"
   },
   "outputs": [],
   "source": [
    "df['overtime_defeats'] = df['overtime_defeats'].astype(int)"
   ]
  },
  {
   "cell_type": "code",
   "execution_count": 120,
   "metadata": {},
   "outputs": [
    {
     "name": "stdout",
     "output_type": "stream",
     "text": [
      "[0, 1, 2, 3, 4, 5, 6, 7, 8, 9, 10, 11, 12, 13, 14, 15, 16, 18]\n"
     ]
    }
   ],
   "source": [
    "sorted_unique_values = sorted(df['overtime_defeats'].unique())\n",
    "print(sorted_unique_values)"
   ]
  },
  {
   "cell_type": "code",
   "execution_count": 121,
   "metadata": {},
   "outputs": [
    {
     "data": {
      "text/html": [
       "<div>\n",
       "<style scoped>\n",
       "    .dataframe tbody tr th:only-of-type {\n",
       "        vertical-align: middle;\n",
       "    }\n",
       "\n",
       "    .dataframe tbody tr th {\n",
       "        vertical-align: top;\n",
       "    }\n",
       "\n",
       "    .dataframe thead th {\n",
       "        text-align: right;\n",
       "    }\n",
       "</style>\n",
       "<table border=\"1\" class=\"dataframe\">\n",
       "  <thead>\n",
       "    <tr style=\"text-align: right;\">\n",
       "      <th></th>\n",
       "      <th>team</th>\n",
       "      <th>season</th>\n",
       "      <th>victories</th>\n",
       "      <th>defeats</th>\n",
       "      <th>overtime_defeats</th>\n",
       "      <th>victory_percentage</th>\n",
       "      <th>scored_goals</th>\n",
       "      <th>received_goals</th>\n",
       "      <th>goal_difference</th>\n",
       "    </tr>\n",
       "  </thead>\n",
       "  <tbody>\n",
       "    <tr>\n",
       "      <th>0</th>\n",
       "      <td>Boston Bruins</td>\n",
       "      <td>1990</td>\n",
       "      <td>44</td>\n",
       "      <td>24</td>\n",
       "      <td>0</td>\n",
       "      <td>0.550</td>\n",
       "      <td>299</td>\n",
       "      <td>264</td>\n",
       "      <td>35</td>\n",
       "    </tr>\n",
       "    <tr>\n",
       "      <th>1</th>\n",
       "      <td>Buffalo Sabres</td>\n",
       "      <td>1990</td>\n",
       "      <td>31</td>\n",
       "      <td>30</td>\n",
       "      <td>0</td>\n",
       "      <td>0.388</td>\n",
       "      <td>292</td>\n",
       "      <td>278</td>\n",
       "      <td>14</td>\n",
       "    </tr>\n",
       "    <tr>\n",
       "      <th>2</th>\n",
       "      <td>Calgary Flames</td>\n",
       "      <td>1990</td>\n",
       "      <td>46</td>\n",
       "      <td>26</td>\n",
       "      <td>0</td>\n",
       "      <td>0.575</td>\n",
       "      <td>344</td>\n",
       "      <td>263</td>\n",
       "      <td>81</td>\n",
       "    </tr>\n",
       "    <tr>\n",
       "      <th>3</th>\n",
       "      <td>Chicago Blackhawks</td>\n",
       "      <td>1990</td>\n",
       "      <td>49</td>\n",
       "      <td>23</td>\n",
       "      <td>0</td>\n",
       "      <td>0.613</td>\n",
       "      <td>284</td>\n",
       "      <td>211</td>\n",
       "      <td>73</td>\n",
       "    </tr>\n",
       "    <tr>\n",
       "      <th>4</th>\n",
       "      <td>Detroit Red Wings</td>\n",
       "      <td>1990</td>\n",
       "      <td>34</td>\n",
       "      <td>38</td>\n",
       "      <td>0</td>\n",
       "      <td>0.425</td>\n",
       "      <td>273</td>\n",
       "      <td>298</td>\n",
       "      <td>-25</td>\n",
       "    </tr>\n",
       "  </tbody>\n",
       "</table>\n",
       "</div>"
      ],
      "text/plain": [
       "                 team  season  victories  defeats  overtime_defeats  \\\n",
       "0       Boston Bruins    1990         44       24                 0   \n",
       "1      Buffalo Sabres    1990         31       30                 0   \n",
       "2      Calgary Flames    1990         46       26                 0   \n",
       "3  Chicago Blackhawks    1990         49       23                 0   \n",
       "4   Detroit Red Wings    1990         34       38                 0   \n",
       "\n",
       "   victory_percentage  scored_goals  received_goals  goal_difference  \n",
       "0               0.550           299             264               35  \n",
       "1               0.388           292             278               14  \n",
       "2               0.575           344             263               81  \n",
       "3               0.613           284             211               73  \n",
       "4               0.425           273             298              -25  "
      ]
     },
     "execution_count": 121,
     "metadata": {},
     "output_type": "execute_result"
    }
   ],
   "source": [
    "df.head(5)"
   ]
  },
  {
   "cell_type": "markdown",
   "metadata": {
    "id": "tt7ZAi2tNqTc"
   },
   "source": [
    "# Dataset Analysis"
   ]
  },
  {
   "cell_type": "markdown",
   "metadata": {
    "id": "9Zm6UdvANqTc"
   },
   "source": [
    "### Number of teams that participated in league matches"
   ]
  },
  {
   "cell_type": "code",
   "execution_count": 122,
   "metadata": {
    "id": "uyo3Pt50NqTc"
   },
   "outputs": [
    {
     "name": "stdout",
     "output_type": "stream",
     "text": [
      "Teams list:\n",
      "['Boston Bruins' 'Buffalo Sabres' 'Calgary Flames' 'Chicago Blackhawks'\n",
      " 'Detroit Red Wings' 'Edmonton Oilers' 'Hartford Whalers'\n",
      " 'Los Angeles Kings' 'Minnesota North Stars' 'Montreal Canadiens'\n",
      " 'New Jersey Devils' 'New York Islanders' 'New York Rangers'\n",
      " 'Philadelphia Flyers' 'Pittsburgh Penguins' 'Quebec Nordiques'\n",
      " 'St. Louis Blues' 'Toronto Maple Leafs' 'Vancouver Canucks'\n",
      " 'Washington Capitals' 'Winnipeg Jets' 'San Jose Sharks' 'Ottawa Senators'\n",
      " 'Tampa Bay Lightning' 'Mighty Ducks of Anaheim' 'Dallas Stars'\n",
      " 'Florida Panthers' 'Colorado Avalanche' 'Phoenix Coyotes'\n",
      " 'Carolina Hurricanes' 'Nashville Predators' 'Atlanta Thrashers'\n",
      " 'Columbus Blue Jackets' 'Minnesota Wild' 'Anaheim Ducks']\n",
      "Number of teams: 35\n"
     ]
    }
   ],
   "source": [
    "unique_values_teams = df['team'].unique()\n",
    "unique_count_teams = df['team'].nunique()\n",
    "print(f\"Teams list:\\n{unique_values_teams}\")\n",
    "print(f\"Number of teams: {unique_count_teams}\")"
   ]
  },
  {
   "cell_type": "markdown",
   "metadata": {
    "id": "nJvHLVcvNqTc"
   },
   "source": [
    "### Total number of seasons"
   ]
  },
  {
   "cell_type": "code",
   "execution_count": 123,
   "metadata": {
    "id": "UYKn01RyNqTc"
   },
   "outputs": [
    {
     "name": "stdout",
     "output_type": "stream",
     "text": [
      "Seasons list:\n",
      "[1990, 1991, 1992, 1993, 1994, 1995, 1996, 1997, 1998, 1999, 2000, 2001, 2002, 2003, 2005, 2006, 2007, 2008, 2009, 2010, 2011]\n",
      "Number of seasons: 21\n"
     ]
    }
   ],
   "source": [
    "unique_values_season = sorted(df['season'].unique())\n",
    "unique_count_season = df['season'].nunique()\n",
    "print(f\"Seasons list:\\n{unique_values_season}\")\n",
    "print(f\"Number of seasons: {unique_count_season}\")"
   ]
  },
  {
   "cell_type": "markdown",
   "metadata": {
    "id": "qTmIm-MBNqTc"
   },
   "source": [
    "### Time Span of Data"
   ]
  },
  {
   "cell_type": "markdown",
   "metadata": {
    "id": "1rLb34AKNqTd"
   },
   "source": [
    "At this point, we will determine the start year and end year of the data:"
   ]
  },
  {
   "cell_type": "code",
   "execution_count": 124,
   "metadata": {
    "id": "GJPfcmuGNqTd"
   },
   "outputs": [],
   "source": [
    "df['season'] = pd.to_datetime(df['season'], format='%Y').dt.year"
   ]
  },
  {
   "cell_type": "code",
   "execution_count": 125,
   "metadata": {},
   "outputs": [
    {
     "name": "stdout",
     "output_type": "stream",
     "text": [
      "Start year: 1990\n",
      "End year: 2011\n"
     ]
    }
   ],
   "source": [
    "start_year = df['season'].min()\n",
    "end_year = df['season'].max()\n",
    "print(f\"Start year: {start_year}\")\n",
    "print(f\"End year: {end_year}\")"
   ]
  },
  {
   "cell_type": "code",
   "execution_count": 126,
   "metadata": {},
   "outputs": [
    {
     "data": {
      "text/plain": [
       "True"
      ]
     },
     "execution_count": 126,
     "metadata": {},
     "output_type": "execute_result"
    }
   ],
   "source": [
    "len(df['season'].unique()) == end_year - start_year"
   ]
  },
  {
   "cell_type": "code",
   "execution_count": 127,
   "metadata": {},
   "outputs": [
    {
     "name": "stdout",
     "output_type": "stream",
     "text": [
      "This season we don't have: 2004\n"
     ]
    }
   ],
   "source": [
    "for season in range(start_year, end_year + 1):\n",
    "    if season not in df['season'].values:\n",
    "        print(f\"This season we don't have: {season}\")"
   ]
  },
  {
   "cell_type": "markdown",
   "metadata": {
    "id": "Lf8ZZZxZNqTd"
   },
   "source": [
    "### Analysis of Numerical Columns"
   ]
  },
  {
   "cell_type": "code",
   "execution_count": 128,
   "metadata": {
    "id": "gE0DkfjONqTd"
   },
   "outputs": [
    {
     "name": "stdout",
     "output_type": "stream",
     "text": [
      "Basic statistics of victories\n",
      "count    582.000000\n",
      "mean      36.943299\n",
      "std        8.926081\n",
      "min        9.000000\n",
      "0%         9.000000\n",
      "5%        21.050000\n",
      "10%       24.100000\n",
      "25%       31.000000\n",
      "50%       38.000000\n",
      "75%       43.000000\n",
      "90%       48.000000\n",
      "95%       50.000000\n",
      "100%      62.000000\n",
      "max       62.000000\n",
      "Name: victories, dtype: float64\n",
      "\n",
      "Basic statistics of defeats\n",
      "count    582.000000\n",
      "mean      32.353952\n",
      "std        8.411439\n",
      "min       11.000000\n",
      "0%        11.000000\n",
      "5%        20.000000\n",
      "10%       23.000000\n",
      "25%       27.000000\n",
      "50%       31.000000\n",
      "75%       37.000000\n",
      "90%       43.000000\n",
      "95%       47.000000\n",
      "100%      71.000000\n",
      "max       71.000000\n",
      "Name: defeats, dtype: float64\n",
      "\n",
      "Basic statistics of overtime_defeats\n",
      "count    582.000000\n",
      "mean       4.589347\n",
      "std        4.605402\n",
      "min        0.000000\n",
      "0%         0.000000\n",
      "5%         0.000000\n",
      "10%        0.000000\n",
      "25%        0.000000\n",
      "50%        4.000000\n",
      "75%        8.000000\n",
      "90%       11.000000\n",
      "95%       13.000000\n",
      "100%      18.000000\n",
      "max       18.000000\n",
      "Name: overtime_defeats, dtype: float64\n",
      "\n",
      "Basic statistics of victory_percentage\n",
      "count    582.000000\n",
      "mean       0.458519\n",
      "std        0.102237\n",
      "min        0.119000\n",
      "0%         0.119000\n",
      "5%         0.280300\n",
      "10%        0.321000\n",
      "25%        0.390000\n",
      "50%        0.463000\n",
      "75%        0.534000\n",
      "90%        0.585000\n",
      "95%        0.621850\n",
      "100%       0.756000\n",
      "max        0.756000\n",
      "Name: victory_percentage, dtype: float64\n",
      "\n",
      "Basic statistics of scored_goals\n",
      "count    582.000000\n",
      "mean     234.063574\n",
      "std       40.548915\n",
      "min      115.000000\n",
      "0%       115.000000\n",
      "5%       175.050000\n",
      "10%      190.100000\n",
      "25%      211.000000\n",
      "50%      231.000000\n",
      "75%      254.000000\n",
      "90%      282.900000\n",
      "95%      305.950000\n",
      "100%     369.000000\n",
      "max      369.000000\n",
      "Name: scored_goals, dtype: float64\n",
      "\n",
      "Basic statistics of received_goals\n",
      "count    582.000000\n",
      "mean     234.063574\n",
      "std       42.510718\n",
      "min      115.000000\n",
      "0%       115.000000\n",
      "5%       168.050000\n",
      "10%      187.000000\n",
      "25%      207.000000\n",
      "50%      232.500000\n",
      "75%      258.750000\n",
      "90%      286.000000\n",
      "95%      303.000000\n",
      "100%     414.000000\n",
      "max      414.000000\n",
      "Name: received_goals, dtype: float64\n",
      "\n",
      "Basic statistics of goal_difference\n",
      "count    582.000000\n",
      "mean       0.000000\n",
      "std       45.277458\n",
      "min     -196.000000\n",
      "0%      -196.000000\n",
      "5%       -72.000000\n",
      "10%      -57.000000\n",
      "25%      -27.000000\n",
      "50%        4.000000\n",
      "75%       31.000000\n",
      "90%       54.000000\n",
      "95%       68.000000\n",
      "100%     144.000000\n",
      "max      144.000000\n",
      "Name: goal_difference, dtype: float64\n",
      "\n"
     ]
    }
   ],
   "source": [
    "victories = df['victories'].describe([0, 0.05, 0.1, 0.25, 0.5, 0.75, 0.9, 0.95, 1])\n",
    "defeats = df['defeats'].describe([0, 0.05, 0.1, 0.25, 0.5, 0.75, 0.9, 0.95, 1])\n",
    "overtime_defeats = df['overtime_defeats'].describe([0, 0.05, 0.1, 0.25, 0.5, 0.75, 0.9, 0.95, 1])\n",
    "victory_percentage = df['victory_percentage'].describe([0, 0.05, 0.1, 0.25, 0.5, 0.75, 0.9, 0.95, 1])\n",
    "scored_goals = df['scored_goals'].describe([0, 0.05, 0.1, 0.25, 0.5, 0.75, 0.9, 0.95, 1])\n",
    "received_goals = df['received_goals'].describe([0, 0.05, 0.1, 0.25, 0.5, 0.75, 0.9, 0.95, 1])\n",
    "goal_difference = df['goal_difference'].describe([0, 0.05, 0.1, 0.25, 0.5, 0.75, 0.9, 0.95, 1])\n",
    "print(f\"Basic statistics of victories\\n{victories}\\n\")\n",
    "print(f\"Basic statistics of defeats\\n{defeats}\\n\")\n",
    "print(f\"Basic statistics of overtime_defeats\\n{overtime_defeats}\\n\")\n",
    "print(f\"Basic statistics of victory_percentage\\n{victory_percentage}\\n\")\n",
    "print(f\"Basic statistics of scored_goals\\n{scored_goals}\\n\")\n",
    "print(f\"Basic statistics of received_goals\\n{received_goals}\\n\")\n",
    "print(f\"Basic statistics of goal_difference\\n{goal_difference}\\n\")"
   ]
  },
  {
   "cell_type": "code",
   "execution_count": 129,
   "metadata": {},
   "outputs": [
    {
     "data": {
      "text/html": [
       "<div>\n",
       "<style scoped>\n",
       "    .dataframe tbody tr th:only-of-type {\n",
       "        vertical-align: middle;\n",
       "    }\n",
       "\n",
       "    .dataframe tbody tr th {\n",
       "        vertical-align: top;\n",
       "    }\n",
       "\n",
       "    .dataframe thead th {\n",
       "        text-align: right;\n",
       "    }\n",
       "</style>\n",
       "<table border=\"1\" class=\"dataframe\">\n",
       "  <thead>\n",
       "    <tr style=\"text-align: right;\">\n",
       "      <th></th>\n",
       "      <th>victories</th>\n",
       "      <th>defeats</th>\n",
       "      <th>overtime_defeats</th>\n",
       "      <th>victory_percentage</th>\n",
       "      <th>scored_goals</th>\n",
       "      <th>received_goals</th>\n",
       "      <th>goal_difference</th>\n",
       "    </tr>\n",
       "  </thead>\n",
       "  <tbody>\n",
       "    <tr>\n",
       "      <th>mean</th>\n",
       "      <td>36.943299</td>\n",
       "      <td>32.353952</td>\n",
       "      <td>4.589347</td>\n",
       "      <td>0.458519</td>\n",
       "      <td>234.063574</td>\n",
       "      <td>234.063574</td>\n",
       "      <td>0.000000</td>\n",
       "    </tr>\n",
       "    <tr>\n",
       "      <th>count</th>\n",
       "      <td>582.000000</td>\n",
       "      <td>582.000000</td>\n",
       "      <td>582.000000</td>\n",
       "      <td>582.000000</td>\n",
       "      <td>582.000000</td>\n",
       "      <td>582.000000</td>\n",
       "      <td>582.000000</td>\n",
       "    </tr>\n",
       "    <tr>\n",
       "      <th>std</th>\n",
       "      <td>8.926081</td>\n",
       "      <td>8.411439</td>\n",
       "      <td>4.605402</td>\n",
       "      <td>0.102237</td>\n",
       "      <td>40.548915</td>\n",
       "      <td>42.510718</td>\n",
       "      <td>45.277458</td>\n",
       "    </tr>\n",
       "  </tbody>\n",
       "</table>\n",
       "</div>"
      ],
      "text/plain": [
       "        victories     defeats  overtime_defeats  victory_percentage  \\\n",
       "mean    36.943299   32.353952          4.589347            0.458519   \n",
       "count  582.000000  582.000000        582.000000          582.000000   \n",
       "std      8.926081    8.411439          4.605402            0.102237   \n",
       "\n",
       "       scored_goals  received_goals  goal_difference  \n",
       "mean     234.063574      234.063574         0.000000  \n",
       "count    582.000000      582.000000       582.000000  \n",
       "std       40.548915       42.510718        45.277458  "
      ]
     },
     "execution_count": 129,
     "metadata": {},
     "output_type": "execute_result"
    }
   ],
   "source": [
    "df['victory_percentage'] = df['victory_percentage'].replace('', np.nan).astype(float)\n",
    "df['scored_goals'] = df['scored_goals'].replace('', np.nan).astype(float)\n",
    "df['received_goals'] = df['received_goals'].replace('', np.nan).astype(float)\n",
    "df['goal_difference'] = df['goal_difference'].replace('', np.nan).astype(float)\n",
    "\n",
    "columns = [\"victories\", \"defeats\", \"overtime_defeats\", \"victory_percentage\", \"scored_goals\", \"received_goals\", \"goal_difference\"]\n",
    "pivot_table = df[columns].agg([\"mean\", \"count\", \"std\"])\n",
    "pivot_table"
   ]
  },
  {
   "cell_type": "markdown",
   "metadata": {
    "id": "CCrClYdKNqTd"
   },
   "source": [
    "# `team`"
   ]
  },
  {
   "cell_type": "code",
   "execution_count": 130,
   "metadata": {
    "id": "iearCh4hNqTe"
   },
   "outputs": [],
   "source": [
    "grouped_teams = df.groupby('team')"
   ]
  },
  {
   "cell_type": "code",
   "execution_count": 131,
   "metadata": {},
   "outputs": [],
   "source": [
    "unique_seasons = grouped_teams['season'].unique()"
   ]
  },
  {
   "cell_type": "code",
   "execution_count": 132,
   "metadata": {
    "id": "Mv9ZFNdONqTe"
   },
   "outputs": [],
   "source": [
    "number_of_seasons_team = grouped_teams['season'].count()"
   ]
  },
  {
   "cell_type": "code",
   "execution_count": 133,
   "metadata": {},
   "outputs": [
    {
     "name": "stdout",
     "output_type": "stream",
     "text": [
      "These teams participated in all seasons:\n",
      "Boston Bruins\n",
      "Buffalo Sabres\n",
      "Calgary Flames\n",
      "Chicago Blackhawks\n",
      "Detroit Red Wings\n",
      "Edmonton Oilers\n",
      "Los Angeles Kings\n",
      "Montreal Canadiens\n",
      "New Jersey Devils\n",
      "New York Islanders\n",
      "New York Rangers\n",
      "Philadelphia Flyers\n",
      "Pittsburgh Penguins\n",
      "St. Louis Blues\n",
      "Toronto Maple Leafs\n",
      "Vancouver Canucks\n",
      "Washington Capitals\n"
     ]
    }
   ],
   "source": [
    "list_teams_all_seasons = []\n",
    "for key, value in number_of_seasons_team.items():\n",
    "    if value == 21:\n",
    "        list_teams_all_seasons.append(key)\n",
    "print('These teams participated in all seasons:')\n",
    "for team in list_teams_all_seasons:\n",
    "    print(team)"
   ]
  },
  {
   "cell_type": "code",
   "execution_count": 134,
   "metadata": {},
   "outputs": [
    {
     "name": "stdout",
     "output_type": "stream",
     "text": [
      "team\n",
      "St. Louis Blues        21\n",
      "Edmonton Oilers        21\n",
      "Philadelphia Flyers    21\n",
      "New York Rangers       21\n",
      "New York Islanders     21\n",
      "New Jersey Devils      21\n",
      "Montreal Canadiens     21\n",
      "Toronto Maple Leafs    21\n",
      "Vancouver Canucks      21\n",
      "Los Angeles Kings      21\n",
      "Pittsburgh Penguins    21\n",
      "Washington Capitals    21\n",
      "Detroit Red Wings      21\n",
      "Chicago Blackhawks     21\n",
      "Calgary Flames         21\n",
      "Buffalo Sabres         21\n",
      "Boston Bruins          21\n",
      "dtype: int64\n",
      "17\n"
     ]
    }
   ],
   "source": [
    "teams_in_all_seasons = team_in_seasons[team_in_seasons == total_sesons]\n",
    "teams_amount_in_all_seasons = len(teams_in_all_seasons)\n",
    "print(teams_in_all_seasons)\n",
    "print(teams_amount_in_all_seasons)"
   ]
  },
  {
   "cell_type": "code",
   "execution_count": 135,
   "metadata": {
    "id": "OT-eXQc-NqTe"
   },
   "outputs": [
    {
     "name": "stdout",
     "output_type": "stream",
     "text": [
      "The number of teams that have played in all seasons: 17\n"
     ]
    }
   ],
   "source": [
    "print(f\"The number of teams that have played in all seasons: {len(list_teams_all_seasons)}\")"
   ]
  },
  {
   "cell_type": "markdown",
   "metadata": {
    "id": "htxkTN4oNqTe"
   },
   "source": [
    "## Best Performing Teams in League History"
   ]
  },
  {
   "cell_type": "code",
   "execution_count": 179,
   "metadata": {},
   "outputs": [
    {
     "data": {
      "text/html": [
       "<div>\n",
       "<style scoped>\n",
       "    .dataframe tbody tr th:only-of-type {\n",
       "        vertical-align: middle;\n",
       "    }\n",
       "\n",
       "    .dataframe tbody tr th {\n",
       "        vertical-align: top;\n",
       "    }\n",
       "\n",
       "    .dataframe thead th {\n",
       "        text-align: right;\n",
       "    }\n",
       "</style>\n",
       "<table border=\"1\" class=\"dataframe\">\n",
       "  <thead>\n",
       "    <tr style=\"text-align: right;\">\n",
       "      <th></th>\n",
       "      <th>team</th>\n",
       "      <th>season</th>\n",
       "      <th>victories</th>\n",
       "      <th>defeats</th>\n",
       "      <th>overtime_defeats</th>\n",
       "      <th>victory_percentage</th>\n",
       "      <th>scored_goals</th>\n",
       "      <th>received_goals</th>\n",
       "      <th>goal_difference</th>\n",
       "      <th>goals_ratio</th>\n",
       "    </tr>\n",
       "  </thead>\n",
       "  <tbody>\n",
       "    <tr>\n",
       "      <th>126</th>\n",
       "      <td>Detroit Red Wings</td>\n",
       "      <td>1995</td>\n",
       "      <td>62</td>\n",
       "      <td>13</td>\n",
       "      <td>0</td>\n",
       "      <td>0.756</td>\n",
       "      <td>325.0</td>\n",
       "      <td>181.0</td>\n",
       "      <td>144.0</td>\n",
       "      <td>1.795580</td>\n",
       "    </tr>\n",
       "    <tr>\n",
       "      <th>382</th>\n",
       "      <td>Detroit Red Wings</td>\n",
       "      <td>2005</td>\n",
       "      <td>58</td>\n",
       "      <td>16</td>\n",
       "      <td>8</td>\n",
       "      <td>0.707</td>\n",
       "      <td>305.0</td>\n",
       "      <td>209.0</td>\n",
       "      <td>96.0</td>\n",
       "      <td>1.459330</td>\n",
       "    </tr>\n",
       "    <tr>\n",
       "      <th>99</th>\n",
       "      <td>Detroit Red Wings</td>\n",
       "      <td>1994</td>\n",
       "      <td>33</td>\n",
       "      <td>11</td>\n",
       "      <td>0</td>\n",
       "      <td>0.688</td>\n",
       "      <td>180.0</td>\n",
       "      <td>117.0</td>\n",
       "      <td>63.0</td>\n",
       "      <td>1.538462</td>\n",
       "    </tr>\n",
       "    <tr>\n",
       "      <th>58</th>\n",
       "      <td>Pittsburgh Penguins</td>\n",
       "      <td>1992</td>\n",
       "      <td>56</td>\n",
       "      <td>21</td>\n",
       "      <td>0</td>\n",
       "      <td>0.667</td>\n",
       "      <td>367.0</td>\n",
       "      <td>268.0</td>\n",
       "      <td>99.0</td>\n",
       "      <td>1.369403</td>\n",
       "    </tr>\n",
       "    <tr>\n",
       "      <th>521</th>\n",
       "      <td>Washington Capitals</td>\n",
       "      <td>2009</td>\n",
       "      <td>54</td>\n",
       "      <td>15</td>\n",
       "      <td>13</td>\n",
       "      <td>0.659</td>\n",
       "      <td>318.0</td>\n",
       "      <td>233.0</td>\n",
       "      <td>85.0</td>\n",
       "      <td>1.364807</td>\n",
       "    </tr>\n",
       "  </tbody>\n",
       "</table>\n",
       "</div>"
      ],
      "text/plain": [
       "                    team  season  victories  defeats  overtime_defeats  \\\n",
       "126    Detroit Red Wings    1995         62       13                 0   \n",
       "382    Detroit Red Wings    2005         58       16                 8   \n",
       "99     Detroit Red Wings    1994         33       11                 0   \n",
       "58   Pittsburgh Penguins    1992         56       21                 0   \n",
       "521  Washington Capitals    2009         54       15                13   \n",
       "\n",
       "     victory_percentage  scored_goals  received_goals  goal_difference  \\\n",
       "126               0.756         325.0           181.0            144.0   \n",
       "382               0.707         305.0           209.0             96.0   \n",
       "99                0.688         180.0           117.0             63.0   \n",
       "58                0.667         367.0           268.0             99.0   \n",
       "521               0.659         318.0           233.0             85.0   \n",
       "\n",
       "     goals_ratio  \n",
       "126     1.795580  \n",
       "382     1.459330  \n",
       "99      1.538462  \n",
       "58      1.369403  \n",
       "521     1.364807  "
      ]
     },
     "execution_count": 179,
     "metadata": {},
     "output_type": "execute_result"
    }
   ],
   "source": [
    "df.sort_values(by=\"victory_percentage\", ascending=False).head(5)"
   ]
  },
  {
   "cell_type": "markdown",
   "metadata": {
    "id": "E4y70ShxNqTo"
   },
   "source": [
    "## Top Teams in History"
   ]
  },
  {
   "cell_type": "code",
   "execution_count": 143,
   "metadata": {},
   "outputs": [],
   "source": [
    "pivot_table_victories = pd.pivot_table(\n",
    "    data=df,\n",
    "    index='team',\n",
    "    columns='season',\n",
    "    values='victories',\n",
    "    aggfunc='max',\n",
    ")"
   ]
  },
  {
   "cell_type": "code",
   "execution_count": 144,
   "metadata": {},
   "outputs": [
    {
     "data": {
      "text/html": [
       "<div>\n",
       "<style scoped>\n",
       "    .dataframe tbody tr th:only-of-type {\n",
       "        vertical-align: middle;\n",
       "    }\n",
       "\n",
       "    .dataframe tbody tr th {\n",
       "        vertical-align: top;\n",
       "    }\n",
       "\n",
       "    .dataframe thead th {\n",
       "        text-align: right;\n",
       "    }\n",
       "</style>\n",
       "<table border=\"1\" class=\"dataframe\">\n",
       "  <thead>\n",
       "    <tr style=\"text-align: right;\">\n",
       "      <th>season</th>\n",
       "      <th>1990</th>\n",
       "      <th>1991</th>\n",
       "      <th>1992</th>\n",
       "      <th>1993</th>\n",
       "      <th>1994</th>\n",
       "      <th>1995</th>\n",
       "      <th>1996</th>\n",
       "      <th>1997</th>\n",
       "      <th>1998</th>\n",
       "      <th>1999</th>\n",
       "      <th>...</th>\n",
       "      <th>2001</th>\n",
       "      <th>2002</th>\n",
       "      <th>2003</th>\n",
       "      <th>2005</th>\n",
       "      <th>2006</th>\n",
       "      <th>2007</th>\n",
       "      <th>2008</th>\n",
       "      <th>2009</th>\n",
       "      <th>2010</th>\n",
       "      <th>2011</th>\n",
       "    </tr>\n",
       "    <tr>\n",
       "      <th>team</th>\n",
       "      <th></th>\n",
       "      <th></th>\n",
       "      <th></th>\n",
       "      <th></th>\n",
       "      <th></th>\n",
       "      <th></th>\n",
       "      <th></th>\n",
       "      <th></th>\n",
       "      <th></th>\n",
       "      <th></th>\n",
       "      <th></th>\n",
       "      <th></th>\n",
       "      <th></th>\n",
       "      <th></th>\n",
       "      <th></th>\n",
       "      <th></th>\n",
       "      <th></th>\n",
       "      <th></th>\n",
       "      <th></th>\n",
       "      <th></th>\n",
       "      <th></th>\n",
       "    </tr>\n",
       "  </thead>\n",
       "  <tbody>\n",
       "    <tr>\n",
       "      <th>Anaheim Ducks</th>\n",
       "      <td>NaN</td>\n",
       "      <td>NaN</td>\n",
       "      <td>NaN</td>\n",
       "      <td>NaN</td>\n",
       "      <td>NaN</td>\n",
       "      <td>NaN</td>\n",
       "      <td>NaN</td>\n",
       "      <td>NaN</td>\n",
       "      <td>NaN</td>\n",
       "      <td>NaN</td>\n",
       "      <td>...</td>\n",
       "      <td>NaN</td>\n",
       "      <td>NaN</td>\n",
       "      <td>NaN</td>\n",
       "      <td>NaN</td>\n",
       "      <td>48.0</td>\n",
       "      <td>47.0</td>\n",
       "      <td>42.0</td>\n",
       "      <td>39.0</td>\n",
       "      <td>47.0</td>\n",
       "      <td>34.0</td>\n",
       "    </tr>\n",
       "    <tr>\n",
       "      <th>Atlanta Thrashers</th>\n",
       "      <td>NaN</td>\n",
       "      <td>NaN</td>\n",
       "      <td>NaN</td>\n",
       "      <td>NaN</td>\n",
       "      <td>NaN</td>\n",
       "      <td>NaN</td>\n",
       "      <td>NaN</td>\n",
       "      <td>NaN</td>\n",
       "      <td>NaN</td>\n",
       "      <td>14.0</td>\n",
       "      <td>...</td>\n",
       "      <td>19.0</td>\n",
       "      <td>31.0</td>\n",
       "      <td>33.0</td>\n",
       "      <td>41.0</td>\n",
       "      <td>43.0</td>\n",
       "      <td>34.0</td>\n",
       "      <td>35.0</td>\n",
       "      <td>35.0</td>\n",
       "      <td>34.0</td>\n",
       "      <td>NaN</td>\n",
       "    </tr>\n",
       "    <tr>\n",
       "      <th>Boston Bruins</th>\n",
       "      <td>44.0</td>\n",
       "      <td>36.0</td>\n",
       "      <td>51.0</td>\n",
       "      <td>42.0</td>\n",
       "      <td>27.0</td>\n",
       "      <td>40.0</td>\n",
       "      <td>26.0</td>\n",
       "      <td>39.0</td>\n",
       "      <td>39.0</td>\n",
       "      <td>24.0</td>\n",
       "      <td>...</td>\n",
       "      <td>43.0</td>\n",
       "      <td>36.0</td>\n",
       "      <td>41.0</td>\n",
       "      <td>29.0</td>\n",
       "      <td>35.0</td>\n",
       "      <td>41.0</td>\n",
       "      <td>53.0</td>\n",
       "      <td>39.0</td>\n",
       "      <td>46.0</td>\n",
       "      <td>49.0</td>\n",
       "    </tr>\n",
       "    <tr>\n",
       "      <th>Buffalo Sabres</th>\n",
       "      <td>31.0</td>\n",
       "      <td>31.0</td>\n",
       "      <td>38.0</td>\n",
       "      <td>43.0</td>\n",
       "      <td>22.0</td>\n",
       "      <td>33.0</td>\n",
       "      <td>40.0</td>\n",
       "      <td>36.0</td>\n",
       "      <td>37.0</td>\n",
       "      <td>35.0</td>\n",
       "      <td>...</td>\n",
       "      <td>35.0</td>\n",
       "      <td>27.0</td>\n",
       "      <td>37.0</td>\n",
       "      <td>52.0</td>\n",
       "      <td>53.0</td>\n",
       "      <td>39.0</td>\n",
       "      <td>41.0</td>\n",
       "      <td>45.0</td>\n",
       "      <td>43.0</td>\n",
       "      <td>39.0</td>\n",
       "    </tr>\n",
       "    <tr>\n",
       "      <th>Calgary Flames</th>\n",
       "      <td>46.0</td>\n",
       "      <td>31.0</td>\n",
       "      <td>43.0</td>\n",
       "      <td>42.0</td>\n",
       "      <td>24.0</td>\n",
       "      <td>34.0</td>\n",
       "      <td>32.0</td>\n",
       "      <td>26.0</td>\n",
       "      <td>30.0</td>\n",
       "      <td>31.0</td>\n",
       "      <td>...</td>\n",
       "      <td>32.0</td>\n",
       "      <td>29.0</td>\n",
       "      <td>42.0</td>\n",
       "      <td>46.0</td>\n",
       "      <td>43.0</td>\n",
       "      <td>42.0</td>\n",
       "      <td>46.0</td>\n",
       "      <td>40.0</td>\n",
       "      <td>41.0</td>\n",
       "      <td>37.0</td>\n",
       "    </tr>\n",
       "    <tr>\n",
       "      <th>Carolina Hurricanes</th>\n",
       "      <td>NaN</td>\n",
       "      <td>NaN</td>\n",
       "      <td>NaN</td>\n",
       "      <td>NaN</td>\n",
       "      <td>NaN</td>\n",
       "      <td>NaN</td>\n",
       "      <td>NaN</td>\n",
       "      <td>33.0</td>\n",
       "      <td>34.0</td>\n",
       "      <td>37.0</td>\n",
       "      <td>...</td>\n",
       "      <td>35.0</td>\n",
       "      <td>22.0</td>\n",
       "      <td>28.0</td>\n",
       "      <td>52.0</td>\n",
       "      <td>40.0</td>\n",
       "      <td>43.0</td>\n",
       "      <td>45.0</td>\n",
       "      <td>35.0</td>\n",
       "      <td>40.0</td>\n",
       "      <td>33.0</td>\n",
       "    </tr>\n",
       "    <tr>\n",
       "      <th>Chicago Blackhawks</th>\n",
       "      <td>49.0</td>\n",
       "      <td>36.0</td>\n",
       "      <td>47.0</td>\n",
       "      <td>39.0</td>\n",
       "      <td>24.0</td>\n",
       "      <td>40.0</td>\n",
       "      <td>34.0</td>\n",
       "      <td>30.0</td>\n",
       "      <td>29.0</td>\n",
       "      <td>33.0</td>\n",
       "      <td>...</td>\n",
       "      <td>41.0</td>\n",
       "      <td>30.0</td>\n",
       "      <td>20.0</td>\n",
       "      <td>26.0</td>\n",
       "      <td>31.0</td>\n",
       "      <td>40.0</td>\n",
       "      <td>46.0</td>\n",
       "      <td>52.0</td>\n",
       "      <td>44.0</td>\n",
       "      <td>45.0</td>\n",
       "    </tr>\n",
       "    <tr>\n",
       "      <th>Colorado Avalanche</th>\n",
       "      <td>NaN</td>\n",
       "      <td>NaN</td>\n",
       "      <td>NaN</td>\n",
       "      <td>NaN</td>\n",
       "      <td>NaN</td>\n",
       "      <td>47.0</td>\n",
       "      <td>49.0</td>\n",
       "      <td>39.0</td>\n",
       "      <td>44.0</td>\n",
       "      <td>42.0</td>\n",
       "      <td>...</td>\n",
       "      <td>45.0</td>\n",
       "      <td>42.0</td>\n",
       "      <td>40.0</td>\n",
       "      <td>43.0</td>\n",
       "      <td>44.0</td>\n",
       "      <td>44.0</td>\n",
       "      <td>32.0</td>\n",
       "      <td>43.0</td>\n",
       "      <td>30.0</td>\n",
       "      <td>41.0</td>\n",
       "    </tr>\n",
       "    <tr>\n",
       "      <th>Columbus Blue Jackets</th>\n",
       "      <td>NaN</td>\n",
       "      <td>NaN</td>\n",
       "      <td>NaN</td>\n",
       "      <td>NaN</td>\n",
       "      <td>NaN</td>\n",
       "      <td>NaN</td>\n",
       "      <td>NaN</td>\n",
       "      <td>NaN</td>\n",
       "      <td>NaN</td>\n",
       "      <td>NaN</td>\n",
       "      <td>...</td>\n",
       "      <td>22.0</td>\n",
       "      <td>29.0</td>\n",
       "      <td>25.0</td>\n",
       "      <td>35.0</td>\n",
       "      <td>33.0</td>\n",
       "      <td>34.0</td>\n",
       "      <td>41.0</td>\n",
       "      <td>32.0</td>\n",
       "      <td>34.0</td>\n",
       "      <td>29.0</td>\n",
       "    </tr>\n",
       "    <tr>\n",
       "      <th>Dallas Stars</th>\n",
       "      <td>NaN</td>\n",
       "      <td>NaN</td>\n",
       "      <td>NaN</td>\n",
       "      <td>42.0</td>\n",
       "      <td>17.0</td>\n",
       "      <td>26.0</td>\n",
       "      <td>48.0</td>\n",
       "      <td>49.0</td>\n",
       "      <td>51.0</td>\n",
       "      <td>43.0</td>\n",
       "      <td>...</td>\n",
       "      <td>36.0</td>\n",
       "      <td>46.0</td>\n",
       "      <td>41.0</td>\n",
       "      <td>53.0</td>\n",
       "      <td>50.0</td>\n",
       "      <td>45.0</td>\n",
       "      <td>36.0</td>\n",
       "      <td>37.0</td>\n",
       "      <td>42.0</td>\n",
       "      <td>42.0</td>\n",
       "    </tr>\n",
       "    <tr>\n",
       "      <th>Detroit Red Wings</th>\n",
       "      <td>34.0</td>\n",
       "      <td>43.0</td>\n",
       "      <td>47.0</td>\n",
       "      <td>46.0</td>\n",
       "      <td>33.0</td>\n",
       "      <td>62.0</td>\n",
       "      <td>38.0</td>\n",
       "      <td>44.0</td>\n",
       "      <td>43.0</td>\n",
       "      <td>48.0</td>\n",
       "      <td>...</td>\n",
       "      <td>51.0</td>\n",
       "      <td>48.0</td>\n",
       "      <td>48.0</td>\n",
       "      <td>58.0</td>\n",
       "      <td>50.0</td>\n",
       "      <td>54.0</td>\n",
       "      <td>51.0</td>\n",
       "      <td>44.0</td>\n",
       "      <td>47.0</td>\n",
       "      <td>48.0</td>\n",
       "    </tr>\n",
       "    <tr>\n",
       "      <th>Edmonton Oilers</th>\n",
       "      <td>37.0</td>\n",
       "      <td>36.0</td>\n",
       "      <td>26.0</td>\n",
       "      <td>25.0</td>\n",
       "      <td>17.0</td>\n",
       "      <td>30.0</td>\n",
       "      <td>36.0</td>\n",
       "      <td>35.0</td>\n",
       "      <td>33.0</td>\n",
       "      <td>32.0</td>\n",
       "      <td>...</td>\n",
       "      <td>38.0</td>\n",
       "      <td>36.0</td>\n",
       "      <td>36.0</td>\n",
       "      <td>41.0</td>\n",
       "      <td>32.0</td>\n",
       "      <td>41.0</td>\n",
       "      <td>38.0</td>\n",
       "      <td>27.0</td>\n",
       "      <td>25.0</td>\n",
       "      <td>32.0</td>\n",
       "    </tr>\n",
       "    <tr>\n",
       "      <th>Florida Panthers</th>\n",
       "      <td>NaN</td>\n",
       "      <td>NaN</td>\n",
       "      <td>NaN</td>\n",
       "      <td>33.0</td>\n",
       "      <td>20.0</td>\n",
       "      <td>41.0</td>\n",
       "      <td>35.0</td>\n",
       "      <td>24.0</td>\n",
       "      <td>30.0</td>\n",
       "      <td>43.0</td>\n",
       "      <td>...</td>\n",
       "      <td>22.0</td>\n",
       "      <td>24.0</td>\n",
       "      <td>28.0</td>\n",
       "      <td>37.0</td>\n",
       "      <td>35.0</td>\n",
       "      <td>38.0</td>\n",
       "      <td>41.0</td>\n",
       "      <td>32.0</td>\n",
       "      <td>30.0</td>\n",
       "      <td>38.0</td>\n",
       "    </tr>\n",
       "    <tr>\n",
       "      <th>Hartford Whalers</th>\n",
       "      <td>31.0</td>\n",
       "      <td>26.0</td>\n",
       "      <td>26.0</td>\n",
       "      <td>27.0</td>\n",
       "      <td>19.0</td>\n",
       "      <td>34.0</td>\n",
       "      <td>32.0</td>\n",
       "      <td>NaN</td>\n",
       "      <td>NaN</td>\n",
       "      <td>NaN</td>\n",
       "      <td>...</td>\n",
       "      <td>NaN</td>\n",
       "      <td>NaN</td>\n",
       "      <td>NaN</td>\n",
       "      <td>NaN</td>\n",
       "      <td>NaN</td>\n",
       "      <td>NaN</td>\n",
       "      <td>NaN</td>\n",
       "      <td>NaN</td>\n",
       "      <td>NaN</td>\n",
       "      <td>NaN</td>\n",
       "    </tr>\n",
       "    <tr>\n",
       "      <th>Los Angeles Kings</th>\n",
       "      <td>46.0</td>\n",
       "      <td>35.0</td>\n",
       "      <td>39.0</td>\n",
       "      <td>27.0</td>\n",
       "      <td>16.0</td>\n",
       "      <td>24.0</td>\n",
       "      <td>28.0</td>\n",
       "      <td>38.0</td>\n",
       "      <td>32.0</td>\n",
       "      <td>39.0</td>\n",
       "      <td>...</td>\n",
       "      <td>40.0</td>\n",
       "      <td>33.0</td>\n",
       "      <td>28.0</td>\n",
       "      <td>42.0</td>\n",
       "      <td>27.0</td>\n",
       "      <td>32.0</td>\n",
       "      <td>34.0</td>\n",
       "      <td>46.0</td>\n",
       "      <td>46.0</td>\n",
       "      <td>40.0</td>\n",
       "    </tr>\n",
       "    <tr>\n",
       "      <th>Mighty Ducks of Anaheim</th>\n",
       "      <td>NaN</td>\n",
       "      <td>NaN</td>\n",
       "      <td>NaN</td>\n",
       "      <td>33.0</td>\n",
       "      <td>16.0</td>\n",
       "      <td>35.0</td>\n",
       "      <td>36.0</td>\n",
       "      <td>26.0</td>\n",
       "      <td>35.0</td>\n",
       "      <td>34.0</td>\n",
       "      <td>...</td>\n",
       "      <td>29.0</td>\n",
       "      <td>40.0</td>\n",
       "      <td>29.0</td>\n",
       "      <td>43.0</td>\n",
       "      <td>NaN</td>\n",
       "      <td>NaN</td>\n",
       "      <td>NaN</td>\n",
       "      <td>NaN</td>\n",
       "      <td>NaN</td>\n",
       "      <td>NaN</td>\n",
       "    </tr>\n",
       "    <tr>\n",
       "      <th>Minnesota North Stars</th>\n",
       "      <td>27.0</td>\n",
       "      <td>32.0</td>\n",
       "      <td>36.0</td>\n",
       "      <td>NaN</td>\n",
       "      <td>NaN</td>\n",
       "      <td>NaN</td>\n",
       "      <td>NaN</td>\n",
       "      <td>NaN</td>\n",
       "      <td>NaN</td>\n",
       "      <td>NaN</td>\n",
       "      <td>...</td>\n",
       "      <td>NaN</td>\n",
       "      <td>NaN</td>\n",
       "      <td>NaN</td>\n",
       "      <td>NaN</td>\n",
       "      <td>NaN</td>\n",
       "      <td>NaN</td>\n",
       "      <td>NaN</td>\n",
       "      <td>NaN</td>\n",
       "      <td>NaN</td>\n",
       "      <td>NaN</td>\n",
       "    </tr>\n",
       "    <tr>\n",
       "      <th>Minnesota Wild</th>\n",
       "      <td>NaN</td>\n",
       "      <td>NaN</td>\n",
       "      <td>NaN</td>\n",
       "      <td>NaN</td>\n",
       "      <td>NaN</td>\n",
       "      <td>NaN</td>\n",
       "      <td>NaN</td>\n",
       "      <td>NaN</td>\n",
       "      <td>NaN</td>\n",
       "      <td>NaN</td>\n",
       "      <td>...</td>\n",
       "      <td>26.0</td>\n",
       "      <td>42.0</td>\n",
       "      <td>30.0</td>\n",
       "      <td>38.0</td>\n",
       "      <td>48.0</td>\n",
       "      <td>44.0</td>\n",
       "      <td>40.0</td>\n",
       "      <td>38.0</td>\n",
       "      <td>39.0</td>\n",
       "      <td>35.0</td>\n",
       "    </tr>\n",
       "    <tr>\n",
       "      <th>Montreal Canadiens</th>\n",
       "      <td>39.0</td>\n",
       "      <td>41.0</td>\n",
       "      <td>48.0</td>\n",
       "      <td>41.0</td>\n",
       "      <td>18.0</td>\n",
       "      <td>40.0</td>\n",
       "      <td>31.0</td>\n",
       "      <td>37.0</td>\n",
       "      <td>32.0</td>\n",
       "      <td>35.0</td>\n",
       "      <td>...</td>\n",
       "      <td>36.0</td>\n",
       "      <td>30.0</td>\n",
       "      <td>41.0</td>\n",
       "      <td>42.0</td>\n",
       "      <td>42.0</td>\n",
       "      <td>47.0</td>\n",
       "      <td>41.0</td>\n",
       "      <td>39.0</td>\n",
       "      <td>44.0</td>\n",
       "      <td>31.0</td>\n",
       "    </tr>\n",
       "    <tr>\n",
       "      <th>Nashville Predators</th>\n",
       "      <td>NaN</td>\n",
       "      <td>NaN</td>\n",
       "      <td>NaN</td>\n",
       "      <td>NaN</td>\n",
       "      <td>NaN</td>\n",
       "      <td>NaN</td>\n",
       "      <td>NaN</td>\n",
       "      <td>NaN</td>\n",
       "      <td>28.0</td>\n",
       "      <td>28.0</td>\n",
       "      <td>...</td>\n",
       "      <td>28.0</td>\n",
       "      <td>27.0</td>\n",
       "      <td>38.0</td>\n",
       "      <td>49.0</td>\n",
       "      <td>51.0</td>\n",
       "      <td>41.0</td>\n",
       "      <td>40.0</td>\n",
       "      <td>47.0</td>\n",
       "      <td>44.0</td>\n",
       "      <td>48.0</td>\n",
       "    </tr>\n",
       "    <tr>\n",
       "      <th>New Jersey Devils</th>\n",
       "      <td>32.0</td>\n",
       "      <td>38.0</td>\n",
       "      <td>40.0</td>\n",
       "      <td>47.0</td>\n",
       "      <td>22.0</td>\n",
       "      <td>37.0</td>\n",
       "      <td>45.0</td>\n",
       "      <td>48.0</td>\n",
       "      <td>47.0</td>\n",
       "      <td>45.0</td>\n",
       "      <td>...</td>\n",
       "      <td>41.0</td>\n",
       "      <td>46.0</td>\n",
       "      <td>43.0</td>\n",
       "      <td>46.0</td>\n",
       "      <td>49.0</td>\n",
       "      <td>46.0</td>\n",
       "      <td>51.0</td>\n",
       "      <td>48.0</td>\n",
       "      <td>38.0</td>\n",
       "      <td>48.0</td>\n",
       "    </tr>\n",
       "    <tr>\n",
       "      <th>New York Islanders</th>\n",
       "      <td>25.0</td>\n",
       "      <td>34.0</td>\n",
       "      <td>40.0</td>\n",
       "      <td>36.0</td>\n",
       "      <td>15.0</td>\n",
       "      <td>22.0</td>\n",
       "      <td>29.0</td>\n",
       "      <td>30.0</td>\n",
       "      <td>24.0</td>\n",
       "      <td>24.0</td>\n",
       "      <td>...</td>\n",
       "      <td>42.0</td>\n",
       "      <td>35.0</td>\n",
       "      <td>38.0</td>\n",
       "      <td>36.0</td>\n",
       "      <td>40.0</td>\n",
       "      <td>35.0</td>\n",
       "      <td>26.0</td>\n",
       "      <td>34.0</td>\n",
       "      <td>30.0</td>\n",
       "      <td>34.0</td>\n",
       "    </tr>\n",
       "    <tr>\n",
       "      <th>New York Rangers</th>\n",
       "      <td>36.0</td>\n",
       "      <td>50.0</td>\n",
       "      <td>34.0</td>\n",
       "      <td>52.0</td>\n",
       "      <td>22.0</td>\n",
       "      <td>41.0</td>\n",
       "      <td>38.0</td>\n",
       "      <td>25.0</td>\n",
       "      <td>33.0</td>\n",
       "      <td>29.0</td>\n",
       "      <td>...</td>\n",
       "      <td>36.0</td>\n",
       "      <td>32.0</td>\n",
       "      <td>27.0</td>\n",
       "      <td>44.0</td>\n",
       "      <td>42.0</td>\n",
       "      <td>42.0</td>\n",
       "      <td>43.0</td>\n",
       "      <td>38.0</td>\n",
       "      <td>44.0</td>\n",
       "      <td>51.0</td>\n",
       "    </tr>\n",
       "    <tr>\n",
       "      <th>Ottawa Senators</th>\n",
       "      <td>NaN</td>\n",
       "      <td>NaN</td>\n",
       "      <td>10.0</td>\n",
       "      <td>14.0</td>\n",
       "      <td>9.0</td>\n",
       "      <td>18.0</td>\n",
       "      <td>31.0</td>\n",
       "      <td>34.0</td>\n",
       "      <td>44.0</td>\n",
       "      <td>41.0</td>\n",
       "      <td>...</td>\n",
       "      <td>39.0</td>\n",
       "      <td>52.0</td>\n",
       "      <td>43.0</td>\n",
       "      <td>52.0</td>\n",
       "      <td>48.0</td>\n",
       "      <td>43.0</td>\n",
       "      <td>36.0</td>\n",
       "      <td>44.0</td>\n",
       "      <td>32.0</td>\n",
       "      <td>41.0</td>\n",
       "    </tr>\n",
       "    <tr>\n",
       "      <th>Philadelphia Flyers</th>\n",
       "      <td>33.0</td>\n",
       "      <td>32.0</td>\n",
       "      <td>36.0</td>\n",
       "      <td>35.0</td>\n",
       "      <td>28.0</td>\n",
       "      <td>45.0</td>\n",
       "      <td>45.0</td>\n",
       "      <td>42.0</td>\n",
       "      <td>37.0</td>\n",
       "      <td>45.0</td>\n",
       "      <td>...</td>\n",
       "      <td>42.0</td>\n",
       "      <td>45.0</td>\n",
       "      <td>40.0</td>\n",
       "      <td>45.0</td>\n",
       "      <td>22.0</td>\n",
       "      <td>42.0</td>\n",
       "      <td>44.0</td>\n",
       "      <td>41.0</td>\n",
       "      <td>47.0</td>\n",
       "      <td>47.0</td>\n",
       "    </tr>\n",
       "    <tr>\n",
       "      <th>Phoenix Coyotes</th>\n",
       "      <td>NaN</td>\n",
       "      <td>NaN</td>\n",
       "      <td>NaN</td>\n",
       "      <td>NaN</td>\n",
       "      <td>NaN</td>\n",
       "      <td>NaN</td>\n",
       "      <td>38.0</td>\n",
       "      <td>35.0</td>\n",
       "      <td>39.0</td>\n",
       "      <td>39.0</td>\n",
       "      <td>...</td>\n",
       "      <td>40.0</td>\n",
       "      <td>31.0</td>\n",
       "      <td>22.0</td>\n",
       "      <td>38.0</td>\n",
       "      <td>31.0</td>\n",
       "      <td>38.0</td>\n",
       "      <td>36.0</td>\n",
       "      <td>50.0</td>\n",
       "      <td>43.0</td>\n",
       "      <td>42.0</td>\n",
       "    </tr>\n",
       "    <tr>\n",
       "      <th>Pittsburgh Penguins</th>\n",
       "      <td>41.0</td>\n",
       "      <td>39.0</td>\n",
       "      <td>56.0</td>\n",
       "      <td>44.0</td>\n",
       "      <td>29.0</td>\n",
       "      <td>49.0</td>\n",
       "      <td>38.0</td>\n",
       "      <td>40.0</td>\n",
       "      <td>38.0</td>\n",
       "      <td>37.0</td>\n",
       "      <td>...</td>\n",
       "      <td>28.0</td>\n",
       "      <td>27.0</td>\n",
       "      <td>23.0</td>\n",
       "      <td>22.0</td>\n",
       "      <td>47.0</td>\n",
       "      <td>47.0</td>\n",
       "      <td>45.0</td>\n",
       "      <td>47.0</td>\n",
       "      <td>49.0</td>\n",
       "      <td>51.0</td>\n",
       "    </tr>\n",
       "    <tr>\n",
       "      <th>Quebec Nordiques</th>\n",
       "      <td>16.0</td>\n",
       "      <td>20.0</td>\n",
       "      <td>47.0</td>\n",
       "      <td>34.0</td>\n",
       "      <td>30.0</td>\n",
       "      <td>NaN</td>\n",
       "      <td>NaN</td>\n",
       "      <td>NaN</td>\n",
       "      <td>NaN</td>\n",
       "      <td>NaN</td>\n",
       "      <td>...</td>\n",
       "      <td>NaN</td>\n",
       "      <td>NaN</td>\n",
       "      <td>NaN</td>\n",
       "      <td>NaN</td>\n",
       "      <td>NaN</td>\n",
       "      <td>NaN</td>\n",
       "      <td>NaN</td>\n",
       "      <td>NaN</td>\n",
       "      <td>NaN</td>\n",
       "      <td>NaN</td>\n",
       "    </tr>\n",
       "    <tr>\n",
       "      <th>San Jose Sharks</th>\n",
       "      <td>NaN</td>\n",
       "      <td>17.0</td>\n",
       "      <td>11.0</td>\n",
       "      <td>33.0</td>\n",
       "      <td>19.0</td>\n",
       "      <td>20.0</td>\n",
       "      <td>27.0</td>\n",
       "      <td>34.0</td>\n",
       "      <td>31.0</td>\n",
       "      <td>35.0</td>\n",
       "      <td>...</td>\n",
       "      <td>44.0</td>\n",
       "      <td>28.0</td>\n",
       "      <td>43.0</td>\n",
       "      <td>44.0</td>\n",
       "      <td>51.0</td>\n",
       "      <td>49.0</td>\n",
       "      <td>53.0</td>\n",
       "      <td>51.0</td>\n",
       "      <td>48.0</td>\n",
       "      <td>43.0</td>\n",
       "    </tr>\n",
       "    <tr>\n",
       "      <th>St. Louis Blues</th>\n",
       "      <td>47.0</td>\n",
       "      <td>36.0</td>\n",
       "      <td>37.0</td>\n",
       "      <td>40.0</td>\n",
       "      <td>28.0</td>\n",
       "      <td>32.0</td>\n",
       "      <td>36.0</td>\n",
       "      <td>45.0</td>\n",
       "      <td>37.0</td>\n",
       "      <td>51.0</td>\n",
       "      <td>...</td>\n",
       "      <td>43.0</td>\n",
       "      <td>41.0</td>\n",
       "      <td>39.0</td>\n",
       "      <td>21.0</td>\n",
       "      <td>34.0</td>\n",
       "      <td>33.0</td>\n",
       "      <td>41.0</td>\n",
       "      <td>40.0</td>\n",
       "      <td>38.0</td>\n",
       "      <td>49.0</td>\n",
       "    </tr>\n",
       "    <tr>\n",
       "      <th>Tampa Bay Lightning</th>\n",
       "      <td>NaN</td>\n",
       "      <td>NaN</td>\n",
       "      <td>23.0</td>\n",
       "      <td>30.0</td>\n",
       "      <td>17.0</td>\n",
       "      <td>38.0</td>\n",
       "      <td>32.0</td>\n",
       "      <td>17.0</td>\n",
       "      <td>19.0</td>\n",
       "      <td>19.0</td>\n",
       "      <td>...</td>\n",
       "      <td>27.0</td>\n",
       "      <td>36.0</td>\n",
       "      <td>46.0</td>\n",
       "      <td>43.0</td>\n",
       "      <td>44.0</td>\n",
       "      <td>31.0</td>\n",
       "      <td>24.0</td>\n",
       "      <td>34.0</td>\n",
       "      <td>46.0</td>\n",
       "      <td>38.0</td>\n",
       "    </tr>\n",
       "    <tr>\n",
       "      <th>Toronto Maple Leafs</th>\n",
       "      <td>23.0</td>\n",
       "      <td>30.0</td>\n",
       "      <td>44.0</td>\n",
       "      <td>43.0</td>\n",
       "      <td>21.0</td>\n",
       "      <td>34.0</td>\n",
       "      <td>30.0</td>\n",
       "      <td>30.0</td>\n",
       "      <td>45.0</td>\n",
       "      <td>45.0</td>\n",
       "      <td>...</td>\n",
       "      <td>43.0</td>\n",
       "      <td>44.0</td>\n",
       "      <td>45.0</td>\n",
       "      <td>41.0</td>\n",
       "      <td>40.0</td>\n",
       "      <td>36.0</td>\n",
       "      <td>34.0</td>\n",
       "      <td>30.0</td>\n",
       "      <td>37.0</td>\n",
       "      <td>35.0</td>\n",
       "    </tr>\n",
       "    <tr>\n",
       "      <th>Vancouver Canucks</th>\n",
       "      <td>28.0</td>\n",
       "      <td>42.0</td>\n",
       "      <td>46.0</td>\n",
       "      <td>41.0</td>\n",
       "      <td>18.0</td>\n",
       "      <td>32.0</td>\n",
       "      <td>35.0</td>\n",
       "      <td>25.0</td>\n",
       "      <td>23.0</td>\n",
       "      <td>30.0</td>\n",
       "      <td>...</td>\n",
       "      <td>42.0</td>\n",
       "      <td>45.0</td>\n",
       "      <td>43.0</td>\n",
       "      <td>42.0</td>\n",
       "      <td>49.0</td>\n",
       "      <td>39.0</td>\n",
       "      <td>45.0</td>\n",
       "      <td>49.0</td>\n",
       "      <td>54.0</td>\n",
       "      <td>51.0</td>\n",
       "    </tr>\n",
       "    <tr>\n",
       "      <th>Washington Capitals</th>\n",
       "      <td>37.0</td>\n",
       "      <td>45.0</td>\n",
       "      <td>43.0</td>\n",
       "      <td>39.0</td>\n",
       "      <td>22.0</td>\n",
       "      <td>39.0</td>\n",
       "      <td>33.0</td>\n",
       "      <td>40.0</td>\n",
       "      <td>31.0</td>\n",
       "      <td>44.0</td>\n",
       "      <td>...</td>\n",
       "      <td>36.0</td>\n",
       "      <td>39.0</td>\n",
       "      <td>23.0</td>\n",
       "      <td>29.0</td>\n",
       "      <td>28.0</td>\n",
       "      <td>43.0</td>\n",
       "      <td>50.0</td>\n",
       "      <td>54.0</td>\n",
       "      <td>48.0</td>\n",
       "      <td>42.0</td>\n",
       "    </tr>\n",
       "    <tr>\n",
       "      <th>Winnipeg Jets</th>\n",
       "      <td>26.0</td>\n",
       "      <td>33.0</td>\n",
       "      <td>40.0</td>\n",
       "      <td>24.0</td>\n",
       "      <td>16.0</td>\n",
       "      <td>36.0</td>\n",
       "      <td>NaN</td>\n",
       "      <td>NaN</td>\n",
       "      <td>NaN</td>\n",
       "      <td>NaN</td>\n",
       "      <td>...</td>\n",
       "      <td>NaN</td>\n",
       "      <td>NaN</td>\n",
       "      <td>NaN</td>\n",
       "      <td>NaN</td>\n",
       "      <td>NaN</td>\n",
       "      <td>NaN</td>\n",
       "      <td>NaN</td>\n",
       "      <td>NaN</td>\n",
       "      <td>NaN</td>\n",
       "      <td>37.0</td>\n",
       "    </tr>\n",
       "  </tbody>\n",
       "</table>\n",
       "<p>35 rows × 21 columns</p>\n",
       "</div>"
      ],
      "text/plain": [
       "season                   1990  1991  1992  1993  1994  1995  1996  1997  1998  \\\n",
       "team                                                                            \n",
       "Anaheim Ducks             NaN   NaN   NaN   NaN   NaN   NaN   NaN   NaN   NaN   \n",
       "Atlanta Thrashers         NaN   NaN   NaN   NaN   NaN   NaN   NaN   NaN   NaN   \n",
       "Boston Bruins            44.0  36.0  51.0  42.0  27.0  40.0  26.0  39.0  39.0   \n",
       "Buffalo Sabres           31.0  31.0  38.0  43.0  22.0  33.0  40.0  36.0  37.0   \n",
       "Calgary Flames           46.0  31.0  43.0  42.0  24.0  34.0  32.0  26.0  30.0   \n",
       "Carolina Hurricanes       NaN   NaN   NaN   NaN   NaN   NaN   NaN  33.0  34.0   \n",
       "Chicago Blackhawks       49.0  36.0  47.0  39.0  24.0  40.0  34.0  30.0  29.0   \n",
       "Colorado Avalanche        NaN   NaN   NaN   NaN   NaN  47.0  49.0  39.0  44.0   \n",
       "Columbus Blue Jackets     NaN   NaN   NaN   NaN   NaN   NaN   NaN   NaN   NaN   \n",
       "Dallas Stars              NaN   NaN   NaN  42.0  17.0  26.0  48.0  49.0  51.0   \n",
       "Detroit Red Wings        34.0  43.0  47.0  46.0  33.0  62.0  38.0  44.0  43.0   \n",
       "Edmonton Oilers          37.0  36.0  26.0  25.0  17.0  30.0  36.0  35.0  33.0   \n",
       "Florida Panthers          NaN   NaN   NaN  33.0  20.0  41.0  35.0  24.0  30.0   \n",
       "Hartford Whalers         31.0  26.0  26.0  27.0  19.0  34.0  32.0   NaN   NaN   \n",
       "Los Angeles Kings        46.0  35.0  39.0  27.0  16.0  24.0  28.0  38.0  32.0   \n",
       "Mighty Ducks of Anaheim   NaN   NaN   NaN  33.0  16.0  35.0  36.0  26.0  35.0   \n",
       "Minnesota North Stars    27.0  32.0  36.0   NaN   NaN   NaN   NaN   NaN   NaN   \n",
       "Minnesota Wild            NaN   NaN   NaN   NaN   NaN   NaN   NaN   NaN   NaN   \n",
       "Montreal Canadiens       39.0  41.0  48.0  41.0  18.0  40.0  31.0  37.0  32.0   \n",
       "Nashville Predators       NaN   NaN   NaN   NaN   NaN   NaN   NaN   NaN  28.0   \n",
       "New Jersey Devils        32.0  38.0  40.0  47.0  22.0  37.0  45.0  48.0  47.0   \n",
       "New York Islanders       25.0  34.0  40.0  36.0  15.0  22.0  29.0  30.0  24.0   \n",
       "New York Rangers         36.0  50.0  34.0  52.0  22.0  41.0  38.0  25.0  33.0   \n",
       "Ottawa Senators           NaN   NaN  10.0  14.0   9.0  18.0  31.0  34.0  44.0   \n",
       "Philadelphia Flyers      33.0  32.0  36.0  35.0  28.0  45.0  45.0  42.0  37.0   \n",
       "Phoenix Coyotes           NaN   NaN   NaN   NaN   NaN   NaN  38.0  35.0  39.0   \n",
       "Pittsburgh Penguins      41.0  39.0  56.0  44.0  29.0  49.0  38.0  40.0  38.0   \n",
       "Quebec Nordiques         16.0  20.0  47.0  34.0  30.0   NaN   NaN   NaN   NaN   \n",
       "San Jose Sharks           NaN  17.0  11.0  33.0  19.0  20.0  27.0  34.0  31.0   \n",
       "St. Louis Blues          47.0  36.0  37.0  40.0  28.0  32.0  36.0  45.0  37.0   \n",
       "Tampa Bay Lightning       NaN   NaN  23.0  30.0  17.0  38.0  32.0  17.0  19.0   \n",
       "Toronto Maple Leafs      23.0  30.0  44.0  43.0  21.0  34.0  30.0  30.0  45.0   \n",
       "Vancouver Canucks        28.0  42.0  46.0  41.0  18.0  32.0  35.0  25.0  23.0   \n",
       "Washington Capitals      37.0  45.0  43.0  39.0  22.0  39.0  33.0  40.0  31.0   \n",
       "Winnipeg Jets            26.0  33.0  40.0  24.0  16.0  36.0   NaN   NaN   NaN   \n",
       "\n",
       "season                   1999  ...  2001  2002  2003  2005  2006  2007  2008  \\\n",
       "team                           ...                                             \n",
       "Anaheim Ducks             NaN  ...   NaN   NaN   NaN   NaN  48.0  47.0  42.0   \n",
       "Atlanta Thrashers        14.0  ...  19.0  31.0  33.0  41.0  43.0  34.0  35.0   \n",
       "Boston Bruins            24.0  ...  43.0  36.0  41.0  29.0  35.0  41.0  53.0   \n",
       "Buffalo Sabres           35.0  ...  35.0  27.0  37.0  52.0  53.0  39.0  41.0   \n",
       "Calgary Flames           31.0  ...  32.0  29.0  42.0  46.0  43.0  42.0  46.0   \n",
       "Carolina Hurricanes      37.0  ...  35.0  22.0  28.0  52.0  40.0  43.0  45.0   \n",
       "Chicago Blackhawks       33.0  ...  41.0  30.0  20.0  26.0  31.0  40.0  46.0   \n",
       "Colorado Avalanche       42.0  ...  45.0  42.0  40.0  43.0  44.0  44.0  32.0   \n",
       "Columbus Blue Jackets     NaN  ...  22.0  29.0  25.0  35.0  33.0  34.0  41.0   \n",
       "Dallas Stars             43.0  ...  36.0  46.0  41.0  53.0  50.0  45.0  36.0   \n",
       "Detroit Red Wings        48.0  ...  51.0  48.0  48.0  58.0  50.0  54.0  51.0   \n",
       "Edmonton Oilers          32.0  ...  38.0  36.0  36.0  41.0  32.0  41.0  38.0   \n",
       "Florida Panthers         43.0  ...  22.0  24.0  28.0  37.0  35.0  38.0  41.0   \n",
       "Hartford Whalers          NaN  ...   NaN   NaN   NaN   NaN   NaN   NaN   NaN   \n",
       "Los Angeles Kings        39.0  ...  40.0  33.0  28.0  42.0  27.0  32.0  34.0   \n",
       "Mighty Ducks of Anaheim  34.0  ...  29.0  40.0  29.0  43.0   NaN   NaN   NaN   \n",
       "Minnesota North Stars     NaN  ...   NaN   NaN   NaN   NaN   NaN   NaN   NaN   \n",
       "Minnesota Wild            NaN  ...  26.0  42.0  30.0  38.0  48.0  44.0  40.0   \n",
       "Montreal Canadiens       35.0  ...  36.0  30.0  41.0  42.0  42.0  47.0  41.0   \n",
       "Nashville Predators      28.0  ...  28.0  27.0  38.0  49.0  51.0  41.0  40.0   \n",
       "New Jersey Devils        45.0  ...  41.0  46.0  43.0  46.0  49.0  46.0  51.0   \n",
       "New York Islanders       24.0  ...  42.0  35.0  38.0  36.0  40.0  35.0  26.0   \n",
       "New York Rangers         29.0  ...  36.0  32.0  27.0  44.0  42.0  42.0  43.0   \n",
       "Ottawa Senators          41.0  ...  39.0  52.0  43.0  52.0  48.0  43.0  36.0   \n",
       "Philadelphia Flyers      45.0  ...  42.0  45.0  40.0  45.0  22.0  42.0  44.0   \n",
       "Phoenix Coyotes          39.0  ...  40.0  31.0  22.0  38.0  31.0  38.0  36.0   \n",
       "Pittsburgh Penguins      37.0  ...  28.0  27.0  23.0  22.0  47.0  47.0  45.0   \n",
       "Quebec Nordiques          NaN  ...   NaN   NaN   NaN   NaN   NaN   NaN   NaN   \n",
       "San Jose Sharks          35.0  ...  44.0  28.0  43.0  44.0  51.0  49.0  53.0   \n",
       "St. Louis Blues          51.0  ...  43.0  41.0  39.0  21.0  34.0  33.0  41.0   \n",
       "Tampa Bay Lightning      19.0  ...  27.0  36.0  46.0  43.0  44.0  31.0  24.0   \n",
       "Toronto Maple Leafs      45.0  ...  43.0  44.0  45.0  41.0  40.0  36.0  34.0   \n",
       "Vancouver Canucks        30.0  ...  42.0  45.0  43.0  42.0  49.0  39.0  45.0   \n",
       "Washington Capitals      44.0  ...  36.0  39.0  23.0  29.0  28.0  43.0  50.0   \n",
       "Winnipeg Jets             NaN  ...   NaN   NaN   NaN   NaN   NaN   NaN   NaN   \n",
       "\n",
       "season                   2009  2010  2011  \n",
       "team                                       \n",
       "Anaheim Ducks            39.0  47.0  34.0  \n",
       "Atlanta Thrashers        35.0  34.0   NaN  \n",
       "Boston Bruins            39.0  46.0  49.0  \n",
       "Buffalo Sabres           45.0  43.0  39.0  \n",
       "Calgary Flames           40.0  41.0  37.0  \n",
       "Carolina Hurricanes      35.0  40.0  33.0  \n",
       "Chicago Blackhawks       52.0  44.0  45.0  \n",
       "Colorado Avalanche       43.0  30.0  41.0  \n",
       "Columbus Blue Jackets    32.0  34.0  29.0  \n",
       "Dallas Stars             37.0  42.0  42.0  \n",
       "Detroit Red Wings        44.0  47.0  48.0  \n",
       "Edmonton Oilers          27.0  25.0  32.0  \n",
       "Florida Panthers         32.0  30.0  38.0  \n",
       "Hartford Whalers          NaN   NaN   NaN  \n",
       "Los Angeles Kings        46.0  46.0  40.0  \n",
       "Mighty Ducks of Anaheim   NaN   NaN   NaN  \n",
       "Minnesota North Stars     NaN   NaN   NaN  \n",
       "Minnesota Wild           38.0  39.0  35.0  \n",
       "Montreal Canadiens       39.0  44.0  31.0  \n",
       "Nashville Predators      47.0  44.0  48.0  \n",
       "New Jersey Devils        48.0  38.0  48.0  \n",
       "New York Islanders       34.0  30.0  34.0  \n",
       "New York Rangers         38.0  44.0  51.0  \n",
       "Ottawa Senators          44.0  32.0  41.0  \n",
       "Philadelphia Flyers      41.0  47.0  47.0  \n",
       "Phoenix Coyotes          50.0  43.0  42.0  \n",
       "Pittsburgh Penguins      47.0  49.0  51.0  \n",
       "Quebec Nordiques          NaN   NaN   NaN  \n",
       "San Jose Sharks          51.0  48.0  43.0  \n",
       "St. Louis Blues          40.0  38.0  49.0  \n",
       "Tampa Bay Lightning      34.0  46.0  38.0  \n",
       "Toronto Maple Leafs      30.0  37.0  35.0  \n",
       "Vancouver Canucks        49.0  54.0  51.0  \n",
       "Washington Capitals      54.0  48.0  42.0  \n",
       "Winnipeg Jets             NaN   NaN  37.0  \n",
       "\n",
       "[35 rows x 21 columns]"
      ]
     },
     "execution_count": 144,
     "metadata": {},
     "output_type": "execute_result"
    }
   ],
   "source": [
    "pivot_table_victories"
   ]
  },
  {
   "cell_type": "code",
   "execution_count": 145,
   "metadata": {},
   "outputs": [
    {
     "name": "stdout",
     "output_type": "stream",
     "text": [
      "season\n",
      "1990     Chicago Blackhawks\n",
      "1991       New York Rangers\n",
      "1992    Pittsburgh Penguins\n",
      "1993       New York Rangers\n",
      "1994      Detroit Red Wings\n",
      "1995      Detroit Red Wings\n",
      "1996     Colorado Avalanche\n",
      "1997           Dallas Stars\n",
      "1998           Dallas Stars\n",
      "1999        St. Louis Blues\n",
      "2000     Colorado Avalanche\n",
      "2001      Detroit Red Wings\n",
      "2002        Ottawa Senators\n",
      "2003      Detroit Red Wings\n",
      "2005      Detroit Red Wings\n",
      "2006         Buffalo Sabres\n",
      "2007      Detroit Red Wings\n",
      "2008          Boston Bruins\n",
      "2009    Washington Capitals\n",
      "2010      Vancouver Canucks\n",
      "2011       New York Rangers\n",
      "dtype: object\n"
     ]
    }
   ],
   "source": [
    "max_victories_per_season = pivot_table_victories.idxmax()\n",
    "print(max_victories_per_season)"
   ]
  },
  {
   "cell_type": "code",
   "execution_count": 146,
   "metadata": {},
   "outputs": [],
   "source": [
    "team_counts = max_victories_per_season.value_counts()"
   ]
  },
  {
   "cell_type": "code",
   "execution_count": 147,
   "metadata": {},
   "outputs": [
    {
     "data": {
      "text/plain": [
       "Detroit Red Wings      6\n",
       "New York Rangers       3\n",
       "Colorado Avalanche     2\n",
       "Dallas Stars           2\n",
       "Chicago Blackhawks     1\n",
       "Pittsburgh Penguins    1\n",
       "St. Louis Blues        1\n",
       "Ottawa Senators        1\n",
       "Buffalo Sabres         1\n",
       "Boston Bruins          1\n",
       "Washington Capitals    1\n",
       "Vancouver Canucks      1\n",
       "Name: count, dtype: int64"
      ]
     },
     "execution_count": 147,
     "metadata": {},
     "output_type": "execute_result"
    }
   ],
   "source": [
    "team_counts"
   ]
  },
  {
   "cell_type": "code",
   "execution_count": 148,
   "metadata": {},
   "outputs": [
    {
     "name": "stdout",
     "output_type": "stream",
     "text": [
      "Top Teams in History: Detroit Red Wings, number of victory seasons: 6\n"
     ]
    }
   ],
   "source": [
    "most_common_team = team_counts.idxmax()\n",
    "most_common_count = team_counts.max()\n",
    "\n",
    "print(f'Top Teams in History: {most_common_team}, number of victory seasons: {most_common_count}')"
   ]
  },
  {
   "cell_type": "markdown",
   "metadata": {
    "id": "DbgD8WEKNqTp"
   },
   "source": [
    "# `overtime_defeats`"
   ]
  },
  {
   "cell_type": "markdown",
   "metadata": {
    "id": "T_3LrsNQNqTp"
   },
   "source": [
    "## The team losing most frequently in overtime"
   ]
  },
  {
   "cell_type": "code",
   "execution_count": 180,
   "metadata": {},
   "outputs": [],
   "source": [
    "df_top_overtime_defeats = (\n",
    "    df\n",
    "    .groupby(by='team')['overtime_defeats']\n",
    "    .sum()\n",
    "    .sort_values(ascending=False)\n",
    "    .head()\n",
    "    .reset_index()\n",
    ")"
   ]
  },
  {
   "cell_type": "code",
   "execution_count": 181,
   "metadata": {},
   "outputs": [
    {
     "data": {
      "text/html": [
       "<div>\n",
       "<style scoped>\n",
       "    .dataframe tbody tr th:only-of-type {\n",
       "        vertical-align: middle;\n",
       "    }\n",
       "\n",
       "    .dataframe tbody tr th {\n",
       "        vertical-align: top;\n",
       "    }\n",
       "\n",
       "    .dataframe thead th {\n",
       "        text-align: right;\n",
       "    }\n",
       "</style>\n",
       "<table border=\"1\" class=\"dataframe\">\n",
       "  <thead>\n",
       "    <tr style=\"text-align: right;\">\n",
       "      <th></th>\n",
       "      <th>team</th>\n",
       "      <th>overtime_defeats</th>\n",
       "    </tr>\n",
       "  </thead>\n",
       "  <tbody>\n",
       "    <tr>\n",
       "      <th>0</th>\n",
       "      <td>Florida Panthers</td>\n",
       "      <td>124</td>\n",
       "    </tr>\n",
       "    <tr>\n",
       "      <th>1</th>\n",
       "      <td>Boston Bruins</td>\n",
       "      <td>106</td>\n",
       "    </tr>\n",
       "    <tr>\n",
       "      <th>2</th>\n",
       "      <td>St. Louis Blues</td>\n",
       "      <td>101</td>\n",
       "    </tr>\n",
       "    <tr>\n",
       "      <th>3</th>\n",
       "      <td>Tampa Bay Lightning</td>\n",
       "      <td>96</td>\n",
       "    </tr>\n",
       "    <tr>\n",
       "      <th>4</th>\n",
       "      <td>Montreal Canadiens</td>\n",
       "      <td>96</td>\n",
       "    </tr>\n",
       "  </tbody>\n",
       "</table>\n",
       "</div>"
      ],
      "text/plain": [
       "                  team  overtime_defeats\n",
       "0     Florida Panthers               124\n",
       "1        Boston Bruins               106\n",
       "2      St. Louis Blues               101\n",
       "3  Tampa Bay Lightning                96\n",
       "4   Montreal Canadiens                96"
      ]
     },
     "execution_count": 181,
     "metadata": {},
     "output_type": "execute_result"
    }
   ],
   "source": [
    "df_top_overtime_defeats"
   ]
  },
  {
   "cell_type": "markdown",
   "metadata": {
    "id": "zcPi9wCtNqTp"
   },
   "source": [
    "## Percentage of teams losing in overtime"
   ]
  },
  {
   "cell_type": "code",
   "execution_count": 186,
   "metadata": {
    "id": "1N5Cl_9ENqTq"
   },
   "outputs": [],
   "source": [
    "teams_with_overtime_defeats = (\n",
    "    df\n",
    "    .loc[df['overtime_defeats'] > 0]['team']\n",
    "    .unique()\n",
    "    .size\n",
    ")"
   ]
  },
  {
   "cell_type": "code",
   "execution_count": 183,
   "metadata": {},
   "outputs": [],
   "source": [
    "teams_total_amount = df['team'].unique().size"
   ]
  },
  {
   "cell_type": "code",
   "execution_count": 187,
   "metadata": {},
   "outputs": [
    {
     "name": "stdout",
     "output_type": "stream",
     "text": [
      "Percentage of teams losing in overtime: 0.9142857142857143\n"
     ]
    }
   ],
   "source": [
    "teams_with_overtime_defates_ratio = teams_with_overtime_defeats / teams_total_amount\n",
    "print(f\"Percentage of teams losing in overtime: {teams_with_overtime_defates_ratio}\")\n"
   ]
  },
  {
   "cell_type": "markdown",
   "metadata": {
    "id": "ejQRQFcoNqTq"
   },
   "source": [
    "# `goals_ratio`"
   ]
  },
  {
   "cell_type": "markdown",
   "metadata": {
    "id": "KlJWg0A7NqTq"
   },
   "source": [
    "## Creating a Variable"
   ]
  },
  {
   "cell_type": "code",
   "execution_count": 160,
   "metadata": {
    "id": "gnPbUjleNqTq"
   },
   "outputs": [],
   "source": [
    "df['goals_ratio'] = df['scored_goals'] / df['received_goals']"
   ]
  },
  {
   "cell_type": "code",
   "execution_count": 161,
   "metadata": {},
   "outputs": [
    {
     "data": {
      "text/html": [
       "<div>\n",
       "<style scoped>\n",
       "    .dataframe tbody tr th:only-of-type {\n",
       "        vertical-align: middle;\n",
       "    }\n",
       "\n",
       "    .dataframe tbody tr th {\n",
       "        vertical-align: top;\n",
       "    }\n",
       "\n",
       "    .dataframe thead th {\n",
       "        text-align: right;\n",
       "    }\n",
       "</style>\n",
       "<table border=\"1\" class=\"dataframe\">\n",
       "  <thead>\n",
       "    <tr style=\"text-align: right;\">\n",
       "      <th></th>\n",
       "      <th>team</th>\n",
       "      <th>season</th>\n",
       "      <th>victories</th>\n",
       "      <th>defeats</th>\n",
       "      <th>overtime_defeats</th>\n",
       "      <th>victory_percentage</th>\n",
       "      <th>scored_goals</th>\n",
       "      <th>received_goals</th>\n",
       "      <th>goal_difference</th>\n",
       "      <th>goals_ratio</th>\n",
       "    </tr>\n",
       "  </thead>\n",
       "  <tbody>\n",
       "    <tr>\n",
       "      <th>0</th>\n",
       "      <td>Boston Bruins</td>\n",
       "      <td>1990</td>\n",
       "      <td>44</td>\n",
       "      <td>24</td>\n",
       "      <td>0</td>\n",
       "      <td>0.550</td>\n",
       "      <td>299.0</td>\n",
       "      <td>264.0</td>\n",
       "      <td>35.0</td>\n",
       "      <td>1.132576</td>\n",
       "    </tr>\n",
       "    <tr>\n",
       "      <th>1</th>\n",
       "      <td>Buffalo Sabres</td>\n",
       "      <td>1990</td>\n",
       "      <td>31</td>\n",
       "      <td>30</td>\n",
       "      <td>0</td>\n",
       "      <td>0.388</td>\n",
       "      <td>292.0</td>\n",
       "      <td>278.0</td>\n",
       "      <td>14.0</td>\n",
       "      <td>1.050360</td>\n",
       "    </tr>\n",
       "    <tr>\n",
       "      <th>2</th>\n",
       "      <td>Calgary Flames</td>\n",
       "      <td>1990</td>\n",
       "      <td>46</td>\n",
       "      <td>26</td>\n",
       "      <td>0</td>\n",
       "      <td>0.575</td>\n",
       "      <td>344.0</td>\n",
       "      <td>263.0</td>\n",
       "      <td>81.0</td>\n",
       "      <td>1.307985</td>\n",
       "    </tr>\n",
       "    <tr>\n",
       "      <th>3</th>\n",
       "      <td>Chicago Blackhawks</td>\n",
       "      <td>1990</td>\n",
       "      <td>49</td>\n",
       "      <td>23</td>\n",
       "      <td>0</td>\n",
       "      <td>0.613</td>\n",
       "      <td>284.0</td>\n",
       "      <td>211.0</td>\n",
       "      <td>73.0</td>\n",
       "      <td>1.345972</td>\n",
       "    </tr>\n",
       "    <tr>\n",
       "      <th>4</th>\n",
       "      <td>Detroit Red Wings</td>\n",
       "      <td>1990</td>\n",
       "      <td>34</td>\n",
       "      <td>38</td>\n",
       "      <td>0</td>\n",
       "      <td>0.425</td>\n",
       "      <td>273.0</td>\n",
       "      <td>298.0</td>\n",
       "      <td>-25.0</td>\n",
       "      <td>0.916107</td>\n",
       "    </tr>\n",
       "  </tbody>\n",
       "</table>\n",
       "</div>"
      ],
      "text/plain": [
       "                 team  season  victories  defeats  overtime_defeats  \\\n",
       "0       Boston Bruins    1990         44       24                 0   \n",
       "1      Buffalo Sabres    1990         31       30                 0   \n",
       "2      Calgary Flames    1990         46       26                 0   \n",
       "3  Chicago Blackhawks    1990         49       23                 0   \n",
       "4   Detroit Red Wings    1990         34       38                 0   \n",
       "\n",
       "   victory_percentage  scored_goals  received_goals  goal_difference  \\\n",
       "0               0.550         299.0           264.0             35.0   \n",
       "1               0.388         292.0           278.0             14.0   \n",
       "2               0.575         344.0           263.0             81.0   \n",
       "3               0.613         284.0           211.0             73.0   \n",
       "4               0.425         273.0           298.0            -25.0   \n",
       "\n",
       "   goals_ratio  \n",
       "0     1.132576  \n",
       "1     1.050360  \n",
       "2     1.307985  \n",
       "3     1.345972  \n",
       "4     0.916107  "
      ]
     },
     "execution_count": 161,
     "metadata": {},
     "output_type": "execute_result"
    }
   ],
   "source": [
    "df.head(5)"
   ]
  },
  {
   "cell_type": "code",
   "execution_count": 162,
   "metadata": {
    "id": "I02JJJ9MNqTq"
   },
   "outputs": [
    {
     "name": "stdout",
     "output_type": "stream",
     "text": [
      "Basic statistics of goals ratio\n",
      "count    582.000000\n",
      "mean       1.019061\n",
      "std        0.187878\n",
      "min        0.506297\n",
      "20%        0.852231\n",
      "30%        0.913764\n",
      "40%        0.964894\n",
      "50%        1.015705\n",
      "max        1.795580\n",
      "Name: goals_ratio, dtype: float64\n",
      "\n"
     ]
    }
   ],
   "source": [
    "goals_ratio = df['goals_ratio'].describe([0.2, 0.3, 0.4])\n",
    "print(f\"Basic statistics of goals ratio\\n{goals_ratio}\\n\")"
   ]
  },
  {
   "cell_type": "markdown",
   "metadata": {
    "id": "0mHrq1PtNqTq"
   },
   "source": [
    "## Distribution of the variable `goals_ratio`"
   ]
  },
  {
   "cell_type": "markdown",
   "metadata": {
    "id": "ndwCjrelNqTq"
   },
   "source": [
    "### Histogram of the variable using Rice's rule"
   ]
  },
  {
   "cell_type": "code",
   "execution_count": 163,
   "metadata": {},
   "outputs": [],
   "source": [
    "n = df['goals_ratio'].count()"
   ]
  },
  {
   "cell_type": "code",
   "execution_count": 164,
   "metadata": {},
   "outputs": [],
   "source": [
    "num_bins = int(2 * np.cbrt(n))"
   ]
  },
  {
   "cell_type": "code",
   "execution_count": 165,
   "metadata": {
    "id": "ZXg8U4JINqTq"
   },
   "outputs": [
    {
     "data": {
      "image/png": "[encoded data removed]",
      "text/plain": [
       "<Figure size 1300x700 with 1 Axes>"
      ]
     },
     "metadata": {},
     "output_type": "display_data"
    }
   ],
   "source": [
    "plt.figure(figsize=(13,7))\n",
    " \n",
    "plt.hist(df['goals_ratio'], bins=num_bins, edgecolor='black')\n",
    "plt.title('Histogram of the goals ratio (Rice´s rule', fontsize=16)\n",
    "plt.xlabel('Goals ratio', fontsize=14)\n",
    "plt.ylabel('Number', fontsize=14)\n",
    "plt.show()"
   ]
  },
  {
   "cell_type": "markdown",
   "metadata": {
    "id": "8KN1inR0NqTr"
   },
   "source": [
    "### Histogram of the variable using the square root rule"
   ]
  },
  {
   "cell_type": "code",
   "execution_count": 166,
   "metadata": {
    "id": "lTGS0VFnNqTr"
   },
   "outputs": [],
   "source": [
    "num_bins_root = int(np.ceil(np.sqrt(n)))"
   ]
  },
  {
   "cell_type": "code",
   "execution_count": 167,
   "metadata": {},
   "outputs": [
    {
     "data": {
      "image/png": "[encoded data removed]",
      "text/plain": [
       "<Figure size 1300x700 with 1 Axes>"
      ]
     },
     "metadata": {},
     "output_type": "display_data"
    }
   ],
   "source": [
    "plt.figure(figsize=(13,7))\n",
    " \n",
    "plt.hist(df['goals_ratio'], bins=num_bins_root, edgecolor='black')\n",
    "plt.title('Histogram of the goals ratio (square root rule)', fontsize=16)\n",
    "plt.xlabel('Goals ratio', fontsize=14)\n",
    "plt.ylabel('Number', fontsize=14)\n",
    "plt.show()"
   ]
  },
  {
   "cell_type": "markdown",
   "metadata": {
    "id": "oj8B3BF-NqTr"
   },
   "source": [
    "# `victory_percentage`"
   ]
  },
  {
   "cell_type": "markdown",
   "metadata": {
    "id": "BgtsZgmZNqTr"
   },
   "source": [
    "### Descriptive Statistics"
   ]
  },
  {
   "cell_type": "code",
   "execution_count": 168,
   "metadata": {
    "id": "rxhLxcc9NqTr"
   },
   "outputs": [
    {
     "name": "stdout",
     "output_type": "stream",
     "text": [
      "Mean = 0.4585189003436426\n",
      "Median = 0.463\n",
      "Standard deviation = 0.10223670092318188\n",
      "Min = 0.119\n",
      "Max = 0.756\n"
     ]
    }
   ],
   "source": [
    "print(f\"Mean = {df['victory_percentage'].mean()}\")\n",
    "print(f\"Median = {df['victory_percentage'].median()}\")\n",
    "print(f\"Standard deviation = {df['victory_percentage'].std()}\")\n",
    "print(f\"Min = {df['victory_percentage'].min()}\")\n",
    "print(f\"Max = {df['victory_percentage'].max()}\")"
   ]
  },
  {
   "cell_type": "code",
   "execution_count": 169,
   "metadata": {},
   "outputs": [
    {
     "data": {
      "text/plain": [
       "count    582.000000\n",
       "mean       0.458519\n",
       "std        0.102237\n",
       "min        0.119000\n",
       "25%        0.390000\n",
       "50%        0.463000\n",
       "75%        0.534000\n",
       "max        0.756000\n",
       "Name: victory_percentage, dtype: float64"
      ]
     },
     "execution_count": 169,
     "metadata": {},
     "output_type": "execute_result"
    }
   ],
   "source": [
    "df['victory_percentage'].describe()"
   ]
  },
  {
   "cell_type": "markdown",
   "metadata": {
    "id": "0kk70d9ONqTr"
   },
   "source": [
    "### Distribution"
   ]
  },
  {
   "cell_type": "code",
   "execution_count": 170,
   "metadata": {
    "id": "wJ-gr3rlNqTr"
   },
   "outputs": [
    {
     "data": {
      "image/png": "[encoded data removed]",
      "text/plain": [
       "<Figure size 1300x700 with 1 Axes>"
      ]
     },
     "metadata": {},
     "output_type": "display_data"
    }
   ],
   "source": [
    "plt.figure(figsize=(13,7))\n",
    " \n",
    "plt.hist(df['victory_percentage'], bins=25, edgecolor='black')\n",
    "plt.title('Histogram of the victory percentage', fontsize=16)\n",
    "plt.xlabel('Victory percentage', fontsize=14)\n",
    "plt.ylabel('Number', fontsize=14)\n",
    "plt.show()"
   ]
  },
  {
   "cell_type": "markdown",
   "metadata": {
    "id": "5_evxTUhNqTr"
   },
   "source": [
    "# `goals_ratio` vs `victory_percentage`"
   ]
  },
  {
   "cell_type": "markdown",
   "metadata": {
    "id": "VH_qOXZ5NqTr"
   },
   "source": [
    "## Scatterplot of Variables"
   ]
  },
  {
   "cell_type": "code",
   "execution_count": 171,
   "metadata": {},
   "outputs": [],
   "source": [
    "x = df['goals_ratio']\n",
    "y = df['victory_percentage']"
   ]
  },
  {
   "cell_type": "code",
   "execution_count": 189,
   "metadata": {},
   "outputs": [
    {
     "name": "stdout",
     "output_type": "stream",
     "text": [
      "Slope of the line: 0.4794281507405937\n",
      "Intercept: -0.030047601151665437\n"
     ]
    }
   ],
   "source": [
    "slope, intercept = np.polyfit(x, y, 1)\n",
    "predictions = slope * x + intercept\n",
    "\n",
    "print(f\"Slope of the line: {slope}\")\n",
    "print(f\"Intercept: {intercept}\")"
   ]
  },
  {
   "cell_type": "code",
   "execution_count": 192,
   "metadata": {
    "id": "lXK_8q0DNqTs"
   },
   "outputs": [
    {
     "data": {
      "image/png": "[encoded data removed]",
      "text/plain": [
       "<Figure size 1300x700 with 1 Axes>"
      ]
     },
     "metadata": {},
     "output_type": "display_data"
    }
   ],
   "source": [
    "plt.figure(figsize=(13, 7))\n",
    "plt.scatter(x, y, color='blue') \n",
    "plt.plot(x, predictions, color='red')\n",
    "plt.xlabel('Goals ratio')\n",
    "plt.ylabel('Victory percentage')\n",
    "plt.title(\"Goals Ratio vs victory percentage\")\n",
    "plt.show()"
   ]
  }
 ],
 "metadata": {
  "colab": {
   "provenance": []
  },
  "kernelspec": {
   "display_name": "base",
   "language": "python",
   "name": "python3"
  },
  "language_info": {
   "codemirror_mode": {
    "name": "ipython",
    "version": 3
   },
   "file_extension": ".py",
   "mimetype": "text/x-python",
   "name": "python",
   "nbconvert_exporter": "python",
   "pygments_lexer": "ipython3",
   "version": "3.12.7"
  }
 },
 "nbformat": 4,
 "nbformat_minor": 4
}
