{
 "cells": [
  {
   "cell_type": "markdown",
   "id": "honey-literacy",
   "metadata": {},
   "source": [
    "# Aggregation\n",
    "\n",
    "\n",
    "Using data from file **product_prices_cleaned.csv**, aggregate the data for each product by month and determine the statistics: `min, max, median, mean, std` for prices (**value** column):\n",
    "\n",
    "1. skip the national data in the analysis,\n",
    "1. directly on the object from `groupby`,\n",
    "1. write a loop that will calculate these values for individual provinces.\n",
    "\n",
    "Use the `agg` method, and aggregate the data with the `'product','date'` column to complete the exercise."
   ]
  },
  {
   "cell_type": "code",
   "execution_count": 25,
   "id": "turkish-disney",
   "metadata": {},
   "outputs": [],
   "source": [
    "import pandas as pd"
   ]
  },
  {
   "cell_type": "code",
   "execution_count": 26,
   "id": "af7fa1a3",
   "metadata": {},
   "outputs": [],
   "source": [
    "data = pd.read_csv(\n",
    "  '../../01_Data/product_prices_cleaned.csv',\n",
    "  sep=';',\n",
    "  encoding='UTF-8',\n",
    "  decimal='.'\n",
    ")"
   ]
  },
  {
   "cell_type": "code",
   "execution_count": 27,
   "id": "85069d8b",
   "metadata": {},
   "outputs": [],
   "source": [
    "data['date'] = pd.to_datetime(data['date'])"
   ]
  },
  {
   "cell_type": "code",
   "execution_count": 28,
   "id": "def00af5",
   "metadata": {},
   "outputs": [],
   "source": [
    "data = data[data['province'] != 'NATIONAL']"
   ]
  },
  {
   "cell_type": "code",
   "execution_count": null,
   "id": "fb433450",
   "metadata": {},
   "outputs": [],
   "source": [
    "grouped = data.groupby(\n",
    "    [\n",
    "        'product',\n",
    "        'province',\n",
    "        pd.Grouper(key='date', freq='M')\n",
    "    ]\n",
    ")"
   ]
  },
  {
   "cell_type": "code",
   "execution_count": 30,
   "id": "ee5084ba",
   "metadata": {},
   "outputs": [],
   "source": [
    "aggregated_data = grouped['value'].agg(\n",
    "    min='min',\n",
    "    max='max',\n",
    "    median='median',\n",
    "    mean='mean',\n",
    "    std='std'\n",
    ").reset_index()"
   ]
  },
  {
   "cell_type": "code",
   "execution_count": null,
   "id": "819ecc95",
   "metadata": {},
   "outputs": [],
   "source": [
    "aggregated_data"
   ]
  },
  {
   "cell_type": "code",
   "execution_count": 32,
   "id": "1a498439",
   "metadata": {},
   "outputs": [],
   "source": [
    "aggregated_data.to_csv(\"aggregated_product_prices.csv\", index=False)"
   ]
  }
 ],
 "metadata": {
  "kernelspec": {
   "display_name": "base",
   "language": "python",
   "name": "python3"
  },
  "language_info": {
   "codemirror_mode": {
    "name": "ipython",
    "version": 3
   },
   "file_extension": ".py",
   "mimetype": "text/x-python",
   "name": "python",
   "nbconvert_exporter": "python",
   "pygments_lexer": "ipython3",
   "version": "3.12.7"
  }
 },
 "nbformat": 4,
 "nbformat_minor": 5
}
