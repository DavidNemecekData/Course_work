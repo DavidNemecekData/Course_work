{
 "cells": [
  {
   "cell_type": "markdown",
   "id": "faced-sacrifice",
   "metadata": {},
   "source": [
    "## Selection of data for analysis\n",
    "\n",
    "Answer the following questions:\n",
    "\n",
    "1. What was the average price of a carrot and pea mix per 1 kg in Poland in 2015?\n",
    "2. What was the average price of apple juice in 2016-2018 in the Masovia province?\n",
    "3. What was the average price of tomato paste in Lower Silesia Province in 2003-2015? Compared with other products does it seem reasonable to you?<br>\n",
    "\n",
    "Suggest what can be done with values equal to 0. How does this affect the results of point 3?\n",
    "\n",
    "> All the product groups needed for this task are in the **product_types** column."
   ]
  },
  {
   "cell_type": "code",
   "execution_count": 1,
   "id": "promising-decline",
   "metadata": {},
   "outputs": [],
   "source": [
    "import pandas as pd"
   ]
  },
  {
   "cell_type": "code",
   "execution_count": 2,
   "id": "5454a9ca-e790-4e1e-ac47-ee6f4cf864c1",
   "metadata": {},
   "outputs": [],
   "source": [
    "data = pd.read_csv('../../01_Data/product_prices_renamed.csv', sep=';', decimal='.')"
   ]
  },
  {
   "cell_type": "code",
   "execution_count": 3,
   "id": "41ce5b4d-47f5-49ed-815c-929ece66e846",
   "metadata": {},
   "outputs": [
    {
     "data": {
      "text/html": [
       "<div>\n",
       "<style scoped>\n",
       "    .dataframe tbody tr th:only-of-type {\n",
       "        vertical-align: middle;\n",
       "    }\n",
       "\n",
       "    .dataframe tbody tr th {\n",
       "        vertical-align: top;\n",
       "    }\n",
       "\n",
       "    .dataframe thead th {\n",
       "        text-align: right;\n",
       "    }\n",
       "</style>\n",
       "<table border=\"1\" class=\"dataframe\">\n",
       "  <thead>\n",
       "    <tr style=\"text-align: right;\">\n",
       "      <th></th>\n",
       "      <th>province</th>\n",
       "      <th>product_types</th>\n",
       "      <th>currency</th>\n",
       "      <th>product_group_id</th>\n",
       "      <th>product_line</th>\n",
       "      <th>value</th>\n",
       "      <th>date</th>\n",
       "    </tr>\n",
       "  </thead>\n",
       "  <tbody>\n",
       "    <tr>\n",
       "      <th>0</th>\n",
       "      <td>SUBCARPATHIA</td>\n",
       "      <td>NaN</td>\n",
       "      <td>PLN</td>\n",
       "      <td>2</td>\n",
       "      <td>pork ham cooked - per 1kg</td>\n",
       "      <td>21.37</td>\n",
       "      <td>2013-3</td>\n",
       "    </tr>\n",
       "    <tr>\n",
       "      <th>1</th>\n",
       "      <td>ŁÓDŹ</td>\n",
       "      <td>NaN</td>\n",
       "      <td>PLN</td>\n",
       "      <td>4</td>\n",
       "      <td>bread - per 1kg</td>\n",
       "      <td>NaN</td>\n",
       "      <td>2018-2</td>\n",
       "    </tr>\n",
       "    <tr>\n",
       "      <th>2</th>\n",
       "      <td>KUYAVIA-POMERANIA</td>\n",
       "      <td>NaN</td>\n",
       "      <td>PLN</td>\n",
       "      <td>2</td>\n",
       "      <td>barley groats sausage - per 1kg</td>\n",
       "      <td>3.55</td>\n",
       "      <td>2019-12</td>\n",
       "    </tr>\n",
       "    <tr>\n",
       "      <th>3</th>\n",
       "      <td>LOWER SILESIA</td>\n",
       "      <td>NaN</td>\n",
       "      <td>PLN</td>\n",
       "      <td>2</td>\n",
       "      <td>dressed chickens - per 1kg</td>\n",
       "      <td>6.14</td>\n",
       "      <td>2019-2</td>\n",
       "    </tr>\n",
       "    <tr>\n",
       "      <th>4</th>\n",
       "      <td>WARMIA-MASURIA</td>\n",
       "      <td>NaN</td>\n",
       "      <td>PLN</td>\n",
       "      <td>2</td>\n",
       "      <td>Italian head cheese - per 1kg</td>\n",
       "      <td>5.63</td>\n",
       "      <td>2002-3</td>\n",
       "    </tr>\n",
       "    <tr>\n",
       "      <th>...</th>\n",
       "      <td>...</td>\n",
       "      <td>...</td>\n",
       "      <td>...</td>\n",
       "      <td>...</td>\n",
       "      <td>...</td>\n",
       "      <td>...</td>\n",
       "      <td>...</td>\n",
       "    </tr>\n",
       "    <tr>\n",
       "      <th>149935</th>\n",
       "      <td>KUYAVIA-POMERANIA</td>\n",
       "      <td>NaN</td>\n",
       "      <td>PLN</td>\n",
       "      <td>2</td>\n",
       "      <td>pork  meat (raw bacon) - per 1kg</td>\n",
       "      <td>12.15</td>\n",
       "      <td>2016-11</td>\n",
       "    </tr>\n",
       "    <tr>\n",
       "      <th>149936</th>\n",
       "      <td>ŁÓDŹ</td>\n",
       "      <td>beet sugar white, bagged - per 1kg</td>\n",
       "      <td>PLN</td>\n",
       "      <td>3</td>\n",
       "      <td>NaN</td>\n",
       "      <td>0.00</td>\n",
       "      <td>2012-5</td>\n",
       "    </tr>\n",
       "    <tr>\n",
       "      <th>149937</th>\n",
       "      <td>LESSER POLAND</td>\n",
       "      <td>NaN</td>\n",
       "      <td>PLN</td>\n",
       "      <td>4</td>\n",
       "      <td>plain mixed bread (wheat-rye) - per 1kg</td>\n",
       "      <td>3.05</td>\n",
       "      <td>2008-6</td>\n",
       "    </tr>\n",
       "    <tr>\n",
       "      <th>149938</th>\n",
       "      <td>WARMIA-MASURIA</td>\n",
       "      <td>NaN</td>\n",
       "      <td>PLN</td>\n",
       "      <td>2</td>\n",
       "      <td>boneless beef (sirloin) - per 1kg</td>\n",
       "      <td>11.87</td>\n",
       "      <td>2000-11</td>\n",
       "    </tr>\n",
       "    <tr>\n",
       "      <th>149939</th>\n",
       "      <td>MASOVIA</td>\n",
       "      <td>NaN</td>\n",
       "      <td>PLN</td>\n",
       "      <td>4</td>\n",
       "      <td>Masurian barley groats - per 1kg</td>\n",
       "      <td>0.16</td>\n",
       "      <td>2005-10</td>\n",
       "    </tr>\n",
       "  </tbody>\n",
       "</table>\n",
       "<p>149940 rows × 7 columns</p>\n",
       "</div>"
      ],
      "text/plain": [
       "                 province                       product_types currency  \\\n",
       "0            SUBCARPATHIA                                 NaN      PLN   \n",
       "1                    ŁÓDŹ                                 NaN      PLN   \n",
       "2       KUYAVIA-POMERANIA                                 NaN      PLN   \n",
       "3           LOWER SILESIA                                 NaN      PLN   \n",
       "4          WARMIA-MASURIA                                 NaN      PLN   \n",
       "...                   ...                                 ...      ...   \n",
       "149935  KUYAVIA-POMERANIA                                 NaN      PLN   \n",
       "149936               ŁÓDŹ  beet sugar white, bagged - per 1kg      PLN   \n",
       "149937      LESSER POLAND                                 NaN      PLN   \n",
       "149938     WARMIA-MASURIA                                 NaN      PLN   \n",
       "149939            MASOVIA                                 NaN      PLN   \n",
       "\n",
       "        product_group_id                             product_line  value  \\\n",
       "0                      2                pork ham cooked - per 1kg  21.37   \n",
       "1                      4                          bread - per 1kg    NaN   \n",
       "2                      2          barley groats sausage - per 1kg   3.55   \n",
       "3                      2               dressed chickens - per 1kg   6.14   \n",
       "4                      2            Italian head cheese - per 1kg   5.63   \n",
       "...                  ...                                      ...    ...   \n",
       "149935                 2         pork  meat (raw bacon) - per 1kg  12.15   \n",
       "149936                 3                                      NaN   0.00   \n",
       "149937                 4  plain mixed bread (wheat-rye) - per 1kg   3.05   \n",
       "149938                 2        boneless beef (sirloin) - per 1kg  11.87   \n",
       "149939                 4         Masurian barley groats - per 1kg   0.16   \n",
       "\n",
       "           date  \n",
       "0        2013-3  \n",
       "1        2018-2  \n",
       "2       2019-12  \n",
       "3        2019-2  \n",
       "4        2002-3  \n",
       "...         ...  \n",
       "149935  2016-11  \n",
       "149936   2012-5  \n",
       "149937   2008-6  \n",
       "149938  2000-11  \n",
       "149939  2005-10  \n",
       "\n",
       "[149940 rows x 7 columns]"
      ]
     },
     "execution_count": 3,
     "metadata": {},
     "output_type": "execute_result"
    }
   ],
   "source": [
    "data"
   ]
  },
  {
   "cell_type": "code",
   "execution_count": 4,
   "id": "2575d039-ea0c-422e-93e8-c407824d8d36",
   "metadata": {},
   "outputs": [],
   "source": [
    "# Deleting wrong dates\n",
    "data = data[~data['date'].str.contains('2099-13')]\n",
    "data = data[~data['date'].str.contains('1888-0')]\n",
    "data['date'] = pd.to_datetime(data['date'])"
   ]
  },
  {
   "cell_type": "code",
   "execution_count": 5,
   "id": "6419cbcc-3537-4464-977e-c85c1eaa0d32",
   "metadata": {},
   "outputs": [],
   "source": [
    "# 1) What was the average price of a carrot and pea mix per 1 kg in Poland in 2015?"
   ]
  },
  {
   "cell_type": "code",
   "execution_count": 6,
   "id": "7065f323-867f-400f-80f4-ebc5152b98f7",
   "metadata": {},
   "outputs": [
    {
     "data": {
      "text/plain": [
       "array([nan, 'whole pickled cucumbers 0.9l - per 1pc.',\n",
       "       'fresh chichen egges - per 666pcs.',\n",
       "       '30% tomato concentrate - per 1kg',\n",
       "       'frozen carrot and pea mix - per 1kg',\n",
       "       'beet sugar white, bagged - per 1kg',\n",
       "       'apple juice, boxed - per 1l', 'white table salt bagged - per 1kg',\n",
       "       'natural chocolate plain - per 1kg'], dtype=object)"
      ]
     },
     "execution_count": 6,
     "metadata": {},
     "output_type": "execute_result"
    }
   ],
   "source": [
    "data['product_types'].unique()"
   ]
  },
  {
   "cell_type": "code",
   "execution_count": 7,
   "id": "9bb2dc7f-4484-487e-ab08-c497fdcabece",
   "metadata": {},
   "outputs": [
    {
     "data": {
      "text/plain": [
       "array(['SUBCARPATHIA', 'ŁÓDŹ', 'KUYAVIA-POMERANIA', 'LOWER SILESIA',\n",
       "       'WARMIA-MASURIA', 'HOLY CROSS', 'WEST POMERANIA', 'POLAND',\n",
       "       'PODLASKIE', 'GREATER POLAND', 'POMERANIA', 'LESSER POLAND',\n",
       "       'SILESIA', 'MASOVIA', 'LUBLIN', 'LUBUSZ', 'OPOLE'], dtype=object)"
      ]
     },
     "execution_count": 7,
     "metadata": {},
     "output_type": "execute_result"
    }
   ],
   "source": [
    "data['province'].unique()"
   ]
  },
  {
   "cell_type": "code",
   "execution_count": 8,
   "id": "7cf9a5e6-f085-4311-9eaa-0c8247f0f14c",
   "metadata": {},
   "outputs": [
    {
     "data": {
      "text/plain": [
       "0.8291164658634539"
      ]
     },
     "execution_count": 8,
     "metadata": {},
     "output_type": "execute_result"
    }
   ],
   "source": [
    "data[(data['product_types'] == 'frozen carrot and pea mix - per 1kg')\n",
    "    & (data['date'].dt.year == 2015)\n",
    "    & (data['province'] == 'POLAND')\n",
    "]['value'].mean()"
   ]
  },
  {
   "cell_type": "code",
   "execution_count": 9,
   "id": "d11b58e2-be55-464f-83db-afff52422a93",
   "metadata": {},
   "outputs": [],
   "source": [
    "# 2) What was the average price of apple juice in 2016-2018 in the Masovia province?"
   ]
  },
  {
   "cell_type": "code",
   "execution_count": 10,
   "id": "bbf6e451-eb79-48d2-9fe5-03393b5fd6da",
   "metadata": {},
   "outputs": [
    {
     "data": {
      "text/plain": [
       "2.9172222222222226"
      ]
     },
     "execution_count": 10,
     "metadata": {},
     "output_type": "execute_result"
    }
   ],
   "source": [
    "data[(data['product_types'] == 'apple juice, boxed - per 1l')\n",
    "    & (data['date'].dt.year >= 2016)\n",
    "    & (data['date'].dt.year <= 2018)\n",
    "    & (data['province'] == 'MASOVIA')\n",
    "]['value'].mean()"
   ]
  },
  {
   "cell_type": "code",
   "execution_count": 11,
   "id": "62ea8bad-3191-4c66-b9ab-b0c3910df942",
   "metadata": {},
   "outputs": [],
   "source": [
    "# 3) What was the average price of tomato paste in Lower Silesia Province in 2003-2015?\n",
    "# Compared with other products does it seem reasonable to you?\n",
    "# Suggest what can be done with values equal to 0. How does this affect the results of point 3?"
   ]
  },
  {
   "cell_type": "code",
   "execution_count": 12,
   "id": "abfbadca-150e-4d65-86ad-bd32637c8244",
   "metadata": {},
   "outputs": [
    {
     "data": {
      "text/plain": [
       "19.435192307692304"
      ]
     },
     "execution_count": 12,
     "metadata": {},
     "output_type": "execute_result"
    }
   ],
   "source": [
    "data[(data['product_types'] == '30% tomato concentrate - per 1kg')\n",
    "    & (data['date'].dt.year >= 2003)\n",
    "    & (data['date'].dt.year <= 2015)\n",
    "    & (data['province'] == 'LOWER SILESIA')\n",
    "]['value'].mean()"
   ]
  },
  {
   "cell_type": "code",
   "execution_count": 13,
   "id": "97e7116f-44b6-42a0-9be8-a3a81d993cff",
   "metadata": {},
   "outputs": [
    {
     "data": {
      "text/plain": [
       "252.65750000000003"
      ]
     },
     "execution_count": 13,
     "metadata": {},
     "output_type": "execute_result"
    }
   ],
   "source": [
    "data[(data['product_types'] == '30% tomato concentrate - per 1kg')\n",
    "    & (data['date'].dt.year >= 2003)\n",
    "    & (data['date'].dt.year <= 2015)\n",
    "    & (data['province'] == 'LOWER SILESIA')\n",
    "    & (data['value']) != 0\n",
    "]['value'].mean()"
   ]
  },
  {
   "cell_type": "code",
   "execution_count": 14,
   "id": "02b5dd23-212e-4a17-84ca-8dd0d338b89e",
   "metadata": {},
   "outputs": [],
   "source": [
    "df = pd.read_csv(\n",
    "    '../../01_Data/product_prices_renamed.csv',\n",
    "  sep=';',\n",
    "  encoding='UTF-8',\n",
    "  decimal='.'\n",
    ")"
   ]
  },
  {
   "cell_type": "code",
   "execution_count": 15,
   "id": "44dce419-f7af-4b4b-94b5-b8ebf337ec34",
   "metadata": {},
   "outputs": [
    {
     "name": "stdout",
     "output_type": "stream",
     "text": [
      "<class 'pandas.core.frame.DataFrame'>\n",
      "RangeIndex: 149940 entries, 0 to 149939\n",
      "Data columns (total 7 columns):\n",
      " #   Column            Non-Null Count   Dtype  \n",
      "---  ------            --------------   -----  \n",
      " 0   province          149940 non-null  object \n",
      " 1   product_types     34272 non-null   object \n",
      " 2   currency          149940 non-null  object \n",
      " 3   product_group_id  149940 non-null  int64  \n",
      " 4   product_line      115668 non-null  object \n",
      " 5   value             137088 non-null  float64\n",
      " 6   date              149940 non-null  object \n",
      "dtypes: float64(1), int64(1), object(5)\n",
      "memory usage: 8.0+ MB\n",
      "None\n",
      "Product_types:\n",
      "[nan 'whole pickled cucumbers 0.9l - per 1pc.'\n",
      " 'fresh chichen egges - per 666pcs.' '30% tomato concentrate - per 1kg'\n",
      " 'frozen carrot and pea mix - per 1kg'\n",
      " 'beet sugar white, bagged - per 1kg' 'apple juice, boxed - per 1l'\n",
      " 'white table salt bagged - per 1kg' 'natural chocolate plain - per 1kg']\n",
      "\n",
      "Provinces:\n",
      "['SUBCARPATHIA' 'ŁÓDŹ' 'KUYAVIA-POMERANIA' 'LOWER SILESIA'\n",
      " 'WARMIA-MASURIA' 'HOLY CROSS' 'WEST POMERANIA' 'POLAND' 'PODLASKIE'\n",
      " 'GREATER POLAND' 'POMERANIA' 'LESSER POLAND' 'SILESIA' 'MASOVIA' 'LUBLIN'\n",
      " 'LUBUSZ' 'OPOLE']\n"
     ]
    }
   ],
   "source": [
    "print(df.info())\n",
    "#searching columns\n",
    "print(f\"Product_types:\\n{df['product_types'].unique()}\\n\")\n",
    "print(f\"Provinces:\\n{df['province'].unique()}\")"
   ]
  },
  {
   "cell_type": "code",
   "execution_count": 16,
   "id": "dbaecd4a-0443-4748-a126-cd71b58b0bee",
   "metadata": {},
   "outputs": [
    {
     "name": "stdout",
     "output_type": "stream",
     "text": [
      "number o rows: 68\n",
      "average value: 0.45967399007795884\n"
     ]
    },
    {
     "data": {
      "text/html": [
       "<div>\n",
       "<style scoped>\n",
       "    .dataframe tbody tr th:only-of-type {\n",
       "        vertical-align: middle;\n",
       "    }\n",
       "\n",
       "    .dataframe tbody tr th {\n",
       "        vertical-align: top;\n",
       "    }\n",
       "\n",
       "    .dataframe thead th {\n",
       "        text-align: right;\n",
       "    }\n",
       "</style>\n",
       "<table border=\"1\" class=\"dataframe\">\n",
       "  <thead>\n",
       "    <tr style=\"text-align: right;\">\n",
       "      <th></th>\n",
       "      <th>province</th>\n",
       "      <th>product_types</th>\n",
       "      <th>currency</th>\n",
       "      <th>product_group_id</th>\n",
       "      <th>product_line</th>\n",
       "      <th>value</th>\n",
       "      <th>date</th>\n",
       "    </tr>\n",
       "  </thead>\n",
       "  <tbody>\n",
       "    <tr>\n",
       "      <th>2790</th>\n",
       "      <td>WARMIA-MASURIA</td>\n",
       "      <td>frozen carrot and pea mix - per 1kg</td>\n",
       "      <td>EUR</td>\n",
       "      <td>1</td>\n",
       "      <td>NaN</td>\n",
       "      <td>0.607229</td>\n",
       "      <td>2015-12</td>\n",
       "    </tr>\n",
       "    <tr>\n",
       "      <th>6670</th>\n",
       "      <td>LOWER SILESIA</td>\n",
       "      <td>frozen carrot and pea mix - per 1kg</td>\n",
       "      <td>EUR</td>\n",
       "      <td>1</td>\n",
       "      <td>NaN</td>\n",
       "      <td>0.585542</td>\n",
       "      <td>2015-12</td>\n",
       "    </tr>\n",
       "    <tr>\n",
       "      <th>7073</th>\n",
       "      <td>MASOVIA</td>\n",
       "      <td>frozen carrot and pea mix - per 1kg</td>\n",
       "      <td>EUR</td>\n",
       "      <td>1</td>\n",
       "      <td>NaN</td>\n",
       "      <td>0.937349</td>\n",
       "      <td>2015-12</td>\n",
       "    </tr>\n",
       "    <tr>\n",
       "      <th>8542</th>\n",
       "      <td>POLAND</td>\n",
       "      <td>frozen carrot and pea mix - per 1kg</td>\n",
       "      <td>EUR</td>\n",
       "      <td>1</td>\n",
       "      <td>NaN</td>\n",
       "      <td>0.824096</td>\n",
       "      <td>2015-1</td>\n",
       "    </tr>\n",
       "    <tr>\n",
       "      <th>10810</th>\n",
       "      <td>GREATER POLAND</td>\n",
       "      <td>frozen carrot and pea mix - per 1kg</td>\n",
       "      <td>EUR</td>\n",
       "      <td>1</td>\n",
       "      <td>NaN</td>\n",
       "      <td>0.787952</td>\n",
       "      <td>2015-1</td>\n",
       "    </tr>\n",
       "    <tr>\n",
       "      <th>...</th>\n",
       "      <td>...</td>\n",
       "      <td>...</td>\n",
       "      <td>...</td>\n",
       "      <td>...</td>\n",
       "      <td>...</td>\n",
       "      <td>...</td>\n",
       "      <td>...</td>\n",
       "    </tr>\n",
       "    <tr>\n",
       "      <th>141507</th>\n",
       "      <td>LUBUSZ</td>\n",
       "      <td>frozen carrot and pea mix - per 1kg</td>\n",
       "      <td>EUR</td>\n",
       "      <td>1</td>\n",
       "      <td>NaN</td>\n",
       "      <td>0.000000</td>\n",
       "      <td>2015-12</td>\n",
       "    </tr>\n",
       "    <tr>\n",
       "      <th>142019</th>\n",
       "      <td>SILESIA</td>\n",
       "      <td>frozen carrot and pea mix - per 1kg</td>\n",
       "      <td>EUR</td>\n",
       "      <td>1</td>\n",
       "      <td>NaN</td>\n",
       "      <td>0.580723</td>\n",
       "      <td>2015-11</td>\n",
       "    </tr>\n",
       "    <tr>\n",
       "      <th>142222</th>\n",
       "      <td>LOWER SILESIA</td>\n",
       "      <td>frozen carrot and pea mix - per 1kg</td>\n",
       "      <td>EUR</td>\n",
       "      <td>1</td>\n",
       "      <td>NaN</td>\n",
       "      <td>0.000000</td>\n",
       "      <td>2015-1</td>\n",
       "    </tr>\n",
       "    <tr>\n",
       "      <th>147028</th>\n",
       "      <td>LESSER POLAND</td>\n",
       "      <td>frozen carrot and pea mix - per 1kg</td>\n",
       "      <td>EUR</td>\n",
       "      <td>1</td>\n",
       "      <td>NaN</td>\n",
       "      <td>0.845783</td>\n",
       "      <td>2015-1</td>\n",
       "    </tr>\n",
       "    <tr>\n",
       "      <th>149370</th>\n",
       "      <td>WEST POMERANIA</td>\n",
       "      <td>frozen carrot and pea mix - per 1kg</td>\n",
       "      <td>EUR</td>\n",
       "      <td>1</td>\n",
       "      <td>NaN</td>\n",
       "      <td>0.000000</td>\n",
       "      <td>2015-10</td>\n",
       "    </tr>\n",
       "  </tbody>\n",
       "</table>\n",
       "<p>68 rows × 7 columns</p>\n",
       "</div>"
      ],
      "text/plain": [
       "              province                        product_types currency  \\\n",
       "2790    WARMIA-MASURIA  frozen carrot and pea mix - per 1kg      EUR   \n",
       "6670     LOWER SILESIA  frozen carrot and pea mix - per 1kg      EUR   \n",
       "7073           MASOVIA  frozen carrot and pea mix - per 1kg      EUR   \n",
       "8542            POLAND  frozen carrot and pea mix - per 1kg      EUR   \n",
       "10810   GREATER POLAND  frozen carrot and pea mix - per 1kg      EUR   \n",
       "...                ...                                  ...      ...   \n",
       "141507          LUBUSZ  frozen carrot and pea mix - per 1kg      EUR   \n",
       "142019         SILESIA  frozen carrot and pea mix - per 1kg      EUR   \n",
       "142222   LOWER SILESIA  frozen carrot and pea mix - per 1kg      EUR   \n",
       "147028   LESSER POLAND  frozen carrot and pea mix - per 1kg      EUR   \n",
       "149370  WEST POMERANIA  frozen carrot and pea mix - per 1kg      EUR   \n",
       "\n",
       "        product_group_id product_line     value     date  \n",
       "2790                   1          NaN  0.607229  2015-12  \n",
       "6670                   1          NaN  0.585542  2015-12  \n",
       "7073                   1          NaN  0.937349  2015-12  \n",
       "8542                   1          NaN  0.824096   2015-1  \n",
       "10810                  1          NaN  0.787952   2015-1  \n",
       "...                  ...          ...       ...      ...  \n",
       "141507                 1          NaN  0.000000  2015-12  \n",
       "142019                 1          NaN  0.580723  2015-11  \n",
       "142222                 1          NaN  0.000000   2015-1  \n",
       "147028                 1          NaN  0.845783   2015-1  \n",
       "149370                 1          NaN  0.000000  2015-10  \n",
       "\n",
       "[68 rows x 7 columns]"
      ]
     },
     "execution_count": 16,
     "metadata": {},
     "output_type": "execute_result"
    }
   ],
   "source": [
    "# What was the average price of a carrot and pea mix per 1 kg in Poland in 2015?\n",
    "carrot_pea_mix = df.query(\"product_types == 'frozen carrot and pea mix - per 1kg' and date >= '2015-1' and date <= '2015-12'\")\n",
    "print(f\"number o rows: {carrot_pea_mix.shape[0]}\")\n",
    "print(f\"average value: {carrot_pea_mix['value'].mean()}\")\n",
    "carrot_pea_mix"
   ]
  },
  {
   "cell_type": "code",
   "execution_count": 17,
   "id": "91f4b466-13b7-4991-8144-9f58848108b5",
   "metadata": {},
   "outputs": [
    {
     "name": "stdout",
     "output_type": "stream",
     "text": [
      "number o rows: 28\n",
      "average value: 3.02\n"
     ]
    },
    {
     "data": {
      "text/html": [
       "<div>\n",
       "<style scoped>\n",
       "    .dataframe tbody tr th:only-of-type {\n",
       "        vertical-align: middle;\n",
       "    }\n",
       "\n",
       "    .dataframe tbody tr th {\n",
       "        vertical-align: top;\n",
       "    }\n",
       "\n",
       "    .dataframe thead th {\n",
       "        text-align: right;\n",
       "    }\n",
       "</style>\n",
       "<table border=\"1\" class=\"dataframe\">\n",
       "  <thead>\n",
       "    <tr style=\"text-align: right;\">\n",
       "      <th></th>\n",
       "      <th>province</th>\n",
       "      <th>product_types</th>\n",
       "      <th>currency</th>\n",
       "      <th>product_group_id</th>\n",
       "      <th>product_line</th>\n",
       "      <th>value</th>\n",
       "      <th>date</th>\n",
       "    </tr>\n",
       "  </thead>\n",
       "  <tbody>\n",
       "    <tr>\n",
       "      <th>8147</th>\n",
       "      <td>MASOVIA</td>\n",
       "      <td>apple juice, boxed - per 1l</td>\n",
       "      <td>PLN</td>\n",
       "      <td>1</td>\n",
       "      <td>NaN</td>\n",
       "      <td>3.06</td>\n",
       "      <td>2018-10</td>\n",
       "    </tr>\n",
       "    <tr>\n",
       "      <th>9935</th>\n",
       "      <td>MASOVIA</td>\n",
       "      <td>apple juice, boxed - per 1l</td>\n",
       "      <td>PLN</td>\n",
       "      <td>1</td>\n",
       "      <td>NaN</td>\n",
       "      <td>3.29</td>\n",
       "      <td>2017-3</td>\n",
       "    </tr>\n",
       "    <tr>\n",
       "      <th>11100</th>\n",
       "      <td>MASOVIA</td>\n",
       "      <td>apple juice, boxed - per 1l</td>\n",
       "      <td>PLN</td>\n",
       "      <td>1</td>\n",
       "      <td>NaN</td>\n",
       "      <td>2.94</td>\n",
       "      <td>2016-5</td>\n",
       "    </tr>\n",
       "    <tr>\n",
       "      <th>18729</th>\n",
       "      <td>MASOVIA</td>\n",
       "      <td>apple juice, boxed - per 1l</td>\n",
       "      <td>PLN</td>\n",
       "      <td>1</td>\n",
       "      <td>NaN</td>\n",
       "      <td>3.26</td>\n",
       "      <td>2017-10</td>\n",
       "    </tr>\n",
       "    <tr>\n",
       "      <th>24353</th>\n",
       "      <td>MASOVIA</td>\n",
       "      <td>apple juice, boxed - per 1l</td>\n",
       "      <td>PLN</td>\n",
       "      <td>1</td>\n",
       "      <td>NaN</td>\n",
       "      <td>2.92</td>\n",
       "      <td>2016-10</td>\n",
       "    </tr>\n",
       "  </tbody>\n",
       "</table>\n",
       "</div>"
      ],
      "text/plain": [
       "      province                product_types currency  product_group_id  \\\n",
       "8147   MASOVIA  apple juice, boxed - per 1l      PLN                 1   \n",
       "9935   MASOVIA  apple juice, boxed - per 1l      PLN                 1   \n",
       "11100  MASOVIA  apple juice, boxed - per 1l      PLN                 1   \n",
       "18729  MASOVIA  apple juice, boxed - per 1l      PLN                 1   \n",
       "24353  MASOVIA  apple juice, boxed - per 1l      PLN                 1   \n",
       "\n",
       "      product_line  value     date  \n",
       "8147           NaN   3.06  2018-10  \n",
       "9935           NaN   3.29   2017-3  \n",
       "11100          NaN   2.94   2016-5  \n",
       "18729          NaN   3.26  2017-10  \n",
       "24353          NaN   2.92  2016-10  "
      ]
     },
     "execution_count": 17,
     "metadata": {},
     "output_type": "execute_result"
    }
   ],
   "source": [
    "# What was the average price of apple juice in 2016-2018 in the Masovia province?\n",
    "df_apple_juice = df.loc[\n",
    "    (df['province'] == 'MASOVIA') &\n",
    "    (df['product_types'] == 'apple juice, boxed - per 1l') &\n",
    "    (df['date'] >= '2016-1') &\n",
    "    (df['date'] <= '2018-12')\n",
    "]\n",
    "print(f\"number o rows: {df_apple_juice.shape[0]}\")\n",
    "print(f\"average value: {df_apple_juice['value'].mean()}\")\n",
    "df_apple_juice.head()"
   ]
  },
  {
   "cell_type": "code",
   "execution_count": 18,
   "id": "fca699a7-feac-4dce-9fda-887e85bcbdab",
   "metadata": {},
   "outputs": [
    {
     "name": "stdout",
     "output_type": "stream",
     "text": [
      "number o rows: 148\n",
      "average value: 25.028581081081086\n"
     ]
    }
   ],
   "source": [
    "# What was the average price of tomato paste in Lower Silesia Province in 2003-2015?\n",
    "# Compared with other products does it seem reasonable to you?\n",
    "\n",
    "# with null value\n",
    "df_tomato_paste = df.loc[\n",
    "    (df['province'] == 'SILESIA') &\n",
    "    (df['product_types'] == '30% tomato concentrate - per 1kg') &\n",
    "    (df['date'] >= '2003-1') &\n",
    "    (df['date'] <= '2015-12')\n",
    "]\n",
    "print(f\"number o rows: {df_tomato_paste.shape[0]}\")\n",
    "print(f\"average value: {df_tomato_paste['value'].mean()}\")"
   ]
  },
  {
   "cell_type": "code",
   "execution_count": 19,
   "id": "8e7bba7c-d9f7-4203-8d99-dfedff7d00b2",
   "metadata": {},
   "outputs": [
    {
     "data": {
      "text/plain": [
       "array([4.96e+00, 4.76e+00, 6.07e+00, 5.84e+00, 5.47e+00, 4.49e+00,\n",
       "       0.00e+00, 1.59e+00, 6.26e+00, 6.02e+00, 5.42e+00, 6.17e+00,\n",
       "       6.12e+00, 5.61e+00, 4.33e+00, 6.21e+00, 4.93e+00, 3.05e+00,\n",
       "       5.62e+00, 4.99e+00, 6.14e+00, 5.98e+00, 6.30e+00, 6.13e+00,\n",
       "       5.80e+00, 5.02e+00, 4.88e+00, 5.29e+00, 4.26e+00, 5.03e+00,\n",
       "       5.36e+00, 1.93e+00, 5.22e+00, 2.66e+00, 6.29e+00, 4.98e+00,\n",
       "       6.04e+00, 6.16e+00, 6.24e+00, 5.96e+00, 6.20e+00, 4.17e+00,\n",
       "       5.65e+00, 2.47e+00, 5.69e+00, 5.93e+00, 5.78e+00, 5.73e+00,\n",
       "       5.72e+00, 6.53e+00, 5.66e+00, 4.79e+00, 5.21e+00, 6.03e+00,\n",
       "       5.89e+00, 4.84e+00, 6.57e+00, 3.35e+00, 5.82e+00, 5.92e+00,\n",
       "       6.43e+00, 6.18e+00, 5.01e+00, 5.83e+00, 5.59e+00, 5.94e+00,\n",
       "       3.52e+00, 5.35e+00, 5.95e+00, 6.75e+00, 5.00e+00, 6.11e+00,\n",
       "       3.24e+00, 5.85e+00, 6.15e+00, 5.74e+00, 1.60e+00, 6.01e+00,\n",
       "       5.75e+00, 5.86e+00, 5.53e+00, 5.58e+00, 5.57e+00, 5.52e+00,\n",
       "       5.16e+00, 4.62e+00, 5.60e+00, 6.23e+00, 5.28e+00, 5.15e+00,\n",
       "       5.67e+00, 5.48e+00, 5.77e+00, 5.11e+00, 2.60e-01, 5.14e+00,\n",
       "       5.19e+00, 5.09e+00, 4.81e+00, 5.88e+00, 2.70e+00, 5.64e+00,\n",
       "       4.86e+00, 1.89e+00, 5.33e+00, 6.08e+00, 4.80e-01, 3.00e+03,\n",
       "       6.33e+00, 5.43e+00, 6.32e+00, 5.76e+00, 5.90e+00, 3.85e+00,\n",
       "       1.25e+00])"
      ]
     },
     "execution_count": 19,
     "metadata": {},
     "output_type": "execute_result"
    }
   ],
   "source": [
    "# chechking null value\n",
    "df_tomato_paste['value'].unique()"
   ]
  },
  {
   "cell_type": "code",
   "execution_count": 20,
   "id": "d18e1987-9b51-447f-aaf2-7048043143a4",
   "metadata": {},
   "outputs": [
    {
     "data": {
      "text/plain": [
       "13"
      ]
     },
     "execution_count": 20,
     "metadata": {},
     "output_type": "execute_result"
    }
   ],
   "source": [
    "# number of null value\n",
    "len(df_tomato_paste.query(\"value == 0\"))"
   ]
  },
  {
   "cell_type": "code",
   "execution_count": 21,
   "id": "76764005-16c9-4dd4-9e88-090bae3033be",
   "metadata": {},
   "outputs": [
    {
     "name": "stdout",
     "output_type": "stream",
     "text": [
      "number o rows: 135\n",
      "average value: 27.438740740740744\n"
     ]
    }
   ],
   "source": [
    "# without null value\n",
    "df_tomato_paste = df.loc[\n",
    "    (df['province'] == 'SILESIA') &\n",
    "    (df['product_types'] == '30% tomato concentrate - per 1kg') &\n",
    "    (df['date'] >= '2003-1') &\n",
    "    (df['date'] <= '2015-12') &\n",
    "    (df['value'] != 0)\n",
    "]\n",
    "print(f\"number o rows: {df_tomato_paste.shape[0]}\")\n",
    "print(f\"average value: {df_tomato_paste['value'].mean()}\")"
   ]
  }
 ],
 "metadata": {
  "kernelspec": {
   "display_name": "base",
   "language": "python",
   "name": "python3"
  },
  "language_info": {
   "codemirror_mode": {
    "name": "ipython",
    "version": 3
   },
   "file_extension": ".py",
   "mimetype": "text/x-python",
   "name": "python",
   "nbconvert_exporter": "python",
   "pygments_lexer": "ipython3",
   "version": "3.12.7"
  }
 },
 "nbformat": 4,
 "nbformat_minor": 5
}
