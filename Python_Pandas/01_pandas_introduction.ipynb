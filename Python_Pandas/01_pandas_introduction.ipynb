{
 "cells": [
  {
   "cell_type": "markdown",
   "metadata": {},
   "source": [
    "# Exercise\n",
    "Read the file: `product_prices.csv` (separator ';', decimal separator '.') and do the following exercises:\n",
    "\n",
    "1. Using the `columns` method modify the names of columns to be: `'province', 'product_types', 'currency', 'group_id', 'product_line', 'value', 'date'`<br>\n",
    "1. Determine the following positional statistics: mean, standard deviation, percentiles: 0, 10%, 20%, 30%, 40%, 50%, 60%, 70%, 80%, 90%, 100%.<br>Do the exercise **in two versions**: using dedicated functions and `describe`.\n",
    "1. Do you agree with this way of generating these values? Why?\n"
   ]
  },
  {
   "cell_type": "code",
   "execution_count": 12,
   "metadata": {},
   "outputs": [],
   "source": [
    "import pandas as pd"
   ]
  },
  {
   "cell_type": "code",
   "execution_count": 16,
   "metadata": {},
   "outputs": [],
   "source": [
    "# Reading the csv file\n",
    "df_raw = pd.read_csv(\n",
    "                    r'C:\\Users\\Němeček\\CodersLab-Course-Python-Data-Analysis\\4_Pandas\\01_Data\\product_prices.csv',\n",
    "                    sep=';',\n",
    "                    decimal='.'\n",
    "    \n",
    ")"
   ]
  },
  {
   "cell_type": "code",
   "execution_count": 24,
   "metadata": {},
   "outputs": [
    {
     "name": "stdout",
     "output_type": "stream",
     "text": [
      "<class 'pandas.core.frame.DataFrame'>\n",
      "RangeIndex: 149940 entries, 0 to 149939\n",
      "Data columns (total 7 columns):\n",
      " #   Column            Non-Null Count   Dtype  \n",
      "---  ------            --------------   -----  \n",
      " 0   Name              149940 non-null  object \n",
      " 1   Goods types       34272 non-null   object \n",
      " 2   Measurement unit  149940 non-null  object \n",
      " 3   Group ID          149940 non-null  int64  \n",
      " 4   Product types     115668 non-null  object \n",
      " 5   Value             137088 non-null  float64\n",
      " 6   Date              149940 non-null  object \n",
      "dtypes: float64(1), int64(1), object(5)\n",
      "memory usage: 8.0+ MB\n"
     ]
    },
    {
     "data": {
      "text/html": [
       "<div>\n",
       "<style scoped>\n",
       "    .dataframe tbody tr th:only-of-type {\n",
       "        vertical-align: middle;\n",
       "    }\n",
       "\n",
       "    .dataframe tbody tr th {\n",
       "        vertical-align: top;\n",
       "    }\n",
       "\n",
       "    .dataframe thead th {\n",
       "        text-align: right;\n",
       "    }\n",
       "</style>\n",
       "<table border=\"1\" class=\"dataframe\">\n",
       "  <thead>\n",
       "    <tr style=\"text-align: right;\">\n",
       "      <th></th>\n",
       "      <th>Name</th>\n",
       "      <th>Goods types</th>\n",
       "      <th>Measurement unit</th>\n",
       "      <th>Group ID</th>\n",
       "      <th>Product types</th>\n",
       "      <th>Value</th>\n",
       "      <th>Date</th>\n",
       "    </tr>\n",
       "  </thead>\n",
       "  <tbody>\n",
       "    <tr>\n",
       "      <th>0</th>\n",
       "      <td>SUBCARPATHIA</td>\n",
       "      <td>NaN</td>\n",
       "      <td>PLN</td>\n",
       "      <td>2</td>\n",
       "      <td>pork ham cooked - per 1kg</td>\n",
       "      <td>21.37</td>\n",
       "      <td>2013-3</td>\n",
       "    </tr>\n",
       "    <tr>\n",
       "      <th>1</th>\n",
       "      <td>ŁÓDŹ</td>\n",
       "      <td>NaN</td>\n",
       "      <td>PLN</td>\n",
       "      <td>4</td>\n",
       "      <td>bread - per 1kg</td>\n",
       "      <td>NaN</td>\n",
       "      <td>2018-2</td>\n",
       "    </tr>\n",
       "    <tr>\n",
       "      <th>2</th>\n",
       "      <td>KUYAVIA-POMERANIA</td>\n",
       "      <td>NaN</td>\n",
       "      <td>PLN</td>\n",
       "      <td>2</td>\n",
       "      <td>barley groats sausage - per 1kg</td>\n",
       "      <td>3.55</td>\n",
       "      <td>2019-12</td>\n",
       "    </tr>\n",
       "    <tr>\n",
       "      <th>3</th>\n",
       "      <td>LOWER SILESIA</td>\n",
       "      <td>NaN</td>\n",
       "      <td>PLN</td>\n",
       "      <td>2</td>\n",
       "      <td>dressed chickens - per 1kg</td>\n",
       "      <td>6.14</td>\n",
       "      <td>2019-2</td>\n",
       "    </tr>\n",
       "    <tr>\n",
       "      <th>4</th>\n",
       "      <td>WARMIA-MASURIA</td>\n",
       "      <td>NaN</td>\n",
       "      <td>PLN</td>\n",
       "      <td>2</td>\n",
       "      <td>Italian head cheese - per 1kg</td>\n",
       "      <td>5.63</td>\n",
       "      <td>2002-3</td>\n",
       "    </tr>\n",
       "    <tr>\n",
       "      <th>5</th>\n",
       "      <td>HOLY CROSS</td>\n",
       "      <td>whole pickled cucumbers 0.9l - per 1pc.</td>\n",
       "      <td>PLN</td>\n",
       "      <td>1</td>\n",
       "      <td>NaN</td>\n",
       "      <td>0.28</td>\n",
       "      <td>2010-4</td>\n",
       "    </tr>\n",
       "    <tr>\n",
       "      <th>6</th>\n",
       "      <td>WEST POMERANIA</td>\n",
       "      <td>fresh chichen egges - per 666pcs.</td>\n",
       "      <td>PLN</td>\n",
       "      <td>3</td>\n",
       "      <td>NaN</td>\n",
       "      <td>0.00</td>\n",
       "      <td>2004-12</td>\n",
       "    </tr>\n",
       "    <tr>\n",
       "      <th>7</th>\n",
       "      <td>POLAND</td>\n",
       "      <td>NaN</td>\n",
       "      <td>PLN</td>\n",
       "      <td>2</td>\n",
       "      <td>pork belly cooked - per 1kg</td>\n",
       "      <td>19.62</td>\n",
       "      <td>2017-3</td>\n",
       "    </tr>\n",
       "    <tr>\n",
       "      <th>8</th>\n",
       "      <td>KUYAVIA-POMERANIA</td>\n",
       "      <td>NaN</td>\n",
       "      <td>PLN</td>\n",
       "      <td>2</td>\n",
       "      <td>pork  with bone (center-cut pork chop) - per 1kg</td>\n",
       "      <td>11.19</td>\n",
       "      <td>1999-4</td>\n",
       "    </tr>\n",
       "    <tr>\n",
       "      <th>9</th>\n",
       "      <td>PODLASKIE</td>\n",
       "      <td>NaN</td>\n",
       "      <td>PLN</td>\n",
       "      <td>4</td>\n",
       "      <td>plain mixed bread (wheat-rye) - per 1kg</td>\n",
       "      <td>3.86</td>\n",
       "      <td>2017-7</td>\n",
       "    </tr>\n",
       "  </tbody>\n",
       "</table>\n",
       "</div>"
      ],
      "text/plain": [
       "                Name                              Goods types  \\\n",
       "0       SUBCARPATHIA                                      NaN   \n",
       "1               ŁÓDŹ                                      NaN   \n",
       "2  KUYAVIA-POMERANIA                                      NaN   \n",
       "3      LOWER SILESIA                                      NaN   \n",
       "4     WARMIA-MASURIA                                      NaN   \n",
       "5         HOLY CROSS  whole pickled cucumbers 0.9l - per 1pc.   \n",
       "6     WEST POMERANIA        fresh chichen egges - per 666pcs.   \n",
       "7             POLAND                                      NaN   \n",
       "8  KUYAVIA-POMERANIA                                      NaN   \n",
       "9          PODLASKIE                                      NaN   \n",
       "\n",
       "  Measurement unit  Group ID  \\\n",
       "0              PLN         2   \n",
       "1              PLN         4   \n",
       "2              PLN         2   \n",
       "3              PLN         2   \n",
       "4              PLN         2   \n",
       "5              PLN         1   \n",
       "6              PLN         3   \n",
       "7              PLN         2   \n",
       "8              PLN         2   \n",
       "9              PLN         4   \n",
       "\n",
       "                                      Product types  Value     Date  \n",
       "0                         pork ham cooked - per 1kg  21.37   2013-3  \n",
       "1                                   bread - per 1kg    NaN   2018-2  \n",
       "2                   barley groats sausage - per 1kg   3.55  2019-12  \n",
       "3                        dressed chickens - per 1kg   6.14   2019-2  \n",
       "4                     Italian head cheese - per 1kg   5.63   2002-3  \n",
       "5                                               NaN   0.28   2010-4  \n",
       "6                                               NaN   0.00  2004-12  \n",
       "7                       pork belly cooked - per 1kg  19.62   2017-3  \n",
       "8  pork  with bone (center-cut pork chop) - per 1kg  11.19   1999-4  \n",
       "9           plain mixed bread (wheat-rye) - per 1kg   3.86   2017-7  "
      ]
     },
     "execution_count": 24,
     "metadata": {},
     "output_type": "execute_result"
    }
   ],
   "source": [
    "# Basic information\n",
    "df_raw.info() # summary table\n",
    "\n",
    "df_raw.head(10) # data preview"
   ]
  },
  {
   "cell_type": "code",
   "execution_count": 25,
   "metadata": {},
   "outputs": [],
   "source": [
    "# change the column names\n",
    "df_raw.columns = ['province', 'product_types', 'currency', 'group_id', 'product_line', 'value', 'date']"
   ]
  },
  {
   "cell_type": "code",
   "execution_count": 28,
   "metadata": {},
   "outputs": [
    {
     "data": {
      "text/plain": [
       "Index(['province', 'product_types', 'currency', 'group_id', 'product_line',\n",
       "       'value', 'date'],\n",
       "      dtype='object')"
      ]
     },
     "execution_count": 28,
     "metadata": {},
     "output_type": "execute_result"
    }
   ],
   "source": [
    "# checking column name changes\n",
    "df_raw.columns"
   ]
  },
  {
   "cell_type": "code",
   "execution_count": 34,
   "metadata": {},
   "outputs": [
    {
     "data": {
      "text/plain": [
       "6.615226740294512"
      ]
     },
     "execution_count": 34,
     "metadata": {},
     "output_type": "execute_result"
    }
   ],
   "source": [
    "# statistics - mean, standard deviation, percentiles: 0, 10%, 20%, 30%, 40%, 50%, 60%, 70%, 80%, 90%, 100%.\n",
    "# value - mean\n",
    "df_raw['value'].mean()"
   ]
  },
  {
   "cell_type": "code",
   "execution_count": 35,
   "metadata": {},
   "outputs": [
    {
     "data": {
      "text/plain": [
       "34.112858158207565"
      ]
     },
     "execution_count": 35,
     "metadata": {},
     "output_type": "execute_result"
    }
   ],
   "source": [
    "# value - standard deviation\n",
    "df_raw['value'].std()"
   ]
  },
  {
   "cell_type": "code",
   "execution_count": 37,
   "metadata": {},
   "outputs": [
    {
     "data": {
      "text/plain": [
       "0.0       0.00\n",
       "0.1       0.00\n",
       "0.2       0.00\n",
       "0.3       0.28\n",
       "0.4       1.55\n",
       "0.5       3.09\n",
       "0.6       5.75\n",
       "0.7       9.16\n",
       "0.8      12.73\n",
       "0.9      17.19\n",
       "1.0    3000.00\n",
       "Name: value, dtype: float64"
      ]
     },
     "execution_count": 37,
     "metadata": {},
     "output_type": "execute_result"
    }
   ],
   "source": [
    "# value - percentiles\n",
    "df_raw['value'].quantile([0, 0.1, 0.2, 0.3, 0.4, 0.5, 0.6, 0.7, 0.8, 0.9, 1])"
   ]
  },
  {
   "cell_type": "code",
   "execution_count": 39,
   "metadata": {},
   "outputs": [
    {
     "data": {
      "text/plain": [
       "count    137088.000000\n",
       "mean          6.615227\n",
       "std          34.112858\n",
       "min           0.000000\n",
       "0%            0.000000\n",
       "10%           0.000000\n",
       "20%           0.000000\n",
       "30%           0.280000\n",
       "40%           1.550000\n",
       "50%           3.090000\n",
       "60%           5.750000\n",
       "70%           9.160000\n",
       "80%          12.730000\n",
       "90%          17.190000\n",
       "100%       3000.000000\n",
       "max        3000.000000\n",
       "Name: value, dtype: float64"
      ]
     },
     "execution_count": 39,
     "metadata": {},
     "output_type": "execute_result"
    }
   ],
   "source": [
    "# value - statistics by describe method\n",
    "df_raw['value'].describe([0, 0.1, 0.2, 0.3, 0.4, 0.5, 0.6, 0.7, 0.8, 0.9, 1])"
   ]
  }
 ],
 "metadata": {
  "kernelspec": {
   "display_name": "Python 3 (ipykernel)",
   "language": "python",
   "name": "python3"
  },
  "language_info": {
   "codemirror_mode": {
    "name": "ipython",
    "version": 3
   },
   "file_extension": ".py",
   "mimetype": "text/x-python",
   "name": "python",
   "nbconvert_exporter": "python",
   "pygments_lexer": "ipython3",
   "version": "3.12.4"
  }
 },
 "nbformat": 4,
 "nbformat_minor": 4
}
