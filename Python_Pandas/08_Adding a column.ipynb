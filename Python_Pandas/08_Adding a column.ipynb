{
 "cells": [
  {
   "cell_type": "markdown",
   "id": "ready-craft",
   "metadata": {},
   "source": [
    "# Adding a column\n",
    "\n",
    "Following on the solution of the previous exercise, create a new column: **product** using **product_types** and **product_line**:\n",
    "\n",
    "1. check that the **product_types** and **product_line** columns are complementary (an empty value in one column entails a non-empty value in the other).\n",
    "1. create a new column: **product** using the values from the **product_types** column e.g. `df['product'] = df['product_types']`.\n",
    "1. find non-empty values in the **product_line** column and enter them into the **product** column,\n",
    "1. use a method of your choice to check if all values in the **product** column are non-empty.\n",
    "1. remove duplicates from the table.\n",
    "1. using the `to_csv` method save the data (we are going to use it later in the course), set separator=';' and `index=False`.<br>\n",
    "Save the file as `product_prices_cleaned.csv`\n",
    "\n",
    "The `read_csv` method is one of many that can be used to save a `DataFrame` as a **csv** file. Within the scope of this exercise we are interested in the following parameters.\n",
    "- `sep`- row separator (default ','),\n",
    "- `index`- is the index (row number by default) of the table to be saved as well (default: `True`).\n",
    "\n",
    "Sample call:\n",
    "```\n",
    "df.to_csv(\n",
    "    'filepath',\n",
    "    sep=';', # separator setting    index=False\n",
    ")\n",
    "```"
   ]
  },
  {
   "cell_type": "code",
   "execution_count": 1,
   "id": "raised-writer",
   "metadata": {},
   "outputs": [],
   "source": [
    "import pandas as pd"
   ]
  },
  {
   "cell_type": "code",
   "execution_count": 2,
   "id": "aee846ee-1539-498c-80ff-b7fd0df779cc",
   "metadata": {},
   "outputs": [],
   "source": [
    "df = pd.read_csv(\n",
    "  '../../01_Data/product_prices_renamed.csv',\n",
    "  sep=';',\n",
    "  encoding='UTF-8',\n",
    "  decimal='.'\n",
    ")"
   ]
  },
  {
   "cell_type": "code",
   "execution_count": 3,
   "id": "5fa5e8c9-215e-4291-a656-eaeefab9a77f",
   "metadata": {},
   "outputs": [],
   "source": [
    "df.loc[df[\"date\"] == \"1888-0\", \"date\"] = \"1999-1\"\n",
    "df.loc[df[\"date\"] == \"2099-13\", \"date\"] = \"2019-1\""
   ]
  },
  {
   "cell_type": "code",
   "execution_count": 4,
   "id": "fe2f2f57-7e34-4329-9491-07b227668edd",
   "metadata": {},
   "outputs": [],
   "source": [
    "df.loc[df[\"currency\"] == \"EUR\", \"value\"] = df[\"value\"] * 4.15"
   ]
  },
  {
   "cell_type": "code",
   "execution_count": 5,
   "id": "47f1be3a-0559-4711-954b-c44088d81de6",
   "metadata": {},
   "outputs": [],
   "source": [
    "df.loc[df[\"currency\"] == \"EUR\", \"currency\"] = \"PLN\""
   ]
  },
  {
   "cell_type": "code",
   "execution_count": 6,
   "id": "e7be10a8-03ef-4801-84bb-253b2dd75f20",
   "metadata": {},
   "outputs": [],
   "source": [
    "df = df[~(df[\"value\"] == 3000)]"
   ]
  },
  {
   "cell_type": "code",
   "execution_count": null,
   "id": "abc24e6c-4245-4769-a463-970b5963f346",
   "metadata": {},
   "outputs": [],
   "source": [
    "df"
   ]
  },
  {
   "cell_type": "code",
   "execution_count": 8,
   "id": "48e700e0-fd71-4481-9b03-36f0519c20fd",
   "metadata": {},
   "outputs": [],
   "source": [
    "complementary = ((df['product_types'].isnull() & df['product_line'].notnull()) |\n",
    "                 (df['product_types'].notnull() & df['product_line'].isnull()))"
   ]
  },
  {
   "cell_type": "code",
   "execution_count": 9,
   "id": "2bb89b42-f654-48b6-b07f-a1fc28fd8028",
   "metadata": {},
   "outputs": [],
   "source": [
    "df['product'] = df['product_types']"
   ]
  },
  {
   "cell_type": "code",
   "execution_count": null,
   "id": "ed14fa47-4310-43a1-8b2b-72355734fd95",
   "metadata": {},
   "outputs": [],
   "source": [
    "df['product'].fillna(df['product_line'], inplace=True)"
   ]
  },
  {
   "cell_type": "code",
   "execution_count": null,
   "id": "1db55e1b-bfe1-4ddf-8e41-1cb30298f820",
   "metadata": {},
   "outputs": [],
   "source": [
    "df"
   ]
  },
  {
   "cell_type": "code",
   "execution_count": null,
   "id": "97159e43-1808-4fc8-b020-3a867808aac9",
   "metadata": {},
   "outputs": [],
   "source": [
    "if df['product'].isnull().any():\n",
    "    print(\"There are empty values in the 'product' column\")\n",
    "else:\n",
    "    print(\"All values in the 'product' column are non-empty.\")"
   ]
  },
  {
   "cell_type": "code",
   "execution_count": 13,
   "id": "42ab98d4-c49b-48b8-b407-7e5da3737a48",
   "metadata": {},
   "outputs": [],
   "source": [
    "df.drop_duplicates(inplace=True)"
   ]
  },
  {
   "cell_type": "code",
   "execution_count": 14,
   "id": "4b3ce5ae-da9a-41e1-b66c-1fa3d529a0c5",
   "metadata": {},
   "outputs": [],
   "source": [
    "df.to_csv('product_prices_cleaned.csv', sep=';', index=False)"
   ]
  },
  {
   "cell_type": "code",
   "execution_count": null,
   "id": "c9503479-f740-49b6-b035-299c5205b8b6",
   "metadata": {},
   "outputs": [],
   "source": [
    "df"
   ]
  }
 ],
 "metadata": {
  "kernelspec": {
   "display_name": "base",
   "language": "python",
   "name": "python3"
  },
  "language_info": {
   "codemirror_mode": {
    "name": "ipython",
    "version": 3
   },
   "file_extension": ".py",
   "mimetype": "text/x-python",
   "name": "python",
   "nbconvert_exporter": "python",
   "pygments_lexer": "ipython3",
   "version": "3.12.7"
  }
 },
 "nbformat": 4,
 "nbformat_minor": 5
}
