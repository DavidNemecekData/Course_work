{
 "cells": [
  {
   "cell_type": "markdown",
   "metadata": {},
   "source": [
    "# Exercise 1\n",
    "\n",
    "Get familiar with the [/weather endpoint documentation](https://openweathermap.org/current#name).\n",
    "\n",
    "Write a `get_weather` function that takes three arguments:\n",
    "- `city` - name of the city, **required**,\n",
    "- `state` - name of the state/province, optional,\n",
    "- `country` - name of the country, optional.\n",
    "\n",
    "In the function use the API [https://openweathermap.org](openweathermap.org) to check current weather. Use all available information (`city`, `state`, `country`) in the request in such a way that the function still works if only `city` or `city` and `country` is passed.\n",
    "\n",
    "The function should return a short name of the weather: `\"Clouds\"`, `\"Rain\"`, `\"Clear\"` - read it from the JSON returned by the server.\n",
    "\n",
    "Remember to pass `appid`.\n"
   ]
  },
  {
   "cell_type": "code",
   "execution_count": 6,
   "metadata": {},
   "outputs": [],
   "source": [
    "# Write the \"get_weather\" function here\n",
    "import json\n",
    "import requests"
   ]
  },
  {
   "cell_type": "code",
   "execution_count": 7,
   "metadata": {},
   "outputs": [
    {
     "name": "stdout",
     "output_type": "stream",
     "text": [
      "Clouds\n",
      "Snow\n",
      "Snow\n"
     ]
    }
   ],
   "source": [
    "def get_weather(city, state=None, country=None):\n",
    "    API_key = 'hidden'\n",
    "    \n",
    "    if state and country:\n",
    "        api_address = f\"https://api.openweathermap.org/data/2.5/weather?q={city},{state},{country}&appid={API_key}\"\n",
    "    elif state:\n",
    "        api_address = f\"https://api.openweathermap.org/data/2.5/weather?q={city},{state}&appid={API_key}\"\n",
    "    elif country:\n",
    "        api_address = f\"https://api.openweathermap.org/data/2.5/weather?q={city},{country}&appid={API_key}\"\n",
    "    else:\n",
    "        api_address = f\"https://api.openweathermap.org/data/2.5/weather?q={city}&appid={API_key}\"\n",
    "    \n",
    "    response = requests.get(api_address)\n",
    "    \n",
    "    if response.status_code == 200:\n",
    "        weather_data = response.json()\n",
    "        weather_main = weather_data['weather'][0]['main']\n",
    "        return weather_main\n",
    "    else:\n",
    "        return \"Weather data not available\" \n",
    "\n",
    "# Example\n",
    "print(get_weather('Prague'))\n",
    "print(get_weather('Warszawa', 'Mazowieckie', 'Polska'))\n",
    "print(get_weather('Warszawa'))"
   ]
  }
 ],
 "metadata": {
  "kernelspec": {
   "display_name": "base",
   "language": "python",
   "name": "python3"
  },
  "language_info": {
   "codemirror_mode": {
    "name": "ipython",
    "version": 3
   },
   "file_extension": ".py",
   "mimetype": "text/x-python",
   "name": "python",
   "nbconvert_exporter": "python",
   "pygments_lexer": "ipython3",
   "version": "3.12.7"
  }
 },
 "nbformat": 4,
 "nbformat_minor": 4
}
