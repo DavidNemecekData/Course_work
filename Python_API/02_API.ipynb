{
 "cells": [
  {
   "cell_type": "code",
   "execution_count": 1,
   "id": "27926208-0293-4761-ac67-803a132eae77",
   "metadata": {},
   "outputs": [
    {
     "name": "stdout",
     "output_type": "stream",
     "text": [
      "EURAUD rate is currently 1.655194\n"
     ]
    }
   ],
   "source": [
    "import requests\n",
    "\n",
    "# Edit here!\n",
    "APIKEY = '863d612bb6d80c2690069c82e99aae75'\n",
    "\n",
    "response = requests.get(f'https://api.openweathermap.org/data/2.5/weather?q=London&appid={APIKEY}')\n",
    "\n",
    "response = requests.get(f'http://api.exchangeratesapi.io/latest?access_key={APIKEY}')\n",
    "\n",
    "if response.json()['success']:\n",
    "    print('EURAUD rate is currently', response.json()['rates']['AUD'])\n",
    "else:\n",
    "    print('Error:', response.json()['error']['info'])\n",
    "    "
   ]
  }
 ],
 "metadata": {
  "kernelspec": {
   "display_name": "base",
   "language": "python",
   "name": "python3"
  },
  "language_info": {
   "codemirror_mode": {
    "name": "ipython",
    "version": 3
   },
   "file_extension": ".py",
   "mimetype": "text/x-python",
   "name": "python",
   "nbconvert_exporter": "python",
   "pygments_lexer": "ipython3",
   "version": "3.12.7"
  }
 },
 "nbformat": 4,
 "nbformat_minor": 5
}
