{
 "cells": [
  {
   "cell_type": "markdown",
   "metadata": {},
   "source": [
    "# Exercise 1\n",
    "\n",
    "Using the `requests` library retrieve the current exchange rates served by the API at [http://api.nbp.pl/api/exchangerates/tables/a/](http://api.nbp.pl/api/exchangerates/tables/a/), and display them in a column like this:\n",
    "\n",
    "```\n",
    "AUD (Australian dollar): 2.8571 PLN\n",
    "USD (United States dollar): 3.8849 PLN\n",
    "```\n",
    "\n",
    "Sometimes the API can return very complicated data. In this case the endpoint returns a table. Example data (in the example we do not show all currencies):\n",
    "```\n",
    "[\n",
    "    {\n",
    "        \"effectiveDate\": \"2021-07-28\",\n",
    "        \"no\": \"144/A/NBP/2021\",\n",
    "        \"rates\": [\n",
    "            {\n",
    "                \"code\": \"THB\",\n",
    "                \"currency\": \"bat (Tajlandia)\",\n",
    "                \"mid\": 0.1182\n",
    "            },\n",
    "            {\n",
    "                \"code\": \"XDR\",\n",
    "                \"currency\": \"SDR (MFW)\",\n",
    "                \"mid\": 5.5302\n",
    "            }\n",
    "        ],\n",
    "        \"table\": \"A\"\n",
    "    }\n",
    "]\n",
    "``` \n",
    "\n",
    "To analyze the data returned from an endpoint, you can easily use the following piece of code:\n",
    "```\n",
    "import json\n",
    "import requests\n",
    "\n",
    "response = requests.get('http://api.nbp.pl/api/exchangerates/tables/a/')\n",
    "data = response.json()\n",
    "\n",
    "print(json.dumps(data, indent=4, sort_keys=True))\n",
    "```"
   ]
  },
  {
   "cell_type": "code",
   "execution_count": 2,
   "metadata": {},
   "outputs": [
    {
     "name": "stdout",
     "output_type": "stream",
     "text": [
      "THB (bat (Tajlandia)): 0.1205 PLN\n",
      "USD (dolar amerykański): 4.1512 PLN\n",
      "AUD (dolar australijski): 2.5794 PLN\n",
      "HKD (dolar Hongkongu): 0.5337 PLN\n",
      "CAD (dolar kanadyjski): 2.8849 PLN\n",
      "NZD (dolar nowozelandzki): 2.3252 PLN\n",
      "SGD (dolar singapurski): 3.0299 PLN\n",
      "EUR (euro): 4.2718 PLN\n",
      "HUF (forint (Węgry)): 0.0103 PLN\n",
      "CHF (frank szwajcarski): 4.5658 PLN\n",
      "GBP (funt szterling): 5.1498 PLN\n",
      "UAH (hrywna (Ukraina)): 0.0986 PLN\n",
      "JPY (jen (Japonia)): 0.0264 PLN\n",
      "CZK (korona czeska): 0.1697 PLN\n",
      "DKK (korona duńska): 0.5727 PLN\n",
      "ISK (korona islandzka): 0.0298 PLN\n",
      "NOK (korona norweska): 0.3644 PLN\n",
      "SEK (korona szwedzka): 0.3726 PLN\n",
      "RON (lej rumuński): 0.8588 PLN\n",
      "BGN (lew (Bułgaria)): 2.1841 PLN\n",
      "TRY (lira turecka): 0.1173 PLN\n",
      "ILS (nowy izraelski szekel): 1.1365 PLN\n",
      "CLP (peso chilijskie): 0.0041 PLN\n",
      "PHP (peso filipińskie): 0.0714 PLN\n",
      "MXN (peso meksykańskie): 0.2023 PLN\n",
      "ZAR (rand (Republika Południowej Afryki)): 0.2210 PLN\n",
      "BRL (real (Brazylia)): 0.6747 PLN\n",
      "MYR (ringgit (Malezja)): 0.9225 PLN\n",
      "IDR (rupia indonezyjska): 0.0003 PLN\n",
      "INR (rupia indyjska): 0.0484 PLN\n",
      "KRW (won południowokoreański): 0.0028 PLN\n",
      "CNY (yuan renminbi (Chiny)): 0.5672 PLN\n",
      "XDR (SDR (MFW)): 5.3801 PLN\n"
     ]
    }
   ],
   "source": [
    "import json\n",
    "import requests\n",
    "\n",
    "response = requests.get('http://api.nbp.pl/api/exchangerates/tables/a/')\n",
    "data = response.json()\n",
    "\n",
    "for rate in data[0]['rates']:\n",
    "    code = rate['code']\n",
    "    currency_name = rate['currency']\n",
    "    value = rate['mid']\n",
    "    print(f\"{code} ({currency_name}): {value:.4f} PLN\")\n",
    "    "
   ]
  }
 ],
 "metadata": {
  "kernelspec": {
   "display_name": "base",
   "language": "python",
   "name": "python3"
  },
  "language_info": {
   "codemirror_mode": {
    "name": "ipython",
    "version": 3
   },
   "file_extension": ".py",
   "mimetype": "text/x-python",
   "name": "python",
   "nbconvert_exporter": "python",
   "pygments_lexer": "ipython3",
   "version": "3.12.7"
  }
 },
 "nbformat": 4,
 "nbformat_minor": 4
}
