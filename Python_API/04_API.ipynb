{
 "cells": [
  {
   "cell_type": "markdown",
   "metadata": {},
   "source": [
    "# Exercise 2\n",
    "\n",
    "With the `input(...)` function ask the user what currency exchange rate they are interested in.\n",
    "\n",
    "Using the `requests` library retrieve the exchange rate served by the API at [http://api.nbp.pl/api/exchangerates/rates/a/chf/](http://api.nbp.pl/api/exchangerates/rates/a/INPUT_CURRENCY/), and display it as:\n",
    "\n",
    "```\n",
    "SYMBOL (full name): ??? PLN\n",
    "```"
   ]
  },
  {
   "cell_type": "code",
   "execution_count": 2,
   "metadata": {},
   "outputs": [
    {
     "name": "stdout",
     "output_type": "stream",
     "text": [
      "EUR (euro): 4.2718 PLN\n"
     ]
    }
   ],
   "source": [
    "import json\n",
    "import requests\n",
    "\n",
    "currency_user = input('Put your currency: ')\n",
    "\n",
    "response = requests.get(f'http://api.nbp.pl/api/exchangerates/rates/a/{currency_user}/')\n",
    "\n",
    "if response.status_code == 200:\n",
    "    data = response.json()\n",
    "    \n",
    "    rate = data['rates'][0]['mid']\n",
    "    symbol = data['code']\n",
    "    currency_name = data['currency']\n",
    "    \n",
    "    print(f\"{symbol} ({currency_name}): {rate:.4f} PLN\")\n",
    "else:\n",
    "    print(\"Error: Invalid currency code or request failed.\")"
   ]
  }
 ],
 "metadata": {
  "kernelspec": {
   "display_name": "base",
   "language": "python",
   "name": "python3"
  },
  "language_info": {
   "codemirror_mode": {
    "name": "ipython",
    "version": 3
   },
   "file_extension": ".py",
   "mimetype": "text/x-python",
   "name": "python",
   "nbconvert_exporter": "python",
   "pygments_lexer": "ipython3",
   "version": "3.12.7"
  }
 },
 "nbformat": 4,
 "nbformat_minor": 4
}
