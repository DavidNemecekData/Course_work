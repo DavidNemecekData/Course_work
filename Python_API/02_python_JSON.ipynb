{
 "cells": [
  {
   "cell_type": "markdown",
   "metadata": {},
   "source": [
    "# Exercise 2\n",
    "\n",
    "Open the `todo.json` file and get familiar with its format and content. Then in three separate Jupyter cells write:\n",
    "\n",
    "**1.** The code that displays the content of the file using the `print` function, formatted as:\n",
    "```\n",
    "<NAME GIVEN BY USER, your mission for today is to <TASK #1>\n",
    "<NAME GIVEN BY USER, your mission for today is to <TASK #2>\n",
    "...\n",
    "```\n",
    "\n",
    "For the given example it will be:\n",
    "```\n",
    "John, your mission for today is to buy breadJohn, your mission for today is to buy butter```\n",
    "\n",
    "**2.** The code that asks user for their name (using  `input` function), and then creates a `todo.json` file with the content:\n",
    "```json\n",
    "{\n",
    "  \"owner\": \"<NAME GIVEN BY USER>\",\n",
    "  \"tasks\": []\n",
    "}\n",
    "```\n",
    "If the file already exists, it should be overwritten.\n",
    "\n",
    "**3.** The code that asks for the description of a new task (`input` function, again), reads the current file content, and writes the new task as a string in the `\"tasks\"` list in the file. Running this Jupyter cell several times will save several tasks in the list:\n",
    "```json\n",
    "{\n",
    "  \"owner\": \"John\",  \"tasks\": [\"buy bread\", \"buy butter\", \"buy milk\", \"add oil in the Honda\"]\n",
    "}\n",
    "```\n",
    "\n",
    "If the file already exists, it should be overwritten.\n",
    "\n",
    "**You can run Jupyter cells in any order**\n"
   ]
  },
  {
   "cell_type": "code",
   "execution_count": 7,
   "metadata": {},
   "outputs": [
    {
     "name": "stdout",
     "output_type": "stream",
     "text": [
      "david, your mission for today is to clean\n"
     ]
    }
   ],
   "source": [
    "import json\n",
    "with open('todo.json') as file:\n",
    "    data = json.loads(file.read())\n",
    "\n",
    "for task in data['tasks']:\n",
    "    print(f\"{data['owner']}, your mission for today is to {task}\")"
   ]
  },
  {
   "cell_type": "code",
   "execution_count": 5,
   "metadata": {},
   "outputs": [],
   "source": [
    "user_name = input('Write your name: ')\n",
    "\n",
    "todol = {}\n",
    "todol['owner'] = user_name\n",
    "todol['tasks'] = []\n",
    "\n",
    "with open('todo.json', 'w') as file:\n",
    "    json.dump(todol, file, indent=4)"
   ]
  },
  {
   "cell_type": "code",
   "execution_count": 6,
   "metadata": {},
   "outputs": [],
   "source": [
    "new_task = input('Enter a new task: ')\n",
    "\n",
    "with open('todo.json', 'r') as file:\n",
    "    data = json.load(file)\n",
    "data['tasks'].append(new_task)\n",
    "\n",
    "with open('todo.json', 'w') as file:\n",
    "    json.dump(data, file, indent=4)"
   ]
  }
 ],
 "metadata": {
  "kernelspec": {
   "display_name": "base",
   "language": "python",
   "name": "python3"
  },
  "language_info": {
   "codemirror_mode": {
    "name": "ipython",
    "version": 3
   },
   "file_extension": ".py",
   "mimetype": "text/x-python",
   "name": "python",
   "nbconvert_exporter": "python",
   "pygments_lexer": "ipython3",
   "version": "3.12.7"
  }
 },
 "nbformat": 4,
 "nbformat_minor": 4
}
