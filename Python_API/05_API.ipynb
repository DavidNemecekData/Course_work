{
 "cells": [
  {
   "cell_type": "markdown",
   "metadata": {},
   "source": [
    "# Exercise 3\n",
    "\n",
    "Get familiar with the API documentation [boredapi](https://bored-api.appbrewery.com/). This is an API that suggests a random activity you can engage in to kill boredom. Find in it how to filter the returned activities based on the number of participants.\n",
    "\n",
    "Using the `input(...)` function, ask the user how many friends they want to meet.\n",
    "\n",
    "With the `requests` library query the API (remember about the `participants` filter), and display the suggested activity.\n",
    "\n",
    "Remember that when giving the number of people in the query, in addition to the number of friends, you need to also include the user of the script! "
   ]
  },
  {
   "cell_type": "code",
   "execution_count": null,
   "metadata": {},
   "outputs": [],
   "source": [
    "import requests\n",
    "\n",
    "# Ask the user how many friends they want to meet (add 1 to include the user)\n",
    "friends_count = int(input(\"How many friends do you want to meet? \"))\n",
    "participants = friends_count + 1  # Add 1 for the user, so the total number of participants\n",
    "\n",
    "# Send a request to the API, filtering by the number of participants\n",
    "response = requests.get(f'https://bored-api.appbrewery.com/api/activity?participants={participants}')\n",
    "\n",
    "# Check if the response was successful\n",
    "if response.status_code == 200:\n",
    "    data = response.json()\n",
    "    activity = data['activity']\n",
    "    print(f\"Suggested activity for {participants} participants: {activity}\")\n",
    "else:\n",
    "    print(\"Error fetching activities. Please try again.\")"
   ]
  }
 ],
 "metadata": {
  "kernelspec": {
   "display_name": "base",
   "language": "python",
   "name": "python3"
  },
  "language_info": {
   "codemirror_mode": {
    "name": "ipython",
    "version": 3
   },
   "file_extension": ".py",
   "mimetype": "text/x-python",
   "name": "python",
   "nbconvert_exporter": "python",
   "pygments_lexer": "ipython3",
   "version": "3.12.7"
  }
 },
 "nbformat": 4,
 "nbformat_minor": 4
}
