{
 "cells": [
  {
   "cell_type": "code",
   "execution_count": 1,
   "id": "6a87551a-93c0-46a8-bd7f-61b04e7efad7",
   "metadata": {},
   "outputs": [
    {
     "name": "stdout",
     "output_type": "stream",
     "text": [
      "Weather in London: Clear\n"
     ]
    }
   ],
   "source": [
    "import requests\n",
    "\n",
    "# Edit here!\n",
    "APIKEY = 'hidden'\n",
    "\n",
    "response = requests.get(f'https://api.openweathermap.org/data/2.5/weather?q=London&appid={APIKEY}')\n",
    "\n",
    "if response.status_code == 401:\n",
    "    print('Incorrect or inactive key: key activation takes between 10 minutes and 2 hours!')\n",
    "elif response.status_code == 200:\n",
    "    print('Weather in London:', response.json()['weather'][0]['main'])\n",
    "else:\n",
    "    print('We are not ready to handle this response code!')"
   ]
  }
 ],
 "metadata": {
  "kernelspec": {
   "display_name": "base",
   "language": "python",
   "name": "python3"
  },
  "language_info": {
   "codemirror_mode": {
    "name": "ipython",
    "version": 3
   },
   "file_extension": ".py",
   "mimetype": "text/x-python",
   "name": "python",
   "nbconvert_exporter": "python",
   "pygments_lexer": "ipython3",
   "version": "3.12.7"
  }
 },
 "nbformat": 4,
 "nbformat_minor": 5
}
