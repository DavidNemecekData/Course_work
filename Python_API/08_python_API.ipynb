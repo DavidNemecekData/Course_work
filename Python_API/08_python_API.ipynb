{
 "cells": [
  {
   "cell_type": "markdown",
   "metadata": {},
   "source": [
    "# Exercise 4\n",
    "\n",
    "## Part 1\n",
    "\n",
    "With the `input` function ask the user what currency they want the PLN to be converted to.\n",
    "\n",
    "Then ask the user for the amount they would like to convert.\n",
    "\n",
    "Assume that user input is correct. e.g. `USD`.\n",
    "\n",
    "With the `requests` library, query the current exchange rate of the input currency to `EUR`. Use the resulting rate in your calculations to convert the specified amount into the currency of your choice, and display the result in the form:\n",
    "\n",
    "Use the `round` function to give the result to two decimal places.\n",
    "\n",
    "## Part 2\n",
    "\n",
    "Test your code by specifying a currency that does not exist.\n",
    "\n",
    "Do not modify the code that asks the user and sends the request to the server. **Using nothing but the server response** decide whether you need to display the converted amount (as in part 1 of the exercise), or to inform the user that the currency they entered does not exist. **Hint:** responses to incorrect queries have a special `status_code`.\n",
    "\n",
    "E.g. if the user enters `LOL` and `1000`:\n",
    "\n",
    "```\n",
    "There is no such currency!\n",
    "```\n"
   ]
  },
  {
   "cell_type": "code",
   "execution_count": 10,
   "metadata": {},
   "outputs": [],
   "source": [
    "import requests"
   ]
  },
  {
   "cell_type": "code",
   "execution_count": 11,
   "metadata": {},
   "outputs": [],
   "source": [
    "list_of_currencies = [\n",
    "    \"AED\", \"AFN\", \"ALL\", \"AMD\", \"ANG\", \"AOA\", \"ARS\", \"AUD\", \"AWG\", \"AZN\", \"BAM\", \"BBD\", \"BDT\", \"BGN\", \n",
    "    \"BHD\", \"BND\", \"BOB\", \"BRL\", \"BSD\", \"BTN\", \"BWP\", \"BYR\", \"BZD\", \"CAD\", \"CHF\", \"CLP\", \"CNY\", \"COP\", \n",
    "    \"CRC\", \"CZK\", \"DKK\", \"DOP\", \"DZD\", \"EGP\", \"ETB\", \"EUR\", \"FJD\", \"GBP\", \"GEL\", \"GHS\", \"GMD\", \"GTQ\", \n",
    "    \"GYD\", \"HKD\", \"HNL\", \"HRK\", \"HUF\", \"IDR\", \"ILS\", \"INR\", \"ISK\", \"JEP\", \"JMD\", \"JOD\", \"JPY\", \"KES\", \n",
    "    \"KGS\", \"KHR\", \"KRW\", \"KWD\", \"KYD\", \"KZT\", \"LBP\", \"LKR\", \"LTL\", \"LVL\", \"MAD\", \"MDL\", \"MGA\", \"MKD\", \n",
    "    \"MMK\", \"MNT\", \"MOP\", \"MUR\", \"MVR\", \"MXN\", \"MYR\", \"MZN\", \"NAD\", \"NGN\", \"NIO\", \"NOK\", \"NPR\", \"NZD\", \n",
    "    \"OMR\", \"PEN\", \"PGK\", \"PHP\", \"PKR\", \"PLN\", \"PYG\", \"QAR\", \"RON\", \"RSD\", \"RUB\", \"RWF\", \"SAR\", \"SCR\", \n",
    "    \"SEK\", \"SGD\", \"STD\", \"SYP\", \"THB\", \"TND\", \"TRY\", \"TTD\", \"TWD\", \"TZS\", \"UAH\", \"UGX\", \"USD\", \"UYU\", \n",
    "    \"VEF\", \"VND\", \"VUV\", \"WST\", \"XAF\", \"XBT\", \"XCD\", \"XOF\", \"XPF\", \"ZAR\", \"ZMW\"\n",
    "]"
   ]
  },
  {
   "cell_type": "code",
   "execution_count": 15,
   "metadata": {},
   "outputs": [
    {
     "name": "stdout",
     "output_type": "stream",
     "text": [
      "100.0 EUR = 2516.53 CZK.\n"
     ]
    }
   ],
   "source": [
    "# Ask for currency and amount\n",
    "user_currency = input('Enter the currency you want to convert PLN to: ').upper()\n",
    "amount = float(input('Enter the amount you want to convert: '))\n",
    "\n",
    "# API key for the exchange rates\n",
    "API_key = '863d612bb6d80c2690069c82e99aae75'\n",
    "\n",
    "# Fetch exchange rate data\n",
    "response = requests.get(f\"https://api.exchangeratesapi.io/v1/latest?access_key={API_key}\")\n",
    "data = response.json()\n",
    "\n",
    "# Check if the response was successful\n",
    "if response.status_code == 200:\n",
    "    if user_currency in data['rates']:\n",
    "        rate_user_currency = data['rates'][user_currency]\n",
    "        converted_amount = amount * rate_user_currency\n",
    "        print(f\"{amount} EUR = {round(converted_amount, 2)} {user_currency}.\")\n",
    "    else:\n",
    "        print(\"There is no such currency!\")\n",
    "else:\n",
    "    print('Error fetching data from the server. Please try again later.')"
   ]
  }
 ],
 "metadata": {
  "kernelspec": {
   "display_name": "base",
   "language": "python",
   "name": "python3"
  },
  "language_info": {
   "codemirror_mode": {
    "name": "ipython",
    "version": 3
   },
   "file_extension": ".py",
   "mimetype": "text/x-python",
   "name": "python",
   "nbconvert_exporter": "python",
   "pygments_lexer": "ipython3",
   "version": "3.12.7"
  }
 },
 "nbformat": 4,
 "nbformat_minor": 4
}
